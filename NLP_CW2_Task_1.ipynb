{
  "nbformat": 4,
  "nbformat_minor": 0,
  "metadata": {
    "colab": {
      "provenance": [],
      "toc_visible": true,
      "mount_file_id": "17LEN96rLy13y9e32ceU_O0XiEURgcrVQ",
      "authorship_tag": "ABX9TyPYOxC0bqCwdcYqaE2h9r7X",
      "include_colab_link": true
    },
    "kernelspec": {
      "name": "python3",
      "display_name": "Python 3"
    },
    "language_info": {
      "name": "python"
    }
  },
  "cells": [
    {
      "cell_type": "markdown",
      "metadata": {
        "id": "view-in-github",
        "colab_type": "text"
      },
      "source": [
        "<a href=\"https://colab.research.google.com/github/JonasVerbickas/test-jupyter/blob/main/NLP_CW2_Task_1.ipynb\" target=\"_parent\"><img src=\"https://colab.research.google.com/assets/colab-badge.svg\" alt=\"Open In Colab\"/></a>"
      ]
    },
    {
      "cell_type": "code",
      "execution_count": 180,
      "metadata": {
        "id": "NvI835jinwKk"
      },
      "outputs": [],
      "source": [
        "import nltk\n",
        "import torch\n",
        "import os\n",
        "import re\n",
        "import collections\n",
        "import random\n",
        "from gensim.models import Word2Vec\n",
        "from matplotlib import pyplot as plt"
      ]
    },
    {
      "cell_type": "code",
      "source": [
        "nltk.download('punkt')\n",
        "nltk.download('stopwords')\n",
        "porter = nltk.PorterStemmer()"
      ],
      "metadata": {
        "colab": {
          "base_uri": "https://localhost:8080/"
        },
        "id": "x2oxf4e9pDRj",
        "outputId": "d95f4a22-71fd-4980-cffc-3887096d2766"
      },
      "execution_count": 141,
      "outputs": [
        {
          "output_type": "stream",
          "name": "stderr",
          "text": [
            "[nltk_data] Downloading package punkt to /root/nltk_data...\n",
            "[nltk_data]   Package punkt is already up-to-date!\n",
            "[nltk_data] Downloading package stopwords to /root/nltk_data...\n",
            "[nltk_data]   Package stopwords is already up-to-date!\n"
          ]
        }
      ]
    },
    {
      "cell_type": "code",
      "source": [
        "PATH_TO_REVIEWS = \"/content/drive/MyDrive/Colab Notebooks/product_reviews\""
      ],
      "metadata": {
        "id": "gqPx_Zhjn_Ws"
      },
      "execution_count": 142,
      "outputs": []
    },
    {
      "cell_type": "code",
      "source": [
        "file_contents = \"\"\n",
        "for filename in os.listdir(PATH_TO_REVIEWS):\n",
        "  # skip readme\n",
        "  if filename == 'README.txt':\n",
        "    continue\n",
        "  # append contents of other files to file_contents string\n",
        "  starting_corpus_size = len(file_contents)\n",
        "  with open(os.path.join(PATH_TO_REVIEWS, filename)) as f:\n",
        "    file_contents += f.read()\n",
        "  print(\"After appending\", filename, \"corpus sized increased to\", starting_corpus_size, \"->\", len(file_contents))"
      ],
      "metadata": {
        "id": "HxJBU3SlolFq",
        "colab": {
          "base_uri": "https://localhost:8080/"
        },
        "outputId": "28188614-e8fa-427e-8d96-0cdc1b314eba"
      },
      "execution_count": 143,
      "outputs": [
        {
          "output_type": "stream",
          "name": "stdout",
          "text": [
            "After appending Nokia_6600.txt corpus sized increased to 0 -> 56093\n",
            "After appending norton.txt corpus sized increased to 56093 -> 95013\n",
            "After appending Linksys_Router.txt corpus sized increased to 95013 -> 151947\n",
            "After appending MicroMP3.txt corpus sized increased to 151947 -> 259727\n",
            "After appending Diaper_Champ.txt corpus sized increased to 259727 -> 294831\n",
            "After appending Hitachi_router.txt corpus sized increased to 294831 -> 325078\n",
            "After appending Canon_S100.txt corpus sized increased to 325078 -> 353887\n",
            "After appending Canon_PowerShot_SD500.txt corpus sized increased to 353887 -> 378520\n",
            "After appending ipod.txt corpus sized increased to 378520 -> 436566\n"
          ]
        }
      ]
    },
    {
      "cell_type": "code",
      "source": [
        "list_of_sentences = nltk.tokenize.sent_tokenize(file_contents)\n",
        "list_of_sentences[:5]"
      ],
      "metadata": {
        "colab": {
          "base_uri": "https://localhost:8080/"
        },
        "id": "K1MNbAJnh2mL",
        "outputId": "4f060be4-30cc-459d-eae9-5c1c8965d4b3"
      },
      "execution_count": 144,
      "outputs": [
        {
          "output_type": "execute_result",
          "data": {
            "text/plain": [
              "[\"[t]\\nphone[+3][u]##I've had this beauty for nearly 2 months now and I truely love it.\",\n",
              " 'battery life[-2]##The only disappointment so far has been battery life.',\n",
              " \"battery life[-2][u]##Mine generally requires a charege every 48 hours or so and I don't really talk on it that much.\",\n",
              " '##Why is this phone so great?',\n",
              " '##Simple.']"
            ]
          },
          "metadata": {},
          "execution_count": 144
        }
      ]
    },
    {
      "cell_type": "markdown",
      "source": [
        "## 1. Preprocessing\n"
      ],
      "metadata": {
        "id": "XPQIVJVR3bgw"
      }
    },
    {
      "cell_type": "code",
      "source": [
        "# this map is from https://github.com/dipanjanS/practical-machine-learning-with-python/blob/master/bonus%20content/nlp%20proven%20approach/contractions.py\n",
        "# I found it via https://towardsdatascience.com/a-practitioners-guide-to-natural-language-processing-part-i-processing-understanding-text-9f4abfd13e72\n",
        "# removing contractions ensures more matches with stop-words and fixes the inconsitency of apostrohpes between stop-words and tokenizer\n",
        "CONTRACTION_MAP = {\n",
        "\"ain't\": \"is not\",\n",
        "\"aren't\": \"are not\",\n",
        "\"can't\": \"cannot\",\n",
        "\"can't've\": \"cannot have\",\n",
        "\"'cause\": \"because\",\n",
        "\"could've\": \"could have\",\n",
        "\"couldn't\": \"could not\",\n",
        "\"couldn't've\": \"could not have\",\n",
        "\"didn't\": \"did not\",\n",
        "\"doesn't\": \"does not\",\n",
        "\"don't\": \"do not\",\n",
        "\"hadn't\": \"had not\",\n",
        "\"hadn't've\": \"had not have\",\n",
        "\"hasn't\": \"has not\",\n",
        "\"haven't\": \"have not\",\n",
        "\"he'd\": \"he would\",\n",
        "\"he'd've\": \"he would have\",\n",
        "\"he'll\": \"he will\",\n",
        "\"he'll've\": \"he he will have\",\n",
        "\"he's\": \"he is\",\n",
        "\"how'd\": \"how did\",\n",
        "\"how'd'y\": \"how do you\",\n",
        "\"how'll\": \"how will\",\n",
        "\"how's\": \"how is\",\n",
        "\"I'd\": \"I would\",\n",
        "\"I'd've\": \"I would have\",\n",
        "\"I'll\": \"I will\",\n",
        "\"I'll've\": \"I will have\",\n",
        "\"I'm\": \"I am\",\n",
        "\"I've\": \"I have\",\n",
        "\"i'd\": \"i would\",\n",
        "\"i'd've\": \"i would have\",\n",
        "\"i'll\": \"i will\",\n",
        "\"i'll've\": \"i will have\",\n",
        "\"i'm\": \"i am\",\n",
        "\"i've\": \"i have\",\n",
        "\"isn't\": \"is not\",\n",
        "\"it'd\": \"it would\",\n",
        "\"it'd've\": \"it would have\",\n",
        "\"it'll\": \"it will\",\n",
        "\"it'll've\": \"it will have\",\n",
        "\"it's\": \"it is\",\n",
        "\"let's\": \"let us\",\n",
        "\"ma'am\": \"madam\",\n",
        "\"mayn't\": \"may not\",\n",
        "\"might've\": \"might have\",\n",
        "\"mightn't\": \"might not\",\n",
        "\"mightn't've\": \"might not have\",\n",
        "\"must've\": \"must have\",\n",
        "\"mustn't\": \"must not\",\n",
        "\"mustn't've\": \"must not have\",\n",
        "\"needn't\": \"need not\",\n",
        "\"needn't've\": \"need not have\",\n",
        "\"o'clock\": \"of the clock\",\n",
        "\"oughtn't\": \"ought not\",\n",
        "\"oughtn't've\": \"ought not have\",\n",
        "\"shan't\": \"shall not\",\n",
        "\"sha'n't\": \"shall not\",\n",
        "\"shan't've\": \"shall not have\",\n",
        "\"she'd\": \"she would\",\n",
        "\"she'd've\": \"she would have\",\n",
        "\"she'll\": \"she will\",\n",
        "\"she'll've\": \"she will have\",\n",
        "\"she's\": \"she is\",\n",
        "\"should've\": \"should have\",\n",
        "\"shouldn't\": \"should not\",\n",
        "\"shouldn't've\": \"should not have\",\n",
        "\"so've\": \"so have\",\n",
        "\"so's\": \"so as\",\n",
        "\"that'd\": \"that would\",\n",
        "\"that'd've\": \"that would have\",\n",
        "\"that's\": \"that is\",\n",
        "\"there'd\": \"there would\",\n",
        "\"there'd've\": \"there would have\",\n",
        "\"there's\": \"there is\",\n",
        "\"they'd\": \"they would\",\n",
        "\"they'd've\": \"they would have\",\n",
        "\"they'll\": \"they will\",\n",
        "\"they'll've\": \"they will have\",\n",
        "\"they're\": \"they are\",\n",
        "\"they've\": \"they have\",\n",
        "\"to've\": \"to have\",\n",
        "\"wasn't\": \"was not\",\n",
        "\"we'd\": \"we would\",\n",
        "\"we'd've\": \"we would have\",\n",
        "\"we'll\": \"we will\",\n",
        "\"we'll've\": \"we will have\",\n",
        "\"we're\": \"we are\",\n",
        "\"we've\": \"we have\",\n",
        "\"weren't\": \"were not\",\n",
        "\"what'll\": \"what will\",\n",
        "\"what'll've\": \"what will have\",\n",
        "\"what're\": \"what are\",\n",
        "\"what's\": \"what is\",\n",
        "\"what've\": \"what have\",\n",
        "\"when's\": \"when is\",\n",
        "\"when've\": \"when have\",\n",
        "\"where'd\": \"where did\",\n",
        "\"where's\": \"where is\",\n",
        "\"where've\": \"where have\",\n",
        "\"who'll\": \"who will\",\n",
        "\"who'll've\": \"who will have\",\n",
        "\"who's\": \"who is\",\n",
        "\"who've\": \"who have\",\n",
        "\"why's\": \"why is\",\n",
        "\"why've\": \"why have\",\n",
        "\"will've\": \"will have\",\n",
        "\"won't\": \"will not\",\n",
        "\"won't've\": \"will not have\",\n",
        "\"would've\": \"would have\",\n",
        "\"wouldn't\": \"would not\",\n",
        "\"wouldn't've\": \"would not have\",\n",
        "\"y'all\": \"you all\",\n",
        "\"y'all'd\": \"you all would\",\n",
        "\"y'all'd've\": \"you all would have\",\n",
        "\"y'all're\": \"you all are\",\n",
        "\"y'all've\": \"you all have\",\n",
        "\"you'd\": \"you would\",\n",
        "\"you'd've\": \"you would have\",\n",
        "\"you'll\": \"you will\",\n",
        "\"you'll've\": \"you will have\",\n",
        "\"you're\": \"you are\",\n",
        "\"you've\": \"you have\"\n",
        "}\n",
        "# this will remove apostrophes and solve the issue of inconsistency between tokenization and stop-words\n",
        "def expandContractions(text):\n",
        "  \"\"\"\n",
        "  This function will iterate through the whole list of contractions\n",
        "  and replace all contracted forms in the given text with the full-length versions\n",
        "  \"\"\"\n",
        "  for k, v in CONTRACTION_MAP.items():\n",
        "    text = text.replace(k, v)\n",
        "  return text"
      ],
      "metadata": {
        "id": "UURHDo2O7fjM"
      },
      "execution_count": 145,
      "outputs": []
    },
    {
      "cell_type": "code",
      "source": [
        "def textPreprocessing(list_of_sentences):\n",
        "  output = []\n",
        "  for text_as_string in list_of_sentences:\n",
        "    processed_sentence = []\n",
        "    case_folded = text_as_string.casefold()\n",
        "    folded_and_expanded_contractions = expandContractions(case_folded)\n",
        "    tokenized = nltk.tokenize.word_tokenize(folded_and_expanded_contractions)\n",
        "    for token in tokenized:\n",
        "      if token in nltk.corpus.stopwords.words('english'):\n",
        "        continue\n",
        "      # if token doesn't contain alphanumeric characters\n",
        "      if re.match('^\\W+$', token):\n",
        "        continue\n",
        "      # if token is encodes semantic information\n",
        "      if re.match('^[+-]\\d$', token):\n",
        "        continue\n",
        "      stemmed = porter.stem(token)\n",
        "      processed_sentence.append(stemmed)\n",
        "    output.append(processed_sentence)\n",
        "  return output"
      ],
      "metadata": {
        "id": "3QFP7EDPwif2"
      },
      "execution_count": 146,
      "outputs": []
    },
    {
      "cell_type": "code",
      "source": [
        "tokenized_and_preprocessed = textPreprocessing(list_of_sentences)\n",
        "tokenized_and_preprocessed[:5]"
      ],
      "metadata": {
        "colab": {
          "base_uri": "https://localhost:8080/"
        },
        "id": "HhnXHvIprKnb",
        "outputId": "6c665e6e-1f55-4b90-d1f3-9b503c67f8de"
      },
      "execution_count": 147,
      "outputs": [
        {
          "output_type": "execute_result",
          "data": {
            "text/plain": [
              "[['phone', 'u', 'beauti', 'nearli', '2', 'month', 'trueli', 'love'],\n",
              " ['batteri', 'life', 'disappoint', 'far', 'batteri', 'life'],\n",
              " ['batteri',\n",
              "  'life',\n",
              "  'u',\n",
              "  'mine',\n",
              "  'gener',\n",
              "  'requir',\n",
              "  'chareg',\n",
              "  'everi',\n",
              "  '48',\n",
              "  'hour',\n",
              "  'realli',\n",
              "  'talk',\n",
              "  'much'],\n",
              " ['phone', 'great'],\n",
              " ['simpl']]"
            ]
          },
          "metadata": {},
          "execution_count": 147
        }
      ]
    },
    {
      "cell_type": "markdown",
      "source": [
        "## 2. Pseudowords"
      ],
      "metadata": {
        "id": "nkY5sKxy3iqs"
      }
    },
    {
      "cell_type": "code",
      "source": [
        "def getTop50Words(list_of_tokenized_sentences):\n",
        "  # unwrap the sublists\n",
        "  list_of_all_tokens = [token for sent in list_of_tokenized_sentences for token in sent]\n",
        "  top_50_tokens = collections.Counter(list_of_all_tokens).most_common()[:50]\n",
        "  # top_50_tokens has a format of ('word', number_of_occurances)\n",
        "  # in our case we only need to check if tokens match and don't need the number of occurances\n",
        "  top_50_without_freq = [t[0] for t in top_50_tokens]\n",
        "  return top_50_without_freq"
      ],
      "metadata": {
        "id": "jx4POw-7yC1U"
      },
      "execution_count": 148,
      "outputs": []
    },
    {
      "cell_type": "code",
      "source": [
        "def replaceTopWordsWithPseudo(list_of_tokenized_sentences, top_50_without_freq):\n",
        "  output = []\n",
        "  for list_of_tokenized_words in list_of_tokenized_sentences:\n",
        "    pseudoworded_sentence = []\n",
        "    for token in list_of_tokenized_words:\n",
        "      if token not in top_50_without_freq:\n",
        "        continue\n",
        "      # reverse 50% of occurances\n",
        "      if random.uniform(0, 1) > 0.5:\n",
        "        pseudoworded_sentence.append(token[::-1])\n",
        "      else:\n",
        "        pseudoworded_sentence.append(token)\n",
        "    if len(pseudoworded_sentence) > 0:\n",
        "      output.append(pseudoworded_sentence)\n",
        "  return output\n",
        "      "
      ],
      "metadata": {
        "id": "OAy8YHjx4F8z"
      },
      "execution_count": 149,
      "outputs": []
    },
    {
      "cell_type": "code",
      "source": [
        "top_50_words = getTop50Words(tokenized_and_preprocessed)\n",
        "top_50_words"
      ],
      "metadata": {
        "colab": {
          "base_uri": "https://localhost:8080/"
        },
        "id": "5Cb70EVyy5Ap",
        "outputId": "e391923d-fd82-4c5d-848e-cedb4d63d0bc"
      },
      "execution_count": 150,
      "outputs": [
        {
          "output_type": "execute_result",
          "data": {
            "text/plain": [
              "['use',\n",
              " 'phone',\n",
              " 'u',\n",
              " 'router',\n",
              " 'one',\n",
              " 'get',\n",
              " 'ipod',\n",
              " 'camera',\n",
              " 'player',\n",
              " 'work',\n",
              " 'batteri',\n",
              " 'diaper',\n",
              " 'like',\n",
              " 'would',\n",
              " 'product',\n",
              " 'great',\n",
              " 'time',\n",
              " 'featur',\n",
              " 'problem',\n",
              " 'good',\n",
              " 'look',\n",
              " 'zen',\n",
              " 'qualiti',\n",
              " 'instal',\n",
              " 'also',\n",
              " 'sound',\n",
              " \"'s\",\n",
              " 'take',\n",
              " 'need',\n",
              " 'softwar',\n",
              " 'comput',\n",
              " 'pictur',\n",
              " 'want',\n",
              " 'realli',\n",
              " 'micro',\n",
              " 'go',\n",
              " 'well',\n",
              " 'even',\n",
              " 'thing',\n",
              " 'easi',\n",
              " 'buy',\n",
              " 'creativ',\n",
              " 'first',\n",
              " 'review',\n",
              " 'make',\n",
              " 'much',\n",
              " 'bag',\n",
              " 'size',\n",
              " 'better',\n",
              " 'champ']"
            ]
          },
          "metadata": {},
          "execution_count": 150
        }
      ]
    },
    {
      "cell_type": "code",
      "source": [
        "half_replaced_with_pseudo = replaceTopWordsWithPseudo(tokenized_and_preprocessed,\n",
        "                                                      top_50_words)\n",
        "half_replaced_with_pseudo[:5]"
      ],
      "metadata": {
        "colab": {
          "base_uri": "https://localhost:8080/"
        },
        "id": "QxuyXpj2yHKq",
        "outputId": "c7d06f74-3b31-454d-b71a-5bf144ef5a65"
      },
      "execution_count": 151,
      "outputs": [
        {
          "output_type": "execute_result",
          "data": {
            "text/plain": [
              "[['enohp', 'u'],\n",
              " ['batteri', 'irettab'],\n",
              " ['batteri', 'u', 'illaer', 'much'],\n",
              " ['enohp', 'taerg'],\n",
              " ['enohp']]"
            ]
          },
          "metadata": {},
          "execution_count": 151
        }
      ]
    },
    {
      "cell_type": "markdown",
      "source": [
        "## 3. D-dimensional vector to encode top 50"
      ],
      "metadata": {
        "id": "ECmKLC3k7fkB"
      }
    },
    {
      "cell_type": "code",
      "source": [
        "def generateWordEmbeddings(list_of_sentences):\n",
        "    w2v_model = Word2Vec(min_count=20,\n",
        "                     window=2,\n",
        "                     size=300,\n",
        "                     sample=6e-5, \n",
        "                     alpha=0.03, \n",
        "                     min_alpha=0.0007, \n",
        "                     negative=20,\n",
        "                     workers=2)\n",
        "    w2v_model.build_vocab(half_replaced_with_pseudo, progress_per=10000)\n",
        "    w2v_model.train(half_replaced_with_pseudo, total_examples=w2v_model.corpus_count, epochs=1000, report_delay=1)\n",
        "    w2v_model.init_sims(replace=True)\n",
        "    return w2v_model.wv "
      ],
      "metadata": {
        "id": "AEMswGYvFbyk"
      },
      "execution_count": 161,
      "outputs": []
    },
    {
      "cell_type": "code",
      "source": [
        "wv = generateWordEmbeddings(half_replaced_with_pseudo)"
      ],
      "metadata": {
        "id": "0nkOJF_WF_nk"
      },
      "execution_count": 162,
      "outputs": []
    },
    {
      "cell_type": "code",
      "source": [
        "matrix = [] \n",
        "for word in top_50_words:\n",
        "  matrix.append(wv[word])\n",
        "  matrix.append(wv[word[::-1]])"
      ],
      "metadata": {
        "id": "9ke3SsBAsN20"
      },
      "execution_count": 163,
      "outputs": []
    },
    {
      "cell_type": "markdown",
      "source": [
        "## 4. Apply clustering"
      ],
      "metadata": {
        "id": "zE0UFtz-2KIG"
      }
    },
    {
      "cell_type": "code",
      "source": [
        "class ClustererWrapper:\n",
        "  \"\"\"\n",
        "  Wrapper class designed to make it easier to test different clustering algorithms.\n",
        "  \"\"\"\n",
        "  def __init__(self, cluster_fn, classify_fn, matrix):\n",
        "    self.cluster_fn = cluster_fn\n",
        "    self.classify_fn = classify_fn\n",
        "    cluster_fn(matrix)\n"
      ],
      "metadata": {
        "id": "otfIC8Av4wWA"
      },
      "execution_count": 173,
      "outputs": []
    },
    {
      "cell_type": "code",
      "source": [
        "clusterer = nltk.cluster.KMeansClusterer(50, nltk.cluster.euclidean_distance, avoid_empty_clusters=True)\n",
        "wrapped_clusterer = ClustererWrapper(cluster_fn=lambda matrix: clusterer.cluster(matrix, True),\n",
        "                                     classify_fn=lambda word: clusterer.classify(word),\n",
        "                                     matrix=matrix)\n"
      ],
      "metadata": {
        "id": "caYfMUHhGqds"
      },
      "execution_count": 176,
      "outputs": []
    },
    {
      "cell_type": "markdown",
      "source": [
        "## 5. Check whether word and its corresponding pseudoword are grouped together"
      ],
      "metadata": {
        "id": "AcY9PyGE2O2V"
      }
    },
    {
      "cell_type": "code",
      "source": [
        "def testClusteringAlgo(matrix, wrapped_clusterer):\n",
        "  correct_clusterings = 0\n",
        "  incorrect_clusterings = 0\n",
        "  for word in top_50_words:\n",
        "    pseudoword = word[::-1]\n",
        "    word_vector = wv[word]\n",
        "    pseudoword_vector = wv[pseudoword] \n",
        "    word_class = wrapped_clusterer.classify_fn(word_vector)\n",
        "    pseudoword_class = wrapped_clusterer.classify_fn(pseudoword_vector)\n",
        "    if word_class == pseudoword_class:\n",
        "      correct_clusterings += 1\n",
        "    else:\n",
        "      incorrect_clusterings += 1\n",
        "    \n",
        "  print(\"correct_clusterings\", correct_clusterings, \"| incorrect_clusterings\", incorrect_clusterings)\n",
        "  return correct_clusterings, incorrect_clusterings"
      ],
      "metadata": {
        "id": "JjtzNn6h4HpC"
      },
      "execution_count": 189,
      "outputs": []
    },
    {
      "cell_type": "code",
      "source": [
        "testClusteringAlgo(matrix, wrapped_clusterer)"
      ],
      "metadata": {
        "colab": {
          "base_uri": "https://localhost:8080/"
        },
        "id": "fsAZICEo0pXP",
        "outputId": "1846e0ae-5265-45da-ed93-e3f02d8eb3ca"
      },
      "execution_count": 190,
      "outputs": [
        {
          "output_type": "stream",
          "name": "stdout",
          "text": [
            "correct_clusterings 23 | incorrect_clusterings 27\n"
          ]
        },
        {
          "output_type": "execute_result",
          "data": {
            "text/plain": [
              "(23, 27)"
            ]
          },
          "metadata": {},
          "execution_count": 190
        }
      ]
    },
    {
      "cell_type": "markdown",
      "source": [
        "## 6. Run the clustering process 5-10 times"
      ],
      "metadata": {
        "id": "Hc44F4nU8Pid"
      }
    },
    {
      "cell_type": "code",
      "source": [
        "def runMultipleClusterings(number_of_runs=10):\n",
        "  accuracy_history = []\n",
        "  for run in range(number_of_runs):\n",
        "    clusterer = nltk.cluster.KMeansClusterer(50, nltk.cluster.euclidean_distance, avoid_empty_clusters=True)\n",
        "    wrapped_clusterer = ClustererWrapper(cluster_fn=lambda matrix: clusterer.cluster(matrix, True),\n",
        "                                        classify_fn=lambda word: clusterer.classify(word),\n",
        "                                        matrix=matrix)\n",
        "    correct, incorrect = testClusteringAlgo(matrix, wrapped_clusterer)\n",
        "    accuracy_history.append(correct/(correct+incorrect))\n",
        "  return accuracy_history\n"
      ],
      "metadata": {
        "id": "de44ZeAM8TU5"
      },
      "execution_count": 198,
      "outputs": []
    },
    {
      "cell_type": "code",
      "source": [
        "accuracy_hist = runMultipleClusterings(10)"
      ],
      "metadata": {
        "colab": {
          "base_uri": "https://localhost:8080/"
        },
        "id": "sXp6JdZCJc6t",
        "outputId": "384dda98-0809-483e-d0f2-0b8c1adc61d3"
      },
      "execution_count": 215,
      "outputs": [
        {
          "output_type": "stream",
          "name": "stdout",
          "text": [
            "correct_clusterings 22 | incorrect_clusterings 28\n",
            "correct_clusterings 23 | incorrect_clusterings 27\n",
            "correct_clusterings 23 | incorrect_clusterings 27\n",
            "correct_clusterings 20 | incorrect_clusterings 30\n",
            "correct_clusterings 16 | incorrect_clusterings 34\n",
            "correct_clusterings 20 | incorrect_clusterings 30\n",
            "correct_clusterings 22 | incorrect_clusterings 28\n",
            "correct_clusterings 22 | incorrect_clusterings 28\n",
            "correct_clusterings 20 | incorrect_clusterings 30\n",
            "correct_clusterings 23 | incorrect_clusterings 27\n"
          ]
        }
      ]
    },
    {
      "cell_type": "code",
      "source": [
        "plt.title(\"Accuracy histogram\")\n",
        "plt.xlabel(\"Accuracy\")\n",
        "plt.ylabel(\"Number of samples\")\n",
        "plt.hist(accuracy_hist, bins=30, range=(0, 1))\n",
        "plt.show()"
      ],
      "metadata": {
        "colab": {
          "base_uri": "https://localhost:8080/",
          "height": 295
        },
        "id": "fFoqS71bJy30",
        "outputId": "44eee6c8-2bd9-44f6-de8f-ede318ed90c7"
      },
      "execution_count": 216,
      "outputs": [
        {
          "output_type": "display_data",
          "data": {
            "text/plain": [
              "<Figure size 432x288 with 1 Axes>"
            ],
            "image/png": "[encoded data removed]"
          },
          "metadata": {
            "needs_background": "light"
          }
        }
      ]
    },
    {
      "cell_type": "code",
      "source": [],
      "metadata": {
        "id": "70DH8C0yJ42X"
      },
      "execution_count": null,
      "outputs": []
    }
  ]
}