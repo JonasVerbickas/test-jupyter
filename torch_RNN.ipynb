{
  "nbformat": 4,
  "nbformat_minor": 0,
  "metadata": {
    "colab": {
      "provenance": [],
      "mount_file_id": "19syC5mpURlHfTZyelDgELoeoubJaZ5t3",
      "authorship_tag": "ABX9TyPQJI3rjY4uPIOwwJqFErOO",
      "include_colab_link": true
    },
    "kernelspec": {
      "name": "python3",
      "display_name": "Python 3"
    },
    "language_info": {
      "name": "python"
    }
  },
  "cells": [
    {
      "cell_type": "markdown",
      "metadata": {
        "id": "view-in-github",
        "colab_type": "text"
      },
      "source": [
        "<a href=\"https://colab.research.google.com/github/JonasVerbickas/test-jupyter/blob/main/torch_RNN.ipynb\" target=\"_parent\"><img src=\"https://colab.research.google.com/assets/colab-badge.svg\" alt=\"Open In Colab\"/></a>"
      ]
    },
    {
      "cell_type": "code",
      "execution_count": 231,
      "metadata": {
        "id": "NvI835jinwKk"
      },
      "outputs": [],
      "source": [
        "import nltk\n",
        "import os\n",
        "import re\n",
        "import pandas as pd\n",
        "import collections\n",
        "import random\n",
        "import torch\n",
        "from torchtext.vocab import build_vocab_from_iterator\n",
        "from gensim.models import Word2Vec, FastText\n",
        "from matplotlib import pyplot as plt"
      ]
    },
    {
      "cell_type": "code",
      "source": [
        "USE_STEMMING_INSTEAD_OF_LEMMATIZATION = False"
      ],
      "metadata": {
        "id": "g3A_06E5RQXz"
      },
      "execution_count": 232,
      "outputs": []
    },
    {
      "cell_type": "code",
      "source": [
        "nltk.download('punkt')\n",
        "nltk.download('stopwords')\n",
        "nltk.download('averaged_perceptron_tagger')\n",
        "nltk.download('vader_lexicon')\n",
        "nltk.download('wordnet')\n",
        "nltk.download('omw-1.4')\n",
        "if USE_STEMMING_INSTEAD_OF_LEMMATIZATION:\n",
        "  token_processing_fn = nltk.PorterStemmer().stem \n",
        "else:\n",
        "  token_processing_fn = nltk.stem.WordNetLemmatizer().lemmatize\n"
      ],
      "metadata": {
        "colab": {
          "base_uri": "https://localhost:8080/"
        },
        "id": "x2oxf4e9pDRj",
        "outputId": "86bd6345-7a9d-4266-db6a-d86a93359423"
      },
      "execution_count": 233,
      "outputs": [
        {
          "output_type": "stream",
          "name": "stderr",
          "text": [
            "[nltk_data] Downloading package punkt to /root/nltk_data...\n",
            "[nltk_data]   Package punkt is already up-to-date!\n",
            "[nltk_data] Downloading package stopwords to /root/nltk_data...\n",
            "[nltk_data]   Package stopwords is already up-to-date!\n",
            "[nltk_data] Downloading package averaged_perceptron_tagger to\n",
            "[nltk_data]     /root/nltk_data...\n",
            "[nltk_data]   Package averaged_perceptron_tagger is already up-to-\n",
            "[nltk_data]       date!\n",
            "[nltk_data] Downloading package vader_lexicon to /root/nltk_data...\n",
            "[nltk_data]   Package vader_lexicon is already up-to-date!\n",
            "[nltk_data] Downloading package wordnet to /root/nltk_data...\n",
            "[nltk_data]   Package wordnet is already up-to-date!\n",
            "[nltk_data] Downloading package omw-1.4 to /root/nltk_data...\n",
            "[nltk_data]   Package omw-1.4 is already up-to-date!\n"
          ]
        }
      ]
    },
    {
      "cell_type": "code",
      "source": [
        "def create_concat_text_content_string(path_to_dataset):\n",
        "  file_contents = \"\"\n",
        "  for filename in os.listdir(path_to_dataset):\n",
        "    # skip readme\n",
        "    if filename in ['README.txt', 'ipod']:\n",
        "      continue\n",
        "    # append contents of other files to file_contents string\n",
        "    starting_corpus_size = len(file_contents)\n",
        "    with open(os.path.join(path_to_dataset, filename)) as f:\n",
        "      file_contents += f.read()\n",
        "    print(\"After appending\", filename, \"corpus sized increased to\", starting_corpus_size, \"->\", len(file_contents))\n",
        "  return file_contents"
      ],
      "metadata": {
        "id": "Clq3AOsulBaK"
      },
      "execution_count": 234,
      "outputs": []
    },
    {
      "cell_type": "code",
      "source": [
        "def removeAnnotationSymbols(sentence):\n",
        "  static_removals = ['[t]', '[u]','[p]','[s]','[cc]','[cs]']\n",
        "  for symbol in static_removals:\n",
        "    sentence = sentence.replace(symbol, '')\n",
        "  return sentence"
      ],
      "metadata": {
        "id": "oiC-3gdUmucm"
      },
      "execution_count": 235,
      "outputs": []
    },
    {
      "cell_type": "code",
      "source": [
        "def calculateSentement(unprocessed_sentence):\n",
        "  semantic_tokens = re.findall('\\[([+-]\\d)\\]', unprocessed_sentence)\n",
        "  semantic_sum = 0\n",
        "  for token in semantic_tokens:\n",
        "    semantic_sum += int(token)\n",
        "  return semantic_sum"
      ],
      "metadata": {
        "id": "ttGNmX0onMtl"
      },
      "execution_count": 236,
      "outputs": []
    },
    {
      "cell_type": "code",
      "source": [
        "def process_string_of_reviews_into_df(string_of_reviews):\n",
        "  \"\"\"\n",
        "  1. Apply casefolding\n",
        "  2. Expand contractions\n",
        "  3. Tokenize sentances\n",
        "  4. Ignore stop-words\n",
        "  5. Ignore tokens that don't contain any alphanumeric characters\n",
        "  6. Ignore sentiment analysis tokens e.g. `+3`\n",
        "  \"\"\"\n",
        "  list_of_reviews = string_of_reviews.split(\"[t]\\n\")\n",
        "  tokenized_sentence_sentiment_list = []\n",
        "  for review in list_of_reviews:\n",
        "    sentiment = 0\n",
        "    processed_review = []\n",
        "    review_split_into_lines = review.split('\\n')\n",
        "    for line in review_split_into_lines:\n",
        "      sentiment_tags, _, sentence = line.partition(\"##\")\n",
        "      sentiment += calculateSentement(sentiment_tags)\n",
        "      x = removeAnnotationSymbols(sentence)\n",
        "      x = x.casefold()\n",
        "      # processed_review = f\"{processed_review} {x}\"\n",
        "      x = nltk.tokenize.word_tokenize(x)\n",
        "      processed_review += x\n",
        "    tokenized_sentence_sentiment_list.append([review, processed_review, sentiment])\n",
        "  df = pd.DataFrame(tokenized_sentence_sentiment_list, columns=['original review','processed review','sentiment'])\n",
        "  return df\n"
      ],
      "metadata": {
        "id": "nW59XNg_mJvQ"
      },
      "execution_count": 237,
      "outputs": []
    },
    {
      "cell_type": "code",
      "source": [
        "class ReviewDataset(torch.utils.data.Dataset):\n",
        "  def __init__(self, path_to_review_folder):\n",
        "        string_of_reviews = create_concat_text_content_string(path_to_review_folder)\n",
        "        self.review_df = process_string_of_reviews_into_df(string_of_reviews)\n",
        "        set_of_all_tokens = set([token for review in self.review_df['processed review'] for token in review])\n",
        "        print(f\"{len(set_of_all_tokens)=}\")\n",
        "        print(f\"{len(set_of_all_tokens)=}\")\n",
        "        # bug\n",
        "        # self.vocab = build_vocab_from_iterator(yield_tokens(set_of_all_tokens))\n",
        "        self.vocab = build_vocab_from_iterator([set_of_all_tokens], max_tokens=len(set_of_all_tokens), specials=[\"<unk>\"])\n",
        "        print(f\"{len(self.vocab)=}\")\n",
        "        self.vocab.set_default_index(self.vocab[\"<unk>\"])\n",
        "        \n",
        "  def __len__(self):\n",
        "    return len(self.review_df)\n",
        "\n",
        "  def __getitem__(self, idx):\n",
        "    review = self.review_df.iloc[idx]\n",
        "    return self.vocab(list(review[\"processed review\"])), review['sentiment']\n"
      ],
      "metadata": {
        "id": "d3Vjvkb4kDDf"
      },
      "execution_count": 238,
      "outputs": []
    },
    {
      "cell_type": "code",
      "source": [
        "PATH_TO_REVIEWS = \"/content/drive/MyDrive/Colab Notebooks/product_reviews\"\n",
        "dataset = ReviewDataset(PATH_TO_REVIEWS)\n",
        "dataset[6]"
      ],
      "metadata": {
        "id": "gqPx_Zhjn_Ws",
        "colab": {
          "base_uri": "https://localhost:8080/"
        },
        "outputId": "79ca781a-86c6-437e-93da-53292350e9b7"
      },
      "execution_count": 239,
      "outputs": [
        {
          "output_type": "stream",
          "name": "stdout",
          "text": [
            "After appending Nokia_6600.txt corpus sized increased to 0 -> 56093\n",
            "After appending norton.txt corpus sized increased to 56093 -> 95013\n",
            "After appending Linksys_Router.txt corpus sized increased to 95013 -> 151947\n",
            "After appending MicroMP3.txt corpus sized increased to 151947 -> 259727\n",
            "After appending Diaper_Champ.txt corpus sized increased to 259727 -> 294831\n",
            "After appending Hitachi_router.txt corpus sized increased to 294831 -> 325078\n",
            "After appending Canon_S100.txt corpus sized increased to 325078 -> 353887\n",
            "After appending Canon_PowerShot_SD500.txt corpus sized increased to 353887 -> 378520\n",
            "After appending ipod.txt corpus sized increased to 378520 -> 436566\n",
            "len(set_of_all_tokens)=6569\n",
            "len(set_of_all_tokens)=6569\n",
            "len(self.vocab)=6569\n"
          ]
        },
        {
          "output_type": "execute_result",
          "data": {
            "text/plain": [
              "([1947,\n",
              "  3830,\n",
              "  2633,\n",
              "  3621,\n",
              "  6512,\n",
              "  68,\n",
              "  2956,\n",
              "  3492,\n",
              "  2599,\n",
              "  48,\n",
              "  5774,\n",
              "  638,\n",
              "  6381,\n",
              "  2092,\n",
              "  2181,\n",
              "  6542,\n",
              "  5869,\n",
              "  3826,\n",
              "  6344,\n",
              "  68,\n",
              "  2956,\n",
              "  31,\n",
              "  2677,\n",
              "  2562,\n",
              "  604,\n",
              "  2217,\n",
              "  3933,\n",
              "  4302,\n",
              "  5292,\n",
              "  5840,\n",
              "  6375,\n",
              "  4059,\n",
              "  3293,\n",
              "  638,\n",
              "  4074,\n",
              "  3014,\n",
              "  2211,\n",
              "  68,\n",
              "  3014,\n",
              "  5855,\n",
              "  1723,\n",
              "  2956,\n",
              "  31,\n",
              "  2677,\n",
              "  2562,\n",
              "  4043,\n",
              "  48,\n",
              "  3784,\n",
              "  638,\n",
              "  4547,\n",
              "  34,\n",
              "  496,\n",
              "  4800,\n",
              "  35,\n",
              "  5903,\n",
              "  5424,\n",
              "  2192,\n",
              "  28,\n",
              "  5730,\n",
              "  68,\n",
              "  3980,\n",
              "  2956,\n",
              "  23,\n",
              "  835,\n",
              "  5903,\n",
              "  3933,\n",
              "  5903,\n",
              "  6025,\n",
              "  5824,\n",
              "  364,\n",
              "  3745,\n",
              "  68],\n",
              " 0)"
            ]
          },
          "metadata": {},
          "execution_count": 239
        }
      ]
    },
    {
      "cell_type": "markdown",
      "source": [
        "# Defining the model"
      ],
      "metadata": {
        "id": "zJP-2I1psElk"
      }
    },
    {
      "cell_type": "code",
      "source": [
        "DEVICE = torch.device(\"cuda\") if torch.cuda.is_available() else torch.device(\"cpu\")\n",
        "TRAIN_PERCENTAGE = 0.8"
      ],
      "metadata": {
        "id": "4YsPWiPgsf2o"
      },
      "execution_count": 240,
      "outputs": []
    },
    {
      "cell_type": "code",
      "source": [
        "train_size = int(TRAIN_PERCENTAGE*(len(dataset)))\n",
        "val_size = len(dataset) - train_size\n",
        "train_set, val_set = torch.utils.data.random_split(dataset, [train_size, val_size])\n"
      ],
      "metadata": {
        "id": "3o3iLUjosaW2"
      },
      "execution_count": 241,
      "outputs": []
    },
    {
      "cell_type": "code",
      "source": [
        "from torch import nn\n",
        "\n",
        "class TextClassificationModel(nn.Module):\n",
        "\n",
        "    def __init__(self, vocab_size, embed_dim, num_class):\n",
        "        super(TextClassificationModel, self).__init__()\n",
        "        self.embedding = nn.EmbeddingBag(vocab_size, embed_dim, sparse=True)\n",
        "        self.fc = nn.Linear(embed_dim, num_class)\n",
        "        self.sigmoid = nn.Sigmoid()\n",
        "        self.init_weights()\n",
        "\n",
        "    def init_weights(self):\n",
        "        initrange = 0.5\n",
        "        self.embedding.weight.data.uniform_(-initrange, initrange)\n",
        "        self.fc.weight.data.uniform_(-initrange, initrange)\n",
        "        self.fc.bias.data.zero_()\n",
        "\n",
        "    def forward(self, text, offsets):\n",
        "        embedded = self.embedding(text, offsets)\n",
        "        y = self.fc(embedded)\n",
        "        return self.sigmoid(y)"
      ],
      "metadata": {
        "id": "buZXAxPJ_TG-"
      },
      "execution_count": 283,
      "outputs": []
    },
    {
      "cell_type": "code",
      "source": [
        "def collate_batch(batch):\n",
        "    label_list, text_list, offsets = [], [], [0]\n",
        "    for (_text, _label) in batch:\n",
        "         label_list.append(_label)\n",
        "         processed_text = torch.tensor(_text, dtype=torch.int64)\n",
        "         text_list.append(processed_text)\n",
        "         offsets.append(processed_text.size(0))\n",
        "    label_list = (torch.tensor(label_list, dtype=torch.int64)>0.5).float()\n",
        "    offsets = torch.tensor(offsets[:-1]).cumsum(dim=0)\n",
        "    text_list = torch.cat(text_list)\n",
        "    return label_list.to(DEVICE), text_list.to(DEVICE), offsets.to(DEVICE)"
      ],
      "metadata": {
        "id": "eEU39wmtmAfi"
      },
      "execution_count": 284,
      "outputs": []
    },
    {
      "cell_type": "code",
      "source": [
        "EPOCHS = 20 # epoch\n",
        "LR = 5e-3  # learning rate\n",
        "BATCH_SIZE = 1 # batch size for training\n",
        "vocab_size = len(dataset.vocab)\n",
        "emsize = 50 \n",
        "model = TextClassificationModel(vocab_size, emsize, 1).to(DEVICE)\n",
        "criterion = torch.nn.MSELoss()\n",
        "optimizer = torch.optim.SGD(model.parameters(), lr=LR)\n",
        "scheduler = torch.optim.lr_scheduler.StepLR(optimizer, 1.0, gamma=0.1)\n",
        "total_accu = None\n",
        "\n",
        "train_dataloader = torch.utils.data.DataLoader(train_set, batch_size=BATCH_SIZE, collate_fn=collate_batch)\n",
        "val_dataloader = torch.utils.data.DataLoader(val_set, batch_size=BATCH_SIZE, collate_fn=collate_batch)"
      ],
      "metadata": {
        "id": "pxxsGxER_dko"
      },
      "execution_count": 285,
      "outputs": []
    },
    {
      "cell_type": "code",
      "source": [
        "import time\n",
        "\n",
        "def train(dataloader):\n",
        "    model.train()\n",
        "    total_acc, total_count = 0, 0\n",
        "    log_interval = 50\n",
        "    start_time = time.time()\n",
        "\n",
        "    for idx, (label, text, offsets) in enumerate(dataloader):\n",
        "        optimizer.zero_grad()\n",
        "        predicted_label = model(text, offsets)\n",
        "        # print(f\"{predicted_label=}\")\n",
        "        loss = criterion(predicted_label, label)\n",
        "        loss.backward()\n",
        "        torch.nn.utils.clip_grad_norm_(model.parameters(), 0.1)\n",
        "        optimizer.step()\n",
        "        total_acc += ((predicted_label>0.5).float() == label).sum().item()\n",
        "        total_count += label.size(0)\n",
        "        if idx % log_interval == 0 and idx > 0:\n",
        "            elapsed = time.time() - start_time\n",
        "            print('| epoch {:3d} | {:5d}/{:5d} batches '\n",
        "                  '| accuracy {:8.3f} | loss'.format(epoch, idx, len(dataloader),\n",
        "                                              total_acc/total_count), loss)\n",
        "            total_acc, total_count = 0, 0\n",
        "            start_time = time.time()\n",
        "\n",
        "def evaluate(dataloader):\n",
        "    model.eval()\n",
        "    total_acc, total_count = 0, 0\n",
        "\n",
        "    with torch.no_grad():\n",
        "        for idx, (label, text, offsets) in enumerate(dataloader):\n",
        "            predicted_label = model(text, offsets)\n",
        "            loss = criterion(predicted_label, label)\n",
        "            total_acc += ((predicted_label>0.5).float() == label).sum().item()\n",
        "            total_count += label.size(0)\n",
        "    return total_acc/total_count"
      ],
      "metadata": {
        "id": "5MD1LXg_uHR7"
      },
      "execution_count": 286,
      "outputs": []
    },
    {
      "cell_type": "code",
      "source": [
        "for epoch in range(1, EPOCHS + 1):\n",
        "    epoch_start_time = time.time()\n",
        "    train(train_dataloader)\n",
        "    accu_val = evaluate(val_dataloader)\n",
        "    if total_accu is not None and total_accu > accu_val:\n",
        "      scheduler.step()\n",
        "    else:\n",
        "       total_accu = accu_val\n",
        "    print('-' * 59)\n",
        "    print('| end of epoch {:3d} | time: {:5.2f}s | '\n",
        "          'valid accuracy {:8.3f} '.format(epoch,\n",
        "                                           time.time() - epoch_start_time,\n",
        "                                           accu_val))\n",
        "    print('-' * 59)"
      ],
      "metadata": {
        "colab": {
          "base_uri": "https://localhost:8080/"
        },
        "id": "2gdzO93omPfV",
        "outputId": "5ace07e0-b192-498b-f9e1-2905977bc76a"
      },
      "execution_count": 287,
      "outputs": [
        {
          "output_type": "stream",
          "name": "stderr",
          "text": [
            "/usr/local/lib/python3.8/dist-packages/torch/nn/modules/loss.py:536: UserWarning: Using a target size (torch.Size([1])) that is different to the input size (torch.Size([1, 1])). This will likely lead to incorrect results due to broadcasting. Please ensure they have the same size.\n",
            "  return F.mse_loss(input, target, reduction=self.reduction)\n"
          ]
        },
        {
          "output_type": "stream",
          "name": "stdout",
          "text": [
            "| epoch   1 |    50/  259 batches | accuracy    0.510 | loss tensor(0.2396, grad_fn=<MseLossBackward0>)\n",
            "| epoch   1 |   100/  259 batches | accuracy    0.600 | loss tensor(0.2709, grad_fn=<MseLossBackward0>)\n",
            "| epoch   1 |   150/  259 batches | accuracy    0.680 | loss tensor(0.2353, grad_fn=<MseLossBackward0>)\n",
            "| epoch   1 |   200/  259 batches | accuracy    0.660 | loss tensor(0.2570, grad_fn=<MseLossBackward0>)\n",
            "| epoch   1 |   250/  259 batches | accuracy    0.660 | loss tensor(0.2273, grad_fn=<MseLossBackward0>)\n",
            "-----------------------------------------------------------\n",
            "| end of epoch   1 | time:  0.56s | valid accuracy    0.723 \n",
            "-----------------------------------------------------------\n",
            "| epoch   2 |    50/  259 batches | accuracy    0.510 | loss tensor(0.2314, grad_fn=<MseLossBackward0>)\n",
            "| epoch   2 |   100/  259 batches | accuracy    0.560 | loss tensor(0.2799, grad_fn=<MseLossBackward0>)\n",
            "| epoch   2 |   150/  259 batches | accuracy    0.680 | loss tensor(0.2270, grad_fn=<MseLossBackward0>)\n",
            "| epoch   2 |   200/  259 batches | accuracy    0.660 | loss tensor(0.2655, grad_fn=<MseLossBackward0>)\n",
            "| epoch   2 |   250/  259 batches | accuracy    0.700 | loss tensor(0.2190, grad_fn=<MseLossBackward0>)\n",
            "-----------------------------------------------------------\n",
            "| end of epoch   2 | time:  0.47s | valid accuracy    0.708 \n",
            "-----------------------------------------------------------\n",
            "| epoch   3 |    50/  259 batches | accuracy    0.529 | loss tensor(0.2235, grad_fn=<MseLossBackward0>)\n",
            "| epoch   3 |   100/  259 batches | accuracy    0.560 | loss tensor(0.2876, grad_fn=<MseLossBackward0>)\n",
            "| epoch   3 |   150/  259 batches | accuracy    0.680 | loss tensor(0.2222, grad_fn=<MseLossBackward0>)\n",
            "| epoch   3 |   200/  259 batches | accuracy    0.660 | loss tensor(0.2689, grad_fn=<MseLossBackward0>)\n",
            "| epoch   3 |   250/  259 batches | accuracy    0.680 | loss tensor(0.2176, grad_fn=<MseLossBackward0>)\n",
            "-----------------------------------------------------------\n",
            "| end of epoch   3 | time:  0.47s | valid accuracy    0.708 \n",
            "-----------------------------------------------------------\n",
            "| epoch   4 |    50/  259 batches | accuracy    0.529 | loss tensor(0.2228, grad_fn=<MseLossBackward0>)\n",
            "| epoch   4 |   100/  259 batches | accuracy    0.560 | loss tensor(0.2884, grad_fn=<MseLossBackward0>)\n",
            "| epoch   4 |   150/  259 batches | accuracy    0.680 | loss tensor(0.2217, grad_fn=<MseLossBackward0>)\n",
            "| epoch   4 |   200/  259 batches | accuracy    0.660 | loss tensor(0.2692, grad_fn=<MseLossBackward0>)\n",
            "| epoch   4 |   250/  259 batches | accuracy    0.680 | loss tensor(0.2174, grad_fn=<MseLossBackward0>)\n",
            "-----------------------------------------------------------\n",
            "| end of epoch   4 | time:  0.48s | valid accuracy    0.708 \n",
            "-----------------------------------------------------------\n",
            "| epoch   5 |    50/  259 batches | accuracy    0.529 | loss tensor(0.2227, grad_fn=<MseLossBackward0>)\n",
            "| epoch   5 |   100/  259 batches | accuracy    0.560 | loss tensor(0.2884, grad_fn=<MseLossBackward0>)\n",
            "| epoch   5 |   150/  259 batches | accuracy    0.680 | loss tensor(0.2217, grad_fn=<MseLossBackward0>)\n",
            "| epoch   5 |   200/  259 batches | accuracy    0.660 | loss tensor(0.2693, grad_fn=<MseLossBackward0>)\n",
            "| epoch   5 |   250/  259 batches | accuracy    0.680 | loss tensor(0.2174, grad_fn=<MseLossBackward0>)\n",
            "-----------------------------------------------------------\n",
            "| end of epoch   5 | time:  0.46s | valid accuracy    0.708 \n",
            "-----------------------------------------------------------\n",
            "| epoch   6 |    50/  259 batches | accuracy    0.529 | loss tensor(0.2227, grad_fn=<MseLossBackward0>)\n",
            "| epoch   6 |   100/  259 batches | accuracy    0.560 | loss tensor(0.2884, grad_fn=<MseLossBackward0>)\n",
            "| epoch   6 |   150/  259 batches | accuracy    0.680 | loss tensor(0.2217, grad_fn=<MseLossBackward0>)\n",
            "| epoch   6 |   200/  259 batches | accuracy    0.660 | loss tensor(0.2693, grad_fn=<MseLossBackward0>)\n",
            "| epoch   6 |   250/  259 batches | accuracy    0.680 | loss tensor(0.2174, grad_fn=<MseLossBackward0>)\n",
            "-----------------------------------------------------------\n",
            "| end of epoch   6 | time:  0.50s | valid accuracy    0.708 \n",
            "-----------------------------------------------------------\n",
            "| epoch   7 |    50/  259 batches | accuracy    0.529 | loss tensor(0.2227, grad_fn=<MseLossBackward0>)\n",
            "| epoch   7 |   100/  259 batches | accuracy    0.560 | loss tensor(0.2884, grad_fn=<MseLossBackward0>)\n",
            "| epoch   7 |   150/  259 batches | accuracy    0.680 | loss tensor(0.2217, grad_fn=<MseLossBackward0>)\n",
            "| epoch   7 |   200/  259 batches | accuracy    0.660 | loss tensor(0.2693, grad_fn=<MseLossBackward0>)\n",
            "| epoch   7 |   250/  259 batches | accuracy    0.680 | loss tensor(0.2174, grad_fn=<MseLossBackward0>)\n",
            "-----------------------------------------------------------\n",
            "| end of epoch   7 | time:  0.46s | valid accuracy    0.708 \n",
            "-----------------------------------------------------------\n",
            "| epoch   8 |    50/  259 batches | accuracy    0.529 | loss tensor(0.2227, grad_fn=<MseLossBackward0>)\n",
            "| epoch   8 |   100/  259 batches | accuracy    0.560 | loss tensor(0.2884, grad_fn=<MseLossBackward0>)\n",
            "| epoch   8 |   150/  259 batches | accuracy    0.680 | loss tensor(0.2217, grad_fn=<MseLossBackward0>)\n",
            "| epoch   8 |   200/  259 batches | accuracy    0.660 | loss tensor(0.2693, grad_fn=<MseLossBackward0>)\n",
            "| epoch   8 |   250/  259 batches | accuracy    0.680 | loss tensor(0.2174, grad_fn=<MseLossBackward0>)\n",
            "-----------------------------------------------------------\n",
            "| end of epoch   8 | time:  0.46s | valid accuracy    0.708 \n",
            "-----------------------------------------------------------\n",
            "| epoch   9 |    50/  259 batches | accuracy    0.529 | loss tensor(0.2227, grad_fn=<MseLossBackward0>)\n",
            "| epoch   9 |   100/  259 batches | accuracy    0.560 | loss tensor(0.2884, grad_fn=<MseLossBackward0>)\n",
            "| epoch   9 |   150/  259 batches | accuracy    0.680 | loss tensor(0.2217, grad_fn=<MseLossBackward0>)\n",
            "| epoch   9 |   200/  259 batches | accuracy    0.660 | loss tensor(0.2693, grad_fn=<MseLossBackward0>)\n",
            "| epoch   9 |   250/  259 batches | accuracy    0.680 | loss tensor(0.2174, grad_fn=<MseLossBackward0>)\n",
            "-----------------------------------------------------------\n",
            "| end of epoch   9 | time:  0.48s | valid accuracy    0.708 \n",
            "-----------------------------------------------------------\n",
            "| epoch  10 |    50/  259 batches | accuracy    0.529 | loss tensor(0.2227, grad_fn=<MseLossBackward0>)\n",
            "| epoch  10 |   100/  259 batches | accuracy    0.560 | loss tensor(0.2884, grad_fn=<MseLossBackward0>)\n",
            "| epoch  10 |   150/  259 batches | accuracy    0.680 | loss tensor(0.2217, grad_fn=<MseLossBackward0>)\n",
            "| epoch  10 |   200/  259 batches | accuracy    0.660 | loss tensor(0.2693, grad_fn=<MseLossBackward0>)\n",
            "| epoch  10 |   250/  259 batches | accuracy    0.680 | loss tensor(0.2174, grad_fn=<MseLossBackward0>)\n",
            "-----------------------------------------------------------\n",
            "| end of epoch  10 | time:  0.47s | valid accuracy    0.708 \n",
            "-----------------------------------------------------------\n",
            "| epoch  11 |    50/  259 batches | accuracy    0.529 | loss tensor(0.2227, grad_fn=<MseLossBackward0>)\n",
            "| epoch  11 |   100/  259 batches | accuracy    0.560 | loss tensor(0.2884, grad_fn=<MseLossBackward0>)\n",
            "| epoch  11 |   150/  259 batches | accuracy    0.680 | loss tensor(0.2217, grad_fn=<MseLossBackward0>)\n",
            "| epoch  11 |   200/  259 batches | accuracy    0.660 | loss tensor(0.2693, grad_fn=<MseLossBackward0>)\n",
            "| epoch  11 |   250/  259 batches | accuracy    0.680 | loss tensor(0.2174, grad_fn=<MseLossBackward0>)\n",
            "-----------------------------------------------------------\n",
            "| end of epoch  11 | time:  0.48s | valid accuracy    0.708 \n",
            "-----------------------------------------------------------\n",
            "| epoch  12 |    50/  259 batches | accuracy    0.529 | loss tensor(0.2227, grad_fn=<MseLossBackward0>)\n",
            "| epoch  12 |   100/  259 batches | accuracy    0.560 | loss tensor(0.2884, grad_fn=<MseLossBackward0>)\n",
            "| epoch  12 |   150/  259 batches | accuracy    0.680 | loss tensor(0.2217, grad_fn=<MseLossBackward0>)\n",
            "| epoch  12 |   200/  259 batches | accuracy    0.660 | loss tensor(0.2693, grad_fn=<MseLossBackward0>)\n",
            "| epoch  12 |   250/  259 batches | accuracy    0.680 | loss tensor(0.2174, grad_fn=<MseLossBackward0>)\n",
            "-----------------------------------------------------------\n",
            "| end of epoch  12 | time:  0.46s | valid accuracy    0.708 \n",
            "-----------------------------------------------------------\n",
            "| epoch  13 |    50/  259 batches | accuracy    0.529 | loss tensor(0.2227, grad_fn=<MseLossBackward0>)\n",
            "| epoch  13 |   100/  259 batches | accuracy    0.560 | loss tensor(0.2884, grad_fn=<MseLossBackward0>)\n",
            "| epoch  13 |   150/  259 batches | accuracy    0.680 | loss tensor(0.2217, grad_fn=<MseLossBackward0>)\n",
            "| epoch  13 |   200/  259 batches | accuracy    0.660 | loss tensor(0.2693, grad_fn=<MseLossBackward0>)\n",
            "| epoch  13 |   250/  259 batches | accuracy    0.680 | loss tensor(0.2174, grad_fn=<MseLossBackward0>)\n",
            "-----------------------------------------------------------\n",
            "| end of epoch  13 | time:  0.45s | valid accuracy    0.708 \n",
            "-----------------------------------------------------------\n",
            "| epoch  14 |    50/  259 batches | accuracy    0.529 | loss tensor(0.2227, grad_fn=<MseLossBackward0>)\n",
            "| epoch  14 |   100/  259 batches | accuracy    0.560 | loss tensor(0.2884, grad_fn=<MseLossBackward0>)\n",
            "| epoch  14 |   150/  259 batches | accuracy    0.680 | loss tensor(0.2217, grad_fn=<MseLossBackward0>)\n",
            "| epoch  14 |   200/  259 batches | accuracy    0.660 | loss tensor(0.2693, grad_fn=<MseLossBackward0>)\n",
            "| epoch  14 |   250/  259 batches | accuracy    0.680 | loss tensor(0.2174, grad_fn=<MseLossBackward0>)\n",
            "-----------------------------------------------------------\n",
            "| end of epoch  14 | time:  0.47s | valid accuracy    0.708 \n",
            "-----------------------------------------------------------\n",
            "| epoch  15 |    50/  259 batches | accuracy    0.529 | loss tensor(0.2227, grad_fn=<MseLossBackward0>)\n",
            "| epoch  15 |   100/  259 batches | accuracy    0.560 | loss tensor(0.2884, grad_fn=<MseLossBackward0>)\n",
            "| epoch  15 |   150/  259 batches | accuracy    0.680 | loss tensor(0.2217, grad_fn=<MseLossBackward0>)\n",
            "| epoch  15 |   200/  259 batches | accuracy    0.660 | loss tensor(0.2693, grad_fn=<MseLossBackward0>)\n",
            "| epoch  15 |   250/  259 batches | accuracy    0.680 | loss tensor(0.2174, grad_fn=<MseLossBackward0>)\n",
            "-----------------------------------------------------------\n",
            "| end of epoch  15 | time:  0.45s | valid accuracy    0.708 \n",
            "-----------------------------------------------------------\n",
            "| epoch  16 |    50/  259 batches | accuracy    0.529 | loss tensor(0.2227, grad_fn=<MseLossBackward0>)\n",
            "| epoch  16 |   100/  259 batches | accuracy    0.560 | loss tensor(0.2884, grad_fn=<MseLossBackward0>)\n",
            "| epoch  16 |   150/  259 batches | accuracy    0.680 | loss tensor(0.2217, grad_fn=<MseLossBackward0>)\n",
            "| epoch  16 |   200/  259 batches | accuracy    0.660 | loss tensor(0.2693, grad_fn=<MseLossBackward0>)\n",
            "| epoch  16 |   250/  259 batches | accuracy    0.680 | loss tensor(0.2174, grad_fn=<MseLossBackward0>)\n",
            "-----------------------------------------------------------\n",
            "| end of epoch  16 | time:  0.46s | valid accuracy    0.708 \n",
            "-----------------------------------------------------------\n",
            "| epoch  17 |    50/  259 batches | accuracy    0.529 | loss tensor(0.2227, grad_fn=<MseLossBackward0>)\n",
            "| epoch  17 |   100/  259 batches | accuracy    0.560 | loss tensor(0.2884, grad_fn=<MseLossBackward0>)\n",
            "| epoch  17 |   150/  259 batches | accuracy    0.680 | loss tensor(0.2217, grad_fn=<MseLossBackward0>)\n",
            "| epoch  17 |   200/  259 batches | accuracy    0.660 | loss tensor(0.2693, grad_fn=<MseLossBackward0>)\n",
            "| epoch  17 |   250/  259 batches | accuracy    0.680 | loss tensor(0.2174, grad_fn=<MseLossBackward0>)\n",
            "-----------------------------------------------------------\n",
            "| end of epoch  17 | time:  0.45s | valid accuracy    0.708 \n",
            "-----------------------------------------------------------\n",
            "| epoch  18 |    50/  259 batches | accuracy    0.529 | loss tensor(0.2227, grad_fn=<MseLossBackward0>)\n",
            "| epoch  18 |   100/  259 batches | accuracy    0.560 | loss tensor(0.2884, grad_fn=<MseLossBackward0>)\n",
            "| epoch  18 |   150/  259 batches | accuracy    0.680 | loss tensor(0.2217, grad_fn=<MseLossBackward0>)\n",
            "| epoch  18 |   200/  259 batches | accuracy    0.660 | loss tensor(0.2693, grad_fn=<MseLossBackward0>)\n",
            "| epoch  18 |   250/  259 batches | accuracy    0.680 | loss tensor(0.2174, grad_fn=<MseLossBackward0>)\n",
            "-----------------------------------------------------------\n",
            "| end of epoch  18 | time:  0.46s | valid accuracy    0.708 \n",
            "-----------------------------------------------------------\n",
            "| epoch  19 |    50/  259 batches | accuracy    0.529 | loss tensor(0.2227, grad_fn=<MseLossBackward0>)\n",
            "| epoch  19 |   100/  259 batches | accuracy    0.560 | loss tensor(0.2884, grad_fn=<MseLossBackward0>)\n",
            "| epoch  19 |   150/  259 batches | accuracy    0.680 | loss tensor(0.2217, grad_fn=<MseLossBackward0>)\n",
            "| epoch  19 |   200/  259 batches | accuracy    0.660 | loss tensor(0.2693, grad_fn=<MseLossBackward0>)\n",
            "| epoch  19 |   250/  259 batches | accuracy    0.680 | loss tensor(0.2174, grad_fn=<MseLossBackward0>)\n",
            "-----------------------------------------------------------\n",
            "| end of epoch  19 | time:  0.45s | valid accuracy    0.708 \n",
            "-----------------------------------------------------------\n",
            "| epoch  20 |    50/  259 batches | accuracy    0.529 | loss tensor(0.2227, grad_fn=<MseLossBackward0>)\n",
            "| epoch  20 |   100/  259 batches | accuracy    0.560 | loss tensor(0.2884, grad_fn=<MseLossBackward0>)\n",
            "| epoch  20 |   150/  259 batches | accuracy    0.680 | loss tensor(0.2217, grad_fn=<MseLossBackward0>)\n",
            "| epoch  20 |   200/  259 batches | accuracy    0.660 | loss tensor(0.2693, grad_fn=<MseLossBackward0>)\n",
            "| epoch  20 |   250/  259 batches | accuracy    0.680 | loss tensor(0.2174, grad_fn=<MseLossBackward0>)\n",
            "-----------------------------------------------------------\n",
            "| end of epoch  20 | time:  0.46s | valid accuracy    0.708 \n",
            "-----------------------------------------------------------\n"
          ]
        }
      ]
    },
    {
      "cell_type": "code",
      "source": [
        "model.eval()\n",
        "label_list, text_list, offsets = collate_batch([(dataset.vocab(['please', 'this']), 4)])\n",
        "model(text_list, offsets)"
      ],
      "metadata": {
        "colab": {
          "base_uri": "https://localhost:8080/"
        },
        "id": "QVScd22YmP6b",
        "outputId": "b1a3b403-15c2-4c67-b040-710732ecdf9c"
      },
      "execution_count": 296,
      "outputs": [
        {
          "output_type": "execute_result",
          "data": {
            "text/plain": [
              "tensor([[0.5555]], grad_fn=<SigmoidBackward0>)"
            ]
          },
          "metadata": {},
          "execution_count": 296
        }
      ]
    },
    {
      "cell_type": "code",
      "source": [],
      "metadata": {
        "id": "QbvGRE8YoCo3"
      },
      "execution_count": 288,
      "outputs": []
    }
  ]
}