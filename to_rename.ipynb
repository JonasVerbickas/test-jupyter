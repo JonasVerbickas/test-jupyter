{
  "cells": [
    {
      "cell_type": "markdown",
      "metadata": {
        "id": "view-in-github",
        "colab_type": "text"
      },
      "source": [
        "<a href=\"https://colab.research.google.com/github/JonasVerbickas/test-jupyter/blob/main/to_rename.ipynb\" target=\"_parent\"><img src=\"https://colab.research.google.com/assets/colab-badge.svg\" alt=\"Open In Colab\"/></a>"
      ]
    },
    {
      "cell_type": "code",
      "source": [
        "import os"
      ],
      "metadata": {
        "id": "BTTGCTeE65K-"
      },
      "execution_count": 1,
      "outputs": []
    },
    {
      "cell_type": "code",
      "source": [
        "from google.colab import drive\n",
        "drive.mount('/content/drive')"
      ],
      "metadata": {
        "colab": {
          "base_uri": "https://localhost:8080/"
        },
        "id": "A59xTdZA0OzU",
        "outputId": "eee4d6c7-7fca-4246-9f8e-39f6616e99b8"
      },
      "execution_count": 2,
      "outputs": [
        {
          "output_type": "stream",
          "name": "stdout",
          "text": [
            "Mounted at /content/drive\n"
          ]
        }
      ]
    },
    {
      "cell_type": "code",
      "source": [
        "class StringWithDocId:\n",
        "  def __init__(self, string, doc_id):\n",
        "    self.string = string\n",
        "    self.doc_id = doc_id\n",
        "  \n",
        "  def __lt__(token_with_doc_A, token_with_doc_B):\n",
        "    if token_with_doc_A.string == token_with_doc_B.string:\n",
        "      return token_with_doc_A.doc_id < token_with_doc_B.doc_id\n",
        "    else:\n",
        "      return token_with_doc_A.string < token_with_doc_B.string\n",
        "    \n",
        "  def __str__(self):\n",
        "    return f\"{self.string}: {self.doc_id}\"\n",
        "\n",
        "  def __repr__(self):\n",
        "    return f\"{self.string}: {self.doc_id}\""
      ],
      "metadata": {
        "id": "P_X_2vKt8lbK"
      },
      "execution_count": 3,
      "outputs": []
    },
    {
      "cell_type": "code",
      "execution_count": 10,
      "metadata": {
        "id": "4WtSmBsrzqE7"
      },
      "outputs": [],
      "source": [
        "STOP_WORDS = [\"the\", \"is\", \"am\", \"are\", \"will\", \"was\", \"were\"]\n",
        "WINDOW_SIZE = 5\n",
        "\n",
        "class InvertedIndex:\n",
        "    \"\"\"\n",
        "    Construct Inverted Index\n",
        "    \"\"\"\n",
        "    def __init__(self):\n",
        "        self.inverted_index = {}\n",
        "\n",
        "    def __getitem__(self, key):\n",
        "        return self.inverted_index[key]\n",
        "      \n",
        "    def keys(self):\n",
        "      return self.inverted_index.keys()\n",
        "        \n",
        "    def read_data(self, path: str) -> list:\n",
        "        \"\"\"\n",
        "        Read files from a directory and then append the data of each file into a list.\n",
        "        \"\"\"\n",
        "        output = []\n",
        "        for file in os.listdir(path):\n",
        "          with open(os.path.join(path, file), 'r') as f:\n",
        "            output.append(StringWithDocId(f.read(), file))\n",
        "        print(len(output))\n",
        "        return output\n",
        "\n",
        "    def process_document(self, document: str) -> list:\n",
        "        \"\"\"\n",
        "        pre-process a document and return a list of its terms\n",
        "        str->list\"\"\"\n",
        "        split_into_words = document.split(\" \")\n",
        "        output = []\n",
        "        for word in split_into_words:\n",
        "          if len(word) == 0:\n",
        "            raise Exception()\n",
        "          as_lowercase = word.lower()\n",
        "          if as_lowercase not in STOP_WORDS:\n",
        "            output.append(as_lowercase)\n",
        "        return output\n",
        "    \n",
        "    def index_corpus(self, documents: list) -> None:\n",
        "        \"\"\"\n",
        "        index given documents\n",
        "        list->None\"\"\"\n",
        "        token_list = []\n",
        "        for doc in documents:\n",
        "          curr_doc_id = doc.doc_id\n",
        "          processed_string = self.process_document(doc.string)\n",
        "          for token in processed_string:\n",
        "            token_with_doc_obj = StringWithDocId(token, curr_doc_id)\n",
        "            token_list.append(token_with_doc_obj)\n",
        "        sorted_token_list = sorted(token_list)\n",
        "\n",
        "        for token_with_doc_id in sorted_token_list:\n",
        "          if token_with_doc_id.string in self.inverted_index:\n",
        "            if not token_with_doc_id.doc_id in self.inverted_index[token_with_doc_id.string]:\n",
        "              self.inverted_index[token_with_doc_id.string].append(token_with_doc_id.doc_id)\n",
        "          else:\n",
        "            self.inverted_index[token_with_doc_id.string] = [token_with_doc_id.doc_id]\n",
        "     \n",
        "    def proximity_search(self, term1: str, term2: str) -> dict:\n",
        "        \"\"\"\n",
        "        1) check whether given two terms appear within a window\n",
        "        2) calculate the number of their co-existance in a document\n",
        "        3) add the document id and the number of matches into a dict\n",
        "        return the dict\"\"\"\n",
        "        documents_containing_both_terms = []\n",
        "        term1_i = 0\n",
        "        term2_i = 0\n",
        "        while term1_i < len(self[term1]) and term2_i < len(self[term2]):\n",
        "          if self[term1][term1_i] == self[term2][term2_i]:\n",
        "            documents_containing_both_terms.append(self[term1][term1_i])\n",
        "            term1_i += 1\n",
        "            term2_i += 1\n",
        "          else:\n",
        "            if self[term1][term1_i] < self[term2][term2_i]:\n",
        "              term1_i += 1\n",
        "            else:\n",
        "              term2_i += 1\n",
        "        return documents_containing_both_terms\n",
        "    \n",
        "    "
      ]
    },
    {
      "cell_type": "code",
      "execution_count": 11,
      "metadata": {
        "colab": {
          "base_uri": "https://localhost:8080/"
        },
        "id": "3n4tuVF-zqE9",
        "outputId": "7979f8c8-94be-4472-cbdd-7c13319e331e"
      },
      "outputs": [
        {
          "output_type": "stream",
          "name": "stdout",
          "text": [
            "120\n",
            "Enter your query: stylish\n",
            "['stylish']\n",
            "Index does not contain the value\n"
          ]
        }
      ],
      "source": [
        "def main():\n",
        "    \"main call function\"\n",
        "    index = InvertedIndex() # initilaise the index\n",
        "    corpus = index.read_data('/content/drive/MyDrive/Colab Notebooks/Simpsons2022') # specify the directory path in which files are located\n",
        "    index.index_corpus(corpus) # index documents/corpus\n",
        "    \n",
        "    search_term = input(\"Enter your query: \") # insert a query\n",
        "    # write a demo to check entered search terms against the inverted index\n",
        "        # 1) len(search _term) == one --> return the following: \n",
        "            # a) the number of documents in which a term appears.\n",
        "            # b) all document ids in which a term appears.\n",
        "    split_into_words = search_term.split(\" \")\n",
        "    if len(split_into_words) == 1:\n",
        "      print(split_into_words)\n",
        "      if split_into_words[0] in index.keys():\n",
        "        documents_matching_the_query = index[split_into_words[0]]\n",
        "        print(f\"The term appears in *{len(documents_matching_the_query)}* documents\")\n",
        "        print(\"Document IDs are:\", documents_matching_the_query)\n",
        "      else:\n",
        "        print(\"Index does not contain the value\")\n",
        "\n",
        "        # 2) len(search_term) == 2 --> return the following: \n",
        "            # a) the number of documents in which the entered terms appear within a pre-defined window.\n",
        "            # b) all document ids in which the terms appear within that window.\n",
        "    if len(split_into_words) == 2:\n",
        "      documents_matching_the_query = index.proximity_search(*split_into_words)\n",
        "      print(f\"The combination of these two term appears in *{len(documents_matching_the_query)}* documents\")\n",
        "      print(\"Document IDs are:\", documents_matching_the_query)\n",
        "\n",
        "    return index\n",
        "    \n",
        "index = main()"
      ]
    },
    {
      "cell_type": "code",
      "source": [],
      "metadata": {
        "id": "6rSqa3nWMqzH"
      },
      "execution_count": null,
      "outputs": []
    }
  ],
  "metadata": {
    "kernelspec": {
      "display_name": "Python 3",
      "language": "python",
      "name": "python3"
    },
    "language_info": {
      "codemirror_mode": {
        "name": "ipython",
        "version": 3
      },
      "file_extension": ".py",
      "mimetype": "text/x-python",
      "name": "python",
      "nbconvert_exporter": "python",
      "pygments_lexer": "ipython3",
      "version": "3.8.5"
    },
    "colab": {
      "provenance": [],
      "collapsed_sections": [],
      "include_colab_link": true
    }
  },
  "nbformat": 4,
  "nbformat_minor": 0
}