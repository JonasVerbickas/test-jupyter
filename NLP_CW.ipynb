{
  "cells": [
    {
      "cell_type": "markdown",
      "metadata": {
        "id": "view-in-github",
        "colab_type": "text"
      },
      "source": [
        "<a href=\"https://colab.research.google.com/github/JonasVerbickas/test-jupyter/blob/main/NLP_CW.ipynb\" target=\"_parent\"><img src=\"https://colab.research.google.com/assets/colab-badge.svg\" alt=\"Open In Colab\"/></a>"
      ]
    },
    {
      "cell_type": "code",
      "source": [
        "import os\n",
        "import time\n",
        "import nltk\n",
        "import string\n",
        "import re\n",
        "import unicodedata"
      ],
      "metadata": {
        "id": "BTTGCTeE65K-"
      },
      "execution_count": 95,
      "outputs": []
    },
    {
      "cell_type": "code",
      "source": [
        "from google.colab import drive\n",
        "drive.mount('/content/drive')"
      ],
      "metadata": {
        "colab": {
          "base_uri": "https://localhost:8080/"
        },
        "id": "A59xTdZA0OzU",
        "outputId": "31a14000-4efa-499d-8b22-b9d22fb9374c"
      },
      "execution_count": 96,
      "outputs": [
        {
          "output_type": "stream",
          "name": "stdout",
          "text": [
            "Drive already mounted at /content/drive; to attempt to forcibly remount, call drive.mount(\"/content/drive\", force_remount=True).\n"
          ]
        }
      ]
    },
    {
      "cell_type": "code",
      "source": [
        "porter = nltk.PorterStemmer()"
      ],
      "metadata": {
        "id": "9Kh-pY5D8H1e"
      },
      "execution_count": 97,
      "outputs": []
    },
    {
      "cell_type": "code",
      "source": [
        "nltk.download('punkt')\n",
        "nltk.download('stopwords')\n",
        "nltk.corpus.stopwords.words('english')\n"
      ],
      "metadata": {
        "colab": {
          "base_uri": "https://localhost:8080/"
        },
        "id": "fXosFc5y2vyH",
        "outputId": "846d6870-5d45-468e-f09f-de673be34b2d"
      },
      "execution_count": 110,
      "outputs": [
        {
          "output_type": "stream",
          "name": "stderr",
          "text": [
            "[nltk_data] Downloading package punkt to /root/nltk_data...\n",
            "[nltk_data]   Package punkt is already up-to-date!\n",
            "[nltk_data] Downloading package stopwords to /root/nltk_data...\n",
            "[nltk_data]   Package stopwords is already up-to-date!\n"
          ]
        },
        {
          "output_type": "execute_result",
          "data": {
            "text/plain": [
              "['i',\n",
              " 'me',\n",
              " 'my',\n",
              " 'myself',\n",
              " 'we',\n",
              " 'our',\n",
              " 'ours',\n",
              " 'ourselves',\n",
              " 'you',\n",
              " \"you're\",\n",
              " \"you've\",\n",
              " \"you'll\",\n",
              " \"you'd\",\n",
              " 'your',\n",
              " 'yours',\n",
              " 'yourself',\n",
              " 'yourselves',\n",
              " 'he',\n",
              " 'him',\n",
              " 'his',\n",
              " 'himself',\n",
              " 'she',\n",
              " \"she's\",\n",
              " 'her',\n",
              " 'hers',\n",
              " 'herself',\n",
              " 'it',\n",
              " \"it's\",\n",
              " 'its',\n",
              " 'itself',\n",
              " 'they',\n",
              " 'them',\n",
              " 'their',\n",
              " 'theirs',\n",
              " 'themselves',\n",
              " 'what',\n",
              " 'which',\n",
              " 'who',\n",
              " 'whom',\n",
              " 'this',\n",
              " 'that',\n",
              " \"that'll\",\n",
              " 'these',\n",
              " 'those',\n",
              " 'am',\n",
              " 'is',\n",
              " 'are',\n",
              " 'was',\n",
              " 'were',\n",
              " 'be',\n",
              " 'been',\n",
              " 'being',\n",
              " 'have',\n",
              " 'has',\n",
              " 'had',\n",
              " 'having',\n",
              " 'do',\n",
              " 'does',\n",
              " 'did',\n",
              " 'doing',\n",
              " 'a',\n",
              " 'an',\n",
              " 'the',\n",
              " 'and',\n",
              " 'but',\n",
              " 'if',\n",
              " 'or',\n",
              " 'because',\n",
              " 'as',\n",
              " 'until',\n",
              " 'while',\n",
              " 'of',\n",
              " 'at',\n",
              " 'by',\n",
              " 'for',\n",
              " 'with',\n",
              " 'about',\n",
              " 'against',\n",
              " 'between',\n",
              " 'into',\n",
              " 'through',\n",
              " 'during',\n",
              " 'before',\n",
              " 'after',\n",
              " 'above',\n",
              " 'below',\n",
              " 'to',\n",
              " 'from',\n",
              " 'up',\n",
              " 'down',\n",
              " 'in',\n",
              " 'out',\n",
              " 'on',\n",
              " 'off',\n",
              " 'over',\n",
              " 'under',\n",
              " 'again',\n",
              " 'further',\n",
              " 'then',\n",
              " 'once',\n",
              " 'here',\n",
              " 'there',\n",
              " 'when',\n",
              " 'where',\n",
              " 'why',\n",
              " 'how',\n",
              " 'all',\n",
              " 'any',\n",
              " 'both',\n",
              " 'each',\n",
              " 'few',\n",
              " 'more',\n",
              " 'most',\n",
              " 'other',\n",
              " 'some',\n",
              " 'such',\n",
              " 'no',\n",
              " 'nor',\n",
              " 'not',\n",
              " 'only',\n",
              " 'own',\n",
              " 'same',\n",
              " 'so',\n",
              " 'than',\n",
              " 'too',\n",
              " 'very',\n",
              " 's',\n",
              " 't',\n",
              " 'can',\n",
              " 'will',\n",
              " 'just',\n",
              " 'don',\n",
              " \"don't\",\n",
              " 'should',\n",
              " \"should've\",\n",
              " 'now',\n",
              " 'd',\n",
              " 'll',\n",
              " 'm',\n",
              " 'o',\n",
              " 're',\n",
              " 've',\n",
              " 'y',\n",
              " 'ain',\n",
              " 'aren',\n",
              " \"aren't\",\n",
              " 'couldn',\n",
              " \"couldn't\",\n",
              " 'didn',\n",
              " \"didn't\",\n",
              " 'doesn',\n",
              " \"doesn't\",\n",
              " 'hadn',\n",
              " \"hadn't\",\n",
              " 'hasn',\n",
              " \"hasn't\",\n",
              " 'haven',\n",
              " \"haven't\",\n",
              " 'isn',\n",
              " \"isn't\",\n",
              " 'ma',\n",
              " 'mightn',\n",
              " \"mightn't\",\n",
              " 'mustn',\n",
              " \"mustn't\",\n",
              " 'needn',\n",
              " \"needn't\",\n",
              " 'shan',\n",
              " \"shan't\",\n",
              " 'shouldn',\n",
              " \"shouldn't\",\n",
              " 'wasn',\n",
              " \"wasn't\",\n",
              " 'weren',\n",
              " \"weren't\",\n",
              " 'won',\n",
              " \"won't\",\n",
              " 'wouldn',\n",
              " \"wouldn't\"]"
            ]
          },
          "metadata": {},
          "execution_count": 110
        }
      ]
    },
    {
      "cell_type": "code",
      "source": [
        "class StringWithDocId:\n",
        "  def __init__(self, string, doc_id):\n",
        "    self.string = string\n",
        "    self.doc_id = doc_id\n",
        "  \n",
        "  def __lt__(token_with_doc_A, token_with_doc_B):\n",
        "    if token_with_doc_A.string == token_with_doc_B.string:\n",
        "      return token_with_doc_A.doc_id < token_with_doc_B.doc_id\n",
        "    else:\n",
        "      return token_with_doc_A.string < token_with_doc_B.string\n",
        "    \n",
        "  def __str__(self):\n",
        "    return f\"{self.string}: {self.doc_id}\"\n",
        "\n",
        "  def __repr__(self):\n",
        "    return f\"{self.string}: {self.doc_id}\""
      ],
      "metadata": {
        "id": "P_X_2vKt8lbK"
      },
      "execution_count": 99,
      "outputs": []
    },
    {
      "cell_type": "code",
      "source": [
        "class StringWithDocIdAndPosition(StringWithDocId):\n",
        "  def __init__(self, string, doc_id, position):\n",
        "    super().__init__(string, doc_id)\n",
        "    self.position = position\n",
        "  \n",
        "  def __lt__(token_with_doc_A, token_with_doc_B):\n",
        "    if token_with_doc_A.string != token_with_doc_B.string:\n",
        "      return token_with_doc_A.string < token_with_doc_B.string\n",
        "    elif token_with_doc_A.doc_id != token_with_doc_B.doc_id:\n",
        "      return token_with_doc_A.doc_id < token_with_doc_B.doc_id\n",
        "    else:\n",
        "      return token_with_doc_A.position < token_with_doc_B.position"
      ],
      "metadata": {
        "id": "XSBSe0-PxlCV"
      },
      "execution_count": 100,
      "outputs": []
    },
    {
      "cell_type": "code",
      "source": [
        "class Posting():\n",
        "  def __init__(self, doc_id, position, doc_freq):\n",
        "    self.doc_id = doc_id\n",
        "    self.position = position\n",
        "    self.doc_freq = doc_freq\n",
        "\n",
        "  def __str__(self):\n",
        "    return f\"({self.doc_id} {self.position})\"\n",
        "  \n",
        "  def __repr__(self):\n",
        "    return f\"({self.doc_id} {self.position})\""
      ],
      "metadata": {
        "id": "1Ts7G2B6TGRX"
      },
      "execution_count": 101,
      "outputs": []
    },
    {
      "cell_type": "code",
      "source": [
        "string.punctuation"
      ],
      "metadata": {
        "colab": {
          "base_uri": "https://localhost:8080/",
          "height": 35
        },
        "id": "8_7-T0hPop62",
        "outputId": "c0366ddc-bd57-4606-a95c-a38ce0907497"
      },
      "execution_count": 102,
      "outputs": [
        {
          "output_type": "execute_result",
          "data": {
            "text/plain": [
              "'!\"#$%&\\'()*+,-./:;<=>?@[\\\\]^_`{|}~'"
            ],
            "application/vnd.google.colaboratory.intrinsic+json": {
              "type": "string"
            }
          },
          "metadata": {},
          "execution_count": 102
        }
      ]
    },
    {
      "cell_type": "code",
      "source": [
        "def wikipediaPreprocessing(text):\n",
        "  text = unicodedata.normalize('NFKD', text)\n",
        "  text = text.replace('\\n', '')\n",
        "  text = re.sub(r'\\[.*?\\]+', '', text)\n",
        "  # text = text.translate(str.maketrans('', '', string.punctuation))\n",
        "  text = re.sub(r'Contents\\s+1\\s+Plot.+Plot', '', text) \n",
        "  text = re.sub(r'^.+From Wikipedia, the free encyclopedia.+List of episodes', '', text)\n",
        "  return text"
      ],
      "metadata": {
        "id": "gpJRsN2bk5Iw"
      },
      "execution_count": 174,
      "outputs": []
    },
    {
      "cell_type": "code",
      "execution_count": 175,
      "metadata": {
        "id": "4WtSmBsrzqE7"
      },
      "outputs": [],
      "source": [
        "STOP_WORDS = nltk.corpus.stopwords.words('english')\n",
        "class InvertedIndex:\n",
        "    \"\"\"\n",
        "    Construct Inverted Index\n",
        "    \"\"\"\n",
        "    def __init__(self):\n",
        "        self.inverted_index = {}\n",
        "\n",
        "    def __getitem__(self, key):\n",
        "        return self.inverted_index[key]\n",
        "      \n",
        "    def keys(self):\n",
        "      return self.inverted_index.keys()\n",
        "        \n",
        "    def read_data(self, path: str) -> list:\n",
        "        \"\"\"\n",
        "        Read files from a directory and then append the data of each file into a list.\n",
        "        \"\"\"\n",
        "        output = []\n",
        "        for file in os.listdir(path):\n",
        "          with open(os.path.join(path, file), 'r') as f:\n",
        "            if file[-3:] != 'txt':\n",
        "              print(file, \"will be skipped\")\n",
        "            else:\n",
        "              output.append(StringWithDocId(f.read(), file))\n",
        "        print(len(output))\n",
        "        return output\n",
        "\n",
        "    def process_document(self, document: str) -> list:\n",
        "        \"\"\"\n",
        "        pre-process a document and return a list of its terms\n",
        "        str->list\"\"\"\n",
        "        # 1. Wikipedia hyperlinks should be removed\n",
        "        # 4. Use multi-word character/location names from .csv files\n",
        "        text = wikipediaPreprocessing(document)\n",
        "        tokenized  = nltk.tokenize.word_tokenize(text)\n",
        "        output = []\n",
        "        for token in tokenized:\n",
        "          # 2. ignore stop-words\n",
        "          if token in STOP_WORDS:\n",
        "            continue\n",
        "          # 2. porter stemmer makes everything lowercase as well\n",
        "          stemmed = porter.stem(token)\n",
        "          output.append(stemmed)\n",
        "          \n",
        "        return output\n",
        "    \n",
        "    def index_corpus(self, documents: list) -> None:\n",
        "        \"\"\"\n",
        "        index given documents\n",
        "        list->None\"\"\"\n",
        "        starting_time = time.perf_counter()\n",
        "        token_list = []\n",
        "        # 1. Generate token sequence\n",
        "        for doc in documents:\n",
        "          curr_doc_id = doc.doc_id\n",
        "          processed_string = self.process_document(doc.string)\n",
        "          for i, token in enumerate(processed_string):\n",
        "            token_with_doc_id_and_pos = StringWithDocIdAndPosition(token, curr_doc_id, i)\n",
        "            token_list.append(token_with_doc_id_and_pos)\n",
        "        # 2. Sort\n",
        "        sorted_token_list = sorted(token_list)\n",
        "        print(\"First 10 of sorted_token_list:\", sorted_token_list[:10])\n",
        "        # 3. Convert into dictionary of postings\n",
        "        for token in sorted_token_list:\n",
        "          if token.string in self.inverted_index:\n",
        "            self.inverted_index[token.string].append(Posting(token.doc_id, token.position, 1))\n",
        "          else:\n",
        "            self.inverted_index[token.string] = [Posting(token.doc_id, token.position, 1)]\n",
        "        # Print out some details about the dataset\n",
        "        total_time_taken = round(time.perf_counter() - starting_time, 4)\n",
        "        print(f\"It took: {total_time_taken} seconds to index the whole corpus.\")\n",
        "        print(f\"It has {len(self.inverted_index)} entries in total.\")\n",
        "      \n",
        "    def dump(self, path: str) -> None:\n",
        "        \"\"\"\n",
        "        provide a dump function to show index entries for a given set of terms        \n",
        "        \"\"\"\n",
        "        if os.path.exists(path) == False:\n",
        "          print(\"Path to file you provided doesn't exist\")\n",
        "          return\n",
        "        with open(path, 'r') as f:\n",
        "          file_contents = f.read()\n",
        "          examples = file_contents.split('\\n')\n",
        "          for e in examples:\n",
        "            processed_e = \" \".join(self.process_document(e))\n",
        "            try:\n",
        "              print(f'Match for {e}:', self.inverted_index[processed_e])\n",
        "            except KeyError:\n",
        "              print(e, \"was not found\")\n",
        "\n",
        "     \n",
        "    def proximity_search(self, term1: str, term2: str, window_size: int = 3) -> dict:\n",
        "        \"\"\"\n",
        "        1) check whether given two terms appear within a window\n",
        "        2) calculate the number of their co-existance in a document\n",
        "        3) add the document id and the number of matches into a dict\n",
        "        return the dict\"\"\"\n",
        "        term1 = \" \".join(self.process_document(term1))\n",
        "        term2 = \" \".join(self.process_document(term2))\n",
        "        documents_containing_both_terms = []\n",
        "        term1_i = 0\n",
        "        term2_i = 0\n",
        "        while term1_i < len(self.inverted_index[term1]) and term2_i < len(self.inverted_index[term2]):\n",
        "          if self.inverted_index[term1][term1_i].doc_id == self.inverted_index[term2][term2_i].doc_id:\n",
        "            if abs(self.inverted_index[term1][term1_i].position - self.inverted_index[term2][term2_i].position) <= window_size:\n",
        "              documents_containing_both_terms.append((str(self.inverted_index[term1][term1_i]), str(self.inverted_index[term2][term2_i])))\n",
        "            term1_i += 1\n",
        "            term2_i += 1\n",
        "          else:\n",
        "            if self.inverted_index[term1][term1_i].doc_id < self.inverted_index[term2][term2_i].doc_id:\n",
        "              term1_i += 1\n",
        "            else:\n",
        "              term2_i += 1\n",
        "        return documents_containing_both_terms\n",
        "\n",
        "    "
      ]
    },
    {
      "cell_type": "code",
      "source": [
        "def testReadData():\n",
        "  index = InvertedIndex()\n",
        "  corpus = index.read_data('/content/drive/MyDrive/Colab Notebooks/Simpsons2022')\n",
        "  return (corpus[0]).string\n",
        "testReadData()"
      ],
      "metadata": {
        "colab": {
          "base_uri": "https://localhost:8080/",
          "height": 178
        },
        "id": "nSvu_GKR_03l",
        "outputId": "3b0fb276-04a0-4a5a-9569-ada24e5aecb4"
      },
      "execution_count": 176,
      "outputs": [
        {
          "output_type": "stream",
          "name": "stdout",
          "text": [
            "simpsons_characters - row.csv will be skipped\n",
            "simpsons_locations row.csv will be skipped\n",
            "118\n"
          ]
        },
        {
          "output_type": "execute_result",
          "data": {
            "text/plain": [
              "'Mr. Lisa Goes to Washington\\nFrom Wikipedia, the free encyclopedia\\n\\n\\n\\nJump to navigation\\nJump to search\\n\"Mr. Lisa Goes to Washington\"\\nThe Simpsons\\xa0episode\\nEpisode\\xa0no.\\nSeason\\xa03\\nEpisode 2\\nDirected by\\nWes Archer\\nWritten by\\nGeorge Meyer\\nProduction code\\n8F01\\nOriginal air date\\nSeptember 26, 1991[1]\\n\\nEpisode features\\nChalkboard gag\\n\"Spitwads are not free speech\"\\nCouch gag\\nThe family sits down and Homer pulls\\xa0Santa\\'s Little Helper\\xa0from under him.\\nCommentary\\nMatt Groening\\nAl Jean\\nMike Reiss\\nJulie Kavner\\nWes Archer\\nDavid Silverman\\nEpisode chronology\\n←\\xa0Previous\\n\"Stark Raving Dad\"\\nNext\\xa0→\\n\"When Flanders Failed\"\\nThe Simpsons\\xa0(season 3)\\nList of episodes\\n\"Mr. Lisa Goes to Washington\" is the second episode of the\\xa0third season\\xa0of the American animated television series\\xa0The Simpsons. It originally aired on the\\xa0Fox network\\xa0in the United States on September 26, 1991. In the episode,\\xa0Lisa\\xa0wins a patriotic essay contest about the\\xa0United States. She and her family attend the contest finals in\\xa0Washington, D.C., where she is dismayed after watching a\\xa0congressman\\xa0accept a bribe. Lisa loses the contest when she pens a scathing screed condemning the\\xa0government system, but the corrupt congressman is jailed and removed from office, restoring her faith in government.\\nThe episode was written by\\xa0George Meyer\\xa0and directed by\\xa0Wes Archer. It was the first episode for which\\xa0Al Jean\\xa0and\\xa0Mike Reiss\\xa0served as\\xa0show runners. It features multiple references to the 1939 film\\xa0Mr. Smith Goes to Washington, including the scene in which Lisa appeals to Lincoln\\'s statue at the\\xa0Lincoln Memorial\\xa0for advice. Other Washington landmarks referenced in the episode include the\\xa0White House, the\\xa0Watergate Hotel, the\\xa0Jefferson Memorial, the\\xa0Washington Monument, the\\xa0National Air and Space Museum\\xa0and the\\xa0Kennedy Center for the Performing Arts.\\nThe episode acquired a\\xa0Nielsen rating\\xa0of 12.9, and was the third highest-rated show on Fox the week it aired. It received mostly positive reviews from television critics, who praised the episode for its satire on American politics. The\\xa0timber industry\\xa0criticized the scene in which Lisa witnesses a timber industry lobbyist offering a bribe to the congressman to allow loggers to raze the Springfield Forest. The scene was described as \"an easy shot at hard-working people whose only crime is to have been born in a timber town\".[2]\\nContents\\n\\t\\t1\\n\\t\\tPlot\\n\\t\\t2\\n\\t\\tProduction\\n\\t\\t3\\n\\t\\tCultural references\\n\\t\\t4\\n\\t\\tThemes and analysis\\n\\t\\t5\\n\\t\\tReception\\n\\t\\t5.1\\n\\t\\tBroadcast and re-releases\\n\\t\\t5.2\\n\\t\\tCritical reviews\\n\\t\\t5.3\\n\\t\\tResponse from the timber industry\\n\\t\\t6\\n\\t\\tReferences\\n\\t\\t7\\n\\t\\tExternal links\\nPlot[edit]\\nHomer\\xa0sees an ad for a children\\'s essay contest in the\\xa0Reading Digest\\xa0magazine.\\xa0Lisa\\xa0submits an essay on the contest\\'s topic — \"what makes America great\" — after visiting Springfield Forest and seeing a\\xa0bald eagle\\xa0land nearby. The Simpsons travel to Washington, D.C. after Lisa\\'s essay, \"The Roots of Democracy\", earns her a spot in the national finals there.\\nWhile\\xa0Bart\\xa0and Homer enjoy the all-expenses-paid perks of their trip, Lisa visits famous monuments for inspiration. At a shrine to a\\xa0feminist\\xa0icon, she sees a corrupt\\xa0congressman, Bob Arnold, taking a bribe from a timber industry\\xa0lobbyist\\xa0to allow loggers to\\xa0clearcut\\xa0Springfield Forest. Heartbroken and disillusioned by government corruption, Lisa destroys her winning essay. She pens a scathing indictment, \"Cesspool on the\\xa0Potomac\", which condemns government greed and corruption and names the politician involved in the bribery.\\nLisa\\'s essay elicits a hostile reaction from the judges and audience members. When word of her speech quickly spreads through the\\xa0capital, Congressman Arnold is arrested, removed from office and sent to prison, where he becomes a\\xa0born-again\\xa0Christian. Lisa\\'s essay fails to win the contest, but her faith in government is restored and the contest winner commends her courage and honesty.\\nProduction[edit]\\n\\n\\nMike Reiss\\xa0(left) and\\xa0Al Jean\\xa0(right) took over as\\xa0show runners\\xa0for the third season.\\nThe episode was written by\\xa0George Meyer. It is one of\\xa0The Simpsons\\xa0creator\\xa0Matt Groening\\'s favorite episodes of the earlier seasons because he thought it took the show to another level.[3]\\xa0Meyer said he has a \"deep suspicion of social institutions and tradition in general,\" which affected the way he wrote the episode.[4]\\xa0Al Jean\\xa0and\\xa0Mike Reiss, who had written for\\xa0The Simpsons\\xa0since the start of the show, took over as\\xa0show runners\\xa0for the third season. Their first episode as show runners was \"Mr. Lisa Goes to Washington\" and they felt a lot of pressure about running the show. Jean and Reiss were so pressured that they did six to seven rewrites of the script to make it funnier.[5]\\xa0Jean said \"one reason for doing all these rewrites is because I kept thinking \\'It\\'s not good enough. It\\'s not good enough\\',\"[5]\\xa0and Reiss added that \"we were definitely scared. We had never run anything before, and they dumped us on this.\"[6]\\nWes Archer\\xa0directed \"Mr. Lisa Goes to Washington\", which was one of the first episodes to feature the Simpson family traveling to a real-life location.[7]\\xa0Because much of the episode takes place outside of Springfield, new background and character designs had to be animated. The Simpson family visits several real-life landmarks in Washington, which the animators were able to draw with the help of photographs from the animation studio\\'s library.\\xa0The Simpsons\\xa0director\\xa0David Silverman\\xa0grew up in the Washington area so he was able to help out with the designs.[8]\\xa0Marge\\'s voice actor,\\xa0Julie Kavner, said she loved the charm of the family \"just being on a trip and experiencing the hotel room they\\'re staying at, and the integrity of Bart\\'s character. You know, you just want to kill him for doing all those tricks and pranks.\"[9]\\xa0Jean believes this is one of the secrets of the show\\'s success, the fact that it is about a family and the writers can use experiences from their own or their family\\'s life as an inspiration in their writing. He thought \"Mr. Lisa Goes to Washington\" was a perfectly constructed episode in that sense.[5]\\nCultural references[edit]\\n\\n\\nLisa seeks advice from the\\xa0Abraham Lincoln statue\\xa0at the\\xa0Lincoln Memorial.\\nThe title and plot of the episode are parodies of the 1939 film\\xa0Mr. Smith Goes to Washington,[10]\\xa0in which the character Jefferson Smith comes to Washington with patriotic enthusiasm, but is instead shocked to see evidence of corruption in the government.[11][12]\\xa0The Tampa Tribune\\'s Curtis Ross called this reference one of the best film references in\\xa0The Simpsons\\'\\xa0history.[13]\\xa0Lisa\\'s visit to the\\xa0Lincoln Memorial\\xa0is a direct reference to\\xa0Mr. Smith Goes to Washington, in which Smith appeals to\\xa0Lincoln\\'s statue\\xa0for inspiration like Lisa did in the episode.[14]\\xa0In his book\\xa0Abraham Lincoln in the Post-Heroic Era, Barry Schwartz writes that the scene with Lisa at the crowded monument shows how \"thoroughly Lincoln\\'s moral and emotional significance has waned\".[15]\\xa0Mark Reinhart writes in the book\\xa0Abraham Lincoln on Screen\\xa0that the scene sums up \"with brilliant wit\" the American society\\'s \"annoying and ultimately useless tendency to ask [themselves] \\'What would Lincoln have done?\\' whenever [they] face a political or social dilemma\".[16]\\xa0Mr. Smith Goes to Washington\\xa0was once again referenced on\\xa0The Simpsons\\xa0in the\\xa0season fourteen\\xa0episode \"Mr. Spritz Goes to Washington\".[11]\\n\\n\\nThe family visit the\\xa0White House, where they meet then\\xa0First Lady\\xa0Barbara Bush.\\nIn addition to the Lincoln Memorial, other Washington, D.C. landmarks visited include the\\xa0Jefferson Memorial,[16][17]\\xa0the\\xa0Watergate Hotel\\xa0(where the family stays),[18]\\xa0the\\xa0Kennedy Center for the Performing Arts,[2]\\xa0the\\xa0White House,[19]\\xa0the\\xa0National Air and Space Museum, and the\\xa0Washington Monument.[5]\\xa0When the family visits the White House, they encounter then-First Lady\\xa0Barbara Bush\\xa0in the bathtub of one of the many bathrooms.[19]\\xa0Another American landmark mentioned in the episode is\\xa0Mount Rushmore.[1]\\xa0In addition, Lisa proposes that the family attend the memorial of the fictional Winifred Beecher Howe, an early crusader for women\\'s rights who later appeared on the unpopular 75-cent coins, according to Lisa. This is a reference to the\\xa0Susan B. Anthony dollar, which was minted for only three years and never became popular.[20]\\nThe episode makes references to several real-life persons. The piano-playing satirist who annoys Bart is a reference to\\xa0Mark Russell.[5]\\xa0Bob Arnold, the corrupt congressman, tells Lisa that there are quite a few women senators, but Lisa asserts that there are only two. (At the time, there were indeed only two,\\xa0Nancy Landon Kassebaum\\xa0of Kansas and\\xa0Barbara Mikulski\\xa0of Maryland.)[1]\\xa0Then-President\\xa0George H. W. Bush\\xa0is featured briefly in the episode. Shortly after it aired, Bush disparaged\\xa0The Simpsons\\xa0in a speech during his re-election campaign on January 27, 1992. At that point, family values were the cornerstone of Bush\\'s campaign platform, so he gave the following speech at the\\xa0National Religious Broadcasters\\' convention in Washington: \"We are going to keep on trying to strengthen the American family, to make American families a lot more like\\xa0the Waltons\\xa0and a lot less like the Simpsons.\"[21]\\xa0As a result, Bush appeared in future episodes in a more negative light.[21]\\nThemes and analysis[edit]\\n\\n\\nLisa\\'s role in the episode has been compared to\\xa0Henry David Thoreau.\\n\"Mr. Lisa Goes to Washington\" has been labeled as a satire on American politics. Michael Bitzer, in an edited book by Joseph Foy and Stanley Schultz entitled\\xa0Homer Simpson Goes to Washington, said this episode \"espouses the virtues, vices, and varieties of American political culture, public opinion, and ultimately the\\xa0American Dream\".[22]\\xa0Bitzer also wrote that\\xa0The Simpsons, through \"skillful\" use of satire, demonstrates with this episode \"insights into the underlying political culture and public opinion of the United States\\' governing system (and, more broadly, society at large)\".[22]\\xa0In his book\\xa0Gilligan Unbound: Pop Culture in the Age of Globalization, Paul Arthur Cantor said he was amazed by how far the episode was \"willing to take its corrosive satire of national politics\".[23]\\xa0He said it \"attacks the federal government at its foundation, the patriotic myths upon which its legitimacy lies. It makes fun of the very process by which patriotism is inculcated in the nation\\'s youth, the hokey contests that lead children to outdo each other in progovernment effusions.\"[23]\\xa0When the corrupt congressman is arrested, Lisa proclaims \"The system works!\" Benedict Anderson wrote in the book\\xa0The Spectre of Comparisons\\xa0that series creator Matt Groening \"assumes that his tickled audience is confident that the system barely works [...] So why does he need to show a patriot at all, especially one who is a deluded little female block-head? Probably because he, too, wishes to be seen as giving America another chance. Mr. Lisa guarantees his good intentions.\"[10]\\nGünter Beck, a lecturer for the\\xa0German Academic Exchange Service\\xa0(DAAD) at the Haifa Center for German and European Studies at the\\xa0University of Haifa\\xa0in Israel, compared Lisa\\'s role in the episode to the nineteenth-century American poet and philosopher\\xa0Henry David Thoreau. He writes that Lisa stands up against the public\\'s indifference towards the political system that Thoreau criticized, and comments that the emphasis should be \"on the brave moral decision to stand up for principles and against the broad public. By this courageous act, \\'to do what is right\\', an individual could save the well-being of the whole community. And indeed, Lisa\\'s bravery is the impulse for the state\\'s representatives to carry out their democratic obligations, so she can gladly notice \\'The system works!\\' — her trust in democracy and its institutions is restored. Thoreau on the other hand, had no lasting trust in the system but only in the people themselves and in the individual\\'s capacity to realize development and democracy.\"[24]\\nReception[edit]\\nBroadcast and re-releases[edit]\\n\"Mr. Lisa Goes to Washington\" originally aired on the Fox network in the United States on September 26, 1991.[1]\\xa0The episode finished 36th in the ratings for the week of September 23–29, 1991, with a\\xa0Nielsen rating\\xa0of 12.9, equivalent to approximately 11.9 million viewing households.\\xa0The Simpsons\\xa0was the third highest-rated show on Fox that week, following\\xa0Married... with Children\\xa0and\\xa0In Living Color.[25]\\xa0\"Mr. Lisa Goes to Washington\" and the episode \"When Flanders Failed\" were released on videocassette in 1999, entitled\\xa0The Best of the Simpsons.[26]\\xa0The episode was later included on the\\xa0Simpsons\\xa0season three DVD set that was released on August 26, 2003. Wes Archer, David Silverman, Matt Groening, Al Jean, Mike Reiss, and Julie Kavner participated in the DVD\\'s\\xa0audio commentary\\xa0of the episode.[27]\\nCritical reviews[edit]\\nSince airing, the episode has received mostly positive reviews from television critics. The authors of the book\\xa0I Can\\'t Believe It\\'s a Bigger and Better Updated Unofficial Simpsons Guide, Warren Martyn and Adrian Wood, praised the episode for being one of the best Lisa-centric episodes, and called Lisa\\'s talk with\\xa0Thomas Jefferson\\xa0and her nightmare vision of politicians as pigs \"especially worthy of note\".[28]\\xa0Nate Meyers of Digitally Obsessed gave the episode a 4.5 rating and said it is one of the best episodes featuring Lisa, \"complete with poignant observations about politics\".[29]\\xa0He particularly enjoyed the appearance of Barbara Bush at the White House.[29]\\nThe\\xa0Austin American-Statesman\\'s Steven Stein said this was the first episode of\\xa0The Simpsons\\xa0he saw. Even though he did not understand half the pop culture references, by the end of the episode he was a \"Simpsons\\xa0convert\".[18]\\xa0He thought there was \"something exotic about an issue as serious as political corruption being dealt with in a cartoon and being interrupted by jokes about beer and, yes, doughnuts\".[18]\\xa0The episode was praised for its political satire. Bill Gibron of DVD Verdict called the episode a \"biting political satire in the guise of a children\\'s oratory contest [which] signifies that this season of the series will be all over the map, both emotionally and logically\".[30]\\xa0Gibron added: \"Everything, from the\\xa0Reader\\'s Digest\\xa0rants to the formulaic speeches of the youths, has a resounding ring of truth. And once the story moves to Washington D.C, our nation\\'s capital is in for a royal reaming as well.\"[30]\\nBryce Wilson of Cinema Blend said the episode solidified the series\\' politically satirical voice as it \"bitch slapped the Bush administration\" that\\xa0would later badmouth\\xa0The Simpsons.[31]\\xa0DVD Movie Guide\\'s Colin Jacobson, however, gave the episode a more negative review, stating that it \"has its moments but never seems like one of the series\\' better programs. Part of that stems from its somewhat icky ending. The show exhibits a tone that feels more appropriate to a less biting and cynical series. It starts well with Homer\\'s obsession with\\xa0Reading Digest. After that, the show seems more erratic, and it remains pretty average overall.\"[32]\\nResponse from the timber industry[edit]\\nAccording to\\xa0The Plain Dealer\\'s Rodney Ferguson, the\\xa0timber industry\\xa0was insulted by the scene in which a timber industry lobbyist offers a bribe to the corrupt congressman so that he can demolish Springfield Forest. The Oregon Lands Coalition, a pro-timber group in\\xa0Salem, Oregon, \"bombarded\" the producers of the show with phone calls and mail protesting the episode.[33]\\xa0The coalition said it portrayed loggers unfairly and is \"allowing itself to be used by environmental extremists\".[2]\\xa0In an open letter to\\xa0The Simpsons\\xa0executive producer\\xa0James L. Brooks, the coalition wrote: \"Rather than approach this issue with genuine concern for Mother Earth, you took an easy shot at hard-working people whose only crime is [having been] born in a timber town.\"[2]\\xa0Karen Clark, a payroll clerk for a timber company in\\xa0Stayton, Oregon, said: \"The Simpsons\\xa0portrayed us as greedy, bribery-type people. It didn\\'t portray us as the everyday people—mothers, fathers, good members of society—that we are.\"[33]\\xa0Luke Popovich, vice president of the American Forest Council, wrote a letter to the show\\'s producer to protest \"the fuzzy-headed characterizations that pass for political correctness, the thinking in Hollywood where people are not very serious about these issues, but interested in pushing the right hot buttons, scoring the right points with audiences\".[33]\\n\\n\\nMatt Groening, creator of\\xa0The Simpsons, responded to the criticism of the episode.\\nThe Simpsons\\xa0creator Matt Groening responded to the criticism in an interview with\\xa0TV Guide, in which he said he did \"research on the ecological damage caused by clear-cutting and over-logging [and] it\\'s really appalling\".[33]\\xa0Jackie Lang, a timber industry activist in Salem who helped lead the protest against the Fox network and Groening, said she was appalled by Groening\\'s response, and \"He will be sorry he ever made it.\"[33]\\xa0Jake Hogan, supervising producer of the show, defended Groening: \"[The episodes] are just little stories, little comedies—stories that make people laugh.\"[33]\\xa0On October 15, 1991, Groening issued another statement to the public, in which he said: \"So now a few lumber companies have joined the nuclear power industry, right-wing preachers and high-ranking Republicans in attacking\\xa0The Simpsons. We must be doing something right. I must point out\\xa0The Simpsons\\xa0is a cartoon show—not\\xa060 Minutes. Later in the show, the same lobbyist proposed drilling for oil in\\xa0Teddy Roosevelt\\'s head at Mount Rushmore. Please don\\'t tell the oil companies about this.\"[34]\\nDavid Reinhard of\\xa0The Oregonian\\xa0commented on the criticism: \"Hollywood sharpsters can always make a group from the great American hinterland look ridiculous when it zeroes in on one show, particularly if that show is a cartoon. And the Oregon Lands Coalition\\'s protest was a bit of an overreaction. But the environmental sloganeering of\\xa0The Simpsons\\xa0as well as Groening\\'s cartoon commentary are symptomatic of a Hollywood and a popular culture that are hostile to the concerns and values of most Americans.\"[34]\\xa0After the episode aired, media researchers Robert Lichter and Linda S. Lichter found in a study of prime-time television that when shows dealt with business themes, 89 percent portrayed businessmen as swindlers or liars.[34]\\nThe same day Groening released his second statement,\\xa0The Simpsons\\xa0publicist Antonia Coffman was invited by Wayne Giesy, sales manager of Hull-Oakes Lumber Co. in\\xa0Bellfountain, Oregon, to visit Oregon and see \"responsible timber management\".[2]\\xa0Giesy said they wanted to show the producers \"how we log, how we manufacture, what goods we produce for everyone and how we replant for future generations. What most timber companies are interested in is a balanced program.\"[2]\\n'"
            ],
            "application/vnd.google.colaboratory.intrinsic+json": {
              "type": "string"
            }
          },
          "metadata": {},
          "execution_count": 176
        }
      ]
    },
    {
      "cell_type": "code",
      "source": [
        "def testTokenzination():\n",
        "    index = InvertedIndex() # initilaise the index\n",
        "    corpus = index.read_data('/content/drive/MyDrive/Colab Notebooks/Simpsons2022') # specify the directory path in which files are located\n",
        "    text = (corpus[0]).string\n",
        "    tokenized = index.process_document(text)\n",
        "    return tokenized\n",
        "    \n",
        "testTokenzination()[:20]"
      ],
      "metadata": {
        "colab": {
          "base_uri": "https://localhost:8080/"
        },
        "id": "ZJGAK55tDxZB",
        "outputId": "7919df0a-7dc7-44a8-8056-d977bf462def"
      },
      "execution_count": 177,
      "outputs": [
        {
          "output_type": "stream",
          "name": "stdout",
          "text": [
            "simpsons_characters - row.csv will be skipped\n",
            "simpsons_locations row.csv will be skipped\n",
            "118\n"
          ]
        },
        {
          "output_type": "execute_result",
          "data": {
            "text/plain": [
              "['``',\n",
              " 'mr.',\n",
              " 'lisa',\n",
              " 'goe',\n",
              " 'washington',\n",
              " \"''\",\n",
              " 'second',\n",
              " 'episod',\n",
              " 'third',\n",
              " 'season',\n",
              " 'american',\n",
              " 'anim',\n",
              " 'televis',\n",
              " 'seri',\n",
              " 'the',\n",
              " 'simpson',\n",
              " '.',\n",
              " 'it',\n",
              " 'origin',\n",
              " 'air']"
            ]
          },
          "metadata": {},
          "execution_count": 177
        }
      ]
    },
    {
      "cell_type": "code",
      "execution_count": 178,
      "metadata": {
        "colab": {
          "base_uri": "https://localhost:8080/"
        },
        "id": "3n4tuVF-zqE9",
        "outputId": "6de726c1-7958-441a-ff74-bc58eabdb26e"
      },
      "outputs": [
        {
          "output_type": "stream",
          "name": "stdout",
          "text": [
            "simpsons_characters - row.csv will be skipped\n",
            "simpsons_locations row.csv will be skipped\n",
            "118\n",
            "First 10 of sorted_token_list: [!: 3.11.txt, !: 3.14.txt, !: 3.18.txt, !: 3.19.txt, !: 3.2.txt, !: 3.2.txt, !: 3.20.txt, !: 3.20.txt, !: 3.20.txt, !: 3.20.txt]\n",
            "It took: 6.446 seconds to index the whole corpus.\n",
            "It has 12373 entries in total.\n"
          ]
        }
      ],
      "source": [
        "def main():\n",
        "    \"main call function\"\n",
        "    index = InvertedIndex() # initilaise the index\n",
        "    corpus = index.read_data('/content/drive/MyDrive/Colab Notebooks/Simpsons2022') # specify the directory path in which files are located\n",
        "    index.index_corpus(corpus) # index documents/corpus\n",
        "    return index\n",
        "    \n",
        "index = main()"
      ]
    },
    {
      "cell_type": "code",
      "source": [
        "index.dump(\"/content/drive/MyDrive/Colab Notebooks/26957722.txt\")"
      ],
      "metadata": {
        "id": "G94h70akKT-Q",
        "colab": {
          "base_uri": "https://localhost:8080/"
        },
        "outputId": "d3d41f9a-a04d-473b-aa6c-299381c9b1b1"
      },
      "execution_count": 179,
      "outputs": [
        {
          "output_type": "stream",
          "name": "stdout",
          "text": [
            "Match for Bart: [(3.1.txt 52), (3.1.txt 250), (3.1.txt 286), (3.1.txt 349), (3.1.txt 376), (3.1.txt 381), (3.1.txt 399), (3.1.txt 416), (3.1.txt 596), (3.1.txt 608), (3.1.txt 932), (3.1.txt 936), (3.1.txt 1232), (3.1.txt 1265), (3.1.txt 1404), (3.1.txt 2133), (3.1.txt 2178), (3.10.txt 1089), (3.10.txt 1302), (3.10.txt 1478), (3.10.txt 1588), (3.11.txt 433), (3.11.txt 670), (3.11.txt 799), (3.11.txt 835), (3.12.txt 48), (3.12.txt 57), (3.12.txt 151), (3.12.txt 191), (3.12.txt 206), (3.12.txt 250), (3.12.txt 256), (3.12.txt 501), (3.12.txt 506), (3.12.txt 528), (3.12.txt 604), (3.12.txt 739), (3.13.txt 2), (3.13.txt 30), (3.13.txt 61), (3.13.txt 75), (3.13.txt 121), (3.13.txt 164), (3.13.txt 171), (3.13.txt 186), (3.13.txt 277), (3.13.txt 292), (3.13.txt 302), (3.13.txt 314), (3.13.txt 322), (3.13.txt 349), (3.13.txt 364), (3.13.txt 383), (3.13.txt 707), (3.13.txt 811), (3.13.txt 839), (3.13.txt 917), (3.13.txt 966), (3.13.txt 1062), (3.13.txt 1069), (3.13.txt 1114), (3.13.txt 1138), (3.13.txt 1352), (3.13.txt 1365), (3.14.txt 366), (3.14.txt 390), (3.15.txt 52), (3.15.txt 85), (3.15.txt 273), (3.15.txt 302), (3.15.txt 410), (3.15.txt 573), (3.15.txt 604), (3.15.txt 620), (3.15.txt 803), (3.16.txt 1), (3.16.txt 30), (3.16.txt 46), (3.16.txt 86), (3.16.txt 126), (3.16.txt 194), (3.16.txt 211), (3.16.txt 257), (3.16.txt 280), (3.16.txt 300), (3.16.txt 317), (3.16.txt 332), (3.16.txt 404), (3.16.txt 500), (3.16.txt 514), (3.16.txt 523), (3.16.txt 655), (3.16.txt 681), (3.16.txt 755), (3.16.txt 783), (3.16.txt 888), (3.16.txt 1011), (3.16.txt 1086), (3.16.txt 1111), (3.16.txt 1204), (3.17.txt 1172), (3.18.txt 56), (3.18.txt 91), (3.18.txt 178), (3.18.txt 202), (3.18.txt 213), (3.18.txt 249), (3.18.txt 254), (3.18.txt 271), (3.18.txt 360), (3.18.txt 373), (3.18.txt 426), (3.18.txt 473), (3.18.txt 667), (3.18.txt 699), (3.18.txt 733), (3.18.txt 756), (3.18.txt 1068), (3.18.txt 1102), (3.18.txt 1115), (3.18.txt 1133), (3.19.txt 82), (3.19.txt 196), (3.19.txt 224), (3.19.txt 329), (3.19.txt 353), (3.19.txt 367), (3.19.txt 871), (3.19.txt 898), (3.19.txt 1545), (3.2.txt 255), (3.2.txt 583), (3.2.txt 898), (3.20.txt 245), (3.20.txt 2081), (3.21.txt 61), (3.21.txt 70), (3.21.txt 78), (3.21.txt 83), (3.21.txt 149), (3.21.txt 203), (3.21.txt 207), (3.21.txt 269), (3.21.txt 312), (3.21.txt 346), (3.21.txt 367), (3.21.txt 382), (3.21.txt 497), (3.21.txt 620), (3.21.txt 717), (3.21.txt 908), (3.21.txt 946), (3.22.txt 31), (3.22.txt 216), (3.22.txt 316), (3.22.txt 326), (3.23.txt 1), (3.23.txt 34), (3.23.txt 56), (3.23.txt 68), (3.23.txt 129), (3.23.txt 174), (3.23.txt 183), (3.23.txt 216), (3.23.txt 227), (3.23.txt 243), (3.23.txt 257), (3.23.txt 289), (3.23.txt 295), (3.23.txt 298), (3.23.txt 314), (3.23.txt 490), (3.23.txt 516), (3.23.txt 544), (3.23.txt 547), (3.23.txt 558), (3.23.txt 568), (3.23.txt 631), (3.23.txt 792), (3.24.txt 262), (3.24.txt 361), (3.3.txt 77), (3.3.txt 289), (3.3.txt 316), (3.3.txt 351), (3.3.txt 361), (3.3.txt 661), (3.3.txt 947), (3.3.txt 951), (3.3.txt 993), (3.3.txt 1062), (3.4.txt 1), (3.4.txt 30), (3.4.txt 48), (3.4.txt 59), (3.4.txt 146), (3.4.txt 179), (3.4.txt 203), (3.4.txt 217), (3.4.txt 248), (3.4.txt 261), (3.4.txt 269), (3.4.txt 287), (3.4.txt 301), (3.4.txt 307), (3.4.txt 374), (3.4.txt 399), (3.4.txt 637), (3.4.txt 642), (3.4.txt 651), (3.4.txt 671), (3.4.txt 695), (3.4.txt 758), (3.4.txt 780), (3.4.txt 809), (3.4.txt 836), (3.4.txt 879), (3.4.txt 935), (3.4.txt 1014), (3.4.txt 1041), (3.4.txt 1112), (3.5.txt 65), (3.5.txt 344), (3.5.txt 360), (3.5.txt 372), (3.5.txt 390), (3.5.txt 396), (3.5.txt 404), (3.5.txt 463), (3.5.txt 530), (3.5.txt 921), (3.5.txt 956), (3.5.txt 976), (3.5.txt 996), (3.5.txt 1011), (3.5.txt 1013), (3.5.txt 1022), (3.6.txt 51), (3.6.txt 186), (3.6.txt 204), (3.6.txt 221), (3.6.txt 343), (3.6.txt 387), (3.6.txt 411), (3.6.txt 435), (3.6.txt 466), (3.6.txt 685), (3.6.txt 895), (3.6.txt 1047), (3.6.txt 1102), (3.7.txt 44), (3.7.txt 111), (3.7.txt 301), (3.7.txt 320), (3.7.txt 343), (3.7.txt 401), (3.7.txt 431), (3.7.txt 438), (3.7.txt 457), (3.7.txt 466), (3.7.txt 477), (3.7.txt 488), (3.7.txt 1025), (3.7.txt 1049), (3.7.txt 1244), (3.7.txt 1257), (3.7.txt 1271), (3.7.txt 1315), (3.7.txt 1316), (3.7.txt 1525), (3.7.txt 1560), (3.8.txt 310), (3.9.txt 34), (3.9.txt 41), (3.9.txt 52), (3.9.txt 161), (3.9.txt 172), (3.9.txt 189), (3.9.txt 216), (3.9.txt 225), (3.9.txt 235), (3.9.txt 245), (3.9.txt 259), (3.9.txt 281), (3.9.txt 299), (3.9.txt 356), (3.9.txt 368), (3.9.txt 459), (3.9.txt 491), (3.9.txt 505), (3.9.txt 720), (3.9.txt 795), (4.1.txt 76), (4.1.txt 92), (4.1.txt 100), (4.1.txt 110), (4.1.txt 120), (4.1.txt 203), (4.1.txt 241), (4.1.txt 255), (4.1.txt 263), (4.1.txt 275), (4.1.txt 398), (4.1.txt 715), (4.10.txt 170), (4.10.txt 295), (4.10.txt 303), (4.10.txt 317), (4.10.txt 328), (4.10.txt 480), (4.10.txt 496), (4.10.txt 555), (4.10.txt 566), (4.10.txt 581), (4.10.txt 1292), (4.10.txt 1312), (4.10.txt 1329), (4.10.txt 1340), (4.10.txt 1375), (4.10.txt 1393), (4.10.txt 1417), (4.10.txt 1526), (4.11.txt 353), (4.11.txt 536), (4.11.txt 608), (4.12.txt 343), (4.13.txt 50), (4.13.txt 75), (4.13.txt 183), (4.13.txt 226), (4.13.txt 237), (4.13.txt 260), (4.13.txt 297), (4.13.txt 561), (4.13.txt 610), (4.14.txt 37), (4.14.txt 124), (4.14.txt 140), (4.14.txt 155), (4.14.txt 218), (4.14.txt 364), (4.14.txt 409), (4.14.txt 625), (4.14.txt 639), (4.14.txt 658), (4.14.txt 672), (4.14.txt 689), (4.14.txt 717), (4.14.txt 733), (4.14.txt 853), (4.14.txt 856), (4.15.txt 336), (4.15.txt 813), (4.15.txt 912), (4.15.txt 1051), (4.15.txt 1127), (4.15.txt 1196), (4.16.txt 46), (4.16.txt 96), (4.16.txt 129), (4.16.txt 143), (4.16.txt 183), (4.16.txt 430), (4.16.txt 453), (4.16.txt 590), (4.16.txt 610), (4.18.txt 45), (4.18.txt 50), (4.18.txt 167), (4.18.txt 174), (4.18.txt 259), (4.18.txt 275), (4.18.txt 307), (4.18.txt 515), (4.18.txt 706), (4.18.txt 782), (4.18.txt 786), (4.18.txt 800), (4.18.txt 805), (4.18.txt 821), (4.18.txt 846), (4.18.txt 946), (4.19.txt 30), (4.19.txt 87), (4.19.txt 146), (4.19.txt 156), (4.19.txt 168), (4.19.txt 238), (4.19.txt 241), (4.19.txt 445), (4.19.txt 650), (4.19.txt 686), (4.19.txt 876), (4.2.txt 174), (4.2.txt 1241), (4.2.txt 2000), (4.20.txt 52), (4.20.txt 141), (4.20.txt 157), (4.20.txt 194), (4.20.txt 198), (4.20.txt 343), (4.20.txt 379), (4.21.txt 328), (4.21.txt 570), (4.21.txt 1152), (4.22.txt 54), (4.22.txt 167), (4.22.txt 326), (4.22.txt 337), (4.22.txt 362), (4.22.txt 408), (4.22.txt 1803), (4.5.txt 37), (4.5.txt 49), (4.5.txt 124), (4.5.txt 153), (4.5.txt 182), (4.5.txt 452), (4.5.txt 479), (4.5.txt 494), (4.5.txt 562), (4.5.txt 746), (4.5.txt 939), (4.6.txt 34), (4.6.txt 54), (4.6.txt 87), (4.6.txt 101), (4.6.txt 117), (4.6.txt 138), (4.6.txt 143), (4.6.txt 173), (4.6.txt 204), (4.6.txt 215), (4.6.txt 219), (4.6.txt 228), (4.6.txt 255), (4.6.txt 264), (4.6.txt 273), (4.6.txt 282), (4.6.txt 306), (4.6.txt 804), (4.7.txt 56), (4.7.txt 186), (4.7.txt 198), (4.7.txt 208), (4.7.txt 234), (4.7.txt 311), (4.7.txt 327), (4.7.txt 332), (4.7.txt 343), (4.7.txt 472), (4.7.txt 484), (4.7.txt 581), (4.7.txt 716), (4.7.txt 730), (4.7.txt 774), (4.7.txt 784), (4.7.txt 838), (4.7.txt 852), (4.8.txt 35), (4.8.txt 96), (4.8.txt 122), (4.8.txt 204), (4.8.txt 226), (4.8.txt 292), (4.9.txt 903), (5.1.txt 81), (5.1.txt 207), (5.1.txt 1276), (5.1.txt 1705), (5.10.txt 73), (5.10.txt 252), (5.11.txt 195), (5.11.txt 566), (5.11.txt 813), (5.11.txt 1014), (5.12.txt 1), (5.12.txt 31), (5.12.txt 54), (5.12.txt 145), (5.12.txt 176), (5.12.txt 188), (5.12.txt 199), (5.12.txt 209), (5.12.txt 215), (5.12.txt 233), (5.12.txt 264), (5.12.txt 270), (5.12.txt 287), (5.12.txt 330), (5.12.txt 345), (5.12.txt 361), (5.12.txt 412), (5.12.txt 442), (5.12.txt 578), (5.12.txt 622), (5.12.txt 694), (5.12.txt 794), (5.12.txt 817), (5.12.txt 831), (5.12.txt 859), (5.12.txt 881), (5.12.txt 968), (5.12.txt 985), (5.12.txt 1006), (5.12.txt 1029), (5.12.txt 1064), (5.13.txt 550), (5.14.txt 1023), (5.15.txt 724), (5.15.txt 841), (5.15.txt 865), (5.15.txt 901), (5.16.txt 592), (5.16.txt 1107), (5.17.txt 1), (5.17.txt 31), (5.17.txt 58), (5.17.txt 190), (5.17.txt 202), (5.17.txt 220), (5.17.txt 242), (5.17.txt 265), (5.17.txt 320), (5.17.txt 385), (5.17.txt 407), (5.17.txt 601), (5.17.txt 614), (5.17.txt 697), (5.17.txt 783), (5.17.txt 1137), (5.17.txt 1202), (5.18.txt 44), (5.18.txt 53), (5.18.txt 66), (5.18.txt 178), (5.18.txt 188), (5.18.txt 229), (5.18.txt 236), (5.18.txt 244), (5.18.txt 262), (5.18.txt 269), (5.18.txt 285), (5.18.txt 293), (5.18.txt 315), (5.18.txt 344), (5.18.txt 355), (5.18.txt 375), (5.18.txt 422), (5.18.txt 432), (5.18.txt 455), (5.18.txt 766), (5.19.txt 46), (5.19.txt 157), (5.19.txt 167), (5.19.txt 231), (5.19.txt 262), (5.19.txt 326), (5.19.txt 336), (5.19.txt 350), (5.19.txt 355), (5.19.txt 418), (5.19.txt 440), (5.19.txt 454), (5.19.txt 472), (5.19.txt 514), (5.19.txt 714), (5.19.txt 799), (5.19.txt 933), (5.19.txt 964), (5.2.txt 339), (5.2.txt 492), (5.2.txt 880), (5.20.txt 44), (5.20.txt 52), (5.20.txt 181), (5.20.txt 221), (5.20.txt 237), (5.20.txt 244), (5.20.txt 285), (5.20.txt 324), (5.20.txt 335), (5.20.txt 349), (5.20.txt 433), (5.20.txt 436), (5.20.txt 458), (5.20.txt 491), (5.20.txt 501), (5.20.txt 560), (5.20.txt 615), (5.20.txt 620), (5.20.txt 633), (5.20.txt 680), (5.20.txt 781), (5.20.txt 992), (5.20.txt 1058), (5.20.txt 1071), (5.21.txt 226), (5.21.txt 250), (5.21.txt 270), (5.21.txt 301), (5.21.txt 810), (5.21.txt 840), (5.21.txt 980), (5.21.txt 1034), (5.22.txt 275), (5.22.txt 283), (5.22.txt 293), (5.22.txt 417), (5.22.txt 449), (5.3.txt 309), (5.3.txt 377), (5.3.txt 1042), (5.3.txt 1695), (5.4.txt 345), (5.5.txt 54), (5.5.txt 161), (5.5.txt 179), (5.5.txt 450), (5.5.txt 472), (5.5.txt 500), (5.5.txt 521), (5.5.txt 531), (5.5.txt 568), (5.5.txt 579), (5.5.txt 603), (5.5.txt 612), (5.5.txt 696), (5.5.txt 735), (5.5.txt 763), (5.5.txt 781), (5.5.txt 794), (5.5.txt 802), (5.5.txt 980), (5.5.txt 1211), (5.5.txt 1283), (5.5.txt 1342), (5.5.txt 1421), (5.5.txt 1439), (5.5.txt 1641), (5.5.txt 1650), (5.5.txt 1786), (5.5.txt 1828), (5.5.txt 1971), (5.6.txt 191), (5.7.txt 1), (5.7.txt 51), (5.7.txt 58), (5.7.txt 69), (5.7.txt 210), (5.7.txt 249), (5.7.txt 286), (5.7.txt 320), (5.7.txt 372), (5.7.txt 378), (5.7.txt 391), (5.7.txt 403), (5.7.txt 412), (5.7.txt 478), (5.7.txt 519), (5.7.txt 1131), (5.8.txt 31), (5.8.txt 47), (5.8.txt 187), (5.8.txt 239), (5.8.txt 259), (5.8.txt 319), (5.8.txt 339), (5.8.txt 501), (5.8.txt 609), (5.8.txt 650), (5.8.txt 914), (5.8.txt 1087), (5.8.txt 1112), (5.9.txt 66), (5.9.txt 281), (5.9.txt 292), (5.9.txt 314), (5.9.txt 328), (5.9.txt 366), (5.9.txt 377), (5.9.txt 758), (5.9.txt 1615), (6.1.txt 1), (6.1.txt 30), (6.1.txt 120), (6.1.txt 131), (6.1.txt 162), (6.1.txt 176), (6.1.txt 186), (6.1.txt 221), (6.1.txt 255), (6.1.txt 271), (6.1.txt 342), (6.1.txt 375), (6.1.txt 415), (6.1.txt 420), (6.1.txt 446), (6.1.txt 485), (6.1.txt 492), (6.1.txt 697), (6.1.txt 814), (6.1.txt 841), (6.1.txt 900), (6.1.txt 1062), (6.10.txt 295), (6.10.txt 341), (6.10.txt 346), (6.10.txt 515), (6.10.txt 526), (6.12.txt 279), (6.13.txt 336), (6.14.txt 1), (6.14.txt 31), (6.14.txt 64), (6.14.txt 99), (6.14.txt 118), (6.14.txt 708), (6.14.txt 727), (6.16.txt 1), (6.16.txt 31), (6.16.txt 39), (6.16.txt 63), (6.16.txt 109), (6.16.txt 140), (6.16.txt 154), (6.16.txt 166), (6.16.txt 189), (6.16.txt 208), (6.16.txt 212), (6.16.txt 239), (6.16.txt 249), (6.16.txt 264), (6.16.txt 273), (6.16.txt 286), (6.16.txt 311), (6.16.txt 319), (6.16.txt 335), (6.16.txt 371), (6.16.txt 377), (6.16.txt 416), (6.16.txt 567), (6.16.txt 685), (6.16.txt 718), (6.16.txt 779), (6.16.txt 878), (6.16.txt 946), (6.16.txt 986), (6.16.txt 1328), (6.17.txt 45), (6.17.txt 85), (6.17.txt 359), (6.17.txt 380), (6.17.txt 396), (6.17.txt 411), (6.17.txt 422), (6.17.txt 517), (6.17.txt 600), (6.17.txt 957), (6.18.txt 682), (6.18.txt 708), (6.18.txt 890), (6.19.txt 152), (6.19.txt 468), (6.19.txt 513), (6.19.txt 527), (6.19.txt 573), (6.2.txt 476), (6.2.txt 502), (6.2.txt 929), (6.20.txt 259), (6.20.txt 290), (6.20.txt 339), (6.20.txt 354), (6.20.txt 652), (6.21.txt 32), (6.21.txt 166), (6.21.txt 213), (6.21.txt 300), (6.21.txt 317), (6.21.txt 355), (6.21.txt 718), (6.21.txt 818), (6.21.txt 849), (6.21.txt 855), (6.22.txt 30), (6.22.txt 45), (6.22.txt 261), (6.22.txt 275), (6.22.txt 289), (6.22.txt 309), (6.22.txt 405), (6.22.txt 415), (6.22.txt 424), (6.22.txt 470), (6.22.txt 491), (6.22.txt 508), (6.22.txt 902), (6.22.txt 1109), (6.22.txt 1121), (6.22.txt 1405), (6.23.txt 296), (6.23.txt 791), (6.24.txt 123), (6.24.txt 181), (6.24.txt 197), (6.24.txt 242), (6.24.txt 297), (6.24.txt 374), (6.24.txt 465), (6.24.txt 487), (6.25.txt 309), (6.25.txt 377), (6.25.txt 1042), (6.25.txt 1695), (6.3.txt 468), (6.3.txt 477), (6.3.txt 579), (6.3.txt 664), (6.4.txt 78), (6.4.txt 112), (6.4.txt 120), (6.4.txt 144), (6.4.txt 172), (6.4.txt 608), (6.4.txt 755), (6.5.txt 48), (6.5.txt 171), (6.5.txt 203), (6.5.txt 250), (6.5.txt 270), (6.5.txt 307), (6.5.txt 350), (6.5.txt 386), (6.6.txt 219), (6.6.txt 265), (6.6.txt 363), (6.6.txt 475), (6.6.txt 637), (6.6.txt 661), (6.6.txt 675), (6.6.txt 702), (6.6.txt 759), (6.7.txt 1), (6.7.txt 34), (6.7.txt 43), (6.7.txt 68), (6.7.txt 89), (6.7.txt 146), (6.7.txt 163), (6.7.txt 178), (6.7.txt 189), (6.7.txt 196), (6.7.txt 211), (6.7.txt 223), (6.7.txt 248), (6.7.txt 256), (6.7.txt 266), (6.7.txt 277), (6.7.txt 322), (6.7.txt 327), (6.7.txt 343), (6.7.txt 359), (6.7.txt 379), (6.7.txt 471), (6.7.txt 491), (6.7.txt 521), (6.7.txt 620), (6.7.txt 665), (6.7.txt 778), (6.7.txt 798), (6.7.txt 831), (6.7.txt 836), (6.7.txt 867), (6.7.txt 930), (6.7.txt 945), (6.7.txt 975), (6.7.txt 996), (6.7.txt 1032), (6.7.txt 1064), (6.7.txt 1129), (6.7.txt 1144), (6.7.txt 1148), (6.7.txt 1181), (6.8.txt 39), (6.8.txt 137), (6.8.txt 152), (6.8.txt 201), (6.8.txt 220), (6.8.txt 230), (6.8.txt 244), (6.8.txt 391), (6.8.txt 508), (6.8.txt 546), (6.8.txt 681), (6.8.txt 831), (6.9.txt 72), (6.9.txt 475), (7.1.txt 309), (7.1.txt 377), (7.1.txt 1042), (7.1.txt 1695), (7.10.txt 1056), (7.10.txt 1063), (7.10.txt 1099), (7.11.txt 35), (7.11.txt 46), (7.11.txt 131), (7.11.txt 146), (7.11.txt 173), (7.11.txt 185), (7.11.txt 207), (7.11.txt 221), (7.11.txt 235), (7.11.txt 247), (7.11.txt 257), (7.11.txt 276), (7.11.txt 292), (7.11.txt 305), (7.11.txt 322), (7.11.txt 338), (7.11.txt 612), (7.11.txt 644), (7.11.txt 764), (7.11.txt 781), (7.11.txt 797), (7.11.txt 879), (7.11.txt 966), (7.12.txt 60), (7.12.txt 275), (7.12.txt 303), (7.12.txt 770), (7.13.txt 62), (7.13.txt 147), (7.13.txt 149), (7.13.txt 169), (7.13.txt 204), (7.13.txt 222), (7.13.txt 257), (7.13.txt 279), (7.13.txt 490), (7.13.txt 507), (7.13.txt 995), (7.13.txt 1032), (7.13.txt 1052), (7.13.txt 1243), (7.15.txt 1), (7.15.txt 30), (7.15.txt 52), (7.15.txt 132), (7.15.txt 141), (7.15.txt 155), (7.15.txt 171), (7.15.txt 182), (7.15.txt 238), (7.15.txt 247), (7.15.txt 272), (7.15.txt 311), (7.15.txt 676), (7.15.txt 718), (7.15.txt 759), (7.15.txt 789), (7.15.txt 862), (7.15.txt 882), (7.18.txt 73), (7.18.txt 84), (7.18.txt 145), (7.18.txt 242), (7.18.txt 250), (7.18.txt 272), (7.18.txt 306), (7.18.txt 344), (7.18.txt 370), (7.18.txt 389), (7.18.txt 401), (7.18.txt 440), (7.18.txt 476), (7.18.txt 535), (7.18.txt 556), (7.18.txt 651), (7.18.txt 777), (7.18.txt 801), (7.18.txt 814), (7.18.txt 963), (7.18.txt 1448), (7.18.txt 1663), (7.18.txt 1713), (7.2.txt 53), (7.2.txt 56), (7.2.txt 175), (7.2.txt 190), (7.2.txt 279), (7.2.txt 292), (7.2.txt 315), (7.2.txt 331), (7.2.txt 338), (7.2.txt 377), (7.2.txt 910), (7.20.txt 1), (7.20.txt 30), (7.20.txt 61), (7.20.txt 201), (7.20.txt 218), (7.20.txt 246), (7.20.txt 337), (7.20.txt 365), (7.20.txt 379), (7.20.txt 385), (7.20.txt 410), (7.20.txt 420), (7.20.txt 437), (7.20.txt 495), (7.20.txt 557), (7.20.txt 745), (7.20.txt 865), (7.20.txt 966), (7.20.txt 987), (7.20.txt 1014), (7.21.txt 197), (7.22.txt 114), (7.22.txt 118), (7.22.txt 203), (7.22.txt 271), (7.22.txt 334), (7.22.txt 346), (7.22.txt 399), (7.22.txt 419), (7.22.txt 446), (7.22.txt 482), (7.22.txt 493), (7.22.txt 511), (7.22.txt 953), (7.24.txt 148), (7.24.txt 236), (7.25.txt 53), (7.25.txt 56), (7.25.txt 175), (7.25.txt 190), (7.25.txt 279), (7.25.txt 292), (7.25.txt 315), (7.25.txt 331), (7.25.txt 338), (7.25.txt 377), (7.25.txt 910), (7.3.txt 138), (7.3.txt 185), (7.3.txt 204), (7.3.txt 260), (7.3.txt 493), (7.3.txt 579), (7.3.txt 679), (7.3.txt 727), (7.4.txt 1), (7.4.txt 32), (7.4.txt 62), (7.4.txt 181), (7.4.txt 226), (7.4.txt 235), (7.4.txt 237), (7.4.txt 262), (7.4.txt 270), (7.4.txt 314), (7.4.txt 324), (7.4.txt 340), (7.4.txt 351), (7.4.txt 365), (7.4.txt 372), (7.4.txt 387), (7.4.txt 454), (7.4.txt 709), (7.4.txt 783), (7.4.txt 824), (7.4.txt 894), (7.4.txt 921), (7.4.txt 978), (7.4.txt 1020), (7.4.txt 1033), (7.4.txt 1053), (7.4.txt 1057), (7.4.txt 1079), (7.4.txt 1125), (7.4.txt 1167), (7.4.txt 1181), (7.4.txt 1200), (7.4.txt 1218), (7.4.txt 1230), (7.4.txt 1354), (7.4.txt 1406), (7.4.txt 1441), (7.4.txt 1540), (7.4.txt 1636), (7.4.txt 1656), (7.4.txt 1672), (7.4.txt 1685), (7.5.txt 222), (7.5.txt 318), (7.6.txt 539), (7.6.txt 574), (7.6.txt 587), (7.6.txt 596), (7.6.txt 607), (7.6.txt 626), (7.6.txt 699), (7.6.txt 774), (7.6.txt 783), (7.6.txt 792), (7.6.txt 1251), (7.6.txt 1257), (7.6.txt 1265), (7.6.txt 1280), (7.6.txt 1580), (7.7.txt 185), (7.7.txt 725), (7.7.txt 1114), (7.8.txt 184), (7.9.txt 49), (7.9.txt 270), (7.9.txt 356), (7.9.txt 370), (7.9.txt 387), (7.9.txt 406)]\n",
            "Match for first: [(3.1.txt 5), (3.1.txt 17), (3.1.txt 1008), (3.1.txt 1035), (3.1.txt 1771), (3.1.txt 2101), (3.1.txt 2310), (3.10.txt 17), (3.10.txt 88), (3.10.txt 189), (3.10.txt 632), (3.10.txt 800), (3.10.txt 1467), (3.10.txt 1723), (3.11.txt 32), (3.11.txt 233), (3.12.txt 143), (3.12.txt 161), (3.12.txt 894), (3.12.txt 901), (3.13.txt 184), (3.13.txt 443), (3.15.txt 690), (3.15.txt 792), (3.16.txt 16), (3.16.txt 90), (3.16.txt 532), (3.17.txt 159), (3.17.txt 525), (3.17.txt 638), (3.17.txt 1239), (3.17.txt 1483), (3.18.txt 315), (3.18.txt 353), (3.18.txt 657), (3.19.txt 1076), (3.19.txt 1122), (3.2.txt 83), (3.2.txt 435), (3.2.txt 508), (3.2.txt 783), (3.2.txt 1542), (3.20.txt 535), (3.20.txt 850), (3.20.txt 901), (3.20.txt 1005), (3.20.txt 1960), (3.20.txt 2042), (3.21.txt 556), (3.21.txt 572), (3.22.txt 17), (3.22.txt 88), (3.22.txt 109), (3.22.txt 420), (3.22.txt 434), (3.22.txt 467), (3.3.txt 421), (3.3.txt 477), (3.4.txt 74), (3.4.txt 180), (3.4.txt 449), (3.4.txt 610), (3.4.txt 1047), (3.4.txt 1091), (3.5.txt 103), (3.5.txt 437), (3.5.txt 484), (3.5.txt 518), (3.5.txt 552), (3.5.txt 570), (3.5.txt 580), (3.5.txt 645), (3.5.txt 743), (3.6.txt 75), (3.6.txt 625), (3.7.txt 17), (3.7.txt 57), (3.7.txt 198), (3.7.txt 337), (3.7.txt 672), (3.7.txt 1514), (3.7.txt 1588), (3.8.txt 107), (3.8.txt 168), (3.8.txt 564), (3.8.txt 680), (3.8.txt 842), (3.9.txt 303), (4.1.txt 4), (4.1.txt 356), (4.1.txt 489), (4.1.txt 502), (4.1.txt 728), (4.10.txt 3), (4.10.txt 18), (4.10.txt 40), (4.10.txt 49), (4.10.txt 58), (4.10.txt 133), (4.10.txt 160), (4.10.txt 313), (4.10.txt 372), (4.10.txt 378), (4.10.txt 401), (4.10.txt 585), (4.10.txt 855), (4.10.txt 1061), (4.10.txt 1171), (4.10.txt 1192), (4.10.txt 1245), (4.10.txt 1382), (4.10.txt 1468), (4.12.txt 122), (4.12.txt 467), (4.12.txt 484), (4.12.txt 793), (4.12.txt 975), (4.12.txt 1386), (4.14.txt 17), (4.14.txt 682), (4.14.txt 1015), (4.15.txt 435), (4.15.txt 457), (4.16.txt 51), (4.16.txt 363), (4.16.txt 417), (4.16.txt 451), (4.17.txt 676), (4.17.txt 1146), (4.18.txt 98), (4.18.txt 104), (4.18.txt 431), (4.18.txt 568), (4.18.txt 573), (4.19.txt 208), (4.19.txt 646), (4.2.txt 18), (4.2.txt 543), (4.20.txt 105), (4.20.txt 486), (4.20.txt 620), (4.21.txt 354), (4.21.txt 369), (4.21.txt 507), (4.22.txt 18), (4.22.txt 829), (4.22.txt 837), (4.3.txt 475), (4.3.txt 484), (4.3.txt 493), (4.3.txt 519), (4.3.txt 961), (4.4.txt 17), (4.4.txt 288), (4.6.txt 347), (4.6.txt 413), (4.6.txt 477), (4.8.txt 99), (4.8.txt 447), (4.9.txt 1193), (5.1.txt 6), (5.1.txt 291), (5.1.txt 367), (5.1.txt 560), (5.1.txt 1187), (5.10.txt 488), (5.10.txt 684), (5.10.txt 702), (5.12.txt 73), (5.12.txt 296), (5.12.txt 507), (5.12.txt 698), (5.12.txt 769), (5.12.txt 1076), (5.13.txt 298), (5.13.txt 429), (5.13.txt 536), (5.13.txt 566), (5.13.txt 1180), (5.15.txt 16), (5.15.txt 220), (5.15.txt 568), (5.15.txt 577), (5.17.txt 102), (5.18.txt 392), (5.18.txt 476), (5.19.txt 598), (5.19.txt 621), (5.19.txt 704), (5.19.txt 1053), (5.2.txt 894), (5.2.txt 990), (5.21.txt 671), (5.22.txt 187), (5.22.txt 193), (5.3.txt 1277), (5.3.txt 1786), (5.3.txt 2224), (5.3.txt 2749), (5.4.txt 15), (5.4.txt 71), (5.4.txt 554), (5.4.txt 618), (5.5.txt 302), (5.5.txt 832), (5.5.txt 1064), (5.5.txt 1079), (5.5.txt 1260), (5.5.txt 1516), (5.7.txt 103), (5.8.txt 1036), (5.9.txt 290), (5.9.txt 294), (5.9.txt 1129), (6.1.txt 4), (6.1.txt 230), (6.1.txt 869), (6.10.txt 19), (6.11.txt 16), (6.12.txt 532), (6.13.txt 57), (6.13.txt 373), (6.13.txt 430), (6.14.txt 366), (6.14.txt 446), (6.15.txt 441), (6.15.txt 601), (6.16.txt 1096), (6.17.txt 441), (6.18.txt 18), (6.18.txt 166), (6.18.txt 570), (6.18.txt 1207), (6.19.txt 519), (6.19.txt 930), (6.2.txt 82), (6.2.txt 486), (6.2.txt 584), (6.20.txt 520), (6.20.txt 548), (6.22.txt 114), (6.22.txt 166), (6.22.txt 629), (6.22.txt 735), (6.22.txt 836), (6.22.txt 899), (6.23.txt 221), (6.24.txt 673), (6.25.txt 1277), (6.25.txt 1786), (6.25.txt 2224), (6.25.txt 2749), (6.3.txt 396), (6.3.txt 905), (6.4.txt 18), (6.5.txt 123), (6.5.txt 551), (6.5.txt 698), (6.6.txt 132), (6.6.txt 497), (6.6.txt 629), (6.6.txt 895), (6.6.txt 982), (6.6.txt 995), (6.6.txt 1124), (6.6.txt 1266), (6.6.txt 1692), (6.7.txt 463), (6.7.txt 622), (6.8.txt 16), (6.8.txt 327), (6.8.txt 382), (6.9.txt 642), (7.1.txt 1277), (7.1.txt 1786), (7.1.txt 2224), (7.1.txt 2749), (7.10.txt 523), (7.11.txt 476), (7.11.txt 482), (7.11.txt 506), (7.12.txt 482), (7.13.txt 814), (7.13.txt 832), (7.14.txt 69), (7.14.txt 308), (7.14.txt 329), (7.14.txt 417), (7.15.txt 552), (7.16.txt 90), (7.16.txt 774), (7.16.txt 1254), (7.17.txt 515), (7.18.txt 846), (7.18.txt 1189), (7.18.txt 1267), (7.18.txt 1278), (7.18.txt 1304), (7.18.txt 1602), (7.19.txt 452), (7.19.txt 960), (7.20.txt 356), (7.20.txt 611), (7.20.txt 820), (7.21.txt 652), (7.21.txt 663), (7.21.txt 873), (7.23.txt 636), (7.3.txt 70), (7.3.txt 283), (7.3.txt 664), (7.4.txt 18), (7.4.txt 559), (7.4.txt 678), (7.5.txt 63), (7.5.txt 496), (7.5.txt 514), (7.5.txt 615), (7.6.txt 23), (7.6.txt 150), (7.6.txt 200), (7.6.txt 524), (7.6.txt 857), (7.6.txt 916), (7.6.txt 1077), (7.6.txt 1347), (7.6.txt 1408), (7.7.txt 405), (7.7.txt 455), (7.8.txt 16), (7.8.txt 49), (7.8.txt 58), (7.9.txt 90), (7.9.txt 492), (7.9.txt 546)]\n",
            "Match for image: [(3.16.txt 706), (3.16.txt 732), (3.16.txt 1314), (3.18.txt 869), (3.24.txt 1032), (3.7.txt 1081), (3.7.txt 1450), (3.9.txt 879), (5.13.txt 1484), (7.18.txt 211), (7.2.txt 203), (7.21.txt 1751), (7.25.txt 203), (7.5.txt 1769), (7.6.txt 186), (7.6.txt 1212)]\n",
            "Match for montage: [(3.16.txt 561), (3.21.txt 832), (4.18.txt 347), (4.18.txt 410), (4.4.txt 562), (7.10.txt 235), (7.10.txt 459), (7.10.txt 801), (7.10.txt 956), (7.3.txt 412), (7.3.txt 422)]\n",
            "Match for well: [(3.1.txt 1451), (3.1.txt 1712), (3.1.txt 2075), (3.10.txt 212), (3.10.txt 1695), (3.13.txt 47), (3.13.txt 223), (3.13.txt 237), (3.13.txt 245), (3.13.txt 273), (3.13.txt 317), (3.13.txt 377), (3.13.txt 507), (3.13.txt 728), (3.13.txt 781), (3.13.txt 813), (3.13.txt 1249), (3.13.txt 1290), (3.14.txt 1107), (3.15.txt 116), (3.15.txt 455), (3.16.txt 272), (3.16.txt 1019), (3.16.txt 1079), (3.17.txt 894), (3.17.txt 1753), (3.18.txt 1046), (3.18.txt 1156), (3.2.txt 1642), (3.2.txt 1714), (3.2.txt 2092), (3.21.txt 784), (3.21.txt 1100), (3.22.txt 624), (3.23.txt 936), (3.7.txt 1323), (4.1.txt 727), (4.10.txt 754), (4.12.txt 503), (4.12.txt 710), (4.12.txt 1360), (4.13.txt 155), (4.13.txt 333), (4.13.txt 760), (4.15.txt 142), (4.15.txt 1286), (4.17.txt 574), (4.18.txt 203), (4.2.txt 107), (4.2.txt 159), (4.21.txt 936), (4.21.txt 1054), (4.21.txt 1064), (4.3.txt 497), (4.3.txt 507), (4.4.txt 101), (4.9.txt 65), (4.9.txt 232), (5.1.txt 461), (5.10.txt 529), (5.13.txt 990), (5.13.txt 1187), (5.14.txt 694), (5.15.txt 1024), (5.16.txt 896), (5.17.txt 394), (5.19.txt 171), (5.19.txt 210), (5.19.txt 316), (5.2.txt 127), (5.2.txt 292), (5.20.txt 584), (5.20.txt 1031), (5.21.txt 988), (5.22.txt 1037), (5.3.txt 337), (5.3.txt 594), (5.3.txt 1878), (5.4.txt 679), (5.4.txt 688), (5.5.txt 115), (5.5.txt 1661), (5.8.txt 111), (5.8.txt 494), (5.9.txt 715), (5.9.txt 941), (6.1.txt 435), (6.10.txt 113), (6.11.txt 847), (6.13.txt 925), (6.15.txt 743), (6.15.txt 757), (6.16.txt 521), (6.16.txt 1126), (6.18.txt 214), (6.18.txt 576), (6.18.txt 759), (6.18.txt 1503), (6.19.txt 863), (6.21.txt 621), (6.22.txt 133), (6.22.txt 682), (6.23.txt 562), (6.25.txt 337), (6.25.txt 594), (6.25.txt 1878), (6.4.txt 110), (6.4.txt 433), (6.5.txt 112), (6.5.txt 612), (6.5.txt 777), (6.5.txt 1056), (6.5.txt 1135), (6.6.txt 824), (6.6.txt 1684), (6.6.txt 1856), (6.9.txt 383), (7.1.txt 337), (7.1.txt 594), (7.1.txt 1878), (7.10.txt 768), (7.10.txt 1712), (7.11.txt 396), (7.11.txt 785), (7.13.txt 1286), (7.13.txt 1308), (7.14.txt 372), (7.14.txt 403), (7.19.txt 682), (7.19.txt 794), (7.19.txt 1218), (7.19.txt 1240), (7.20.txt 1019), (7.21.txt 616), (7.21.txt 1538), (7.24.txt 721), (7.4.txt 115), (7.4.txt 1315), (7.5.txt 49), (7.6.txt 627), (7.6.txt 673), (7.7.txt 1071), (7.7.txt 1093), (7.7.txt 1198), (7.8.txt 378), (7.9.txt 989)]\n",
            "Match for top: [(3.1.txt 1935), (3.10.txt 1516), (3.10.txt 1611), (3.16.txt 1199), (3.16.txt 1230), (3.16.txt 1293), (3.16.txt 1304), (3.17.txt 1419), (3.17.txt 1450), (3.17.txt 1488), (3.17.txt 1602), (3.17.txt 1645), (3.23.txt 1111), (3.5.txt 1048), (3.6.txt 999), (3.6.txt 1035), (3.7.txt 1598), (3.7.txt 1654), (3.8.txt 408), (3.8.txt 1279), (4.1.txt 823), (4.12.txt 831), (4.12.txt 843), (4.12.txt 992), (4.15.txt 166), (4.15.txt 1081), (4.15.txt 1092), (4.15.txt 1112), (4.16.txt 711), (4.17.txt 949), (4.17.txt 972), (4.17.txt 1137), (4.2.txt 1488), (4.2.txt 1502), (4.22.txt 1249), (4.22.txt 1418), (4.22.txt 1448), (4.3.txt 975), (4.6.txt 391), (4.8.txt 534), (4.9.txt 971), (5.1.txt 1818), (5.1.txt 1975), (5.13.txt 703), (5.13.txt 1349), (5.13.txt 1445), (5.15.txt 1183), (5.18.txt 506), (5.22.txt 1169), (5.3.txt 2511), (5.4.txt 840), (5.9.txt 1442), (5.9.txt 1468), (5.9.txt 1699), (6.14.txt 715), (6.16.txt 952), (6.19.txt 785), (6.19.txt 815), (6.19.txt 842), (6.19.txt 932), (6.2.txt 128), (6.2.txt 643), (6.2.txt 842), (6.20.txt 1161), (6.21.txt 1102), (6.23.txt 528), (6.24.txt 263), (6.25.txt 2511), (6.4.txt 656), (6.4.txt 712), (6.4.txt 728), (6.6.txt 1526), (6.6.txt 1871), (6.9.txt 610), (7.1.txt 2511), (7.18.txt 1152), (7.18.txt 1420), (7.19.txt 140), (7.19.txt 748), (7.19.txt 1074), (7.21.txt 583), (7.21.txt 1265), (7.21.txt 1276), (7.21.txt 1346), (7.24.txt 702), (7.24.txt 747), (7.4.txt 169), (7.4.txt 1581), (7.4.txt 1662), (7.6.txt 1948), (7.7.txt 592), (7.7.txt 605), (7.7.txt 923), (7.7.txt 934), (7.7.txt 1015), (7.7.txt 1314)]\n",
            "Match for arguably: [(3.16.txt 1329), (4.12.txt 854), (5.9.txt 1713)]\n",
            "Match for best: [(3.1.txt 57), (3.1.txt 439), (3.1.txt 1692), (3.1.txt 1868), (3.1.txt 1976), (3.1.txt 2062), (3.10.txt 216), (3.10.txt 1219), (3.10.txt 1284), (3.10.txt 1437), (3.10.txt 1449), (3.10.txt 1619), (3.10.txt 1658), (3.10.txt 1671), (3.10.txt 1705), (3.11.txt 1193), (3.11.txt 1217), (3.12.txt 818), (3.13.txt 1040), (3.13.txt 1101), (3.13.txt 1141), (3.13.txt 1175), (3.13.txt 1204), (3.13.txt 1294), (3.14.txt 1278), (3.15.txt 825), (3.16.txt 998), (3.16.txt 1326), (3.16.txt 1330), (3.17.txt 157), (3.17.txt 593), (3.17.txt 1536), (3.17.txt 1572), (3.17.txt 1586), (3.17.txt 1611), (3.18.txt 42), (3.18.txt 133), (3.18.txt 1010), (3.18.txt 1163), (3.19.txt 1453), (3.2.txt 670), (3.2.txt 1410), (3.2.txt 1486), (3.2.txt 1516), (3.20.txt 951), (3.20.txt 966), (3.20.txt 1845), (3.21.txt 465), (3.21.txt 794), (3.22.txt 172), (3.22.txt 961), (3.22.txt 975), (3.22.txt 1035), (3.23.txt 36), (3.23.txt 1061), (3.24.txt 1220), (3.24.txt 1334), (3.24.txt 1434), (3.3.txt 739), (3.3.txt 1026), (3.4.txt 923), (3.4.txt 985), (3.5.txt 368), (3.5.txt 802), (3.5.txt 1064), (3.7.txt 266), (3.7.txt 1621), (3.7.txt 1632), (3.7.txt 1680), (3.8.txt 346), (3.8.txt 913), (3.8.txt 1019), (3.8.txt 1134), (3.8.txt 1188), (3.9.txt 482), (3.9.txt 947), (4.10.txt 1122), (4.10.txt 1217), (4.11.txt 420), (4.12.txt 95), (4.12.txt 821), (4.12.txt 883), (4.12.txt 893), (4.12.txt 942), (4.12.txt 978), (4.12.txt 1106), (4.12.txt 1165), (4.12.txt 1186), (4.12.txt 1215), (4.12.txt 1313), (4.14.txt 114), (4.14.txt 921), (4.15.txt 977), (4.17.txt 90), (4.17.txt 946), (4.17.txt 1066), (4.17.txt 1119), (4.17.txt 1210), (4.2.txt 1428), (4.2.txt 1442), (4.2.txt 1532), (4.2.txt 1985), (4.20.txt 774), (4.20.txt 852), (4.22.txt 1299), (4.22.txt 1340), (4.22.txt 1667), (4.22.txt 1767), (4.3.txt 143), (4.3.txt 1049), (4.3.txt 1069), (4.4.txt 673), (4.5.txt 1072), (4.6.txt 847), (4.7.txt 623), (4.9.txt 71), (4.9.txt 237), (4.9.txt 1040), (4.9.txt 1105), (4.9.txt 1228), (4.9.txt 1250), (5.1.txt 1231), (5.1.txt 1798), (5.1.txt 1988), (5.10.txt 1029), (5.12.txt 965), (5.12.txt 969), (5.12.txt 1039), (5.13.txt 1108), (5.13.txt 1220), (5.13.txt 1244), (5.13.txt 1259), (5.13.txt 1274), (5.13.txt 1330), (5.14.txt 792), (5.14.txt 1077), (5.14.txt 1083), (5.14.txt 1164), (5.15.txt 118), (5.15.txt 1299), (5.16.txt 1057), (5.17.txt 970), (5.17.txt 981), (5.17.txt 993), (5.18.txt 808), (5.2.txt 465), (5.21.txt 879), (5.22.txt 696), (5.22.txt 798), (5.3.txt 2563), (5.3.txt 2591), (5.3.txt 2669), (5.4.txt 173), (5.4.txt 872), (5.4.txt 883), (5.4.txt 939), (5.4.txt 1016), (5.5.txt 1760), (5.5.txt 1811), (5.5.txt 1862), (5.5.txt 1884), (5.5.txt 1892), (5.5.txt 1977), (5.5.txt 1979), (5.7.txt 157), (5.7.txt 915), (5.8.txt 1174), (5.9.txt 141), (5.9.txt 1458), (5.9.txt 1687), (5.9.txt 1714), (5.9.txt 1730), (6.11.txt 900), (6.12.txt 80), (6.12.txt 375), (6.12.txt 438), (6.12.txt 555), (6.12.txt 637), (6.12.txt 716), (6.12.txt 729), (6.15.txt 72), (6.15.txt 887), (6.16.txt 1158), (6.18.txt 466), (6.18.txt 931), (6.18.txt 1049), (6.18.txt 1095), (6.19.txt 748), (6.19.txt 855), (6.19.txt 886), (6.19.txt 899), (6.19.txt 918), (6.19.txt 958), (6.2.txt 831), (6.20.txt 139), (6.20.txt 760), (6.20.txt 1240), (6.20.txt 1254), (6.20.txt 1261), (6.21.txt 794), (6.22.txt 433), (6.23.txt 1208), (6.24.txt 666), (6.25.txt 2563), (6.25.txt 2591), (6.25.txt 2669), (6.4.txt 232), (6.5.txt 84), (6.5.txt 1247), (6.5.txt 1261), (6.6.txt 1476), (6.6.txt 1584), (6.6.txt 1598), (6.6.txt 1613), (6.6.txt 1634), (6.6.txt 1672), (6.6.txt 1694), (6.6.txt 1716), (6.6.txt 1729), (6.6.txt 1772), (6.6.txt 1813), (6.6.txt 1842), (6.7.txt 127), (6.7.txt 1088), (6.7.txt 1102), (6.8.txt 191), (6.8.txt 223), (6.8.txt 740), (6.9.txt 634), (7.1.txt 2563), (7.1.txt 2591), (7.1.txt 2669), (7.11.txt 875), (7.11.txt 911), (7.12.txt 733), (7.12.txt 934), (7.12.txt 983), (7.12.txt 1019), (7.13.txt 90), (7.13.txt 808), (7.13.txt 1150), (7.13.txt 1321), (7.13.txt 1330), (7.14.txt 688), (7.15.txt 396), (7.15.txt 754), (7.16.txt 1523), (7.16.txt 1537), (7.17.txt 854), (7.18.txt 1482), (7.18.txt 1518), (7.19.txt 1115), (7.19.txt 1129), (7.19.txt 1154), (7.19.txt 1205), (7.19.txt 1249), (7.2.txt 937), (7.2.txt 954), (7.2.txt 1007), (7.2.txt 1026), (7.20.txt 1098), (7.20.txt 1134), (7.21.txt 1241), (7.21.txt 1337), (7.21.txt 1375), (7.21.txt 1403), (7.21.txt 1698), (7.23.txt 1005), (7.23.txt 1305), (7.24.txt 735), (7.24.txt 779), (7.25.txt 937), (7.25.txt 954), (7.25.txt 1007), (7.25.txt 1026), (7.3.txt 342), (7.3.txt 347), (7.3.txt 644), (7.3.txt 674), (7.4.txt 159), (7.4.txt 171), (7.4.txt 1583), (7.5.txt 1433), (7.5.txt 1445), (7.5.txt 1459), (7.5.txt 1902), (7.5.txt 1960), (7.6.txt 1865), (7.6.txt 1901), (7.6.txt 1922), (7.7.txt 105), (7.7.txt 953), (7.7.txt 977), (7.7.txt 987), (7.7.txt 999), (7.7.txt 1048), (7.7.txt 1065), (7.7.txt 1141), (7.7.txt 1242), (7.7.txt 1279), (7.7.txt 1299), (7.8.txt 1132), (7.8.txt 1148), (7.9.txt 972), (7.9.txt 999)]\n",
            "Match for number: [(3.1.txt 937), (3.11.txt 1208), (3.16.txt 1208), (3.16.txt 1316), (3.17.txt 1599), (3.18.txt 1148), (3.19.txt 506), (3.21.txt 440), (3.21.txt 812), (3.21.txt 820), (3.5.txt 1056), (3.7.txt 1663), (3.9.txt 525), (4.1.txt 482), (4.11.txt 389), (4.11.txt 390), (4.12.txt 903), (4.12.txt 988), (4.15.txt 1109), (4.16.txt 708), (4.17.txt 948), (4.2.txt 792), (4.2.txt 1499), (4.2.txt 1892), (4.21.txt 466), (4.21.txt 474), (4.21.txt 497), (4.22.txt 958), (4.22.txt 1294), (4.22.txt 1678), (4.7.txt 619), (4.9.txt 419), (5.1.txt 1356), (5.1.txt 1561), (5.1.txt 1569), (5.10.txt 1000), (5.11.txt 869), (5.13.txt 814), (5.13.txt 1206), (5.13.txt 1261), (5.13.txt 1268), (5.13.txt 1292), (5.13.txt 1346), (5.14.txt 519), (5.2.txt 846), (5.21.txt 975), (5.22.txt 1165), (5.3.txt 1222), (5.8.txt 648), (5.8.txt 656), (6.12.txt 50), (6.12.txt 286), (6.12.txt 377), (6.12.txt 402), (6.12.txt 520), (6.2.txt 202), (6.20.txt 87), (6.20.txt 666), (6.20.txt 1170), (6.20.txt 1259), (6.22.txt 1380), (6.24.txt 467), (6.25.txt 1222), (6.4.txt 708), (6.4.txt 725), (6.6.txt 752), (6.6.txt 1164), (7.1.txt 1222), (7.10.txt 422), (7.10.txt 1217), (7.10.txt 1627), (7.13.txt 819), (7.14.txt 526), (7.19.txt 482), (7.21.txt 1343), (7.23.txt 553), (7.6.txt 1352), (7.6.txt 1461), (7.7.txt 1311), (7.8.txt 683), (7.8.txt 732)]\n",
            "Match for humor: [(3.1.txt 780), (3.1.txt 1698), (3.1.txt 1817), (3.10.txt 1569), (3.13.txt 1080), (3.13.txt 1193), (3.15.txt 500), (3.16.txt 1057), (3.20.txt 1813), (3.24.txt 1296), (3.3.txt 809), (3.3.txt 942), (3.7.txt 1699), (4.11.txt 425), (4.15.txt 907), (4.19.txt 217), (4.19.txt 270), (5.1.txt 196), (5.1.txt 1861), (5.10.txt 662), (5.11.txt 924), (5.12.txt 87), (5.12.txt 425), (5.13.txt 742), (5.14.txt 1118), (5.7.txt 734), (6.10.txt 779), (6.14.txt 296), (6.16.txt 469), (6.22.txt 1610), (6.6.txt 833), (6.6.txt 859), (6.6.txt 1549), (7.10.txt 504), (7.14.txt 390), (7.17.txt 608), (7.18.txt 699), (7.4.txt 288), (7.5.txt 1619), (7.5.txt 1636)]\n",
            "Match for dollarydoos: [(6.16.txt 1295), (6.16.txt 1305)]\n",
            "Bart Simpson was not found\n",
            "Gordie Howe was not found\n",
            "Match for recalled: [(3.1.txt 728), (3.11.txt 948), (3.14.txt 582), (3.16.txt 605), (3.17.txt 1723), (3.19.txt 350), (3.7.txt 1177), (5.1.txt 997), (5.16.txt 975), (5.19.txt 1045), (5.8.txt 589), (5.8.txt 713), (6.11.txt 843), (6.2.txt 611), (6.3.txt 44), (6.3.txt 612), (6.3.txt 627), (6.4.txt 631), (7.18.txt 907), (7.2.txt 699), (7.21.txt 1514), (7.22.txt 789), (7.25.txt 699), (7.4.txt 645)]\n",
            "Bart the Lover was not found\n",
            "Match for cents: [(3.11.txt 240), (3.16.txt 476), (4.15.txt 779), (5.1.txt 1528), (5.6.txt 420), (7.4.txt 523)]\n",
            "won was not found\n",
            "Match for voice-overs: [(3.1.txt 1743), (3.12.txt 1003), (3.14.txt 1030), (3.16.txt 937), (3.16.txt 1094), (3.18.txt 638), (3.6.txt 177), (3.6.txt 952), (3.8.txt 929), (4.9.txt 82), (4.9.txt 1264), (5.13.txt 720)]\n",
            "Simpsonovi was not found\n"
          ]
        }
      ]
    },
    {
      "cell_type": "code",
      "source": [
        "index.proximity_search('award', 'winning', 100)"
      ],
      "metadata": {
        "colab": {
          "base_uri": "https://localhost:8080/"
        },
        "id": "wld3Ax7Kk5K9",
        "outputId": "79331176-ee82-4395-cad1-4b15c80c5882"
      },
      "execution_count": 180,
      "outputs": [
        {
          "output_type": "execute_result",
          "data": {
            "text/plain": [
              "[('(3.13.txt 950)', '(3.13.txt 1016)'),\n",
              " ('(3.21.txt 462)', '(3.21.txt 460)'),\n",
              " ('(3.21.txt 464)', '(3.21.txt 482)'),\n",
              " ('(3.21.txt 792)', '(3.21.txt 789)'),\n",
              " ('(3.6.txt 911)', '(3.6.txt 975)'),\n",
              " ('(4.19.txt 196)', '(4.19.txt 268)'),\n",
              " ('(4.19.txt 213)', '(4.19.txt 297)'),\n",
              " ('(5.1.txt 388)', '(5.1.txt 386)'),\n",
              " ('(5.15.txt 143)', '(5.15.txt 140)'),\n",
              " ('(5.17.txt 35)', '(5.17.txt 32)'),\n",
              " ('(5.9.txt 413)', '(5.9.txt 414)'),\n",
              " ('(6.19.txt 64)', '(6.19.txt 75)'),\n",
              " ('(6.19.txt 758)', '(6.19.txt 769)'),\n",
              " ('(6.2.txt 203)', '(6.2.txt 174)'),\n",
              " ('(6.22.txt 1250)', '(6.22.txt 1263)'),\n",
              " ('(7.12.txt 709)', '(7.12.txt 668)'),\n",
              " ('(7.8.txt 1035)', '(7.8.txt 1064)')]"
            ]
          },
          "metadata": {},
          "execution_count": 180
        }
      ]
    },
    {
      "cell_type": "code",
      "source": [],
      "metadata": {
        "id": "R-FA6WKlljGr"
      },
      "execution_count": 180,
      "outputs": []
    }
  ],
  "metadata": {
    "kernelspec": {
      "display_name": "Python 3",
      "language": "python",
      "name": "python3"
    },
    "language_info": {
      "codemirror_mode": {
        "name": "ipython",
        "version": 3
      },
      "file_extension": ".py",
      "mimetype": "text/x-python",
      "name": "python",
      "nbconvert_exporter": "python",
      "pygments_lexer": "ipython3",
      "version": "3.8.5"
    },
    "colab": {
      "provenance": [],
      "collapsed_sections": [],
      "include_colab_link": true
    }
  },
  "nbformat": 4,
  "nbformat_minor": 0
}