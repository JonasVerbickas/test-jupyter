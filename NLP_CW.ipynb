{
  "cells": [
    {
      "cell_type": "markdown",
      "metadata": {
        "id": "view-in-github",
        "colab_type": "text"
      },
      "source": [
        "<a href=\"https://colab.research.google.com/github/JonasVerbickas/test-jupyter/blob/main/NLP_CW.ipynb\" target=\"_parent\"><img src=\"https://colab.research.google.com/assets/colab-badge.svg\" alt=\"Open In Colab\"/></a>"
      ]
    },
    {
      "cell_type": "code",
      "source": [
        "import os\n",
        "import nltk\n",
        "import re\n",
        "import string\n",
        "import unicodedata\n",
        "import time\n",
        "import pandas as pd"
      ],
      "metadata": {
        "id": "BTTGCTeE65K-"
      },
      "execution_count": 17,
      "outputs": []
    },
    {
      "cell_type": "code",
      "source": [
        "from google.colab import drive\n",
        "drive.mount('/content/drive')"
      ],
      "metadata": {
        "colab": {
          "base_uri": "https://localhost:8080/"
        },
        "id": "A59xTdZA0OzU",
        "outputId": "1b69cbc4-23e6-4128-9ca1-57aa54dae769"
      },
      "execution_count": 18,
      "outputs": [
        {
          "output_type": "stream",
          "name": "stdout",
          "text": [
            "Drive already mounted at /content/drive; to attempt to forcibly remount, call drive.mount(\"/content/drive\", force_remount=True).\n"
          ]
        }
      ]
    },
    {
      "cell_type": "code",
      "source": [
        "porter = nltk.PorterStemmer()"
      ],
      "metadata": {
        "id": "9Kh-pY5D8H1e"
      },
      "execution_count": 19,
      "outputs": []
    },
    {
      "cell_type": "code",
      "source": [
        "nltk.download('punkt')\n",
        "nltk.download('stopwords')\n",
        "nltk.corpus.stopwords.words('english')"
      ],
      "metadata": {
        "colab": {
          "base_uri": "https://localhost:8080/"
        },
        "id": "fXosFc5y2vyH",
        "outputId": "83412fbb-8c62-4254-8fdd-86ac52bb8cdb"
      },
      "execution_count": 20,
      "outputs": [
        {
          "output_type": "stream",
          "name": "stderr",
          "text": [
            "[nltk_data] Downloading package punkt to /root/nltk_data...\n",
            "[nltk_data]   Package punkt is already up-to-date!\n",
            "[nltk_data] Downloading package stopwords to /root/nltk_data...\n",
            "[nltk_data]   Package stopwords is already up-to-date!\n"
          ]
        },
        {
          "output_type": "execute_result",
          "data": {
            "text/plain": [
              "['i',\n",
              " 'me',\n",
              " 'my',\n",
              " 'myself',\n",
              " 'we',\n",
              " 'our',\n",
              " 'ours',\n",
              " 'ourselves',\n",
              " 'you',\n",
              " \"you're\",\n",
              " \"you've\",\n",
              " \"you'll\",\n",
              " \"you'd\",\n",
              " 'your',\n",
              " 'yours',\n",
              " 'yourself',\n",
              " 'yourselves',\n",
              " 'he',\n",
              " 'him',\n",
              " 'his',\n",
              " 'himself',\n",
              " 'she',\n",
              " \"she's\",\n",
              " 'her',\n",
              " 'hers',\n",
              " 'herself',\n",
              " 'it',\n",
              " \"it's\",\n",
              " 'its',\n",
              " 'itself',\n",
              " 'they',\n",
              " 'them',\n",
              " 'their',\n",
              " 'theirs',\n",
              " 'themselves',\n",
              " 'what',\n",
              " 'which',\n",
              " 'who',\n",
              " 'whom',\n",
              " 'this',\n",
              " 'that',\n",
              " \"that'll\",\n",
              " 'these',\n",
              " 'those',\n",
              " 'am',\n",
              " 'is',\n",
              " 'are',\n",
              " 'was',\n",
              " 'were',\n",
              " 'be',\n",
              " 'been',\n",
              " 'being',\n",
              " 'have',\n",
              " 'has',\n",
              " 'had',\n",
              " 'having',\n",
              " 'do',\n",
              " 'does',\n",
              " 'did',\n",
              " 'doing',\n",
              " 'a',\n",
              " 'an',\n",
              " 'the',\n",
              " 'and',\n",
              " 'but',\n",
              " 'if',\n",
              " 'or',\n",
              " 'because',\n",
              " 'as',\n",
              " 'until',\n",
              " 'while',\n",
              " 'of',\n",
              " 'at',\n",
              " 'by',\n",
              " 'for',\n",
              " 'with',\n",
              " 'about',\n",
              " 'against',\n",
              " 'between',\n",
              " 'into',\n",
              " 'through',\n",
              " 'during',\n",
              " 'before',\n",
              " 'after',\n",
              " 'above',\n",
              " 'below',\n",
              " 'to',\n",
              " 'from',\n",
              " 'up',\n",
              " 'down',\n",
              " 'in',\n",
              " 'out',\n",
              " 'on',\n",
              " 'off',\n",
              " 'over',\n",
              " 'under',\n",
              " 'again',\n",
              " 'further',\n",
              " 'then',\n",
              " 'once',\n",
              " 'here',\n",
              " 'there',\n",
              " 'when',\n",
              " 'where',\n",
              " 'why',\n",
              " 'how',\n",
              " 'all',\n",
              " 'any',\n",
              " 'both',\n",
              " 'each',\n",
              " 'few',\n",
              " 'more',\n",
              " 'most',\n",
              " 'other',\n",
              " 'some',\n",
              " 'such',\n",
              " 'no',\n",
              " 'nor',\n",
              " 'not',\n",
              " 'only',\n",
              " 'own',\n",
              " 'same',\n",
              " 'so',\n",
              " 'than',\n",
              " 'too',\n",
              " 'very',\n",
              " 's',\n",
              " 't',\n",
              " 'can',\n",
              " 'will',\n",
              " 'just',\n",
              " 'don',\n",
              " \"don't\",\n",
              " 'should',\n",
              " \"should've\",\n",
              " 'now',\n",
              " 'd',\n",
              " 'll',\n",
              " 'm',\n",
              " 'o',\n",
              " 're',\n",
              " 've',\n",
              " 'y',\n",
              " 'ain',\n",
              " 'aren',\n",
              " \"aren't\",\n",
              " 'couldn',\n",
              " \"couldn't\",\n",
              " 'didn',\n",
              " \"didn't\",\n",
              " 'doesn',\n",
              " \"doesn't\",\n",
              " 'hadn',\n",
              " \"hadn't\",\n",
              " 'hasn',\n",
              " \"hasn't\",\n",
              " 'haven',\n",
              " \"haven't\",\n",
              " 'isn',\n",
              " \"isn't\",\n",
              " 'ma',\n",
              " 'mightn',\n",
              " \"mightn't\",\n",
              " 'mustn',\n",
              " \"mustn't\",\n",
              " 'needn',\n",
              " \"needn't\",\n",
              " 'shan',\n",
              " \"shan't\",\n",
              " 'shouldn',\n",
              " \"shouldn't\",\n",
              " 'wasn',\n",
              " \"wasn't\",\n",
              " 'weren',\n",
              " \"weren't\",\n",
              " 'won',\n",
              " \"won't\",\n",
              " 'wouldn',\n",
              " \"wouldn't\"]"
            ]
          },
          "metadata": {},
          "execution_count": 20
        }
      ]
    },
    {
      "cell_type": "code",
      "source": [
        "class StringWithDocId:\n",
        "  def __init__(self, string, doc_id):\n",
        "    self.string = string\n",
        "    self.doc_id = doc_id\n",
        "  \n",
        "  def __lt__(token_with_doc_A, token_with_doc_B):\n",
        "    if token_with_doc_A.string == token_with_doc_B.string:\n",
        "      return token_with_doc_A.doc_id < token_with_doc_B.doc_id\n",
        "    else:\n",
        "      return token_with_doc_A.string < token_with_doc_B.string\n",
        "    \n",
        "  def __str__(self):\n",
        "    return f\"{self.string}: {self.doc_id}\"\n",
        "\n",
        "  def __repr__(self):\n",
        "    return f\"{self.string}: {self.doc_id}\""
      ],
      "metadata": {
        "id": "P_X_2vKt8lbK"
      },
      "execution_count": 21,
      "outputs": []
    },
    {
      "cell_type": "code",
      "source": [
        "class StringWithDocIdAndPosition(StringWithDocId):\n",
        "  def __init__(self, string, doc_id, position):\n",
        "    super().__init__(string, doc_id)\n",
        "    self.position = position\n",
        "  \n",
        "  def __lt__(token_with_doc_A, token_with_doc_B):\n",
        "    if token_with_doc_A.string != token_with_doc_B.string:\n",
        "      return token_with_doc_A.string < token_with_doc_B.string\n",
        "    elif token_with_doc_A.doc_id != token_with_doc_B.doc_id:\n",
        "      return token_with_doc_A.doc_id < token_with_doc_B.doc_id\n",
        "    else:\n",
        "      return token_with_doc_A.position < token_with_doc_B.position"
      ],
      "metadata": {
        "id": "XSBSe0-PxlCV"
      },
      "execution_count": 22,
      "outputs": []
    },
    {
      "cell_type": "code",
      "source": [
        "class Posting:\n",
        "  def __init__(self, doc_id, position, doc_freq):\n",
        "    self.doc_id = doc_id\n",
        "    self.position = position\n",
        "    self.doc_freq = doc_freq\n",
        "\n",
        "  def __str__(self):\n",
        "    return f\"({self.doc_id} {self.position})\"\n",
        "  \n",
        "  def __repr__(self):\n",
        "    return f\"({self.doc_id} {self.position})\""
      ],
      "metadata": {
        "id": "1Ts7G2B6TGRX"
      },
      "execution_count": 23,
      "outputs": []
    },
    {
      "cell_type": "code",
      "source": [
        "string.punctuation"
      ],
      "metadata": {
        "colab": {
          "base_uri": "https://localhost:8080/",
          "height": 35
        },
        "id": "8_7-T0hPop62",
        "outputId": "5aa74be4-ced8-46f7-9399-bd862008e5e7"
      },
      "execution_count": 24,
      "outputs": [
        {
          "output_type": "execute_result",
          "data": {
            "text/plain": [
              "'!\"#$%&\\'()*+,-./:;<=>?@[\\\\]^_`{|}~'"
            ],
            "application/vnd.google.colaboratory.intrinsic+json": {
              "type": "string"
            }
          },
          "metadata": {},
          "execution_count": 24
        }
      ]
    },
    {
      "cell_type": "code",
      "source": [
        "def wikipediaPreprocessing(text):\n",
        "  text = unicodedata.normalize('NFKC', text)\n",
        "  text = text.replace('\\n', '')\n",
        "  text = re.sub(r'\\[.*?\\]+', '', text)\n",
        "  text = re.sub(r'Contents\\s+1\\s+Plot.+Plot', '', text) \n",
        "  text = re.sub(r'^.+From Wikipedia, the free encyclopedia.+List of episodes', '', text)\n",
        "  return text"
      ],
      "metadata": {
        "id": "gpJRsN2bk5Iw"
      },
      "execution_count": 91,
      "outputs": []
    },
    {
      "cell_type": "code",
      "execution_count": 106,
      "metadata": {
        "id": "4WtSmBsrzqE7"
      },
      "outputs": [],
      "source": [
        "STOP_WORDS = nltk.corpus.stopwords.words('english')\n",
        "class InvertedIndex:\n",
        "    \"\"\"\n",
        "    Construct Inverted Index\n",
        "    \"\"\"\n",
        "    def __init__(self):\n",
        "        self.inverted_index = {}\n",
        "        self.csv_terms = set()\n",
        "\n",
        "    def __getitem__(self, key):\n",
        "        return self.inverted_index[key]\n",
        "      \n",
        "    def keys(self):\n",
        "      return self.inverted_index.keys()\n",
        "\n",
        "    # def appendCSV(self, path):\n",
        "    #   df = pd.read_csv(path)\n",
        "    #   set_of_csv_entries = df['name']\n",
        "    #   # for term in df['name']\n",
        "    #   processed_csv_entries = self.processListOfTokens(set_of_csv_entries)\n",
        "    #   # remove any duplicate entries\n",
        "    #   print(processed_csv_entries[:10])\n",
        "    #   without_duplicates = set(processed_csv_entries)\n",
        "    #   self.csv_terms = self.csv_terms.union(without_duplicates)\n",
        "\n",
        "    def read_data(self, path: str) -> list:\n",
        "        \"\"\"\n",
        "        Read files from a directory and then append the data of each file into a list.\n",
        "        \"\"\"\n",
        "        output = []\n",
        "        for file in os.listdir(path):\n",
        "          filename_with_path = os.path.join(path, file)\n",
        "          if (file[-3:]).lower() == 'txt':\n",
        "            with open(filename_with_path, 'r') as f:\n",
        "              output.append(StringWithDocId(f.read(), file))\n",
        "          # elif (file[-3:]).lower() == 'csv':\n",
        "          #   self.appendCSV(filename_with_path)\n",
        "          else:\n",
        "            print(filename_with_path, \"will be skipped\")\n",
        "        print(len(output))\n",
        "        return output\n",
        "      \n",
        "    def processListOfTokens(self, tokenized):\n",
        "      output = []\n",
        "      for token in tokenized:\n",
        "        # 2. ignore stop-words\n",
        "        if token in STOP_WORDS:\n",
        "          continue\n",
        "        # remove punctuation\n",
        "        # looping in order to remove tokens that are made up out of multiple punctuation characters\n",
        "        # e.g. '!)' and '!\"'\n",
        "        for char in token:\n",
        "          if char not in \"’“”—¡\"+string.punctuation:\n",
        "            break\n",
        "        # if the loop didn't break - the entire string is made up out of punctuation characters\n",
        "        else:\n",
        "          continue\n",
        "        # 3. porter stemmer makes everything lowercase as well\n",
        "        stemmed = porter.stem(token)\n",
        "        output.append(stemmed)\n",
        "      return output\n",
        "\n",
        "    def process_document(self, document: str, wordpunct_tokenize=True) -> list:\n",
        "        \"\"\"\n",
        "        pre-process a document and return a list of its terms\n",
        "        str->list\"\"\"\n",
        "        # 1. Wikipedia hyperlinks should be removed\n",
        "        # 4. Use multi-word character/location names from .csv files\n",
        "        text = wikipediaPreprocessing(document)\n",
        "        if wordpunct_tokenize:\n",
        "          tokenized  = nltk.tokenize.wordpunct_tokenize(text)\n",
        "        else:\n",
        "          tokenized  = nltk.tokenize.word_tokenize(text)\n",
        "        # remove stop-words & apply stemming\n",
        "        filtered_tokens = self.processListOfTokens(tokenized)\n",
        "        return filtered_tokens\n",
        "    \n",
        "    def index_corpus(self, documents: list) -> None:\n",
        "        \"\"\"\n",
        "        index given documents\n",
        "        list->None\"\"\"\n",
        "        starting_time = time.perf_counter()\n",
        "        token_list = []\n",
        "        # 1. Generate token sequence\n",
        "        for doc in documents:\n",
        "          curr_doc_id = doc.doc_id\n",
        "          processed_string = self.process_document(doc.string)\n",
        "          for i, token in enumerate(processed_string):\n",
        "            token_with_doc_id_and_pos = StringWithDocIdAndPosition(token, curr_doc_id, i)\n",
        "            token_list.append(token_with_doc_id_and_pos)\n",
        "        # 2. Sort\n",
        "        sorted_token_list = sorted(token_list)\n",
        "        print(\"First 10 of sorted_token_list:\", sorted_token_list[:10])\n",
        "        # 3. Convert into dictionary of postings\n",
        "        for token in sorted_token_list:\n",
        "          if token.string in self.inverted_index:\n",
        "            self.inverted_index[token.string].append(Posting(token.doc_id, token.position, 1))\n",
        "          else:\n",
        "            self.inverted_index[token.string] = [Posting(token.doc_id, token.position, 1)]\n",
        "        # Print out some details about the dataset\n",
        "        total_time_taken = round(time.perf_counter() - starting_time, 4)\n",
        "        print(f\"It took: {total_time_taken} seconds to index the whole corpus.\")\n",
        "        print(f\"It has {len(self.inverted_index)} entries in total.\")\n",
        "      \n",
        "    def dump(self, path: str) -> None:\n",
        "        \"\"\"\n",
        "        provide a dump function to show index entries for a given set of terms        \n",
        "        \"\"\"\n",
        "        if os.path.exists(path) == False:\n",
        "          print(\"Path to file you provided doesn't exist\")\n",
        "          return\n",
        "        with open(path, 'r') as f:\n",
        "          file_contents = f.read()\n",
        "          examples = file_contents.split('\\n')\n",
        "          for e in examples:\n",
        "            processed_e = \" \".join(self.process_document(e))\n",
        "            try:\n",
        "              print(f'{len(self.inverted_index[processed_e])} matches for {e}:', self.inverted_index[processed_e])\n",
        "            except KeyError:\n",
        "              print(e, \"was not found\")\n",
        "     \n",
        "    def proximity_search(self, term1: str, term2: str, window_size: int = 3) -> dict:\n",
        "        \"\"\"\n",
        "        1) check whether given two terms appear within a window\n",
        "        2) calculate the number of their co-existance in a document\n",
        "        3) add the document id and the number of matches into a dict\n",
        "        return the dict\"\"\"\n",
        "        term1 = \" \".join(self.process_document(term1))\n",
        "        term2 = \" \".join(self.process_document(term2))\n",
        "        documents_containing_both_terms = []\n",
        "        term1_i = 0\n",
        "        term2_i = 0\n",
        "        while term1_i < len(self.inverted_index[term1]) and term2_i < len(self.inverted_index[term2]):\n",
        "          if self.inverted_index[term1][term1_i].doc_id == self.inverted_index[term2][term2_i].doc_id:\n",
        "            if abs(self.inverted_index[term1][term1_i].position - self.inverted_index[term2][term2_i].position) <= window_size:\n",
        "              documents_containing_both_terms.append((str(self.inverted_index[term1][term1_i]), str(self.inverted_index[term2][term2_i])))\n",
        "            term1_i += 1\n",
        "            term2_i += 1\n",
        "          else:\n",
        "            if self.inverted_index[term1][term1_i].doc_id < self.inverted_index[term2][term2_i].doc_id:\n",
        "              term1_i += 1\n",
        "            else:\n",
        "              term2_i += 1\n",
        "        return documents_containing_both_terms"
      ]
    },
    {
      "cell_type": "code",
      "source": [
        "def testReadData():\n",
        "  index = InvertedIndex()\n",
        "  corpus = index.read_data('/content/drive/MyDrive/Colab Notebooks/Simpsons2022')\n",
        "  return (corpus[0]).string\n",
        "testReadData()"
      ],
      "metadata": {
        "colab": {
          "base_uri": "https://localhost:8080/",
          "height": 178
        },
        "id": "nSvu_GKR_03l",
        "outputId": "8b0b5526-06a5-4bbe-e145-a1ec8c1a57c1"
      },
      "execution_count": 107,
      "outputs": [
        {
          "output_type": "stream",
          "name": "stdout",
          "text": [
            "/content/drive/MyDrive/Colab Notebooks/Simpsons2022/simpsons_characters - row.csv will be skipped\n",
            "/content/drive/MyDrive/Colab Notebooks/Simpsons2022/simpsons_locations row.csv will be skipped\n",
            "118\n"
          ]
        },
        {
          "output_type": "execute_result",
          "data": {
            "text/plain": [
              "'Mr. Lisa Goes to Washington\\nFrom Wikipedia, the free encyclopedia\\n\\n\\n\\nJump to navigation\\nJump to search\\n\"Mr. Lisa Goes to Washington\"\\nThe Simpsons\\xa0episode\\nEpisode\\xa0no.\\nSeason\\xa03\\nEpisode 2\\nDirected by\\nWes Archer\\nWritten by\\nGeorge Meyer\\nProduction code\\n8F01\\nOriginal air date\\nSeptember 26, 1991[1]\\n\\nEpisode features\\nChalkboard gag\\n\"Spitwads are not free speech\"\\nCouch gag\\nThe family sits down and Homer pulls\\xa0Santa\\'s Little Helper\\xa0from under him.\\nCommentary\\nMatt Groening\\nAl Jean\\nMike Reiss\\nJulie Kavner\\nWes Archer\\nDavid Silverman\\nEpisode chronology\\n←\\xa0Previous\\n\"Stark Raving Dad\"\\nNext\\xa0→\\n\"When Flanders Failed\"\\nThe Simpsons\\xa0(season 3)\\nList of episodes\\n\"Mr. Lisa Goes to Washington\" is the second episode of the\\xa0third season\\xa0of the American animated television series\\xa0The Simpsons. It originally aired on the\\xa0Fox network\\xa0in the United States on September 26, 1991. In the episode,\\xa0Lisa\\xa0wins a patriotic essay contest about the\\xa0United States. She and her family attend the contest finals in\\xa0Washington, D.C., where she is dismayed after watching a\\xa0congressman\\xa0accept a bribe. Lisa loses the contest when she pens a scathing screed condemning the\\xa0government system, but the corrupt congressman is jailed and removed from office, restoring her faith in government.\\nThe episode was written by\\xa0George Meyer\\xa0and directed by\\xa0Wes Archer. It was the first episode for which\\xa0Al Jean\\xa0and\\xa0Mike Reiss\\xa0served as\\xa0show runners. It features multiple references to the 1939 film\\xa0Mr. Smith Goes to Washington, including the scene in which Lisa appeals to Lincoln\\'s statue at the\\xa0Lincoln Memorial\\xa0for advice. Other Washington landmarks referenced in the episode include the\\xa0White House, the\\xa0Watergate Hotel, the\\xa0Jefferson Memorial, the\\xa0Washington Monument, the\\xa0National Air and Space Museum\\xa0and the\\xa0Kennedy Center for the Performing Arts.\\nThe episode acquired a\\xa0Nielsen rating\\xa0of 12.9, and was the third highest-rated show on Fox the week it aired. It received mostly positive reviews from television critics, who praised the episode for its satire on American politics. The\\xa0timber industry\\xa0criticized the scene in which Lisa witnesses a timber industry lobbyist offering a bribe to the congressman to allow loggers to raze the Springfield Forest. The scene was described as \"an easy shot at hard-working people whose only crime is to have been born in a timber town\".[2]\\nContents\\n\\t\\t1\\n\\t\\tPlot\\n\\t\\t2\\n\\t\\tProduction\\n\\t\\t3\\n\\t\\tCultural references\\n\\t\\t4\\n\\t\\tThemes and analysis\\n\\t\\t5\\n\\t\\tReception\\n\\t\\t5.1\\n\\t\\tBroadcast and re-releases\\n\\t\\t5.2\\n\\t\\tCritical reviews\\n\\t\\t5.3\\n\\t\\tResponse from the timber industry\\n\\t\\t6\\n\\t\\tReferences\\n\\t\\t7\\n\\t\\tExternal links\\nPlot[edit]\\nHomer\\xa0sees an ad for a children\\'s essay contest in the\\xa0Reading Digest\\xa0magazine.\\xa0Lisa\\xa0submits an essay on the contest\\'s topic — \"what makes America great\" — after visiting Springfield Forest and seeing a\\xa0bald eagle\\xa0land nearby. The Simpsons travel to Washington, D.C. after Lisa\\'s essay, \"The Roots of Democracy\", earns her a spot in the national finals there.\\nWhile\\xa0Bart\\xa0and Homer enjoy the all-expenses-paid perks of their trip, Lisa visits famous monuments for inspiration. At a shrine to a\\xa0feminist\\xa0icon, she sees a corrupt\\xa0congressman, Bob Arnold, taking a bribe from a timber industry\\xa0lobbyist\\xa0to allow loggers to\\xa0clearcut\\xa0Springfield Forest. Heartbroken and disillusioned by government corruption, Lisa destroys her winning essay. She pens a scathing indictment, \"Cesspool on the\\xa0Potomac\", which condemns government greed and corruption and names the politician involved in the bribery.\\nLisa\\'s essay elicits a hostile reaction from the judges and audience members. When word of her speech quickly spreads through the\\xa0capital, Congressman Arnold is arrested, removed from office and sent to prison, where he becomes a\\xa0born-again\\xa0Christian. Lisa\\'s essay fails to win the contest, but her faith in government is restored and the contest winner commends her courage and honesty.\\nProduction[edit]\\n\\n\\nMike Reiss\\xa0(left) and\\xa0Al Jean\\xa0(right) took over as\\xa0show runners\\xa0for the third season.\\nThe episode was written by\\xa0George Meyer. It is one of\\xa0The Simpsons\\xa0creator\\xa0Matt Groening\\'s favorite episodes of the earlier seasons because he thought it took the show to another level.[3]\\xa0Meyer said he has a \"deep suspicion of social institutions and tradition in general,\" which affected the way he wrote the episode.[4]\\xa0Al Jean\\xa0and\\xa0Mike Reiss, who had written for\\xa0The Simpsons\\xa0since the start of the show, took over as\\xa0show runners\\xa0for the third season. Their first episode as show runners was \"Mr. Lisa Goes to Washington\" and they felt a lot of pressure about running the show. Jean and Reiss were so pressured that they did six to seven rewrites of the script to make it funnier.[5]\\xa0Jean said \"one reason for doing all these rewrites is because I kept thinking \\'It\\'s not good enough. It\\'s not good enough\\',\"[5]\\xa0and Reiss added that \"we were definitely scared. We had never run anything before, and they dumped us on this.\"[6]\\nWes Archer\\xa0directed \"Mr. Lisa Goes to Washington\", which was one of the first episodes to feature the Simpson family traveling to a real-life location.[7]\\xa0Because much of the episode takes place outside of Springfield, new background and character designs had to be animated. The Simpson family visits several real-life landmarks in Washington, which the animators were able to draw with the help of photographs from the animation studio\\'s library.\\xa0The Simpsons\\xa0director\\xa0David Silverman\\xa0grew up in the Washington area so he was able to help out with the designs.[8]\\xa0Marge\\'s voice actor,\\xa0Julie Kavner, said she loved the charm of the family \"just being on a trip and experiencing the hotel room they\\'re staying at, and the integrity of Bart\\'s character. You know, you just want to kill him for doing all those tricks and pranks.\"[9]\\xa0Jean believes this is one of the secrets of the show\\'s success, the fact that it is about a family and the writers can use experiences from their own or their family\\'s life as an inspiration in their writing. He thought \"Mr. Lisa Goes to Washington\" was a perfectly constructed episode in that sense.[5]\\nCultural references[edit]\\n\\n\\nLisa seeks advice from the\\xa0Abraham Lincoln statue\\xa0at the\\xa0Lincoln Memorial.\\nThe title and plot of the episode are parodies of the 1939 film\\xa0Mr. Smith Goes to Washington,[10]\\xa0in which the character Jefferson Smith comes to Washington with patriotic enthusiasm, but is instead shocked to see evidence of corruption in the government.[11][12]\\xa0The Tampa Tribune\\'s Curtis Ross called this reference one of the best film references in\\xa0The Simpsons\\'\\xa0history.[13]\\xa0Lisa\\'s visit to the\\xa0Lincoln Memorial\\xa0is a direct reference to\\xa0Mr. Smith Goes to Washington, in which Smith appeals to\\xa0Lincoln\\'s statue\\xa0for inspiration like Lisa did in the episode.[14]\\xa0In his book\\xa0Abraham Lincoln in the Post-Heroic Era, Barry Schwartz writes that the scene with Lisa at the crowded monument shows how \"thoroughly Lincoln\\'s moral and emotional significance has waned\".[15]\\xa0Mark Reinhart writes in the book\\xa0Abraham Lincoln on Screen\\xa0that the scene sums up \"with brilliant wit\" the American society\\'s \"annoying and ultimately useless tendency to ask [themselves] \\'What would Lincoln have done?\\' whenever [they] face a political or social dilemma\".[16]\\xa0Mr. Smith Goes to Washington\\xa0was once again referenced on\\xa0The Simpsons\\xa0in the\\xa0season fourteen\\xa0episode \"Mr. Spritz Goes to Washington\".[11]\\n\\n\\nThe family visit the\\xa0White House, where they meet then\\xa0First Lady\\xa0Barbara Bush.\\nIn addition to the Lincoln Memorial, other Washington, D.C. landmarks visited include the\\xa0Jefferson Memorial,[16][17]\\xa0the\\xa0Watergate Hotel\\xa0(where the family stays),[18]\\xa0the\\xa0Kennedy Center for the Performing Arts,[2]\\xa0the\\xa0White House,[19]\\xa0the\\xa0National Air and Space Museum, and the\\xa0Washington Monument.[5]\\xa0When the family visits the White House, they encounter then-First Lady\\xa0Barbara Bush\\xa0in the bathtub of one of the many bathrooms.[19]\\xa0Another American landmark mentioned in the episode is\\xa0Mount Rushmore.[1]\\xa0In addition, Lisa proposes that the family attend the memorial of the fictional Winifred Beecher Howe, an early crusader for women\\'s rights who later appeared on the unpopular 75-cent coins, according to Lisa. This is a reference to the\\xa0Susan B. Anthony dollar, which was minted for only three years and never became popular.[20]\\nThe episode makes references to several real-life persons. The piano-playing satirist who annoys Bart is a reference to\\xa0Mark Russell.[5]\\xa0Bob Arnold, the corrupt congressman, tells Lisa that there are quite a few women senators, but Lisa asserts that there are only two. (At the time, there were indeed only two,\\xa0Nancy Landon Kassebaum\\xa0of Kansas and\\xa0Barbara Mikulski\\xa0of Maryland.)[1]\\xa0Then-President\\xa0George H. W. Bush\\xa0is featured briefly in the episode. Shortly after it aired, Bush disparaged\\xa0The Simpsons\\xa0in a speech during his re-election campaign on January 27, 1992. At that point, family values were the cornerstone of Bush\\'s campaign platform, so he gave the following speech at the\\xa0National Religious Broadcasters\\' convention in Washington: \"We are going to keep on trying to strengthen the American family, to make American families a lot more like\\xa0the Waltons\\xa0and a lot less like the Simpsons.\"[21]\\xa0As a result, Bush appeared in future episodes in a more negative light.[21]\\nThemes and analysis[edit]\\n\\n\\nLisa\\'s role in the episode has been compared to\\xa0Henry David Thoreau.\\n\"Mr. Lisa Goes to Washington\" has been labeled as a satire on American politics. Michael Bitzer, in an edited book by Joseph Foy and Stanley Schultz entitled\\xa0Homer Simpson Goes to Washington, said this episode \"espouses the virtues, vices, and varieties of American political culture, public opinion, and ultimately the\\xa0American Dream\".[22]\\xa0Bitzer also wrote that\\xa0The Simpsons, through \"skillful\" use of satire, demonstrates with this episode \"insights into the underlying political culture and public opinion of the United States\\' governing system (and, more broadly, society at large)\".[22]\\xa0In his book\\xa0Gilligan Unbound: Pop Culture in the Age of Globalization, Paul Arthur Cantor said he was amazed by how far the episode was \"willing to take its corrosive satire of national politics\".[23]\\xa0He said it \"attacks the federal government at its foundation, the patriotic myths upon which its legitimacy lies. It makes fun of the very process by which patriotism is inculcated in the nation\\'s youth, the hokey contests that lead children to outdo each other in progovernment effusions.\"[23]\\xa0When the corrupt congressman is arrested, Lisa proclaims \"The system works!\" Benedict Anderson wrote in the book\\xa0The Spectre of Comparisons\\xa0that series creator Matt Groening \"assumes that his tickled audience is confident that the system barely works [...] So why does he need to show a patriot at all, especially one who is a deluded little female block-head? Probably because he, too, wishes to be seen as giving America another chance. Mr. Lisa guarantees his good intentions.\"[10]\\nGünter Beck, a lecturer for the\\xa0German Academic Exchange Service\\xa0(DAAD) at the Haifa Center for German and European Studies at the\\xa0University of Haifa\\xa0in Israel, compared Lisa\\'s role in the episode to the nineteenth-century American poet and philosopher\\xa0Henry David Thoreau. He writes that Lisa stands up against the public\\'s indifference towards the political system that Thoreau criticized, and comments that the emphasis should be \"on the brave moral decision to stand up for principles and against the broad public. By this courageous act, \\'to do what is right\\', an individual could save the well-being of the whole community. And indeed, Lisa\\'s bravery is the impulse for the state\\'s representatives to carry out their democratic obligations, so she can gladly notice \\'The system works!\\' — her trust in democracy and its institutions is restored. Thoreau on the other hand, had no lasting trust in the system but only in the people themselves and in the individual\\'s capacity to realize development and democracy.\"[24]\\nReception[edit]\\nBroadcast and re-releases[edit]\\n\"Mr. Lisa Goes to Washington\" originally aired on the Fox network in the United States on September 26, 1991.[1]\\xa0The episode finished 36th in the ratings for the week of September 23–29, 1991, with a\\xa0Nielsen rating\\xa0of 12.9, equivalent to approximately 11.9 million viewing households.\\xa0The Simpsons\\xa0was the third highest-rated show on Fox that week, following\\xa0Married... with Children\\xa0and\\xa0In Living Color.[25]\\xa0\"Mr. Lisa Goes to Washington\" and the episode \"When Flanders Failed\" were released on videocassette in 1999, entitled\\xa0The Best of the Simpsons.[26]\\xa0The episode was later included on the\\xa0Simpsons\\xa0season three DVD set that was released on August 26, 2003. Wes Archer, David Silverman, Matt Groening, Al Jean, Mike Reiss, and Julie Kavner participated in the DVD\\'s\\xa0audio commentary\\xa0of the episode.[27]\\nCritical reviews[edit]\\nSince airing, the episode has received mostly positive reviews from television critics. The authors of the book\\xa0I Can\\'t Believe It\\'s a Bigger and Better Updated Unofficial Simpsons Guide, Warren Martyn and Adrian Wood, praised the episode for being one of the best Lisa-centric episodes, and called Lisa\\'s talk with\\xa0Thomas Jefferson\\xa0and her nightmare vision of politicians as pigs \"especially worthy of note\".[28]\\xa0Nate Meyers of Digitally Obsessed gave the episode a 4.5 rating and said it is one of the best episodes featuring Lisa, \"complete with poignant observations about politics\".[29]\\xa0He particularly enjoyed the appearance of Barbara Bush at the White House.[29]\\nThe\\xa0Austin American-Statesman\\'s Steven Stein said this was the first episode of\\xa0The Simpsons\\xa0he saw. Even though he did not understand half the pop culture references, by the end of the episode he was a \"Simpsons\\xa0convert\".[18]\\xa0He thought there was \"something exotic about an issue as serious as political corruption being dealt with in a cartoon and being interrupted by jokes about beer and, yes, doughnuts\".[18]\\xa0The episode was praised for its political satire. Bill Gibron of DVD Verdict called the episode a \"biting political satire in the guise of a children\\'s oratory contest [which] signifies that this season of the series will be all over the map, both emotionally and logically\".[30]\\xa0Gibron added: \"Everything, from the\\xa0Reader\\'s Digest\\xa0rants to the formulaic speeches of the youths, has a resounding ring of truth. And once the story moves to Washington D.C, our nation\\'s capital is in for a royal reaming as well.\"[30]\\nBryce Wilson of Cinema Blend said the episode solidified the series\\' politically satirical voice as it \"bitch slapped the Bush administration\" that\\xa0would later badmouth\\xa0The Simpsons.[31]\\xa0DVD Movie Guide\\'s Colin Jacobson, however, gave the episode a more negative review, stating that it \"has its moments but never seems like one of the series\\' better programs. Part of that stems from its somewhat icky ending. The show exhibits a tone that feels more appropriate to a less biting and cynical series. It starts well with Homer\\'s obsession with\\xa0Reading Digest. After that, the show seems more erratic, and it remains pretty average overall.\"[32]\\nResponse from the timber industry[edit]\\nAccording to\\xa0The Plain Dealer\\'s Rodney Ferguson, the\\xa0timber industry\\xa0was insulted by the scene in which a timber industry lobbyist offers a bribe to the corrupt congressman so that he can demolish Springfield Forest. The Oregon Lands Coalition, a pro-timber group in\\xa0Salem, Oregon, \"bombarded\" the producers of the show with phone calls and mail protesting the episode.[33]\\xa0The coalition said it portrayed loggers unfairly and is \"allowing itself to be used by environmental extremists\".[2]\\xa0In an open letter to\\xa0The Simpsons\\xa0executive producer\\xa0James L. Brooks, the coalition wrote: \"Rather than approach this issue with genuine concern for Mother Earth, you took an easy shot at hard-working people whose only crime is [having been] born in a timber town.\"[2]\\xa0Karen Clark, a payroll clerk for a timber company in\\xa0Stayton, Oregon, said: \"The Simpsons\\xa0portrayed us as greedy, bribery-type people. It didn\\'t portray us as the everyday people—mothers, fathers, good members of society—that we are.\"[33]\\xa0Luke Popovich, vice president of the American Forest Council, wrote a letter to the show\\'s producer to protest \"the fuzzy-headed characterizations that pass for political correctness, the thinking in Hollywood where people are not very serious about these issues, but interested in pushing the right hot buttons, scoring the right points with audiences\".[33]\\n\\n\\nMatt Groening, creator of\\xa0The Simpsons, responded to the criticism of the episode.\\nThe Simpsons\\xa0creator Matt Groening responded to the criticism in an interview with\\xa0TV Guide, in which he said he did \"research on the ecological damage caused by clear-cutting and over-logging [and] it\\'s really appalling\".[33]\\xa0Jackie Lang, a timber industry activist in Salem who helped lead the protest against the Fox network and Groening, said she was appalled by Groening\\'s response, and \"He will be sorry he ever made it.\"[33]\\xa0Jake Hogan, supervising producer of the show, defended Groening: \"[The episodes] are just little stories, little comedies—stories that make people laugh.\"[33]\\xa0On October 15, 1991, Groening issued another statement to the public, in which he said: \"So now a few lumber companies have joined the nuclear power industry, right-wing preachers and high-ranking Republicans in attacking\\xa0The Simpsons. We must be doing something right. I must point out\\xa0The Simpsons\\xa0is a cartoon show—not\\xa060 Minutes. Later in the show, the same lobbyist proposed drilling for oil in\\xa0Teddy Roosevelt\\'s head at Mount Rushmore. Please don\\'t tell the oil companies about this.\"[34]\\nDavid Reinhard of\\xa0The Oregonian\\xa0commented on the criticism: \"Hollywood sharpsters can always make a group from the great American hinterland look ridiculous when it zeroes in on one show, particularly if that show is a cartoon. And the Oregon Lands Coalition\\'s protest was a bit of an overreaction. But the environmental sloganeering of\\xa0The Simpsons\\xa0as well as Groening\\'s cartoon commentary are symptomatic of a Hollywood and a popular culture that are hostile to the concerns and values of most Americans.\"[34]\\xa0After the episode aired, media researchers Robert Lichter and Linda S. Lichter found in a study of prime-time television that when shows dealt with business themes, 89 percent portrayed businessmen as swindlers or liars.[34]\\nThe same day Groening released his second statement,\\xa0The Simpsons\\xa0publicist Antonia Coffman was invited by Wayne Giesy, sales manager of Hull-Oakes Lumber Co. in\\xa0Bellfountain, Oregon, to visit Oregon and see \"responsible timber management\".[2]\\xa0Giesy said they wanted to show the producers \"how we log, how we manufacture, what goods we produce for everyone and how we replant for future generations. What most timber companies are interested in is a balanced program.\"[2]\\n'"
            ],
            "application/vnd.google.colaboratory.intrinsic+json": {
              "type": "string"
            }
          },
          "metadata": {},
          "execution_count": 107
        }
      ]
    },
    {
      "cell_type": "code",
      "source": [
        "def testTokenzination():\n",
        "    index = InvertedIndex() # initilaise the index\n",
        "    corpus = index.read_data('/content/drive/MyDrive/Colab Notebooks/Simpsons2022') # specify the directory path in which files are located\n",
        "    text = (corpus[0]).string\n",
        "    start_time = time.perf_counter()\n",
        "    tokenized = index.process_document(text)\n",
        "    print(\"Time taken\", time.perf_counter()-start_time)\n",
        "    return tokenized\n",
        "testTokenzination()[:60]"
      ],
      "metadata": {
        "colab": {
          "base_uri": "https://localhost:8080/"
        },
        "id": "ZJGAK55tDxZB",
        "outputId": "b4b4d617-b576-45dd-d070-1d93ac55dd09"
      },
      "execution_count": 108,
      "outputs": [
        {
          "output_type": "stream",
          "name": "stdout",
          "text": [
            "/content/drive/MyDrive/Colab Notebooks/Simpsons2022/simpsons_characters - row.csv will be skipped\n",
            "/content/drive/MyDrive/Colab Notebooks/Simpsons2022/simpsons_locations row.csv will be skipped\n",
            "118\n",
            "Time taken 0.056041265000203566\n"
          ]
        },
        {
          "output_type": "execute_result",
          "data": {
            "text/plain": [
              "['mr',\n",
              " 'lisa',\n",
              " 'goe',\n",
              " 'washington',\n",
              " 'second',\n",
              " 'episod',\n",
              " 'third',\n",
              " 'season',\n",
              " 'american',\n",
              " 'anim',\n",
              " 'televis',\n",
              " 'seri',\n",
              " 'the',\n",
              " 'simpson',\n",
              " 'it',\n",
              " 'origin',\n",
              " 'air',\n",
              " 'fox',\n",
              " 'network',\n",
              " 'unit',\n",
              " 'state',\n",
              " 'septemb',\n",
              " '26',\n",
              " '1991',\n",
              " 'in',\n",
              " 'episod',\n",
              " 'lisa',\n",
              " 'win',\n",
              " 'patriot',\n",
              " 'essay',\n",
              " 'contest',\n",
              " 'unit',\n",
              " 'state',\n",
              " 'she',\n",
              " 'famili',\n",
              " 'attend',\n",
              " 'contest',\n",
              " 'final',\n",
              " 'washington',\n",
              " 'd',\n",
              " 'c',\n",
              " 'dismay',\n",
              " 'watch',\n",
              " 'congressman',\n",
              " 'accept',\n",
              " 'bribe',\n",
              " 'lisa',\n",
              " 'lose',\n",
              " 'contest',\n",
              " 'pen',\n",
              " 'scath',\n",
              " 'screed',\n",
              " 'condemn',\n",
              " 'govern',\n",
              " 'system',\n",
              " 'corrupt',\n",
              " 'congressman',\n",
              " 'jail',\n",
              " 'remov',\n",
              " 'offic']"
            ]
          },
          "metadata": {},
          "execution_count": 108
        }
      ]
    },
    {
      "cell_type": "code",
      "source": [
        "def testTokenzination():\n",
        "    index = InvertedIndex() # initilaise the index\n",
        "    corpus = index.read_data('/content/drive/MyDrive/Colab Notebooks/Simpsons2022') # specify the directory path in which files are located\n",
        "    text = (corpus[0]).string\n",
        "    start_time = time.perf_counter()\n",
        "    tokenized = index.process_document(text, False)\n",
        "    print(\"Time taken\", time.perf_counter()-start_time)\n",
        "    return tokenized\n",
        "testTokenzination()[:60]"
      ],
      "metadata": {
        "colab": {
          "base_uri": "https://localhost:8080/"
        },
        "id": "rkZoP1P6BxZ4",
        "outputId": "f0b59312-fcd0-4443-ed8f-db78b3943183"
      },
      "execution_count": 109,
      "outputs": [
        {
          "output_type": "stream",
          "name": "stdout",
          "text": [
            "/content/drive/MyDrive/Colab Notebooks/Simpsons2022/simpsons_characters - row.csv will be skipped\n",
            "/content/drive/MyDrive/Colab Notebooks/Simpsons2022/simpsons_locations row.csv will be skipped\n",
            "118\n",
            "Time taken 0.08179863599980308\n"
          ]
        },
        {
          "output_type": "execute_result",
          "data": {
            "text/plain": [
              "['mr.',\n",
              " 'lisa',\n",
              " 'goe',\n",
              " 'washington',\n",
              " 'second',\n",
              " 'episod',\n",
              " 'third',\n",
              " 'season',\n",
              " 'american',\n",
              " 'anim',\n",
              " 'televis',\n",
              " 'seri',\n",
              " 'the',\n",
              " 'simpson',\n",
              " 'it',\n",
              " 'origin',\n",
              " 'air',\n",
              " 'fox',\n",
              " 'network',\n",
              " 'unit',\n",
              " 'state',\n",
              " 'septemb',\n",
              " '26',\n",
              " '1991',\n",
              " 'in',\n",
              " 'episod',\n",
              " 'lisa',\n",
              " 'win',\n",
              " 'patriot',\n",
              " 'essay',\n",
              " 'contest',\n",
              " 'unit',\n",
              " 'state',\n",
              " 'she',\n",
              " 'famili',\n",
              " 'attend',\n",
              " 'contest',\n",
              " 'final',\n",
              " 'washington',\n",
              " 'd.c.',\n",
              " 'dismay',\n",
              " 'watch',\n",
              " 'congressman',\n",
              " 'accept',\n",
              " 'bribe',\n",
              " 'lisa',\n",
              " 'lose',\n",
              " 'contest',\n",
              " 'pen',\n",
              " 'scath',\n",
              " 'screed',\n",
              " 'condemn',\n",
              " 'govern',\n",
              " 'system',\n",
              " 'corrupt',\n",
              " 'congressman',\n",
              " 'jail',\n",
              " 'remov',\n",
              " 'offic',\n",
              " 'restor']"
            ]
          },
          "metadata": {},
          "execution_count": 109
        }
      ]
    },
    {
      "cell_type": "code",
      "execution_count": 110,
      "metadata": {
        "colab": {
          "base_uri": "https://localhost:8080/"
        },
        "id": "3n4tuVF-zqE9",
        "outputId": "1655aebf-369d-46fa-d883-0f540dc39ac1"
      },
      "outputs": [
        {
          "output_type": "stream",
          "name": "stdout",
          "text": [
            "/content/drive/MyDrive/Colab Notebooks/Simpsons2022/simpsons_characters - row.csv will be skipped\n",
            "/content/drive/MyDrive/Colab Notebooks/Simpsons2022/simpsons_locations row.csv will be skipped\n",
            "118\n",
            "First 10 of sorted_token_list: [0: 4.2.txt, 0: 4.3.txt, 0: 4.4.txt, 0: 5.21.txt, 0: 5.21.txt, 0: 5.8.txt, 0: 5.8.txt, 0: 6.4.txt, 0: 7.3.txt, 0: 7.3.txt]\n",
            "It took: 4.8645 seconds to index the whole corpus.\n",
            "It has 9986 entries in total.\n"
          ]
        }
      ],
      "source": [
        "def main():\n",
        "    \"main call function\"\n",
        "    index = InvertedIndex() # initilaise the index\n",
        "    corpus = index.read_data('/content/drive/MyDrive/Colab Notebooks/Simpsons2022') # specify the directory path in which files are located\n",
        "    index.index_corpus(corpus) # index documents/corpus\n",
        "    return index\n",
        "    \n",
        "index = main()"
      ]
    },
    {
      "cell_type": "code",
      "source": [
        "index.dump(\"/content/drive/MyDrive/Colab Notebooks/26957722.txt\")"
      ],
      "metadata": {
        "id": "G94h70akKT-Q",
        "colab": {
          "base_uri": "https://localhost:8080/"
        },
        "outputId": "02dd1999-2a8c-42cb-ea6f-fbe0db936c86"
      },
      "execution_count": 111,
      "outputs": [
        {
          "output_type": "stream",
          "name": "stdout",
          "text": [
            "1172 matches for Bart: [(3.1.txt 42), (3.1.txt 212), (3.1.txt 245), (3.1.txt 299), (3.1.txt 322), (3.1.txt 327), (3.1.txt 341), (3.1.txt 356), (3.1.txt 512), (3.1.txt 523), (3.1.txt 796), (3.1.txt 799), (3.1.txt 1041), (3.1.txt 1065), (3.1.txt 1178), (3.1.txt 1762), (3.1.txt 1798), (3.10.txt 907), (3.10.txt 1085), (3.10.txt 1220), (3.10.txt 1306), (3.11.txt 352), (3.11.txt 553), (3.11.txt 655), (3.11.txt 686), (3.12.txt 39), (3.12.txt 45), (3.12.txt 124), (3.12.txt 153), (3.12.txt 163), (3.12.txt 202), (3.12.txt 207), (3.12.txt 421), (3.12.txt 424), (3.12.txt 443), (3.12.txt 505), (3.12.txt 614), (3.13.txt 1), (3.13.txt 24), (3.13.txt 51), (3.13.txt 62), (3.13.txt 99), (3.13.txt 141), (3.13.txt 145), (3.13.txt 156), (3.13.txt 181), (3.13.txt 232), (3.13.txt 244), (3.13.txt 251), (3.13.txt 263), (3.13.txt 270), (3.13.txt 294), (3.13.txt 307), (3.13.txt 324), (3.13.txt 578), (3.13.txt 669), (3.13.txt 692), (3.13.txt 758), (3.13.txt 801), (3.13.txt 884), (3.13.txt 889), (3.13.txt 924), (3.13.txt 941), (3.13.txt 1113), (3.13.txt 1123), (3.14.txt 313), (3.14.txt 334), (3.15.txt 42), (3.15.txt 72), (3.15.txt 226), (3.15.txt 252), (3.15.txt 344), (3.15.txt 481), (3.15.txt 507), (3.15.txt 522), (3.15.txt 680), (3.16.txt 0), (3.16.txt 24), (3.16.txt 38), (3.16.txt 75), (3.16.txt 109), (3.16.txt 172), (3.16.txt 187), (3.16.txt 200), (3.16.txt 229), (3.16.txt 249), (3.16.txt 266), (3.16.txt 279), (3.16.txt 291), (3.16.txt 300), (3.16.txt 349), (3.16.txt 432), (3.16.txt 444), (3.16.txt 452), (3.16.txt 566), (3.16.txt 587), (3.16.txt 651), (3.16.txt 675), (3.16.txt 771), (3.16.txt 882), (3.16.txt 942), (3.16.txt 960), (3.16.txt 1026), (3.17.txt 947), (3.18.txt 47), (3.18.txt 81), (3.18.txt 163), (3.18.txt 185), (3.18.txt 193), (3.18.txt 225), (3.18.txt 229), (3.18.txt 243), (3.18.txt 319), (3.18.txt 329), (3.18.txt 369), (3.18.txt 413), (3.18.txt 568), (3.18.txt 596), (3.18.txt 626), (3.18.txt 645), (3.18.txt 788), (3.18.txt 827), (3.18.txt 905), (3.18.txt 930), (3.18.txt 941), (3.18.txt 955), (3.19.txt 66), (3.19.txt 163), (3.19.txt 189), (3.19.txt 278), (3.19.txt 297), (3.19.txt 308), (3.19.txt 715), (3.19.txt 732), (3.19.txt 1238), (3.2.txt 220), (3.2.txt 488), (3.2.txt 755), (3.20.txt 202), (3.20.txt 905), (3.20.txt 1675), (3.21.txt 49), (3.21.txt 55), (3.21.txt 62), (3.21.txt 65), (3.21.txt 121), (3.21.txt 163), (3.21.txt 166), (3.21.txt 221), (3.21.txt 257), (3.21.txt 285), (3.21.txt 303), (3.21.txt 315), (3.21.txt 410), (3.21.txt 505), (3.21.txt 590), (3.21.txt 743), (3.21.txt 773), (3.22.txt 26), (3.22.txt 156), (3.22.txt 174), (3.22.txt 190), (3.22.txt 270), (3.22.txt 280), (3.23.txt 0), (3.23.txt 28), (3.23.txt 46), (3.23.txt 55), (3.23.txt 108), (3.23.txt 151), (3.23.txt 159), (3.23.txt 186), (3.23.txt 194), (3.23.txt 208), (3.23.txt 220), (3.23.txt 246), (3.23.txt 251), (3.23.txt 254), (3.23.txt 266), (3.23.txt 412), (3.23.txt 431), (3.23.txt 452), (3.23.txt 454), (3.23.txt 463), (3.23.txt 472), (3.23.txt 521), (3.23.txt 654), (3.23.txt 749), (3.24.txt 222), (3.24.txt 302), (3.3.txt 64), (3.3.txt 254), (3.3.txt 277), (3.3.txt 308), (3.3.txt 316), (3.3.txt 564), (3.3.txt 806), (3.3.txt 810), (3.3.txt 841), (3.3.txt 896), (3.4.txt 0), (3.4.txt 24), (3.4.txt 39), (3.4.txt 48), (3.4.txt 125), (3.4.txt 153), (3.4.txt 173), (3.4.txt 188), (3.4.txt 214), (3.4.txt 225), (3.4.txt 231), (3.4.txt 246), (3.4.txt 258), (3.4.txt 264), (3.4.txt 311), (3.4.txt 322), (3.4.txt 343), (3.4.txt 538), (3.4.txt 542), (3.4.txt 551), (3.4.txt 569), (3.4.txt 589), (3.4.txt 621), (3.4.txt 633), (3.4.txt 656), (3.4.txt 676), (3.4.txt 715), (3.4.txt 767), (3.4.txt 828), (3.4.txt 848), (3.4.txt 904), (3.5.txt 54), (3.5.txt 297), (3.5.txt 310), (3.5.txt 320), (3.5.txt 337), (3.5.txt 342), (3.5.txt 348), (3.5.txt 396), (3.5.txt 439), (3.5.txt 773), (3.5.txt 797), (3.5.txt 813), (3.5.txt 829), (3.5.txt 839), (3.5.txt 841), (3.5.txt 848), (3.6.txt 41), (3.6.txt 159), (3.6.txt 171), (3.6.txt 186), (3.6.txt 284), (3.6.txt 321), (3.6.txt 341), (3.6.txt 362), (3.6.txt 387), (3.6.txt 563), (3.6.txt 730), (3.6.txt 864), (3.6.txt 906), (3.7.txt 37), (3.7.txt 89), (3.7.txt 249), (3.7.txt 264), (3.7.txt 281), (3.7.txt 329), (3.7.txt 354), (3.7.txt 360), (3.7.txt 377), (3.7.txt 386), (3.7.txt 395), (3.7.txt 404), (3.7.txt 822), (3.7.txt 840), (3.7.txt 1006), (3.7.txt 1014), (3.7.txt 1022), (3.7.txt 1057), (3.7.txt 1058), (3.7.txt 1228), (3.7.txt 1252), (3.8.txt 260), (3.9.txt 28), (3.9.txt 34), (3.9.txt 43), (3.9.txt 60), (3.9.txt 141), (3.9.txt 150), (3.9.txt 165), (3.9.txt 189), (3.9.txt 197), (3.9.txt 204), (3.9.txt 213), (3.9.txt 226), (3.9.txt 244), (3.9.txt 260), (3.9.txt 308), (3.9.txt 317), (3.9.txt 393), (3.9.txt 415), (3.9.txt 427), (3.9.txt 602), (3.9.txt 665), (3.9.txt 858), (3.9.txt 873), (4.1.txt 53), (4.1.txt 67), (4.1.txt 80), (4.1.txt 87), (4.1.txt 96), (4.1.txt 103), (4.1.txt 170), (4.1.txt 203), (4.1.txt 215), (4.1.txt 221), (4.1.txt 231), (4.1.txt 340), (4.1.txt 596), (4.10.txt 144), (4.10.txt 239), (4.10.txt 253), (4.10.txt 259), (4.10.txt 270), (4.10.txt 277), (4.10.txt 280), (4.10.txt 403), (4.10.txt 417), (4.10.txt 462), (4.10.txt 470), (4.10.txt 481), (4.10.txt 1054), (4.10.txt 1067), (4.10.txt 1081), (4.10.txt 1091), (4.10.txt 1120), (4.10.txt 1132), (4.10.txt 1150), (4.10.txt 1229), (4.11.txt 286), (4.11.txt 448), (4.11.txt 506), (4.12.txt 305), (4.13.txt 40), (4.13.txt 64), (4.13.txt 157), (4.13.txt 195), (4.13.txt 205), (4.13.txt 222), (4.13.txt 254), (4.13.txt 471), (4.13.txt 513), (4.14.txt 30), (4.14.txt 108), (4.14.txt 120), (4.14.txt 131), (4.14.txt 183), (4.14.txt 303), (4.14.txt 342), (4.14.txt 525), (4.14.txt 536), (4.14.txt 551), (4.14.txt 563), (4.14.txt 580), (4.14.txt 603), (4.14.txt 617), (4.14.txt 717), (4.14.txt 724), (4.14.txt 726), (4.15.txt 279), (4.15.txt 655), (4.15.txt 741), (4.15.txt 851), (4.15.txt 916), (4.15.txt 967), (4.16.txt 36), (4.16.txt 82), (4.16.txt 107), (4.16.txt 118), (4.16.txt 150), (4.16.txt 356), (4.16.txt 377), (4.16.txt 487), (4.16.txt 504), (4.18.txt 36), (4.18.txt 39), (4.18.txt 136), (4.18.txt 141), (4.18.txt 212), (4.18.txt 226), (4.18.txt 250), (4.18.txt 418), (4.18.txt 579), (4.18.txt 636), (4.18.txt 638), (4.18.txt 647), (4.18.txt 651), (4.18.txt 662), (4.18.txt 683), (4.18.txt 767), (4.19.txt 24), (4.19.txt 74), (4.19.txt 120), (4.19.txt 129), (4.19.txt 137), (4.19.txt 195), (4.19.txt 197), (4.19.txt 368), (4.19.txt 534), (4.19.txt 563), (4.19.txt 726), (4.2.txt 150), (4.2.txt 1014), (4.2.txt 1628), (4.20.txt 41), (4.20.txt 115), (4.20.txt 127), (4.20.txt 156), (4.20.txt 159), (4.20.txt 205), (4.20.txt 277), (4.20.txt 307), (4.21.txt 284), (4.21.txt 488), (4.21.txt 948), (4.22.txt 45), (4.22.txt 140), (4.22.txt 262), (4.22.txt 270), (4.22.txt 290), (4.22.txt 326), (4.22.txt 1432), (4.5.txt 31), (4.5.txt 41), (4.5.txt 105), (4.5.txt 129), (4.5.txt 153), (4.5.txt 369), (4.5.txt 391), (4.5.txt 404), (4.5.txt 463), (4.5.txt 622), (4.5.txt 783), (4.6.txt 27), (4.6.txt 44), (4.6.txt 77), (4.6.txt 90), (4.6.txt 105), (4.6.txt 122), (4.6.txt 126), (4.6.txt 142), (4.6.txt 150), (4.6.txt 175), (4.6.txt 184), (4.6.txt 186), (4.6.txt 193), (4.6.txt 216), (4.6.txt 223), (4.6.txt 231), (4.6.txt 240), (4.6.txt 259), (4.6.txt 664), (4.7.txt 48), (4.7.txt 161), (4.7.txt 171), (4.7.txt 180), (4.7.txt 201), (4.7.txt 260), (4.7.txt 271), (4.7.txt 275), (4.7.txt 284), (4.7.txt 403), (4.7.txt 413), (4.7.txt 495), (4.7.txt 604), (4.7.txt 615), (4.7.txt 649), (4.7.txt 657), (4.7.txt 700), (4.7.txt 711), (4.8.txt 28), (4.8.txt 79), (4.8.txt 102), (4.8.txt 163), (4.8.txt 171), (4.8.txt 187), (4.8.txt 234), (4.9.txt 753), (5.1.txt 68), (5.1.txt 170), (5.1.txt 1004), (5.1.txt 1335), (5.10.txt 54), (5.10.txt 210), (5.11.txt 165), (5.11.txt 474), (5.11.txt 670), (5.11.txt 821), (5.12.txt 0), (5.12.txt 25), (5.12.txt 44), (5.12.txt 118), (5.12.txt 151), (5.12.txt 161), (5.12.txt 170), (5.12.txt 179), (5.12.txt 186), (5.12.txt 202), (5.12.txt 224), (5.12.txt 229), (5.12.txt 241), (5.12.txt 250), (5.12.txt 281), (5.12.txt 294), (5.12.txt 307), (5.12.txt 349), (5.12.txt 371), (5.12.txt 459), (5.12.txt 500), (5.12.txt 558), (5.12.txt 643), (5.12.txt 660), (5.12.txt 670), (5.12.txt 690), (5.12.txt 705), (5.12.txt 717), (5.12.txt 778), (5.12.txt 790), (5.12.txt 805), (5.12.txt 823), (5.12.txt 854), (5.13.txt 483), (5.13.txt 487), (5.14.txt 865), (5.15.txt 603), (5.15.txt 706), (5.15.txt 724), (5.15.txt 755), (5.16.txt 496), (5.16.txt 913), (5.17.txt 0), (5.17.txt 25), (5.17.txt 49), (5.17.txt 168), (5.17.txt 179), (5.17.txt 195), (5.17.txt 213), (5.17.txt 231), (5.17.txt 243), (5.17.txt 278), (5.17.txt 335), (5.17.txt 354), (5.17.txt 391), (5.17.txt 514), (5.17.txt 522), (5.17.txt 597), (5.17.txt 670), (5.17.txt 940), (5.17.txt 988), (5.18.txt 37), (5.18.txt 44), (5.18.txt 55), (5.18.txt 151), (5.18.txt 160), (5.18.txt 189), (5.18.txt 193), (5.18.txt 200), (5.18.txt 217), (5.18.txt 222), (5.18.txt 235), (5.18.txt 242), (5.18.txt 261), (5.18.txt 283), (5.18.txt 293), (5.18.txt 311), (5.18.txt 350), (5.18.txt 357), (5.18.txt 373), (5.18.txt 617), (5.19.txt 37), (5.19.txt 140), (5.19.txt 148), (5.19.txt 202), (5.19.txt 229), (5.19.txt 286), (5.19.txt 294), (5.19.txt 305), (5.19.txt 309), (5.19.txt 358), (5.19.txt 375), (5.19.txt 387), (5.19.txt 399), (5.19.txt 435), (5.19.txt 493), (5.19.txt 589), (5.19.txt 655), (5.19.txt 776), (5.19.txt 802), (5.2.txt 300), (5.2.txt 430), (5.2.txt 766), (5.20.txt 36), (5.20.txt 43), (5.20.txt 162), (5.20.txt 195), (5.20.txt 209), (5.20.txt 214), (5.20.txt 249), (5.20.txt 282), (5.20.txt 291), (5.20.txt 303), (5.20.txt 370), (5.20.txt 372), (5.20.txt 392), (5.20.txt 421), (5.20.txt 431), (5.20.txt 480), (5.20.txt 528), (5.20.txt 532), (5.20.txt 543), (5.20.txt 582), (5.20.txt 607), (5.20.txt 666), (5.20.txt 840), (5.20.txt 889), (5.20.txt 899), (5.21.txt 185), (5.21.txt 203), (5.21.txt 221), (5.21.txt 247), (5.21.txt 653), (5.21.txt 677), (5.21.txt 784), (5.21.txt 826), (5.22.txt 243), (5.22.txt 249), (5.22.txt 257), (5.22.txt 364), (5.22.txt 390), (5.3.txt 272), (5.3.txt 325), (5.3.txt 874), (5.3.txt 1426), (5.4.txt 296), (5.5.txt 45), (5.5.txt 143), (5.5.txt 161), (5.5.txt 384), (5.5.txt 404), (5.5.txt 430), (5.5.txt 445), (5.5.txt 454), (5.5.txt 483), (5.5.txt 493), (5.5.txt 511), (5.5.txt 514), (5.5.txt 519), (5.5.txt 585), (5.5.txt 615), (5.5.txt 637), (5.5.txt 652), (5.5.txt 662), (5.5.txt 669), (5.5.txt 809), (5.5.txt 1001), (5.5.txt 1060), (5.5.txt 1104), (5.5.txt 1171), (5.5.txt 1184), (5.5.txt 1339), (5.5.txt 1346), (5.5.txt 1461), (5.5.txt 1495), (5.5.txt 1605), (5.6.txt 166), (5.7.txt 0), (5.7.txt 41), (5.7.txt 47), (5.7.txt 57), (5.7.txt 77), (5.7.txt 169), (5.7.txt 207), (5.7.txt 237), (5.7.txt 268), (5.7.txt 317), (5.7.txt 321), (5.7.txt 334), (5.7.txt 344), (5.7.txt 350), (5.7.txt 406), (5.7.txt 438), (5.7.txt 917), (5.8.txt 26), (5.8.txt 39), (5.8.txt 163), (5.8.txt 175), (5.8.txt 209), (5.8.txt 226), (5.8.txt 282), (5.8.txt 299), (5.8.txt 437), (5.8.txt 513), (5.8.txt 548), (5.8.txt 756), (5.8.txt 892), (5.8.txt 913), (5.9.txt 54), (5.9.txt 250), (5.9.txt 260), (5.9.txt 276), (5.9.txt 289), (5.9.txt 321), (5.9.txt 330), (5.9.txt 640), (5.9.txt 1307), (6.1.txt 0), (6.1.txt 24), (6.1.txt 111), (6.1.txt 119), (6.1.txt 146), (6.1.txt 159), (6.1.txt 169), (6.1.txt 199), (6.1.txt 227), (6.1.txt 240), (6.1.txt 306), (6.1.txt 333), (6.1.txt 366), (6.1.txt 369), (6.1.txt 390), (6.1.txt 423), (6.1.txt 429), (6.1.txt 598), (6.1.txt 699), (6.1.txt 725), (6.1.txt 777), (6.1.txt 902), (6.10.txt 248), (6.10.txt 289), (6.10.txt 292), (6.10.txt 436), (6.10.txt 445), (6.12.txt 251), (6.13.txt 292), (6.14.txt 0), (6.14.txt 24), (6.14.txt 51), (6.14.txt 85), (6.14.txt 101), (6.14.txt 615), (6.14.txt 628), (6.16.txt 0), (6.16.txt 25), (6.16.txt 32), (6.16.txt 54), (6.16.txt 105), (6.16.txt 129), (6.16.txt 141), (6.16.txt 151), (6.16.txt 170), (6.16.txt 186), (6.16.txt 189), (6.16.txt 211), (6.16.txt 221), (6.16.txt 237), (6.16.txt 245), (6.16.txt 259), (6.16.txt 280), (6.16.txt 287), (6.16.txt 297), (6.16.txt 325), (6.16.txt 329), (6.16.txt 358), (6.16.txt 489), (6.16.txt 596), (6.16.txt 628), (6.16.txt 679), (6.16.txt 753), (6.16.txt 819), (6.16.txt 849), (6.16.txt 1121), (6.17.txt 37), (6.17.txt 73), (6.17.txt 304), (6.17.txt 321), (6.17.txt 335), (6.17.txt 347), (6.17.txt 356), (6.17.txt 392), (6.17.txt 438), (6.17.txt 503), (6.17.txt 771), (6.18.txt 597), (6.18.txt 607), (6.18.txt 617), (6.18.txt 625), (6.18.txt 769), (6.19.txt 142), (6.19.txt 411), (6.19.txt 450), (6.19.txt 464), (6.19.txt 493), (6.2.txt 225), (6.2.txt 406), (6.2.txt 432), (6.2.txt 784), (6.20.txt 218), (6.20.txt 242), (6.20.txt 265), (6.20.txt 287), (6.20.txt 300), (6.20.txt 554), (6.21.txt 26), (6.21.txt 143), (6.21.txt 182), (6.21.txt 259), (6.21.txt 272), (6.21.txt 305), (6.21.txt 583), (6.21.txt 615), (6.21.txt 692), (6.21.txt 715), (6.21.txt 720), (6.22.txt 25), (6.22.txt 39), (6.22.txt 223), (6.22.txt 235), (6.22.txt 248), (6.22.txt 265), (6.22.txt 289), (6.22.txt 345), (6.22.txt 354), (6.22.txt 361), (6.22.txt 397), (6.22.txt 413), (6.22.txt 427), (6.22.txt 742), (6.22.txt 910), (6.22.txt 919), (6.22.txt 1152), (6.23.txt 264), (6.23.txt 669), (6.24.txt 111), (6.24.txt 162), (6.24.txt 174), (6.24.txt 211), (6.24.txt 257), (6.24.txt 321), (6.24.txt 397), (6.24.txt 415), (6.24.txt 546), (6.25.txt 272), (6.25.txt 325), (6.25.txt 874), (6.25.txt 1426), (6.3.txt 396), (6.3.txt 403), (6.3.txt 485), (6.3.txt 552), (6.4.txt 70), (6.4.txt 99), (6.4.txt 105), (6.4.txt 125), (6.4.txt 152), (6.4.txt 498), (6.4.txt 623), (6.5.txt 40), (6.5.txt 155), (6.5.txt 178), (6.5.txt 218), (6.5.txt 234), (6.5.txt 265), (6.5.txt 304), (6.5.txt 334), (6.6.txt 197), (6.6.txt 237), (6.6.txt 320), (6.6.txt 416), (6.6.txt 544), (6.6.txt 561), (6.6.txt 571), (6.6.txt 592), (6.6.txt 597), (6.6.txt 637), (6.7.txt 0), (6.7.txt 28), (6.7.txt 34), (6.7.txt 54), (6.7.txt 75), (6.7.txt 130), (6.7.txt 142), (6.7.txt 154), (6.7.txt 164), (6.7.txt 171), (6.7.txt 184), (6.7.txt 194), (6.7.txt 216), (6.7.txt 222), (6.7.txt 233), (6.7.txt 241), (6.7.txt 279), (6.7.txt 284), (6.7.txt 298), (6.7.txt 312), (6.7.txt 327), (6.7.txt 407), (6.7.txt 424), (6.7.txt 452), (6.7.txt 534), (6.7.txt 563), (6.7.txt 649), (6.7.txt 664), (6.7.txt 689), (6.7.txt 692), (6.7.txt 714), (6.7.txt 764), (6.7.txt 778), (6.7.txt 800), (6.7.txt 816), (6.7.txt 844), (6.7.txt 872), (6.7.txt 924), (6.7.txt 934), (6.7.txt 938), (6.7.txt 964), (6.8.txt 32), (6.8.txt 127), (6.8.txt 138), (6.8.txt 183), (6.8.txt 199), (6.8.txt 207), (6.8.txt 218), (6.8.txt 344), (6.8.txt 444), (6.8.txt 480), (6.8.txt 587), (6.8.txt 707), (6.9.txt 65), (6.9.txt 404), (7.1.txt 272), (7.1.txt 325), (7.1.txt 874), (7.1.txt 1426), (7.10.txt 845), (7.10.txt 849), (7.10.txt 876), (7.11.txt 29), (7.11.txt 38), (7.11.txt 118), (7.11.txt 133), (7.11.txt 156), (7.11.txt 167), (7.11.txt 184), (7.11.txt 195), (7.11.txt 207), (7.11.txt 217), (7.11.txt 226), (7.11.txt 241), (7.11.txt 252), (7.11.txt 265), (7.11.txt 278), (7.11.txt 290), (7.11.txt 497), (7.11.txt 519), (7.11.txt 617), (7.11.txt 631), (7.11.txt 645), (7.11.txt 706), (7.11.txt 775), (7.12.txt 47), (7.12.txt 239), (7.12.txt 262), (7.12.txt 646), (7.13.txt 50), (7.13.txt 142), (7.13.txt 143), (7.13.txt 161), (7.13.txt 172), (7.13.txt 190), (7.13.txt 204), (7.13.txt 235), (7.13.txt 254), (7.13.txt 433), (7.13.txt 445), (7.13.txt 844), (7.13.txt 876), (7.13.txt 894), (7.13.txt 1044), (7.15.txt 0), (7.15.txt 24), (7.15.txt 43), (7.15.txt 119), (7.15.txt 127), (7.15.txt 140), (7.15.txt 153), (7.15.txt 161), (7.15.txt 211), (7.15.txt 216), (7.15.txt 237), (7.15.txt 270), (7.15.txt 573), (7.15.txt 609), (7.15.txt 641), (7.15.txt 665), (7.15.txt 718), (7.15.txt 732), (7.18.txt 61), (7.18.txt 72), (7.18.txt 117), (7.18.txt 205), (7.18.txt 213), (7.18.txt 231), (7.18.txt 257), (7.18.txt 272), (7.18.txt 289), (7.18.txt 309), (7.18.txt 323), (7.18.txt 333), (7.18.txt 366), (7.18.txt 396), (7.18.txt 445), (7.18.txt 464), (7.18.txt 541), (7.18.txt 633), (7.18.txt 654), (7.18.txt 665), (7.18.txt 783), (7.18.txt 1155), (7.18.txt 1321), (7.18.txt 1359), (7.2.txt 43), (7.2.txt 45), (7.2.txt 153), (7.2.txt 165), (7.2.txt 239), (7.2.txt 250), (7.2.txt 268), (7.2.txt 280), (7.2.txt 285), (7.2.txt 316), (7.2.txt 760), (7.20.txt 0), (7.20.txt 24), (7.20.txt 47), (7.20.txt 173), (7.20.txt 187), (7.20.txt 210), (7.20.txt 265), (7.20.txt 284), (7.20.txt 307), (7.20.txt 319), (7.20.txt 323), (7.20.txt 343), (7.20.txt 354), (7.20.txt 368), (7.20.txt 413), (7.20.txt 461), (7.20.txt 613), (7.20.txt 707), (7.20.txt 789), (7.20.txt 802), (7.20.txt 824), (7.20.txt 933), (7.21.txt 174), (7.21.txt 181), (7.21.txt 208), (7.21.txt 403), (7.22.txt 93), (7.22.txt 95), (7.22.txt 173), (7.22.txt 227), (7.22.txt 284), (7.22.txt 294), (7.22.txt 325), (7.22.txt 338), (7.22.txt 355), (7.22.txt 379), (7.22.txt 412), (7.22.txt 422), (7.22.txt 434), (7.22.txt 805), (7.24.txt 129), (7.24.txt 202), (7.25.txt 43), (7.25.txt 45), (7.25.txt 153), (7.25.txt 165), (7.25.txt 239), (7.25.txt 250), (7.25.txt 268), (7.25.txt 280), (7.25.txt 285), (7.25.txt 316), (7.25.txt 760), (7.3.txt 121), (7.3.txt 160), (7.3.txt 174), (7.3.txt 225), (7.3.txt 428), (7.3.txt 489), (7.3.txt 576), (7.3.txt 617), (7.4.txt 0), (7.4.txt 26), (7.4.txt 50), (7.4.txt 151), (7.4.txt 191), (7.4.txt 199), (7.4.txt 200), (7.4.txt 218), (7.4.txt 223), (7.4.txt 229), (7.4.txt 261), (7.4.txt 270), (7.4.txt 285), (7.4.txt 294), (7.4.txt 306), (7.4.txt 310), (7.4.txt 322), (7.4.txt 377), (7.4.txt 579), (7.4.txt 636), (7.4.txt 669), (7.4.txt 722), (7.4.txt 747), (7.4.txt 793), (7.4.txt 822), (7.4.txt 834), (7.4.txt 852), (7.4.txt 855), (7.4.txt 868), (7.4.txt 908), (7.4.txt 943), (7.4.txt 954), (7.4.txt 968), (7.4.txt 982), (7.4.txt 989), (7.4.txt 1082), (7.4.txt 1131), (7.4.txt 1155), (7.4.txt 1230), (7.4.txt 1298), (7.4.txt 1307), (7.4.txt 1313), (7.4.txt 1324), (7.4.txt 1333), (7.5.txt 198), (7.5.txt 276), (7.6.txt 457), (7.6.txt 488), (7.6.txt 497), (7.6.txt 505), (7.6.txt 514), (7.6.txt 531), (7.6.txt 592), (7.6.txt 655), (7.6.txt 663), (7.6.txt 669), (7.6.txt 1034), (7.6.txt 1039), (7.6.txt 1044), (7.6.txt 1058), (7.6.txt 1311), (7.7.txt 160), (7.7.txt 620), (7.7.txt 939), (7.8.txt 159), (7.9.txt 40), (7.9.txt 237), (7.9.txt 308), (7.9.txt 319), (7.9.txt 333), (7.9.txt 350)]\n",
            "343 matches for first: [(3.1.txt 3), (3.1.txt 14), (3.1.txt 857), (3.1.txt 880), (3.1.txt 1473), (3.1.txt 1734), (3.1.txt 1897), (3.10.txt 13), (3.10.txt 70), (3.10.txt 157), (3.10.txt 535), (3.10.txt 674), (3.10.txt 1211), (3.10.txt 1419), (3.11.txt 23), (3.11.txt 194), (3.12.txt 117), (3.12.txt 129), (3.12.txt 746), (3.12.txt 751), (3.13.txt 155), (3.13.txt 372), (3.15.txt 587), (3.15.txt 672), (3.16.txt 13), (3.16.txt 78), (3.16.txt 459), (3.17.txt 125), (3.17.txt 437), (3.17.txt 533), (3.17.txt 1008), (3.17.txt 1201), (3.18.txt 283), (3.18.txt 313), (3.18.txt 559), (3.19.txt 870), (3.19.txt 906), (3.2.txt 72), (3.2.txt 370), (3.2.txt 424), (3.2.txt 654), (3.2.txt 692), (3.2.txt 1271), (3.20.txt 450), (3.20.txt 698), (3.20.txt 739), (3.20.txt 832), (3.20.txt 1585), (3.20.txt 1646), (3.21.txt 9), (3.21.txt 457), (3.21.txt 468), (3.22.txt 15), (3.22.txt 75), (3.22.txt 92), (3.22.txt 359), (3.22.txt 371), (3.22.txt 398), (3.3.txt 369), (3.3.txt 414), (3.4.txt 63), (3.4.txt 154), (3.4.txt 384), (3.4.txt 515), (3.4.txt 852), (3.4.txt 887), (3.5.txt 90), (3.5.txt 377), (3.5.txt 406), (3.5.txt 431), (3.5.txt 455), (3.5.txt 473), (3.5.txt 481), (3.5.txt 534), (3.5.txt 615), (3.6.txt 63), (3.6.txt 516), (3.6.txt 623), (3.7.txt 14), (3.7.txt 49), (3.7.txt 159), (3.7.txt 277), (3.7.txt 549), (3.7.txt 1219), (3.7.txt 1274), (3.8.txt 87), (3.8.txt 143), (3.8.txt 475), (3.8.txt 573), (3.8.txt 713), (3.9.txt 264), (4.1.txt 2), (4.1.txt 303), (4.1.txt 414), (4.1.txt 423), (4.1.txt 607), (4.10.txt 1), (4.10.txt 14), (4.10.txt 33), (4.10.txt 40), (4.10.txt 47), (4.10.txt 109), (4.10.txt 134), (4.10.txt 268), (4.10.txt 310), (4.10.txt 313), (4.10.txt 333), (4.10.txt 485), (4.10.txt 693), (4.10.txt 865), (4.10.txt 953), (4.10.txt 969), (4.10.txt 1012), (4.10.txt 1125), (4.10.txt 1188), (4.12.txt 104), (4.12.txt 409), (4.12.txt 425), (4.12.txt 677), (4.12.txt 828), (4.12.txt 1158), (4.14.txt 14), (4.14.txt 572), (4.14.txt 840), (4.15.txt 363), (4.15.txt 383), (4.16.txt 41), (4.16.txt 297), (4.16.txt 344), (4.16.txt 374), (4.17.txt 574), (4.17.txt 959), (4.18.txt 76), (4.18.txt 81), (4.18.txt 346), (4.18.txt 466), (4.18.txt 470), (4.19.txt 169), (4.19.txt 530), (4.2.txt 15), (4.2.txt 459), (4.20.txt 87), (4.20.txt 392), (4.20.txt 502), (4.21.txt 3), (4.21.txt 305), (4.21.txt 318), (4.21.txt 438), (4.22.txt 16), (4.22.txt 677), (4.22.txt 683), (4.3.txt 400), (4.3.txt 408), (4.3.txt 416), (4.3.txt 438), (4.3.txt 798), (4.4.txt 14), (4.4.txt 239), (4.6.txt 294), (4.6.txt 349), (4.6.txt 399), (4.8.txt 82), (4.8.txt 373), (4.9.txt 980), (5.1.txt 3), (5.1.txt 236), (5.1.txt 297), (5.1.txt 453), (5.1.txt 936), (5.1.txt 1491), (5.10.txt 411), (5.10.txt 569), (5.10.txt 585), (5.12.txt 59), (5.12.txt 251), (5.12.txt 406), (5.12.txt 561), (5.12.txt 621), (5.12.txt 864), (5.13.txt 276), (5.13.txt 392), (5.13.txt 472), (5.13.txt 494), (5.13.txt 987), (5.15.txt 13), (5.15.txt 192), (5.15.txt 482), (5.15.txt 487), (5.17.txt 87), (5.18.txt 327), (5.18.txt 389), (5.19.txt 504), (5.19.txt 523), (5.19.txt 585), (5.19.txt 877), (5.2.txt 778), (5.2.txt 856), (5.21.txt 4), (5.21.txt 547), (5.22.txt 168), (5.22.txt 173), (5.3.txt 1084), (5.3.txt 1508), (5.3.txt 1872), (5.3.txt 2311), (5.4.txt 12), (5.4.txt 57), (5.4.txt 478), (5.4.txt 532), (5.5.txt 262), (5.5.txt 692), (5.5.txt 877), (5.5.txt 887), (5.5.txt 1042), (5.5.txt 1241), (5.7.txt 86), (5.8.txt 852), (5.9.txt 259), (5.9.txt 261), (5.9.txt 927), (6.1.txt 2), (6.1.txt 208), (6.1.txt 749), (6.10.txt 15), (6.11.txt 13), (6.12.txt 456), (6.13.txt 49), (6.13.txt 320), (6.13.txt 369), (6.14.txt 314), (6.14.txt 394), (6.15.txt 378), (6.15.txt 511), (6.16.txt 939), (6.17.txt 375), (6.18.txt 15), (6.18.txt 146), (6.18.txt 497), (6.18.txt 1006), (6.19.txt 457), (6.19.txt 771), (6.2.txt 68), (6.2.txt 417), (6.2.txt 503), (6.20.txt 442), (6.20.txt 464), (6.21.txt 4), (6.22.txt 96), (6.22.txt 135), (6.22.txt 530), (6.22.txt 618), (6.22.txt 691), (6.22.txt 739), (6.23.txt 199), (6.24.txt 578), (6.25.txt 1084), (6.25.txt 1508), (6.25.txt 1872), (6.25.txt 2311), (6.3.txt 345), (6.3.txt 745), (6.4.txt 14), (6.5.txt 107), (6.5.txt 478), (6.5.txt 600), (6.6.txt 109), (6.6.txt 434), (6.6.txt 538), (6.6.txt 757), (6.6.txt 835), (6.6.txt 845), (6.6.txt 955), (6.6.txt 1070), (6.6.txt 1411), (6.7.txt 400), (6.7.txt 535), (6.8.txt 13), (6.8.txt 290), (6.8.txt 334), (6.9.txt 544), (7.1.txt 1084), (7.1.txt 1508), (7.1.txt 1872), (7.1.txt 2311), (7.10.txt 445), (7.11.txt 392), (7.11.txt 398), (7.11.txt 414), (7.12.txt 415), (7.13.txt 688), (7.13.txt 705), (7.14.txt 61), (7.14.txt 273), (7.14.txt 291), (7.14.txt 357), (7.15.txt 471), (7.16.txt 75), (7.16.txt 655), (7.16.txt 1039), (7.17.txt 428), (7.18.txt 693), (7.18.txt 961), (7.18.txt 1019), (7.18.txt 1029), (7.18.txt 1045), (7.18.txt 1276), (7.19.txt 388), (7.19.txt 795), (7.20.txt 300), (7.20.txt 503), (7.20.txt 671), (7.21.txt 6), (7.21.txt 585), (7.21.txt 595), (7.21.txt 775), (7.23.txt 549), (7.3.txt 62), (7.3.txt 247), (7.3.txt 563), (7.4.txt 15), (7.4.txt 463), (7.4.txt 558), (7.5.txt 52), (7.5.txt 427), (7.5.txt 441), (7.5.txt 520), (7.6.txt 19), (7.6.txt 123), (7.6.txt 163), (7.6.txt 445), (7.6.txt 723), (7.6.txt 769), (7.6.txt 890), (7.6.txt 1121), (7.6.txt 1170), (7.7.txt 350), (7.7.txt 391), (7.8.txt 13), (7.8.txt 41), (7.8.txt 49), (7.9.txt 76), (7.9.txt 418), (7.9.txt 461)]\n",
            "17 matches for image: [(3.16.txt 132), (3.16.txt 610), (3.16.txt 630), (3.16.txt 1116), (3.18.txt 737), (3.24.txt 826), (3.7.txt 868), (3.7.txt 1159), (3.9.txt 741), (5.13.txt 1240), (7.18.txt 181), (7.2.txt 176), (7.21.txt 1491), (7.25.txt 176), (7.5.txt 1436), (7.6.txt 153), (7.6.txt 1002)]\n",
            "19 matches for montage: [(3.16.txt 485), (3.21.txt 679), (4.18.txt 283), (4.18.txt 331), (4.18.txt 666), (4.4.txt 472), (6.3.txt 429), (6.3.txt 437), (6.3.txt 542), (7.10.txt 210), (7.10.txt 395), (7.10.txt 669), (7.10.txt 787), (7.10.txt 879), (7.10.txt 888), (7.10.txt 898), (7.10.txt 924), (7.3.txt 361), (7.3.txt 368)]\n",
            "158 matches for well: [(3.1.txt 1219), (3.1.txt 1426), (3.1.txt 1714), (3.10.txt 178), (3.10.txt 1396), (3.12.txt 411), (3.13.txt 39), (3.13.txt 186), (3.13.txt 200), (3.13.txt 206), (3.13.txt 229), (3.13.txt 266), (3.13.txt 318), (3.13.txt 419), (3.13.txt 599), (3.13.txt 645), (3.13.txt 671), (3.13.txt 1027), (3.13.txt 1059), (3.14.txt 926), (3.15.txt 94), (3.15.txt 377), (3.16.txt 243), (3.16.txt 888), (3.16.txt 937), (3.17.txt 730), (3.17.txt 1420), (3.18.txt 888), (3.18.txt 969), (3.2.txt 1062), (3.2.txt 1348), (3.2.txt 1405), (3.2.txt 1707), (3.21.txt 642), (3.21.txt 890), (3.22.txt 535), (3.23.txt 777), (3.7.txt 1063), (4.1.txt 606), (4.10.txt 616), (4.10.txt 978), (4.12.txt 262), (4.12.txt 443), (4.12.txt 611), (4.12.txt 1134), (4.13.txt 131), (4.13.txt 285), (4.13.txt 634), (4.15.txt 115), (4.15.txt 1033), (4.17.txt 488), (4.18.txt 166), (4.2.txt 92), (4.2.txt 136), (4.21.txt 781), (4.21.txt 881), (4.21.txt 888), (4.3.txt 420), (4.3.txt 427), (4.3.txt 618), (4.4.txt 87), (4.9.txt 55), (4.9.txt 194), (5.1.txt 372), (5.10.txt 441), (5.13.txt 832), (5.13.txt 993), (5.14.txt 588), (5.15.txt 98), (5.15.txt 862), (5.16.txt 747), (5.17.txt 343), (5.18.txt 529), (5.19.txt 152), (5.19.txt 186), (5.19.txt 275), (5.2.txt 116), (5.2.txt 261), (5.20.txt 502), (5.20.txt 867), (5.21.txt 789), (5.22.txt 843), (5.3.txt 294), (5.3.txt 507), (5.3.txt 1586), (5.4.txt 585), (5.4.txt 594), (5.5.txt 94), (5.5.txt 1027), (5.5.txt 1124), (5.5.txt 1356), (5.7.txt 328), (5.8.txt 92), (5.8.txt 432), (5.9.txt 609), (5.9.txt 782), (6.1.txt 383), (6.10.txt 92), (6.11.txt 723), (6.13.txt 764), (6.15.txt 641), (6.15.txt 654), (6.16.txt 450), (6.16.txt 962), (6.18.txt 184), (6.18.txt 502), (6.18.txt 661), (6.18.txt 1236), (6.19.txt 715), (6.21.txt 538), (6.22.txt 110), (6.22.txt 572), (6.23.txt 487), (6.25.txt 294), (6.25.txt 507), (6.25.txt 1586), (6.4.txt 97), (6.4.txt 358), (6.5.txt 97), (6.5.txt 524), (6.5.txt 668), (6.5.txt 884), (6.5.txt 944), (6.6.txt 692), (6.6.txt 1405), (6.6.txt 1537), (6.8.txt 59), (6.9.txt 331), (7.1.txt 294), (7.1.txt 507), (7.1.txt 1586), (7.10.txt 642), (7.10.txt 1397), (7.11.txt 338), (7.11.txt 634), (7.11.txt 781), (7.13.txt 1082), (7.13.txt 1101), (7.14.txt 323), (7.14.txt 346), (7.19.txt 576), (7.19.txt 658), (7.19.txt 999), (7.19.txt 1015), (7.20.txt 829), (7.21.txt 555), (7.21.txt 1329), (7.24.txt 599), (7.4.txt 95), (7.4.txt 1054), (7.5.txt 41), (7.6.txt 532), (7.6.txt 569), (7.7.txt 905), (7.7.txt 922), (7.7.txt 1007), (7.8.txt 316), (7.9.txt 834)]\n",
            "105 matches for top: [(3.1.txt 1600), (3.10.txt 1249), (3.10.txt 1324), (3.16.txt 1023), (3.16.txt 1048), (3.16.txt 1099), (3.16.txt 1108), (3.17.txt 1151), (3.17.txt 1177), (3.17.txt 1205), (3.17.txt 1298), (3.17.txt 1333), (3.23.txt 920), (3.5.txt 868), (3.6.txt 825), (3.6.txt 853), (3.7.txt 1281), (3.7.txt 1320), (3.8.txt 346), (3.8.txt 1048), (4.1.txt 693), (4.12.txt 708), (4.12.txt 718), (4.12.txt 844), (4.15.txt 136), (4.15.txt 876), (4.15.txt 886), (4.15.txt 902), (4.16.txt 590), (4.17.txt 806), (4.17.txt 825), (4.17.txt 951), (4.2.txt 1224), (4.2.txt 1235), (4.22.txt 1028), (4.22.txt 1115), (4.22.txt 1163), (4.22.txt 1185), (4.3.txt 808), (4.4.txt 570), (4.6.txt 332), (4.8.txt 449), (4.9.txt 816), (5.1.txt 1431), (5.1.txt 1543), (5.13.txt 605), (5.13.txt 1123), (5.13.txt 1207), (5.15.txt 992), (5.18.txt 414), (5.19.txt 919), (5.22.txt 947), (5.3.txt 2113), (5.4.txt 722), (5.7.txt 138), (5.7.txt 657), (5.9.txt 1175), (5.9.txt 1199), (5.9.txt 1325), (5.9.txt 1375), (6.14.txt 345), (6.14.txt 391), (6.14.txt 619), (6.16.txt 823), (6.19.txt 663), (6.19.txt 682), (6.19.txt 701), (6.19.txt 773), (6.2.txt 114), (6.2.txt 551), (6.2.txt 722), (6.20.txt 959), (6.21.txt 904), (6.23.txt 457), (6.24.txt 229), (6.25.txt 2113), (6.4.txt 543), (6.4.txt 585), (6.4.txt 600), (6.6.txt 1279), (6.6.txt 1545), (6.9.txt 518), (7.1.txt 2113), (7.18.txt 197), (7.18.txt 935), (7.18.txt 1135), (7.19.txt 120), (7.19.txt 627), (7.19.txt 896), (7.21.txt 527), (7.21.txt 1102), (7.21.txt 1112), (7.21.txt 1168), (7.24.txt 581), (7.24.txt 621), (7.4.txt 141), (7.4.txt 1262), (7.4.txt 1318), (7.6.txt 1618), (7.7.txt 508), (7.7.txt 519), (7.7.txt 783), (7.7.txt 792), (7.7.txt 861), (7.7.txt 1101)]\n",
            "3 matches for arguably: [(3.16.txt 1128), (4.12.txt 726), (5.9.txt 1387)]\n",
            "321 matches for best: [(3.1.txt 47), (3.1.txt 374), (3.1.txt 1408), (3.1.txt 1548), (3.1.txt 1628), (3.1.txt 1635), (3.1.txt 1703), (3.10.txt 182), (3.10.txt 1021), (3.10.txt 1070), (3.10.txt 1189), (3.10.txt 1198), (3.10.txt 1331), (3.10.txt 1367), (3.10.txt 1380), (3.10.txt 1404), (3.11.txt 976), (3.11.txt 995), (3.12.txt 681), (3.13.txt 856), (3.13.txt 866), (3.13.txt 914), (3.13.txt 943), (3.13.txt 970), (3.13.txt 993), (3.13.txt 1062), (3.14.txt 1054), (3.15.txt 696), (3.16.txt 869), (3.16.txt 1126), (3.16.txt 1129), (3.17.txt 124), (3.17.txt 494), (3.17.txt 1243), (3.17.txt 1273), (3.17.txt 1284), (3.17.txt 1308), (3.18.txt 35), (3.18.txt 124), (3.18.txt 859), (3.18.txt 973), (3.19.txt 1166), (3.19.txt 1202), (3.2.txt 562), (3.2.txt 1159), (3.2.txt 1221), (3.2.txt 1248), (3.20.txt 783), (3.20.txt 798), (3.20.txt 1491), (3.21.txt 382), (3.21.txt 650), (3.22.txt 151), (3.22.txt 812), (3.22.txt 820), (3.22.txt 866), (3.23.txt 29), (3.23.txt 881), (3.24.txt 984), (3.24.txt 1079), (3.24.txt 1158), (3.3.txt 636), (3.3.txt 868), (3.4.txt 758), (3.4.txt 805), (3.5.txt 317), (3.5.txt 666), (3.5.txt 883), (3.7.txt 217), (3.7.txt 1298), (3.7.txt 1306), (3.7.txt 1340), (3.8.txt 294), (3.8.txt 775), (3.8.txt 857), (3.8.txt 944), (3.8.txt 981), (3.9.txt 410), (3.9.txt 796), (4.10.txt 912), (4.10.txt 990), (4.11.txt 342), (4.12.txt 83), (4.12.txt 700), (4.12.txt 753), (4.12.txt 762), (4.12.txt 800), (4.12.txt 831), (4.12.txt 931), (4.12.txt 974), (4.12.txt 990), (4.12.txt 1014), (4.12.txt 1093), (4.14.txt 97), (4.14.txt 781), (4.15.txt 790), (4.17.txt 80), (4.17.txt 803), (4.17.txt 814), (4.17.txt 897), (4.17.txt 936), (4.17.txt 1002), (4.17.txt 1008), (4.2.txt 786), (4.2.txt 1178), (4.2.txt 1187), (4.2.txt 1260), (4.2.txt 1616), (4.20.txt 627), (4.20.txt 688), (4.22.txt 1068), (4.22.txt 1091), (4.22.txt 1100), (4.22.txt 1333), (4.22.txt 1411), (4.3.txt 121), (4.3.txt 869), (4.3.txt 886), (4.4.txt 576), (4.5.txt 885), (4.6.txt 693), (4.7.txt 527), (4.9.txt 60), (4.9.txt 198), (4.9.txt 874), (4.9.txt 918), (4.9.txt 1006), (4.9.txt 1027), (5.1.txt 461), (5.1.txt 968), (5.1.txt 1412), (5.1.txt 1555), (5.10.txt 862), (5.12.txt 776), (5.12.txt 779), (5.12.txt 831), (5.13.txt 933), (5.13.txt 1019), (5.13.txt 1038), (5.13.txt 1054), (5.13.txt 1067), (5.13.txt 1108), (5.14.txt 669), (5.14.txt 907), (5.14.txt 912), (5.14.txt 977), (5.15.txt 105), (5.15.txt 982), (5.15.txt 1089), (5.16.txt 872), (5.17.txt 815), (5.17.txt 825), (5.17.txt 836), (5.18.txt 652), (5.2.txt 406), (5.21.txt 713), (5.22.txt 571), (5.22.txt 652), (5.3.txt 2153), (5.3.txt 2178), (5.3.txt 2237), (5.4.txt 142), (5.4.txt 745), (5.4.txt 755), (5.4.txt 799), (5.4.txt 865), (5.5.txt 1212), (5.5.txt 1442), (5.5.txt 1483), (5.5.txt 1519), (5.5.txt 1535), (5.5.txt 1540), (5.5.txt 1608), (5.5.txt 1610), (5.7.txt 129), (5.7.txt 748), (5.8.txt 967), (5.9.txt 121), (5.9.txt 1189), (5.9.txt 1365), (5.9.txt 1388), (5.9.txt 1402), (6.11.txt 762), (6.12.txt 71), (6.12.txt 335), (6.12.txt 386), (6.12.txt 476), (6.12.txt 542), (6.12.txt 601), (6.12.txt 612), (6.15.txt 61), (6.15.txt 758), (6.16.txt 844), (6.16.txt 987), (6.17.txt 573), (6.18.txt 405), (6.18.txt 802), (6.18.txt 883), (6.18.txt 920), (6.19.txt 631), (6.19.txt 658), (6.19.txt 711), (6.19.txt 732), (6.19.txt 744), (6.19.txt 761), (6.19.txt 793), (6.2.txt 713), (6.20.txt 116), (6.20.txt 636), (6.20.txt 1018), (6.20.txt 1029), (6.20.txt 1036), (6.21.txt 673), (6.22.txt 369), (6.23.txt 989), (6.24.txt 573), (6.25.txt 2153), (6.25.txt 2178), (6.25.txt 2237), (6.4.txt 203), (6.5.txt 72), (6.5.txt 1031), (6.5.txt 1045), (6.6.txt 1243), (6.6.txt 1321), (6.6.txt 1333), (6.6.txt 1345), (6.6.txt 1363), (6.6.txt 1393), (6.6.txt 1413), (6.6.txt 1431), (6.6.txt 1441), (6.6.txt 1476), (6.6.txt 1508), (6.6.txt 1527), (6.7.txt 109), (6.7.txt 890), (6.7.txt 903), (6.8.txt 173), (6.8.txt 202), (6.8.txt 634), (6.8.txt 646), (6.9.txt 538), (7.1.txt 2153), (7.1.txt 2178), (7.1.txt 2237), (7.11.txt 702), (7.11.txt 733), (7.12.txt 613), (7.12.txt 784), (7.12.txt 820), (7.12.txt 846), (7.13.txt 75), (7.13.txt 684), (7.13.txt 974), (7.13.txt 1112), (7.13.txt 1121), (7.14.txt 569), (7.15.txt 339), (7.15.txt 636), (7.16.txt 1255), (7.16.txt 1267), (7.17.txt 701), (7.18.txt 1182), (7.18.txt 1211), (7.19.txt 924), (7.19.txt 934), (7.19.txt 952), (7.19.txt 988), (7.19.txt 1021), (7.2.txt 775), (7.2.txt 790), (7.2.txt 840), (7.2.txt 856), (7.20.txt 111), (7.20.txt 888), (7.20.txt 917), (7.21.txt 1080), (7.21.txt 1151), (7.21.txt 1160), (7.21.txt 1196), (7.21.txt 1218), (7.21.txt 1448), (7.23.txt 848), (7.23.txt 1087), (7.24.txt 609), (7.24.txt 652), (7.25.txt 775), (7.25.txt 790), (7.25.txt 840), (7.25.txt 856), (7.3.txt 299), (7.3.txt 303), (7.3.txt 547), (7.3.txt 571), (7.4.txt 132), (7.4.txt 143), (7.4.txt 1264), (7.5.txt 1172), (7.5.txt 1182), (7.5.txt 1194), (7.5.txt 1531), (7.5.txt 1580), (7.6.txt 1554), (7.6.txt 1582), (7.6.txt 1599), (7.7.txt 91), (7.7.txt 806), (7.7.txt 825), (7.7.txt 834), (7.7.txt 844), (7.7.txt 889), (7.7.txt 900), (7.7.txt 964), (7.7.txt 1040), (7.7.txt 1068), (7.7.txt 1088), (7.8.txt 930), (7.8.txt 943), (7.9.txt 821), (7.9.txt 843)]\n",
            "85 matches for number: [(3.1.txt 800), (3.1.txt 1903), (3.11.txt 987), (3.16.txt 1029), (3.16.txt 1118), (3.17.txt 1295), (3.18.txt 963), (3.19.txt 420), (3.21.txt 360), (3.21.txt 663), (3.21.txt 668), (3.5.txt 875), (3.7.txt 1328), (3.9.txt 445), (4.1.txt 408), (4.11.txt 314), (4.11.txt 315), (4.12.txt 769), (4.12.txt 840), (4.15.txt 547), (4.15.txt 899), (4.16.txt 587), (4.17.txt 805), (4.2.txt 666), (4.2.txt 1232), (4.2.txt 1548), (4.21.txt 401), (4.21.txt 409), (4.21.txt 428), (4.22.txt 784), (4.22.txt 1064), (4.22.txt 1343), (4.7.txt 524), (4.9.txt 350), (5.1.txt 119), (5.1.txt 1062), (5.1.txt 1219), (5.1.txt 1225), (5.10.txt 836), (5.11.txt 715), (5.13.txt 688), (5.13.txt 1009), (5.13.txt 1056), (5.13.txt 1061), (5.13.txt 1080), (5.13.txt 1120), (5.14.txt 457), (5.2.txt 738), (5.21.txt 778), (5.22.txt 944), (5.3.txt 1033), (5.8.txt 546), (5.8.txt 554), (6.12.txt 43), (6.12.txt 259), (6.12.txt 337), (6.12.txt 357), (6.12.txt 446), (6.12.txt 590), (6.2.txt 179), (6.20.txt 76), (6.20.txt 566), (6.20.txt 966), (6.20.txt 1034), (6.22.txt 1133), (6.24.txt 399), (6.25.txt 1033), (6.4.txt 582), (6.4.txt 597), (6.6.txt 632), (6.6.txt 987), (7.1.txt 1033), (7.10.txt 360), (7.10.txt 994), (7.10.txt 1325), (7.13.txt 693), (7.14.txt 439), (7.19.txt 414), (7.21.txt 1165), (7.23.txt 481), (7.6.txt 1125), (7.6.txt 1216), (7.7.txt 1098), (7.8.txt 566), (7.8.txt 602)]\n",
            "42 matches for humor: [(3.1.txt 677), (3.1.txt 1414), (3.1.txt 1510), (3.10.txt 1292), (3.13.txt 897), (3.13.txt 985), (3.15.txt 416), (3.16.txt 921), (3.20.txt 1466), (3.24.txt 1048), (3.3.txt 692), (3.3.txt 802), (3.5.txt 962), (3.7.txt 1355), (4.11.txt 346), (4.15.txt 737), (4.19.txt 177), (4.19.txt 222), (5.1.txt 160), (5.1.txt 1462), (5.10.txt 551), (5.11.txt 756), (5.12.txt 72), (5.12.txt 361), (5.13.txt 633), (5.14.txt 937), (5.7.txt 603), (6.10.txt 649), (6.14.txt 253), (6.14.txt 339), (6.16.txt 406), (6.22.txt 1314), (6.6.txt 700), (6.6.txt 722), (6.6.txt 1297), (7.10.txt 431), (7.14.txt 337), (7.17.txt 500), (7.18.txt 578), (7.4.txt 240), (7.5.txt 1322), (7.5.txt 1335)]\n",
            "2 matches for dollarydoos: [(6.16.txt 1092), (6.16.txt 1101)]\n",
            "Bart Simpson was not found\n",
            "Gordie Howe was not found\n",
            "24 matches for recalled: [(3.1.txt 636), (3.11.txt 773), (3.14.txt 488), (3.16.txt 523), (3.17.txt 1396), (3.19.txt 294), (3.7.txt 950), (5.1.txt 787), (5.16.txt 806), (5.19.txt 870), (5.8.txt 500), (5.8.txt 596), (6.11.txt 719), (6.2.txt 526), (6.3.txt 36), (6.3.txt 510), (6.3.txt 520), (6.4.txt 519), (7.18.txt 739), (7.2.txt 589), (7.21.txt 1310), (7.22.txt 668), (7.25.txt 589), (7.4.txt 531)]\n",
            "Bart the Lover was not found\n",
            "7 matches for cents: [(3.11.txt 200), (3.16.txt 409), (3.2.txt 726), (4.15.txt 627), (5.1.txt 1192), (5.6.txt 363), (7.4.txt 436)]\n",
            "won was not found\n",
            "voice-overs was not found\n",
            "Simpsonovi was not found\n"
          ]
        }
      ]
    },
    {
      "cell_type": "code",
      "source": [
        "index.proximity_search('award', 'winning', 100)"
      ],
      "metadata": {
        "colab": {
          "base_uri": "https://localhost:8080/"
        },
        "id": "wld3Ax7Kk5K9",
        "outputId": "88c84da5-1aea-44c6-faba-ed702f838e6b"
      },
      "execution_count": 112,
      "outputs": [
        {
          "output_type": "execute_result",
          "data": {
            "text/plain": [
              "[('(3.13.txt 789)', '(3.13.txt 842)'),\n",
              " ('(3.21.txt 380)', '(3.21.txt 378)'),\n",
              " ('(3.21.txt 381)', '(3.21.txt 395)'),\n",
              " ('(3.6.txt 744)', '(3.6.txt 794)'),\n",
              " ('(3.6.txt 778)', '(3.6.txt 805)'),\n",
              " ('(4.19.txt 159)', '(4.19.txt 220)'),\n",
              " ('(4.19.txt 174)', '(4.19.txt 245)'),\n",
              " ('(5.1.txt 314)', '(5.1.txt 312)'),\n",
              " ('(5.15.txt 131)', '(5.15.txt 128)'),\n",
              " ('(5.17.txt 29)', '(5.17.txt 26)'),\n",
              " ('(5.9.txt 363)', '(5.9.txt 364)'),\n",
              " ('(6.19.txt 55)', '(6.19.txt 65)'),\n",
              " ('(6.2.txt 180)', '(6.2.txt 154)'),\n",
              " ('(6.22.txt 1030)', '(6.22.txt 1039)'),\n",
              " ('(6.7.txt 440)', '(6.7.txt 441)'),\n",
              " ('(7.12.txt 595)', '(7.12.txt 563)'),\n",
              " ('(7.8.txt 851)', '(7.8.txt 874)')]"
            ]
          },
          "metadata": {},
          "execution_count": 112
        }
      ]
    }
  ],
  "metadata": {
    "kernelspec": {
      "display_name": "Python 3",
      "language": "python",
      "name": "python3"
    },
    "language_info": {
      "codemirror_mode": {
        "name": "ipython",
        "version": 3
      },
      "file_extension": ".py",
      "mimetype": "text/x-python",
      "name": "python",
      "nbconvert_exporter": "python",
      "pygments_lexer": "ipython3",
      "version": "3.8.5"
    },
    "colab": {
      "provenance": [],
      "collapsed_sections": [],
      "include_colab_link": true
    }
  },
  "nbformat": 4,
  "nbformat_minor": 0
}