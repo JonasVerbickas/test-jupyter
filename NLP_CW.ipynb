{
  "cells": [
    {
      "cell_type": "markdown",
      "metadata": {
        "id": "view-in-github",
        "colab_type": "text"
      },
      "source": [
        "<a href=\"https://colab.research.google.com/github/JonasVerbickas/test-jupyter/blob/main/NLP_CW.ipynb\" target=\"_parent\"><img src=\"https://colab.research.google.com/assets/colab-badge.svg\" alt=\"Open In Colab\"/></a>"
      ]
    },
    {
      "cell_type": "code",
      "source": [
        "import os\n",
        "import nltk\n",
        "import re\n",
        "import string\n",
        "import unicodedata\n",
        "import time\n",
        "import pandas as pd\n",
        "from matplotlib import pyplot as plt\n",
        "from collections import Counter\n",
        "from collections import UserDict\n",
        "from tqdm import tqdm"
      ],
      "metadata": {
        "id": "BTTGCTeE65K-"
      },
      "execution_count": 292,
      "outputs": []
    },
    {
      "cell_type": "markdown",
      "source": [
        "I'm not sure how you will access the corpus on your side.\n",
        "Personally, I've uploaded it to my Google drive."
      ],
      "metadata": {
        "id": "tF3YIutv5fK1"
      }
    },
    {
      "cell_type": "code",
      "source": [
        "from google.colab import drive\n",
        "drive.mount('/content/drive')"
      ],
      "metadata": {
        "colab": {
          "base_uri": "https://localhost:8080/"
        },
        "id": "A59xTdZA0OzU",
        "outputId": "73ccc517-f014-49b8-ba15-a1c5a04abfdb"
      },
      "execution_count": 293,
      "outputs": [
        {
          "output_type": "stream",
          "name": "stdout",
          "text": [
            "Drive already mounted at /content/drive; to attempt to forcibly remount, call drive.mount(\"/content/drive\", force_remount=True).\n"
          ]
        }
      ]
    },
    {
      "cell_type": "code",
      "source": [
        "porter = nltk.PorterStemmer()"
      ],
      "metadata": {
        "id": "9Kh-pY5D8H1e"
      },
      "execution_count": 294,
      "outputs": []
    },
    {
      "cell_type": "markdown",
      "source": [
        "# Download additional NLTK resources\n",
        "These are required for tokenization and stop-word removal"
      ],
      "metadata": {
        "id": "tSyqexBZ3npQ"
      }
    },
    {
      "cell_type": "code",
      "source": [
        "nltk.download('punkt')\n",
        "nltk.download('stopwords')\n",
        "# I convert it into a set, because it results in faster `in` look-ups\n",
        "STOP_WORDS = nltk.corpus.stopwords.words('english')\n",
        "# convert to set() for faster `in` checks\n",
        "STOP_WORDS = set(STOP_WORDS)\n",
        "STOP_WORDS"
      ],
      "metadata": {
        "colab": {
          "base_uri": "https://localhost:8080/"
        },
        "id": "fXosFc5y2vyH",
        "outputId": "9e5a2022-7c24-4bb6-f9b7-16dd439b221e"
      },
      "execution_count": 295,
      "outputs": [
        {
          "output_type": "stream",
          "name": "stderr",
          "text": [
            "[nltk_data] Downloading package punkt to /root/nltk_data...\n",
            "[nltk_data]   Package punkt is already up-to-date!\n",
            "[nltk_data] Downloading package stopwords to /root/nltk_data...\n",
            "[nltk_data]   Package stopwords is already up-to-date!\n"
          ]
        },
        {
          "output_type": "execute_result",
          "data": {
            "text/plain": [
              "{'a',\n",
              " 'about',\n",
              " 'above',\n",
              " 'after',\n",
              " 'again',\n",
              " 'against',\n",
              " 'ain',\n",
              " 'all',\n",
              " 'am',\n",
              " 'an',\n",
              " 'and',\n",
              " 'any',\n",
              " 'are',\n",
              " 'aren',\n",
              " \"aren't\",\n",
              " 'as',\n",
              " 'at',\n",
              " 'be',\n",
              " 'because',\n",
              " 'been',\n",
              " 'before',\n",
              " 'being',\n",
              " 'below',\n",
              " 'between',\n",
              " 'both',\n",
              " 'but',\n",
              " 'by',\n",
              " 'can',\n",
              " 'couldn',\n",
              " \"couldn't\",\n",
              " 'd',\n",
              " 'did',\n",
              " 'didn',\n",
              " \"didn't\",\n",
              " 'do',\n",
              " 'does',\n",
              " 'doesn',\n",
              " \"doesn't\",\n",
              " 'doing',\n",
              " 'don',\n",
              " \"don't\",\n",
              " 'down',\n",
              " 'during',\n",
              " 'each',\n",
              " 'few',\n",
              " 'for',\n",
              " 'from',\n",
              " 'further',\n",
              " 'had',\n",
              " 'hadn',\n",
              " \"hadn't\",\n",
              " 'has',\n",
              " 'hasn',\n",
              " \"hasn't\",\n",
              " 'have',\n",
              " 'haven',\n",
              " \"haven't\",\n",
              " 'having',\n",
              " 'he',\n",
              " 'her',\n",
              " 'here',\n",
              " 'hers',\n",
              " 'herself',\n",
              " 'him',\n",
              " 'himself',\n",
              " 'his',\n",
              " 'how',\n",
              " 'i',\n",
              " 'if',\n",
              " 'in',\n",
              " 'into',\n",
              " 'is',\n",
              " 'isn',\n",
              " \"isn't\",\n",
              " 'it',\n",
              " \"it's\",\n",
              " 'its',\n",
              " 'itself',\n",
              " 'just',\n",
              " 'll',\n",
              " 'm',\n",
              " 'ma',\n",
              " 'me',\n",
              " 'mightn',\n",
              " \"mightn't\",\n",
              " 'more',\n",
              " 'most',\n",
              " 'mustn',\n",
              " \"mustn't\",\n",
              " 'my',\n",
              " 'myself',\n",
              " 'needn',\n",
              " \"needn't\",\n",
              " 'no',\n",
              " 'nor',\n",
              " 'not',\n",
              " 'now',\n",
              " 'o',\n",
              " 'of',\n",
              " 'off',\n",
              " 'on',\n",
              " 'once',\n",
              " 'only',\n",
              " 'or',\n",
              " 'other',\n",
              " 'our',\n",
              " 'ours',\n",
              " 'ourselves',\n",
              " 'out',\n",
              " 'over',\n",
              " 'own',\n",
              " 're',\n",
              " 's',\n",
              " 'same',\n",
              " 'shan',\n",
              " \"shan't\",\n",
              " 'she',\n",
              " \"she's\",\n",
              " 'should',\n",
              " \"should've\",\n",
              " 'shouldn',\n",
              " \"shouldn't\",\n",
              " 'so',\n",
              " 'some',\n",
              " 'such',\n",
              " 't',\n",
              " 'than',\n",
              " 'that',\n",
              " \"that'll\",\n",
              " 'the',\n",
              " 'their',\n",
              " 'theirs',\n",
              " 'them',\n",
              " 'themselves',\n",
              " 'then',\n",
              " 'there',\n",
              " 'these',\n",
              " 'they',\n",
              " 'this',\n",
              " 'those',\n",
              " 'through',\n",
              " 'to',\n",
              " 'too',\n",
              " 'under',\n",
              " 'until',\n",
              " 'up',\n",
              " 've',\n",
              " 'very',\n",
              " 'was',\n",
              " 'wasn',\n",
              " \"wasn't\",\n",
              " 'we',\n",
              " 'were',\n",
              " 'weren',\n",
              " \"weren't\",\n",
              " 'what',\n",
              " 'when',\n",
              " 'where',\n",
              " 'which',\n",
              " 'while',\n",
              " 'who',\n",
              " 'whom',\n",
              " 'why',\n",
              " 'will',\n",
              " 'with',\n",
              " 'won',\n",
              " \"won't\",\n",
              " 'wouldn',\n",
              " \"wouldn't\",\n",
              " 'y',\n",
              " 'you',\n",
              " \"you'd\",\n",
              " \"you'll\",\n",
              " \"you're\",\n",
              " \"you've\",\n",
              " 'your',\n",
              " 'yours',\n",
              " 'yourself',\n",
              " 'yourselves'}"
            ]
          },
          "metadata": {},
          "execution_count": 295
        }
      ]
    },
    {
      "cell_type": "markdown",
      "source": [
        "# Implementation"
      ],
      "metadata": {
        "id": "FIZUgB4Qltb9"
      }
    },
    {
      "cell_type": "markdown",
      "source": [
        "\n",
        "## Initialize helper classes\n",
        "I could've coded everything using tuples/lists instead of these helper classes.\n",
        "\n",
        "However, I feel like these make the code more verbose and remove ambiguity that comes from giving positions in a tuple meaning."
      ],
      "metadata": {
        "id": "1aYg16m74cxM"
      }
    },
    {
      "cell_type": "code",
      "source": [
        "class StringWithDocId:\n",
        "  \"\"\"\n",
        "  Used in InvertedIndex.read_data method to create a list of document contents with doc_ids \n",
        "  \"\"\" \n",
        "  def __init__(self, string, doc_id):\n",
        "    self.string = string\n",
        "    self.doc_id = doc_id\n",
        "  \n",
        "  def __str__(self):\n",
        "    return f\"{self.string}: {self.doc_id}\"\n",
        "\n",
        "  def __repr__(self):\n",
        "    return f\"{self.string}: {self.doc_id}\""
      ],
      "metadata": {
        "id": "P_X_2vKt8lbK"
      },
      "execution_count": 296,
      "outputs": []
    },
    {
      "cell_type": "code",
      "source": [
        "class StringWithDocIdAndPosition(StringWithDocId):\n",
        "  \"\"\"\n",
        "  Stores positions as well.\n",
        "  Used to create & sort list of positional terms.\n",
        "  \n",
        "  \"\"\"\n",
        "  def __init__(self, string, doc_id, position):\n",
        "    super().__init__(string, doc_id)\n",
        "    self.position = position\n",
        "  \n",
        "  def __lt__(token_with_doc_A, token_with_doc_B):\n",
        "    if token_with_doc_A.string != token_with_doc_B.string:\n",
        "      return token_with_doc_A.string < token_with_doc_B.string\n",
        "    elif token_with_doc_A.doc_id != token_with_doc_B.doc_id:\n",
        "      return token_with_doc_A.doc_id < token_with_doc_B.doc_id\n",
        "    else:\n",
        "      return token_with_doc_A.position < token_with_doc_B.position"
      ],
      "metadata": {
        "id": "XSBSe0-PxlCV"
      },
      "execution_count": 297,
      "outputs": []
    },
    {
      "cell_type": "code",
      "source": [
        "class Posting(UserDict):\n",
        "  \"\"\"\n",
        "  This stores the positional information for each term in the postional inverted index.\n",
        "  Some methods have been overriden to its objects behave like dictionary.\n",
        "  Keys are all of documents where this term appears;\n",
        "  Values store the positions, where in that document term appears\n",
        "  {docID: [pos1, pos2, ...]}.\n",
        "  \"\"\"\n",
        "  def __init__(self):\n",
        "    super().__init__()\n",
        "    self.posting_dic = {}\n",
        "    self.total_occurances = 0\n",
        "  \n",
        "  def __contains__(self, doc_id):\n",
        "    return doc_id in self.posting_dic\n",
        "  \n",
        "  def __iter__(self):\n",
        "      return iter(self.posting_dic.items())\n",
        "\n",
        "  def __getitem__(self, doc_id):\n",
        "      return self.posting_dic[doc_id]\n",
        "    \n",
        "  def get(self, k, default=None):\n",
        "    return self[k]\n",
        "  \n",
        "  def __len__(self):\n",
        "      return len(self.posting_dic)\n",
        "\n",
        "  def add(self, doc_id, position):\n",
        "    if doc_id in self.posting_dic:\n",
        "      self.posting_dic[doc_id].append(position)\n",
        "    else:\n",
        "      self.posting_dic[doc_id] = [position]\n",
        "    self.total_occurances += 1\n",
        "  \n",
        "  def __str__(self):\n",
        "    return f\"{self.total_occurances} total occurances: {[f'{len(positions)} in {doc_id}: {positions}' for doc_id, positions in self.posting_dic.items()]}\"\n",
        "  \n",
        "  def __repr__(self):\n",
        "    return str(self)"
      ],
      "metadata": {
        "id": "1Ts7G2B6TGRX"
      },
      "execution_count": 298,
      "outputs": []
    },
    {
      "cell_type": "code",
      "source": [
        "def wikipediaPreprocessing(text):\n",
        "  text = unicodedata.normalize('NFKD', text)#.encode('ASCII', 'ignore').decode('UTF-8')\n",
        "  text = text.replace('[edit]', '')\n",
        "  text = re.sub(r'\\[\\d+\\]', '', text)\n",
        "  text = re.sub(r'Contents\\s+1\\s+Plot.+Plot', '', text) \n",
        "  # text = re.sub(r'^.+From Wikipedia, the free encyclopedia.+List of episodes', '', text)\n",
        "  text = text.replace('From Wikipedia, the free encyclopedia', '')\n",
        "  return text"
      ],
      "metadata": {
        "id": "gpJRsN2bk5Iw"
      },
      "execution_count": 299,
      "outputs": []
    },
    {
      "cell_type": "code",
      "source": [
        "wikipediaPreprocessing(\"clichéd\")"
      ],
      "metadata": {
        "colab": {
          "base_uri": "https://localhost:8080/",
          "height": 35
        },
        "id": "WeiFViIoUs94",
        "outputId": "3253e7dc-0a3e-4ba0-fb4d-e57a25b558fe"
      },
      "execution_count": 300,
      "outputs": [
        {
          "output_type": "execute_result",
          "data": {
            "text/plain": [
              "'clichéd'"
            ],
            "application/vnd.google.colaboratory.intrinsic+json": {
              "type": "string"
            }
          },
          "metadata": {},
          "execution_count": 300
        }
      ]
    },
    {
      "cell_type": "markdown",
      "source": [
        "## Spell correction!!\n",
        "From P. Norvig's website: https://norvig.com/spell-correct.html."
      ],
      "metadata": {
        "id": "ppA9N4C4LpmA"
      }
    },
    {
      "cell_type": "code",
      "source": [
        "class SpellCorrect:\n",
        "\n",
        "  def __init__(self, posting_dict):\n",
        "    self.total_num_of_words = 0\n",
        "    self.word_freq_dic = {} \n",
        "    for key, val in posting_dict.items():\n",
        "      self.total_num_of_words += val.total_occurances\n",
        "      # I don't store positions here, because in case of spell check only frequencies are needed\n",
        "      self.word_freq_dic[key] = self.total_num_of_words\n",
        "\n",
        "  def _P(self, word): \n",
        "      \"Probability of `word`.\"\n",
        "      if word in self.word_freq_dic:\n",
        "        return self.word_freq_dic[word] / self.total_num_of_words\n",
        "      # If a word doesn't exist within the index\n",
        "      # It's probality is 0 - this is a way to get rid of words that are not real\n",
        "      else:\n",
        "        return 0\n",
        "\n",
        "  def correction(self, word): \n",
        "      \"Most probable spelling correction for word.\"\n",
        "      most_probable_correction = max(self._candidates(word), key=self._P)\n",
        "      # if no correction is possible just return None\n",
        "      if self._P(most_probable_correction) == 0:\n",
        "        return None\n",
        "      else:\n",
        "        return most_probable_correction\n",
        "\n",
        "  def _candidates(self, word): \n",
        "      \"Generate possible spelling corrections for word.\"\n",
        "      return (self._known([word]) or self._known(self._edits1(word)) or self._known(self._edits2(word)) or [word])\n",
        "\n",
        "  def _known(self, words): \n",
        "      \"The subset of `words` that appear in the dictionary of WORDS.\"\n",
        "      return set(w for w in words if w in self.word_freq_dic.keys())\n",
        "\n",
        "  def _edits1(self, word):\n",
        "      \"All edits that are one edit away from `word`.\"\n",
        "      letters    = 'abcdefghijklmnopqrstuvwxyz'\n",
        "      splits     = [(word[:i], word[i:])    for i in range(len(word) + 1)]\n",
        "      deletes    = [L + R[1:]               for L, R in splits if R]\n",
        "      transposes = [L + R[1] + R[0] + R[2:] for L, R in splits if len(R)>1]\n",
        "      replaces   = [L + c + R[1:]           for L, R in splits if R for c in letters]\n",
        "      inserts    = [L + c + R               for L, R in splits for c in letters]\n",
        "      return set(deletes + transposes + replaces + inserts)\n",
        "\n",
        "  def _edits2(self, word): \n",
        "      \"All edits that are two edits away from `word`.\"\n",
        "      return (e2 for e1 in self._edits1(word) for e2 in self._edits1(e1))"
      ],
      "metadata": {
        "id": "qM1dEHFgNIiH"
      },
      "execution_count": 301,
      "outputs": []
    },
    {
      "cell_type": "code",
      "source": [
        "class MultiWordTermSet:\n",
        "  \"\"\"\n",
        "  Used to store multi-word terms;\n",
        "  when prompted finds all matching subsequences that match the stored terms\n",
        "  Currently used for multi-token episode titles, character and location names.\n",
        "  \"\"\"\n",
        "\n",
        "  def __init__(self):\n",
        "    # this will store terms in different sets based on the number of tokens each term has\n",
        "    # key [2] will have a set of processed terms of 2 tokens in length\n",
        "    self.dict_of_sets = dict()\n",
        "\n",
        "  def add(self, processed_tokens):\n",
        "    # anything of size 1, isn't a multi-word term - don't waste space storing it\n",
        "    if len(processed_tokens) > 1:\n",
        "      if len(processed_tokens) not in self.dict_of_sets:\n",
        "        self.dict_of_sets[len(processed_tokens)] = set()\n",
        "      self.dict_of_sets[len(processed_tokens)].add(\" \".join(processed_tokens))\n",
        "\n",
        "  def findMatchingSubsequences(self, list_of_processed_tokens: list) -> set:\n",
        "    \"\"\"\n",
        "    Go through list_of_processed_tokens and try to find matching substrings in dict_of_subseq_to_look_for\n",
        "    Return all found matches\n",
        "    \"\"\"\n",
        "    list_of_processed_tokens = list_of_processed_tokens[:max(self.dict_of_sets.keys())]\n",
        "    matching_subseqs = set()\n",
        "    for i in self.dict_of_sets.keys():\n",
        "      i_joined_tokens = \" \".join(list_of_processed_tokens[:i])\n",
        "      if i_joined_tokens in self.dict_of_sets[i]:\n",
        "        matching_subseqs.add(i_joined_tokens)\n",
        "    return matching_subseqs\n"
      ],
      "metadata": {
        "id": "5n5MJVlTbYlg"
      },
      "execution_count": 307,
      "outputs": []
    },
    {
      "cell_type": "markdown",
      "source": [
        "## The Inverted Index (THE MOST IMPORTANT BIT)"
      ],
      "metadata": {
        "id": "U0qC9x-N40SG"
      }
    },
    {
      "cell_type": "code",
      "execution_count": 308,
      "metadata": {
        "id": "4WtSmBsrzqE7"
      },
      "outputs": [],
      "source": [
        "class InvertedIndex:\n",
        "    \"\"\"\n",
        "    Construct Inverted Index\n",
        "    \"\"\"\n",
        "    def __init__(self):\n",
        "        self.inverted_index: dict = {}\n",
        "        # this is a set because there are some duplicates in the CSV files\n",
        "        self.csv_terms = MultiWordTermSet() \n",
        "        self.ep_titles = MultiWordTermSet() \n",
        "  \n",
        "    def _appendCSV(self, path: str) -> None:\n",
        "      \"\"\"\n",
        "      Used to fill up csv_terms that are later used to index multi-word terms within the corpus\n",
        "      1)opens a csv in the given path\n",
        "      2)processes each term, so that it matches the tokenized corpus\n",
        "      3)and appends to csv_terms set\"\"\"\n",
        "      df = pd.read_csv(path)\n",
        "      set_of_csv_entries = df['name']\n",
        "      for term in set_of_csv_entries:\n",
        "        processed_tokens = self.processListOfTokens(self.process_document(term))\n",
        "        self.csv_terms.add(processed_tokens)\n",
        "    \n",
        "    def _appendTitle(self, text):\n",
        "      \"\"\"This will extract the title (first line) from the given text, process it\n",
        "      lastly append it to list of known titles\"\"\"\n",
        "      unprocessed_ep_title = text.strip().split('\\n')[0]\n",
        "      processed_tokens = self.processListOfTokens(self.process_document(unprocessed_ep_title))\n",
        "      self.ep_titles.add(processed_tokens)\n",
        "\n",
        "    def read_data(self, path: str) -> list:\n",
        "        \"\"\"\n",
        "        Read files from a directory and then append the data of each file into a list.\n",
        "        \"\"\"\n",
        "        document_content_list = []\n",
        "        for file in tqdm(os.listdir(path)):\n",
        "          file_ext = os.path.splitext('file')[1].lower()\n",
        "          filename_with_path = os.path.join(path, file)\n",
        "          if file_ext == 'txt':\n",
        "            with open(filename_with_path, 'r') as f:\n",
        "              text = f.read()\n",
        "              document_content_list.append(StringWithDocId(text, file))\n",
        "              self._appendTitle(text)\n",
        "          elif file_ext == 'csv':\n",
        "            self._appendCSV(filename_with_path)\n",
        "          else:\n",
        "            print(filename_with_path, \" doesn't have the required file extension 'txt' or 'csv' - it will be skipped\")\n",
        "        print(\"Number of documents within the corpus:\", len(document_content_list)) \n",
        "        return document_content_list\n",
        "      \n",
        "    def processListOfTokens(self, tokenized: list) -> list:\n",
        "      \"\"\"\n",
        "      This removes stop-words, punctuation and stems the words.\n",
        "      This has been made a separate function, because it's needed to process multi-word terms and \n",
        "      \"\"\"\n",
        "      output = []\n",
        "      for token in tokenized:\n",
        "        # stop-words only contain lower case versions of words\n",
        "        # therefore tokens must be lowercased in order to match them\n",
        "        # casefold() is a more aggresive version of lower()\n",
        "        # https://docs.python.org/3/library/stdtypes.html#str.casefold\n",
        "        token = token.casefold()\n",
        "        # 2. ignore stop-words\n",
        "        if token in STOP_WORDS:\n",
        "          continue\n",
        "        # ignore tokens that don't have words/numbers in them i.e. punctuation only\n",
        "        if not re.search('\\w', token):\n",
        "          continue\n",
        "        # delete hyphens\n",
        "        token = token.replace('-', '')\n",
        "        # apply stemming\n",
        "        stemmed = porter.stem(token)\n",
        "        output.append(stemmed)\n",
        "      return output\n",
        "\n",
        "    def process_document(self, document: str) -> list:\n",
        "        \"\"\"\n",
        "        pre-process a document and return a list of its terms\n",
        "        str->list\"\"\"\n",
        "        # 1. Wikipedia hyperlinks should be removed\n",
        "        text = wikipediaPreprocessing(document)\n",
        "        tokenized  = nltk.tokenize.word_tokenize(text)\n",
        "        # remove stop-words & apply stemming\n",
        "        filtered_tokens = self.processListOfTokens(tokenized)\n",
        "        return filtered_tokens\n",
        "    \n",
        "    def index_corpus(self, documents: list) -> None:\n",
        "        \"\"\"\n",
        "        index given documents\n",
        "        list->None\"\"\"\n",
        "        starting_time = time.perf_counter()\n",
        "        token_list = []\n",
        "\n",
        "        # 1. Generate token sequence\n",
        "        for doc in documents:\n",
        "          curr_doc_id = doc.doc_id\n",
        "          tokenized_doc = self.process_document(doc.string)\n",
        "          for i, token in enumerate(tokenized_doc):\n",
        "            matching_subseqs = self._findMultiWordTerms(tokenized_doc[i:])\n",
        "            # append all multi-word matches\n",
        "            for match in matching_subseqs:\n",
        "              match_with_doc_id_and_pos = StringWithDocIdAndPosition(match, curr_doc_id, i)\n",
        "              token_list.append(match_with_doc_id_and_pos)\n",
        "            # append current word\n",
        "            token_with_doc_id_and_pos = StringWithDocIdAndPosition(token, curr_doc_id, i)\n",
        "            token_list.append(token_with_doc_id_and_pos)\n",
        "        # 2. Sort\n",
        "        sorted_token_list = sorted(token_list)\n",
        "        # 3. Convert into dictionary of postings\n",
        "        for i, token in enumerate(tqdm(sorted_token_list)):\n",
        "          if token.string not in self.inverted_index:\n",
        "            self.inverted_index[token.string] = Posting()\n",
        "          self.inverted_index[token.string].add(token.doc_id, token.position)\n",
        "\n",
        "        # Initialize spell-correct\n",
        "        self.spell_correct = SpellCorrect(self.inverted_index)\n",
        "        # Print out some details about the dataset\n",
        "        total_time_taken = round(time.perf_counter() - starting_time, 4)\n",
        "        print(f\"It took: {total_time_taken} seconds to index the whole corpus.\")\n",
        "        print(f\"It has {len(self.inverted_index)} entries in total.\")\n",
        "\n",
        "    def _processQuery(self, q: str) -> str:\n",
        "        query_as_list_of_processed_tokens = self.processListOfTokens(self.process_document(q))\n",
        "        # if query is a stop-word it will \n",
        "        if len(query_as_list_of_processed_tokens) == 0:\n",
        "          print(f\"Query '{q}' a stop-word\")\n",
        "          return None\n",
        "        term = \" \".join(query_as_list_of_processed_tokens)\n",
        "        print(f\"After initial processing: {q} -> {term}\", end=\"; \")\n",
        "        if term in self.inverted_index:\n",
        "          return term\n",
        "        else:\n",
        "          most_probable_correction = self.spell_correct.correction(term)\n",
        "          if most_probable_correction == None:\n",
        "            print(\"No viable spelling fix was found\")\n",
        "          return most_probable_correction\n",
        "      \n",
        "    def dump(self, path: str) -> None:\n",
        "        \"\"\"\n",
        "        provide a dump function to show index entries for a given set of terms        \n",
        "        \"\"\"\n",
        "        if os.path.exists(path) == False:\n",
        "          print(\"Path to file you provided doesn't exist\")\n",
        "          return\n",
        "        with open(path, 'r') as f:\n",
        "          file_contents = f.read()\n",
        "          examples = file_contents.split('\\n')\n",
        "          for query in examples:\n",
        "            processed_query = self._processQuery(query)\n",
        "            # if even after spell-correction no matching terms are found processed query will be None\n",
        "            if processed_query is not None:\n",
        "              print(processed_query, self.inverted_index[processed_query])\n",
        "     \n",
        "    def proximity_search(self, term1: str, term2: str, window_size: int = 3) -> dict:\n",
        "        \"\"\"\n",
        "        1) check whether given two terms appear within a window\n",
        "        2) calculate the number of their co-existance in a document\n",
        "        3) add the document id and the number of matches into a dict\n",
        "        return the dict\"\"\"\n",
        "        term1 = self._processQuery(term1)\n",
        "        if term1 is None:\n",
        "          print(\"Cannot find an entry in Inverted Index for\", term1)\n",
        "          return\n",
        "        term2 = self._processQuery(term2)\n",
        "        if term2 is None:\n",
        "          print(\"Cannot find an entry in Inverted Index for\", term2)\n",
        "          return\n",
        "        documents_containing_both_terms = {}\n",
        "        # i'm aware that this is usually implemented using while loops\n",
        "        # however in python I can do it using for loops\n",
        "        for term1_doc_id, term1_positions in self.inverted_index[term1]:\n",
        "          # if both terms can be found in the same document\n",
        "          if term1_doc_id in self.inverted_index[term2]:\n",
        "            for term1_position in term1_positions:\n",
        "              # print(\"- term1_position\",term1_position)\n",
        "              for term2_position in self.inverted_index[term2][term1_doc_id]:\n",
        "                # print(\"-- term2_position\",term2_position)\n",
        "                if abs(term2_position - term1_position) < window_size:\n",
        "                  if term1_doc_id not in documents_containing_both_terms:\n",
        "                    documents_containing_both_terms[term1_doc_id] = []\n",
        "                  documents_containing_both_terms[term1_doc_id].append((term1_position, term2_position))\n",
        "                  print(f'Appended! abs({term2_position} - {term1_position})=', abs(term2_position - term1_position))\n",
        "                # if term2 has passed the window of term1, move on to another term1 position\n",
        "                elif term2_position - term1_position > window_size:\n",
        "                  break\n",
        "        return documents_containing_both_terms"
      ]
    },
    {
      "cell_type": "markdown",
      "source": [
        "# Testing my implementation"
      ],
      "metadata": {
        "id": "oFcrQZ0nJMeF"
      }
    },
    {
      "cell_type": "code",
      "source": [
        "def testReadData():\n",
        "  index = InvertedIndex()\n",
        "  corpus = index.read_data('/content/drive/MyDrive/Colab Notebooks/Simpsons2022')\n",
        "  return (corpus[0]).string\n",
        "testReadData()"
      ],
      "metadata": {
        "colab": {
          "base_uri": "https://localhost:8080/",
          "height": 139
        },
        "id": "nSvu_GKR_03l",
        "outputId": "b4bd0b98-6dad-4a12-9f2d-fcdbb54ee3b1"
      },
      "execution_count": 309,
      "outputs": [
        {
          "output_type": "stream",
          "name": "stdout",
          "text": [
            "First 10 entries of csv_terms: <__main__.MultiWordTermSet object at 0x7f99e8120c90>\n",
            "118\n"
          ]
        },
        {
          "output_type": "execute_result",
          "data": {
            "text/plain": [
              "'Mr. Lisa Goes to Washington\\nFrom Wikipedia, the free encyclopedia\\n\\n\\n\\nJump to navigation\\nJump to search\\n\"Mr. Lisa Goes to Washington\"\\nThe Simpsons\\xa0episode\\nEpisode\\xa0no.\\nSeason\\xa03\\nEpisode 2\\nDirected by\\nWes Archer\\nWritten by\\nGeorge Meyer\\nProduction code\\n8F01\\nOriginal air date\\nSeptember 26, 1991[1]\\n\\nEpisode features\\nChalkboard gag\\n\"Spitwads are not free speech\"\\nCouch gag\\nThe family sits down and Homer pulls\\xa0Santa\\'s Little Helper\\xa0from under him.\\nCommentary\\nMatt Groening\\nAl Jean\\nMike Reiss\\nJulie Kavner\\nWes Archer\\nDavid Silverman\\nEpisode chronology\\n←\\xa0Previous\\n\"Stark Raving Dad\"\\nNext\\xa0→\\n\"When Flanders Failed\"\\nThe Simpsons\\xa0(season 3)\\nList of episodes\\n\"Mr. Lisa Goes to Washington\" is the second episode of the\\xa0third season\\xa0of the American animated television series\\xa0The Simpsons. It originally aired on the\\xa0Fox network\\xa0in the United States on September 26, 1991. In the episode,\\xa0Lisa\\xa0wins a patriotic essay contest about the\\xa0United States. She and her family attend the contest finals in\\xa0Washington, D.C., where she is dismayed after watching a\\xa0congressman\\xa0accept a bribe. Lisa loses the contest when she pens a scathing screed condemning the\\xa0government system, but the corrupt congressman is jailed and removed from office, restoring her faith in government.\\nThe episode was written by\\xa0George Meyer\\xa0and directed by\\xa0Wes Archer. It was the first episode for which\\xa0Al Jean\\xa0and\\xa0Mike Reiss\\xa0served as\\xa0show runners. It features multiple references to the 1939 film\\xa0Mr. Smith Goes to Washington, including the scene in which Lisa appeals to Lincoln\\'s statue at the\\xa0Lincoln Memorial\\xa0for advice. Other Washington landmarks referenced in the episode include the\\xa0White House, the\\xa0Watergate Hotel, the\\xa0Jefferson Memorial, the\\xa0Washington Monument, the\\xa0National Air and Space Museum\\xa0and the\\xa0Kennedy Center for the Performing Arts.\\nThe episode acquired a\\xa0Nielsen rating\\xa0of 12.9, and was the third highest-rated show on Fox the week it aired. It received mostly positive reviews from television critics, who praised the episode for its satire on American politics. The\\xa0timber industry\\xa0criticized the scene in which Lisa witnesses a timber industry lobbyist offering a bribe to the congressman to allow loggers to raze the Springfield Forest. The scene was described as \"an easy shot at hard-working people whose only crime is to have been born in a timber town\".[2]\\nContents\\n\\t\\t1\\n\\t\\tPlot\\n\\t\\t2\\n\\t\\tProduction\\n\\t\\t3\\n\\t\\tCultural references\\n\\t\\t4\\n\\t\\tThemes and analysis\\n\\t\\t5\\n\\t\\tReception\\n\\t\\t5.1\\n\\t\\tBroadcast and re-releases\\n\\t\\t5.2\\n\\t\\tCritical reviews\\n\\t\\t5.3\\n\\t\\tResponse from the timber industry\\n\\t\\t6\\n\\t\\tReferences\\n\\t\\t7\\n\\t\\tExternal links\\nPlot[edit]\\nHomer\\xa0sees an ad for a children\\'s essay contest in the\\xa0Reading Digest\\xa0magazine.\\xa0Lisa\\xa0submits an essay on the contest\\'s topic — \"what makes America great\" — after visiting Springfield Forest and seeing a\\xa0bald eagle\\xa0land nearby. The Simpsons travel to Washington, D.C. after Lisa\\'s essay, \"The Roots of Democracy\", earns her a spot in the national finals there.\\nWhile\\xa0Bart\\xa0and Homer enjoy the all-expenses-paid perks of their trip, Lisa visits famous monuments for inspiration. At a shrine to a\\xa0feminist\\xa0icon, she sees a corrupt\\xa0congressman, Bob Arnold, taking a bribe from a timber industry\\xa0lobbyist\\xa0to allow loggers to\\xa0clearcut\\xa0Springfield Forest. Heartbroken and disillusioned by government corruption, Lisa destroys her winning essay. She pens a scathing indictment, \"Cesspool on the\\xa0Potomac\", which condemns government greed and corruption and names the politician involved in the bribery.\\nLisa\\'s essay elicits a hostile reaction from the judges and audience members. When word of her speech quickly spreads through the\\xa0capital, Congressman Arnold is arrested, removed from office and sent to prison, where he becomes a\\xa0born-again\\xa0Christian. Lisa\\'s essay fails to win the contest, but her faith in government is restored and the contest winner commends her courage and honesty.\\nProduction[edit]\\n\\n\\nMike Reiss\\xa0(left) and\\xa0Al Jean\\xa0(right) took over as\\xa0show runners\\xa0for the third season.\\nThe episode was written by\\xa0George Meyer. It is one of\\xa0The Simpsons\\xa0creator\\xa0Matt Groening\\'s favorite episodes of the earlier seasons because he thought it took the show to another level.[3]\\xa0Meyer said he has a \"deep suspicion of social institutions and tradition in general,\" which affected the way he wrote the episode.[4]\\xa0Al Jean\\xa0and\\xa0Mike Reiss, who had written for\\xa0The Simpsons\\xa0since the start of the show, took over as\\xa0show runners\\xa0for the third season. Their first episode as show runners was \"Mr. Lisa Goes to Washington\" and they felt a lot of pressure about running the show. Jean and Reiss were so pressured that they did six to seven rewrites of the script to make it funnier.[5]\\xa0Jean said \"one reason for doing all these rewrites is because I kept thinking \\'It\\'s not good enough. It\\'s not good enough\\',\"[5]\\xa0and Reiss added that \"we were definitely scared. We had never run anything before, and they dumped us on this.\"[6]\\nWes Archer\\xa0directed \"Mr. Lisa Goes to Washington\", which was one of the first episodes to feature the Simpson family traveling to a real-life location.[7]\\xa0Because much of the episode takes place outside of Springfield, new background and character designs had to be animated. The Simpson family visits several real-life landmarks in Washington, which the animators were able to draw with the help of photographs from the animation studio\\'s library.\\xa0The Simpsons\\xa0director\\xa0David Silverman\\xa0grew up in the Washington area so he was able to help out with the designs.[8]\\xa0Marge\\'s voice actor,\\xa0Julie Kavner, said she loved the charm of the family \"just being on a trip and experiencing the hotel room they\\'re staying at, and the integrity of Bart\\'s character. You know, you just want to kill him for doing all those tricks and pranks.\"[9]\\xa0Jean believes this is one of the secrets of the show\\'s success, the fact that it is about a family and the writers can use experiences from their own or their family\\'s life as an inspiration in their writing. He thought \"Mr. Lisa Goes to Washington\" was a perfectly constructed episode in that sense.[5]\\nCultural references[edit]\\n\\n\\nLisa seeks advice from the\\xa0Abraham Lincoln statue\\xa0at the\\xa0Lincoln Memorial.\\nThe title and plot of the episode are parodies of the 1939 film\\xa0Mr. Smith Goes to Washington,[10]\\xa0in which the character Jefferson Smith comes to Washington with patriotic enthusiasm, but is instead shocked to see evidence of corruption in the government.[11][12]\\xa0The Tampa Tribune\\'s Curtis Ross called this reference one of the best film references in\\xa0The Simpsons\\'\\xa0history.[13]\\xa0Lisa\\'s visit to the\\xa0Lincoln Memorial\\xa0is a direct reference to\\xa0Mr. Smith Goes to Washington, in which Smith appeals to\\xa0Lincoln\\'s statue\\xa0for inspiration like Lisa did in the episode.[14]\\xa0In his book\\xa0Abraham Lincoln in the Post-Heroic Era, Barry Schwartz writes that the scene with Lisa at the crowded monument shows how \"thoroughly Lincoln\\'s moral and emotional significance has waned\".[15]\\xa0Mark Reinhart writes in the book\\xa0Abraham Lincoln on Screen\\xa0that the scene sums up \"with brilliant wit\" the American society\\'s \"annoying and ultimately useless tendency to ask [themselves] \\'What would Lincoln have done?\\' whenever [they] face a political or social dilemma\".[16]\\xa0Mr. Smith Goes to Washington\\xa0was once again referenced on\\xa0The Simpsons\\xa0in the\\xa0season fourteen\\xa0episode \"Mr. Spritz Goes to Washington\".[11]\\n\\n\\nThe family visit the\\xa0White House, where they meet then\\xa0First Lady\\xa0Barbara Bush.\\nIn addition to the Lincoln Memorial, other Washington, D.C. landmarks visited include the\\xa0Jefferson Memorial,[16][17]\\xa0the\\xa0Watergate Hotel\\xa0(where the family stays),[18]\\xa0the\\xa0Kennedy Center for the Performing Arts,[2]\\xa0the\\xa0White House,[19]\\xa0the\\xa0National Air and Space Museum, and the\\xa0Washington Monument.[5]\\xa0When the family visits the White House, they encounter then-First Lady\\xa0Barbara Bush\\xa0in the bathtub of one of the many bathrooms.[19]\\xa0Another American landmark mentioned in the episode is\\xa0Mount Rushmore.[1]\\xa0In addition, Lisa proposes that the family attend the memorial of the fictional Winifred Beecher Howe, an early crusader for women\\'s rights who later appeared on the unpopular 75-cent coins, according to Lisa. This is a reference to the\\xa0Susan B. Anthony dollar, which was minted for only three years and never became popular.[20]\\nThe episode makes references to several real-life persons. The piano-playing satirist who annoys Bart is a reference to\\xa0Mark Russell.[5]\\xa0Bob Arnold, the corrupt congressman, tells Lisa that there are quite a few women senators, but Lisa asserts that there are only two. (At the time, there were indeed only two,\\xa0Nancy Landon Kassebaum\\xa0of Kansas and\\xa0Barbara Mikulski\\xa0of Maryland.)[1]\\xa0Then-President\\xa0George H. W. Bush\\xa0is featured briefly in the episode. Shortly after it aired, Bush disparaged\\xa0The Simpsons\\xa0in a speech during his re-election campaign on January 27, 1992. At that point, family values were the cornerstone of Bush\\'s campaign platform, so he gave the following speech at the\\xa0National Religious Broadcasters\\' convention in Washington: \"We are going to keep on trying to strengthen the American family, to make American families a lot more like\\xa0the Waltons\\xa0and a lot less like the Simpsons.\"[21]\\xa0As a result, Bush appeared in future episodes in a more negative light.[21]\\nThemes and analysis[edit]\\n\\n\\nLisa\\'s role in the episode has been compared to\\xa0Henry David Thoreau.\\n\"Mr. Lisa Goes to Washington\" has been labeled as a satire on American politics. Michael Bitzer, in an edited book by Joseph Foy and Stanley Schultz entitled\\xa0Homer Simpson Goes to Washington, said this episode \"espouses the virtues, vices, and varieties of American political culture, public opinion, and ultimately the\\xa0American Dream\".[22]\\xa0Bitzer also wrote that\\xa0The Simpsons, through \"skillful\" use of satire, demonstrates with this episode \"insights into the underlying political culture and public opinion of the United States\\' governing system (and, more broadly, society at large)\".[22]\\xa0In his book\\xa0Gilligan Unbound: Pop Culture in the Age of Globalization, Paul Arthur Cantor said he was amazed by how far the episode was \"willing to take its corrosive satire of national politics\".[23]\\xa0He said it \"attacks the federal government at its foundation, the patriotic myths upon which its legitimacy lies. It makes fun of the very process by which patriotism is inculcated in the nation\\'s youth, the hokey contests that lead children to outdo each other in progovernment effusions.\"[23]\\xa0When the corrupt congressman is arrested, Lisa proclaims \"The system works!\" Benedict Anderson wrote in the book\\xa0The Spectre of Comparisons\\xa0that series creator Matt Groening \"assumes that his tickled audience is confident that the system barely works [...] So why does he need to show a patriot at all, especially one who is a deluded little female block-head? Probably because he, too, wishes to be seen as giving America another chance. Mr. Lisa guarantees his good intentions.\"[10]\\nGünter Beck, a lecturer for the\\xa0German Academic Exchange Service\\xa0(DAAD) at the Haifa Center for German and European Studies at the\\xa0University of Haifa\\xa0in Israel, compared Lisa\\'s role in the episode to the nineteenth-century American poet and philosopher\\xa0Henry David Thoreau. He writes that Lisa stands up against the public\\'s indifference towards the political system that Thoreau criticized, and comments that the emphasis should be \"on the brave moral decision to stand up for principles and against the broad public. By this courageous act, \\'to do what is right\\', an individual could save the well-being of the whole community. And indeed, Lisa\\'s bravery is the impulse for the state\\'s representatives to carry out their democratic obligations, so she can gladly notice \\'The system works!\\' — her trust in democracy and its institutions is restored. Thoreau on the other hand, had no lasting trust in the system but only in the people themselves and in the individual\\'s capacity to realize development and democracy.\"[24]\\nReception[edit]\\nBroadcast and re-releases[edit]\\n\"Mr. Lisa Goes to Washington\" originally aired on the Fox network in the United States on September 26, 1991.[1]\\xa0The episode finished 36th in the ratings for the week of September 23–29, 1991, with a\\xa0Nielsen rating\\xa0of 12.9, equivalent to approximately 11.9 million viewing households.\\xa0The Simpsons\\xa0was the third highest-rated show on Fox that week, following\\xa0Married... with Children\\xa0and\\xa0In Living Color.[25]\\xa0\"Mr. Lisa Goes to Washington\" and the episode \"When Flanders Failed\" were released on videocassette in 1999, entitled\\xa0The Best of the Simpsons.[26]\\xa0The episode was later included on the\\xa0Simpsons\\xa0season three DVD set that was released on August 26, 2003. Wes Archer, David Silverman, Matt Groening, Al Jean, Mike Reiss, and Julie Kavner participated in the DVD\\'s\\xa0audio commentary\\xa0of the episode.[27]\\nCritical reviews[edit]\\nSince airing, the episode has received mostly positive reviews from television critics. The authors of the book\\xa0I Can\\'t Believe It\\'s a Bigger and Better Updated Unofficial Simpsons Guide, Warren Martyn and Adrian Wood, praised the episode for being one of the best Lisa-centric episodes, and called Lisa\\'s talk with\\xa0Thomas Jefferson\\xa0and her nightmare vision of politicians as pigs \"especially worthy of note\".[28]\\xa0Nate Meyers of Digitally Obsessed gave the episode a 4.5 rating and said it is one of the best episodes featuring Lisa, \"complete with poignant observations about politics\".[29]\\xa0He particularly enjoyed the appearance of Barbara Bush at the White House.[29]\\nThe\\xa0Austin American-Statesman\\'s Steven Stein said this was the first episode of\\xa0The Simpsons\\xa0he saw. Even though he did not understand half the pop culture references, by the end of the episode he was a \"Simpsons\\xa0convert\".[18]\\xa0He thought there was \"something exotic about an issue as serious as political corruption being dealt with in a cartoon and being interrupted by jokes about beer and, yes, doughnuts\".[18]\\xa0The episode was praised for its political satire. Bill Gibron of DVD Verdict called the episode a \"biting political satire in the guise of a children\\'s oratory contest [which] signifies that this season of the series will be all over the map, both emotionally and logically\".[30]\\xa0Gibron added: \"Everything, from the\\xa0Reader\\'s Digest\\xa0rants to the formulaic speeches of the youths, has a resounding ring of truth. And once the story moves to Washington D.C, our nation\\'s capital is in for a royal reaming as well.\"[30]\\nBryce Wilson of Cinema Blend said the episode solidified the series\\' politically satirical voice as it \"bitch slapped the Bush administration\" that\\xa0would later badmouth\\xa0The Simpsons.[31]\\xa0DVD Movie Guide\\'s Colin Jacobson, however, gave the episode a more negative review, stating that it \"has its moments but never seems like one of the series\\' better programs. Part of that stems from its somewhat icky ending. The show exhibits a tone that feels more appropriate to a less biting and cynical series. It starts well with Homer\\'s obsession with\\xa0Reading Digest. After that, the show seems more erratic, and it remains pretty average overall.\"[32]\\nResponse from the timber industry[edit]\\nAccording to\\xa0The Plain Dealer\\'s Rodney Ferguson, the\\xa0timber industry\\xa0was insulted by the scene in which a timber industry lobbyist offers a bribe to the corrupt congressman so that he can demolish Springfield Forest. The Oregon Lands Coalition, a pro-timber group in\\xa0Salem, Oregon, \"bombarded\" the producers of the show with phone calls and mail protesting the episode.[33]\\xa0The coalition said it portrayed loggers unfairly and is \"allowing itself to be used by environmental extremists\".[2]\\xa0In an open letter to\\xa0The Simpsons\\xa0executive producer\\xa0James L. Brooks, the coalition wrote: \"Rather than approach this issue with genuine concern for Mother Earth, you took an easy shot at hard-working people whose only crime is [having been] born in a timber town.\"[2]\\xa0Karen Clark, a payroll clerk for a timber company in\\xa0Stayton, Oregon, said: \"The Simpsons\\xa0portrayed us as greedy, bribery-type people. It didn\\'t portray us as the everyday people—mothers, fathers, good members of society—that we are.\"[33]\\xa0Luke Popovich, vice president of the American Forest Council, wrote a letter to the show\\'s producer to protest \"the fuzzy-headed characterizations that pass for political correctness, the thinking in Hollywood where people are not very serious about these issues, but interested in pushing the right hot buttons, scoring the right points with audiences\".[33]\\n\\n\\nMatt Groening, creator of\\xa0The Simpsons, responded to the criticism of the episode.\\nThe Simpsons\\xa0creator Matt Groening responded to the criticism in an interview with\\xa0TV Guide, in which he said he did \"research on the ecological damage caused by clear-cutting and over-logging [and] it\\'s really appalling\".[33]\\xa0Jackie Lang, a timber industry activist in Salem who helped lead the protest against the Fox network and Groening, said she was appalled by Groening\\'s response, and \"He will be sorry he ever made it.\"[33]\\xa0Jake Hogan, supervising producer of the show, defended Groening: \"[The episodes] are just little stories, little comedies—stories that make people laugh.\"[33]\\xa0On October 15, 1991, Groening issued another statement to the public, in which he said: \"So now a few lumber companies have joined the nuclear power industry, right-wing preachers and high-ranking Republicans in attacking\\xa0The Simpsons. We must be doing something right. I must point out\\xa0The Simpsons\\xa0is a cartoon show—not\\xa060 Minutes. Later in the show, the same lobbyist proposed drilling for oil in\\xa0Teddy Roosevelt\\'s head at Mount Rushmore. Please don\\'t tell the oil companies about this.\"[34]\\nDavid Reinhard of\\xa0The Oregonian\\xa0commented on the criticism: \"Hollywood sharpsters can always make a group from the great American hinterland look ridiculous when it zeroes in on one show, particularly if that show is a cartoon. And the Oregon Lands Coalition\\'s protest was a bit of an overreaction. But the environmental sloganeering of\\xa0The Simpsons\\xa0as well as Groening\\'s cartoon commentary are symptomatic of a Hollywood and a popular culture that are hostile to the concerns and values of most Americans.\"[34]\\xa0After the episode aired, media researchers Robert Lichter and Linda S. Lichter found in a study of prime-time television that when shows dealt with business themes, 89 percent portrayed businessmen as swindlers or liars.[34]\\nThe same day Groening released his second statement,\\xa0The Simpsons\\xa0publicist Antonia Coffman was invited by Wayne Giesy, sales manager of Hull-Oakes Lumber Co. in\\xa0Bellfountain, Oregon, to visit Oregon and see \"responsible timber management\".[2]\\xa0Giesy said they wanted to show the producers \"how we log, how we manufacture, what goods we produce for everyone and how we replant for future generations. What most timber companies are interested in is a balanced program.\"[2]\\n'"
            ],
            "application/vnd.google.colaboratory.intrinsic+json": {
              "type": "string"
            }
          },
          "metadata": {},
          "execution_count": 309
        }
      ]
    },
    {
      "cell_type": "code",
      "source": [
        "def testTokenzination():\n",
        "    index = InvertedIndex() # initilaise the index\n",
        "    corpus = index.read_data('/content/drive/MyDrive/Colab Notebooks/Simpsons2022') # specify the directory path in which files are located\n",
        "    text = (corpus[0]).string\n",
        "    start_time = time.perf_counter()\n",
        "    tokenized = index.process_document(text)\n",
        "    print(\"Time taken\", time.perf_counter()-start_time)\n",
        "    counter = Counter(tokenized).most_common(10)\n",
        "    x = [x for x, _ in counter]\n",
        "    print(x)\n",
        "    y = [y for _, y in counter]\n",
        "    plt.title(\"Most frequent terms\")\n",
        "    plt.bar(x,y)\n",
        "testTokenzination()"
      ],
      "metadata": {
        "colab": {
          "base_uri": "https://localhost:8080/",
          "height": 350
        },
        "id": "ZJGAK55tDxZB",
        "outputId": "669f3010-9489-4291-a72d-257d77ac9b80"
      },
      "execution_count": 310,
      "outputs": [
        {
          "output_type": "stream",
          "name": "stdout",
          "text": [
            "First 10 entries of csv_terms: <__main__.MultiWordTermSet object at 0x7f99eaeb9110>\n",
            "118\n",
            "Time taken 0.06829721100075403\n",
            "['episod', \"'s\", 'lisa', 'simpson', 'washington', 'show', 'mr.', 'goe', 'said', 'famili']\n"
          ]
        },
        {
          "output_type": "display_data",
          "data": {
            "text/plain": [
              "<Figure size 432x288 with 1 Axes>"
            ],
            "image/png": "[encoded data removed]"
          },
          "metadata": {
            "needs_background": "light"
          }
        }
      ]
    },
    {
      "cell_type": "code",
      "execution_count": 311,
      "metadata": {
        "id": "3n4tuVF-zqE9",
        "colab": {
          "base_uri": "https://localhost:8080/"
        },
        "outputId": "de46cd12-f3fc-40ef-d053-d8d1b8dbadbb"
      },
      "outputs": [
        {
          "output_type": "stream",
          "name": "stdout",
          "text": [
            "First 10 entries of csv_terms: <__main__.MultiWordTermSet object at 0x7f99ea589390>\n",
            "118\n"
          ]
        },
        {
          "output_type": "stream",
          "name": "stderr",
          "text": [
            "100%|██████████| 136799/136799 [00:00<00:00, 260812.64it/s]"
          ]
        },
        {
          "output_type": "stream",
          "name": "stdout",
          "text": [
            "It took: 8.012 seconds to index the whole corpus.\n",
            "It has 11422 entries in total.\n"
          ]
        },
        {
          "output_type": "stream",
          "name": "stderr",
          "text": [
            "\n"
          ]
        }
      ],
      "source": [
        "def main():\n",
        "    \"main call function\"\n",
        "    index = InvertedIndex() # initilaise the index\n",
        "    corpus = index.read_data('/content/drive/MyDrive/Colab Notebooks/Simpsons2022') # specify the directory path in which files are located\n",
        "    index.index_corpus(corpus) # index documents/corpus\n",
        "    return index\n",
        "index = main()"
      ]
    },
    {
      "cell_type": "markdown",
      "source": [
        "## Test `dump` method using `.txt` provided on BlackBoard"
      ],
      "metadata": {
        "id": "_fvVChQ0l0NZ"
      }
    },
    {
      "cell_type": "code",
      "source": [
        "index.dump(\"/content/drive/MyDrive/Colab Notebooks/26957722.txt\")"
      ],
      "metadata": {
        "id": "G94h70akKT-Q",
        "colab": {
          "base_uri": "https://localhost:8080/"
        },
        "outputId": "0625995c-3d3b-44d3-db5c-140a04fbdf58"
      },
      "execution_count": 312,
      "outputs": [
        {
          "output_type": "stream",
          "name": "stdout",
          "text": [
            "After initial processing: Bart -> bart; bart 1259 total occurances: ['17 in 3.1.txt: [142, 317, 348, 398, 421, 426, 440, 454, 604, 614, 885, 888, 1117, 1139, 1248, 1798, 1832]', '4 in 3.10.txt: [974, 1149, 1282, 1366]', '4 in 3.11.txt: [446, 641, 740, 768]', '13 in 3.12.txt: [100, 141, 148, 214, 245, 252, 299, 304, 516, 519, 538, 594, 694]', '30 in 3.13.txt: [1, 7, 71, 91, 115, 126, 159, 214, 218, 228, 255, 303, 316, 322, 334, 340, 364, 377, 393, 640, 720, 743, 805, 841, 917, 921, 957, 974, 1143, 1154]', '3 in 3.14.txt: [75, 393, 413]', '10 in 3.15.txt: [69, 115, 144, 306, 331, 422, 558, 583, 596, 741]', '29 in 3.16.txt: [0, 5, 66, 87, 100, 135, 167, 235, 248, 260, 291, 312, 328, 341, 352, 361, 409, 491, 503, 511, 619, 640, 703, 725, 815, 916, 973, 993, 1055]', '2 in 3.17.txt: [91, 1038]', '25 in 3.18.txt: [33, 48, 119, 152, 238, 259, 268, 300, 304, 317, 392, 401, 443, 483, 516, 631, 658, 689, 709, 848, 880, 955, 981, 992, 1008]', '9 in 3.19.txt: [148, 257, 281, 368, 386, 397, 805, 822, 1318]', '3 in 3.2.txt: [311, 571, 829]', '3 in 3.20.txt: [321, 1010, 1753]', '17 in 3.21.txt: [139, 146, 152, 156, 227, 269, 272, 327, 362, 390, 407, 418, 511, 604, 685, 833, 860]', '7 in 3.22.txt: [82, 113, 247, 264, 279, 360, 370]', '26 in 3.23.txt: [0, 9, 16, 102, 127, 146, 155, 205, 259, 266, 291, 300, 313, 325, 350, 355, 358, 370, 508, 526, 547, 548, 557, 565, 614, 742]', '3 in 3.24.txt: [68, 300, 380]', '11 in 3.3.txt: [71, 136, 328, 351, 381, 389, 624, 848, 852, 882, 939]', '34 in 3.4.txt: [0, 6, 50, 93, 114, 128, 136, 225, 252, 271, 285, 310, 321, 327, 342, 354, 360, 405, 418, 439, 630, 633, 641, 659, 677, 706, 719, 737, 757, 796, 841, 906, 929, 984]', '18 in 3.5.txt: [46, 75, 138, 386, 399, 409, 425, 430, 436, 485, 527, 849, 874, 889, 905, 917, 919, 926]', '14 in 3.6.txt: [57, 131, 260, 271, 287, 382, 418, 438, 460, 486, 653, 805, 927, 964]', '21 in 3.7.txt: [106, 156, 323, 338, 356, 403, 428, 433, 449, 456, 465, 475, 872, 891, 1054, 1061, 1069, 1103, 1104, 1261, 1287]', '1 in 3.8.txt: [355]', '21 in 3.9.txt: [104, 109, 118, 137, 228, 236, 252, 276, 284, 292, 301, 313, 331, 346, 394, 402, 473, 493, 506, 676, 736]', '13 in 4.1.txt: [138, 152, 165, 172, 181, 190, 258, 290, 303, 308, 318, 424, 672]', '22 in 4.10.txt: [18, 20, 259, 349, 363, 369, 379, 385, 388, 508, 520, 562, 570, 581, 1144, 1158, 1172, 1182, 1213, 1224, 1241, 1318]', '3 in 4.11.txt: [369, 522, 579]', '1 in 4.12.txt: [405]', '9 in 4.13.txt: [124, 162, 251, 287, 297, 312, 342, 547, 580]', '16 in 4.14.txt: [109, 202, 213, 224, 274, 388, 423, 594, 602, 616, 627, 643, 665, 678, 777, 779]', '6 in 4.15.txt: [371, 729, 810, 924, 986, 1037]', '10 in 4.16.txt: [118, 175, 200, 210, 241, 361, 437, 457, 557, 574]', '18 in 4.18.txt: [104, 107, 217, 222, 289, 303, 326, 486, 549, 647, 708, 710, 716, 722, 727, 739, 763, 846]', '11 in 4.19.txt: [97, 159, 207, 216, 226, 281, 283, 444, 597, 625, 780]', '3 in 4.2.txt: [259, 1087, 1661]', '8 in 4.20.txt: [111, 198, 210, 240, 243, 288, 359, 388]', '3 in 4.21.txt: [369, 558, 982]', '7 in 4.22.txt: [146, 257, 381, 389, 408, 443, 1474]', '1 in 4.4.txt: [54]', '11 in 4.5.txt: [112, 122, 212, 236, 257, 472, 493, 505, 562, 714, 855]', '19 in 4.6.txt: [92, 109, 156, 168, 182, 199, 202, 219, 227, 251, 259, 262, 269, 292, 299, 307, 316, 335, 717]', '18 in 4.7.txt: [139, 269, 279, 285, 303, 357, 367, 371, 380, 489, 498, 577, 680, 691, 724, 733, 773, 786]', '7 in 4.8.txt: [128, 197, 218, 280, 287, 303, 348]', '1 in 4.9.txt: [839]', '4 in 5.1.txt: [173, 295, 1096, 1417]', '2 in 5.10.txt: [146, 301]', '5 in 5.11.txt: [73, 244, 540, 719, 871]', '37 in 5.12.txt: [0, 6, 11, 20, 94, 116, 135, 202, 241, 251, 260, 269, 275, 289, 309, 314, 324, 333, 361, 373, 387, 427, 445, 525, 561, 614, 699, 715, 724, 742, 755, 768, 831, 843, 860, 878, 907]', '2 in 5.13.txt: [71, 536]', '1 in 5.14.txt: [916]', '4 in 5.15.txt: [699, 796, 814, 844]', '3 in 5.16.txt: [69, 558, 970]', '22 in 5.17.txt: [0, 6, 76, 98, 120, 223, 240, 249, 264, 283, 303, 314, 351, 406, 424, 460, 578, 587, 653, 723, 975, 1021]', '22 in 5.18.txt: [51, 73, 120, 128, 139, 241, 250, 278, 282, 289, 307, 312, 325, 332, 351, 374, 383, 401, 439, 447, 464, 702]', '19 in 5.19.txt: [134, 237, 246, 300, 327, 383, 392, 405, 409, 457, 475, 486, 497, 534, 591, 688, 755, 873, 899]', '3 in 5.2.txt: [360, 484, 792]', '26 in 5.20.txt: [122, 129, 237, 250, 284, 298, 302, 337, 369, 379, 392, 456, 458, 477, 503, 513, 559, 604, 608, 619, 656, 681, 742, 909, 958, 967]', '8 in 5.21.txt: [277, 297, 314, 340, 743, 768, 876, 918]', '6 in 5.22.txt: [76, 311, 318, 326, 426, 451]', '4 in 5.3.txt: [445, 500, 1023, 1553]', '1 in 5.4.txt: [359]', '31 in 5.5.txt: [52, 157, 243, 268, 473, 493, 519, 534, 542, 570, 580, 599, 602, 608, 672, 699, 721, 735, 745, 752, 879, 1060, 1113, 1158, 1213, 1227, 1375, 1383, 1496, 1528, 1637]', '2 in 5.6.txt: [70, 247]', '19 in 5.7.txt: [0, 7, 85, 123, 130, 140, 156, 240, 285, 314, 344, 389, 393, 405, 416, 422, 472, 500, 950]', '16 in 5.8.txt: [77, 112, 124, 215, 241, 253, 284, 300, 352, 368, 500, 571, 602, 799, 924, 945]', '10 in 5.9.txt: [52, 142, 333, 343, 359, 371, 401, 410, 712, 1361]', '25 in 6.1.txt: [0, 5, 77, 98, 158, 188, 197, 223, 236, 245, 273, 301, 313, 380, 407, 439, 443, 463, 496, 501, 664, 763, 790, 839, 965]', '6 in 6.10.txt: [50, 324, 364, 367, 507, 517]', '1 in 6.12.txt: [323]', '2 in 6.13.txt: [67, 364]', '9 in 6.14.txt: [0, 6, 71, 93, 120, 160, 177, 666, 678]', '2 in 6.15.txt: [76, 80]', '33 in 6.16.txt: [0, 6, 81, 103, 110, 130, 167, 185, 208, 220, 230, 249, 266, 269, 290, 298, 311, 319, 330, 350, 357, 367, 393, 397, 422, 547, 642, 673, 719, 789, 855, 882, 1137]', '12 in 6.17.txt: [70, 115, 149, 385, 401, 414, 425, 434, 469, 516, 577, 837]', '6 in 6.18.txt: [656, 658, 667, 680, 688, 824]', '5 in 6.19.txt: [217, 471, 510, 521, 548]', '5 in 6.2.txt: [71, 307, 488, 513, 860]', '6 in 6.20.txt: [300, 323, 346, 366, 377, 621]', '11 in 6.21.txt: [108, 234, 275, 350, 364, 397, 661, 693, 771, 791, 796]', '18 in 6.22.txt: [117, 130, 292, 306, 317, 330, 347, 369, 424, 431, 439, 475, 492, 505, 811, 975, 984, 1208]', '2 in 6.23.txt: [339, 739]', '8 in 6.24.txt: [180, 230, 242, 279, 321, 383, 456, 474]', '4 in 6.25.txt: [445, 500, 1023, 1553]', '4 in 6.3.txt: [479, 486, 565, 630]', '8 in 6.4.txt: [137, 153, 184, 191, 211, 237, 572, 693]', '8 in 6.5.txt: [127, 243, 266, 307, 323, 354, 391, 419]', '11 in 6.6.txt: [83, 281, 320, 398, 495, 619, 636, 645, 666, 671, 711]', '43 in 6.7.txt: [0, 6, 87, 113, 120, 141, 161, 221, 233, 245, 255, 261, 274, 283, 305, 311, 322, 330, 367, 372, 386, 400, 416, 495, 512, 538, 617, 644, 720, 734, 759, 763, 784, 833, 846, 867, 884, 913, 942, 997, 1008, 1012, 1037]', '13 in 6.8.txt: [60, 99, 192, 202, 245, 259, 266, 276, 396, 492, 528, 633, 753]', '2 in 6.9.txt: [150, 481]', '4 in 7.1.txt: [445, 500, 1023, 1553]', '3 in 7.10.txt: [908, 912, 939]', '24 in 7.11.txt: [112, 121, 183, 204, 217, 238, 249, 267, 279, 291, 301, 310, 326, 338, 349, 362, 375, 566, 585, 673, 687, 701, 760, 819]', '5 in 7.12.txt: [119, 306, 328, 686, 692]', '16 in 7.13.txt: [36, 126, 220, 221, 240, 252, 270, 285, 316, 333, 500, 513, 910, 938, 957, 1102]', '1 in 7.14.txt: [69]', '20 in 7.15.txt: [0, 8, 86, 107, 125, 200, 208, 221, 234, 242, 291, 296, 316, 349, 639, 667, 700, 724, 775, 788]', '1 in 7.16.txt: [65]', '25 in 7.18.txt: [22, 166, 175, 216, 303, 310, 325, 349, 364, 380, 400, 413, 424, 456, 485, 534, 553, 620, 707, 729, 740, 857, 1208, 1361, 1394]', '1 in 7.19.txt: [71]', '12 in 7.2.txt: [115, 117, 225, 238, 310, 321, 339, 351, 356, 385, 820, 828]', '24 in 7.20.txt: [0, 21, 85, 106, 127, 252, 265, 288, 340, 358, 381, 392, 396, 415, 425, 438, 484, 531, 671, 674, 765, 843, 857, 878]', '5 in 7.21.txt: [119, 301, 309, 333, 535]', '14 in 7.22.txt: [174, 177, 260, 312, 366, 376, 408, 419, 435, 458, 488, 497, 507, 852]', '1 in 7.23.txt: [70]', '2 in 7.24.txt: [209, 282]', '12 in 7.25.txt: [115, 117, 225, 238, 310, 321, 339, 351, 356, 385, 820, 828]', '10 in 7.3.txt: [49, 83, 206, 245, 258, 306, 497, 556, 639, 678]', '47 in 7.4.txt: [0, 6, 11, 80, 102, 126, 218, 264, 272, 273, 292, 298, 304, 334, 343, 358, 367, 378, 383, 394, 450, 644, 701, 732, 783, 806, 853, 884, 895, 913, 916, 928, 967, 996, 1007, 1019, 1032, 1038, 1122, 1161, 1185, 1252, 1314, 1323, 1330, 1341, 1351]', '3 in 7.5.txt: [68, 271, 347]', '16 in 7.6.txt: [492, 530, 561, 570, 578, 587, 604, 664, 725, 733, 739, 1083, 1088, 1094, 1108, 1346]', '3 in 7.7.txt: [250, 687, 990]', '1 in 7.8.txt: [265]', '6 in 7.9.txt: [129, 322, 395, 406, 421, 436]']\n",
            "After initial processing: first -> first; first 346 total occurances: ['7 in 3.1.txt: [106, 115, 943, 966, 1527, 1771, 1928]', '7 in 3.10.txt: [99, 156, 239, 616, 749, 1273, 1472]', '2 in 3.11.txt: [122, 291]', '4 in 3.12.txt: [207, 222, 822, 829]', '2 in 3.13.txt: [227, 442]', '2 in 3.15.txt: [653, 732]', '3 in 3.16.txt: [77, 137, 518]', '5 in 3.17.txt: [220, 541, 632, 1094, 1286]', '3 in 3.18.txt: [356, 386, 623]', '3 in 3.19.txt: [53, 961, 996]', '5 in 3.2.txt: [143, 456, 509, 737, 1324]', '6 in 3.20.txt: [566, 810, 849, 936, 1667, 1727]', '2 in 3.21.txt: [559, 569]', '6 in 3.22.txt: [103, 159, 175, 450, 463, 489]', '2 in 3.3.txt: [439, 484]', '6 in 3.4.txt: [149, 253, 479, 608, 934, 967]', '9 in 3.5.txt: [174, 465, 494, 519, 542, 558, 566, 620, 703]', '2 in 3.6.txt: [153, 605]', '7 in 3.7.txt: [85, 117, 225, 352, 616, 1254, 1310]', '6 in 3.8.txt: [52, 176, 245, 553, 650, 772]', '1 in 3.9.txt: [350]', '5 in 4.1.txt: [76, 390, 496, 504, 684]', '22 in 4.10.txt: [2, 10, 16, 87, 98, 116, 124, 132, 193, 250, 377, 419, 423, 442, 586, 790, 960, 1049, 1064, 1108, 1217, 1279]', '1 in 4.11.txt: [70]', '6 in 4.12.txt: [205, 500, 516, 756, 898, 1222]', '3 in 4.14.txt: [94, 636, 885]', '2 in 4.15.txt: [456, 474]', '4 in 4.16.txt: [123, 381, 427, 455]', '2 in 4.17.txt: [661, 1016]', '5 in 4.18.txt: [143, 148, 414, 532, 536]', '2 in 4.19.txt: [256, 593]', '2 in 4.2.txt: [98, 556]', '3 in 4.20.txt: [155, 475, 577]', '3 in 4.21.txt: [391, 402, 514]', '3 in 4.22.txt: [116, 774, 780]', '5 in 4.3.txt: [490, 497, 505, 526, 865]', '3 in 4.4.txt: [51, 103, 340]', '3 in 4.6.txt: [369, 421, 471]', '2 in 4.8.txt: [200, 479]', '2 in 4.9.txt: [84, 1056]', '5 in 5.1.txt: [116, 361, 419, 565, 1031]', '3 in 5.10.txt: [499, 646, 661]', '6 in 5.12.txt: [149, 334, 477, 617, 678, 916]', '5 in 5.13.txt: [345, 451, 525, 547, 1001]', '4 in 5.15.txt: [120, 299, 579, 584]', '1 in 5.17.txt: [156]', '2 in 5.18.txt: [417, 481]', '4 in 5.19.txt: [602, 622, 684, 976]', '2 in 5.2.txt: [804, 876]', '1 in 5.21.txt: [640]', '2 in 5.22.txt: [239, 244]', '4 in 5.3.txt: [1221, 1631, 1970, 2397]', '4 in 5.4.txt: [82, 125, 533, 584]', '6 in 5.5.txt: [364, 774, 945, 953, 1097, 1283]', '1 in 5.7.txt: [164]', '1 in 5.8.txt: [888]', '3 in 5.9.txt: [342, 345, 996]', '3 in 6.1.txt: [79, 282, 813]', '1 in 6.10.txt: [98]', '1 in 6.11.txt: [110]', '1 in 6.12.txt: [513]', '3 in 6.13.txt: [120, 391, 438]', '2 in 6.14.txt: [385, 460]', '2 in 6.15.txt: [463, 595]', '1 in 6.16.txt: [970]', '1 in 6.17.txt: [453]', '4 in 6.18.txt: [106, 223, 563, 1051]', '2 in 6.19.txt: [516, 822]', '3 in 6.2.txt: [149, 498, 579]', '2 in 6.20.txt: [515, 535]', '1 in 6.21.txt: [43]', '6 in 6.22.txt: [183, 217, 602, 684, 760, 808]', '1 in 6.23.txt: [276]', '2 in 6.24.txt: [33, 632]', '4 in 6.25.txt: [1221, 1631, 1970, 2397]', '2 in 6.3.txt: [430, 817]', '1 in 6.4.txt: [90]', '3 in 6.5.txt: [187, 560, 686]', '9 in 6.6.txt: [189, 512, 613, 824, 893, 903, 1000, 1104, 1428]', '2 in 6.7.txt: [489, 619]', '3 in 6.8.txt: [82, 346, 387]', '1 in 6.9.txt: [609]', '4 in 7.1.txt: [1221, 1631, 1970, 2397]', '2 in 7.10.txt: [78, 521]', '3 in 7.11.txt: [465, 471, 487]', '1 in 7.12.txt: [473]', '2 in 7.13.txt: [756, 773]', '4 in 7.14.txt: [132, 344, 361, 426]', '1 in 7.15.txt: [540]', '3 in 7.16.txt: [146, 716, 1079]', '1 in 7.17.txt: [463]', '6 in 7.18.txt: [768, 1028, 1079, 1087, 1102, 1321]', '2 in 7.19.txt: [469, 851]', '3 in 7.20.txt: [374, 570, 730]', '3 in 7.21.txt: [714, 724, 898]', '1 in 7.23.txt: [645]', '3 in 7.3.txt: [145, 325, 626]', '3 in 7.4.txt: [92, 531, 624]', '4 in 7.5.txt: [128, 486, 499, 577]', '9 in 7.6.txt: [117, 209, 248, 519, 791, 836, 948, 1169, 1216]', '2 in 7.7.txt: [433, 472]', '3 in 7.8.txt: [114, 140, 148]', '3 in 7.9.txt: [164, 503, 548]']\n",
            "After initial processing: image -> imag; imag 21 total occurances: ['4 in 3.16.txt: [189, 662, 683, 1137]', '1 in 3.18.txt: [795]', '1 in 3.24.txt: [869]', '2 in 3.7.txt: [918, 1201]', '1 in 3.9.txt: [801]', '1 in 4.15.txt: [15]', '1 in 5.12.txt: [18]', '1 in 5.13.txt: [1239]', '1 in 5.4.txt: [10]', '2 in 7.18.txt: [12, 281]', '1 in 7.2.txt: [249]', '1 in 7.21.txt: [1576]', '1 in 7.25.txt: [249]', '1 in 7.5.txt: [1451]', '2 in 7.6.txt: [239, 1055]']\n",
            "After initial processing: montage -> montag; montag 20 total occurances: ['1 in 3.16.txt: [543]', '1 in 3.21.txt: [773]', '3 in 4.18.txt: [357, 403, 743]', '1 in 4.4.txt: [559]', '3 in 6.3.txt: [511, 518, 621]', '9 in 7.10.txt: [65, 305, 473, 735, 849, 942, 949, 957, 982]', '2 in 7.3.txt: [431, 438]']\n",
            "After initial processing: well -> well; well 146 total occurances: ['3 in 3.1.txt: [1289, 1483, 1752]', '2 in 3.10.txt: [258, 1450]', '13 in 3.13.txt: [104, 260, 273, 279, 300, 337, 387, 484, 663, 702, 722, 1060, 1090]', '1 in 3.14.txt: [974]', '2 in 3.15.txt: [168, 457]', '3 in 3.16.txt: [305, 921, 968]', '2 in 3.17.txt: [829, 1495]', '2 in 3.18.txt: [937, 1024]', '3 in 3.2.txt: [1399, 1454, 1737]', '2 in 3.21.txt: [735, 974]', '1 in 3.22.txt: [618]', '1 in 3.23.txt: [855]', '1 in 3.7.txt: [1110]', '1 in 4.1.txt: [683]', '1 in 4.10.txt: [715]', '3 in 4.12.txt: [533, 693, 1198]', '3 in 4.13.txt: [226, 372, 690]', '2 in 4.15.txt: [190, 1096]', '1 in 4.17.txt: [572]', '1 in 4.18.txt: [245]', '2 in 4.2.txt: [172, 216]', '3 in 4.21.txt: [830, 919, 926]', '2 in 4.3.txt: [509, 516]', '1 in 4.4.txt: [172]', '2 in 4.9.txt: [140, 302]', '1 in 5.1.txt: [488]', '1 in 5.10.txt: [528]', '2 in 5.13.txt: [859, 1007]', '1 in 5.14.txt: [644]', '1 in 5.15.txt: [943]', '1 in 5.16.txt: [808]', '1 in 5.17.txt: [414]', '3 in 5.19.txt: [250, 283, 374]', '2 in 5.2.txt: [176, 323]', '2 in 5.20.txt: [581, 937]', '1 in 5.21.txt: [882]', '1 in 5.22.txt: [899]', '3 in 5.3.txt: [468, 674, 1703]', '2 in 5.4.txt: [635, 644]', '2 in 5.5.txt: [201, 1393]', '2 in 5.8.txt: [170, 495]', '2 in 5.9.txt: [681, 852]', '1 in 6.1.txt: [456]', '1 in 6.10.txt: [166]', '1 in 6.11.txt: [807]', '1 in 6.13.txt: [827]', '2 in 6.15.txt: [718, 731]', '2 in 6.16.txt: [510, 989]', '4 in 6.18.txt: [259, 568, 721, 1268]', '1 in 6.19.txt: [769]', '1 in 6.21.txt: [619]', '2 in 6.22.txt: [197, 645]', '1 in 6.23.txt: [555]', '3 in 6.25.txt: [468, 674, 1703]', '2 in 6.4.txt: [182, 435]', '5 in 6.5.txt: [179, 606, 754, 966, 1022]', '3 in 6.6.txt: [763, 1421, 1544]', '1 in 6.9.txt: [410]', '3 in 7.1.txt: [468, 674, 1703]', '2 in 7.10.txt: [709, 1427]', '2 in 7.11.txt: [420, 690]', '2 in 7.13.txt: [1139, 1154]', '2 in 7.14.txt: [392, 414]', '4 in 7.19.txt: [649, 727, 1040, 1057]', '1 in 7.20.txt: [883]', '2 in 7.21.txt: [684, 1427]', '1 in 7.24.txt: [663]', '2 in 7.4.txt: [168, 1093]', '1 in 7.5.txt: [117]', '2 in 7.6.txt: [605, 641]', '3 in 7.7.txt: [956, 973, 1057]', '1 in 7.8.txt: [414]', '1 in 7.9.txt: [901]']\n",
            "After initial processing: top -> top; top 100 total occurances: ['1 in 3.1.txt: [1646]', '2 in 3.10.txt: [1314, 1385]', '4 in 3.16.txt: [1052, 1076, 1120, 1128]', '5 in 3.17.txt: [1239, 1262, 1290, 1377, 1410]', '1 in 3.23.txt: [994]', '1 in 3.4.txt: [67]', '1 in 3.5.txt: [946]', '2 in 3.6.txt: [889, 916]', '2 in 3.7.txt: [1317, 1356]', '2 in 3.8.txt: [432, 1105]', '1 in 4.1.txt: [757]', '3 in 4.12.txt: [790, 799, 914]', '4 in 4.15.txt: [210, 947, 956, 971]', '1 in 4.16.txt: [654]', '3 in 4.17.txt: [869, 887, 1009]', '2 in 4.2.txt: [1282, 1292]', '3 in 4.22.txt: [1106, 1231, 1253]', '1 in 4.3.txt: [873]', '1 in 4.6.txt: [405]', '1 in 4.8.txt: [554]', '1 in 4.9.txt: [903]', '2 in 5.1.txt: [1513, 1623]', '3 in 5.13.txt: [653, 1132, 1209]', '1 in 5.15.txt: [1065]', '1 in 5.18.txt: [506]', '1 in 5.22.txt: [998]', '1 in 5.3.txt: [2212]', '1 in 5.4.txt: [771]', '3 in 5.9.txt: [1236, 1256, 1431]', '1 in 6.1.txt: [44]', '1 in 6.14.txt: [670]', '1 in 6.15.txt: [63]', '1 in 6.16.txt: [860]', '4 in 6.19.txt: [716, 735, 754, 824]', '3 in 6.2.txt: [199, 627, 799]', '1 in 6.20.txt: [1011]', '1 in 6.21.txt: [972]', '1 in 6.23.txt: [525]', '1 in 6.24.txt: [296]', '1 in 6.25.txt: [2212]', '3 in 6.4.txt: [619, 660, 673]', '2 in 6.6.txt: [1303, 1553]', '1 in 6.9.txt: [587]', '1 in 7.1.txt: [2212]', '3 in 7.18.txt: [295, 1004, 1189]', '3 in 7.19.txt: [196, 696, 940]', '4 in 7.21.txt: [656, 1207, 1217, 1273]', '2 in 7.24.txt: [647, 685]', '3 in 7.4.txt: [208, 1282, 1334]', '1 in 7.6.txt: [1626]', '6 in 7.7.txt: [583, 593, 843, 850, 911, 1150]']\n",
            "After initial processing: arguably -> arguabl; arguabl 3 total occurances: ['1 in 3.16.txt: [1148]', '1 in 4.12.txt: [807]', '1 in 5.9.txt: [1443]']\n",
            "After initial processing: best -> best; best 307 total occurances: ['6 in 3.1.txt: [147, 471, 1465, 1598, 1677, 1742]', '9 in 3.10.txt: [262, 1081, 1134, 1253, 1262, 1392, 1424, 1436, 1458]', '2 in 3.11.txt: [1030, 1048]', '1 in 3.12.txt: [758]', '6 in 3.13.txt: [900, 947, 976, 1002, 1027, 1093]', '1 in 3.14.txt: [1104]', '1 in 3.15.txt: [760]', '3 in 3.16.txt: [905, 1146, 1149]', '6 in 3.17.txt: [219, 596, 1326, 1353, 1364, 1386]', '4 in 3.18.txt: [108, 200, 910, 1030]', '1 in 3.19.txt: [1248]', '4 in 3.2.txt: [646, 1215, 1277, 1303]', '3 in 3.20.txt: [890, 903, 1577]', '2 in 3.21.txt: [484, 743]', '4 in 3.22.txt: [226, 877, 885, 930]', '2 in 3.23.txt: [129, 961]', '3 in 3.24.txt: [1011, 1103, 1182]', '2 in 3.3.txt: [689, 909]', '2 in 3.4.txt: [833, 881]', '3 in 3.5.txt: [406, 752, 961]', '4 in 3.7.txt: [277, 1335, 1342, 1376]', '5 in 3.8.txt: [382, 829, 910, 995, 1034]', '2 in 3.9.txt: [489, 854]', '2 in 4.10.txt: [1007, 1084]', '1 in 4.11.txt: [422]', '11 in 4.12.txt: [185, 783, 828, 837, 872, 901, 1000, 1043, 1061, 1084, 1158]', '2 in 4.14.txt: [173, 829]', '1 in 4.15.txt: [865]', '5 in 4.17.txt: [159, 866, 958, 993, 1059]', '4 in 4.2.txt: [1237, 1249, 1318, 1650]', '2 in 4.20.txt: [690, 747]', '4 in 4.22.txt: [1146, 1175, 1385, 1455]', '3 in 4.3.txt: [216, 935, 951]', '1 in 4.4.txt: [655]', '1 in 4.5.txt: [949]', '1 in 4.6.txt: [751]', '1 in 4.7.txt: [610]', '6 in 4.9.txt: [145, 306, 954, 998, 1083, 1103]', '3 in 5.1.txt: [1064, 1495, 1635]', '1 in 5.10.txt: [931]', '3 in 5.12.txt: [829, 832, 885]', '6 in 5.13.txt: [948, 1031, 1051, 1066, 1079, 1119]', '4 in 5.14.txt: [724, 955, 960, 1022]', '2 in 5.15.txt: [202, 1156]', '1 in 5.16.txt: [932]', '4 in 5.17.txt: [37, 855, 865, 875]', '1 in 5.18.txt: [738]', '1 in 5.2.txt: [460]', '1 in 5.21.txt: [807]', '2 in 5.22.txt: [630, 712]', '3 in 5.3.txt: [2247, 2269, 2328]', '5 in 5.4.txt: [204, 792, 802, 843, 905]', '7 in 5.5.txt: [1477, 1517, 1552, 1569, 1573, 1641, 1643]', '2 in 5.7.txt: [201, 785]', '1 in 5.8.txt: [994]', '5 in 5.9.txt: [204, 1247, 1422, 1444, 1458]', '1 in 6.11.txt: [842]', '7 in 6.12.txt: [149, 403, 448, 537, 602, 659, 673]', '2 in 6.15.txt: [146, 836]', '1 in 6.16.txt: [1014]', '4 in 6.18.txt: [480, 857, 941, 972]', '6 in 6.19.txt: [685, 765, 788, 799, 814, 841]', '1 in 6.2.txt: [791]', '5 in 6.20.txt: [195, 698, 1068, 1078, 1085]', '1 in 6.21.txt: [755]', '1 in 6.22.txt: [447]', '1 in 6.23.txt: [1047]', '1 in 6.24.txt: [627]', '3 in 6.25.txt: [2247, 2269, 2328]', '1 in 6.4.txt: [284]', '3 in 6.5.txt: [155, 1109, 1122]', '12 in 6.6.txt: [1268, 1342, 1354, 1366, 1383, 1411, 1430, 1447, 1457, 1487, 1518, 1534]', '3 in 6.7.txt: [194, 961, 975]', '3 in 6.8.txt: [235, 262, 679]', '1 in 6.9.txt: [604]', '3 in 7.1.txt: [2247, 2269, 2328]', '2 in 7.11.txt: [756, 784]', '4 in 7.12.txt: [659, 819, 855, 880]', '5 in 7.13.txt: [150, 751, 1037, 1165, 1173]', '1 in 7.14.txt: [630]', '2 in 7.15.txt: [415, 695]', '2 in 7.16.txt: [1289, 1301]', '1 in 7.17.txt: [719]', '2 in 7.18.txt: [1235, 1262]', '5 in 7.19.txt: [966, 975, 994, 1029, 1064]', '4 in 7.2.txt: [839, 852, 898, 913]', '2 in 7.20.txt: [943, 972]', '6 in 7.21.txt: [1186, 1256, 1265, 1298, 1319, 1536]', '2 in 7.23.txt: [929, 1155]', '2 in 7.24.txt: [674, 714]', '4 in 7.25.txt: [839, 852, 898, 913]', '4 in 7.3.txt: [373, 377, 609, 634]', '3 in 7.4.txt: [201, 210, 1284]', '5 in 7.5.txt: [1192, 1202, 1213, 1548, 1594]', '3 in 7.6.txt: [1566, 1592, 1608]', '11 in 7.7.txt: [175, 862, 880, 888, 896, 939, 951, 1014, 1089, 1119, 1137]', '2 in 7.8.txt: [1003, 1016]', '2 in 7.9.txt: [888, 910]']\n",
            "After initial processing: number -> number; number 83 total occurances: ['2 in 3.1.txt: [889, 1934]', '1 in 3.11.txt: [1041]', '2 in 3.16.txt: [1058, 1139]', '1 in 3.17.txt: [1374]', '1 in 3.18.txt: [1018]', '1 in 3.19.txt: [513]', '3 in 3.21.txt: [463, 757, 763]', '1 in 3.5.txt: [953]', '1 in 3.7.txt: [1364]', '1 in 3.9.txt: [523]', '1 in 4.1.txt: [491]', '2 in 4.11.txt: [397, 398]', '2 in 4.12.txt: [843, 910]', '1 in 4.15.txt: [968]', '1 in 4.16.txt: [651]', '1 in 4.17.txt: [868]', '3 in 4.2.txt: [761, 1289, 1592]', '3 in 4.21.txt: [480, 486, 505]', '3 in 4.22.txt: [878, 1141, 1394]', '1 in 4.7.txt: [606]', '1 in 4.9.txt: [449]', '3 in 5.1.txt: [1153, 1304, 1311]', '1 in 5.10.txt: [907]', '1 in 5.11.txt: [766]', '6 in 5.13.txt: [733, 1020, 1068, 1074, 1089, 1129]', '1 in 5.14.txt: [518]', '1 in 5.2.txt: [765]', '1 in 5.21.txt: [871]', '1 in 5.22.txt: [994]', '1 in 5.3.txt: [1172]', '2 in 5.8.txt: [600, 608]', '6 in 6.12.txt: [39, 124, 332, 405, 422, 504]', '1 in 6.2.txt: [265]', '4 in 6.20.txt: [158, 633, 1018, 1083]', '1 in 6.22.txt: [1189]', '1 in 6.24.txt: [458]', '1 in 6.25.txt: [1172]', '2 in 6.4.txt: [656, 670]', '2 in 6.6.txt: [705, 1027]', '1 in 7.1.txt: [1172]', '3 in 7.10.txt: [439, 1046, 1361]', '1 in 7.13.txt: [761]', '1 in 7.14.txt: [505]', '1 in 7.19.txt: [495]', '1 in 7.21.txt: [1270]', '1 in 7.23.txt: [578]', '2 in 7.6.txt: [1173, 1259]', '1 in 7.7.txt: [1147]', '2 in 7.8.txt: [659, 692]']\n",
            "After initial processing: humor -> humor; humor 43 total occurances: ['3 in 3.1.txt: [768, 1471, 1560]', '1 in 3.10.txt: [1353]', '2 in 3.13.txt: [931, 1018]', '1 in 3.15.txt: [494]', '1 in 3.16.txt: [953]', '1 in 3.20.txt: [1552]', '1 in 3.24.txt: [1076]', '2 in 3.3.txt: [742, 845]', '1 in 3.5.txt: [1042]', '1 in 3.7.txt: [1391]', '1 in 4.11.txt: [427]', '1 in 4.15.txt: [807]', '2 in 4.19.txt: [264, 307]', '2 in 5.1.txt: [262, 1545]', '1 in 5.10.txt: [630]', '1 in 5.11.txt: [806]', '2 in 5.12.txt: [161, 437]', '1 in 5.13.txt: [681]', '1 in 5.14.txt: [984]', '1 in 5.7.txt: [646]', '1 in 6.10.txt: [724]', '2 in 6.14.txt: [325, 410]', '1 in 6.16.txt: [469]', '1 in 6.20.txt: [49]', '1 in 6.22.txt: [1361]', '3 in 6.6.txt: [770, 791, 1320]', '1 in 7.10.txt: [506]', '1 in 7.14.txt: [406]', '1 in 7.17.txt: [532]', '1 in 7.18.txt: [656]', '1 in 7.4.txt: [315]', '2 in 7.5.txt: [1336, 1350]']\n",
            "After initial processing: dollarydoos -> dollarydoo; dollarydoo 2 total occurances: ['2 in 6.16.txt: [1112, 1120]']\n",
            "After initial processing: Bart Simpson -> bart simpson; bart simpson 33 total occurances: ['1 in 3.12.txt: [100]', '2 in 3.13.txt: [7, 316]', '2 in 3.4.txt: [50, 633]', '1 in 4.1.txt: [672]', '1 in 4.2.txt: [1661]', '1 in 4.7.txt: [724]', '1 in 5.1.txt: [173]', '1 in 5.15.txt: [699]', '1 in 5.3.txt: [1023]', '11 in 5.5.txt: [52, 157, 243, 602, 1113, 1158, 1213, 1227, 1496, 1528, 1637]', '1 in 6.14.txt: [93]', '1 in 6.18.txt: [680]', '1 in 6.21.txt: [108]', '1 in 6.23.txt: [739]', '1 in 6.25.txt: [1023]', '1 in 6.5.txt: [243]', '1 in 6.7.txt: [538]', '1 in 7.1.txt: [1023]', '3 in 7.4.txt: [292, 378, 1038]']\n",
            "After initial processing: Gordie Howe -> gordi howe; No viable spelling fix was found\n",
            "After initial processing: recalled -> recal; recal 24 total occurances: ['1 in 3.1.txt: [726]', '1 in 3.11.txt: [847]', '1 in 3.14.txt: [562]', '1 in 3.16.txt: [579]', '1 in 3.17.txt: [1473]', '1 in 3.19.txt: [383]', '1 in 3.7.txt: [1000]', '1 in 5.1.txt: [885]', '1 in 5.16.txt: [867]', '1 in 5.19.txt: [968]', '2 in 5.8.txt: [558, 646]', '1 in 6.11.txt: [803]', '1 in 6.2.txt: [601]', '3 in 6.3.txt: [135, 590, 602]', '1 in 6.4.txt: [594]', '1 in 7.18.txt: [813]', '1 in 7.2.txt: [656]', '1 in 7.21.txt: [1408]', '1 in 7.22.txt: [727]', '1 in 7.25.txt: [656]', '1 in 7.4.txt: [596]']\n",
            "After initial processing: Bart the Lover -> bart lover; bart lover 9 total occurances: ['1 in 3.15.txt: [69]', '7 in 3.16.txt: [0, 5, 66, 491, 916, 993, 1055]', '1 in 3.17.txt: [91]']\n",
            "After initial processing: cents -> cent; cent 6 total occurances: ['1 in 3.11.txt: [297]', '1 in 3.16.txt: [467]', '1 in 4.15.txt: [706]', '1 in 5.1.txt: [1278]', '1 in 5.6.txt: [439]', '1 in 7.4.txt: [505]']\n",
            "Query 'won' a stop-word\n",
            "After initial processing: voice-overs -> voiceov; voiceov 14 total occurances: ['1 in 3.1.txt: [1505]', '1 in 3.12.txt: [901]', '1 in 3.14.txt: [910]', '2 in 3.16.txt: [857, 979]', '1 in 3.18.txt: [609]', '2 in 3.6.txt: [235, 851]', '1 in 3.8.txt: [842]', '1 in 4.3.txt: [648]', '2 in 4.9.txt: [156, 1116]', '1 in 5.13.txt: [667]', '1 in 6.6.txt: [1095]']\n",
            "After initial processing: Simpsonovi -> simpsonovi; simpsoni 1 total occurances: ['1 in 6.18.txt: [918]']\n"
          ]
        }
      ]
    },
    {
      "cell_type": "markdown",
      "source": [
        "## Testing spell-correct"
      ],
      "metadata": {
        "id": "oDqxbcp5ldUE"
      }
    },
    {
      "cell_type": "code",
      "source": [
        "index.dump(\"/content/drive/MyDrive/Colab Notebooks/typos.txt\")"
      ],
      "metadata": {
        "colab": {
          "base_uri": "https://localhost:8080/"
        },
        "id": "Tr-co1cqcvq3",
        "outputId": "8692287b-3107-4d83-8d5f-ca2f90905ae0"
      },
      "execution_count": 313,
      "outputs": [
        {
          "output_type": "stream",
          "name": "stdout",
          "text": [
            "After initial processing: brat -> brat; rat 2 total occurances: ['1 in 3.4.txt: [274]', '1 in 5.20.txt: [496]']\n",
            "After initial processing: sipmsons -> sipmson; simpson 1657 total occurances: ['31 in 3.1.txt: [9, 66, 98, 114, 261, 393, 500, 785, 944, 1034, 1049, 1082, 1090, 1107, 1128, 1131, 1233, 1239, 1314, 1442, 1458, 1500, 1532, 1551, 1640, 1648, 1671, 1687, 1721, 1818, 1847]', '19 in 3.10.txt: [9, 15, 82, 98, 263, 741, 1073, 1082, 1173, 1226, 1238, 1254, 1316, 1350, 1387, 1410, 1416, 1426, 1437]', '16 in 3.11.txt: [11, 91, 121, 240, 337, 600, 688, 713, 726, 912, 913, 919, 954, 981, 1025, 1067]', '9 in 3.12.txt: [7, 101, 116, 163, 210, 566, 939, 963, 1057]', '14 in 3.13.txt: [8, 65, 80, 317, 512, 865, 871, 893, 949, 978, 988, 994, 1004, 1043]', '6 in 3.14.txt: [8, 79, 94, 135, 918, 960]', '7 in 3.15.txt: [10, 71, 86, 530, 655, 701, 725]', '11 in 3.16.txt: [7, 61, 76, 886, 907, 919, 950, 1026, 1080, 1130, 1150]', '17 in 3.17.txt: [8, 96, 111, 1070, 1097, 1156, 1173, 1241, 1247, 1264, 1292, 1311, 1339, 1365, 1368, 1379, 1481]', '13 in 3.18.txt: [7, 72, 87, 341, 592, 740, 764, 797, 812, 900, 909, 935, 962]', '15 in 3.19.txt: [8, 77, 92, 227, 241, 273, 316, 404, 445, 449, 489, 764, 835, 1029, 1192]', '30 in 3.2.txt: [12, 73, 90, 298, 416, 447, 512, 528, 544, 649, 724, 867, 905, 941, 961, 1193, 1216, 1220, 1268, 1326, 1337, 1418, 1516, 1550, 1600, 1604, 1678, 1684, 1736, 1778]', '24 in 3.20.txt: [8, 98, 113, 164, 276, 317, 866, 893, 916, 925, 976, 981, 1051, 1145, 1514, 1524, 1551, 1579, 1639, 1776, 1825, 1830, 1892, 1907]', '14 in 3.21.txt: [13, 91, 111, 207, 313, 340, 358, 565, 682, 698, 820, 888, 907, 983]', '10 in 3.22.txt: [8, 87, 102, 151, 197, 511, 734, 768, 901, 947]', '6 in 3.23.txt: [14, 63, 97, 116, 796, 808]', '9 in 3.24.txt: [12, 76, 94, 372, 397, 773, 902, 972, 1106]', '11 in 3.3.txt: [8, 40, 73, 88, 216, 546, 550, 595, 691, 724, 761]', '9 in 3.4.txt: [8, 51, 88, 103, 581, 634, 645, 835, 861]', '8 in 3.5.txt: [8, 82, 97, 547, 828, 948, 965, 1045]', '11 in 3.6.txt: [12, 88, 105, 119, 258, 780, 860, 867, 891, 903, 942]', '7 in 3.7.txt: [10, 68, 84, 358, 729, 1035, 1244]', '16 in 3.8.txt: [10, 86, 102, 174, 388, 409, 479, 551, 610, 744, 830, 873, 885, 977, 1112, 1132]', '8 in 3.9.txt: [8, 74, 89, 419, 461, 868, 876, 1061]', '6 in 4.1.txt: [8, 69, 84, 673, 725, 744]', '23 in 4.10.txt: [12, 46, 55, 80, 97, 108, 151, 237, 291, 431, 638, 641, 921, 944, 976, 988, 1037, 1062, 1166, 1299, 1306, 1322, 1331]', '9 in 4.11.txt: [12, 49, 76, 93, 119, 226, 358, 473, 653]', '23 in 4.12.txt: [9, 65, 101, 117, 187, 792, 811, 816, 882, 893, 902, 905, 916, 928, 967, 1007, 1104, 1140, 1143, 1149, 1160, 1249, 1267]', '7 in 4.13.txt: [10, 55, 81, 97, 178, 677, 701]', '11 in 4.14.txt: [8, 78, 93, 405, 486, 755, 792, 831, 857, 862, 890]', '11 in 4.15.txt: [8, 78, 93, 212, 461, 465, 584, 870, 900, 949, 973]', '5 in 4.16.txt: [6, 79, 93, 619, 656]', '21 in 4.17.txt: [10, 55, 75, 78, 94, 108, 238, 357, 480, 488, 568, 579, 584, 917, 919, 954, 964, 1013, 1041, 1066, 1109]', '14 in 4.18.txt: [2, 11, 14, 69, 76, 87, 126, 142, 410, 413, 638, 669, 682, 892]', '21 in 4.19.txt: [1, 7, 43, 66, 72, 86, 111, 134, 457, 464, 707, 716, 732, 747, 753, 771, 792, 815, 842, 908, 958]', '22 in 4.2.txt: [10, 81, 97, 146, 166, 660, 684, 798, 830, 850, 866, 1153, 1160, 1183, 1294, 1310, 1402, 1405, 1579, 1611, 1617, 1662]', '5 in 4.20.txt: [8, 43, 69, 84, 779]', '16 in 4.21.txt: [8, 78, 94, 181, 190, 217, 274, 529, 550, 573, 578, 701, 744, 879, 942, 974]', '18 in 4.22.txt: [10, 98, 115, 738, 1056, 1095, 1110, 1147, 1157, 1169, 1217, 1221, 1256, 1308, 1365, 1445, 1449, 1481]', '19 in 4.3.txt: [8, 84, 99, 340, 528, 546, 558, 654, 666, 671, 775, 784, 842, 875, 916, 921, 927, 937, 953]', '5 in 4.4.txt: [10, 86, 102, 436, 642]', '10 in 4.5.txt: [10, 79, 95, 204, 523, 557, 628, 850, 919, 971]', '9 in 4.6.txt: [10, 64, 80, 546, 597, 651, 672, 707, 755]', '7 in 4.7.txt: [10, 90, 106, 127, 573, 661, 725]', '12 in 4.8.txt: [12, 28, 73, 98, 114, 180, 301, 316, 325, 539, 556, 572]', '16 in 4.9.txt: [8, 17, 86, 101, 624, 657, 756, 905, 972, 1033, 1089, 1095, 1105, 1141, 1166, 1169]', '16 in 5.1.txt: [12, 107, 124, 140, 168, 174, 368, 476, 610, 825, 1009, 1015, 1610, 1625, 1637, 1647]', '9 in 5.10.txt: [17, 92, 115, 558, 579, 595, 643, 671, 950]', '11 in 5.11.txt: [7, 44, 76, 91, 170, 232, 466, 531, 545, 550, 755]', '11 in 5.12.txt: [9, 89, 105, 179, 402, 440, 495, 536, 610, 702, 815]', '14 in 5.13.txt: [7, 79, 94, 317, 344, 457, 699, 705, 940, 989, 1054, 1121, 1134, 1235]', '10 in 5.14.txt: [11, 74, 91, 487, 727, 945, 986, 1014, 1024, 1059]', '20 in 5.15.txt: [9, 103, 119, 132, 176, 193, 232, 530, 700, 730, 786, 973, 988, 996, 1057, 1067, 1072, 1121, 1157, 1160]', '14 in 5.16.txt: [9, 72, 88, 137, 258, 266, 344, 383, 437, 566, 832, 851, 889, 893]', '11 in 5.17.txt: [9, 71, 87, 110, 311, 379, 503, 598, 619, 749, 917]', '11 in 5.18.txt: [7, 46, 83, 98, 370, 381, 400, 521, 612, 643, 660]', '11 in 5.19.txt: [15, 54, 94, 113, 165, 232, 672, 678, 713, 928, 1043]', '7 in 5.2.txt: [9, 67, 83, 126, 389, 732, 807]', '8 in 5.20.txt: [3, 17, 56, 86, 102, 586, 884, 1055]', '9 in 5.21.txt: [11, 90, 108, 120, 221, 416, 475, 848, 907]', '8 in 5.22.txt: [9, 78, 95, 688, 760, 856, 965, 1000]', '31 in 5.3.txt: [11, 87, 97, 134, 164, 178, 242, 499, 548, 723, 731, 741, 775, 873, 1020, 1024, 1155, 1213, 1222, 1282, 1481, 2100, 2175, 2214, 2236, 2248, 2256, 2259, 2271, 2285, 2361]', '17 in 5.4.txt: [1, 6, 67, 81, 111, 206, 616, 730, 773, 779, 844, 847, 851, 861, 891, 897, 907]', '31 in 5.5.txt: [9, 40, 53, 113, 129, 153, 158, 237, 244, 282, 380, 383, 421, 603, 793, 836, 949, 1019, 1077, 1091, 1114, 1159, 1192, 1214, 1228, 1428, 1464, 1497, 1524, 1529, 1638]', '7 in 5.6.txt: [7, 74, 89, 422, 549, 647, 679]', '17 in 5.7.txt: [11, 49, 80, 97, 185, 202, 282, 381, 492, 514, 551, 566, 691, 786, 796, 824, 875]', '8 in 5.8.txt: [9, 85, 101, 506, 737, 831, 908, 916]', '13 in 5.9.txt: [9, 57, 87, 103, 207, 535, 558, 1238, 1248, 1272, 1281, 1325, 1425]', '10 in 6.1.txt: [7, 39, 72, 87, 207, 373, 557, 609, 900, 946]', '13 in 6.10.txt: [11, 80, 97, 149, 243, 274, 329, 626, 649, 671, 770, 786, 795]', '13 in 6.11.txt: [2, 8, 69, 94, 109, 178, 269, 550, 622, 746, 891, 914, 923]', '7 in 6.12.txt: [13, 80, 95, 165, 319, 428, 550]', '12 in 6.13.txt: [9, 70, 86, 122, 401, 412, 526, 561, 668, 732, 791, 824]', '9 in 6.14.txt: [9, 41, 66, 82, 94, 403, 542, 621, 674]', '14 in 6.15.txt: [7, 16, 58, 83, 98, 153, 158, 400, 413, 419, 751, 822, 828, 838]', '21 in 6.16.txt: [9, 53, 76, 92, 323, 414, 420, 460, 551, 554, 556, 714, 753, 794, 880, 914, 936, 948, 1010, 1032, 1044]', '16 in 6.17.txt: [11, 76, 93, 140, 186, 209, 237, 251, 458, 592, 602, 661, 742, 768, 780, 796]', '22 in 6.18.txt: [7, 90, 105, 146, 157, 175, 194, 453, 508, 532, 548, 555, 681, 875, 963, 1022, 1048, 1129, 1158, 1225, 1283, 1361]', '16 in 6.19.txt: [9, 75, 91, 139, 166, 399, 702, 717, 744, 789, 796, 800, 815, 831, 842, 855]', '12 in 6.2.txt: [9, 47, 52, 75, 78, 94, 116, 545, 792, 801, 833, 857]', '18 in 6.20.txt: [11, 81, 98, 234, 263, 396, 442, 503, 517, 518, 566, 584, 700, 708, 924, 1070, 1094, 1126]', '13 in 6.21.txt: [7, 82, 97, 109, 144, 682, 745, 761, 814, 904, 976, 1008, 1045]', '13 in 6.22.txt: [7, 91, 106, 212, 631, 662, 670, 1010, 1034, 1050, 1055, 1117, 1184]', '13 in 6.23.txt: [7, 75, 90, 173, 186, 322, 404, 740, 748, 882, 974, 997, 1011]', '8 in 6.24.txt: [7, 39, 69, 85, 368, 575, 597, 648]', '31 in 6.25.txt: [11, 87, 97, 134, 164, 178, 242, 499, 548, 723, 731, 741, 775, 873, 1020, 1024, 1155, 1213, 1222, 1282, 1481, 2100, 2175, 2214, 2236, 2248, 2256, 2259, 2271, 2285, 2361]', '15 in 6.3.txt: [1, 8, 11, 67, 97, 103, 114, 133, 153, 296, 299, 436, 606, 829, 853]', '15 in 6.4.txt: [9, 66, 73, 89, 103, 219, 233, 252, 265, 278, 445, 662, 675, 678, 726]', '12 in 6.5.txt: [9, 61, 84, 100, 144, 244, 303, 413, 899, 934, 1082, 1163]', '22 in 6.6.txt: [9, 86, 102, 143, 295, 461, 516, 690, 869, 929, 968, 1001, 1289, 1305, 1330, 1377, 1390, 1412, 1415, 1503, 1555, 1567]', '15 in 6.7.txt: [9, 58, 82, 98, 197, 461, 476, 539, 606, 665, 686, 695, 829, 964, 1032]', '7 in 6.8.txt: [7, 39, 66, 81, 315, 530, 623]', '11 in 6.9.txt: [7, 76, 91, 235, 269, 319, 518, 582, 589, 605, 624]', '31 in 7.1.txt: [11, 87, 97, 134, 164, 178, 242, 499, 548, 723, 731, 741, 775, 873, 1020, 1024, 1155, 1213, 1222, 1282, 1481, 2100, 2175, 2214, 2236, 2248, 2256, 2259, 2271, 2285, 2361]', '30 in 7.10.txt: [0, 7, 11, 52, 56, 102, 107, 119, 137, 140, 144, 163, 252, 297, 306, 334, 340, 348, 353, 357, 395, 457, 469, 524, 538, 987, 1020, 1334, 1349, 1374]', '11 in 7.11.txt: [7, 76, 83, 98, 450, 474, 579, 590, 658, 787, 809]', '10 in 7.12.txt: [7, 38, 50, 72, 87, 428, 502, 564, 580, 926]', '25 in 7.13.txt: [9, 74, 90, 119, 211, 310, 390, 409, 421, 441, 476, 479, 496, 550, 567, 576, 666, 686, 831, 846, 1041, 1070, 1076, 1121, 1136]', '9 in 7.14.txt: [11, 71, 88, 190, 383, 444, 564, 650, 671]', '8 in 7.15.txt: [10, 53, 81, 96, 191, 395, 717, 767]', '11 in 7.16.txt: [7, 70, 85, 712, 729, 829, 1251, 1313, 1359, 1375, 1393]', '7 in 7.17.txt: [7, 34, 57, 72, 361, 438, 741]', '15 in 7.18.txt: [9, 83, 105, 121, 168, 368, 548, 559, 641, 658, 679, 1238, 1339, 1372, 1380]', '13 in 7.19.txt: [9, 47, 73, 89, 198, 498, 579, 942, 997, 1077, 1090, 1093, 1117]', '17 in 7.2.txt: [11, 48, 71, 89, 100, 141, 231, 367, 416, 456, 504, 741, 880, 883, 889, 900, 914]', '8 in 7.20.txt: [23, 51, 80, 95, 542, 629, 657, 812]', '24 in 7.21.txt: [11, 85, 124, 131, 148, 236, 748, 1142, 1178, 1188, 1209, 1219, 1245, 1275, 1282, 1291, 1334, 1370, 1387, 1402, 1428, 1511, 1602, 1700]', '13 in 7.22.txt: [2, 14, 21, 81, 88, 103, 116, 169, 309, 626, 805, 917, 926]', '9 in 7.23.txt: [36, 104, 113, 129, 542, 701, 775, 963, 990]', '12 in 7.24.txt: [5, 75, 90, 127, 410, 542, 611, 649, 687, 724, 749, 780]', '17 in 7.25.txt: [11, 48, 71, 89, 100, 141, 231, 367, 416, 456, 504, 741, 880, 883, 889, 900, 914]', '13 in 7.3.txt: [9, 86, 102, 113, 243, 282, 316, 335, 341, 412, 668, 717, 722]', '22 in 7.4.txt: [9, 47, 75, 91, 189, 204, 293, 379, 471, 485, 718, 774, 836, 891, 1030, 1039, 1191, 1206, 1229, 1241, 1278, 1301]', '26 in 7.5.txt: [7, 53, 75, 90, 135, 248, 506, 679, 766, 790, 805, 819, 862, 868, 904, 1141, 1164, 1254, 1267, 1330, 1399, 1423, 1509, 1551, 1564, 1584]', '13 in 7.6.txt: [9, 70, 95, 111, 252, 362, 626, 662, 952, 1066, 1514, 1630, 1688]', '16 in 7.7.txt: [7, 54, 83, 84, 99, 143, 269, 437, 849, 898, 914, 1080, 1123, 1129, 1139, 1152]', '23 in 7.8.txt: [1, 9, 10, 12, 13, 60, 69, 98, 104, 113, 366, 426, 508, 547, 574, 656, 682, 777, 793, 873, 904, 989, 1017]', '11 in 7.9.txt: [13, 58, 81, 83, 87, 105, 166, 293, 461, 550, 855]']\n",
            "After initial processing: mrage -> mrage; rage 13 total occurances: ['1 in 4.3.txt: [449]', '2 in 5.3.txt: [556, 636]', '2 in 6.25.txt: [556, 636]', '2 in 7.1.txt: [556, 636]', '1 in 7.21.txt: [122]', '4 in 7.22.txt: [0, 12, 86, 912]', '1 in 7.23.txt: [102]']\n",
            "After initial processing: margee -> marg; marg 674 total occurances: ['3 in 3.1.txt: [378, 1048, 1295]', '1 in 3.10.txt: [1140]', '1 in 3.11.txt: [90]', '40 in 3.12.txt: [1, 6, 13, 16, 107, 127, 145, 159, 190, 242, 280, 313, 314, 332, 353, 367, 384, 415, 421, 436, 454, 460, 489, 493, 512, 528, 543, 556, 574, 590, 648, 661, 682, 691, 733, 766, 869, 890, 991, 1017]', '2 in 3.13.txt: [61, 353]', '8 in 3.14.txt: [199, 203, 389, 426, 497, 516, 522, 813]', '22 in 3.15.txt: [107, 152, 157, 245, 286, 297, 314, 360, 379, 382, 397, 430, 443, 453, 520, 621, 648, 737, 756, 786, 818, 843]', '4 in 3.16.txt: [311, 378, 417, 463]', '1 in 3.19.txt: [287]', '1 in 3.2.txt: [554]', '16 in 3.20.txt: [125, 148, 328, 343, 349, 357, 407, 438, 452, 509, 535, 550, 551, 716, 1425, 1690]', '3 in 3.21.txt: [337, 416, 672]', '5 in 3.22.txt: [123, 271, 342, 355, 369]', '3 in 3.23.txt: [399, 415, 600]', '3 in 3.24.txt: [377, 784, 812]', '3 in 3.5.txt: [413, 438, 842]', '4 in 3.7.txt: [210, 341, 601, 995]', '2 in 3.8.txt: [327, 341]', '7 in 3.9.txt: [209, 303, 389, 392, 553, 577, 584]', '5 in 4.1.txt: [68, 235, 416, 524, 571]', '8 in 4.10.txt: [118, 245, 258, 268, 381, 464, 567, 784]', '4 in 4.11.txt: [73, 162, 208, 463]', '19 in 4.12.txt: [0, 6, 11, 106, 139, 175, 308, 321, 350, 391, 421, 468, 523, 739, 775, 950, 1034, 1168, 1277]', '8 in 4.13.txt: [75, 168, 180, 275, 331, 504, 515, 688]', '1 in 4.14.txt: [314]', '1 in 4.15.txt: [286]', '6 in 4.16.txt: [111, 188, 295, 305, 351, 522]', '1 in 4.17.txt: [247]', '5 in 4.18.txt: [304, 328, 555, 621, 836]', '3 in 4.19.txt: [170, 295, 650]', '31 in 4.2.txt: [2, 9, 88, 108, 130, 265, 302, 309, 320, 337, 342, 375, 394, 404, 412, 421, 470, 483, 507, 523, 542, 548, 568, 578, 690, 1139, 1195, 1359, 1508, 1515, 1628]', '4 in 4.20.txt: [67, 120, 251, 289]', '23 in 4.21.txt: [0, 6, 83, 105, 131, 139, 153, 201, 278, 297, 314, 328, 351, 362, 384, 530, 569, 612, 621, 636, 844, 886, 986]', '7 in 4.22.txt: [91, 805, 1343, 1355, 1358, 1462, 1467]', '9 in 4.3.txt: [79, 134, 171, 220, 240, 248, 255, 293, 788]', '3 in 4.4.txt: [53, 258, 592]', '10 in 4.5.txt: [192, 308, 356, 379, 386, 400, 408, 445, 462, 780]', '8 in 4.6.txt: [61, 101, 144, 155, 162, 283, 290, 653]', '17 in 4.7.txt: [0, 7, 95, 117, 133, 182, 200, 208, 220, 226, 251, 264, 407, 417, 428, 436, 633]', '3 in 4.8.txt: [92, 213, 233]', '3 in 4.9.txt: [203, 416, 1133]', '4 in 5.1.txt: [385, 402, 463, 496]', '9 in 5.10.txt: [142, 256, 287, 341, 388, 409, 799, 918, 962]', '2 in 5.11.txt: [240, 538]', '4 in 5.12.txt: [366, 385, 453, 705]', '1 in 5.13.txt: [963]', '1 in 5.15.txt: [363]', '4 in 5.16.txt: [474, 499, 507, 555]', '6 in 5.17.txt: [370, 472, 585, 762, 792, 992]', '3 in 5.18.txt: [126, 301, 310]', '1 in 5.19.txt: [753]', '2 in 5.2.txt: [396, 475]', '1 in 5.20.txt: [533]', '8 in 5.21.txt: [123, 232, 273, 589, 590, 594, 811, 866]', '17 in 5.22.txt: [134, 219, 259, 267, 298, 315, 338, 344, 507, 530, 579, 596, 637, 916, 951, 982, 1022]', '6 in 5.3.txt: [416, 444, 604, 925, 1411, 1550]', '6 in 5.5.txt: [111, 346, 390, 405, 749, 796]', '22 in 5.6.txt: [0, 5, 79, 99, 169, 174, 207, 227, 241, 259, 275, 317, 339, 355, 362, 424, 474, 569, 602, 616, 654, 716]', '7 in 5.7.txt: [74, 108, 288, 304, 329, 350, 366]', '10 in 5.9.txt: [140, 305, 464, 472, 546, 709, 927, 1057, 1202, 1346]', '1 in 6.1.txt: [333]', '7 in 6.10.txt: [109, 209, 224, 247, 430, 468, 710]', '14 in 6.11.txt: [126, 280, 295, 316, 346, 350, 371, 402, 435, 629, 647, 693, 762, 829]', '1 in 6.12.txt: [313]', '7 in 6.13.txt: [232, 239, 256, 266, 281, 290, 572]', '2 in 6.16.txt: [305, 391]', '8 in 6.17.txt: [218, 319, 340, 365, 625, 696, 708, 805]', '7 in 6.18.txt: [300, 310, 346, 375, 425, 459, 849]', '3 in 6.19.txt: [214, 288, 466]', '3 in 6.2.txt: [410, 429, 643]', '2 in 6.20.txt: [269, 1122]', '3 in 6.21.txt: [279, 292, 348]', '2 in 6.22.txt: [313, 777]', '35 in 6.23.txt: [101, 176, 193, 239, 253, 258, 277, 300, 324, 331, 354, 379, 388, 423, 444, 489, 515, 519, 549, 604, 620, 633, 662, 683, 766, 819, 839, 856, 862, 907, 914, 939, 945, 1001, 1038]', '1 in 6.24.txt: [178]', '6 in 6.25.txt: [416, 444, 604, 925, 1411, 1550]', '16 in 6.3.txt: [125, 224, 245, 264, 276, 458, 501, 541, 558, 589, 601, 620, 626, 636, 703, 839]', '6 in 6.4.txt: [146, 169, 209, 287, 510, 590]', '7 in 6.6.txt: [262, 284, 349, 361, 387, 678, 745]', '4 in 6.7.txt: [324, 475, 678, 909]', '3 in 6.8.txt: [291, 539, 744]', '5 in 6.9.txt: [142, 158, 187, 196, 287]', '6 in 7.1.txt: [416, 444, 604, 925, 1411, 1550]', '8 in 7.10.txt: [100, 615, 631, 744, 862, 881, 895, 905]', '19 in 7.11.txt: [0, 5, 88, 109, 189, 225, 270, 285, 294, 303, 323, 347, 360, 387, 546, 612, 671, 702, 817]', '4 in 7.12.txt: [66, 521, 552, 613]', '2 in 7.13.txt: [35, 420]', '20 in 7.14.txt: [99, 108, 201, 206, 215, 223, 239, 279, 282, 301, 314, 328, 415, 458, 465, 568, 582, 591, 607, 670]', '1 in 7.15.txt: [199]', '1 in 7.16.txt: [728]', '2 in 7.17.txt: [239, 547]', '2 in 7.18.txt: [371, 918]', '3 in 7.19.txt: [302, 308, 760]', '4 in 7.2.txt: [236, 267, 350, 837]', '5 in 7.20.txt: [245, 428, 433, 457, 828]', '3 in 7.21.txt: [340, 467, 710]', '1 in 7.22.txt: [817]', '1 in 7.23.txt: [69]', '1 in 7.24.txt: [457]', '4 in 7.25.txt: [236, 267, 350, 837]', '9 in 7.3.txt: [48, 123, 223, 271, 291, 524, 617, 637, 647]', '1 in 7.5.txt: [258]', '6 in 7.6.txt: [421, 533, 698, 743, 832, 897]', '4 in 7.7.txt: [243, 271, 560, 1098]', '2 in 7.8.txt: [197, 277]']\n",
            "After initial processing: homerr -> homerr; homer 2014 total occurances: ['17 in 3.1.txt: [14, 125, 309, 335, 346, 357, 374, 380, 390, 415, 573, 581, 591, 721, 1253, 1363, 1773]', '22 in 3.10.txt: [109, 114, 123, 138, 306, 323, 326, 337, 358, 374, 419, 428, 466, 470, 478, 515, 523, 945, 956, 1091, 1131, 1303]', '28 in 3.11.txt: [15, 146, 227, 269, 299, 352, 392, 404, 415, 432, 434, 507, 522, 623, 693, 707, 723, 735, 737, 790, 801, 812, 841, 856, 990, 1015, 1028, 1104]', '36 in 3.12.txt: [11, 139, 297, 308, 323, 333, 341, 357, 360, 389, 414, 426, 444, 463, 466, 483, 485, 500, 522, 525, 534, 549, 573, 589, 595, 683, 710, 720, 744, 757, 789, 804, 836, 997, 1009, 1046]', '8 in 3.13.txt: [199, 252, 352, 357, 368, 547, 634, 670]', '26 in 3.14.txt: [45, 77, 105, 200, 219, 227, 235, 246, 266, 276, 290, 301, 320, 330, 345, 363, 378, 519, 550, 567, 738, 811, 970, 991, 1012, 1045]', '23 in 3.15.txt: [0, 8, 76, 122, 128, 145, 188, 277, 313, 325, 361, 365, 378, 392, 412, 423, 563, 581, 597, 632, 651, 751, 825]', '18 in 3.16.txt: [56, 59, 112, 115, 144, 306, 373, 427, 451, 454, 460, 471, 527, 544, 557, 980, 1008, 1034]', '23 in 3.17.txt: [0, 6, 101, 130, 194, 276, 400, 507, 524, 538, 550, 556, 813, 919, 938, 1044, 1080, 1210, 1282, 1418, 1438, 1480, 1496]', '1 in 3.18.txt: [67]', '11 in 3.19.txt: [50, 59, 76, 255, 277, 594, 688, 811, 964, 1203, 1262]', '5 in 3.2.txt: [45, 271, 312, 940, 1455]', '65 in 3.20.txt: [1, 7, 14, 104, 124, 131, 142, 152, 230, 256, 266, 327, 333, 354, 362, 379, 394, 409, 418, 430, 450, 453, 465, 476, 487, 497, 513, 539, 546, 553, 560, 596, 618, 639, 651, 685, 690, 715, 754, 847, 852, 1125, 1156, 1171, 1223, 1280, 1317, 1326, 1340, 1380, 1424, 1437, 1477, 1491, 1619, 1664, 1673, 1744, 1789, 1808, 1823, 1859, 1866, 1883, 1905]', '4 in 3.21.txt: [87, 287, 335, 866]', '12 in 3.22.txt: [122, 270, 354, 366, 386, 404, 604, 621, 646, 655, 667, 786]', '13 in 3.23.txt: [169, 390, 405, 417, 438, 536, 540, 569, 849, 903, 920, 971, 1008]', '24 in 3.24.txt: [120, 133, 143, 197, 251, 260, 279, 291, 304, 317, 324, 329, 366, 388, 474, 510, 736, 759, 807, 863, 880, 980, 1052, 1173]', '13 in 3.3.txt: [99, 123, 247, 253, 278, 285, 299, 588, 787, 866, 869, 917, 925]', '4 in 3.4.txt: [86, 349, 440, 888]', '30 in 3.5.txt: [0, 6, 87, 108, 123, 183, 210, 246, 266, 277, 283, 295, 317, 328, 334, 347, 350, 362, 370, 382, 570, 578, 685, 760, 811, 863, 902, 1053, 1056, 1079]', '3 in 3.6.txt: [63, 82, 756]', '29 in 3.7.txt: [107, 136, 159, 172, 321, 328, 385, 423, 442, 460, 467, 478, 503, 518, 525, 533, 541, 728, 906, 931, 958, 1039, 1101, 1126, 1141, 1155, 1176, 1189, 1387]', '28 in 3.8.txt: [49, 58, 113, 137, 145, 237, 254, 265, 285, 291, 323, 336, 359, 367, 375, 535, 596, 618, 629, 638, 684, 710, 779, 831, 938, 946, 1057, 1070]', '27 in 3.9.txt: [100, 114, 127, 130, 211, 225, 249, 281, 295, 305, 322, 329, 435, 448, 548, 582, 591, 624, 657, 669, 675, 732, 943, 959, 970, 990, 1023]', '6 in 4.1.txt: [150, 170, 234, 239, 323, 415]', '13 in 4.10.txt: [76, 257, 271, 354, 392, 397, 503, 528, 559, 569, 1163, 1193, 1203]', '27 in 4.11.txt: [0, 8, 81, 104, 115, 157, 193, 202, 217, 228, 296, 306, 355, 360, 371, 424, 440, 456, 475, 493, 517, 535, 548, 558, 566, 583, 612]', '10 in 4.12.txt: [93, 302, 404, 424, 435, 644, 715, 736, 750, 1107]', '9 in 4.13.txt: [161, 249, 284, 326, 347, 440, 514, 546, 689]', '21 in 4.14.txt: [104, 118, 199, 238, 241, 258, 271, 277, 529, 552, 596, 606, 622, 641, 662, 667, 763, 802, 833, 852, 887]', '3 in 4.15.txt: [393, 397, 646]', '13 in 4.16.txt: [107, 245, 258, 282, 297, 302, 339, 440, 450, 521, 536, 549, 630]', '24 in 4.17.txt: [107, 249, 272, 293, 304, 310, 314, 322, 332, 361, 369, 385, 393, 460, 465, 469, 476, 652, 731, 817, 916, 918, 1068, 1096]', '44 in 4.18.txt: [99, 109, 114, 123, 132, 213, 230, 243, 257, 275, 284, 299, 308, 313, 330, 335, 347, 488, 553, 557, 564, 567, 576, 591, 594, 625, 650, 659, 663, 671, 689, 701, 706, 718, 737, 747, 765, 772, 785, 815, 834, 848, 873, 968]', '9 in 4.19.txt: [118, 167, 294, 304, 315, 327, 334, 651, 663]', '22 in 4.2.txt: [79, 122, 258, 291, 324, 396, 400, 409, 414, 420, 447, 465, 473, 489, 496, 525, 559, 581, 837, 1086, 1128, 1622]', '2 in 4.20.txt: [757, 760]', '3 in 4.21.txt: [125, 556, 686]', '5 in 4.22.txt: [94, 166, 256, 590, 1299]', '36 in 4.3.txt: [0, 6, 10, 89, 110, 163, 176, 209, 251, 259, 273, 278, 281, 301, 310, 324, 355, 361, 371, 377, 391, 414, 471, 484, 494, 513, 523, 689, 703, 734, 785, 792, 834, 867, 910, 947]', '12 in 4.4.txt: [52, 80, 113, 213, 252, 260, 397, 409, 416, 423, 454, 509]', '33 in 4.5.txt: [110, 118, 155, 173, 194, 232, 251, 268, 281, 293, 327, 332, 346, 373, 396, 406, 420, 423, 433, 440, 461, 531, 537, 636, 680, 689, 701, 747, 756, 771, 795, 803, 981]', '20 in 4.6.txt: [96, 103, 118, 145, 161, 194, 207, 213, 238, 249, 267, 277, 287, 302, 303, 321, 333, 344, 557, 713]', '7 in 4.7.txt: [64, 181, 187, 198, 245, 250, 456]', '11 in 4.8.txt: [141, 186, 211, 220, 236, 262, 265, 386, 463, 473, 529]', '31 in 4.9.txt: [16, 112, 130, 162, 205, 214, 227, 245, 248, 257, 286, 303, 330, 331, 341, 356, 370, 381, 409, 428, 504, 588, 604, 631, 641, 697, 775, 992, 1058, 1119, 1234]', '42 in 5.1.txt: [0, 8, 16, 112, 139, 180, 185, 239, 298, 302, 318, 341, 373, 395, 398, 409, 448, 458, 479, 503, 552, 570, 575, 615, 653, 938, 967, 981, 1107, 1120, 1215, 1233, 1272, 1314, 1335, 1357, 1378, 1552, 1565, 1590, 1617, 1654]', '17 in 5.10.txt: [88, 90, 138, 267, 283, 376, 384, 407, 416, 433, 545, 691, 773, 801, 851, 910, 978]', '25 in 5.11.txt: [0, 5, 81, 114, 120, 134, 160, 263, 279, 301, 313, 330, 348, 368, 511, 620, 628, 646, 670, 808, 817, 844, 848, 854, 879]', '6 in 5.12.txt: [84, 87, 443, 520, 761, 876]', '31 in 5.13.txt: [0, 5, 84, 105, 130, 222, 230, 245, 266, 278, 319, 339, 346, 362, 374, 387, 527, 535, 695, 778, 784, 797, 891, 958, 980, 1095, 1127, 1181, 1280, 1288, 1292]', '5 in 5.14.txt: [68, 73, 784, 956, 1062]', '48 in 5.15.txt: [2, 8, 100, 110, 131, 231, 244, 251, 259, 276, 298, 301, 315, 323, 352, 374, 393, 424, 443, 461, 474, 484, 495, 498, 526, 549, 553, 639, 648, 676, 753, 763, 790, 801, 811, 829, 838, 843, 883, 886, 909, 941, 962, 1050, 1082, 1119, 1124, 1171]', '35 in 5.16.txt: [0, 6, 67, 77, 102, 114, 200, 213, 218, 233, 238, 243, 275, 279, 314, 327, 339, 347, 364, 374, 415, 428, 542, 592, 607, 625, 699, 721, 759, 862, 888, 892, 939, 956, 983]', '22 in 5.17.txt: [65, 114, 131, 135, 328, 344, 352, 369, 390, 403, 420, 442, 453, 480, 678, 712, 772, 786, 795, 934, 974, 989]', '9 in 5.18.txt: [55, 255, 260, 274, 276, 300, 429, 565, 733]', '2 in 5.19.txt: [67, 416]', '40 in 5.2.txt: [0, 6, 72, 94, 105, 113, 123, 242, 271, 279, 290, 311, 329, 342, 354, 378, 386, 398, 417, 427, 436, 452, 462, 478, 488, 500, 506, 518, 569, 604, 613, 625, 662, 684, 703, 772, 782, 831, 844, 884]', '17 in 5.20.txt: [399, 408, 425, 440, 444, 524, 567, 570, 761, 778, 814, 830, 840, 976, 1017, 1025, 1032]', '5 in 5.21.txt: [242, 285, 312, 568, 914]', '35 in 5.22.txt: [106, 137, 216, 227, 256, 282, 291, 303, 309, 320, 331, 340, 351, 359, 371, 411, 418, 423, 435, 440, 459, 467, 475, 506, 519, 531, 545, 575, 822, 888, 910, 950, 957, 979, 1008]', '34 in 5.3.txt: [241, 409, 434, 449, 537, 547, 557, 567, 582, 730, 734, 748, 759, 770, 774, 795, 803, 820, 832, 843, 856, 858, 898, 1209, 1314, 1508, 1554, 1567, 1575, 1597, 1847, 2099, 2104, 2174]', '12 in 5.4.txt: [13, 60, 278, 373, 397, 417, 434, 458, 460, 739, 829, 917]', '29 in 5.5.txt: [17, 39, 152, 236, 281, 288, 310, 315, 343, 357, 378, 395, 402, 430, 434, 440, 626, 748, 768, 783, 948, 1004, 1237, 1257, 1295, 1312, 1485, 1523, 1576]', '18 in 5.6.txt: [108, 176, 195, 204, 242, 256, 265, 283, 315, 349, 377, 449, 469, 498, 507, 520, 537, 671]', '9 in 5.7.txt: [280, 292, 302, 332, 347, 367, 482, 739, 930]', '19 in 5.8.txt: [84, 123, 219, 274, 285, 297, 306, 326, 345, 355, 399, 406, 654, 662, 746, 800, 882, 940, 953]', '54 in 5.9.txt: [2, 8, 94, 122, 133, 239, 248, 289, 294, 301, 312, 421, 445, 452, 461, 473, 479, 499, 540, 553, 571, 572, 584, 585, 591, 602, 657, 687, 691, 823, 839, 847, 886, 892, 914, 922, 995, 1008, 1035, 1048, 1065, 1085, 1095, 1105, 1128, 1139, 1150, 1174, 1201, 1271, 1284, 1309, 1343, 1497]', '3 in 6.1.txt: [200, 332, 340]', '24 in 6.10.txt: [75, 108, 119, 127, 208, 218, 246, 271, 285, 292, 303, 360, 374, 391, 399, 429, 439, 445, 467, 631, 669, 682, 709, 718]', '13 in 6.11.txt: [92, 224, 248, 298, 337, 405, 520, 598, 638, 662, 673, 682, 904]', '20 in 6.12.txt: [0, 11, 85, 106, 197, 230, 236, 263, 272, 285, 306, 307, 322, 335, 379, 467, 479, 622, 636, 695]', '27 in 6.13.txt: [43, 64, 97, 186, 194, 220, 231, 258, 278, 292, 305, 312, 330, 340, 354, 374, 454, 467, 510, 518, 574, 621, 681, 701, 768, 799, 845]', '3 in 6.14.txt: [203, 225, 238]', '18 in 6.15.txt: [109, 162, 222, 245, 260, 267, 273, 284, 292, 418, 440, 459, 603, 636, 645, 658, 757, 805]', '3 in 6.16.txt: [72, 368, 790]', '37 in 6.17.txt: [0, 7, 81, 104, 159, 180, 197, 213, 220, 282, 300, 311, 326, 337, 353, 369, 376, 446, 601, 608, 628, 635, 649, 664, 681, 694, 706, 719, 724, 744, 751, 758, 766, 803, 823, 835, 875]', '7 in 6.18.txt: [61, 82, 342, 416, 675, 679, 901]', '8 in 6.19.txt: [243, 264, 331, 383, 410, 422, 448, 476]', '9 in 6.2.txt: [130, 384, 395, 432, 448, 456, 476, 621, 688]', '2 in 6.20.txt: [268, 413]', '5 in 6.21.txt: [823, 840, 856, 912, 987]', '3 in 6.22.txt: [69, 312, 969]', '17 in 6.23.txt: [44, 238, 246, 293, 311, 330, 336, 661, 663, 687, 703, 722, 774, 781, 802, 885, 1049]', '4 in 6.24.txt: [258, 384, 406, 538]', '34 in 6.25.txt: [241, 409, 434, 449, 537, 547, 557, 567, 582, 730, 734, 748, 759, 770, 774, 795, 803, 820, 832, 843, 856, 858, 898, 1209, 1314, 1508, 1554, 1567, 1575, 1597, 1847, 2099, 2104, 2174]', '15 in 6.3.txt: [232, 238, 259, 275, 446, 456, 471, 522, 526, 530, 551, 553, 613, 625, 840]', '7 in 6.4.txt: [183, 199, 212, 238, 257, 509, 630]', '2 in 6.5.txt: [582, 898]', '31 in 6.6.txt: [152, 160, 282, 327, 337, 343, 351, 355, 366, 380, 391, 411, 428, 441, 471, 483, 501, 543, 560, 875, 886, 895, 1049, 1063, 1129, 1155, 1179, 1186, 1483, 1582, 1602]', '5 in 6.7.txt: [320, 615, 850, 908, 1000]', '5 in 6.8.txt: [64, 239, 294, 731, 743]', '28 in 6.9.txt: [0, 5, 34, 81, 102, 115, 141, 156, 177, 190, 202, 211, 224, 238, 244, 255, 274, 289, 315, 324, 333, 335, 362, 450, 483, 489, 549, 594]', '34 in 7.1.txt: [241, 409, 434, 449, 537, 547, 557, 567, 582, 730, 734, 748, 759, 770, 774, 795, 803, 820, 832, 843, 856, 858, 898, 1209, 1314, 1508, 1554, 1567, 1575, 1597, 1847, 2099, 2104, 2174]', '9 in 7.10.txt: [743, 853, 867, 894, 926, 936, 945, 1064, 1135]', '5 in 7.11.txt: [50, 82, 224, 286, 723]', '23 in 7.12.txt: [1, 6, 78, 98, 190, 202, 234, 241, 290, 302, 404, 458, 553, 601, 611, 635, 679, 726, 771, 783, 831, 883, 934]', '20 in 7.13.txt: [42, 68, 120, 249, 253, 271, 280, 284, 315, 326, 354, 368, 375, 499, 656, 670, 753, 956, 976, 1103]', '9 in 7.14.txt: [47, 258, 273, 307, 498, 508, 574, 624, 649]', '3 in 7.15.txt: [430, 698, 770]', '13 in 7.16.txt: [68, 116, 280, 294, 410, 486, 876, 983, 1194, 1363, 1365, 1382, 1385]', '20 in 7.17.txt: [0, 5, 62, 87, 196, 197, 226, 235, 260, 272, 291, 306, 324, 399, 516, 539, 609, 652, 664, 712]', '4 in 7.18.txt: [99, 404, 622, 626]', '3 in 7.19.txt: [292, 299, 887]', '4 in 7.2.txt: [282, 372, 624, 767]', '10 in 7.20.txt: [129, 263, 349, 386, 398, 422, 451, 596, 824, 894]', '3 in 7.21.txt: [413, 823, 1382]', '1 in 7.22.txt: [50]', '16 in 7.23.txt: [77, 153, 235, 267, 293, 337, 403, 434, 457, 467, 806, 932, 939, 980, 1118, 1127]', '26 in 7.24.txt: [48, 101, 177, 192, 207, 214, 230, 245, 263, 287, 295, 301, 316, 387, 394, 456, 513, 517, 523, 524, 540, 541, 548, 558, 587, 665]', '4 in 7.25.txt: [282, 372, 624, 767]', '9 in 7.3.txt: [47, 122, 224, 270, 272, 290, 307, 616, 645]', '2 in 7.4.txt: [1297, 1317]', '20 in 7.5.txt: [272, 312, 322, 326, 346, 361, 377, 387, 462, 468, 583, 595, 624, 695, 878, 890, 909, 1155, 1438, 1543]', '26 in 7.6.txt: [94, 168, 244, 326, 372, 424, 479, 657, 673, 689, 707, 720, 732, 755, 870, 944, 1024, 1107, 1119, 1277, 1374, 1380, 1409, 1432, 1472, 1529]', '48 in 7.7.txt: [1, 6, 13, 90, 110, 214, 225, 255, 276, 283, 320, 343, 361, 387, 403, 413, 426, 483, 490, 496, 509, 512, 525, 529, 546, 553, 569, 575, 591, 611, 642, 691, 701, 739, 773, 787, 809, 859, 890, 917, 946, 954, 968, 986, 1017, 1051, 1091, 1101]', '27 in 7.8.txt: [17, 91, 128, 152, 176, 191, 203, 213, 222, 233, 241, 278, 340, 353, 369, 402, 408, 421, 432, 442, 450, 465, 514, 735, 744, 758, 964]']\n",
            "After initial processing: hhomer -> hhomer; homer 2014 total occurances: ['17 in 3.1.txt: [14, 125, 309, 335, 346, 357, 374, 380, 390, 415, 573, 581, 591, 721, 1253, 1363, 1773]', '22 in 3.10.txt: [109, 114, 123, 138, 306, 323, 326, 337, 358, 374, 419, 428, 466, 470, 478, 515, 523, 945, 956, 1091, 1131, 1303]', '28 in 3.11.txt: [15, 146, 227, 269, 299, 352, 392, 404, 415, 432, 434, 507, 522, 623, 693, 707, 723, 735, 737, 790, 801, 812, 841, 856, 990, 1015, 1028, 1104]', '36 in 3.12.txt: [11, 139, 297, 308, 323, 333, 341, 357, 360, 389, 414, 426, 444, 463, 466, 483, 485, 500, 522, 525, 534, 549, 573, 589, 595, 683, 710, 720, 744, 757, 789, 804, 836, 997, 1009, 1046]', '8 in 3.13.txt: [199, 252, 352, 357, 368, 547, 634, 670]', '26 in 3.14.txt: [45, 77, 105, 200, 219, 227, 235, 246, 266, 276, 290, 301, 320, 330, 345, 363, 378, 519, 550, 567, 738, 811, 970, 991, 1012, 1045]', '23 in 3.15.txt: [0, 8, 76, 122, 128, 145, 188, 277, 313, 325, 361, 365, 378, 392, 412, 423, 563, 581, 597, 632, 651, 751, 825]', '18 in 3.16.txt: [56, 59, 112, 115, 144, 306, 373, 427, 451, 454, 460, 471, 527, 544, 557, 980, 1008, 1034]', '23 in 3.17.txt: [0, 6, 101, 130, 194, 276, 400, 507, 524, 538, 550, 556, 813, 919, 938, 1044, 1080, 1210, 1282, 1418, 1438, 1480, 1496]', '1 in 3.18.txt: [67]', '11 in 3.19.txt: [50, 59, 76, 255, 277, 594, 688, 811, 964, 1203, 1262]', '5 in 3.2.txt: [45, 271, 312, 940, 1455]', '65 in 3.20.txt: [1, 7, 14, 104, 124, 131, 142, 152, 230, 256, 266, 327, 333, 354, 362, 379, 394, 409, 418, 430, 450, 453, 465, 476, 487, 497, 513, 539, 546, 553, 560, 596, 618, 639, 651, 685, 690, 715, 754, 847, 852, 1125, 1156, 1171, 1223, 1280, 1317, 1326, 1340, 1380, 1424, 1437, 1477, 1491, 1619, 1664, 1673, 1744, 1789, 1808, 1823, 1859, 1866, 1883, 1905]', '4 in 3.21.txt: [87, 287, 335, 866]', '12 in 3.22.txt: [122, 270, 354, 366, 386, 404, 604, 621, 646, 655, 667, 786]', '13 in 3.23.txt: [169, 390, 405, 417, 438, 536, 540, 569, 849, 903, 920, 971, 1008]', '24 in 3.24.txt: [120, 133, 143, 197, 251, 260, 279, 291, 304, 317, 324, 329, 366, 388, 474, 510, 736, 759, 807, 863, 880, 980, 1052, 1173]', '13 in 3.3.txt: [99, 123, 247, 253, 278, 285, 299, 588, 787, 866, 869, 917, 925]', '4 in 3.4.txt: [86, 349, 440, 888]', '30 in 3.5.txt: [0, 6, 87, 108, 123, 183, 210, 246, 266, 277, 283, 295, 317, 328, 334, 347, 350, 362, 370, 382, 570, 578, 685, 760, 811, 863, 902, 1053, 1056, 1079]', '3 in 3.6.txt: [63, 82, 756]', '29 in 3.7.txt: [107, 136, 159, 172, 321, 328, 385, 423, 442, 460, 467, 478, 503, 518, 525, 533, 541, 728, 906, 931, 958, 1039, 1101, 1126, 1141, 1155, 1176, 1189, 1387]', '28 in 3.8.txt: [49, 58, 113, 137, 145, 237, 254, 265, 285, 291, 323, 336, 359, 367, 375, 535, 596, 618, 629, 638, 684, 710, 779, 831, 938, 946, 1057, 1070]', '27 in 3.9.txt: [100, 114, 127, 130, 211, 225, 249, 281, 295, 305, 322, 329, 435, 448, 548, 582, 591, 624, 657, 669, 675, 732, 943, 959, 970, 990, 1023]', '6 in 4.1.txt: [150, 170, 234, 239, 323, 415]', '13 in 4.10.txt: [76, 257, 271, 354, 392, 397, 503, 528, 559, 569, 1163, 1193, 1203]', '27 in 4.11.txt: [0, 8, 81, 104, 115, 157, 193, 202, 217, 228, 296, 306, 355, 360, 371, 424, 440, 456, 475, 493, 517, 535, 548, 558, 566, 583, 612]', '10 in 4.12.txt: [93, 302, 404, 424, 435, 644, 715, 736, 750, 1107]', '9 in 4.13.txt: [161, 249, 284, 326, 347, 440, 514, 546, 689]', '21 in 4.14.txt: [104, 118, 199, 238, 241, 258, 271, 277, 529, 552, 596, 606, 622, 641, 662, 667, 763, 802, 833, 852, 887]', '3 in 4.15.txt: [393, 397, 646]', '13 in 4.16.txt: [107, 245, 258, 282, 297, 302, 339, 440, 450, 521, 536, 549, 630]', '24 in 4.17.txt: [107, 249, 272, 293, 304, 310, 314, 322, 332, 361, 369, 385, 393, 460, 465, 469, 476, 652, 731, 817, 916, 918, 1068, 1096]', '44 in 4.18.txt: [99, 109, 114, 123, 132, 213, 230, 243, 257, 275, 284, 299, 308, 313, 330, 335, 347, 488, 553, 557, 564, 567, 576, 591, 594, 625, 650, 659, 663, 671, 689, 701, 706, 718, 737, 747, 765, 772, 785, 815, 834, 848, 873, 968]', '9 in 4.19.txt: [118, 167, 294, 304, 315, 327, 334, 651, 663]', '22 in 4.2.txt: [79, 122, 258, 291, 324, 396, 400, 409, 414, 420, 447, 465, 473, 489, 496, 525, 559, 581, 837, 1086, 1128, 1622]', '2 in 4.20.txt: [757, 760]', '3 in 4.21.txt: [125, 556, 686]', '5 in 4.22.txt: [94, 166, 256, 590, 1299]', '36 in 4.3.txt: [0, 6, 10, 89, 110, 163, 176, 209, 251, 259, 273, 278, 281, 301, 310, 324, 355, 361, 371, 377, 391, 414, 471, 484, 494, 513, 523, 689, 703, 734, 785, 792, 834, 867, 910, 947]', '12 in 4.4.txt: [52, 80, 113, 213, 252, 260, 397, 409, 416, 423, 454, 509]', '33 in 4.5.txt: [110, 118, 155, 173, 194, 232, 251, 268, 281, 293, 327, 332, 346, 373, 396, 406, 420, 423, 433, 440, 461, 531, 537, 636, 680, 689, 701, 747, 756, 771, 795, 803, 981]', '20 in 4.6.txt: [96, 103, 118, 145, 161, 194, 207, 213, 238, 249, 267, 277, 287, 302, 303, 321, 333, 344, 557, 713]', '7 in 4.7.txt: [64, 181, 187, 198, 245, 250, 456]', '11 in 4.8.txt: [141, 186, 211, 220, 236, 262, 265, 386, 463, 473, 529]', '31 in 4.9.txt: [16, 112, 130, 162, 205, 214, 227, 245, 248, 257, 286, 303, 330, 331, 341, 356, 370, 381, 409, 428, 504, 588, 604, 631, 641, 697, 775, 992, 1058, 1119, 1234]', '42 in 5.1.txt: [0, 8, 16, 112, 139, 180, 185, 239, 298, 302, 318, 341, 373, 395, 398, 409, 448, 458, 479, 503, 552, 570, 575, 615, 653, 938, 967, 981, 1107, 1120, 1215, 1233, 1272, 1314, 1335, 1357, 1378, 1552, 1565, 1590, 1617, 1654]', '17 in 5.10.txt: [88, 90, 138, 267, 283, 376, 384, 407, 416, 433, 545, 691, 773, 801, 851, 910, 978]', '25 in 5.11.txt: [0, 5, 81, 114, 120, 134, 160, 263, 279, 301, 313, 330, 348, 368, 511, 620, 628, 646, 670, 808, 817, 844, 848, 854, 879]', '6 in 5.12.txt: [84, 87, 443, 520, 761, 876]', '31 in 5.13.txt: [0, 5, 84, 105, 130, 222, 230, 245, 266, 278, 319, 339, 346, 362, 374, 387, 527, 535, 695, 778, 784, 797, 891, 958, 980, 1095, 1127, 1181, 1280, 1288, 1292]', '5 in 5.14.txt: [68, 73, 784, 956, 1062]', '48 in 5.15.txt: [2, 8, 100, 110, 131, 231, 244, 251, 259, 276, 298, 301, 315, 323, 352, 374, 393, 424, 443, 461, 474, 484, 495, 498, 526, 549, 553, 639, 648, 676, 753, 763, 790, 801, 811, 829, 838, 843, 883, 886, 909, 941, 962, 1050, 1082, 1119, 1124, 1171]', '35 in 5.16.txt: [0, 6, 67, 77, 102, 114, 200, 213, 218, 233, 238, 243, 275, 279, 314, 327, 339, 347, 364, 374, 415, 428, 542, 592, 607, 625, 699, 721, 759, 862, 888, 892, 939, 956, 983]', '22 in 5.17.txt: [65, 114, 131, 135, 328, 344, 352, 369, 390, 403, 420, 442, 453, 480, 678, 712, 772, 786, 795, 934, 974, 989]', '9 in 5.18.txt: [55, 255, 260, 274, 276, 300, 429, 565, 733]', '2 in 5.19.txt: [67, 416]', '40 in 5.2.txt: [0, 6, 72, 94, 105, 113, 123, 242, 271, 279, 290, 311, 329, 342, 354, 378, 386, 398, 417, 427, 436, 452, 462, 478, 488, 500, 506, 518, 569, 604, 613, 625, 662, 684, 703, 772, 782, 831, 844, 884]', '17 in 5.20.txt: [399, 408, 425, 440, 444, 524, 567, 570, 761, 778, 814, 830, 840, 976, 1017, 1025, 1032]', '5 in 5.21.txt: [242, 285, 312, 568, 914]', '35 in 5.22.txt: [106, 137, 216, 227, 256, 282, 291, 303, 309, 320, 331, 340, 351, 359, 371, 411, 418, 423, 435, 440, 459, 467, 475, 506, 519, 531, 545, 575, 822, 888, 910, 950, 957, 979, 1008]', '34 in 5.3.txt: [241, 409, 434, 449, 537, 547, 557, 567, 582, 730, 734, 748, 759, 770, 774, 795, 803, 820, 832, 843, 856, 858, 898, 1209, 1314, 1508, 1554, 1567, 1575, 1597, 1847, 2099, 2104, 2174]', '12 in 5.4.txt: [13, 60, 278, 373, 397, 417, 434, 458, 460, 739, 829, 917]', '29 in 5.5.txt: [17, 39, 152, 236, 281, 288, 310, 315, 343, 357, 378, 395, 402, 430, 434, 440, 626, 748, 768, 783, 948, 1004, 1237, 1257, 1295, 1312, 1485, 1523, 1576]', '18 in 5.6.txt: [108, 176, 195, 204, 242, 256, 265, 283, 315, 349, 377, 449, 469, 498, 507, 520, 537, 671]', '9 in 5.7.txt: [280, 292, 302, 332, 347, 367, 482, 739, 930]', '19 in 5.8.txt: [84, 123, 219, 274, 285, 297, 306, 326, 345, 355, 399, 406, 654, 662, 746, 800, 882, 940, 953]', '54 in 5.9.txt: [2, 8, 94, 122, 133, 239, 248, 289, 294, 301, 312, 421, 445, 452, 461, 473, 479, 499, 540, 553, 571, 572, 584, 585, 591, 602, 657, 687, 691, 823, 839, 847, 886, 892, 914, 922, 995, 1008, 1035, 1048, 1065, 1085, 1095, 1105, 1128, 1139, 1150, 1174, 1201, 1271, 1284, 1309, 1343, 1497]', '3 in 6.1.txt: [200, 332, 340]', '24 in 6.10.txt: [75, 108, 119, 127, 208, 218, 246, 271, 285, 292, 303, 360, 374, 391, 399, 429, 439, 445, 467, 631, 669, 682, 709, 718]', '13 in 6.11.txt: [92, 224, 248, 298, 337, 405, 520, 598, 638, 662, 673, 682, 904]', '20 in 6.12.txt: [0, 11, 85, 106, 197, 230, 236, 263, 272, 285, 306, 307, 322, 335, 379, 467, 479, 622, 636, 695]', '27 in 6.13.txt: [43, 64, 97, 186, 194, 220, 231, 258, 278, 292, 305, 312, 330, 340, 354, 374, 454, 467, 510, 518, 574, 621, 681, 701, 768, 799, 845]', '3 in 6.14.txt: [203, 225, 238]', '18 in 6.15.txt: [109, 162, 222, 245, 260, 267, 273, 284, 292, 418, 440, 459, 603, 636, 645, 658, 757, 805]', '3 in 6.16.txt: [72, 368, 790]', '37 in 6.17.txt: [0, 7, 81, 104, 159, 180, 197, 213, 220, 282, 300, 311, 326, 337, 353, 369, 376, 446, 601, 608, 628, 635, 649, 664, 681, 694, 706, 719, 724, 744, 751, 758, 766, 803, 823, 835, 875]', '7 in 6.18.txt: [61, 82, 342, 416, 675, 679, 901]', '8 in 6.19.txt: [243, 264, 331, 383, 410, 422, 448, 476]', '9 in 6.2.txt: [130, 384, 395, 432, 448, 456, 476, 621, 688]', '2 in 6.20.txt: [268, 413]', '5 in 6.21.txt: [823, 840, 856, 912, 987]', '3 in 6.22.txt: [69, 312, 969]', '17 in 6.23.txt: [44, 238, 246, 293, 311, 330, 336, 661, 663, 687, 703, 722, 774, 781, 802, 885, 1049]', '4 in 6.24.txt: [258, 384, 406, 538]', '34 in 6.25.txt: [241, 409, 434, 449, 537, 547, 557, 567, 582, 730, 734, 748, 759, 770, 774, 795, 803, 820, 832, 843, 856, 858, 898, 1209, 1314, 1508, 1554, 1567, 1575, 1597, 1847, 2099, 2104, 2174]', '15 in 6.3.txt: [232, 238, 259, 275, 446, 456, 471, 522, 526, 530, 551, 553, 613, 625, 840]', '7 in 6.4.txt: [183, 199, 212, 238, 257, 509, 630]', '2 in 6.5.txt: [582, 898]', '31 in 6.6.txt: [152, 160, 282, 327, 337, 343, 351, 355, 366, 380, 391, 411, 428, 441, 471, 483, 501, 543, 560, 875, 886, 895, 1049, 1063, 1129, 1155, 1179, 1186, 1483, 1582, 1602]', '5 in 6.7.txt: [320, 615, 850, 908, 1000]', '5 in 6.8.txt: [64, 239, 294, 731, 743]', '28 in 6.9.txt: [0, 5, 34, 81, 102, 115, 141, 156, 177, 190, 202, 211, 224, 238, 244, 255, 274, 289, 315, 324, 333, 335, 362, 450, 483, 489, 549, 594]', '34 in 7.1.txt: [241, 409, 434, 449, 537, 547, 557, 567, 582, 730, 734, 748, 759, 770, 774, 795, 803, 820, 832, 843, 856, 858, 898, 1209, 1314, 1508, 1554, 1567, 1575, 1597, 1847, 2099, 2104, 2174]', '9 in 7.10.txt: [743, 853, 867, 894, 926, 936, 945, 1064, 1135]', '5 in 7.11.txt: [50, 82, 224, 286, 723]', '23 in 7.12.txt: [1, 6, 78, 98, 190, 202, 234, 241, 290, 302, 404, 458, 553, 601, 611, 635, 679, 726, 771, 783, 831, 883, 934]', '20 in 7.13.txt: [42, 68, 120, 249, 253, 271, 280, 284, 315, 326, 354, 368, 375, 499, 656, 670, 753, 956, 976, 1103]', '9 in 7.14.txt: [47, 258, 273, 307, 498, 508, 574, 624, 649]', '3 in 7.15.txt: [430, 698, 770]', '13 in 7.16.txt: [68, 116, 280, 294, 410, 486, 876, 983, 1194, 1363, 1365, 1382, 1385]', '20 in 7.17.txt: [0, 5, 62, 87, 196, 197, 226, 235, 260, 272, 291, 306, 324, 399, 516, 539, 609, 652, 664, 712]', '4 in 7.18.txt: [99, 404, 622, 626]', '3 in 7.19.txt: [292, 299, 887]', '4 in 7.2.txt: [282, 372, 624, 767]', '10 in 7.20.txt: [129, 263, 349, 386, 398, 422, 451, 596, 824, 894]', '3 in 7.21.txt: [413, 823, 1382]', '1 in 7.22.txt: [50]', '16 in 7.23.txt: [77, 153, 235, 267, 293, 337, 403, 434, 457, 467, 806, 932, 939, 980, 1118, 1127]', '26 in 7.24.txt: [48, 101, 177, 192, 207, 214, 230, 245, 263, 287, 295, 301, 316, 387, 394, 456, 513, 517, 523, 524, 540, 541, 548, 558, 587, 665]', '4 in 7.25.txt: [282, 372, 624, 767]', '9 in 7.3.txt: [47, 122, 224, 270, 272, 290, 307, 616, 645]', '2 in 7.4.txt: [1297, 1317]', '20 in 7.5.txt: [272, 312, 322, 326, 346, 361, 377, 387, 462, 468, 583, 595, 624, 695, 878, 890, 909, 1155, 1438, 1543]', '26 in 7.6.txt: [94, 168, 244, 326, 372, 424, 479, 657, 673, 689, 707, 720, 732, 755, 870, 944, 1024, 1107, 1119, 1277, 1374, 1380, 1409, 1432, 1472, 1529]', '48 in 7.7.txt: [1, 6, 13, 90, 110, 214, 225, 255, 276, 283, 320, 343, 361, 387, 403, 413, 426, 483, 490, 496, 509, 512, 525, 529, 546, 553, 569, 575, 591, 611, 642, 691, 701, 739, 773, 787, 809, 859, 890, 917, 946, 954, 968, 986, 1017, 1051, 1091, 1101]', '27 in 7.8.txt: [17, 91, 128, 152, 176, 191, 203, 213, 222, 233, 241, 278, 340, 353, 369, 402, 408, 421, 432, 442, 450, 465, 514, 735, 744, 758, 964]']\n",
            "After initial processing: hmoer -> hmoer; homer 2014 total occurances: ['17 in 3.1.txt: [14, 125, 309, 335, 346, 357, 374, 380, 390, 415, 573, 581, 591, 721, 1253, 1363, 1773]', '22 in 3.10.txt: [109, 114, 123, 138, 306, 323, 326, 337, 358, 374, 419, 428, 466, 470, 478, 515, 523, 945, 956, 1091, 1131, 1303]', '28 in 3.11.txt: [15, 146, 227, 269, 299, 352, 392, 404, 415, 432, 434, 507, 522, 623, 693, 707, 723, 735, 737, 790, 801, 812, 841, 856, 990, 1015, 1028, 1104]', '36 in 3.12.txt: [11, 139, 297, 308, 323, 333, 341, 357, 360, 389, 414, 426, 444, 463, 466, 483, 485, 500, 522, 525, 534, 549, 573, 589, 595, 683, 710, 720, 744, 757, 789, 804, 836, 997, 1009, 1046]', '8 in 3.13.txt: [199, 252, 352, 357, 368, 547, 634, 670]', '26 in 3.14.txt: [45, 77, 105, 200, 219, 227, 235, 246, 266, 276, 290, 301, 320, 330, 345, 363, 378, 519, 550, 567, 738, 811, 970, 991, 1012, 1045]', '23 in 3.15.txt: [0, 8, 76, 122, 128, 145, 188, 277, 313, 325, 361, 365, 378, 392, 412, 423, 563, 581, 597, 632, 651, 751, 825]', '18 in 3.16.txt: [56, 59, 112, 115, 144, 306, 373, 427, 451, 454, 460, 471, 527, 544, 557, 980, 1008, 1034]', '23 in 3.17.txt: [0, 6, 101, 130, 194, 276, 400, 507, 524, 538, 550, 556, 813, 919, 938, 1044, 1080, 1210, 1282, 1418, 1438, 1480, 1496]', '1 in 3.18.txt: [67]', '11 in 3.19.txt: [50, 59, 76, 255, 277, 594, 688, 811, 964, 1203, 1262]', '5 in 3.2.txt: [45, 271, 312, 940, 1455]', '65 in 3.20.txt: [1, 7, 14, 104, 124, 131, 142, 152, 230, 256, 266, 327, 333, 354, 362, 379, 394, 409, 418, 430, 450, 453, 465, 476, 487, 497, 513, 539, 546, 553, 560, 596, 618, 639, 651, 685, 690, 715, 754, 847, 852, 1125, 1156, 1171, 1223, 1280, 1317, 1326, 1340, 1380, 1424, 1437, 1477, 1491, 1619, 1664, 1673, 1744, 1789, 1808, 1823, 1859, 1866, 1883, 1905]', '4 in 3.21.txt: [87, 287, 335, 866]', '12 in 3.22.txt: [122, 270, 354, 366, 386, 404, 604, 621, 646, 655, 667, 786]', '13 in 3.23.txt: [169, 390, 405, 417, 438, 536, 540, 569, 849, 903, 920, 971, 1008]', '24 in 3.24.txt: [120, 133, 143, 197, 251, 260, 279, 291, 304, 317, 324, 329, 366, 388, 474, 510, 736, 759, 807, 863, 880, 980, 1052, 1173]', '13 in 3.3.txt: [99, 123, 247, 253, 278, 285, 299, 588, 787, 866, 869, 917, 925]', '4 in 3.4.txt: [86, 349, 440, 888]', '30 in 3.5.txt: [0, 6, 87, 108, 123, 183, 210, 246, 266, 277, 283, 295, 317, 328, 334, 347, 350, 362, 370, 382, 570, 578, 685, 760, 811, 863, 902, 1053, 1056, 1079]', '3 in 3.6.txt: [63, 82, 756]', '29 in 3.7.txt: [107, 136, 159, 172, 321, 328, 385, 423, 442, 460, 467, 478, 503, 518, 525, 533, 541, 728, 906, 931, 958, 1039, 1101, 1126, 1141, 1155, 1176, 1189, 1387]', '28 in 3.8.txt: [49, 58, 113, 137, 145, 237, 254, 265, 285, 291, 323, 336, 359, 367, 375, 535, 596, 618, 629, 638, 684, 710, 779, 831, 938, 946, 1057, 1070]', '27 in 3.9.txt: [100, 114, 127, 130, 211, 225, 249, 281, 295, 305, 322, 329, 435, 448, 548, 582, 591, 624, 657, 669, 675, 732, 943, 959, 970, 990, 1023]', '6 in 4.1.txt: [150, 170, 234, 239, 323, 415]', '13 in 4.10.txt: [76, 257, 271, 354, 392, 397, 503, 528, 559, 569, 1163, 1193, 1203]', '27 in 4.11.txt: [0, 8, 81, 104, 115, 157, 193, 202, 217, 228, 296, 306, 355, 360, 371, 424, 440, 456, 475, 493, 517, 535, 548, 558, 566, 583, 612]', '10 in 4.12.txt: [93, 302, 404, 424, 435, 644, 715, 736, 750, 1107]', '9 in 4.13.txt: [161, 249, 284, 326, 347, 440, 514, 546, 689]', '21 in 4.14.txt: [104, 118, 199, 238, 241, 258, 271, 277, 529, 552, 596, 606, 622, 641, 662, 667, 763, 802, 833, 852, 887]', '3 in 4.15.txt: [393, 397, 646]', '13 in 4.16.txt: [107, 245, 258, 282, 297, 302, 339, 440, 450, 521, 536, 549, 630]', '24 in 4.17.txt: [107, 249, 272, 293, 304, 310, 314, 322, 332, 361, 369, 385, 393, 460, 465, 469, 476, 652, 731, 817, 916, 918, 1068, 1096]', '44 in 4.18.txt: [99, 109, 114, 123, 132, 213, 230, 243, 257, 275, 284, 299, 308, 313, 330, 335, 347, 488, 553, 557, 564, 567, 576, 591, 594, 625, 650, 659, 663, 671, 689, 701, 706, 718, 737, 747, 765, 772, 785, 815, 834, 848, 873, 968]', '9 in 4.19.txt: [118, 167, 294, 304, 315, 327, 334, 651, 663]', '22 in 4.2.txt: [79, 122, 258, 291, 324, 396, 400, 409, 414, 420, 447, 465, 473, 489, 496, 525, 559, 581, 837, 1086, 1128, 1622]', '2 in 4.20.txt: [757, 760]', '3 in 4.21.txt: [125, 556, 686]', '5 in 4.22.txt: [94, 166, 256, 590, 1299]', '36 in 4.3.txt: [0, 6, 10, 89, 110, 163, 176, 209, 251, 259, 273, 278, 281, 301, 310, 324, 355, 361, 371, 377, 391, 414, 471, 484, 494, 513, 523, 689, 703, 734, 785, 792, 834, 867, 910, 947]', '12 in 4.4.txt: [52, 80, 113, 213, 252, 260, 397, 409, 416, 423, 454, 509]', '33 in 4.5.txt: [110, 118, 155, 173, 194, 232, 251, 268, 281, 293, 327, 332, 346, 373, 396, 406, 420, 423, 433, 440, 461, 531, 537, 636, 680, 689, 701, 747, 756, 771, 795, 803, 981]', '20 in 4.6.txt: [96, 103, 118, 145, 161, 194, 207, 213, 238, 249, 267, 277, 287, 302, 303, 321, 333, 344, 557, 713]', '7 in 4.7.txt: [64, 181, 187, 198, 245, 250, 456]', '11 in 4.8.txt: [141, 186, 211, 220, 236, 262, 265, 386, 463, 473, 529]', '31 in 4.9.txt: [16, 112, 130, 162, 205, 214, 227, 245, 248, 257, 286, 303, 330, 331, 341, 356, 370, 381, 409, 428, 504, 588, 604, 631, 641, 697, 775, 992, 1058, 1119, 1234]', '42 in 5.1.txt: [0, 8, 16, 112, 139, 180, 185, 239, 298, 302, 318, 341, 373, 395, 398, 409, 448, 458, 479, 503, 552, 570, 575, 615, 653, 938, 967, 981, 1107, 1120, 1215, 1233, 1272, 1314, 1335, 1357, 1378, 1552, 1565, 1590, 1617, 1654]', '17 in 5.10.txt: [88, 90, 138, 267, 283, 376, 384, 407, 416, 433, 545, 691, 773, 801, 851, 910, 978]', '25 in 5.11.txt: [0, 5, 81, 114, 120, 134, 160, 263, 279, 301, 313, 330, 348, 368, 511, 620, 628, 646, 670, 808, 817, 844, 848, 854, 879]', '6 in 5.12.txt: [84, 87, 443, 520, 761, 876]', '31 in 5.13.txt: [0, 5, 84, 105, 130, 222, 230, 245, 266, 278, 319, 339, 346, 362, 374, 387, 527, 535, 695, 778, 784, 797, 891, 958, 980, 1095, 1127, 1181, 1280, 1288, 1292]', '5 in 5.14.txt: [68, 73, 784, 956, 1062]', '48 in 5.15.txt: [2, 8, 100, 110, 131, 231, 244, 251, 259, 276, 298, 301, 315, 323, 352, 374, 393, 424, 443, 461, 474, 484, 495, 498, 526, 549, 553, 639, 648, 676, 753, 763, 790, 801, 811, 829, 838, 843, 883, 886, 909, 941, 962, 1050, 1082, 1119, 1124, 1171]', '35 in 5.16.txt: [0, 6, 67, 77, 102, 114, 200, 213, 218, 233, 238, 243, 275, 279, 314, 327, 339, 347, 364, 374, 415, 428, 542, 592, 607, 625, 699, 721, 759, 862, 888, 892, 939, 956, 983]', '22 in 5.17.txt: [65, 114, 131, 135, 328, 344, 352, 369, 390, 403, 420, 442, 453, 480, 678, 712, 772, 786, 795, 934, 974, 989]', '9 in 5.18.txt: [55, 255, 260, 274, 276, 300, 429, 565, 733]', '2 in 5.19.txt: [67, 416]', '40 in 5.2.txt: [0, 6, 72, 94, 105, 113, 123, 242, 271, 279, 290, 311, 329, 342, 354, 378, 386, 398, 417, 427, 436, 452, 462, 478, 488, 500, 506, 518, 569, 604, 613, 625, 662, 684, 703, 772, 782, 831, 844, 884]', '17 in 5.20.txt: [399, 408, 425, 440, 444, 524, 567, 570, 761, 778, 814, 830, 840, 976, 1017, 1025, 1032]', '5 in 5.21.txt: [242, 285, 312, 568, 914]', '35 in 5.22.txt: [106, 137, 216, 227, 256, 282, 291, 303, 309, 320, 331, 340, 351, 359, 371, 411, 418, 423, 435, 440, 459, 467, 475, 506, 519, 531, 545, 575, 822, 888, 910, 950, 957, 979, 1008]', '34 in 5.3.txt: [241, 409, 434, 449, 537, 547, 557, 567, 582, 730, 734, 748, 759, 770, 774, 795, 803, 820, 832, 843, 856, 858, 898, 1209, 1314, 1508, 1554, 1567, 1575, 1597, 1847, 2099, 2104, 2174]', '12 in 5.4.txt: [13, 60, 278, 373, 397, 417, 434, 458, 460, 739, 829, 917]', '29 in 5.5.txt: [17, 39, 152, 236, 281, 288, 310, 315, 343, 357, 378, 395, 402, 430, 434, 440, 626, 748, 768, 783, 948, 1004, 1237, 1257, 1295, 1312, 1485, 1523, 1576]', '18 in 5.6.txt: [108, 176, 195, 204, 242, 256, 265, 283, 315, 349, 377, 449, 469, 498, 507, 520, 537, 671]', '9 in 5.7.txt: [280, 292, 302, 332, 347, 367, 482, 739, 930]', '19 in 5.8.txt: [84, 123, 219, 274, 285, 297, 306, 326, 345, 355, 399, 406, 654, 662, 746, 800, 882, 940, 953]', '54 in 5.9.txt: [2, 8, 94, 122, 133, 239, 248, 289, 294, 301, 312, 421, 445, 452, 461, 473, 479, 499, 540, 553, 571, 572, 584, 585, 591, 602, 657, 687, 691, 823, 839, 847, 886, 892, 914, 922, 995, 1008, 1035, 1048, 1065, 1085, 1095, 1105, 1128, 1139, 1150, 1174, 1201, 1271, 1284, 1309, 1343, 1497]', '3 in 6.1.txt: [200, 332, 340]', '24 in 6.10.txt: [75, 108, 119, 127, 208, 218, 246, 271, 285, 292, 303, 360, 374, 391, 399, 429, 439, 445, 467, 631, 669, 682, 709, 718]', '13 in 6.11.txt: [92, 224, 248, 298, 337, 405, 520, 598, 638, 662, 673, 682, 904]', '20 in 6.12.txt: [0, 11, 85, 106, 197, 230, 236, 263, 272, 285, 306, 307, 322, 335, 379, 467, 479, 622, 636, 695]', '27 in 6.13.txt: [43, 64, 97, 186, 194, 220, 231, 258, 278, 292, 305, 312, 330, 340, 354, 374, 454, 467, 510, 518, 574, 621, 681, 701, 768, 799, 845]', '3 in 6.14.txt: [203, 225, 238]', '18 in 6.15.txt: [109, 162, 222, 245, 260, 267, 273, 284, 292, 418, 440, 459, 603, 636, 645, 658, 757, 805]', '3 in 6.16.txt: [72, 368, 790]', '37 in 6.17.txt: [0, 7, 81, 104, 159, 180, 197, 213, 220, 282, 300, 311, 326, 337, 353, 369, 376, 446, 601, 608, 628, 635, 649, 664, 681, 694, 706, 719, 724, 744, 751, 758, 766, 803, 823, 835, 875]', '7 in 6.18.txt: [61, 82, 342, 416, 675, 679, 901]', '8 in 6.19.txt: [243, 264, 331, 383, 410, 422, 448, 476]', '9 in 6.2.txt: [130, 384, 395, 432, 448, 456, 476, 621, 688]', '2 in 6.20.txt: [268, 413]', '5 in 6.21.txt: [823, 840, 856, 912, 987]', '3 in 6.22.txt: [69, 312, 969]', '17 in 6.23.txt: [44, 238, 246, 293, 311, 330, 336, 661, 663, 687, 703, 722, 774, 781, 802, 885, 1049]', '4 in 6.24.txt: [258, 384, 406, 538]', '34 in 6.25.txt: [241, 409, 434, 449, 537, 547, 557, 567, 582, 730, 734, 748, 759, 770, 774, 795, 803, 820, 832, 843, 856, 858, 898, 1209, 1314, 1508, 1554, 1567, 1575, 1597, 1847, 2099, 2104, 2174]', '15 in 6.3.txt: [232, 238, 259, 275, 446, 456, 471, 522, 526, 530, 551, 553, 613, 625, 840]', '7 in 6.4.txt: [183, 199, 212, 238, 257, 509, 630]', '2 in 6.5.txt: [582, 898]', '31 in 6.6.txt: [152, 160, 282, 327, 337, 343, 351, 355, 366, 380, 391, 411, 428, 441, 471, 483, 501, 543, 560, 875, 886, 895, 1049, 1063, 1129, 1155, 1179, 1186, 1483, 1582, 1602]', '5 in 6.7.txt: [320, 615, 850, 908, 1000]', '5 in 6.8.txt: [64, 239, 294, 731, 743]', '28 in 6.9.txt: [0, 5, 34, 81, 102, 115, 141, 156, 177, 190, 202, 211, 224, 238, 244, 255, 274, 289, 315, 324, 333, 335, 362, 450, 483, 489, 549, 594]', '34 in 7.1.txt: [241, 409, 434, 449, 537, 547, 557, 567, 582, 730, 734, 748, 759, 770, 774, 795, 803, 820, 832, 843, 856, 858, 898, 1209, 1314, 1508, 1554, 1567, 1575, 1597, 1847, 2099, 2104, 2174]', '9 in 7.10.txt: [743, 853, 867, 894, 926, 936, 945, 1064, 1135]', '5 in 7.11.txt: [50, 82, 224, 286, 723]', '23 in 7.12.txt: [1, 6, 78, 98, 190, 202, 234, 241, 290, 302, 404, 458, 553, 601, 611, 635, 679, 726, 771, 783, 831, 883, 934]', '20 in 7.13.txt: [42, 68, 120, 249, 253, 271, 280, 284, 315, 326, 354, 368, 375, 499, 656, 670, 753, 956, 976, 1103]', '9 in 7.14.txt: [47, 258, 273, 307, 498, 508, 574, 624, 649]', '3 in 7.15.txt: [430, 698, 770]', '13 in 7.16.txt: [68, 116, 280, 294, 410, 486, 876, 983, 1194, 1363, 1365, 1382, 1385]', '20 in 7.17.txt: [0, 5, 62, 87, 196, 197, 226, 235, 260, 272, 291, 306, 324, 399, 516, 539, 609, 652, 664, 712]', '4 in 7.18.txt: [99, 404, 622, 626]', '3 in 7.19.txt: [292, 299, 887]', '4 in 7.2.txt: [282, 372, 624, 767]', '10 in 7.20.txt: [129, 263, 349, 386, 398, 422, 451, 596, 824, 894]', '3 in 7.21.txt: [413, 823, 1382]', '1 in 7.22.txt: [50]', '16 in 7.23.txt: [77, 153, 235, 267, 293, 337, 403, 434, 457, 467, 806, 932, 939, 980, 1118, 1127]', '26 in 7.24.txt: [48, 101, 177, 192, 207, 214, 230, 245, 263, 287, 295, 301, 316, 387, 394, 456, 513, 517, 523, 524, 540, 541, 548, 558, 587, 665]', '4 in 7.25.txt: [282, 372, 624, 767]', '9 in 7.3.txt: [47, 122, 224, 270, 272, 290, 307, 616, 645]', '2 in 7.4.txt: [1297, 1317]', '20 in 7.5.txt: [272, 312, 322, 326, 346, 361, 377, 387, 462, 468, 583, 595, 624, 695, 878, 890, 909, 1155, 1438, 1543]', '26 in 7.6.txt: [94, 168, 244, 326, 372, 424, 479, 657, 673, 689, 707, 720, 732, 755, 870, 944, 1024, 1107, 1119, 1277, 1374, 1380, 1409, 1432, 1472, 1529]', '48 in 7.7.txt: [1, 6, 13, 90, 110, 214, 225, 255, 276, 283, 320, 343, 361, 387, 403, 413, 426, 483, 490, 496, 509, 512, 525, 529, 546, 553, 569, 575, 591, 611, 642, 691, 701, 739, 773, 787, 809, 859, 890, 917, 946, 954, 968, 986, 1017, 1051, 1091, 1101]', '27 in 7.8.txt: [17, 91, 128, 152, 176, 191, 203, 213, 222, 233, 241, 278, 340, 353, 369, 402, 408, 421, 432, 442, 450, 465, 514, 735, 744, 758, 964]']\n"
          ]
        }
      ]
    },
    {
      "cell_type": "markdown",
      "source": [
        "## Test positional indexing"
      ],
      "metadata": {
        "id": "Kms5rGcflhG2"
      }
    },
    {
      "cell_type": "code",
      "source": [
        "index.proximity_search('award', 'winning')"
      ],
      "metadata": {
        "id": "wld3Ax7Kk5K9",
        "colab": {
          "base_uri": "https://localhost:8080/"
        },
        "outputId": "f77ac8fe-d287-431e-fada-06690efe95ea"
      },
      "execution_count": 314,
      "outputs": [
        {
          "output_type": "stream",
          "name": "stdout",
          "text": [
            "After initial processing: award -> award; After initial processing: winning -> win; Appended! abs(480 - 482)= 2\n",
            "Appended! abs(497 - 499)= 2\n",
            "Appended! abs(861 - 862)= 1\n",
            "Appended! abs(870 - 871)= 1\n",
            "Appended! abs(331 - 329)= 2\n",
            "Appended! abs(432 - 434)= 2\n",
            "Appended! abs(443 - 442)= 1\n",
            "Appended! abs(140 - 141)= 1\n",
            "Appended! abs(1101 - 1102)= 1\n",
            "Appended! abs(1671 - 1672)= 1\n"
          ]
        },
        {
          "output_type": "execute_result",
          "data": {
            "text/plain": [
              "{'3.21.txt': [(482, 480), (499, 497)],\n",
              " '3.6.txt': [(862, 861), (871, 870)],\n",
              " '4.19.txt': [(329, 331)],\n",
              " '5.1.txt': [(434, 432)],\n",
              " '5.9.txt': [(442, 443)],\n",
              " '6.19.txt': [(141, 140)],\n",
              " '6.22.txt': [(1102, 1101)],\n",
              " '7.6.txt': [(1672, 1671)]}"
            ]
          },
          "metadata": {},
          "execution_count": 314
        }
      ]
    }
  ],
  "metadata": {
    "kernelspec": {
      "display_name": "Python 3",
      "language": "python",
      "name": "python3"
    },
    "language_info": {
      "codemirror_mode": {
        "name": "ipython",
        "version": 3
      },
      "file_extension": ".py",
      "mimetype": "text/x-python",
      "name": "python",
      "nbconvert_exporter": "python",
      "pygments_lexer": "ipython3",
      "version": "3.8.5"
    },
    "colab": {
      "provenance": [],
      "collapsed_sections": [],
      "include_colab_link": true
    }
  },
  "nbformat": 4,
  "nbformat_minor": 0
}