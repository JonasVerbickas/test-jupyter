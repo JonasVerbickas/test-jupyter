{
  "cells": [
    {
      "cell_type": "markdown",
      "metadata": {
        "id": "view-in-github",
        "colab_type": "text"
      },
      "source": [
        "<a href=\"https://colab.research.google.com/github/JonasVerbickas/test-jupyter/blob/main/NLP_CW.ipynb\" target=\"_parent\"><img src=\"https://colab.research.google.com/assets/colab-badge.svg\" alt=\"Open In Colab\"/></a>"
      ]
    },
    {
      "cell_type": "code",
      "source": [
        "import os\n",
        "import nltk\n",
        "import re\n",
        "import string\n",
        "import unicodedata\n",
        "import time\n",
        "import pandas as pd\n",
        "from matplotlib import pyplot as plt\n",
        "from collections import Counter\n",
        "from collections import UserDict\n",
        "from tqdm import tqdm"
      ],
      "metadata": {
        "id": "BTTGCTeE65K-"
      },
      "execution_count": 183,
      "outputs": []
    },
    {
      "cell_type": "markdown",
      "source": [
        "I'm not sure how you will access the corpus on your side.\n",
        "Personally, I've uploaded it to my Google drive."
      ],
      "metadata": {
        "id": "tF3YIutv5fK1"
      }
    },
    {
      "cell_type": "code",
      "source": [
        "from google.colab import drive\n",
        "drive.mount('/content/drive')"
      ],
      "metadata": {
        "colab": {
          "base_uri": "https://localhost:8080/"
        },
        "id": "A59xTdZA0OzU",
        "outputId": "0be46fce-1bc9-493f-aaf2-1c5aea7791e9"
      },
      "execution_count": 184,
      "outputs": [
        {
          "output_type": "stream",
          "name": "stdout",
          "text": [
            "Drive already mounted at /content/drive; to attempt to forcibly remount, call drive.mount(\"/content/drive\", force_remount=True).\n"
          ]
        }
      ]
    },
    {
      "cell_type": "code",
      "source": [
        "porter = nltk.PorterStemmer()"
      ],
      "metadata": {
        "id": "9Kh-pY5D8H1e"
      },
      "execution_count": 185,
      "outputs": []
    },
    {
      "cell_type": "markdown",
      "source": [
        "# Download additional NLTK resources\n",
        "These are required for tokenization and stop-word removal"
      ],
      "metadata": {
        "id": "tSyqexBZ3npQ"
      }
    },
    {
      "cell_type": "code",
      "source": [
        "nltk.download('punkt')\n",
        "nltk.download('stopwords')\n",
        "# I convert it into a set, because it results in faster `in` look-ups\n",
        "STOP_WORDS = nltk.corpus.stopwords.words('english')\n",
        "# convert to set() for faster `in` checks\n",
        "STOP_WORDS = set(STOP_WORDS)\n",
        "# every single document has `episode` mentioned in it multiple times\n",
        "# it doesn't help to differentiate episodes and should be considered a stop-word\n",
        "STOP_WORDS.add('episode')\n",
        "STOP_WORDS.add('episodes')\n",
        "STOP_WORDS.add('would')\n",
        "STOP_WORDS.remove('won')\n",
        "STOP_WORDS"
      ],
      "metadata": {
        "colab": {
          "base_uri": "https://localhost:8080/"
        },
        "id": "fXosFc5y2vyH",
        "outputId": "05672dc3-51c0-400b-93bd-8091809efe08"
      },
      "execution_count": 186,
      "outputs": [
        {
          "output_type": "stream",
          "name": "stderr",
          "text": [
            "[nltk_data] Downloading package punkt to /root/nltk_data...\n",
            "[nltk_data]   Package punkt is already up-to-date!\n",
            "[nltk_data] Downloading package stopwords to /root/nltk_data...\n",
            "[nltk_data]   Package stopwords is already up-to-date!\n"
          ]
        },
        {
          "output_type": "execute_result",
          "data": {
            "text/plain": [
              "{'a',\n",
              " 'about',\n",
              " 'above',\n",
              " 'after',\n",
              " 'again',\n",
              " 'against',\n",
              " 'ain',\n",
              " 'all',\n",
              " 'am',\n",
              " 'an',\n",
              " 'and',\n",
              " 'any',\n",
              " 'are',\n",
              " 'aren',\n",
              " \"aren't\",\n",
              " 'as',\n",
              " 'at',\n",
              " 'be',\n",
              " 'because',\n",
              " 'been',\n",
              " 'before',\n",
              " 'being',\n",
              " 'below',\n",
              " 'between',\n",
              " 'both',\n",
              " 'but',\n",
              " 'by',\n",
              " 'can',\n",
              " 'couldn',\n",
              " \"couldn't\",\n",
              " 'd',\n",
              " 'did',\n",
              " 'didn',\n",
              " \"didn't\",\n",
              " 'do',\n",
              " 'does',\n",
              " 'doesn',\n",
              " \"doesn't\",\n",
              " 'doing',\n",
              " 'don',\n",
              " \"don't\",\n",
              " 'down',\n",
              " 'during',\n",
              " 'each',\n",
              " 'episode',\n",
              " 'episodes',\n",
              " 'few',\n",
              " 'for',\n",
              " 'from',\n",
              " 'further',\n",
              " 'had',\n",
              " 'hadn',\n",
              " \"hadn't\",\n",
              " 'has',\n",
              " 'hasn',\n",
              " \"hasn't\",\n",
              " 'have',\n",
              " 'haven',\n",
              " \"haven't\",\n",
              " 'having',\n",
              " 'he',\n",
              " 'her',\n",
              " 'here',\n",
              " 'hers',\n",
              " 'herself',\n",
              " 'him',\n",
              " 'himself',\n",
              " 'his',\n",
              " 'how',\n",
              " 'i',\n",
              " 'if',\n",
              " 'in',\n",
              " 'into',\n",
              " 'is',\n",
              " 'isn',\n",
              " \"isn't\",\n",
              " 'it',\n",
              " \"it's\",\n",
              " 'its',\n",
              " 'itself',\n",
              " 'just',\n",
              " 'll',\n",
              " 'm',\n",
              " 'ma',\n",
              " 'me',\n",
              " 'mightn',\n",
              " \"mightn't\",\n",
              " 'more',\n",
              " 'most',\n",
              " 'mustn',\n",
              " \"mustn't\",\n",
              " 'my',\n",
              " 'myself',\n",
              " 'needn',\n",
              " \"needn't\",\n",
              " 'no',\n",
              " 'nor',\n",
              " 'not',\n",
              " 'now',\n",
              " 'o',\n",
              " 'of',\n",
              " 'off',\n",
              " 'on',\n",
              " 'once',\n",
              " 'only',\n",
              " 'or',\n",
              " 'other',\n",
              " 'our',\n",
              " 'ours',\n",
              " 'ourselves',\n",
              " 'out',\n",
              " 'over',\n",
              " 'own',\n",
              " 're',\n",
              " 's',\n",
              " 'same',\n",
              " 'shan',\n",
              " \"shan't\",\n",
              " 'she',\n",
              " \"she's\",\n",
              " 'should',\n",
              " \"should've\",\n",
              " 'shouldn',\n",
              " \"shouldn't\",\n",
              " 'so',\n",
              " 'some',\n",
              " 'such',\n",
              " 't',\n",
              " 'than',\n",
              " 'that',\n",
              " \"that'll\",\n",
              " 'the',\n",
              " 'their',\n",
              " 'theirs',\n",
              " 'them',\n",
              " 'themselves',\n",
              " 'then',\n",
              " 'there',\n",
              " 'these',\n",
              " 'they',\n",
              " 'this',\n",
              " 'those',\n",
              " 'through',\n",
              " 'to',\n",
              " 'too',\n",
              " 'under',\n",
              " 'until',\n",
              " 'up',\n",
              " 've',\n",
              " 'very',\n",
              " 'was',\n",
              " 'wasn',\n",
              " \"wasn't\",\n",
              " 'we',\n",
              " 'were',\n",
              " 'weren',\n",
              " \"weren't\",\n",
              " 'what',\n",
              " 'when',\n",
              " 'where',\n",
              " 'which',\n",
              " 'while',\n",
              " 'who',\n",
              " 'whom',\n",
              " 'why',\n",
              " 'will',\n",
              " 'with',\n",
              " \"won't\",\n",
              " 'would',\n",
              " 'wouldn',\n",
              " \"wouldn't\",\n",
              " 'y',\n",
              " 'you',\n",
              " \"you'd\",\n",
              " \"you'll\",\n",
              " \"you're\",\n",
              " \"you've\",\n",
              " 'your',\n",
              " 'yours',\n",
              " 'yourself',\n",
              " 'yourselves'}"
            ]
          },
          "metadata": {},
          "execution_count": 186
        }
      ]
    },
    {
      "cell_type": "code",
      "source": [
        "spreding_dict = {}"
      ],
      "metadata": {
        "id": "Q-lQT47o8HFX"
      },
      "execution_count": 187,
      "outputs": []
    },
    {
      "cell_type": "markdown",
      "source": [
        "# Implementation"
      ],
      "metadata": {
        "id": "FIZUgB4Qltb9"
      }
    },
    {
      "cell_type": "markdown",
      "source": [
        "\n",
        "## Initialize helper classes\n",
        "I could've coded everything using tuples/lists instead of these helper classes.\n",
        "\n",
        "However, I feel like these make the code more verbose and remove ambiguity that comes from giving positions in a tuple meaning."
      ],
      "metadata": {
        "id": "1aYg16m74cxM"
      }
    },
    {
      "cell_type": "code",
      "source": [
        "class StringWithDocId:\n",
        "  \"\"\"\n",
        "  Used in InvertedIndex.read_data method to create a list of document contents with doc_ids \n",
        "  \"\"\" \n",
        "  def __init__(self, string, doc_id):\n",
        "    self.string = string\n",
        "    self.doc_id = doc_id\n",
        "  \n",
        "  def __str__(self):\n",
        "    return f\"{self.string}: {self.doc_id}\"\n",
        "\n",
        "  def __repr__(self):\n",
        "    return f\"{self.string}: {self.doc_id}\""
      ],
      "metadata": {
        "id": "P_X_2vKt8lbK"
      },
      "execution_count": 188,
      "outputs": []
    },
    {
      "cell_type": "code",
      "source": [
        "class StringWithDocIdAndPosition(StringWithDocId):\n",
        "  \"\"\"\n",
        "  Stores positions as well.\n",
        "  Used to create & sort list of positional terms.\n",
        "  \n",
        "  \"\"\"\n",
        "  def __init__(self, string, doc_id, position):\n",
        "    super().__init__(string, doc_id)\n",
        "    self.position = position\n",
        "  \n",
        "  def __lt__(token_with_doc_A, token_with_doc_B):\n",
        "    if token_with_doc_A.string != token_with_doc_B.string:\n",
        "      return token_with_doc_A.string < token_with_doc_B.string\n",
        "    elif token_with_doc_A.doc_id != token_with_doc_B.doc_id:\n",
        "      return token_with_doc_A.doc_id < token_with_doc_B.doc_id\n",
        "    else:\n",
        "      return token_with_doc_A.position < token_with_doc_B.position"
      ],
      "metadata": {
        "id": "XSBSe0-PxlCV"
      },
      "execution_count": 189,
      "outputs": []
    },
    {
      "cell_type": "code",
      "source": [
        "class Posting(UserDict):\n",
        "  \"\"\"\n",
        "  This stores the positional information for each term in the postional inverted index.\n",
        "  Some methods have been overriden to its objects behave like dictionary.\n",
        "  Keys are all of documents where this term appears;\n",
        "  Values store the positions, where in that document term appears\n",
        "  {docID: [pos1, pos2, ...]}.\n",
        "  \"\"\"\n",
        "  def __init__(self):\n",
        "    super().__init__()\n",
        "    self.posting_dic = {}\n",
        "    self.total_occurances = 0\n",
        "  \n",
        "  def __contains__(self, doc_id):\n",
        "    return doc_id in self.posting_dic\n",
        "  \n",
        "  def __iter__(self):\n",
        "      return iter(self.posting_dic.items())\n",
        "\n",
        "  def __getitem__(self, doc_id):\n",
        "      return self.posting_dic[doc_id]\n",
        "    \n",
        "  def get(self, k, default=None):\n",
        "    return self[k]\n",
        "  \n",
        "  def __len__(self):\n",
        "      return len(self.posting_dic)\n",
        "\n",
        "  def add(self, doc_id, position):\n",
        "    if doc_id in self.posting_dic:\n",
        "      self.posting_dic[doc_id].append(position)\n",
        "    else:\n",
        "      self.posting_dic[doc_id] = [position]\n",
        "    self.total_occurances += 1\n",
        "  \n",
        "  def __str__(self):\n",
        "    return f\"{self.total_occurances} total occurances: {[f'{len(positions)} in {doc_id}: {positions}' for doc_id, positions in self.posting_dic.items()]}\"\n",
        "  \n",
        "  def __repr__(self):\n",
        "    return str(self)"
      ],
      "metadata": {
        "id": "1Ts7G2B6TGRX"
      },
      "execution_count": 190,
      "outputs": []
    },
    {
      "cell_type": "code",
      "source": [
        "def wikipediaPreprocessing(text):\n",
        "  # stop-words and regex only contain lower case versions of words\n",
        "  # therefore tokens must be lowercased in order to match them\n",
        "  # casefold() is a more aggresive version of lower()\n",
        "  # https://docs.python.org/3/library/stdtypes.html#str.casefold\n",
        "  text = text.casefold()\n",
        "  # reduce characters into ascii where meaning is preserved & seprate diacritics into individual characters\n",
        "  text = unicodedata.normalize('NFKD', text)\n",
        "  # remove all non ascii character i.e. separated diacritics\n",
        "  text = text.encode('ASCII', 'ignore').decode('UTF-8')\n",
        "  text = text.replace('[edit]', '')\n",
        "  text = re.sub(r'\\[\\d+\\]', '', text)\n",
        "  # remove table of contents\n",
        "  text = re.sub(r'contents\\s+1\\s+plot.+plot', '', text)\n",
        "  # remove navigational hyperlinks\n",
        "  text = re.sub(r'episode chronology(.|\\n)+list of episodes', '', text)\n",
        "  text = re.sub(r'jump to (navigation|search)', '', text)\n",
        "  # remove other irrelevant wikipedia filler\n",
        "  text = text.replace('from wikipedia, the free encyclopedia', '')\n",
        "  text = text.replace('the simpsons episode', '')\n",
        "  return text"
      ],
      "metadata": {
        "id": "gpJRsN2bk5Iw"
      },
      "execution_count": 191,
      "outputs": []
    },
    {
      "cell_type": "markdown",
      "source": [
        "## Spelling correction!!\n",
        "From P. Norvig's website: https://norvig.com/spell-correct.html."
      ],
      "metadata": {
        "id": "ppA9N4C4LpmA"
      }
    },
    {
      "cell_type": "code",
      "source": [
        "class SpellCorrect:\n",
        "\n",
        "  def __init__(self, posting_dict):\n",
        "    self.total_num_of_words = 0\n",
        "    self.word_freq_dic = {} \n",
        "    for key, val in posting_dict.items():\n",
        "      self.total_num_of_words += val.total_occurances\n",
        "      # I don't store positions here, because in case of spell check only frequencies are needed\n",
        "      self.word_freq_dic[key] = self.total_num_of_words\n",
        "\n",
        "  def _P(self, word): \n",
        "      \"Probability of `word`.\"\n",
        "      if word in self.word_freq_dic:\n",
        "        return self.word_freq_dic[word] / self.total_num_of_words\n",
        "      # If a word doesn't exist within the index\n",
        "      # It's probality is 0 - this is a way to get rid of words that are not real\n",
        "      else:\n",
        "        return 0\n",
        "\n",
        "  def correction(self, word): \n",
        "      \"Most probable spelling correction for word.\"\n",
        "      most_probable_correction = max(self._candidates(word), key=self._P)\n",
        "      # if no correction is possible just return None\n",
        "      if self._P(most_probable_correction) == 0:\n",
        "        return None\n",
        "      else:\n",
        "        return most_probable_correction\n",
        "\n",
        "  def _candidates(self, word): \n",
        "      \"Generate possible spelling corrections for word.\"\n",
        "      return (self._known([word]) or self._known(self._edits1(word)) or self._known(self._edits2(word)) or [word])\n",
        "\n",
        "  def _known(self, words): \n",
        "      \"The subset of `words` that appear in the dictionary of WORDS.\"\n",
        "      return set(w for w in words if w in self.word_freq_dic.keys())\n",
        "\n",
        "  def _edits1(self, word):\n",
        "      \"All edits that are one edit away from `word`.\"\n",
        "      letters    = 'abcdefghijklmnopqrstuvwxyz'\n",
        "      splits     = [(word[:i], word[i:])    for i in range(len(word) + 1)]\n",
        "      deletes    = [L + R[1:]               for L, R in splits if R]\n",
        "      transposes = [L + R[1] + R[0] + R[2:] for L, R in splits if len(R)>1]\n",
        "      replaces   = [L + c + R[1:]           for L, R in splits if R for c in letters]\n",
        "      inserts    = [L + c + R               for L, R in splits for c in letters]\n",
        "      return set(deletes + transposes + replaces + inserts)\n",
        "\n",
        "  def _edits2(self, word): \n",
        "      \"All edits that are two edits away from `word`.\"\n",
        "      return (e2 for e1 in self._edits1(word) for e2 in self._edits1(e1))"
      ],
      "metadata": {
        "id": "qM1dEHFgNIiH"
      },
      "execution_count": 192,
      "outputs": []
    },
    {
      "cell_type": "code",
      "source": [
        "class MultiWordTermSet:\n",
        "  \"\"\"\n",
        "  Used to store multi-word terms;\n",
        "  when prompted finds all matching subsequences that match the stored terms\n",
        "  Currently used for multi-token episode titles, character and location names.\n",
        "  \"\"\"\n",
        "\n",
        "  def __init__(self):\n",
        "    # this will store terms in different sets based on the number of tokens each term has\n",
        "    # key [2] will have a set of processed terms of 2 tokens in length\n",
        "    self.dict_of_sets = dict()\n",
        "\n",
        "  def add(self, processed_tokens):\n",
        "    # anything of size 1, isn't a multi-word term - don't waste space storing it\n",
        "    if len(processed_tokens) > 1:\n",
        "      if len(processed_tokens) not in self.dict_of_sets:\n",
        "        # this is a set because there are some duplicates in the CSV files\n",
        "        self.dict_of_sets[len(processed_tokens)] = set()\n",
        "      self.dict_of_sets[len(processed_tokens)].add(\" \".join(processed_tokens))\n",
        "\n",
        "  def findMatchingSubsequences(self, list_of_processed_tokens: list) -> set:\n",
        "    \"\"\"\n",
        "    Go through list_of_processed_tokens and try to find matching subsequences \n",
        "    Return all found matches\n",
        "    \"\"\"\n",
        "    list_of_processed_tokens = list_of_processed_tokens[:max(self.dict_of_sets.keys())]\n",
        "    matching_subseqs = set()\n",
        "    for i in self.dict_of_sets.keys():\n",
        "      i_joined_tokens = \" \".join(list_of_processed_tokens[:i])\n",
        "      if i_joined_tokens in self.dict_of_sets[i]:\n",
        "        matching_subseqs.add(i_joined_tokens)\n",
        "    return matching_subseqs\n"
      ],
      "metadata": {
        "id": "5n5MJVlTbYlg"
      },
      "execution_count": 193,
      "outputs": []
    },
    {
      "cell_type": "markdown",
      "source": [
        "## The Inverted Index (THE MOST IMPORTANT BIT)"
      ],
      "metadata": {
        "id": "U0qC9x-N40SG"
      }
    },
    {
      "cell_type": "code",
      "execution_count": 194,
      "metadata": {
        "id": "4WtSmBsrzqE7"
      },
      "outputs": [],
      "source": [
        "class InvertedIndex:\n",
        "    \"\"\"\n",
        "    Construct Inverted Index\n",
        "    \"\"\"\n",
        "    def __init__(self):\n",
        "        self.inverted_index: dict = {}\n",
        "        self.csv_terms = MultiWordTermSet() \n",
        "        self.ep_titles = MultiWordTermSet() \n",
        "  \n",
        "    def _appendCSV(self, path: str) -> None:\n",
        "      \"\"\"\n",
        "      Used to fill up csv_terms that are later used to index multi-word terms within the corpus\n",
        "      1)opens a csv in the given path\n",
        "      2)processes each term, so that it matches the tokenized corpus\n",
        "      3)and appends to csv_terms set\"\"\"\n",
        "      df = pd.read_csv(path)\n",
        "      set_of_csv_entries = df['name']\n",
        "      for term in set_of_csv_entries:\n",
        "        # there is a bunch of numbered entries (~500) like \"Relative #1\" and \"Relative #2\"\n",
        "        # these should be considered to be the same entry,\n",
        "        # because characters aren't numbered like this in the corpus\n",
        "        term = re.sub(r'#\\d+', '', term)\n",
        "        processed_tokens = self.processListOfTokens(self.process_document(term))\n",
        "        self.csv_terms.add(processed_tokens)\n",
        "    \n",
        "    def _appendTitle(self, text):\n",
        "      \"\"\"This will extract the title (first line) from the given text, process it\n",
        "      lastly append it to list of known titles\"\"\"\n",
        "      unprocessed_ep_title = text.strip().split('\\n')[0]\n",
        "      processed_tokens = self.processListOfTokens(self.process_document(unprocessed_ep_title))\n",
        "      self.ep_titles.add(processed_tokens)\n",
        "\n",
        "    def read_data(self, path: str) -> list:\n",
        "        \"\"\"\n",
        "        Read files from a directory and then append the data of each file into a list.\n",
        "        \"\"\"\n",
        "        document_content_list = []\n",
        "        # go through all of the files in the given directory\n",
        "        for file in tqdm(os.listdir(path)):\n",
        "          file_ext = os.path.splitext(file)[1].lower()\n",
        "          filename_with_path = os.path.join(path, file)\n",
        "          # if it's a txt file - append its contents to the output list\n",
        "          if file_ext == '.txt':\n",
        "            with open(filename_with_path, 'r') as f:\n",
        "              text = f.read()\n",
        "              document_content_list.append(StringWithDocId(text, file))\n",
        "              # extract the title and use it as a multi-token indexing\n",
        "              self._appendTitle(text)\n",
        "          # if it's a csv file - assume it's a character/location list and use it for multi-token indexing\n",
        "          elif file_ext == '.csv':\n",
        "            self._appendCSV(filename_with_path)\n",
        "          else:\n",
        "            print(filename_with_path, \" doesn't have the required file extension 'txt' or 'csv' - it will be skipped\")\n",
        "        print(\"Number of documents within the corpus:\", len(document_content_list)) \n",
        "        return document_content_list\n",
        "      \n",
        "    def processListOfTokens(self, tokenized: list) -> list:\n",
        "      \"\"\"\n",
        "      in a given list of tokens: removes stop-words, punctuation and stems the words.\n",
        "      \"\"\"\n",
        "      output = []\n",
        "      for token in tokenized:\n",
        "        # ignore tokens that don't have words/numbers in them i.e. punctuation only\n",
        "        if not re.search('\\w', token):\n",
        "          continue\n",
        "        # delete hyphens\n",
        "        token = token.replace('-', '')\n",
        "        # ignore stop-words\n",
        "        if token in STOP_WORDS:\n",
        "          continue\n",
        "        # apply stemming\n",
        "        stemmed = porter.stem(token)\n",
        "        output.append(stemmed)\n",
        "      return output\n",
        "\n",
        "    def process_document(self, document: str) -> list:\n",
        "        \"\"\"\n",
        "        pre-process a document and return a list of its terms\n",
        "        str->list\"\"\"\n",
        "        # Wikipedia hyperlinks should be removed\n",
        "        text = wikipediaPreprocessing(document)\n",
        "        tokenized = nltk.tokenize.word_tokenize(text)\n",
        "        # remove stop-words & apply stemming\n",
        "        filtered_tokens = self.processListOfTokens(tokenized)\n",
        "        return filtered_tokens\n",
        "\n",
        "    def _findMultiWordTerms(self, processed_token_subseq: list):\n",
        "      \"\"\"\n",
        "      This method tries to find all known multi-token subsections; starting from index [0] of the given processed_substring\n",
        "      \"\"\"        \n",
        "      csv_subseqs = self.csv_terms.findMatchingSubsequences(processed_token_subseq)\n",
        "      title_subseqs = self.ep_titles.findMatchingSubsequences(processed_token_subseq)\n",
        "      return csv_subseqs.union(title_subseqs)\n",
        "    \n",
        "    def index_corpus(self, documents: list) -> None:\n",
        "        \"\"\"\n",
        "        index given documents\n",
        "        list->None\"\"\"\n",
        "        starting_time = time.perf_counter()\n",
        "        token_list = []\n",
        "\n",
        "        # 1. Generate token sequence\n",
        "        for doc in documents:\n",
        "          curr_doc_id = doc.doc_id\n",
        "          tokenized_doc = self.process_document(doc.string)\n",
        "          for i, token in enumerate(tokenized_doc):\n",
        "            matching_subseqs = self._findMultiWordTerms(tokenized_doc[i:])\n",
        "            # append all multi-word matches\n",
        "            for match in matching_subseqs:\n",
        "              match_with_doc_id_and_pos = StringWithDocIdAndPosition(match, curr_doc_id, i)\n",
        "              token_list.append(match_with_doc_id_and_pos)\n",
        "            # append current word\n",
        "            token_with_doc_id_and_pos = StringWithDocIdAndPosition(token, curr_doc_id, i)\n",
        "            token_list.append(token_with_doc_id_and_pos)\n",
        "        # 2. Sort\n",
        "        sorted_token_list = sorted(token_list)\n",
        "        # 3. Convert into dictionary of postings\n",
        "        for i, token in enumerate(tqdm(sorted_token_list)):\n",
        "          if token.string not in self.inverted_index:\n",
        "            self.inverted_index[token.string] = Posting()\n",
        "          self.inverted_index[token.string].add(token.doc_id, token.position)\n",
        "\n",
        "        # Initialize spell-correct\n",
        "        self.spell_correct = SpellCorrect(self.inverted_index)\n",
        "        # Print out some details about the dataset\n",
        "        total_time_taken = round(time.perf_counter() - starting_time, 4)\n",
        "        print(f\"It took: {total_time_taken} seconds to index the whole corpus.\")\n",
        "        print(f\"It has {len(self.inverted_index)} entries in total.\")\n",
        "\n",
        "    def _processQuery(self, q: str) -> str:\n",
        "        query_as_list_of_processed_tokens = self.processListOfTokens(self.process_document(q))\n",
        "        # if query is a stop-word it will return None\n",
        "        if len(query_as_list_of_processed_tokens) == 0:\n",
        "          print(f\"Query '{q}' a stop-word\")\n",
        "          return None\n",
        "        # join a processed multi-word query\n",
        "        term = \" \".join(query_as_list_of_processed_tokens)\n",
        "        print(f\"{q} -> {term}\", end=\"; \")\n",
        "        if term in self.inverted_index:\n",
        "          return term\n",
        "        # attempt spell-correct\n",
        "        else:\n",
        "          most_probable_correction = self.spell_correct.correction(term)\n",
        "          if most_probable_correction == None:\n",
        "            print(\"No viable spelling fix was found\")\n",
        "          return most_probable_correction\n",
        "      \n",
        "    def dump(self, path: str) -> None:\n",
        "        \"\"\"\n",
        "        provide a dump function to show index entries for a given set of terms        \n",
        "        \"\"\"\n",
        "        print(\"passed_in_query -> query_after_processing: [list_of_occurances]\")\n",
        "        if os.path.exists(path) == False:\n",
        "          print(\"Path to file you provided doesn't exist\")\n",
        "          return\n",
        "        with open(path, 'r') as f:\n",
        "          file_contents = f.read()\n",
        "          examples = file_contents.split('\\n')\n",
        "          for query in examples:\n",
        "            processed_query = self._processQuery(query)\n",
        "            # if even after spell-correction no matching terms are found processed query will be None\n",
        "            if processed_query is not None:\n",
        "              print(processed_query, self.inverted_index[processed_query])\n",
        "     \n",
        "    def proximity_search(self, term1: str, term2: str, window_size: int = 3) -> dict:\n",
        "        \"\"\"\n",
        "        1) check whether given two terms appear within a window\n",
        "        2) calculate the number of their co-existance in a document\n",
        "        3) add the document id and the number of matches into a dict\n",
        "        return the dict\"\"\"\n",
        "        term1 = self._processQuery(term1)\n",
        "        if term1 is None:\n",
        "          print(\"Cannot find an entry in Inverted Index for\", term1)\n",
        "          return\n",
        "        term2 = self._processQuery(term2)\n",
        "        if term2 is None:\n",
        "          print(\"Cannot find an entry in Inverted Index for\", term2)\n",
        "          return\n",
        "        documents_containing_both_terms = {}\n",
        "        # i'm aware that this is usually implemented using `while` loops\n",
        "        # however in python I can do it using for loops\n",
        "        for term1_doc_id, term1_positions in self.inverted_index[term1]:\n",
        "          # if both terms can be found in the same document\n",
        "          if term1_doc_id in self.inverted_index[term2]:\n",
        "            for term1_position in term1_positions:\n",
        "              for term2_position in self.inverted_index[term2][term1_doc_id]:\n",
        "                if abs(term2_position - term1_position) <= window_size:\n",
        "                  if term1_doc_id not in documents_containing_both_terms:\n",
        "                    documents_containing_both_terms[term1_doc_id] = []\n",
        "                  documents_containing_both_terms[term1_doc_id].append((term1_position, term2_position))\n",
        "                # if term2 has passed the window of term1, move on to another term1 position\n",
        "                elif term2_position - term1_position > window_size:\n",
        "                  break\n",
        "        return documents_containing_both_terms"
      ]
    },
    {
      "cell_type": "markdown",
      "source": [
        "# Testing my implementation"
      ],
      "metadata": {
        "id": "oFcrQZ0nJMeF"
      }
    },
    {
      "cell_type": "code",
      "execution_count": 195,
      "metadata": {
        "id": "3n4tuVF-zqE9",
        "colab": {
          "base_uri": "https://localhost:8080/"
        },
        "outputId": "d5ed1630-860e-449c-d208-c6f33e5e703f"
      },
      "outputs": [
        {
          "output_type": "stream",
          "name": "stderr",
          "text": [
            "100%|██████████| 120/120 [00:02<00:00, 45.42it/s]\n"
          ]
        },
        {
          "output_type": "stream",
          "name": "stdout",
          "text": [
            "Number of documents within the corpus: 118\n"
          ]
        },
        {
          "output_type": "stream",
          "name": "stderr",
          "text": [
            "100%|██████████| 130194/130194 [00:00<00:00, 350279.78it/s]"
          ]
        },
        {
          "output_type": "stream",
          "name": "stdout",
          "text": [
            "It took: 7.9272 seconds to index the whole corpus.\n",
            "It has 11480 entries in total.\n"
          ]
        },
        {
          "output_type": "stream",
          "name": "stderr",
          "text": [
            "\n"
          ]
        }
      ],
      "source": [
        "def main():\n",
        "    \"main call function\"\n",
        "    index = InvertedIndex() # initilaise the index\n",
        "    corpus = index.read_data('/content/drive/MyDrive/Colab Notebooks/Simpsons2022') # specify the directory path in which files are located\n",
        "    index.index_corpus(corpus) # index documents/corpus\n",
        "    return index\n",
        "index = main()"
      ]
    },
    {
      "cell_type": "markdown",
      "source": [
        "## Test `dump` method using `.txt` provided on BlackBoard"
      ],
      "metadata": {
        "id": "_fvVChQ0l0NZ"
      }
    },
    {
      "cell_type": "code",
      "source": [
        "index.dump(\"/content/drive/MyDrive/Colab Notebooks/26957722.txt\")"
      ],
      "metadata": {
        "id": "G94h70akKT-Q",
        "colab": {
          "base_uri": "https://localhost:8080/"
        },
        "outputId": "9c7cf099-4f32-4892-d164-d5959c6ce855"
      },
      "execution_count": 196,
      "outputs": [
        {
          "output_type": "stream",
          "name": "stdout",
          "text": [
            "passed_in_query -> query_after_processing: [list_of_occurances]\n",
            "Bart -> bart; bart 1231 total occurances: ['17 in 3.1.txt: [117, 287, 318, 368, 391, 396, 410, 424, 573, 583, 845, 848, 1073, 1094, 1200, 1733, 1765]', '4 in 3.10.txt: [924, 1095, 1220, 1298]', '4 in 3.11.txt: [418, 609, 707, 735]', '12 in 3.12.txt: [115, 122, 184, 213, 220, 266, 271, 482, 485, 504, 557, 654]', '30 in 3.13.txt: [1, 3, 49, 67, 91, 102, 132, 187, 191, 201, 228, 276, 289, 295, 307, 313, 337, 350, 366, 605, 683, 705, 766, 801, 870, 874, 907, 924, 1090, 1100]', '2 in 3.14.txt: [365, 385]', '9 in 3.15.txt: [91, 119, 278, 303, 393, 523, 547, 560, 701]', '29 in 3.16.txt: [0, 2, 45, 64, 77, 110, 141, 209, 222, 234, 265, 286, 302, 315, 326, 335, 382, 464, 475, 483, 587, 608, 670, 692, 781, 880, 934, 954, 1014]', '1 in 3.17.txt: [998]', '25 in 3.18.txt: [26, 40, 96, 126, 211, 231, 240, 272, 276, 289, 359, 368, 408, 448, 480, 593, 620, 651, 670, 808, 841, 913, 938, 948, 963]', '9 in 3.19.txt: [124, 230, 254, 341, 359, 370, 770, 787, 1266]', '3 in 3.2.txt: [281, 535, 786]', '3 in 3.20.txt: [289, 959, 1680]', '17 in 3.21.txt: [114, 121, 127, 131, 201, 243, 246, 300, 335, 361, 378, 389, 477, 566, 646, 793, 820]', '6 in 3.22.txt: [86, 215, 232, 247, 328, 338]', '26 in 3.23.txt: [0, 5, 10, 78, 101, 120, 129, 177, 230, 237, 262, 271, 284, 296, 321, 326, 329, 341, 476, 493, 514, 515, 524, 532, 579, 704]', '2 in 3.24.txt: [270, 351]', '10 in 3.3.txt: [110, 298, 321, 351, 359, 585, 802, 806, 836, 891]', '34 in 3.4.txt: [0, 2, 42, 71, 90, 104, 112, 197, 224, 243, 257, 282, 293, 299, 314, 326, 332, 377, 390, 411, 595, 598, 606, 622, 640, 669, 682, 700, 720, 759, 802, 865, 888, 941]', '17 in 3.5.txt: [37, 112, 357, 370, 380, 396, 401, 406, 453, 494, 804, 827, 839, 854, 866, 868, 875]', '14 in 3.6.txt: [48, 106, 233, 244, 260, 355, 391, 411, 433, 459, 621, 771, 894, 929]', '21 in 3.7.txt: [79, 125, 284, 299, 317, 364, 389, 394, 410, 417, 426, 436, 818, 837, 996, 1003, 1011, 1044, 1045, 1200, 1225]', '1 in 3.8.txt: [327]', '21 in 3.9.txt: [78, 83, 92, 111, 200, 208, 224, 248, 256, 264, 273, 285, 303, 318, 363, 371, 439, 459, 471, 637, 697]', '13 in 4.1.txt: [111, 125, 137, 144, 153, 162, 230, 262, 275, 280, 290, 391, 627]', '22 in 4.10.txt: [12, 14, 230, 320, 334, 340, 350, 356, 359, 471, 483, 524, 532, 543, 1088, 1102, 1116, 1126, 1157, 1168, 1185, 1259]', '3 in 4.11.txt: [335, 478, 534]', '1 in 4.12.txt: [372]', '9 in 4.13.txt: [99, 136, 225, 261, 271, 286, 316, 517, 550]', '16 in 4.14.txt: [84, 175, 186, 197, 246, 359, 393, 561, 569, 583, 594, 610, 632, 645, 743, 745]', '6 in 4.15.txt: [342, 689, 768, 879, 935, 986]', '10 in 4.16.txt: [94, 149, 174, 184, 215, 335, 409, 429, 529, 546]', '18 in 4.18.txt: [80, 83, 190, 195, 261, 275, 297, 452, 512, 609, 669, 671, 677, 683, 688, 700, 724, 806]', '11 in 4.19.txt: [70, 128, 175, 184, 194, 249, 251, 408, 554, 581, 731]', '3 in 4.2.txt: [229, 1041, 1596]', '8 in 4.20.txt: [88, 173, 185, 215, 218, 263, 334, 363]', '3 in 4.21.txt: [340, 518, 924]', '7 in 4.22.txt: [120, 227, 351, 359, 378, 413, 1413]', '1 in 4.4.txt: [45]', '11 in 4.5.txt: [86, 96, 183, 206, 227, 442, 463, 475, 532, 677, 817]', '19 in 4.6.txt: [67, 84, 130, 142, 156, 173, 176, 193, 201, 225, 233, 236, 243, 266, 273, 283, 292, 311, 676]', '18 in 4.7.txt: [113, 241, 251, 257, 275, 329, 339, 343, 352, 460, 469, 548, 648, 659, 691, 700, 739, 752]', '7 in 4.8.txt: [102, 170, 191, 253, 260, 276, 321]', '1 in 4.9.txt: [795]', '4 in 5.1.txt: [147, 264, 1040, 1359]', '2 in 5.10.txt: [121, 273]', '4 in 5.11.txt: [211, 497, 672, 819]', '37 in 5.12.txt: [0, 3, 6, 14, 72, 92, 111, 174, 213, 223, 232, 241, 247, 261, 281, 286, 296, 305, 333, 345, 359, 399, 416, 492, 526, 576, 656, 672, 681, 699, 712, 725, 785, 797, 814, 832, 858]', '1 in 5.13.txt: [500]', '1 in 5.14.txt: [875]', '4 in 5.15.txt: [666, 760, 778, 808]', '2 in 5.16.txt: [521, 918]', '22 in 5.17.txt: [0, 3, 54, 74, 96, 196, 213, 222, 236, 255, 275, 286, 323, 377, 395, 431, 541, 549, 613, 683, 928, 971]', '21 in 5.18.txt: [43, 92, 100, 111, 211, 220, 249, 253, 260, 278, 283, 296, 303, 322, 345, 354, 372, 410, 418, 435, 665]', '19 in 5.19.txt: [109, 208, 217, 271, 298, 354, 363, 376, 380, 428, 446, 457, 468, 504, 555, 647, 710, 828, 854]', '3 in 5.2.txt: [332, 456, 751]', '26 in 5.20.txt: [93, 100, 204, 217, 251, 265, 269, 304, 336, 346, 358, 422, 424, 443, 469, 479, 525, 570, 574, 584, 619, 644, 705, 870, 919, 927]', '8 in 5.21.txt: [249, 269, 286, 312, 706, 731, 834, 875]', '5 in 5.22.txt: [283, 290, 298, 395, 420]', '4 in 5.3.txt: [340, 395, 911, 1427]', '1 in 5.4.txt: [326]', '31 in 5.5.txt: [44, 134, 216, 241, 444, 464, 490, 505, 513, 541, 551, 570, 573, 579, 642, 669, 691, 705, 715, 722, 845, 1017, 1069, 1114, 1168, 1182, 1330, 1338, 1447, 1478, 1582]', '1 in 5.6.txt: [221]', '19 in 5.7.txt: [0, 4, 63, 99, 106, 116, 132, 213, 258, 287, 317, 362, 366, 378, 389, 395, 445, 473, 911]', '15 in 5.8.txt: [86, 98, 185, 211, 223, 254, 270, 322, 338, 466, 537, 567, 760, 878, 898]', '10 in 5.9.txt: [44, 113, 302, 312, 328, 340, 370, 379, 671, 1303]', '25 in 6.1.txt: [0, 2, 54, 73, 131, 161, 170, 196, 209, 218, 246, 274, 286, 353, 380, 412, 416, 436, 469, 474, 631, 727, 754, 800, 924]', '6 in 6.10.txt: [42, 297, 337, 340, 477, 487]', '1 in 6.12.txt: [296]', '1 in 6.13.txt: [337]', '9 in 6.14.txt: [0, 3, 49, 69, 95, 134, 151, 625, 637]', '33 in 6.16.txt: [0, 3, 58, 78, 85, 104, 141, 159, 182, 194, 204, 223, 240, 243, 264, 272, 285, 293, 304, 324, 331, 341, 367, 371, 396, 516, 605, 636, 682, 752, 817, 842, 1085]', '11 in 6.17.txt: [91, 123, 354, 370, 383, 394, 403, 436, 481, 538, 790]', '6 in 6.18.txt: [614, 616, 625, 638, 646, 780]', '5 in 6.19.txt: [192, 439, 477, 487, 514]', '4 in 6.2.txt: [278, 459, 481, 822]', '6 in 6.20.txt: [271, 294, 317, 337, 348, 582]', '11 in 6.21.txt: [83, 207, 248, 323, 337, 370, 624, 656, 733, 753, 758]', '18 in 6.22.txt: [94, 107, 263, 277, 288, 301, 318, 340, 395, 402, 410, 446, 463, 476, 764, 924, 933, 1147]', '2 in 6.23.txt: [311, 707]', '8 in 6.24.txt: [148, 198, 210, 247, 289, 350, 422, 440]', '4 in 6.25.txt: [340, 395, 911, 1427]', '4 in 6.3.txt: [433, 440, 519, 584]', '8 in 6.4.txt: [111, 127, 158, 165, 185, 211, 537, 648]', '8 in 6.5.txt: [102, 214, 237, 278, 294, 325, 362, 390]', '10 in 6.6.txt: [250, 288, 366, 463, 587, 604, 613, 634, 639, 679]', '43 in 6.7.txt: [0, 3, 65, 89, 96, 117, 136, 194, 206, 218, 228, 234, 247, 256, 278, 284, 295, 303, 340, 345, 359, 373, 389, 466, 483, 509, 586, 613, 684, 698, 723, 727, 748, 797, 810, 832, 848, 876, 904, 958, 968, 972, 995]', '12 in 6.8.txt: [75, 166, 176, 218, 232, 239, 249, 362, 458, 493, 595, 707]', '2 in 6.9.txt: [124, 449]', '4 in 7.1.txt: [340, 395, 911, 1427]', '3 in 7.10.txt: [840, 844, 871]', '24 in 7.11.txt: [87, 96, 155, 176, 189, 210, 221, 239, 251, 263, 273, 282, 298, 310, 321, 334, 347, 527, 544, 629, 643, 655, 711, 765]', '5 in 7.12.txt: [95, 279, 301, 649, 655]', '16 in 7.13.txt: [28, 101, 193, 194, 213, 225, 243, 258, 289, 306, 471, 484, 861, 889, 908, 1049]', '20 in 7.15.txt: [0, 5, 63, 82, 100, 172, 180, 193, 206, 214, 263, 268, 288, 320, 598, 625, 656, 680, 731, 744]', '25 in 7.18.txt: [17, 142, 150, 191, 276, 283, 298, 322, 337, 353, 373, 386, 397, 429, 457, 506, 524, 584, 670, 692, 703, 815, 1158, 1306, 1338]', '12 in 7.2.txt: [92, 94, 198, 211, 282, 293, 311, 323, 328, 357, 772, 780]', '24 in 7.20.txt: [0, 18, 61, 80, 101, 222, 235, 258, 310, 328, 351, 362, 366, 385, 395, 408, 451, 496, 633, 636, 726, 802, 815, 836]', '4 in 7.21.txt: [266, 274, 298, 500]', '14 in 7.22.txt: [147, 150, 231, 283, 336, 346, 378, 389, 405, 428, 458, 467, 477, 807]', '1 in 7.23.txt: [62]', '2 in 7.24.txt: [181, 254]', '12 in 7.25.txt: [92, 94, 198, 211, 282, 293, 311, 323, 328, 357, 772, 780]', '9 in 7.3.txt: [41, 178, 217, 230, 278, 460, 519, 596, 633]', '47 in 7.4.txt: [0, 3, 6, 57, 77, 101, 188, 233, 241, 242, 261, 267, 273, 303, 312, 327, 336, 347, 352, 363, 419, 605, 661, 692, 740, 763, 808, 838, 849, 867, 870, 882, 920, 949, 960, 972, 985, 991, 1075, 1114, 1136, 1195, 1255, 1263, 1270, 1280, 1290]', '2 in 7.5.txt: [241, 317]', '16 in 7.6.txt: [463, 501, 531, 540, 548, 557, 574, 634, 695, 703, 709, 1041, 1045, 1051, 1065, 1301]', '3 in 7.7.txt: [222, 644, 935]', '1 in 7.8.txt: [238]', '6 in 7.9.txt: [104, 290, 363, 374, 389, 404]']\n",
            "first -> first; first 344 total occurances: ['7 in 3.1.txt: [83, 91, 902, 924, 1475, 1707, 1857]', '7 in 3.10.txt: [74, 129, 208, 578, 708, 1211, 1398]', '2 in 3.11.txt: [99, 263]', '4 in 3.12.txt: [177, 192, 781, 788]', '2 in 3.13.txt: [200, 413]', '2 in 3.15.txt: [617, 693]', '3 in 3.16.txt: [55, 112, 490]', '5 in 3.17.txt: [194, 514, 602, 1054, 1232]', '3 in 3.18.txt: [326, 354, 585]', '3 in 3.19.txt: [44, 922, 956]', '5 in 3.2.txt: [117, 423, 475, 696, 1265]', '6 in 3.20.txt: [533, 763, 801, 885, 1598, 1656]', '2 in 3.21.txt: [524, 533]', '6 in 3.22.txt: [77, 131, 146, 416, 429, 455]', '2 in 3.3.txt: [406, 449]', '6 in 3.4.txt: [123, 225, 448, 575, 893, 925]', '9 in 3.5.txt: [146, 434, 462, 487, 509, 524, 532, 584, 663]', '2 in 3.6.txt: [127, 574]', '7 in 3.7.txt: [59, 88, 191, 313, 573, 1193, 1246]', '6 in 3.8.txt: [43, 150, 217, 519, 614, 734]', '1 in 3.9.txt: [322]', '5 in 4.1.txt: [51, 361, 459, 466, 639]', '22 in 4.10.txt: [2, 6, 10, 63, 73, 90, 98, 106, 164, 221, 348, 390, 394, 411, 548, 749, 916, 998, 1013, 1055, 1161, 1223]', '6 in 4.12.txt: [173, 467, 481, 715, 843, 1151]', '3 in 4.14.txt: [70, 603, 849]', '2 in 4.15.txt: [426, 443]', '4 in 4.16.txt: [99, 355, 400, 427]', '2 in 4.17.txt: [627, 969]', '5 in 4.18.txt: [118, 123, 384, 496, 500]', '2 in 4.19.txt: [224, 550]', '2 in 4.2.txt: [75, 526]', '3 in 4.20.txt: [129, 443, 541]', '3 in 4.21.txt: [361, 371, 477]', '3 in 4.22.txt: [91, 737, 743]', '5 in 4.3.txt: [454, 460, 467, 488, 814]', '3 in 4.4.txt: [42, 79, 313]', '3 in 4.6.txt: [343, 393, 440]', '2 in 4.8.txt: [173, 443]', '1 in 4.9.txt: [1004]', '5 in 5.1.txt: [93, 330, 388, 534, 975]', '3 in 5.10.txt: [467, 604, 618]', '6 in 5.12.txt: [124, 306, 448, 579, 637, 867]', '5 in 5.13.txt: [316, 420, 490, 511, 955]', '4 in 5.15.txt: [95, 271, 548, 553]', '1 in 5.17.txt: [131]', '2 in 5.18.txt: [388, 452]', '4 in 5.19.txt: [566, 585, 643, 928]', '2 in 5.2.txt: [762, 834]', '1 in 5.21.txt: [603]', '2 in 5.22.txt: [211, 216]', '4 in 5.3.txt: [1098, 1505, 1838, 2256]', '4 in 5.4.txt: [57, 99, 500, 547]', '6 in 5.5.txt: [336, 744, 907, 915, 1054, 1238]', '1 in 5.7.txt: [139]', '1 in 5.8.txt: [844]', '3 in 5.9.txt: [311, 314, 949]', '3 in 6.1.txt: [56, 255, 775]', '1 in 6.10.txt: [76]', '1 in 6.11.txt: [86]', '1 in 6.12.txt: [482]', '3 in 6.13.txt: [95, 363, 408]', '2 in 6.14.txt: [352, 425]', '2 in 6.15.txt: [429, 560]', '1 in 6.16.txt: [924]', '1 in 6.17.txt: [421]', '4 in 6.18.txt: [81, 192, 528, 999]', '2 in 6.19.txt: [483, 777]', '3 in 6.2.txt: [123, 469, 543]', '2 in 6.20.txt: [481, 500]', '1 in 6.21.txt: [35]', '6 in 6.22.txt: [159, 190, 573, 647, 717, 761]', '1 in 6.23.txt: [248]', '2 in 6.24.txt: [25, 595]', '4 in 6.25.txt: [1098, 1505, 1838, 2256]', '2 in 6.3.txt: [387, 757]', '1 in 6.4.txt: [65]', '3 in 6.5.txt: [158, 523, 646]', '9 in 6.6.txt: [162, 480, 581, 784, 850, 860, 955, 1059, 1369]', '2 in 6.7.txt: [460, 588]', '3 in 6.8.txt: [59, 315, 354]', '1 in 6.9.txt: [570]', '4 in 7.1.txt: [1098, 1505, 1838, 2256]', '2 in 7.10.txt: [68, 469]', '3 in 7.11.txt: [432, 437, 452]', '1 in 7.12.txt: [441]', '2 in 7.13.txt: [714, 730]', '4 in 7.14.txt: [106, 312, 327, 388]', '1 in 7.15.txt: [501]', '3 in 7.16.txt: [121, 681, 1041]', '1 in 7.17.txt: [426]', '6 in 7.18.txt: [729, 982, 1033, 1041, 1056, 1267]', '2 in 7.19.txt: [436, 812]', '3 in 7.20.txt: [344, 534, 691]', '3 in 7.21.txt: [671, 680, 848]', '1 in 7.23.txt: [605]', '3 in 7.3.txt: [120, 297, 585]', '3 in 7.4.txt: [68, 496, 585]', '4 in 7.5.txt: [103, 456, 468, 542]', '9 in 7.6.txt: [94, 185, 221, 490, 760, 801, 908, 1126, 1171]', '2 in 7.7.txt: [405, 440]', '3 in 7.8.txt: [89, 115, 122]', '3 in 7.9.txt: [136, 468, 508]']\n",
            "image -> imag; imag 21 total occurances: ['4 in 3.16.txt: [163, 630, 651, 1094]', '1 in 3.18.txt: [755]', '1 in 3.24.txt: [820]', '2 in 3.7.txt: [864, 1142]', '1 in 3.9.txt: [761]', '1 in 4.15.txt: [9]', '1 in 5.12.txt: [12]', '1 in 5.13.txt: [1183]', '1 in 5.4.txt: [5]', '2 in 7.18.txt: [7, 254]', '1 in 7.2.txt: [222]', '1 in 7.21.txt: [1492]', '1 in 7.25.txt: [222]', '1 in 7.5.txt: [1385]', '2 in 7.6.txt: [213, 1014]']\n",
            "montage -> montag; montag 20 total occurances: ['1 in 3.16.txt: [513]', '1 in 3.21.txt: [734]', '3 in 4.18.txt: [328, 373, 704]', '1 in 4.4.txt: [524]', '3 in 6.3.txt: [465, 472, 575]', '9 in 7.10.txt: [55, 266, 424, 675, 782, 874, 881, 889, 913]', '2 in 7.3.txt: [396, 402]']\n",
            "well -> well; well 146 total occurances: ['3 in 3.1.txt: [1241, 1432, 1689]', '2 in 3.10.txt: [226, 1376]', '13 in 3.13.txt: [80, 233, 246, 252, 273, 310, 360, 452, 628, 665, 685, 1007, 1037]', '1 in 3.14.txt: [926]', '2 in 3.15.txt: [143, 428]', '3 in 3.16.txt: [279, 885, 929]', '2 in 3.17.txt: [795, 1428]', '2 in 3.18.txt: [896, 979]', '3 in 3.2.txt: [1336, 1388, 1668]', '2 in 3.21.txt: [696, 929]', '1 in 3.22.txt: [581]', '1 in 3.23.txt: [815]', '1 in 3.7.txt: [1051]', '1 in 4.1.txt: [638]', '1 in 4.10.txt: [673]', '3 in 4.12.txt: [497, 652, 1127]', '3 in 4.13.txt: [200, 345, 659]', '2 in 4.15.txt: [164, 1043]', '1 in 4.17.txt: [539]', '1 in 4.18.txt: [218]', '2 in 4.2.txt: [146, 187]', '3 in 4.21.txt: [778, 863, 870]', '2 in 4.3.txt: [471, 478]', '1 in 4.4.txt: [145]', '2 in 4.9.txt: [110, 271]', '1 in 5.1.txt: [457]', '1 in 5.10.txt: [495]', '2 in 5.13.txt: [815, 960]', '1 in 5.14.txt: [610]', '1 in 5.15.txt: [906]', '1 in 5.16.txt: [765]', '1 in 5.17.txt: [385]', '3 in 5.19.txt: [221, 254, 345]', '2 in 5.2.txt: [149, 295]', '2 in 5.20.txt: [547, 898]', '1 in 5.21.txt: [840]', '1 in 5.22.txt: [862]', '3 in 5.3.txt: [363, 568, 1575]', '2 in 5.4.txt: [596, 604]', '2 in 5.5.txt: [175, 1348]', '2 in 5.8.txt: [141, 461]', '2 in 5.9.txt: [640, 808]', '1 in 6.1.txt: [429]', '1 in 6.10.txt: [140]', '1 in 6.11.txt: [769]', '1 in 6.13.txt: [783]', '2 in 6.15.txt: [682, 695]', '2 in 6.16.txt: [480, 942]', '4 in 6.18.txt: [226, 533, 678, 1210]', '1 in 6.19.txt: [725]', '1 in 6.21.txt: [582]', '2 in 6.22.txt: [171, 612]', '1 in 6.23.txt: [524]', '3 in 6.25.txt: [363, 568, 1575]', '2 in 6.4.txt: [156, 400]', '5 in 6.5.txt: [150, 567, 713, 922, 976]', '3 in 6.6.txt: [729, 1362, 1485]', '1 in 6.9.txt: [378]', '3 in 7.1.txt: [363, 568, 1575]', '2 in 7.10.txt: [651, 1346]', '2 in 7.11.txt: [390, 645]', '2 in 7.13.txt: [1083, 1098]', '2 in 7.14.txt: [356, 376]', '4 in 7.19.txt: [614, 690, 991, 1008]', '1 in 7.20.txt: [841]', '2 in 7.21.txt: [641, 1348]', '1 in 7.24.txt: [619]', '2 in 7.4.txt: [142, 1046]', '1 in 7.5.txt: [92]', '2 in 7.6.txt: [575, 611]', '3 in 7.7.txt: [902, 919, 998]', '1 in 7.8.txt: [387]', '1 in 7.9.txt: [853]']\n",
            "top -> top; top 100 total occurances: ['1 in 3.1.txt: [1586]', '2 in 3.10.txt: [1252, 1316]', '4 in 3.16.txt: [1012, 1034, 1077, 1085]', '5 in 3.17.txt: [1189, 1210, 1236, 1316, 1347]', '1 in 3.23.txt: [952]', '1 in 3.4.txt: [58]', '1 in 3.5.txt: [894]', '2 in 3.6.txt: [858, 883]', '2 in 3.7.txt: [1253, 1291]', '2 in 3.8.txt: [400, 1051]', '1 in 4.1.txt: [708]', '3 in 4.12.txt: [748, 756, 857]', '4 in 4.15.txt: [183, 901, 907, 921]', '1 in 4.16.txt: [624]', '3 in 4.17.txt: [833, 850, 963]', '2 in 4.2.txt: [1230, 1240]', '3 in 4.22.txt: [1063, 1184, 1205]', '1 in 4.3.txt: [822]', '1 in 4.6.txt: [377]', '1 in 4.8.txt: [517]', '1 in 4.9.txt: [858]', '2 in 5.1.txt: [1450, 1550]', '3 in 5.13.txt: [611, 1081, 1154]', '1 in 5.15.txt: [1022]', '1 in 5.18.txt: [476]', '1 in 5.22.txt: [954]', '1 in 5.3.txt: [2077]', '1 in 5.4.txt: [730]', '3 in 5.9.txt: [1185, 1201, 1371]', '1 in 6.1.txt: [36]', '1 in 6.14.txt: [629]', '1 in 6.15.txt: [54]', '1 in 6.16.txt: [822]', '4 in 6.19.txt: [675, 693, 710, 779]', '3 in 6.2.txt: [170, 589, 761]', '1 in 6.20.txt: [962]', '1 in 6.21.txt: [929]', '1 in 6.23.txt: [495]', '1 in 6.24.txt: [264]', '1 in 6.25.txt: [2077]', '3 in 6.4.txt: [582, 620, 631]', '2 in 6.6.txt: [1256, 1494]', '1 in 6.9.txt: [552]', '1 in 7.1.txt: [2077]', '3 in 7.18.txt: [268, 958, 1140]', '3 in 7.19.txt: [167, 660, 900]', '4 in 7.21.txt: [613, 1145, 1153, 1204]', '2 in 7.24.txt: [606, 639]', '3 in 7.4.txt: [179, 1224, 1274]', '1 in 7.6.txt: [1576]', '6 in 7.7.txt: [546, 556, 798, 804, 860, 1087]']\n",
            "arguably -> arguabl; arguabl 3 total occurances: ['1 in 3.16.txt: [1103]', '1 in 4.12.txt: [761]', '1 in 5.9.txt: [1383]']\n",
            "best -> best; best 307 total occurances: ['6 in 3.1.txt: [122, 441, 1415, 1544, 1616, 1679]', '9 in 3.10.txt: [230, 1029, 1080, 1194, 1202, 1322, 1351, 1362, 1384]', '2 in 3.11.txt: [993, 1011]', '1 in 3.12.txt: [718]', '6 in 3.13.txt: [854, 898, 926, 951, 975, 1040]', '1 in 3.14.txt: [1052]', '1 in 3.15.txt: [720]', '3 in 3.16.txt: [870, 1101, 1104]', '6 in 3.17.txt: [193, 566, 1269, 1294, 1304, 1324]', '4 in 3.18.txt: [85, 173, 869, 985]', '1 in 3.19.txt: [1198]', '4 in 3.2.txt: [608, 1163, 1221, 1245]', '3 in 3.20.txt: [840, 853, 1511]', '2 in 3.21.txt: [451, 704]', '4 in 3.22.txt: [194, 833, 842, 886]', '2 in 3.23.txt: [103, 919]', '3 in 3.24.txt: [959, 1048, 1126]', '2 in 3.3.txt: [648, 863]', '2 in 3.4.txt: [795, 841]', '3 in 3.5.txt: [377, 710, 909]', '4 in 3.7.txt: [239, 1271, 1277, 1311]', '5 in 3.8.txt: [354, 790, 866, 945, 983]', '2 in 3.9.txt: [455, 812]', '2 in 4.10.txt: [958, 1032]', '1 in 4.11.txt: [384]', '11 in 4.12.txt: [156, 742, 780, 789, 820, 846, 938, 979, 995, 1018, 1090]', '2 in 4.14.txt: [147, 794]', '1 in 4.15.txt: [821]', '5 in 4.17.txt: [132, 830, 917, 948, 1008]', '4 in 4.2.txt: [1187, 1199, 1264, 1585]', '2 in 4.20.txt: [653, 708]', '4 in 4.22.txt: [1102, 1130, 1329, 1395]', '3 in 4.3.txt: [187, 881, 896]', '1 in 4.4.txt: [618]', '1 in 4.5.txt: [909]', '1 in 4.6.txt: [710]', '1 in 4.7.txt: [581]', '6 in 4.9.txt: [115, 275, 904, 947, 1030, 1050]', '3 in 5.1.txt: [1008, 1433, 1562]', '1 in 5.10.txt: [883]', '3 in 5.12.txt: [784, 786, 839]', '6 in 5.13.txt: [902, 984, 1003, 1017, 1030, 1068]', '4 in 5.14.txt: [687, 912, 917, 975]', '2 in 5.15.txt: [173, 1108]', '1 in 5.16.txt: [884]', '4 in 5.17.txt: [29, 812, 822, 830]', '1 in 5.18.txt: [699]', '1 in 5.2.txt: [432]', '1 in 5.21.txt: [768]', '2 in 5.22.txt: [598, 678]', '3 in 5.3.txt: [2109, 2129, 2187]', '5 in 5.4.txt: [172, 748, 758, 795, 853]', '7 in 5.5.txt: [1429, 1468, 1501, 1518, 1521, 1586, 1588]', '2 in 5.7.txt: [175, 751]', '1 in 5.8.txt: [945]', '5 in 5.9.txt: [173, 1193, 1362, 1384, 1398]', '1 in 6.11.txt: [806]', '7 in 6.12.txt: [123, 373, 417, 505, 567, 621, 635]', '2 in 6.15.txt: [119, 796]', '1 in 6.16.txt: [966]', '4 in 6.18.txt: [447, 813, 896, 927]', '6 in 6.19.txt: [646, 721, 743, 754, 769, 793]', '1 in 6.2.txt: [753]', '5 in 6.20.txt: [166, 657, 1018, 1026, 1032]', '1 in 6.21.txt: [718]', '1 in 6.22.txt: [418]', '1 in 6.23.txt: [1007]', '1 in 6.24.txt: [590]', '3 in 6.25.txt: [2109, 2129, 2187]', '1 in 6.4.txt: [258]', '3 in 6.5.txt: [128, 1062, 1073]', '12 in 6.6.txt: [1221, 1292, 1303, 1313, 1329, 1353, 1371, 1388, 1398, 1427, 1458, 1476]', '3 in 6.7.txt: [167, 922, 936]', '3 in 6.8.txt: [208, 235, 636]', '1 in 6.9.txt: [566]', '3 in 7.1.txt: [2109, 2129, 2187]', '2 in 7.11.txt: [708, 734]', '4 in 7.12.txt: [624, 780, 814, 839]', '5 in 7.13.txt: [124, 709, 986, 1109, 1116]', '1 in 7.14.txt: [586]', '2 in 7.15.txt: [384, 652]', '2 in 7.16.txt: [1245, 1256]', '1 in 7.17.txt: [673]', '2 in 7.18.txt: [1184, 1211]', '5 in 7.19.txt: [923, 932, 950, 982, 1015]', '4 in 7.2.txt: [791, 804, 846, 859]', '2 in 7.20.txt: [898, 925]', '6 in 7.21.txt: [1126, 1188, 1196, 1226, 1245, 1453]', '2 in 7.23.txt: [879, 1094]', '2 in 7.24.txt: [629, 667]', '4 in 7.25.txt: [791, 804, 846, 859]', '4 in 7.3.txt: [341, 345, 568, 592]', '3 in 7.4.txt: [173, 181, 1226]', '5 in 7.5.txt: [1137, 1147, 1156, 1480, 1525]', '3 in 7.6.txt: [1518, 1544, 1559]', '11 in 7.7.txt: [148, 816, 832, 839, 847, 886, 897, 959, 1030, 1058, 1075]', '2 in 7.8.txt: [965, 978]', '2 in 7.9.txt: [840, 862]']\n",
            "number -> number; number 83 total occurances: ['2 in 3.1.txt: [849, 1863]', '1 in 3.11.txt: [1004]', '2 in 3.16.txt: [1017, 1095]', '1 in 3.17.txt: [1313]', '1 in 3.18.txt: [973]', '1 in 3.19.txt: [483]', '3 in 3.21.txt: [432, 718, 724]', '1 in 3.5.txt: [901]', '1 in 3.7.txt: [1299]', '1 in 3.9.txt: [488]', '1 in 4.1.txt: [455]', '2 in 4.11.txt: [362, 363]', '2 in 4.12.txt: [794, 854]', '1 in 4.15.txt: [918]', '1 in 4.16.txt: [621]', '1 in 4.17.txt: [832]', '3 in 4.2.txt: [722, 1237, 1528]', '3 in 4.21.txt: [444, 450, 468]', '3 in 4.22.txt: [838, 1097, 1337]', '1 in 4.7.txt: [577]', '1 in 4.9.txt: [417]', '3 in 5.1.txt: [1096, 1246, 1253]', '1 in 5.10.txt: [859]', '1 in 5.11.txt: [718]', '6 in 5.13.txt: [691, 973, 1019, 1025, 1039, 1078]', '1 in 5.14.txt: [486]', '1 in 5.2.txt: [724]', '1 in 5.21.txt: [829]', '1 in 5.22.txt: [950]', '1 in 5.3.txt: [1049]', '2 in 5.8.txt: [565, 573]', '6 in 6.12.txt: [32, 99, 305, 375, 391, 473]', '1 in 6.2.txt: [236]', '4 in 6.20.txt: [132, 594, 969, 1030]', '1 in 6.22.txt: [1129]', '1 in 6.24.txt: [424]', '1 in 6.25.txt: [1049]', '2 in 6.4.txt: [616, 628]', '2 in 6.6.txt: [673, 982]', '1 in 7.1.txt: [1049]', '3 in 7.10.txt: [393, 975, 1282]', '1 in 7.13.txt: [719]', '1 in 7.14.txt: [465]', '1 in 7.19.txt: [462]', '1 in 7.21.txt: [1201]', '1 in 7.23.txt: [540]', '2 in 7.6.txt: [1130, 1214]', '1 in 7.7.txt: [1084]', '2 in 7.8.txt: [627, 659]']\n",
            "humor -> humor; humor 43 total occurances: ['3 in 3.1.txt: [733, 1421, 1506]', '1 in 3.10.txt: [1285]', '2 in 3.13.txt: [884, 966]', '1 in 3.15.txt: [462]', '1 in 3.16.txt: [916]', '1 in 3.20.txt: [1488]', '1 in 3.24.txt: [1021]', '2 in 3.3.txt: [699, 799]', '1 in 3.5.txt: [988]', '1 in 3.7.txt: [1325]', '1 in 4.11.txt: [389]', '1 in 4.15.txt: [765]', '2 in 4.19.txt: [232, 275]', '2 in 5.1.txt: [232, 1479]', '1 in 5.10.txt: [590]', '1 in 5.11.txt: [757]', '2 in 5.12.txt: [134, 408]', '1 in 5.13.txt: [639]', '1 in 5.14.txt: [939]', '1 in 5.7.txt: [615]', '1 in 6.10.txt: [692]', '2 in 6.14.txt: [295, 375]', '1 in 6.16.txt: [441]', '1 in 6.20.txt: [41]', '1 in 6.22.txt: [1299]', '3 in 6.6.txt: [735, 754, 1271]', '1 in 7.10.txt: [455]', '1 in 7.14.txt: [369]', '1 in 7.17.txt: [492]', '1 in 7.18.txt: [620]', '1 in 7.4.txt: [284]', '2 in 7.5.txt: [1275, 1288]']\n",
            "dollarydoos -> dollarydoo; dollarydoo 2 total occurances: ['2 in 6.16.txt: [1060, 1068]']\n",
            "Bart Simpson -> bart simpson; bart simpson 31 total occurances: ['1 in 3.13.txt: [289]', '2 in 3.4.txt: [42, 598]', '1 in 4.1.txt: [627]', '1 in 4.2.txt: [1596]', '1 in 4.7.txt: [691]', '1 in 5.1.txt: [147]', '1 in 5.15.txt: [666]', '1 in 5.3.txt: [911]', '11 in 5.5.txt: [44, 134, 216, 573, 1069, 1114, 1168, 1182, 1447, 1478, 1582]', '1 in 6.14.txt: [69]', '1 in 6.18.txt: [638]', '1 in 6.21.txt: [83]', '1 in 6.23.txt: [707]', '1 in 6.25.txt: [911]', '1 in 6.5.txt: [214]', '1 in 6.7.txt: [509]', '1 in 7.1.txt: [911]', '3 in 7.4.txt: [261, 347, 991]']\n",
            "Gordie Howe -> gordi howe; No viable spelling fix was found\n",
            "recalled -> recal; recal 24 total occurances: ['1 in 3.1.txt: [693]', '1 in 3.11.txt: [813]', '1 in 3.14.txt: [527]', '1 in 3.16.txt: [549]', '1 in 3.17.txt: [1408]', '1 in 3.19.txt: [356]', '1 in 3.7.txt: [943]', '1 in 5.1.txt: [838]', '1 in 5.16.txt: [822]', '1 in 5.19.txt: [920]', '2 in 5.8.txt: [524, 611]', '1 in 6.11.txt: [765]', '1 in 6.2.txt: [563]', '3 in 6.3.txt: [110, 544, 556]', '1 in 6.4.txt: [559]', '1 in 7.18.txt: [772]', '1 in 7.2.txt: [616]', '1 in 7.21.txt: [1329]', '1 in 7.22.txt: [684]', '1 in 7.25.txt: [616]', '1 in 7.4.txt: [559]']\n",
            "Bart the Lover -> bart lover; bart lover 7 total occurances: ['7 in 3.16.txt: [0, 2, 45, 464, 880, 954, 1014]']\n",
            "cents -> cent; cent 6 total occurances: ['1 in 3.11.txt: [269]', '1 in 3.16.txt: [440]', '1 in 4.15.txt: [666]', '1 in 5.1.txt: [1220]', '1 in 5.6.txt: [413]', '1 in 7.4.txt: [471]']\n",
            "won -> won; won 35 total occurances: ['1 in 3.14.txt: [574]', '1 in 3.16.txt: [821]', '1 in 3.17.txt: [1036]', '2 in 3.18.txt: [805, 837]', '1 in 3.24.txt: [288]', '5 in 3.6.txt: [202, 784, 812, 841, 848]', '1 in 3.8.txt: [750]', '1 in 4.10.txt: [822]', '1 in 4.17.txt: [226]', '1 in 4.2.txt: [1363]', '1 in 4.20.txt: [144]', '1 in 4.22.txt: [1136]', '2 in 4.6.txt: [277, 280]', '4 in 4.9.txt: [121, 1059, 1071, 1129]', '1 in 5.15.txt: [219]', '2 in 5.17.txt: [600, 808]', '1 in 5.8.txt: [943]', '2 in 6.19.txt: [105, 654]', '2 in 7.12.txt: [618, 621]', '2 in 7.5.txt: [175, 1133]', '1 in 7.6.txt: [1640]', '1 in 7.8.txt: [924]']\n",
            "voice-overs -> voiceov; voiceov 14 total occurances: ['1 in 3.1.txt: [1454]', '1 in 3.12.txt: [858]', '1 in 3.14.txt: [866]', '2 in 3.16.txt: [824, 940]', '1 in 3.18.txt: [573]', '2 in 3.6.txt: [208, 818]', '1 in 3.8.txt: [803]', '1 in 4.3.txt: [601]', '2 in 4.9.txt: [127, 1063]', '1 in 5.13.txt: [625]', '1 in 6.6.txt: [1050]']\n",
            "Simpsonovi -> simpsonovi; simpsoni 1 total occurances: ['1 in 6.18.txt: [873]']\n"
          ]
        }
      ]
    },
    {
      "cell_type": "markdown",
      "source": [
        "## Testing spell-correct"
      ],
      "metadata": {
        "id": "oDqxbcp5ldUE"
      }
    },
    {
      "cell_type": "code",
      "source": [
        "index.dump(\"/content/drive/MyDrive/Colab Notebooks/typos.txt\")"
      ],
      "metadata": {
        "colab": {
          "base_uri": "https://localhost:8080/"
        },
        "id": "Tr-co1cqcvq3",
        "outputId": "a6bf1d7b-03ae-405d-eb4a-9dd9d928a7b9"
      },
      "execution_count": 197,
      "outputs": [
        {
          "output_type": "stream",
          "name": "stdout",
          "text": [
            "passed_in_query -> query_after_processing: [list_of_occurances]\n",
            "brat -> brat; rat 2 total occurances: ['1 in 3.4.txt: [246]', '1 in 5.20.txt: [462]']\n",
            "sipmsons -> sipmson; simpson 1374 total occurances: ['29 in 3.1.txt: [58, 90, 232, 363, 470, 750, 903, 991, 1006, 1039, 1046, 1063, 1083, 1086, 1186, 1191, 1266, 1392, 1408, 1449, 1479, 1498, 1580, 1588, 1610, 1626, 1659, 1752, 1780]', '16 in 3.10.txt: [5, 73, 231, 700, 1021, 1030, 1118, 1168, 1180, 1195, 1283, 1318, 1337, 1343, 1353, 1363]', '14 in 3.11.txt: [98, 213, 309, 570, 655, 680, 693, 878, 879, 885, 919, 946, 988, 1029]', '7 in 3.12.txt: [91, 135, 180, 530, 894, 916, 1004]', '12 in 3.13.txt: [57, 290, 480, 821, 827, 847, 899, 927, 937, 943, 953, 991]', '4 in 3.14.txt: [71, 109, 873, 912]', '5 in 3.15.txt: [64, 496, 618, 663, 686]', '9 in 3.16.txt: [54, 852, 871, 883, 913, 986, 1038, 1087, 1105]', '14 in 3.17.txt: [88, 1029, 1057, 1112, 1127, 1195, 1212, 1238, 1255, 1282, 1305, 1307, 1318, 1416]', '11 in 3.18.txt: [65, 312, 556, 701, 725, 757, 771, 860, 868, 894, 920]', '13 in 3.19.txt: [69, 200, 214, 246, 289, 377, 416, 420, 459, 731, 800, 988, 1145]', '28 in 3.2.txt: [66, 268, 385, 414, 477, 492, 508, 611, 684, 823, 861, 895, 914, 1142, 1164, 1167, 1213, 1266, 1276, 1353, 1449, 1483, 1533, 1536, 1609, 1615, 1667, 1708]', '22 in 3.20.txt: [90, 139, 244, 285, 817, 843, 866, 874, 925, 930, 998, 1092, 1452, 1461, 1487, 1513, 1572, 1702, 1748, 1752, 1812, 1827]', '12 in 3.21.txt: [88, 181, 286, 313, 331, 529, 643, 659, 780, 847, 866, 937]', '8 in 3.22.txt: [76, 124, 167, 476, 695, 728, 858, 902]', '4 in 3.23.txt: [54, 91, 757, 768]', '7 in 3.24.txt: [68, 343, 368, 728, 853, 922, 1051]', '9 in 3.3.txt: [31, 63, 186, 509, 513, 556, 649, 681, 718]', '7 in 3.4.txt: [43, 80, 549, 599, 610, 796, 822]', '6 in 3.5.txt: [72, 514, 784, 896, 913, 991]', '9 in 3.6.txt: [81, 94, 231, 747, 827, 834, 860, 871, 908]', '5 in 3.7.txt: [58, 319, 684, 977, 1184]', '13 in 3.8.txt: [78, 148, 360, 380, 446, 517, 574, 707, 791, 842, 928, 1057, 1076]', '5 in 3.9.txt: [64, 388, 428, 831, 1006]', '4 in 4.1.txt: [58, 628, 677, 696]', '21 in 4.10.txt: [38, 46, 72, 82, 123, 208, 262, 402, 597, 600, 878, 900, 931, 942, 987, 1011, 1110, 1241, 1247, 1263, 1272]', '7 in 4.11.txt: [40, 67, 92, 197, 324, 432, 608]', '21 in 4.12.txt: [56, 91, 157, 750, 765, 770, 830, 839, 847, 849, 859, 870, 906, 944, 1037, 1073, 1076, 1082, 1092, 1176, 1194]', '5 in 4.13.txt: [46, 73, 152, 647, 670]', '9 in 4.14.txt: [69, 376, 456, 721, 758, 795, 821, 826, 854]', '7 in 4.15.txt: [71, 430, 434, 546, 826, 856, 923]', '2 in 4.16.txt: [69, 591]', '18 in 4.17.txt: [46, 69, 83, 210, 329, 452, 460, 535, 546, 551, 877, 879, 913, 921, 967, 991, 1013, 1053]', '12 in 4.18.txt: [2, 7, 54, 64, 102, 117, 380, 383, 600, 630, 643, 852]', '18 in 4.19.txt: [1, 34, 60, 83, 105, 421, 427, 661, 669, 685, 699, 705, 723, 742, 765, 792, 856, 905]', '20 in 4.2.txt: [74, 121, 140, 625, 649, 755, 786, 806, 821, 1105, 1112, 1135, 1242, 1257, 1346, 1349, 1516, 1547, 1553, 1597]', '3 in 4.20.txt: [34, 62, 739]', '14 in 4.21.txt: [70, 154, 162, 189, 245, 492, 511, 533, 538, 656, 696, 826, 885, 916]', '16 in 4.22.txt: [90, 701, 1015, 1054, 1066, 1103, 1113, 1124, 1171, 1175, 1207, 1256, 1310, 1385, 1389, 1419]', '16 in 4.3.txt: [74, 311, 489, 516, 607, 618, 623, 727, 734, 791, 824, 862, 867, 873, 883, 897]', '3 in 4.4.txt: [78, 409, 606]', '8 in 4.5.txt: [70, 175, 493, 527, 593, 812, 881, 930]', '6 in 4.6.txt: [55, 515, 566, 635, 667, 714]', '4 in 4.7.txt: [81, 101, 544, 692]', '9 in 4.8.txt: [62, 88, 153, 274, 289, 298, 502, 519, 534]', '13 in 4.9.txt: [10, 74, 586, 619, 715, 922, 981, 1036, 1042, 1052, 1088, 1112, 1115]', '14 in 5.1.txt: [100, 116, 142, 148, 337, 445, 578, 779, 955, 960, 1538, 1552, 1564, 1574]', '7 in 5.10.txt: [92, 523, 542, 557, 602, 628, 900]', '9 in 5.11.txt: [36, 63, 138, 199, 429, 489, 502, 507, 707]', '9 in 5.12.txt: [82, 152, 374, 411, 464, 503, 572, 659, 771]', '11 in 5.13.txt: [69, 288, 315, 425, 657, 663, 894, 943, 1006, 1070, 1179]', '8 in 5.14.txt: [68, 457, 690, 903, 941, 967, 977, 1010]', '18 in 5.15.txt: [94, 106, 148, 165, 203, 501, 667, 697, 751, 935, 949, 957, 1014, 1024, 1028, 1075, 1109, 1111]', '12 in 5.16.txt: [64, 110, 229, 237, 314, 351, 403, 529, 789, 807, 844, 848]', '9 in 5.17.txt: [64, 86, 283, 351, 472, 560, 580, 709, 871]', '9 in 5.18.txt: [38, 71, 341, 352, 371, 490, 579, 609, 625]', '9 in 5.19.txt: [46, 90, 138, 203, 632, 637, 670, 882, 988]', '5 in 5.2.txt: [62, 104, 361, 691, 765]', '6 in 5.20.txt: [3, 48, 74, 552, 846, 1014]', '7 in 5.21.txt: [84, 95, 193, 386, 441, 808, 864]', '5 in 5.22.txt: [71, 655, 726, 820, 922]', '25 in 5.3.txt: [76, 139, 394, 443, 617, 625, 635, 669, 767, 908, 912, 1032, 1090, 1099, 1158, 1356, 1965, 2040, 2099, 2110, 2117, 2119, 2131, 2144, 2220]', '14 in 5.4.txt: [1, 56, 85, 173, 578, 689, 736, 796, 798, 802, 811, 839, 845, 855]', '29 in 5.5.txt: [32, 45, 107, 130, 135, 210, 217, 255, 352, 355, 393, 574, 763, 805, 911, 979, 1034, 1048, 1070, 1115, 1148, 1169, 1183, 1382, 1417, 1448, 1474, 1479, 1583]', '5 in 5.6.txt: [64, 396, 521, 618, 650]', '15 in 5.7.txt: [41, 74, 159, 176, 255, 354, 465, 487, 521, 535, 659, 752, 762, 790, 840]', '6 in 5.8.txt: [76, 472, 700, 791, 863, 871]', '10 in 5.9.txt: [49, 75, 176, 502, 524, 1194, 1216, 1225, 1267, 1365]', '8 in 6.1.txt: [31, 63, 180, 346, 530, 579, 859, 905]', '11 in 6.10.txt: [75, 124, 217, 248, 302, 596, 618, 639, 735, 750, 759]', '11 in 6.11.txt: [2, 61, 85, 152, 242, 518, 587, 710, 852, 874, 883]', '5 in 6.12.txt: [72, 138, 292, 397, 517]', '10 in 6.13.txt: [63, 96, 372, 382, 494, 528, 632, 695, 751, 780]', '7 in 6.14.txt: [33, 59, 70, 369, 505, 581, 633]', '12 in 6.15.txt: [3, 49, 73, 125, 130, 367, 380, 386, 715, 782, 788, 798]', '19 in 6.16.txt: [45, 68, 297, 388, 394, 432, 520, 523, 525, 677, 716, 757, 840, 872, 892, 903, 963, 984, 995]', '14 in 6.17.txt: [70, 115, 158, 180, 206, 220, 426, 553, 562, 620, 696, 721, 733, 749]', '20 in 6.18.txt: [80, 120, 131, 149, 166, 420, 475, 498, 513, 520, 639, 831, 918, 974, 997, 1073, 1102, 1168, 1225, 1299]', '13 in 6.19.txt: [67, 114, 141, 369, 663, 701, 744, 751, 755, 770, 785, 794, 805]', '9 in 6.2.txt: [39, 44, 70, 92, 512, 754, 763, 795, 819]', '15 in 6.20.txt: [75, 205, 234, 367, 412, 470, 482, 483, 531, 548, 659, 666, 877, 1041, 1073]', '11 in 6.21.txt: [73, 84, 118, 645, 708, 723, 776, 861, 933, 964, 1001]', '11 in 6.22.txt: [84, 186, 599, 628, 636, 957, 981, 997, 1002, 1060, 1125]', '11 in 6.23.txt: [68, 148, 160, 294, 375, 708, 716, 849, 939, 961, 974]', '6 in 6.24.txt: [31, 60, 335, 540, 561, 610]', '25 in 6.25.txt: [76, 139, 394, 443, 617, 625, 635, 669, 767, 908, 912, 1032, 1090, 1099, 1158, 1356, 1965, 2040, 2099, 2110, 2117, 2119, 2131, 2144, 2220]', '12 in 6.3.txt: [1, 5, 59, 80, 90, 108, 260, 263, 393, 560, 769, 792]', '11 in 6.4.txt: [64, 78, 193, 207, 226, 239, 252, 410, 633, 635, 681]', '10 in 6.5.txt: [53, 76, 118, 215, 274, 384, 856, 891, 1036, 1112]', '20 in 6.6.txt: [78, 117, 263, 429, 484, 658, 828, 886, 925, 956, 1242, 1258, 1281, 1324, 1334, 1354, 1356, 1443, 1496, 1508]', '12 in 6.7.txt: [50, 75, 170, 432, 447, 510, 576, 632, 651, 660, 793, 925]', '5 in 6.8.txt: [31, 58, 286, 495, 586]', '8 in 6.9.txt: [67, 209, 243, 293, 485, 547, 567, 583]', '25 in 7.1.txt: [76, 139, 394, 443, 617, 625, 635, 669, 767, 908, 912, 1032, 1090, 1099, 1158, 1356, 1965, 2040, 2099, 2110, 2117, 2119, 2131, 2144, 2220]', '28 in 7.10.txt: [0, 3, 43, 47, 81, 91, 107, 110, 114, 131, 215, 259, 267, 294, 298, 305, 310, 314, 351, 409, 420, 472, 485, 918, 950, 1256, 1271, 1295]', '8 in 7.11.txt: [74, 419, 439, 539, 548, 614, 736, 757]', '8 in 7.12.txt: [30, 42, 64, 398, 468, 528, 544, 881]', '23 in 7.13.txt: [66, 94, 184, 283, 363, 380, 392, 412, 447, 450, 467, 519, 535, 544, 627, 647, 786, 798, 989, 1018, 1023, 1067, 1080]', '7 in 7.14.txt: [65, 160, 348, 405, 522, 604, 624]', '6 in 7.15.txt: [45, 72, 163, 365, 673, 723]', '9 in 7.16.txt: [63, 677, 694, 793, 1208, 1267, 1311, 1327, 1345]', '5 in 7.17.txt: [26, 49, 332, 401, 693]', '13 in 7.18.txt: [75, 98, 144, 341, 519, 530, 605, 622, 643, 1187, 1285, 1317, 1325]', '9 in 7.19.txt: [39, 66, 465, 546, 953, 1028, 1040, 1043, 1067]', '15 in 7.2.txt: [40, 67, 77, 116, 204, 339, 386, 423, 470, 699, 830, 832, 838, 848, 860]', '6 in 7.20.txt: [43, 70, 507, 592, 620, 771]', '20 in 7.21.txt: [77, 119, 203, 703, 1087, 1118, 1128, 1147, 1178, 1206, 1212, 1219, 1260, 1293, 1309, 1324, 1349, 1428, 1518, 1616]', '11 in 7.22.txt: [2, 11, 64, 78, 90, 142, 280, 588, 761, 869, 878]', '6 in 7.23.txt: [101, 506, 659, 729, 911, 937]', '10 in 7.24.txt: [65, 100, 378, 501, 570, 608, 641, 677, 702, 733]', '15 in 7.25.txt: [40, 67, 77, 116, 204, 339, 386, 423, 470, 699, 830, 832, 838, 848, 860]', '11 in 7.3.txt: [79, 89, 215, 254, 288, 306, 311, 378, 624, 672, 677]', '20 in 7.4.txt: [38, 67, 162, 176, 262, 348, 438, 451, 678, 732, 791, 845, 983, 992, 1141, 1155, 1174, 1185, 1220, 1242]', '24 in 7.5.txt: [45, 66, 109, 218, 474, 642, 724, 748, 763, 777, 817, 823, 857, 1088, 1110, 1196, 1209, 1269, 1335, 1358, 1442, 1483, 1496, 1515]', '11 in 7.6.txt: [62, 89, 225, 333, 596, 632, 912, 1025, 1465, 1580, 1634]', '13 in 7.7.txt: [46, 76, 118, 241, 408, 803, 848, 862, 1021, 1061, 1067, 1077, 1089]', '21 in 7.8.txt: [1, 6, 7, 9, 53, 61, 80, 88, 339, 399, 477, 515, 542, 624, 649, 744, 760, 840, 871, 952, 979]', '7 in 7.9.txt: [50, 81, 137, 261, 428, 509, 807]']\n",
            "mrage -> mrage; rage 11 total occurances: ['1 in 4.3.txt: [416]', '2 in 5.3.txt: [451, 531]', '2 in 6.25.txt: [451, 531]', '2 in 7.1.txt: [451, 531]', '4 in 7.22.txt: [0, 9, 62, 865]']\n",
            "margee -> marg; marg 660 total occurances: ['3 in 3.1.txt: [348, 1005, 1247]', '1 in 3.10.txt: [1086]', '40 in 3.12.txt: [1, 3, 8, 11, 83, 101, 119, 132, 161, 210, 247, 280, 281, 299, 320, 334, 351, 382, 388, 403, 421, 427, 455, 459, 478, 494, 509, 521, 538, 553, 609, 622, 642, 651, 693, 726, 826, 847, 943, 967]', '1 in 3.13.txt: [326]', '8 in 3.14.txt: [171, 175, 361, 398, 467, 483, 489, 771]', '22 in 3.15.txt: [83, 127, 132, 217, 258, 269, 286, 332, 351, 354, 369, 401, 414, 424, 486, 585, 612, 697, 716, 745, 775, 799]', '4 in 3.16.txt: [285, 352, 390, 436]', '1 in 3.19.txt: [260]', '1 in 3.2.txt: [518]', '16 in 3.20.txt: [101, 124, 296, 311, 317, 325, 375, 406, 420, 476, 502, 517, 518, 675, 1366, 1619]', '3 in 3.21.txt: [310, 387, 633]', '5 in 3.22.txt: [96, 239, 310, 323, 337]', '3 in 3.23.txt: [370, 386, 566]', '3 in 3.24.txt: [348, 738, 766]', '3 in 3.5.txt: [384, 408, 797]', '4 in 3.7.txt: [176, 302, 558, 938]', '2 in 3.8.txt: [299, 313]', '7 in 3.9.txt: [181, 275, 359, 361, 515, 539, 546]', '4 in 4.1.txt: [207, 383, 484, 530]', '8 in 4.10.txt: [92, 216, 229, 239, 352, 430, 529, 743]', '3 in 4.11.txt: [133, 179, 422]', '19 in 4.12.txt: [0, 3, 6, 81, 113, 146, 275, 288, 317, 358, 388, 435, 487, 698, 734, 891, 970, 1099, 1204]', '7 in 4.13.txt: [142, 154, 249, 305, 474, 485, 657]', '1 in 4.14.txt: [286]', '1 in 4.15.txt: [257]', '6 in 4.16.txt: [87, 162, 269, 279, 325, 494]', '1 in 4.17.txt: [219]', '5 in 4.18.txt: [276, 299, 518, 583, 796]', '3 in 4.19.txt: [139, 263, 606]', '31 in 4.2.txt: [2, 5, 66, 84, 106, 235, 272, 279, 290, 307, 312, 345, 364, 374, 382, 391, 440, 453, 477, 493, 512, 518, 538, 548, 655, 1092, 1146, 1304, 1448, 1455, 1564]', '3 in 4.20.txt: [97, 226, 264]', '23 in 4.21.txt: [0, 2, 60, 80, 106, 114, 128, 173, 249, 268, 285, 299, 322, 333, 354, 493, 529, 571, 580, 595, 792, 832, 928]', '6 in 4.22.txt: [766, 1289, 1300, 1303, 1401, 1406]', '8 in 4.3.txt: [106, 142, 191, 211, 219, 226, 264, 738]', '3 in 4.4.txt: [44, 231, 557]', '10 in 4.5.txt: [164, 278, 326, 349, 356, 370, 378, 415, 432, 742]', '7 in 4.6.txt: [76, 118, 129, 136, 257, 264, 617]', '17 in 4.7.txt: [0, 3, 71, 91, 107, 155, 173, 181, 193, 199, 223, 236, 379, 389, 400, 408, 604]', '2 in 4.8.txt: [186, 206]', '3 in 4.9.txt: [172, 385, 1080]', '4 in 5.1.txt: [354, 371, 432, 465]', '9 in 5.10.txt: [117, 228, 259, 313, 360, 381, 754, 870, 911]', '2 in 5.11.txt: [207, 495]', '4 in 5.12.txt: [338, 357, 424, 662]', '1 in 5.13.txt: [917]', '1 in 5.15.txt: [335]', '4 in 5.16.txt: [439, 463, 471, 518]', '6 in 5.17.txt: [342, 443, 547, 722, 752, 944]', '3 in 5.18.txt: [98, 272, 281]', '1 in 5.19.txt: [708]', '2 in 5.2.txt: [368, 447]', '1 in 5.20.txt: [499]', '8 in 5.21.txt: [98, 204, 245, 553, 554, 558, 772, 825]', '17 in 5.22.txt: [109, 191, 231, 239, 270, 287, 310, 316, 476, 498, 547, 564, 605, 878, 909, 938, 975]', '6 in 5.3.txt: [311, 339, 499, 817, 1287, 1424]', '5 in 5.5.txt: [318, 362, 377, 719, 766]', '22 in 5.6.txt: [0, 2, 55, 74, 143, 148, 181, 201, 215, 233, 249, 291, 313, 329, 336, 398, 448, 541, 574, 588, 625, 686]', '6 in 5.7.txt: [84, 261, 277, 302, 323, 339]', '10 in 5.9.txt: [111, 274, 433, 441, 513, 668, 881, 1009, 1153, 1287]', '1 in 6.1.txt: [306]', '7 in 6.10.txt: [86, 183, 198, 221, 402, 439, 677]', '14 in 6.11.txt: [101, 253, 268, 289, 319, 323, 344, 375, 406, 594, 612, 658, 725, 793]', '1 in 6.12.txt: [286]', '7 in 6.13.txt: [205, 212, 229, 239, 254, 263, 538]', '2 in 6.16.txt: [279, 365]', '8 in 6.17.txt: [188, 288, 309, 334, 584, 653, 664, 758]', '7 in 6.18.txt: [267, 277, 313, 342, 392, 426, 805]', '3 in 6.19.txt: [189, 262, 434]', '3 in 6.2.txt: [381, 400, 605]', '2 in 6.20.txt: [240, 1069]', '3 in 6.21.txt: [252, 265, 321]', '2 in 6.22.txt: [284, 733]', '35 in 6.23.txt: [78, 151, 166, 211, 225, 230, 249, 272, 296, 303, 326, 351, 360, 394, 414, 459, 485, 489, 518, 573, 588, 601, 630, 651, 734, 787, 806, 823, 829, 873, 880, 905, 911, 964, 999]', '1 in 6.24.txt: [146]', '6 in 6.25.txt: [311, 339, 499, 817, 1287, 1424]', '16 in 6.3.txt: [100, 192, 213, 231, 243, 414, 455, 495, 512, 543, 555, 574, 580, 590, 650, 778]', '6 in 6.4.txt: [120, 143, 183, 261, 475, 555]', '7 in 6.6.txt: [232, 253, 317, 329, 355, 646, 712]', '4 in 6.7.txt: [297, 446, 644, 873]', '3 in 6.8.txt: [264, 504, 698]', '5 in 6.9.txt: [116, 132, 161, 170, 261]', '6 in 7.1.txt: [311, 339, 499, 817, 1287, 1424]', '7 in 7.10.txt: [560, 574, 684, 795, 814, 827, 837]', '19 in 7.11.txt: [0, 2, 65, 84, 161, 197, 242, 257, 266, 275, 295, 319, 332, 359, 509, 570, 627, 656, 763]', '3 in 7.12.txt: [487, 517, 576]', '2 in 7.13.txt: [27, 391]', '20 in 7.14.txt: [75, 84, 171, 176, 185, 193, 209, 249, 252, 271, 284, 298, 377, 419, 426, 526, 540, 549, 564, 623]', '1 in 7.15.txt: [171]', '1 in 7.16.txt: [693]', '2 in 7.17.txt: [212, 507]', '2 in 7.18.txt: [344, 875]', '3 in 7.19.txt: [272, 278, 722]', '4 in 7.2.txt: [209, 239, 322, 789]', '5 in 7.20.txt: [215, 398, 403, 427, 787]', '3 in 7.21.txt: [305, 432, 667]', '1 in 7.22.txt: [772]', '1 in 7.23.txt: [61]', '1 in 7.24.txt: [424]', '4 in 7.25.txt: [209, 239, 322, 789]', '9 in 7.3.txt: [40, 99, 195, 243, 263, 487, 576, 594, 604]', '1 in 7.5.txt: [228]', '6 in 7.6.txt: [392, 504, 668, 713, 797, 859]', '4 in 7.7.txt: [215, 243, 523, 1038]', '2 in 7.8.txt: [170, 250]']\n",
            "homerr -> homerr; homer 1978 total occurances: ['17 in 3.1.txt: [9, 100, 279, 305, 316, 327, 344, 350, 360, 385, 542, 550, 560, 688, 1205, 1314, 1709]', '22 in 3.10.txt: [83, 88, 97, 112, 272, 289, 292, 303, 324, 340, 385, 394, 432, 436, 444, 481, 489, 895, 906, 1038, 1077, 1241]', '28 in 3.11.txt: [10, 122, 200, 242, 271, 324, 364, 376, 387, 404, 406, 479, 494, 591, 660, 674, 690, 702, 704, 756, 767, 778, 807, 822, 954, 978, 991, 1063]', '36 in 3.12.txt: [6, 113, 264, 275, 290, 300, 308, 324, 327, 356, 381, 393, 411, 430, 433, 449, 451, 466, 488, 491, 500, 515, 537, 552, 558, 643, 670, 680, 704, 717, 749, 764, 795, 949, 959, 994]', '8 in 3.13.txt: [172, 225, 325, 330, 341, 513, 599, 634]', '25 in 3.14.txt: [36, 81, 172, 191, 199, 207, 218, 238, 248, 262, 273, 292, 302, 317, 335, 350, 486, 515, 532, 696, 769, 922, 941, 962, 994]', '23 in 3.15.txt: [0, 5, 55, 98, 104, 120, 161, 249, 285, 297, 333, 337, 350, 364, 383, 394, 528, 545, 561, 596, 615, 711, 782]', '16 in 3.16.txt: [89, 92, 118, 280, 347, 400, 424, 427, 433, 444, 498, 514, 527, 941, 968, 994]', '23 in 3.17.txt: [0, 2, 79, 106, 169, 249, 373, 480, 497, 511, 523, 529, 779, 880, 899, 1004, 1040, 1161, 1229, 1355, 1374, 1415, 1429]', '10 in 3.19.txt: [41, 50, 228, 250, 564, 657, 776, 925, 1155, 1212]', '5 in 3.2.txt: [36, 241, 282, 894, 1389]', '65 in 3.20.txt: [1, 3, 8, 82, 100, 107, 118, 128, 201, 225, 235, 295, 301, 322, 330, 347, 362, 377, 386, 398, 418, 421, 433, 444, 454, 464, 480, 506, 513, 520, 527, 559, 580, 601, 612, 644, 649, 674, 708, 799, 804, 1072, 1103, 1116, 1167, 1224, 1261, 1270, 1284, 1324, 1365, 1378, 1416, 1429, 1553, 1596, 1604, 1672, 1715, 1732, 1746, 1780, 1787, 1803, 1825]', '3 in 3.21.txt: [261, 308, 825]', '12 in 3.22.txt: [95, 238, 322, 334, 354, 372, 567, 584, 609, 618, 630, 745]', '13 in 3.23.txt: [143, 361, 376, 388, 409, 503, 507, 536, 809, 862, 879, 929, 966]', '24 in 3.24.txt: [93, 106, 116, 168, 221, 230, 249, 261, 274, 287, 295, 300, 337, 359, 440, 473, 693, 715, 761, 814, 831, 929, 997, 1117]', '13 in 3.3.txt: [73, 97, 217, 223, 248, 255, 269, 549, 744, 820, 823, 869, 877]', '3 in 3.4.txt: [321, 412, 848]', '30 in 3.5.txt: [0, 2, 63, 82, 97, 155, 181, 217, 237, 248, 254, 266, 288, 299, 305, 318, 321, 333, 341, 353, 536, 543, 646, 718, 767, 817, 851, 999, 1002, 1025]', '2 in 3.6.txt: [54, 723]', '29 in 3.7.txt: [80, 106, 128, 141, 282, 289, 346, 384, 403, 421, 428, 439, 464, 479, 486, 494, 502, 683, 852, 877, 904, 981, 1042, 1067, 1082, 1096, 1117, 1130, 1321]', '28 in 3.8.txt: [40, 49, 88, 112, 120, 209, 226, 237, 257, 263, 295, 308, 331, 339, 347, 501, 560, 582, 593, 602, 647, 673, 741, 792, 892, 899, 1003, 1016]', '27 in 3.9.txt: [74, 88, 101, 104, 183, 197, 221, 253, 267, 277, 294, 301, 402, 415, 511, 544, 553, 586, 619, 630, 636, 693, 896, 910, 920, 939, 969]', '6 in 4.1.txt: [123, 142, 206, 211, 295, 382]', '12 in 4.10.txt: [228, 242, 325, 363, 368, 466, 491, 521, 531, 1107, 1137, 1147]', '27 in 4.11.txt: [0, 4, 56, 77, 88, 128, 164, 173, 188, 199, 266, 276, 321, 326, 337, 386, 401, 415, 434, 451, 473, 491, 503, 513, 521, 538, 567]', '9 in 4.12.txt: [269, 371, 391, 402, 603, 674, 695, 709, 1040]', '9 in 4.13.txt: [135, 223, 258, 300, 321, 412, 484, 516, 658]', '21 in 4.14.txt: [79, 93, 172, 211, 213, 230, 243, 249, 498, 520, 563, 573, 589, 608, 629, 634, 729, 767, 797, 816, 851]', '3 in 4.15.txt: [364, 368, 605]', '13 in 4.16.txt: [83, 219, 232, 256, 271, 276, 313, 412, 422, 493, 508, 521, 601]', '24 in 4.17.txt: [82, 221, 245, 265, 276, 282, 286, 294, 304, 333, 341, 357, 365, 432, 437, 441, 448, 618, 697, 782, 876, 878, 1015, 1040]', '44 in 4.18.txt: [75, 85, 90, 99, 108, 186, 203, 216, 229, 247, 256, 271, 280, 284, 301, 306, 318, 454, 516, 520, 527, 530, 539, 554, 557, 587, 612, 621, 624, 632, 650, 662, 667, 679, 698, 708, 726, 733, 746, 776, 794, 808, 833, 925]', '9 in 4.19.txt: [90, 136, 262, 272, 283, 295, 302, 607, 618]', '21 in 4.2.txt: [98, 228, 261, 294, 366, 370, 379, 384, 390, 417, 435, 443, 459, 466, 495, 529, 551, 793, 1040, 1081, 1558]', '2 in 4.20.txt: [717, 720]', '3 in 4.21.txt: [100, 516, 642]', '4 in 4.22.txt: [139, 226, 558, 1247]', '36 in 4.3.txt: [0, 2, 4, 65, 84, 134, 147, 180, 222, 230, 244, 249, 252, 272, 281, 295, 326, 332, 342, 348, 362, 383, 435, 448, 457, 475, 485, 641, 655, 686, 735, 742, 783, 816, 857, 892]', '11 in 4.4.txt: [43, 88, 186, 225, 233, 370, 382, 389, 396, 427, 476]', '33 in 4.5.txt: [84, 92, 128, 146, 166, 202, 221, 238, 251, 263, 297, 302, 316, 343, 366, 376, 390, 393, 403, 410, 431, 501, 507, 600, 644, 653, 665, 709, 718, 733, 757, 765, 940]', '20 in 4.6.txt: [71, 78, 93, 119, 135, 168, 181, 187, 212, 223, 241, 251, 261, 276, 278, 297, 309, 320, 526, 672]', '7 in 4.7.txt: [55, 154, 160, 171, 218, 222, 427]', '11 in 4.8.txt: [115, 159, 184, 193, 209, 235, 238, 354, 428, 437, 493]', '31 in 4.9.txt: [9, 84, 102, 132, 174, 183, 196, 214, 217, 226, 255, 272, 299, 300, 310, 325, 339, 350, 378, 397, 469, 551, 567, 593, 603, 657, 732, 941, 1006, 1066, 1178]', '42 in 5.1.txt: [0, 4, 10, 89, 115, 154, 159, 211, 267, 271, 287, 310, 342, 364, 367, 378, 417, 427, 448, 472, 521, 539, 544, 582, 615, 890, 916, 930, 1051, 1063, 1157, 1175, 1214, 1256, 1277, 1299, 1320, 1486, 1497, 1520, 1544, 1581]', '15 in 5.10.txt: [113, 239, 255, 348, 356, 379, 388, 405, 511, 647, 728, 756, 805, 862, 927]', '25 in 5.11.txt: [0, 2, 54, 85, 91, 105, 129, 230, 246, 268, 280, 297, 315, 335, 471, 574, 582, 600, 624, 759, 768, 794, 798, 804, 827]', '4 in 5.12.txt: [414, 488, 718, 830]', '31 in 5.13.txt: [0, 2, 60, 79, 104, 193, 201, 216, 237, 249, 290, 310, 317, 333, 345, 358, 491, 499, 653, 735, 741, 754, 847, 912, 934, 1045, 1076, 1126, 1224, 1232, 1236]', '3 in 5.14.txt: [746, 913, 1013]', '47 in 5.15.txt: [2, 5, 86, 105, 202, 215, 223, 231, 248, 270, 273, 287, 295, 324, 346, 365, 396, 415, 433, 446, 456, 467, 470, 497, 519, 523, 607, 616, 644, 719, 729, 755, 765, 775, 793, 802, 807, 846, 849, 872, 904, 924, 1008, 1037, 1073, 1077, 1121]', '34 in 5.16.txt: [0, 3, 54, 77, 89, 171, 184, 189, 204, 209, 214, 246, 250, 285, 298, 310, 317, 334, 343, 382, 395, 505, 554, 569, 587, 661, 683, 721, 818, 843, 847, 889, 905, 932]', '21 in 5.17.txt: [90, 107, 111, 300, 316, 324, 341, 361, 374, 391, 413, 424, 451, 638, 672, 732, 746, 755, 887, 927, 941]', '9 in 5.18.txt: [47, 225, 231, 245, 247, 271, 400, 533, 694]', '2 in 5.19.txt: [59, 387]', '40 in 5.2.txt: [0, 3, 52, 72, 83, 91, 101, 214, 243, 251, 262, 283, 301, 314, 326, 350, 358, 370, 389, 399, 408, 424, 434, 450, 460, 472, 478, 489, 535, 570, 579, 588, 625, 644, 663, 731, 741, 789, 802, 842]', '17 in 5.20.txt: [365, 374, 391, 406, 410, 490, 533, 536, 724, 741, 777, 793, 803, 936, 975, 983, 990]', '5 in 5.21.txt: [214, 257, 284, 533, 871]', '35 in 5.22.txt: [81, 112, 188, 199, 228, 254, 263, 275, 281, 292, 303, 312, 323, 331, 343, 380, 387, 392, 404, 409, 428, 436, 444, 475, 487, 499, 513, 543, 787, 851, 872, 908, 915, 935, 961]', '34 in 5.3.txt: [138, 304, 329, 344, 432, 442, 452, 462, 477, 624, 628, 642, 653, 664, 668, 689, 697, 714, 726, 737, 750, 752, 792, 1086, 1190, 1382, 1428, 1441, 1449, 1471, 1718, 1964, 1969, 2039]', '11 in 5.4.txt: [7, 245, 340, 364, 384, 401, 425, 427, 698, 782, 864]', '29 in 5.5.txt: [12, 31, 129, 209, 254, 261, 282, 287, 315, 329, 350, 367, 374, 402, 406, 412, 597, 718, 738, 753, 910, 965, 1192, 1212, 1250, 1267, 1436, 1473, 1524]', '18 in 5.6.txt: [83, 150, 169, 178, 216, 230, 239, 257, 289, 323, 351, 423, 443, 470, 479, 492, 509, 642]', '9 in 5.7.txt: [253, 265, 275, 305, 320, 340, 455, 705, 893]', '18 in 5.8.txt: [97, 189, 244, 255, 267, 276, 296, 315, 325, 369, 376, 619, 627, 708, 761, 838, 893, 906]', '54 in 5.9.txt: [2, 5, 67, 93, 104, 208, 217, 258, 263, 270, 281, 390, 414, 421, 430, 442, 448, 468, 507, 519, 536, 537, 548, 549, 554, 565, 616, 646, 650, 779, 795, 803, 842, 848, 869, 877, 948, 961, 988, 1001, 1017, 1037, 1047, 1057, 1080, 1091, 1102, 1126, 1152, 1215, 1228, 1251, 1284, 1437]', '3 in 6.1.txt: [173, 305, 313]', '23 in 6.10.txt: [85, 96, 104, 182, 192, 220, 245, 259, 266, 276, 333, 347, 364, 372, 401, 411, 417, 438, 600, 637, 649, 676, 686]', '12 in 6.11.txt: [197, 221, 271, 310, 378, 490, 564, 603, 627, 638, 647, 864]', '20 in 6.12.txt: [0, 8, 63, 82, 170, 203, 209, 236, 245, 258, 279, 280, 295, 308, 349, 436, 448, 587, 600, 657]', '26 in 6.13.txt: [35, 73, 159, 167, 193, 204, 231, 251, 265, 278, 285, 303, 313, 327, 347, 424, 437, 478, 486, 540, 586, 644, 664, 730, 757, 800]', '3 in 6.14.txt: [177, 199, 212]', '18 in 6.15.txt: [83, 134, 192, 215, 230, 237, 243, 254, 262, 385, 406, 425, 568, 600, 609, 622, 720, 766]', '2 in 6.16.txt: [342, 753]', '37 in 6.17.txt: [0, 4, 59, 80, 133, 152, 168, 183, 190, 251, 269, 280, 295, 306, 322, 338, 345, 414, 561, 568, 587, 594, 608, 623, 639, 651, 662, 675, 679, 698, 705, 712, 719, 756, 776, 788, 827]', '6 in 6.18.txt: [53, 309, 383, 633, 637, 857]', '8 in 6.19.txt: [217, 238, 305, 353, 380, 391, 416, 444]', '9 in 6.2.txt: [105, 355, 366, 403, 419, 427, 447, 583, 650]', '2 in 6.20.txt: [239, 384]', '5 in 6.21.txt: [785, 801, 815, 869, 944]', '3 in 6.22.txt: [61, 283, 918]', '17 in 6.23.txt: [36, 210, 218, 265, 283, 302, 308, 629, 631, 655, 671, 690, 742, 749, 770, 852, 1009]', '4 in 6.24.txt: [226, 351, 373, 503]', '34 in 6.25.txt: [138, 304, 329, 344, 432, 442, 452, 462, 477, 624, 628, 642, 653, 664, 668, 689, 697, 714, 726, 737, 750, 752, 792, 1086, 1190, 1382, 1428, 1441, 1449, 1471, 1718, 1964, 1969, 2039]', '15 in 6.3.txt: [200, 206, 226, 242, 402, 412, 426, 476, 480, 484, 505, 507, 567, 579, 779]', '7 in 6.4.txt: [157, 173, 186, 212, 231, 474, 592]', '2 in 6.5.txt: [544, 855]', '31 in 6.6.txt: [126, 134, 251, 295, 305, 311, 319, 323, 334, 348, 359, 379, 396, 409, 439, 451, 469, 511, 528, 834, 843, 852, 1004, 1018, 1084, 1110, 1134, 1141, 1423, 1523, 1543]', '5 in 6.7.txt: [293, 584, 814, 872, 961]', '4 in 6.8.txt: [212, 267, 686, 697]', '28 in 6.9.txt: [0, 2, 27, 58, 77, 90, 115, 130, 151, 164, 176, 185, 198, 212, 218, 229, 248, 263, 289, 298, 307, 309, 334, 418, 451, 457, 515, 557]', '34 in 7.1.txt: [138, 304, 329, 344, 432, 442, 452, 462, 477, 624, 628, 642, 653, 664, 668, 689, 697, 714, 726, 737, 750, 752, 792, 1086, 1190, 1382, 1428, 1441, 1449, 1471, 1718, 1964, 1969, 2039]', '9 in 7.10.txt: [683, 786, 800, 826, 858, 868, 877, 993, 1063]', '4 in 7.11.txt: [42, 196, 258, 676]', '23 in 7.12.txt: [1, 3, 56, 74, 163, 175, 207, 214, 263, 275, 375, 427, 518, 565, 574, 598, 642, 689, 734, 746, 790, 841, 889]', '19 in 7.13.txt: [34, 95, 222, 226, 244, 253, 257, 288, 299, 327, 341, 348, 470, 617, 631, 711, 907, 927, 1050]', '9 in 7.14.txt: [39, 228, 243, 277, 458, 468, 532, 580, 603]', '3 in 7.15.txt: [398, 654, 726]', '12 in 7.16.txt: [93, 254, 268, 383, 459, 840, 944, 1154, 1315, 1317, 1334, 1337]', '20 in 7.17.txt: [0, 2, 40, 63, 169, 170, 199, 208, 233, 245, 264, 279, 297, 364, 476, 499, 568, 609, 621, 666]', '3 in 7.18.txt: [377, 586, 590]', '3 in 7.19.txt: [262, 269, 848]', '4 in 7.2.txt: [254, 344, 584, 724]', '10 in 7.20.txt: [103, 233, 319, 356, 368, 392, 421, 560, 783, 851]', '3 in 7.21.txt: [378, 775, 1304]', '1 in 7.22.txt: [42]', '16 in 7.23.txt: [69, 124, 202, 234, 260, 304, 370, 401, 424, 434, 760, 881, 888, 927, 1057, 1066]', '26 in 7.24.txt: [40, 75, 149, 164, 179, 186, 202, 217, 235, 259, 267, 273, 288, 355, 362, 423, 472, 476, 482, 483, 499, 500, 507, 517, 546, 621]', '4 in 7.25.txt: [254, 344, 584, 724]', '9 in 7.3.txt: [39, 98, 196, 242, 244, 262, 279, 575, 602]', '2 in 7.4.txt: [1238, 1258]', '20 in 7.5.txt: [242, 282, 292, 296, 316, 331, 347, 357, 432, 438, 548, 560, 589, 658, 832, 844, 861, 1101, 1373, 1475]', '25 in 7.6.txt: [145, 217, 297, 343, 395, 450, 627, 643, 659, 677, 690, 702, 725, 835, 904, 983, 1064, 1076, 1232, 1328, 1334, 1363, 1386, 1425, 1480]', '48 in 7.7.txt: [1, 3, 8, 68, 86, 186, 197, 227, 248, 255, 292, 315, 333, 359, 375, 385, 398, 450, 457, 462, 475, 477, 489, 493, 510, 516, 532, 538, 554, 573, 601, 648, 658, 696, 730, 744, 766, 813, 841, 865, 892, 900, 914, 931, 961, 992, 1031, 1041]', '26 in 7.8.txt: [12, 103, 126, 149, 164, 176, 186, 195, 206, 214, 251, 313, 326, 342, 375, 381, 394, 405, 414, 421, 436, 482, 702, 711, 725, 927]']\n",
            "hhomer -> hhomer; homer 1978 total occurances: ['17 in 3.1.txt: [9, 100, 279, 305, 316, 327, 344, 350, 360, 385, 542, 550, 560, 688, 1205, 1314, 1709]', '22 in 3.10.txt: [83, 88, 97, 112, 272, 289, 292, 303, 324, 340, 385, 394, 432, 436, 444, 481, 489, 895, 906, 1038, 1077, 1241]', '28 in 3.11.txt: [10, 122, 200, 242, 271, 324, 364, 376, 387, 404, 406, 479, 494, 591, 660, 674, 690, 702, 704, 756, 767, 778, 807, 822, 954, 978, 991, 1063]', '36 in 3.12.txt: [6, 113, 264, 275, 290, 300, 308, 324, 327, 356, 381, 393, 411, 430, 433, 449, 451, 466, 488, 491, 500, 515, 537, 552, 558, 643, 670, 680, 704, 717, 749, 764, 795, 949, 959, 994]', '8 in 3.13.txt: [172, 225, 325, 330, 341, 513, 599, 634]', '25 in 3.14.txt: [36, 81, 172, 191, 199, 207, 218, 238, 248, 262, 273, 292, 302, 317, 335, 350, 486, 515, 532, 696, 769, 922, 941, 962, 994]', '23 in 3.15.txt: [0, 5, 55, 98, 104, 120, 161, 249, 285, 297, 333, 337, 350, 364, 383, 394, 528, 545, 561, 596, 615, 711, 782]', '16 in 3.16.txt: [89, 92, 118, 280, 347, 400, 424, 427, 433, 444, 498, 514, 527, 941, 968, 994]', '23 in 3.17.txt: [0, 2, 79, 106, 169, 249, 373, 480, 497, 511, 523, 529, 779, 880, 899, 1004, 1040, 1161, 1229, 1355, 1374, 1415, 1429]', '10 in 3.19.txt: [41, 50, 228, 250, 564, 657, 776, 925, 1155, 1212]', '5 in 3.2.txt: [36, 241, 282, 894, 1389]', '65 in 3.20.txt: [1, 3, 8, 82, 100, 107, 118, 128, 201, 225, 235, 295, 301, 322, 330, 347, 362, 377, 386, 398, 418, 421, 433, 444, 454, 464, 480, 506, 513, 520, 527, 559, 580, 601, 612, 644, 649, 674, 708, 799, 804, 1072, 1103, 1116, 1167, 1224, 1261, 1270, 1284, 1324, 1365, 1378, 1416, 1429, 1553, 1596, 1604, 1672, 1715, 1732, 1746, 1780, 1787, 1803, 1825]', '3 in 3.21.txt: [261, 308, 825]', '12 in 3.22.txt: [95, 238, 322, 334, 354, 372, 567, 584, 609, 618, 630, 745]', '13 in 3.23.txt: [143, 361, 376, 388, 409, 503, 507, 536, 809, 862, 879, 929, 966]', '24 in 3.24.txt: [93, 106, 116, 168, 221, 230, 249, 261, 274, 287, 295, 300, 337, 359, 440, 473, 693, 715, 761, 814, 831, 929, 997, 1117]', '13 in 3.3.txt: [73, 97, 217, 223, 248, 255, 269, 549, 744, 820, 823, 869, 877]', '3 in 3.4.txt: [321, 412, 848]', '30 in 3.5.txt: [0, 2, 63, 82, 97, 155, 181, 217, 237, 248, 254, 266, 288, 299, 305, 318, 321, 333, 341, 353, 536, 543, 646, 718, 767, 817, 851, 999, 1002, 1025]', '2 in 3.6.txt: [54, 723]', '29 in 3.7.txt: [80, 106, 128, 141, 282, 289, 346, 384, 403, 421, 428, 439, 464, 479, 486, 494, 502, 683, 852, 877, 904, 981, 1042, 1067, 1082, 1096, 1117, 1130, 1321]', '28 in 3.8.txt: [40, 49, 88, 112, 120, 209, 226, 237, 257, 263, 295, 308, 331, 339, 347, 501, 560, 582, 593, 602, 647, 673, 741, 792, 892, 899, 1003, 1016]', '27 in 3.9.txt: [74, 88, 101, 104, 183, 197, 221, 253, 267, 277, 294, 301, 402, 415, 511, 544, 553, 586, 619, 630, 636, 693, 896, 910, 920, 939, 969]', '6 in 4.1.txt: [123, 142, 206, 211, 295, 382]', '12 in 4.10.txt: [228, 242, 325, 363, 368, 466, 491, 521, 531, 1107, 1137, 1147]', '27 in 4.11.txt: [0, 4, 56, 77, 88, 128, 164, 173, 188, 199, 266, 276, 321, 326, 337, 386, 401, 415, 434, 451, 473, 491, 503, 513, 521, 538, 567]', '9 in 4.12.txt: [269, 371, 391, 402, 603, 674, 695, 709, 1040]', '9 in 4.13.txt: [135, 223, 258, 300, 321, 412, 484, 516, 658]', '21 in 4.14.txt: [79, 93, 172, 211, 213, 230, 243, 249, 498, 520, 563, 573, 589, 608, 629, 634, 729, 767, 797, 816, 851]', '3 in 4.15.txt: [364, 368, 605]', '13 in 4.16.txt: [83, 219, 232, 256, 271, 276, 313, 412, 422, 493, 508, 521, 601]', '24 in 4.17.txt: [82, 221, 245, 265, 276, 282, 286, 294, 304, 333, 341, 357, 365, 432, 437, 441, 448, 618, 697, 782, 876, 878, 1015, 1040]', '44 in 4.18.txt: [75, 85, 90, 99, 108, 186, 203, 216, 229, 247, 256, 271, 280, 284, 301, 306, 318, 454, 516, 520, 527, 530, 539, 554, 557, 587, 612, 621, 624, 632, 650, 662, 667, 679, 698, 708, 726, 733, 746, 776, 794, 808, 833, 925]', '9 in 4.19.txt: [90, 136, 262, 272, 283, 295, 302, 607, 618]', '21 in 4.2.txt: [98, 228, 261, 294, 366, 370, 379, 384, 390, 417, 435, 443, 459, 466, 495, 529, 551, 793, 1040, 1081, 1558]', '2 in 4.20.txt: [717, 720]', '3 in 4.21.txt: [100, 516, 642]', '4 in 4.22.txt: [139, 226, 558, 1247]', '36 in 4.3.txt: [0, 2, 4, 65, 84, 134, 147, 180, 222, 230, 244, 249, 252, 272, 281, 295, 326, 332, 342, 348, 362, 383, 435, 448, 457, 475, 485, 641, 655, 686, 735, 742, 783, 816, 857, 892]', '11 in 4.4.txt: [43, 88, 186, 225, 233, 370, 382, 389, 396, 427, 476]', '33 in 4.5.txt: [84, 92, 128, 146, 166, 202, 221, 238, 251, 263, 297, 302, 316, 343, 366, 376, 390, 393, 403, 410, 431, 501, 507, 600, 644, 653, 665, 709, 718, 733, 757, 765, 940]', '20 in 4.6.txt: [71, 78, 93, 119, 135, 168, 181, 187, 212, 223, 241, 251, 261, 276, 278, 297, 309, 320, 526, 672]', '7 in 4.7.txt: [55, 154, 160, 171, 218, 222, 427]', '11 in 4.8.txt: [115, 159, 184, 193, 209, 235, 238, 354, 428, 437, 493]', '31 in 4.9.txt: [9, 84, 102, 132, 174, 183, 196, 214, 217, 226, 255, 272, 299, 300, 310, 325, 339, 350, 378, 397, 469, 551, 567, 593, 603, 657, 732, 941, 1006, 1066, 1178]', '42 in 5.1.txt: [0, 4, 10, 89, 115, 154, 159, 211, 267, 271, 287, 310, 342, 364, 367, 378, 417, 427, 448, 472, 521, 539, 544, 582, 615, 890, 916, 930, 1051, 1063, 1157, 1175, 1214, 1256, 1277, 1299, 1320, 1486, 1497, 1520, 1544, 1581]', '15 in 5.10.txt: [113, 239, 255, 348, 356, 379, 388, 405, 511, 647, 728, 756, 805, 862, 927]', '25 in 5.11.txt: [0, 2, 54, 85, 91, 105, 129, 230, 246, 268, 280, 297, 315, 335, 471, 574, 582, 600, 624, 759, 768, 794, 798, 804, 827]', '4 in 5.12.txt: [414, 488, 718, 830]', '31 in 5.13.txt: [0, 2, 60, 79, 104, 193, 201, 216, 237, 249, 290, 310, 317, 333, 345, 358, 491, 499, 653, 735, 741, 754, 847, 912, 934, 1045, 1076, 1126, 1224, 1232, 1236]', '3 in 5.14.txt: [746, 913, 1013]', '47 in 5.15.txt: [2, 5, 86, 105, 202, 215, 223, 231, 248, 270, 273, 287, 295, 324, 346, 365, 396, 415, 433, 446, 456, 467, 470, 497, 519, 523, 607, 616, 644, 719, 729, 755, 765, 775, 793, 802, 807, 846, 849, 872, 904, 924, 1008, 1037, 1073, 1077, 1121]', '34 in 5.16.txt: [0, 3, 54, 77, 89, 171, 184, 189, 204, 209, 214, 246, 250, 285, 298, 310, 317, 334, 343, 382, 395, 505, 554, 569, 587, 661, 683, 721, 818, 843, 847, 889, 905, 932]', '21 in 5.17.txt: [90, 107, 111, 300, 316, 324, 341, 361, 374, 391, 413, 424, 451, 638, 672, 732, 746, 755, 887, 927, 941]', '9 in 5.18.txt: [47, 225, 231, 245, 247, 271, 400, 533, 694]', '2 in 5.19.txt: [59, 387]', '40 in 5.2.txt: [0, 3, 52, 72, 83, 91, 101, 214, 243, 251, 262, 283, 301, 314, 326, 350, 358, 370, 389, 399, 408, 424, 434, 450, 460, 472, 478, 489, 535, 570, 579, 588, 625, 644, 663, 731, 741, 789, 802, 842]', '17 in 5.20.txt: [365, 374, 391, 406, 410, 490, 533, 536, 724, 741, 777, 793, 803, 936, 975, 983, 990]', '5 in 5.21.txt: [214, 257, 284, 533, 871]', '35 in 5.22.txt: [81, 112, 188, 199, 228, 254, 263, 275, 281, 292, 303, 312, 323, 331, 343, 380, 387, 392, 404, 409, 428, 436, 444, 475, 487, 499, 513, 543, 787, 851, 872, 908, 915, 935, 961]', '34 in 5.3.txt: [138, 304, 329, 344, 432, 442, 452, 462, 477, 624, 628, 642, 653, 664, 668, 689, 697, 714, 726, 737, 750, 752, 792, 1086, 1190, 1382, 1428, 1441, 1449, 1471, 1718, 1964, 1969, 2039]', '11 in 5.4.txt: [7, 245, 340, 364, 384, 401, 425, 427, 698, 782, 864]', '29 in 5.5.txt: [12, 31, 129, 209, 254, 261, 282, 287, 315, 329, 350, 367, 374, 402, 406, 412, 597, 718, 738, 753, 910, 965, 1192, 1212, 1250, 1267, 1436, 1473, 1524]', '18 in 5.6.txt: [83, 150, 169, 178, 216, 230, 239, 257, 289, 323, 351, 423, 443, 470, 479, 492, 509, 642]', '9 in 5.7.txt: [253, 265, 275, 305, 320, 340, 455, 705, 893]', '18 in 5.8.txt: [97, 189, 244, 255, 267, 276, 296, 315, 325, 369, 376, 619, 627, 708, 761, 838, 893, 906]', '54 in 5.9.txt: [2, 5, 67, 93, 104, 208, 217, 258, 263, 270, 281, 390, 414, 421, 430, 442, 448, 468, 507, 519, 536, 537, 548, 549, 554, 565, 616, 646, 650, 779, 795, 803, 842, 848, 869, 877, 948, 961, 988, 1001, 1017, 1037, 1047, 1057, 1080, 1091, 1102, 1126, 1152, 1215, 1228, 1251, 1284, 1437]', '3 in 6.1.txt: [173, 305, 313]', '23 in 6.10.txt: [85, 96, 104, 182, 192, 220, 245, 259, 266, 276, 333, 347, 364, 372, 401, 411, 417, 438, 600, 637, 649, 676, 686]', '12 in 6.11.txt: [197, 221, 271, 310, 378, 490, 564, 603, 627, 638, 647, 864]', '20 in 6.12.txt: [0, 8, 63, 82, 170, 203, 209, 236, 245, 258, 279, 280, 295, 308, 349, 436, 448, 587, 600, 657]', '26 in 6.13.txt: [35, 73, 159, 167, 193, 204, 231, 251, 265, 278, 285, 303, 313, 327, 347, 424, 437, 478, 486, 540, 586, 644, 664, 730, 757, 800]', '3 in 6.14.txt: [177, 199, 212]', '18 in 6.15.txt: [83, 134, 192, 215, 230, 237, 243, 254, 262, 385, 406, 425, 568, 600, 609, 622, 720, 766]', '2 in 6.16.txt: [342, 753]', '37 in 6.17.txt: [0, 4, 59, 80, 133, 152, 168, 183, 190, 251, 269, 280, 295, 306, 322, 338, 345, 414, 561, 568, 587, 594, 608, 623, 639, 651, 662, 675, 679, 698, 705, 712, 719, 756, 776, 788, 827]', '6 in 6.18.txt: [53, 309, 383, 633, 637, 857]', '8 in 6.19.txt: [217, 238, 305, 353, 380, 391, 416, 444]', '9 in 6.2.txt: [105, 355, 366, 403, 419, 427, 447, 583, 650]', '2 in 6.20.txt: [239, 384]', '5 in 6.21.txt: [785, 801, 815, 869, 944]', '3 in 6.22.txt: [61, 283, 918]', '17 in 6.23.txt: [36, 210, 218, 265, 283, 302, 308, 629, 631, 655, 671, 690, 742, 749, 770, 852, 1009]', '4 in 6.24.txt: [226, 351, 373, 503]', '34 in 6.25.txt: [138, 304, 329, 344, 432, 442, 452, 462, 477, 624, 628, 642, 653, 664, 668, 689, 697, 714, 726, 737, 750, 752, 792, 1086, 1190, 1382, 1428, 1441, 1449, 1471, 1718, 1964, 1969, 2039]', '15 in 6.3.txt: [200, 206, 226, 242, 402, 412, 426, 476, 480, 484, 505, 507, 567, 579, 779]', '7 in 6.4.txt: [157, 173, 186, 212, 231, 474, 592]', '2 in 6.5.txt: [544, 855]', '31 in 6.6.txt: [126, 134, 251, 295, 305, 311, 319, 323, 334, 348, 359, 379, 396, 409, 439, 451, 469, 511, 528, 834, 843, 852, 1004, 1018, 1084, 1110, 1134, 1141, 1423, 1523, 1543]', '5 in 6.7.txt: [293, 584, 814, 872, 961]', '4 in 6.8.txt: [212, 267, 686, 697]', '28 in 6.9.txt: [0, 2, 27, 58, 77, 90, 115, 130, 151, 164, 176, 185, 198, 212, 218, 229, 248, 263, 289, 298, 307, 309, 334, 418, 451, 457, 515, 557]', '34 in 7.1.txt: [138, 304, 329, 344, 432, 442, 452, 462, 477, 624, 628, 642, 653, 664, 668, 689, 697, 714, 726, 737, 750, 752, 792, 1086, 1190, 1382, 1428, 1441, 1449, 1471, 1718, 1964, 1969, 2039]', '9 in 7.10.txt: [683, 786, 800, 826, 858, 868, 877, 993, 1063]', '4 in 7.11.txt: [42, 196, 258, 676]', '23 in 7.12.txt: [1, 3, 56, 74, 163, 175, 207, 214, 263, 275, 375, 427, 518, 565, 574, 598, 642, 689, 734, 746, 790, 841, 889]', '19 in 7.13.txt: [34, 95, 222, 226, 244, 253, 257, 288, 299, 327, 341, 348, 470, 617, 631, 711, 907, 927, 1050]', '9 in 7.14.txt: [39, 228, 243, 277, 458, 468, 532, 580, 603]', '3 in 7.15.txt: [398, 654, 726]', '12 in 7.16.txt: [93, 254, 268, 383, 459, 840, 944, 1154, 1315, 1317, 1334, 1337]', '20 in 7.17.txt: [0, 2, 40, 63, 169, 170, 199, 208, 233, 245, 264, 279, 297, 364, 476, 499, 568, 609, 621, 666]', '3 in 7.18.txt: [377, 586, 590]', '3 in 7.19.txt: [262, 269, 848]', '4 in 7.2.txt: [254, 344, 584, 724]', '10 in 7.20.txt: [103, 233, 319, 356, 368, 392, 421, 560, 783, 851]', '3 in 7.21.txt: [378, 775, 1304]', '1 in 7.22.txt: [42]', '16 in 7.23.txt: [69, 124, 202, 234, 260, 304, 370, 401, 424, 434, 760, 881, 888, 927, 1057, 1066]', '26 in 7.24.txt: [40, 75, 149, 164, 179, 186, 202, 217, 235, 259, 267, 273, 288, 355, 362, 423, 472, 476, 482, 483, 499, 500, 507, 517, 546, 621]', '4 in 7.25.txt: [254, 344, 584, 724]', '9 in 7.3.txt: [39, 98, 196, 242, 244, 262, 279, 575, 602]', '2 in 7.4.txt: [1238, 1258]', '20 in 7.5.txt: [242, 282, 292, 296, 316, 331, 347, 357, 432, 438, 548, 560, 589, 658, 832, 844, 861, 1101, 1373, 1475]', '25 in 7.6.txt: [145, 217, 297, 343, 395, 450, 627, 643, 659, 677, 690, 702, 725, 835, 904, 983, 1064, 1076, 1232, 1328, 1334, 1363, 1386, 1425, 1480]', '48 in 7.7.txt: [1, 3, 8, 68, 86, 186, 197, 227, 248, 255, 292, 315, 333, 359, 375, 385, 398, 450, 457, 462, 475, 477, 489, 493, 510, 516, 532, 538, 554, 573, 601, 648, 658, 696, 730, 744, 766, 813, 841, 865, 892, 900, 914, 931, 961, 992, 1031, 1041]', '26 in 7.8.txt: [12, 103, 126, 149, 164, 176, 186, 195, 206, 214, 251, 313, 326, 342, 375, 381, 394, 405, 414, 421, 436, 482, 702, 711, 725, 927]']\n",
            "hmoer -> hmoer; homer 1978 total occurances: ['17 in 3.1.txt: [9, 100, 279, 305, 316, 327, 344, 350, 360, 385, 542, 550, 560, 688, 1205, 1314, 1709]', '22 in 3.10.txt: [83, 88, 97, 112, 272, 289, 292, 303, 324, 340, 385, 394, 432, 436, 444, 481, 489, 895, 906, 1038, 1077, 1241]', '28 in 3.11.txt: [10, 122, 200, 242, 271, 324, 364, 376, 387, 404, 406, 479, 494, 591, 660, 674, 690, 702, 704, 756, 767, 778, 807, 822, 954, 978, 991, 1063]', '36 in 3.12.txt: [6, 113, 264, 275, 290, 300, 308, 324, 327, 356, 381, 393, 411, 430, 433, 449, 451, 466, 488, 491, 500, 515, 537, 552, 558, 643, 670, 680, 704, 717, 749, 764, 795, 949, 959, 994]', '8 in 3.13.txt: [172, 225, 325, 330, 341, 513, 599, 634]', '25 in 3.14.txt: [36, 81, 172, 191, 199, 207, 218, 238, 248, 262, 273, 292, 302, 317, 335, 350, 486, 515, 532, 696, 769, 922, 941, 962, 994]', '23 in 3.15.txt: [0, 5, 55, 98, 104, 120, 161, 249, 285, 297, 333, 337, 350, 364, 383, 394, 528, 545, 561, 596, 615, 711, 782]', '16 in 3.16.txt: [89, 92, 118, 280, 347, 400, 424, 427, 433, 444, 498, 514, 527, 941, 968, 994]', '23 in 3.17.txt: [0, 2, 79, 106, 169, 249, 373, 480, 497, 511, 523, 529, 779, 880, 899, 1004, 1040, 1161, 1229, 1355, 1374, 1415, 1429]', '10 in 3.19.txt: [41, 50, 228, 250, 564, 657, 776, 925, 1155, 1212]', '5 in 3.2.txt: [36, 241, 282, 894, 1389]', '65 in 3.20.txt: [1, 3, 8, 82, 100, 107, 118, 128, 201, 225, 235, 295, 301, 322, 330, 347, 362, 377, 386, 398, 418, 421, 433, 444, 454, 464, 480, 506, 513, 520, 527, 559, 580, 601, 612, 644, 649, 674, 708, 799, 804, 1072, 1103, 1116, 1167, 1224, 1261, 1270, 1284, 1324, 1365, 1378, 1416, 1429, 1553, 1596, 1604, 1672, 1715, 1732, 1746, 1780, 1787, 1803, 1825]', '3 in 3.21.txt: [261, 308, 825]', '12 in 3.22.txt: [95, 238, 322, 334, 354, 372, 567, 584, 609, 618, 630, 745]', '13 in 3.23.txt: [143, 361, 376, 388, 409, 503, 507, 536, 809, 862, 879, 929, 966]', '24 in 3.24.txt: [93, 106, 116, 168, 221, 230, 249, 261, 274, 287, 295, 300, 337, 359, 440, 473, 693, 715, 761, 814, 831, 929, 997, 1117]', '13 in 3.3.txt: [73, 97, 217, 223, 248, 255, 269, 549, 744, 820, 823, 869, 877]', '3 in 3.4.txt: [321, 412, 848]', '30 in 3.5.txt: [0, 2, 63, 82, 97, 155, 181, 217, 237, 248, 254, 266, 288, 299, 305, 318, 321, 333, 341, 353, 536, 543, 646, 718, 767, 817, 851, 999, 1002, 1025]', '2 in 3.6.txt: [54, 723]', '29 in 3.7.txt: [80, 106, 128, 141, 282, 289, 346, 384, 403, 421, 428, 439, 464, 479, 486, 494, 502, 683, 852, 877, 904, 981, 1042, 1067, 1082, 1096, 1117, 1130, 1321]', '28 in 3.8.txt: [40, 49, 88, 112, 120, 209, 226, 237, 257, 263, 295, 308, 331, 339, 347, 501, 560, 582, 593, 602, 647, 673, 741, 792, 892, 899, 1003, 1016]', '27 in 3.9.txt: [74, 88, 101, 104, 183, 197, 221, 253, 267, 277, 294, 301, 402, 415, 511, 544, 553, 586, 619, 630, 636, 693, 896, 910, 920, 939, 969]', '6 in 4.1.txt: [123, 142, 206, 211, 295, 382]', '12 in 4.10.txt: [228, 242, 325, 363, 368, 466, 491, 521, 531, 1107, 1137, 1147]', '27 in 4.11.txt: [0, 4, 56, 77, 88, 128, 164, 173, 188, 199, 266, 276, 321, 326, 337, 386, 401, 415, 434, 451, 473, 491, 503, 513, 521, 538, 567]', '9 in 4.12.txt: [269, 371, 391, 402, 603, 674, 695, 709, 1040]', '9 in 4.13.txt: [135, 223, 258, 300, 321, 412, 484, 516, 658]', '21 in 4.14.txt: [79, 93, 172, 211, 213, 230, 243, 249, 498, 520, 563, 573, 589, 608, 629, 634, 729, 767, 797, 816, 851]', '3 in 4.15.txt: [364, 368, 605]', '13 in 4.16.txt: [83, 219, 232, 256, 271, 276, 313, 412, 422, 493, 508, 521, 601]', '24 in 4.17.txt: [82, 221, 245, 265, 276, 282, 286, 294, 304, 333, 341, 357, 365, 432, 437, 441, 448, 618, 697, 782, 876, 878, 1015, 1040]', '44 in 4.18.txt: [75, 85, 90, 99, 108, 186, 203, 216, 229, 247, 256, 271, 280, 284, 301, 306, 318, 454, 516, 520, 527, 530, 539, 554, 557, 587, 612, 621, 624, 632, 650, 662, 667, 679, 698, 708, 726, 733, 746, 776, 794, 808, 833, 925]', '9 in 4.19.txt: [90, 136, 262, 272, 283, 295, 302, 607, 618]', '21 in 4.2.txt: [98, 228, 261, 294, 366, 370, 379, 384, 390, 417, 435, 443, 459, 466, 495, 529, 551, 793, 1040, 1081, 1558]', '2 in 4.20.txt: [717, 720]', '3 in 4.21.txt: [100, 516, 642]', '4 in 4.22.txt: [139, 226, 558, 1247]', '36 in 4.3.txt: [0, 2, 4, 65, 84, 134, 147, 180, 222, 230, 244, 249, 252, 272, 281, 295, 326, 332, 342, 348, 362, 383, 435, 448, 457, 475, 485, 641, 655, 686, 735, 742, 783, 816, 857, 892]', '11 in 4.4.txt: [43, 88, 186, 225, 233, 370, 382, 389, 396, 427, 476]', '33 in 4.5.txt: [84, 92, 128, 146, 166, 202, 221, 238, 251, 263, 297, 302, 316, 343, 366, 376, 390, 393, 403, 410, 431, 501, 507, 600, 644, 653, 665, 709, 718, 733, 757, 765, 940]', '20 in 4.6.txt: [71, 78, 93, 119, 135, 168, 181, 187, 212, 223, 241, 251, 261, 276, 278, 297, 309, 320, 526, 672]', '7 in 4.7.txt: [55, 154, 160, 171, 218, 222, 427]', '11 in 4.8.txt: [115, 159, 184, 193, 209, 235, 238, 354, 428, 437, 493]', '31 in 4.9.txt: [9, 84, 102, 132, 174, 183, 196, 214, 217, 226, 255, 272, 299, 300, 310, 325, 339, 350, 378, 397, 469, 551, 567, 593, 603, 657, 732, 941, 1006, 1066, 1178]', '42 in 5.1.txt: [0, 4, 10, 89, 115, 154, 159, 211, 267, 271, 287, 310, 342, 364, 367, 378, 417, 427, 448, 472, 521, 539, 544, 582, 615, 890, 916, 930, 1051, 1063, 1157, 1175, 1214, 1256, 1277, 1299, 1320, 1486, 1497, 1520, 1544, 1581]', '15 in 5.10.txt: [113, 239, 255, 348, 356, 379, 388, 405, 511, 647, 728, 756, 805, 862, 927]', '25 in 5.11.txt: [0, 2, 54, 85, 91, 105, 129, 230, 246, 268, 280, 297, 315, 335, 471, 574, 582, 600, 624, 759, 768, 794, 798, 804, 827]', '4 in 5.12.txt: [414, 488, 718, 830]', '31 in 5.13.txt: [0, 2, 60, 79, 104, 193, 201, 216, 237, 249, 290, 310, 317, 333, 345, 358, 491, 499, 653, 735, 741, 754, 847, 912, 934, 1045, 1076, 1126, 1224, 1232, 1236]', '3 in 5.14.txt: [746, 913, 1013]', '47 in 5.15.txt: [2, 5, 86, 105, 202, 215, 223, 231, 248, 270, 273, 287, 295, 324, 346, 365, 396, 415, 433, 446, 456, 467, 470, 497, 519, 523, 607, 616, 644, 719, 729, 755, 765, 775, 793, 802, 807, 846, 849, 872, 904, 924, 1008, 1037, 1073, 1077, 1121]', '34 in 5.16.txt: [0, 3, 54, 77, 89, 171, 184, 189, 204, 209, 214, 246, 250, 285, 298, 310, 317, 334, 343, 382, 395, 505, 554, 569, 587, 661, 683, 721, 818, 843, 847, 889, 905, 932]', '21 in 5.17.txt: [90, 107, 111, 300, 316, 324, 341, 361, 374, 391, 413, 424, 451, 638, 672, 732, 746, 755, 887, 927, 941]', '9 in 5.18.txt: [47, 225, 231, 245, 247, 271, 400, 533, 694]', '2 in 5.19.txt: [59, 387]', '40 in 5.2.txt: [0, 3, 52, 72, 83, 91, 101, 214, 243, 251, 262, 283, 301, 314, 326, 350, 358, 370, 389, 399, 408, 424, 434, 450, 460, 472, 478, 489, 535, 570, 579, 588, 625, 644, 663, 731, 741, 789, 802, 842]', '17 in 5.20.txt: [365, 374, 391, 406, 410, 490, 533, 536, 724, 741, 777, 793, 803, 936, 975, 983, 990]', '5 in 5.21.txt: [214, 257, 284, 533, 871]', '35 in 5.22.txt: [81, 112, 188, 199, 228, 254, 263, 275, 281, 292, 303, 312, 323, 331, 343, 380, 387, 392, 404, 409, 428, 436, 444, 475, 487, 499, 513, 543, 787, 851, 872, 908, 915, 935, 961]', '34 in 5.3.txt: [138, 304, 329, 344, 432, 442, 452, 462, 477, 624, 628, 642, 653, 664, 668, 689, 697, 714, 726, 737, 750, 752, 792, 1086, 1190, 1382, 1428, 1441, 1449, 1471, 1718, 1964, 1969, 2039]', '11 in 5.4.txt: [7, 245, 340, 364, 384, 401, 425, 427, 698, 782, 864]', '29 in 5.5.txt: [12, 31, 129, 209, 254, 261, 282, 287, 315, 329, 350, 367, 374, 402, 406, 412, 597, 718, 738, 753, 910, 965, 1192, 1212, 1250, 1267, 1436, 1473, 1524]', '18 in 5.6.txt: [83, 150, 169, 178, 216, 230, 239, 257, 289, 323, 351, 423, 443, 470, 479, 492, 509, 642]', '9 in 5.7.txt: [253, 265, 275, 305, 320, 340, 455, 705, 893]', '18 in 5.8.txt: [97, 189, 244, 255, 267, 276, 296, 315, 325, 369, 376, 619, 627, 708, 761, 838, 893, 906]', '54 in 5.9.txt: [2, 5, 67, 93, 104, 208, 217, 258, 263, 270, 281, 390, 414, 421, 430, 442, 448, 468, 507, 519, 536, 537, 548, 549, 554, 565, 616, 646, 650, 779, 795, 803, 842, 848, 869, 877, 948, 961, 988, 1001, 1017, 1037, 1047, 1057, 1080, 1091, 1102, 1126, 1152, 1215, 1228, 1251, 1284, 1437]', '3 in 6.1.txt: [173, 305, 313]', '23 in 6.10.txt: [85, 96, 104, 182, 192, 220, 245, 259, 266, 276, 333, 347, 364, 372, 401, 411, 417, 438, 600, 637, 649, 676, 686]', '12 in 6.11.txt: [197, 221, 271, 310, 378, 490, 564, 603, 627, 638, 647, 864]', '20 in 6.12.txt: [0, 8, 63, 82, 170, 203, 209, 236, 245, 258, 279, 280, 295, 308, 349, 436, 448, 587, 600, 657]', '26 in 6.13.txt: [35, 73, 159, 167, 193, 204, 231, 251, 265, 278, 285, 303, 313, 327, 347, 424, 437, 478, 486, 540, 586, 644, 664, 730, 757, 800]', '3 in 6.14.txt: [177, 199, 212]', '18 in 6.15.txt: [83, 134, 192, 215, 230, 237, 243, 254, 262, 385, 406, 425, 568, 600, 609, 622, 720, 766]', '2 in 6.16.txt: [342, 753]', '37 in 6.17.txt: [0, 4, 59, 80, 133, 152, 168, 183, 190, 251, 269, 280, 295, 306, 322, 338, 345, 414, 561, 568, 587, 594, 608, 623, 639, 651, 662, 675, 679, 698, 705, 712, 719, 756, 776, 788, 827]', '6 in 6.18.txt: [53, 309, 383, 633, 637, 857]', '8 in 6.19.txt: [217, 238, 305, 353, 380, 391, 416, 444]', '9 in 6.2.txt: [105, 355, 366, 403, 419, 427, 447, 583, 650]', '2 in 6.20.txt: [239, 384]', '5 in 6.21.txt: [785, 801, 815, 869, 944]', '3 in 6.22.txt: [61, 283, 918]', '17 in 6.23.txt: [36, 210, 218, 265, 283, 302, 308, 629, 631, 655, 671, 690, 742, 749, 770, 852, 1009]', '4 in 6.24.txt: [226, 351, 373, 503]', '34 in 6.25.txt: [138, 304, 329, 344, 432, 442, 452, 462, 477, 624, 628, 642, 653, 664, 668, 689, 697, 714, 726, 737, 750, 752, 792, 1086, 1190, 1382, 1428, 1441, 1449, 1471, 1718, 1964, 1969, 2039]', '15 in 6.3.txt: [200, 206, 226, 242, 402, 412, 426, 476, 480, 484, 505, 507, 567, 579, 779]', '7 in 6.4.txt: [157, 173, 186, 212, 231, 474, 592]', '2 in 6.5.txt: [544, 855]', '31 in 6.6.txt: [126, 134, 251, 295, 305, 311, 319, 323, 334, 348, 359, 379, 396, 409, 439, 451, 469, 511, 528, 834, 843, 852, 1004, 1018, 1084, 1110, 1134, 1141, 1423, 1523, 1543]', '5 in 6.7.txt: [293, 584, 814, 872, 961]', '4 in 6.8.txt: [212, 267, 686, 697]', '28 in 6.9.txt: [0, 2, 27, 58, 77, 90, 115, 130, 151, 164, 176, 185, 198, 212, 218, 229, 248, 263, 289, 298, 307, 309, 334, 418, 451, 457, 515, 557]', '34 in 7.1.txt: [138, 304, 329, 344, 432, 442, 452, 462, 477, 624, 628, 642, 653, 664, 668, 689, 697, 714, 726, 737, 750, 752, 792, 1086, 1190, 1382, 1428, 1441, 1449, 1471, 1718, 1964, 1969, 2039]', '9 in 7.10.txt: [683, 786, 800, 826, 858, 868, 877, 993, 1063]', '4 in 7.11.txt: [42, 196, 258, 676]', '23 in 7.12.txt: [1, 3, 56, 74, 163, 175, 207, 214, 263, 275, 375, 427, 518, 565, 574, 598, 642, 689, 734, 746, 790, 841, 889]', '19 in 7.13.txt: [34, 95, 222, 226, 244, 253, 257, 288, 299, 327, 341, 348, 470, 617, 631, 711, 907, 927, 1050]', '9 in 7.14.txt: [39, 228, 243, 277, 458, 468, 532, 580, 603]', '3 in 7.15.txt: [398, 654, 726]', '12 in 7.16.txt: [93, 254, 268, 383, 459, 840, 944, 1154, 1315, 1317, 1334, 1337]', '20 in 7.17.txt: [0, 2, 40, 63, 169, 170, 199, 208, 233, 245, 264, 279, 297, 364, 476, 499, 568, 609, 621, 666]', '3 in 7.18.txt: [377, 586, 590]', '3 in 7.19.txt: [262, 269, 848]', '4 in 7.2.txt: [254, 344, 584, 724]', '10 in 7.20.txt: [103, 233, 319, 356, 368, 392, 421, 560, 783, 851]', '3 in 7.21.txt: [378, 775, 1304]', '1 in 7.22.txt: [42]', '16 in 7.23.txt: [69, 124, 202, 234, 260, 304, 370, 401, 424, 434, 760, 881, 888, 927, 1057, 1066]', '26 in 7.24.txt: [40, 75, 149, 164, 179, 186, 202, 217, 235, 259, 267, 273, 288, 355, 362, 423, 472, 476, 482, 483, 499, 500, 507, 517, 546, 621]', '4 in 7.25.txt: [254, 344, 584, 724]', '9 in 7.3.txt: [39, 98, 196, 242, 244, 262, 279, 575, 602]', '2 in 7.4.txt: [1238, 1258]', '20 in 7.5.txt: [242, 282, 292, 296, 316, 331, 347, 357, 432, 438, 548, 560, 589, 658, 832, 844, 861, 1101, 1373, 1475]', '25 in 7.6.txt: [145, 217, 297, 343, 395, 450, 627, 643, 659, 677, 690, 702, 725, 835, 904, 983, 1064, 1076, 1232, 1328, 1334, 1363, 1386, 1425, 1480]', '48 in 7.7.txt: [1, 3, 8, 68, 86, 186, 197, 227, 248, 255, 292, 315, 333, 359, 375, 385, 398, 450, 457, 462, 475, 477, 489, 493, 510, 516, 532, 538, 554, 573, 601, 648, 658, 696, 730, 744, 766, 813, 841, 865, 892, 900, 914, 931, 961, 992, 1031, 1041]', '26 in 7.8.txt: [12, 103, 126, 149, 164, 176, 186, 195, 206, 214, 251, 313, 326, 342, 375, 381, 394, 405, 414, 421, 436, 482, 702, 711, 725, 927]']\n"
          ]
        }
      ]
    },
    {
      "cell_type": "markdown",
      "source": [
        "### Print out most frequent words within the corpus"
      ],
      "metadata": {
        "id": "1tJzmR9xvFop"
      }
    },
    {
      "cell_type": "code",
      "source": [
        "sorted([(k,v.total_occurances) for k, v in index.inverted_index.items()], key=lambda x: x[1], reverse=True)[:100]"
      ],
      "metadata": {
        "colab": {
          "base_uri": "https://localhost:8080/"
        },
        "id": "gmH_ixZQtzma",
        "outputId": "fca2c4a8-ec72-46aa-bbb9-dec32afc7d07"
      },
      "execution_count": 201,
      "outputs": [
        {
          "output_type": "execute_result",
          "data": {
            "text/plain": [
              "[(\"'s\", 3198),\n",
              " ('homer', 1978),\n",
              " ('simpson', 1374),\n",
              " ('bart', 1231),\n",
              " ('show', 1083),\n",
              " ('lisa', 861),\n",
              " ('refer', 849),\n",
              " ('one', 751),\n",
              " ('marg', 660),\n",
              " ('burn', 632),\n",
              " ('season', 599),\n",
              " ('origin', 542),\n",
              " ('air', 540),\n",
              " ('film', 516),\n",
              " ('scene', 498),\n",
              " ('rate', 492),\n",
              " ('product', 442),\n",
              " ('anim', 433),\n",
              " ('appear', 425),\n",
              " ('direct', 393),\n",
              " ('fox', 391),\n",
              " ('written', 390),\n",
              " ('televis', 386),\n",
              " ('guest', 382),\n",
              " ('springfield', 377),\n",
              " ('name', 372),\n",
              " ('get', 367),\n",
              " ('famili', 366),\n",
              " ('seri', 366),\n",
              " ('recept', 353),\n",
              " ('first', 344),\n",
              " ('make', 343),\n",
              " ('time', 343),\n",
              " ('david', 335),\n",
              " ('plot', 335),\n",
              " ('song', 335),\n",
              " ('charact', 333),\n",
              " ('writer', 330),\n",
              " ('featur', 327),\n",
              " ('also', 322),\n",
              " ('critic', 321),\n",
              " ('use', 319),\n",
              " ('week', 314),\n",
              " ('cultur', 313),\n",
              " ('mr.', 309),\n",
              " ('said', 308),\n",
              " ('best', 307),\n",
              " ('star', 290),\n",
              " ('network', 288),\n",
              " ('call', 286),\n",
              " ('like', 275),\n",
              " ('end', 272),\n",
              " ('parodi', 269),\n",
              " ('american', 265),\n",
              " ('krusti', 263),\n",
              " ('gag', 258),\n",
              " ('dvd', 257),\n",
              " ('mr. burn', 250),\n",
              " ('state', 249),\n",
              " (\"n't\", 248),\n",
              " ('groen', 245),\n",
              " ('includ', 243),\n",
              " ('receiv', 241),\n",
              " ('two', 240),\n",
              " ('play', 239),\n",
              " ('part', 237),\n",
              " ('oakley', 232),\n",
              " ('mirkin', 229),\n",
              " ('voic', 228),\n",
              " ('couch', 219),\n",
              " ('book', 218),\n",
              " ('5', 215),\n",
              " ('new', 215),\n",
              " ('say', 215),\n",
              " ('produc', 214),\n",
              " ('tri', 213),\n",
              " ('work', 212),\n",
              " ('sever', 208),\n",
              " ('4', 202),\n",
              " ('guid', 202),\n",
              " ('want', 202),\n",
              " ('bill', 200),\n",
              " ('line', 194),\n",
              " ('review', 194),\n",
              " ('day', 193),\n",
              " ('matt', 192),\n",
              " ('music', 188),\n",
              " ('nielsen', 188),\n",
              " ('write', 188),\n",
              " ('3', 187),\n",
              " ('matt groen', 186),\n",
              " ('school', 185),\n",
              " ('see', 184),\n",
              " ('idea', 182),\n",
              " ('stori', 182),\n",
              " ('unit', 182),\n",
              " ('decid', 181),\n",
              " ('perform', 181),\n",
              " ('take', 181),\n",
              " ('jean', 179)]"
            ]
          },
          "metadata": {},
          "execution_count": 201
        }
      ]
    },
    {
      "cell_type": "markdown",
      "source": [
        "## Test positional indexing"
      ],
      "metadata": {
        "id": "Kms5rGcflhG2"
      }
    },
    {
      "cell_type": "code",
      "source": [
        "# it's possible to find Gordie Howe using Boolean queries, even though he's not in the index\n",
        "index.proximity_search('Gordie', 'Howe', 1)"
      ],
      "metadata": {
        "id": "wld3Ax7Kk5K9",
        "colab": {
          "base_uri": "https://localhost:8080/"
        },
        "outputId": "24a76ebc-d2af-488d-930b-21e7e3f2a5a4"
      },
      "execution_count": 199,
      "outputs": [
        {
          "output_type": "stream",
          "name": "stdout",
          "text": [
            "Gordie -> gordi; Howe -> howe; "
          ]
        },
        {
          "output_type": "execute_result",
          "data": {
            "text/plain": [
              "{'3.16.txt': [(147, 148),\n",
              "  (271, 272),\n",
              "  (461, 462),\n",
              "  (614, 615),\n",
              "  (1075, 1076),\n",
              "  (1091, 1092)]}"
            ]
          },
          "metadata": {},
          "execution_count": 199
        }
      ]
    },
    {
      "cell_type": "code",
      "source": [
        "# diacritics will be converted to ascii and matched\n",
        "index.proximity_search('üter', 'character', 1)"
      ],
      "metadata": {
        "colab": {
          "base_uri": "https://localhost:8080/"
        },
        "id": "c5f6wUg29uq6",
        "outputId": "1fcf4eb6-3778-47dc-9a30-b68b0108d737"
      },
      "execution_count": 200,
      "outputs": [
        {
          "output_type": "stream",
          "name": "stdout",
          "text": [
            "üter -> uter; character -> charact; "
          ]
        },
        {
          "output_type": "execute_result",
          "data": {
            "text/plain": [
              "{'5.5.txt': [(1050, 1049), (1050, 1051)]}"
            ]
          },
          "metadata": {},
          "execution_count": 200
        }
      ]
    }
  ],
  "metadata": {
    "kernelspec": {
      "display_name": "Python 3",
      "language": "python",
      "name": "python3"
    },
    "language_info": {
      "codemirror_mode": {
        "name": "ipython",
        "version": 3
      },
      "file_extension": ".py",
      "mimetype": "text/x-python",
      "name": "python",
      "nbconvert_exporter": "python",
      "pygments_lexer": "ipython3",
      "version": "3.8.5"
    },
    "colab": {
      "provenance": [],
      "collapsed_sections": [],
      "include_colab_link": true
    }
  },
  "nbformat": 4,
  "nbformat_minor": 0
}