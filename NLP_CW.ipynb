{
  "cells": [
    {
      "cell_type": "markdown",
      "metadata": {
        "id": "view-in-github",
        "colab_type": "text"
      },
      "source": [
        "<a href=\"https://colab.research.google.com/github/JonasVerbickas/test-jupyter/blob/main/NLP_CW.ipynb\" target=\"_parent\"><img src=\"https://colab.research.google.com/assets/colab-badge.svg\" alt=\"Open In Colab\"/></a>"
      ]
    },
    {
      "cell_type": "code",
      "source": [
        "import os\n",
        "import time\n",
        "import nltk\n",
        "import string"
      ],
      "metadata": {
        "id": "BTTGCTeE65K-"
      },
      "execution_count": 1,
      "outputs": []
    },
    {
      "cell_type": "code",
      "source": [
        "from google.colab import drive\n",
        "drive.mount('/content/drive')"
      ],
      "metadata": {
        "colab": {
          "base_uri": "https://localhost:8080/"
        },
        "id": "A59xTdZA0OzU",
        "outputId": "3d3d5ee4-2fe0-4f6f-aa7c-9b668a9c7e0c"
      },
      "execution_count": 3,
      "outputs": [
        {
          "output_type": "stream",
          "name": "stdout",
          "text": [
            "Mounted at /content/drive\n"
          ]
        }
      ]
    },
    {
      "cell_type": "code",
      "source": [
        "porter = nltk.PorterStemmer()"
      ],
      "metadata": {
        "id": "9Kh-pY5D8H1e"
      },
      "execution_count": 4,
      "outputs": []
    },
    {
      "cell_type": "code",
      "source": [
        "class StringWithDocId:\n",
        "  def __init__(self, string, doc_id):\n",
        "    self.string = string\n",
        "    self.doc_id = doc_id\n",
        "  \n",
        "  def __lt__(token_with_doc_A, token_with_doc_B):\n",
        "    if token_with_doc_A.string == token_with_doc_B.string:\n",
        "      return token_with_doc_A.doc_id < token_with_doc_B.doc_id\n",
        "    else:\n",
        "      return token_with_doc_A.string < token_with_doc_B.string\n",
        "    \n",
        "  def __str__(self):\n",
        "    return f\"{self.string}: {self.doc_id}\"\n",
        "\n",
        "  def __repr__(self):\n",
        "    return f\"{self.string}: {self.doc_id}\""
      ],
      "metadata": {
        "id": "P_X_2vKt8lbK"
      },
      "execution_count": 5,
      "outputs": []
    },
    {
      "cell_type": "code",
      "execution_count": 9,
      "metadata": {
        "id": "4WtSmBsrzqE7"
      },
      "outputs": [],
      "source": [
        "STOP_WORDS = [\"the\", \"is\", \"am\", \"are\", \"will\", \"was\", \"were\", \"!\", \".\", \"?\"] # this shouldn't be hard coded\n",
        "WINDOW_SIZE = 5\n",
        "\n",
        "class InvertedIndex:\n",
        "    \"\"\"\n",
        "    Construct Inverted Index\n",
        "    \"\"\"\n",
        "    def __init__(self):\n",
        "        self.inverted_index = {}\n",
        "\n",
        "    def __getitem__(self, key):\n",
        "        return self.inverted_index[key]\n",
        "      \n",
        "    def keys(self):\n",
        "      return self.inverted_index.keys()\n",
        "        \n",
        "    def read_data(self, path: str) -> list:\n",
        "        \"\"\"\n",
        "        Read files from a directory and then append the data of each file into a list.\n",
        "        \"\"\"\n",
        "        output = []\n",
        "        for file in os.listdir(path):\n",
        "          with open(os.path.join(path, file), 'r') as f:\n",
        "            if file[-3:] != 'txt':\n",
        "              print(file, \"will be skipped\")\n",
        "              continue\n",
        "            output.append(StringWithDocId(f.read(), file))\n",
        "        print(len(output))\n",
        "        return output\n",
        "\n",
        "    def process_document(self, document: str) -> list:\n",
        "        \"\"\"\n",
        "        pre-process a document and return a list of its terms\n",
        "        str->list\"\"\"\n",
        "        # 1. Wikipedia hyperlinks should be removed\n",
        "        # 2. true-case folding\n",
        "        # 3. stop-words\n",
        "        # 4. Use multi-word character/location names from .csv files\n",
        "        document_without_punctuation = document#.translate(None, string.punctuation)\n",
        "        split_into_words = nltk.tokenize.wordpunct_tokenize(document_without_punctuation)\n",
        "        output = []\n",
        "        for word in split_into_words:\n",
        "          as_lowercase = word.lower()\n",
        "          if as_lowercase in STOP_WORDS:\n",
        "            continue\n",
        "          output.append(as_lowercase)\n",
        "        return output\n",
        "    \n",
        "    def index_corpus(self, documents: list) -> None:\n",
        "        \"\"\"\n",
        "        index given documents\n",
        "        list->None\"\"\"\n",
        "        starting_time = time.perf_counter()\n",
        "        token_list = []\n",
        "        # 1. Generate token sequence\n",
        "        for doc in documents:\n",
        "          curr_doc_id = doc.doc_id\n",
        "          processed_string = self.process_document(doc.string)\n",
        "          for token in processed_string:\n",
        "            token = porter.stem(token)\n",
        "            token_with_doc_obj = StringWithDocId(token, curr_doc_id)\n",
        "            token_list.append(token_with_doc_obj)\n",
        "        # 2. Sort\n",
        "        sorted_token_list = sorted(token_list)\n",
        "        print(\"First 10 of sorted_token_list:\", sorted_token_list[:10])\n",
        "        # 3. Convert into dictionary of postings\n",
        "        for token_with_doc_id in sorted_token_list:\n",
        "          if token_with_doc_id.string in self.inverted_index:\n",
        "            if not token_with_doc_id.doc_id in self.inverted_index[token_with_doc_id.string]:\n",
        "              self.inverted_index[token_with_doc_id.string].append(token_with_doc_id.doc_id)\n",
        "          else:\n",
        "            self.inverted_index[token_with_doc_id.string] = [token_with_doc_id.doc_id]\n",
        "        # Print out some details about the dataset\n",
        "        total_time_taken = round(time.perf_counter() - starting_time, 4)\n",
        "        print(f\"It took: {total_time_taken} seconds to index the whole corpus.\")\n",
        "        print(f\"It has {len(self.inverted_index)} entries in total.\")\n",
        "      \n",
        "    def dump(self, examples: list) -> None:\n",
        "        \"\"\"\n",
        "        provide a dump function to show index entries for a given set of terms        \n",
        "        \"\"\"\n",
        "        for e in examples:\n",
        "          processed_e = self.process_document(e)\n",
        "          print(f'Match for {e}: {self.inverted_index[processed_e]}')\n",
        "\n",
        "     \n",
        "    def proximity_search(self, term1: str, term2: str, window_size: int = 3) -> dict:\n",
        "        \"\"\"\n",
        "        1) check whether given two terms appear within a window\n",
        "        2) calculate the number of their co-existance in a document\n",
        "        3) add the document id and the number of matches into a dict\n",
        "        return the dict\"\"\"\n",
        "        documents_containing_both_terms = []\n",
        "        term1_i = 0\n",
        "        term2_i = 0\n",
        "        while term1_i < len(self[term1]) and term2_i < len(self[term2]):\n",
        "          if self[term1][term1_i] == self[term2][term2_i]:\n",
        "            documents_containing_both_terms.append(self[term1][term1_i])\n",
        "            term1_i += 1\n",
        "            term2_i += 1\n",
        "          else:\n",
        "            if self[term1][term1_i] < self[term2][term2_i]:\n",
        "              term1_i += 1\n",
        "            else:\n",
        "              term2_i += 1\n",
        "        return documents_containing_both_terms\n",
        "    \n",
        "    "
      ]
    },
    {
      "cell_type": "code",
      "execution_count": 10,
      "metadata": {
        "colab": {
          "base_uri": "https://localhost:8080/",
          "height": 481
        },
        "id": "3n4tuVF-zqE9",
        "outputId": "015d9a91-592c-40fd-e492-2f8159de7685"
      },
      "outputs": [
        {
          "output_type": "stream",
          "name": "stdout",
          "text": [
            "simpsons_characters - row.csv will be skipped\n",
            "simpsons_locations row.csv will be skipped\n",
            "118\n",
            "First 10 of sorted_token_list: [!\": 3.18.txt, !\": 3.19.txt, !\": 3.2.txt, !\": 3.22.txt, !\": 3.24.txt, !\": 3.7.txt, !\": 4.10.txt, !\": 4.14.txt, !\": 4.15.txt, !\": 4.16.txt]\n",
            "It took: 8.2184 seconds to index the whole corpus.\n",
            "It has 10115 entries in total.\n"
          ]
        },
        {
          "output_type": "error",
          "ename": "KeyboardInterrupt",
          "evalue": "ignored",
          "traceback": [
            "\u001b[0;31m---------------------------------------------------------------------------\u001b[0m",
            "\u001b[0;31mKeyboardInterrupt\u001b[0m                         Traceback (most recent call last)",
            "\u001b[0;32m<ipython-input-10-de0941c6fdbf>\u001b[0m in \u001b[0;36m<module>\u001b[0;34m\u001b[0m\n\u001b[1;32m     30\u001b[0m     \u001b[0;32mreturn\u001b[0m \u001b[0mindex\u001b[0m\u001b[0;34m\u001b[0m\u001b[0;34m\u001b[0m\u001b[0m\n\u001b[1;32m     31\u001b[0m \u001b[0;34m\u001b[0m\u001b[0m\n\u001b[0;32m---> 32\u001b[0;31m \u001b[0mindex\u001b[0m \u001b[0;34m=\u001b[0m \u001b[0mmain\u001b[0m\u001b[0;34m(\u001b[0m\u001b[0;34m)\u001b[0m\u001b[0;34m\u001b[0m\u001b[0;34m\u001b[0m\u001b[0m\n\u001b[0m",
            "\u001b[0;32m<ipython-input-10-de0941c6fdbf>\u001b[0m in \u001b[0;36mmain\u001b[0;34m()\u001b[0m\n\u001b[1;32m      5\u001b[0m     \u001b[0mindex\u001b[0m\u001b[0;34m.\u001b[0m\u001b[0mindex_corpus\u001b[0m\u001b[0;34m(\u001b[0m\u001b[0mcorpus\u001b[0m\u001b[0;34m)\u001b[0m \u001b[0;31m# index documents/corpus\u001b[0m\u001b[0;34m\u001b[0m\u001b[0;34m\u001b[0m\u001b[0m\n\u001b[1;32m      6\u001b[0m \u001b[0;34m\u001b[0m\u001b[0m\n\u001b[0;32m----> 7\u001b[0;31m     \u001b[0msearch_term\u001b[0m \u001b[0;34m=\u001b[0m \u001b[0minput\u001b[0m\u001b[0;34m(\u001b[0m\u001b[0;34m\"Enter your query: \"\u001b[0m\u001b[0;34m)\u001b[0m \u001b[0;31m# insert a query\u001b[0m\u001b[0;34m\u001b[0m\u001b[0;34m\u001b[0m\u001b[0m\n\u001b[0m\u001b[1;32m      8\u001b[0m     \u001b[0;31m# write a demo to check entered search terms against the inverted index\u001b[0m\u001b[0;34m\u001b[0m\u001b[0;34m\u001b[0m\u001b[0;34m\u001b[0m\u001b[0m\n\u001b[1;32m      9\u001b[0m         \u001b[0;31m# 1) len(search _term) == one --> return the following:\u001b[0m\u001b[0;34m\u001b[0m\u001b[0;34m\u001b[0m\u001b[0;34m\u001b[0m\u001b[0m\n",
            "\u001b[0;32m/usr/local/lib/python3.7/dist-packages/ipykernel/kernelbase.py\u001b[0m in \u001b[0;36mraw_input\u001b[0;34m(self, prompt)\u001b[0m\n\u001b[1;32m    861\u001b[0m             \u001b[0mself\u001b[0m\u001b[0;34m.\u001b[0m\u001b[0m_parent_ident\u001b[0m\u001b[0;34m,\u001b[0m\u001b[0;34m\u001b[0m\u001b[0;34m\u001b[0m\u001b[0m\n\u001b[1;32m    862\u001b[0m             \u001b[0mself\u001b[0m\u001b[0;34m.\u001b[0m\u001b[0m_parent_header\u001b[0m\u001b[0;34m,\u001b[0m\u001b[0;34m\u001b[0m\u001b[0;34m\u001b[0m\u001b[0m\n\u001b[0;32m--> 863\u001b[0;31m             \u001b[0mpassword\u001b[0m\u001b[0;34m=\u001b[0m\u001b[0;32mFalse\u001b[0m\u001b[0;34m,\u001b[0m\u001b[0;34m\u001b[0m\u001b[0;34m\u001b[0m\u001b[0m\n\u001b[0m\u001b[1;32m    864\u001b[0m         )\n\u001b[1;32m    865\u001b[0m \u001b[0;34m\u001b[0m\u001b[0m\n",
            "\u001b[0;32m/usr/local/lib/python3.7/dist-packages/ipykernel/kernelbase.py\u001b[0m in \u001b[0;36m_input_request\u001b[0;34m(self, prompt, ident, parent, password)\u001b[0m\n\u001b[1;32m    902\u001b[0m             \u001b[0;32mexcept\u001b[0m \u001b[0mKeyboardInterrupt\u001b[0m\u001b[0;34m:\u001b[0m\u001b[0;34m\u001b[0m\u001b[0;34m\u001b[0m\u001b[0m\n\u001b[1;32m    903\u001b[0m                 \u001b[0;31m# re-raise KeyboardInterrupt, to truncate traceback\u001b[0m\u001b[0;34m\u001b[0m\u001b[0;34m\u001b[0m\u001b[0;34m\u001b[0m\u001b[0m\n\u001b[0;32m--> 904\u001b[0;31m                 \u001b[0;32mraise\u001b[0m \u001b[0mKeyboardInterrupt\u001b[0m\u001b[0;34m(\u001b[0m\u001b[0;34m\"Interrupted by user\"\u001b[0m\u001b[0;34m)\u001b[0m \u001b[0;32mfrom\u001b[0m \u001b[0;32mNone\u001b[0m\u001b[0;34m\u001b[0m\u001b[0;34m\u001b[0m\u001b[0m\n\u001b[0m\u001b[1;32m    905\u001b[0m             \u001b[0;32mexcept\u001b[0m \u001b[0mException\u001b[0m \u001b[0;32mas\u001b[0m \u001b[0me\u001b[0m\u001b[0;34m:\u001b[0m\u001b[0;34m\u001b[0m\u001b[0;34m\u001b[0m\u001b[0m\n\u001b[1;32m    906\u001b[0m                 \u001b[0mself\u001b[0m\u001b[0;34m.\u001b[0m\u001b[0mlog\u001b[0m\u001b[0;34m.\u001b[0m\u001b[0mwarning\u001b[0m\u001b[0;34m(\u001b[0m\u001b[0;34m\"Invalid Message:\"\u001b[0m\u001b[0;34m,\u001b[0m \u001b[0mexc_info\u001b[0m\u001b[0;34m=\u001b[0m\u001b[0;32mTrue\u001b[0m\u001b[0;34m)\u001b[0m\u001b[0;34m\u001b[0m\u001b[0;34m\u001b[0m\u001b[0m\n",
            "\u001b[0;31mKeyboardInterrupt\u001b[0m: Interrupted by user"
          ]
        }
      ],
      "source": [
        "def main():\n",
        "    \"main call function\"\n",
        "    index = InvertedIndex() # initilaise the index\n",
        "    corpus = index.read_data('/content/drive/MyDrive/Colab Notebooks/Simpsons2022') # specify the directory path in which files are located\n",
        "    index.index_corpus(corpus) # index documents/corpus\n",
        "    \n",
        "    search_term = input(\"Enter your query: \") # insert a query\n",
        "    # write a demo to check entered search terms against the inverted index\n",
        "        # 1) len(search _term) == one --> return the following: \n",
        "            # a) the number of documents in which a term appears.\n",
        "            # b) all document ids in which a term appears.\n",
        "    split_into_words = search_term.split(\" \")\n",
        "    if len(split_into_words) == 1:\n",
        "      print(split_into_words)\n",
        "      if split_into_words[0] in index.keys():\n",
        "        documents_matching_the_query = index[split_into_words[0]]\n",
        "        print(f\"The term appears in *{len(documents_matching_the_query)}* documents\")\n",
        "        print(\"Document IDs are:\", documents_matching_the_query)\n",
        "      else:\n",
        "        print(\"Index does not contain the value\")\n",
        "\n",
        "        # 2) len(search_term) == 2 --> return the following: \n",
        "            # a) the number of documents in which the entered terms appear within a pre-defined window.\n",
        "            # b) all document ids in which the terms appear within that window.\n",
        "    if len(split_into_words) == 2:\n",
        "      documents_matching_the_query = index.proximity_search(*split_into_words)\n",
        "      print(f\"The combination of these two term appears in *{len(documents_matching_the_query)}* documents\")\n",
        "      print(\"Document IDs are:\", documents_matching_the_query)\n",
        "\n",
        "    return index\n",
        "    \n",
        "index = main()"
      ]
    },
    {
      "cell_type": "code",
      "source": [],
      "metadata": {
        "id": "G94h70akKT-Q"
      },
      "execution_count": null,
      "outputs": []
    }
  ],
  "metadata": {
    "kernelspec": {
      "display_name": "Python 3",
      "language": "python",
      "name": "python3"
    },
    "language_info": {
      "codemirror_mode": {
        "name": "ipython",
        "version": 3
      },
      "file_extension": ".py",
      "mimetype": "text/x-python",
      "name": "python",
      "nbconvert_exporter": "python",
      "pygments_lexer": "ipython3",
      "version": "3.8.5"
    },
    "colab": {
      "provenance": [],
      "collapsed_sections": [],
      "toc_visible": true,
      "include_colab_link": true
    }
  },
  "nbformat": 4,
  "nbformat_minor": 0
}