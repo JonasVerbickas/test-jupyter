{
  "cells": [
    {
      "cell_type": "markdown",
      "metadata": {
        "id": "view-in-github",
        "colab_type": "text"
      },
      "source": [
        "<a href=\"https://colab.research.google.com/github/JonasVerbickas/test-jupyter/blob/main/NLP_CW.ipynb\" target=\"_parent\"><img src=\"https://colab.research.google.com/assets/colab-badge.svg\" alt=\"Open In Colab\"/></a>"
      ]
    },
    {
      "cell_type": "code",
      "source": [
        "import os\n",
        "import nltk\n",
        "import re\n",
        "import string\n",
        "import unicodedata\n",
        "import time\n",
        "import pandas as pd\n",
        "from matplotlib import pyplot as plt\n",
        "from collections import Counter\n",
        "from collections import UserDict"
      ],
      "metadata": {
        "id": "BTTGCTeE65K-"
      },
      "execution_count": 1,
      "outputs": []
    },
    {
      "cell_type": "markdown",
      "source": [
        "I'm not sure how you will access the corpus on your side.\n",
        "Personally, I've uploaded it to my Google drive."
      ],
      "metadata": {
        "id": "tF3YIutv5fK1"
      }
    },
    {
      "cell_type": "code",
      "source": [
        "from google.colab import drive\n",
        "drive.mount('/content/drive')"
      ],
      "metadata": {
        "colab": {
          "base_uri": "https://localhost:8080/"
        },
        "id": "A59xTdZA0OzU",
        "outputId": "195a5f5c-e9d3-4055-a08b-814ff8ca709e"
      },
      "execution_count": 2,
      "outputs": [
        {
          "output_type": "stream",
          "name": "stdout",
          "text": [
            "Drive already mounted at /content/drive; to attempt to forcibly remount, call drive.mount(\"/content/drive\", force_remount=True).\n"
          ]
        }
      ]
    },
    {
      "cell_type": "code",
      "source": [
        "porter = nltk.PorterStemmer()"
      ],
      "metadata": {
        "id": "9Kh-pY5D8H1e"
      },
      "execution_count": 3,
      "outputs": []
    },
    {
      "cell_type": "code",
      "source": [
        "nltk.download('wordnet')\n",
        "nltk.download('omw-1.4')\n",
        "lemmatizer = nltk.stem.WordNetLemmatizer()\n",
        "lemmatizer.lemmatize(\"readers\")\n"
      ],
      "metadata": {
        "colab": {
          "base_uri": "https://localhost:8080/",
          "height": 104
        },
        "id": "qTWmQyuaHJ4n",
        "outputId": "972425ce-2f8f-468a-eed8-131f0fd309a1"
      },
      "execution_count": 4,
      "outputs": [
        {
          "output_type": "stream",
          "name": "stderr",
          "text": [
            "[nltk_data] Downloading package wordnet to /root/nltk_data...\n",
            "[nltk_data]   Package wordnet is already up-to-date!\n",
            "[nltk_data] Downloading package omw-1.4 to /root/nltk_data...\n",
            "[nltk_data]   Package omw-1.4 is already up-to-date!\n"
          ]
        },
        {
          "output_type": "execute_result",
          "data": {
            "text/plain": [
              "'reader'"
            ],
            "application/vnd.google.colaboratory.intrinsic+json": {
              "type": "string"
            }
          },
          "metadata": {},
          "execution_count": 4
        }
      ]
    },
    {
      "cell_type": "markdown",
      "source": [
        "## Download additional NLTK resources\n",
        "These are required for tokenization and stop-word removal"
      ],
      "metadata": {
        "id": "tSyqexBZ3npQ"
      }
    },
    {
      "cell_type": "code",
      "source": [
        "nltk.download('punkt')\n",
        "nltk.download('stopwords')\n",
        "# I convert it into a set, because it results in faster `in` look-ups\n",
        "STOP_WORDS = set(nltk.corpus.stopwords.words('english'))\n",
        "STOP_WORDS"
      ],
      "metadata": {
        "colab": {
          "base_uri": "https://localhost:8080/"
        },
        "id": "fXosFc5y2vyH",
        "outputId": "d469adfb-5ecb-41f0-e43d-dfe5f9965a4b"
      },
      "execution_count": 5,
      "outputs": [
        {
          "output_type": "stream",
          "name": "stderr",
          "text": [
            "[nltk_data] Downloading package punkt to /root/nltk_data...\n",
            "[nltk_data]   Package punkt is already up-to-date!\n",
            "[nltk_data] Downloading package stopwords to /root/nltk_data...\n",
            "[nltk_data]   Package stopwords is already up-to-date!\n"
          ]
        },
        {
          "output_type": "execute_result",
          "data": {
            "text/plain": [
              "{'a',\n",
              " 'about',\n",
              " 'above',\n",
              " 'after',\n",
              " 'again',\n",
              " 'against',\n",
              " 'ain',\n",
              " 'all',\n",
              " 'am',\n",
              " 'an',\n",
              " 'and',\n",
              " 'any',\n",
              " 'are',\n",
              " 'aren',\n",
              " \"aren't\",\n",
              " 'as',\n",
              " 'at',\n",
              " 'be',\n",
              " 'because',\n",
              " 'been',\n",
              " 'before',\n",
              " 'being',\n",
              " 'below',\n",
              " 'between',\n",
              " 'both',\n",
              " 'but',\n",
              " 'by',\n",
              " 'can',\n",
              " 'couldn',\n",
              " \"couldn't\",\n",
              " 'd',\n",
              " 'did',\n",
              " 'didn',\n",
              " \"didn't\",\n",
              " 'do',\n",
              " 'does',\n",
              " 'doesn',\n",
              " \"doesn't\",\n",
              " 'doing',\n",
              " 'don',\n",
              " \"don't\",\n",
              " 'down',\n",
              " 'during',\n",
              " 'each',\n",
              " 'few',\n",
              " 'for',\n",
              " 'from',\n",
              " 'further',\n",
              " 'had',\n",
              " 'hadn',\n",
              " \"hadn't\",\n",
              " 'has',\n",
              " 'hasn',\n",
              " \"hasn't\",\n",
              " 'have',\n",
              " 'haven',\n",
              " \"haven't\",\n",
              " 'having',\n",
              " 'he',\n",
              " 'her',\n",
              " 'here',\n",
              " 'hers',\n",
              " 'herself',\n",
              " 'him',\n",
              " 'himself',\n",
              " 'his',\n",
              " 'how',\n",
              " 'i',\n",
              " 'if',\n",
              " 'in',\n",
              " 'into',\n",
              " 'is',\n",
              " 'isn',\n",
              " \"isn't\",\n",
              " 'it',\n",
              " \"it's\",\n",
              " 'its',\n",
              " 'itself',\n",
              " 'just',\n",
              " 'll',\n",
              " 'm',\n",
              " 'ma',\n",
              " 'me',\n",
              " 'mightn',\n",
              " \"mightn't\",\n",
              " 'more',\n",
              " 'most',\n",
              " 'mustn',\n",
              " \"mustn't\",\n",
              " 'my',\n",
              " 'myself',\n",
              " 'needn',\n",
              " \"needn't\",\n",
              " 'no',\n",
              " 'nor',\n",
              " 'not',\n",
              " 'now',\n",
              " 'o',\n",
              " 'of',\n",
              " 'off',\n",
              " 'on',\n",
              " 'once',\n",
              " 'only',\n",
              " 'or',\n",
              " 'other',\n",
              " 'our',\n",
              " 'ours',\n",
              " 'ourselves',\n",
              " 'out',\n",
              " 'over',\n",
              " 'own',\n",
              " 're',\n",
              " 's',\n",
              " 'same',\n",
              " 'shan',\n",
              " \"shan't\",\n",
              " 'she',\n",
              " \"she's\",\n",
              " 'should',\n",
              " \"should've\",\n",
              " 'shouldn',\n",
              " \"shouldn't\",\n",
              " 'so',\n",
              " 'some',\n",
              " 'such',\n",
              " 't',\n",
              " 'than',\n",
              " 'that',\n",
              " \"that'll\",\n",
              " 'the',\n",
              " 'their',\n",
              " 'theirs',\n",
              " 'them',\n",
              " 'themselves',\n",
              " 'then',\n",
              " 'there',\n",
              " 'these',\n",
              " 'they',\n",
              " 'this',\n",
              " 'those',\n",
              " 'through',\n",
              " 'to',\n",
              " 'too',\n",
              " 'under',\n",
              " 'until',\n",
              " 'up',\n",
              " 've',\n",
              " 'very',\n",
              " 'was',\n",
              " 'wasn',\n",
              " \"wasn't\",\n",
              " 'we',\n",
              " 'were',\n",
              " 'weren',\n",
              " \"weren't\",\n",
              " 'what',\n",
              " 'when',\n",
              " 'where',\n",
              " 'which',\n",
              " 'while',\n",
              " 'who',\n",
              " 'whom',\n",
              " 'why',\n",
              " 'will',\n",
              " 'with',\n",
              " 'won',\n",
              " \"won't\",\n",
              " 'wouldn',\n",
              " \"wouldn't\",\n",
              " 'y',\n",
              " 'you',\n",
              " \"you'd\",\n",
              " \"you'll\",\n",
              " \"you're\",\n",
              " \"you've\",\n",
              " 'your',\n",
              " 'yours',\n",
              " 'yourself',\n",
              " 'yourselves'}"
            ]
          },
          "metadata": {},
          "execution_count": 5
        }
      ]
    },
    {
      "cell_type": "markdown",
      "source": [
        "\n",
        "## Initialize helper classes\n",
        "I could've coded everything using tuples/lists instead of these helper classes.\n",
        "\n",
        "However, I feel like these make the code more verbose and remove ambiguity that comes from giving positions in a tuple meaning."
      ],
      "metadata": {
        "id": "1aYg16m74cxM"
      }
    },
    {
      "cell_type": "code",
      "source": [
        "class StringWithDocId:\n",
        "  \"\"\"\n",
        "  Used in InvertedIndex.read_data method to create a list of \n",
        "  \"\"\" \n",
        "  def __init__(self, string, doc_id):\n",
        "    self.string = string\n",
        "    self.doc_id = doc_id\n",
        "  \n",
        "  def __str__(self):\n",
        "    return f\"{self.string}: {self.doc_id}\"\n",
        "\n",
        "  def __repr__(self):\n",
        "    return f\"{self.string}: {self.doc_id}\""
      ],
      "metadata": {
        "id": "P_X_2vKt8lbK"
      },
      "execution_count": 6,
      "outputs": []
    },
    {
      "cell_type": "code",
      "source": [
        "class StringWithDocIdAndPosition(StringWithDocId):\n",
        "  \"\"\"\n",
        "  Stores positions as well.\n",
        "  Used to create & sort list of positional terms.\n",
        "  \n",
        "  \"\"\"\n",
        "  def __init__(self, string, doc_id, position):\n",
        "    super().__init__(string, doc_id)\n",
        "    self.position = position\n",
        "  \n",
        "  def __lt__(token_with_doc_A, token_with_doc_B):\n",
        "    if token_with_doc_A.string != token_with_doc_B.string:\n",
        "      return token_with_doc_A.string < token_with_doc_B.string\n",
        "    elif token_with_doc_A.doc_id != token_with_doc_B.doc_id:\n",
        "      return token_with_doc_A.doc_id < token_with_doc_B.doc_id\n",
        "    else:\n",
        "      return token_with_doc_A.position < token_with_doc_B.position"
      ],
      "metadata": {
        "id": "XSBSe0-PxlCV"
      },
      "execution_count": 7,
      "outputs": []
    },
    {
      "cell_type": "code",
      "source": [
        "class Posting(UserDict):\n",
        "  \"\"\"\n",
        "  This stores the positional information for each term in the postional inverted index.\n",
        "  Some methods have been overriden to its objects behave like dictionary.\n",
        "  Keys are all of documents where this term appears;\n",
        "  Values store the positions, where in that document term appears\n",
        "  {docID: [pos1, pos2, ...]}.\n",
        "  \"\"\"\n",
        "  def __init__(self):\n",
        "    super().__init__()\n",
        "    self.posting_dic = {}\n",
        "    self.total_occurances = 0\n",
        "  \n",
        "  def __contains__(self, doc_id):\n",
        "    return doc_id in self.posting_dic\n",
        "  \n",
        "  def __iter__(self):\n",
        "      return iter(self.posting_dic.items())\n",
        "\n",
        "  def __getitem__(self, doc_id):\n",
        "      return self.posting_dic[doc_id]\n",
        "    \n",
        "  def get(self, k, default=None):\n",
        "    return self[k]\n",
        "  \n",
        "  def __len__(self):\n",
        "      return len(self.posting_dic)\n",
        "\n",
        "  def add(self, doc_id, position):\n",
        "    if doc_id in self.posting_dic:\n",
        "      self.posting_dic[doc_id].append(position)\n",
        "    else:\n",
        "      self.posting_dic[doc_id] = [position]\n",
        "    self.total_occurances += 1\n",
        "  \n",
        "  def __str__(self):\n",
        "    return f\"{self.total_occurances} total occurances: {[f'{len(positions)} in {doc_id}: {positions}' for doc_id, positions in self.posting_dic.items()]}\"\n",
        "  \n",
        "  def __repr__(self):\n",
        "    return str(self)"
      ],
      "metadata": {
        "id": "1Ts7G2B6TGRX"
      },
      "execution_count": 8,
      "outputs": []
    },
    {
      "cell_type": "code",
      "source": [
        "def wikipediaPreprocessing(text):\n",
        "  text = unicodedata.normalize('NFKC', text)\n",
        "  text = text.replace('\\n', '')\n",
        "  text = re.sub(r'\\[.*?\\]+', '', text)\n",
        "  text = re.sub(r'Contents\\s+1\\s+Plot.+Plot', '', text) \n",
        "  text = re.sub(r'^.+From Wikipedia, the free encyclopedia.+List of episodes', '', text)\n",
        "  return text"
      ],
      "metadata": {
        "id": "gpJRsN2bk5Iw"
      },
      "execution_count": 9,
      "outputs": []
    },
    {
      "cell_type": "markdown",
      "source": [
        "## Spell correction!!\n",
        "From P. Norvig's website: https://norvig.com/spell-correct.html."
      ],
      "metadata": {
        "id": "ppA9N4C4LpmA"
      }
    },
    {
      "cell_type": "code",
      "source": [
        "class SpellCorrect:\n",
        "\n",
        "  def __init__(self, posting_dict):\n",
        "    self.total_num_of_words = 0\n",
        "    self.word_freq_dic = {} \n",
        "    for key, val in posting_dict.items():\n",
        "      self.total_num_of_words += val.total_occurances\n",
        "      # I don't store positions here, because in case of spell check only frequencies are needed\n",
        "      self.word_freq_dic[key] = self.total_num_of_words\n",
        "\n",
        "  def _P(self, word): \n",
        "      \"Probability of `word`.\"\n",
        "      if word in self.word_freq_dic:\n",
        "        return self.word_freq_dic[word] / self.total_num_of_words\n",
        "      else:\n",
        "        return 0\n",
        "\n",
        "  def correction(self, word): \n",
        "      \"Most probable spelling correction for word.\"\n",
        "      return max(self._candidates(word), key=self._P)\n",
        "\n",
        "  def _candidates(self, word): \n",
        "      \"Generate possible spelling corrections for word.\"\n",
        "      return (self._known([word]) or self._known(self._edits1(word)) or self._known(self._edits2(word)) or [word])\n",
        "\n",
        "  def _known(self, words): \n",
        "      \"The subset of `words` that appear in the dictionary of WORDS.\"\n",
        "      return set(w for w in words if w in self.word_freq_dic.keys())\n",
        "\n",
        "  def _edits1(self, word):\n",
        "      \"All edits that are one edit away from `word`.\"\n",
        "      letters    = 'abcdefghijklmnopqrstuvwxyz'\n",
        "      splits     = [(word[:i], word[i:])    for i in range(len(word) + 1)]\n",
        "      deletes    = [L + R[1:]               for L, R in splits if R]\n",
        "      transposes = [L + R[1] + R[0] + R[2:] for L, R in splits if len(R)>1]\n",
        "      replaces   = [L + c + R[1:]           for L, R in splits if R for c in letters]\n",
        "      inserts    = [L + c + R               for L, R in splits for c in letters]\n",
        "      return set(deletes + transposes + replaces + inserts)\n",
        "\n",
        "  def _edits2(self, word): \n",
        "      \"All edits that are two edits away from `word`.\"\n",
        "      return (e2 for e1 in self._edits1(word) for e2 in self._edits1(e1))"
      ],
      "metadata": {
        "id": "qM1dEHFgNIiH"
      },
      "execution_count": 10,
      "outputs": []
    },
    {
      "cell_type": "markdown",
      "source": [
        "## THE MOST IMPORTANT BIT\n",
        "Here is the inverted index class"
      ],
      "metadata": {
        "id": "U0qC9x-N40SG"
      }
    },
    {
      "cell_type": "code",
      "execution_count": 19,
      "metadata": {
        "id": "4WtSmBsrzqE7"
      },
      "outputs": [],
      "source": [
        "class InvertedIndex:\n",
        "    \"\"\"\n",
        "    Construct Inverted Index\n",
        "    \"\"\"\n",
        "    def __init__(self):\n",
        "        self.inverted_index = {}\n",
        "        self.csv_terms = set()\n",
        "\n",
        "    def __getitem__(self, key):\n",
        "        return self.inverted_index[key]\n",
        "      \n",
        "    def keys(self):\n",
        "      return self.inverted_index.keys()\n",
        "\n",
        "    # def appendCSV(self, path):\n",
        "    #   df = pd.read_csv(path)\n",
        "    #   set_of_csv_entries = df['name']\n",
        "    #   # for term in df['name']\n",
        "    #   processed_csv_entries = self.processListOfTokens(set_of_csv_entries)\n",
        "    #   # remove any duplicate entries\n",
        "    #   print(processed_csv_entries[:10])\n",
        "    #   without_duplicates = set(processed_csv_entries)\n",
        "    #   self.csv_terms = self.csv_terms.union(without_duplicates)\n",
        "\n",
        "    def read_data(self, path: str) -> list:\n",
        "        \"\"\"\n",
        "        Read files from a directory and then append the data of each file into a list.\n",
        "        \"\"\"\n",
        "        output = []\n",
        "        for file in os.listdir(path):\n",
        "          filename_with_path = os.path.join(path, file)\n",
        "          if (file[-3:]).lower() == 'txt':\n",
        "            with open(filename_with_path, 'r') as f:\n",
        "              output.append(StringWithDocId(f.read(), file))\n",
        "          # elif (file[-3:]).lower() == 'csv':\n",
        "          #   self.appendCSV(filename_with_path)\n",
        "          else:\n",
        "            print(filename_with_path, \"will be skipped\")\n",
        "        print(len(output))\n",
        "        return output\n",
        "      \n",
        "    def processListOfTokens(self, tokenized):\n",
        "      output = []\n",
        "      for token in tokenized:\n",
        "        # stop-words only contain lower case versions of words\n",
        "        # therefore tokens must be lowercased in order to match them\n",
        "        # casefold() is a more aggresive version of lower()\n",
        "        # https://docs.python.org/3/library/stdtypes.html#str.casefold\n",
        "        token = token.casefold()\n",
        "        # 2. ignore stop-words\n",
        "        if token in STOP_WORDS or token == 'the':\n",
        "          continue\n",
        "        # ignore tokens that don't have words/numbers in them i.e. punctuation only\n",
        "        if not re.search('\\w', token):\n",
        "          continue\n",
        "        stemmed = porter.stem(token)\n",
        "        output.append(stemmed)\n",
        "      return output\n",
        "\n",
        "    def process_document(self, document: str) -> list:\n",
        "        \"\"\"\n",
        "        pre-process a document and return a list of its terms\n",
        "        str->list\"\"\"\n",
        "        # 1. Wikipedia hyperlinks should be removed\n",
        "        # 4. Use multi-word character/location names from .csv files\n",
        "        text = wikipediaPreprocessing(document)\n",
        "        tokenized  = nltk.tokenize.word_tokenize(text)\n",
        "        # remove stop-words & apply stemming\n",
        "        filtered_tokens = self.processListOfTokens(tokenized)\n",
        "        return filtered_tokens\n",
        "    \n",
        "    def index_corpus(self, documents: list) -> None:\n",
        "        \"\"\"\n",
        "        index given documents\n",
        "        list->None\"\"\"\n",
        "        starting_time = time.perf_counter()\n",
        "        token_list = []\n",
        "        # 1. Generate token sequence\n",
        "        for doc in documents:\n",
        "          curr_doc_id = doc.doc_id\n",
        "          processed_string = self.process_document(doc.string)\n",
        "          for i, token in enumerate(processed_string):\n",
        "            token_with_doc_id_and_pos = StringWithDocIdAndPosition(token, curr_doc_id, i)\n",
        "            token_list.append(token_with_doc_id_and_pos)\n",
        "        # 2. Sort\n",
        "        sorted_token_list = sorted(token_list)\n",
        "        print(\"First 10 of sorted_token_list:\", sorted_token_list[:10])\n",
        "        # 3. Convert into dictionary of postings\n",
        "        for token in sorted_token_list:\n",
        "          if token.string not in self.inverted_index:\n",
        "            self.inverted_index[token.string] = Posting()\n",
        "          self.inverted_index[token.string].add(token.doc_id, token.position)\n",
        "        # Print out some details about the dataset\n",
        "        total_time_taken = round(time.perf_counter() - starting_time, 4)\n",
        "        # Initialize spell-correct\n",
        "        self.spell_correct = SpellCorrect(self.inverted_index)\n",
        "        print(f\"It took: {total_time_taken} seconds to index the whole corpus.\")\n",
        "        print(f\"It has {len(self.inverted_index)} entries in total.\")\n",
        "      \n",
        "    def dump(self, path: str) -> None:\n",
        "        \"\"\"\n",
        "        provide a dump function to show index entries for a given set of terms        \n",
        "        \"\"\"\n",
        "        if os.path.exists(path) == False:\n",
        "          print(\"Path to file you provided doesn't exist\")\n",
        "          return\n",
        "        with open(path, 'r') as f:\n",
        "          file_contents = f.read()\n",
        "          examples = file_contents.split('\\n')\n",
        "          for e in examples:\n",
        "            processed_e = \" \".join(self.process_document(e))\n",
        "            if processed_e in self.inverted_index:\n",
        "              print(self.inverted_index[processed_e])\n",
        "            else:\n",
        "              corrected_e = self.spell_correct.correction(processed_e)\n",
        "              try:\n",
        "                print(self.inverted_index[corrected_e])\n",
        "              except KeyError:\n",
        "                 print(f\"Even after spell correction from {processed_e} into {corrected_e} was not found\")\n",
        "     \n",
        "    def proximity_search(self, term1: str, term2: str, window_size: int = 3) -> dict:\n",
        "        \"\"\"\n",
        "        1) check whether given two terms appear within a window\n",
        "        2) calculate the number of their co-existance in a document\n",
        "        3) add the document id and the number of matches into a dict\n",
        "        return the dict\"\"\"\n",
        "        term1 = self.processListOfTokens(self.process_document(term1))[0]\n",
        "        term2 = self.processListOfTokens(self.process_document(term2))[0]\n",
        "        print(\"Doc_ids containing the term1:\", self.inverted_index[term1].keys())\n",
        "        print(\"Doc_ids containing the term2:\", self.inverted_index[term2].keys())\n",
        "        documents_containing_both_terms = {}\n",
        "        for term1_doc_id, term1_positions in self.inverted_index[term1]:\n",
        "          # if both terms can be found in the same document\n",
        "          if term1_doc_id in self.inverted_index[term2]:\n",
        "            documents_containing_both_terms[term1_doc_id] = []\n",
        "            for term1_position in term1_positions:\n",
        "              print(\"- term1_position\",term1_position)\n",
        "              for term2_position in self.inverted_index[term2][term1_doc_id]:\n",
        "                print(\"-- term2_position\",term2_position)\n",
        "                # abs doesn't work here for some weird reason (as in this evaluates as if abs function call didn't exist)\n",
        "                if abs(term2_position - term1_position) < window_size:\n",
        "                  documents_containing_both_terms[term1_doc_id].append((term1_position, term2_position))\n",
        "                  print(f'Appended! abs({term2_position} - {term1_position})=', abs(term2_position - term1_position))\n",
        "                # if term2 has passed the window of term1, move on to another term1 position\n",
        "                elif term2_position - term1_position > window_size:\n",
        "                  break\n",
        "        return documents_containing_both_terms"
      ]
    },
    {
      "cell_type": "markdown",
      "source": [
        "## Testing my implementation"
      ],
      "metadata": {
        "id": "oFcrQZ0nJMeF"
      }
    },
    {
      "cell_type": "code",
      "source": [
        "def testReadData():\n",
        "  index = InvertedIndex()\n",
        "  corpus = index.read_data('/content/drive/MyDrive/Colab Notebooks/Simpsons2022')\n",
        "  return (corpus[0]).string\n",
        "testReadData()"
      ],
      "metadata": {
        "colab": {
          "base_uri": "https://localhost:8080/",
          "height": 174
        },
        "id": "nSvu_GKR_03l",
        "outputId": "b0839cdf-e252-4f8f-bf0b-3529f366ea10"
      },
      "execution_count": 20,
      "outputs": [
        {
          "output_type": "stream",
          "name": "stdout",
          "text": [
            "/content/drive/MyDrive/Colab Notebooks/Simpsons2022/simpsons_characters - row.csv will be skipped\n",
            "/content/drive/MyDrive/Colab Notebooks/Simpsons2022/simpsons_locations row.csv will be skipped\n",
            "118\n"
          ]
        },
        {
          "output_type": "execute_result",
          "data": {
            "text/plain": [
              "'Mr. Lisa Goes to Washington\\nFrom Wikipedia, the free encyclopedia\\n\\n\\n\\nJump to navigation\\nJump to search\\n\"Mr. Lisa Goes to Washington\"\\nThe Simpsons\\xa0episode\\nEpisode\\xa0no.\\nSeason\\xa03\\nEpisode 2\\nDirected by\\nWes Archer\\nWritten by\\nGeorge Meyer\\nProduction code\\n8F01\\nOriginal air date\\nSeptember 26, 1991[1]\\n\\nEpisode features\\nChalkboard gag\\n\"Spitwads are not free speech\"\\nCouch gag\\nThe family sits down and Homer pulls\\xa0Santa\\'s Little Helper\\xa0from under him.\\nCommentary\\nMatt Groening\\nAl Jean\\nMike Reiss\\nJulie Kavner\\nWes Archer\\nDavid Silverman\\nEpisode chronology\\n←\\xa0Previous\\n\"Stark Raving Dad\"\\nNext\\xa0→\\n\"When Flanders Failed\"\\nThe Simpsons\\xa0(season 3)\\nList of episodes\\n\"Mr. Lisa Goes to Washington\" is the second episode of the\\xa0third season\\xa0of the American animated television series\\xa0The Simpsons. It originally aired on the\\xa0Fox network\\xa0in the United States on September 26, 1991. In the episode,\\xa0Lisa\\xa0wins a patriotic essay contest about the\\xa0United States. She and her family attend the contest finals in\\xa0Washington, D.C., where she is dismayed after watching a\\xa0congressman\\xa0accept a bribe. Lisa loses the contest when she pens a scathing screed condemning the\\xa0government system, but the corrupt congressman is jailed and removed from office, restoring her faith in government.\\nThe episode was written by\\xa0George Meyer\\xa0and directed by\\xa0Wes Archer. It was the first episode for which\\xa0Al Jean\\xa0and\\xa0Mike Reiss\\xa0served as\\xa0show runners. It features multiple references to the 1939 film\\xa0Mr. Smith Goes to Washington, including the scene in which Lisa appeals to Lincoln\\'s statue at the\\xa0Lincoln Memorial\\xa0for advice. Other Washington landmarks referenced in the episode include the\\xa0White House, the\\xa0Watergate Hotel, the\\xa0Jefferson Memorial, the\\xa0Washington Monument, the\\xa0National Air and Space Museum\\xa0and the\\xa0Kennedy Center for the Performing Arts.\\nThe episode acquired a\\xa0Nielsen rating\\xa0of 12.9, and was the third highest-rated show on Fox the week it aired. It received mostly positive reviews from television critics, who praised the episode for its satire on American politics. The\\xa0timber industry\\xa0criticized the scene in which Lisa witnesses a timber industry lobbyist offering a bribe to the congressman to allow loggers to raze the Springfield Forest. The scene was described as \"an easy shot at hard-working people whose only crime is to have been born in a timber town\".[2]\\nContents\\n\\t\\t1\\n\\t\\tPlot\\n\\t\\t2\\n\\t\\tProduction\\n\\t\\t3\\n\\t\\tCultural references\\n\\t\\t4\\n\\t\\tThemes and analysis\\n\\t\\t5\\n\\t\\tReception\\n\\t\\t5.1\\n\\t\\tBroadcast and re-releases\\n\\t\\t5.2\\n\\t\\tCritical reviews\\n\\t\\t5.3\\n\\t\\tResponse from the timber industry\\n\\t\\t6\\n\\t\\tReferences\\n\\t\\t7\\n\\t\\tExternal links\\nPlot[edit]\\nHomer\\xa0sees an ad for a children\\'s essay contest in the\\xa0Reading Digest\\xa0magazine.\\xa0Lisa\\xa0submits an essay on the contest\\'s topic — \"what makes America great\" — after visiting Springfield Forest and seeing a\\xa0bald eagle\\xa0land nearby. The Simpsons travel to Washington, D.C. after Lisa\\'s essay, \"The Roots of Democracy\", earns her a spot in the national finals there.\\nWhile\\xa0Bart\\xa0and Homer enjoy the all-expenses-paid perks of their trip, Lisa visits famous monuments for inspiration. At a shrine to a\\xa0feminist\\xa0icon, she sees a corrupt\\xa0congressman, Bob Arnold, taking a bribe from a timber industry\\xa0lobbyist\\xa0to allow loggers to\\xa0clearcut\\xa0Springfield Forest. Heartbroken and disillusioned by government corruption, Lisa destroys her winning essay. She pens a scathing indictment, \"Cesspool on the\\xa0Potomac\", which condemns government greed and corruption and names the politician involved in the bribery.\\nLisa\\'s essay elicits a hostile reaction from the judges and audience members. When word of her speech quickly spreads through the\\xa0capital, Congressman Arnold is arrested, removed from office and sent to prison, where he becomes a\\xa0born-again\\xa0Christian. Lisa\\'s essay fails to win the contest, but her faith in government is restored and the contest winner commends her courage and honesty.\\nProduction[edit]\\n\\n\\nMike Reiss\\xa0(left) and\\xa0Al Jean\\xa0(right) took over as\\xa0show runners\\xa0for the third season.\\nThe episode was written by\\xa0George Meyer. It is one of\\xa0The Simpsons\\xa0creator\\xa0Matt Groening\\'s favorite episodes of the earlier seasons because he thought it took the show to another level.[3]\\xa0Meyer said he has a \"deep suspicion of social institutions and tradition in general,\" which affected the way he wrote the episode.[4]\\xa0Al Jean\\xa0and\\xa0Mike Reiss, who had written for\\xa0The Simpsons\\xa0since the start of the show, took over as\\xa0show runners\\xa0for the third season. Their first episode as show runners was \"Mr. Lisa Goes to Washington\" and they felt a lot of pressure about running the show. Jean and Reiss were so pressured that they did six to seven rewrites of the script to make it funnier.[5]\\xa0Jean said \"one reason for doing all these rewrites is because I kept thinking \\'It\\'s not good enough. It\\'s not good enough\\',\"[5]\\xa0and Reiss added that \"we were definitely scared. We had never run anything before, and they dumped us on this.\"[6]\\nWes Archer\\xa0directed \"Mr. Lisa Goes to Washington\", which was one of the first episodes to feature the Simpson family traveling to a real-life location.[7]\\xa0Because much of the episode takes place outside of Springfield, new background and character designs had to be animated. The Simpson family visits several real-life landmarks in Washington, which the animators were able to draw with the help of photographs from the animation studio\\'s library.\\xa0The Simpsons\\xa0director\\xa0David Silverman\\xa0grew up in the Washington area so he was able to help out with the designs.[8]\\xa0Marge\\'s voice actor,\\xa0Julie Kavner, said she loved the charm of the family \"just being on a trip and experiencing the hotel room they\\'re staying at, and the integrity of Bart\\'s character. You know, you just want to kill him for doing all those tricks and pranks.\"[9]\\xa0Jean believes this is one of the secrets of the show\\'s success, the fact that it is about a family and the writers can use experiences from their own or their family\\'s life as an inspiration in their writing. He thought \"Mr. Lisa Goes to Washington\" was a perfectly constructed episode in that sense.[5]\\nCultural references[edit]\\n\\n\\nLisa seeks advice from the\\xa0Abraham Lincoln statue\\xa0at the\\xa0Lincoln Memorial.\\nThe title and plot of the episode are parodies of the 1939 film\\xa0Mr. Smith Goes to Washington,[10]\\xa0in which the character Jefferson Smith comes to Washington with patriotic enthusiasm, but is instead shocked to see evidence of corruption in the government.[11][12]\\xa0The Tampa Tribune\\'s Curtis Ross called this reference one of the best film references in\\xa0The Simpsons\\'\\xa0history.[13]\\xa0Lisa\\'s visit to the\\xa0Lincoln Memorial\\xa0is a direct reference to\\xa0Mr. Smith Goes to Washington, in which Smith appeals to\\xa0Lincoln\\'s statue\\xa0for inspiration like Lisa did in the episode.[14]\\xa0In his book\\xa0Abraham Lincoln in the Post-Heroic Era, Barry Schwartz writes that the scene with Lisa at the crowded monument shows how \"thoroughly Lincoln\\'s moral and emotional significance has waned\".[15]\\xa0Mark Reinhart writes in the book\\xa0Abraham Lincoln on Screen\\xa0that the scene sums up \"with brilliant wit\" the American society\\'s \"annoying and ultimately useless tendency to ask [themselves] \\'What would Lincoln have done?\\' whenever [they] face a political or social dilemma\".[16]\\xa0Mr. Smith Goes to Washington\\xa0was once again referenced on\\xa0The Simpsons\\xa0in the\\xa0season fourteen\\xa0episode \"Mr. Spritz Goes to Washington\".[11]\\n\\n\\nThe family visit the\\xa0White House, where they meet then\\xa0First Lady\\xa0Barbara Bush.\\nIn addition to the Lincoln Memorial, other Washington, D.C. landmarks visited include the\\xa0Jefferson Memorial,[16][17]\\xa0the\\xa0Watergate Hotel\\xa0(where the family stays),[18]\\xa0the\\xa0Kennedy Center for the Performing Arts,[2]\\xa0the\\xa0White House,[19]\\xa0the\\xa0National Air and Space Museum, and the\\xa0Washington Monument.[5]\\xa0When the family visits the White House, they encounter then-First Lady\\xa0Barbara Bush\\xa0in the bathtub of one of the many bathrooms.[19]\\xa0Another American landmark mentioned in the episode is\\xa0Mount Rushmore.[1]\\xa0In addition, Lisa proposes that the family attend the memorial of the fictional Winifred Beecher Howe, an early crusader for women\\'s rights who later appeared on the unpopular 75-cent coins, according to Lisa. This is a reference to the\\xa0Susan B. Anthony dollar, which was minted for only three years and never became popular.[20]\\nThe episode makes references to several real-life persons. The piano-playing satirist who annoys Bart is a reference to\\xa0Mark Russell.[5]\\xa0Bob Arnold, the corrupt congressman, tells Lisa that there are quite a few women senators, but Lisa asserts that there are only two. (At the time, there were indeed only two,\\xa0Nancy Landon Kassebaum\\xa0of Kansas and\\xa0Barbara Mikulski\\xa0of Maryland.)[1]\\xa0Then-President\\xa0George H. W. Bush\\xa0is featured briefly in the episode. Shortly after it aired, Bush disparaged\\xa0The Simpsons\\xa0in a speech during his re-election campaign on January 27, 1992. At that point, family values were the cornerstone of Bush\\'s campaign platform, so he gave the following speech at the\\xa0National Religious Broadcasters\\' convention in Washington: \"We are going to keep on trying to strengthen the American family, to make American families a lot more like\\xa0the Waltons\\xa0and a lot less like the Simpsons.\"[21]\\xa0As a result, Bush appeared in future episodes in a more negative light.[21]\\nThemes and analysis[edit]\\n\\n\\nLisa\\'s role in the episode has been compared to\\xa0Henry David Thoreau.\\n\"Mr. Lisa Goes to Washington\" has been labeled as a satire on American politics. Michael Bitzer, in an edited book by Joseph Foy and Stanley Schultz entitled\\xa0Homer Simpson Goes to Washington, said this episode \"espouses the virtues, vices, and varieties of American political culture, public opinion, and ultimately the\\xa0American Dream\".[22]\\xa0Bitzer also wrote that\\xa0The Simpsons, through \"skillful\" use of satire, demonstrates with this episode \"insights into the underlying political culture and public opinion of the United States\\' governing system (and, more broadly, society at large)\".[22]\\xa0In his book\\xa0Gilligan Unbound: Pop Culture in the Age of Globalization, Paul Arthur Cantor said he was amazed by how far the episode was \"willing to take its corrosive satire of national politics\".[23]\\xa0He said it \"attacks the federal government at its foundation, the patriotic myths upon which its legitimacy lies. It makes fun of the very process by which patriotism is inculcated in the nation\\'s youth, the hokey contests that lead children to outdo each other in progovernment effusions.\"[23]\\xa0When the corrupt congressman is arrested, Lisa proclaims \"The system works!\" Benedict Anderson wrote in the book\\xa0The Spectre of Comparisons\\xa0that series creator Matt Groening \"assumes that his tickled audience is confident that the system barely works [...] So why does he need to show a patriot at all, especially one who is a deluded little female block-head? Probably because he, too, wishes to be seen as giving America another chance. Mr. Lisa guarantees his good intentions.\"[10]\\nGünter Beck, a lecturer for the\\xa0German Academic Exchange Service\\xa0(DAAD) at the Haifa Center for German and European Studies at the\\xa0University of Haifa\\xa0in Israel, compared Lisa\\'s role in the episode to the nineteenth-century American poet and philosopher\\xa0Henry David Thoreau. He writes that Lisa stands up against the public\\'s indifference towards the political system that Thoreau criticized, and comments that the emphasis should be \"on the brave moral decision to stand up for principles and against the broad public. By this courageous act, \\'to do what is right\\', an individual could save the well-being of the whole community. And indeed, Lisa\\'s bravery is the impulse for the state\\'s representatives to carry out their democratic obligations, so she can gladly notice \\'The system works!\\' — her trust in democracy and its institutions is restored. Thoreau on the other hand, had no lasting trust in the system but only in the people themselves and in the individual\\'s capacity to realize development and democracy.\"[24]\\nReception[edit]\\nBroadcast and re-releases[edit]\\n\"Mr. Lisa Goes to Washington\" originally aired on the Fox network in the United States on September 26, 1991.[1]\\xa0The episode finished 36th in the ratings for the week of September 23–29, 1991, with a\\xa0Nielsen rating\\xa0of 12.9, equivalent to approximately 11.9 million viewing households.\\xa0The Simpsons\\xa0was the third highest-rated show on Fox that week, following\\xa0Married... with Children\\xa0and\\xa0In Living Color.[25]\\xa0\"Mr. Lisa Goes to Washington\" and the episode \"When Flanders Failed\" were released on videocassette in 1999, entitled\\xa0The Best of the Simpsons.[26]\\xa0The episode was later included on the\\xa0Simpsons\\xa0season three DVD set that was released on August 26, 2003. Wes Archer, David Silverman, Matt Groening, Al Jean, Mike Reiss, and Julie Kavner participated in the DVD\\'s\\xa0audio commentary\\xa0of the episode.[27]\\nCritical reviews[edit]\\nSince airing, the episode has received mostly positive reviews from television critics. The authors of the book\\xa0I Can\\'t Believe It\\'s a Bigger and Better Updated Unofficial Simpsons Guide, Warren Martyn and Adrian Wood, praised the episode for being one of the best Lisa-centric episodes, and called Lisa\\'s talk with\\xa0Thomas Jefferson\\xa0and her nightmare vision of politicians as pigs \"especially worthy of note\".[28]\\xa0Nate Meyers of Digitally Obsessed gave the episode a 4.5 rating and said it is one of the best episodes featuring Lisa, \"complete with poignant observations about politics\".[29]\\xa0He particularly enjoyed the appearance of Barbara Bush at the White House.[29]\\nThe\\xa0Austin American-Statesman\\'s Steven Stein said this was the first episode of\\xa0The Simpsons\\xa0he saw. Even though he did not understand half the pop culture references, by the end of the episode he was a \"Simpsons\\xa0convert\".[18]\\xa0He thought there was \"something exotic about an issue as serious as political corruption being dealt with in a cartoon and being interrupted by jokes about beer and, yes, doughnuts\".[18]\\xa0The episode was praised for its political satire. Bill Gibron of DVD Verdict called the episode a \"biting political satire in the guise of a children\\'s oratory contest [which] signifies that this season of the series will be all over the map, both emotionally and logically\".[30]\\xa0Gibron added: \"Everything, from the\\xa0Reader\\'s Digest\\xa0rants to the formulaic speeches of the youths, has a resounding ring of truth. And once the story moves to Washington D.C, our nation\\'s capital is in for a royal reaming as well.\"[30]\\nBryce Wilson of Cinema Blend said the episode solidified the series\\' politically satirical voice as it \"bitch slapped the Bush administration\" that\\xa0would later badmouth\\xa0The Simpsons.[31]\\xa0DVD Movie Guide\\'s Colin Jacobson, however, gave the episode a more negative review, stating that it \"has its moments but never seems like one of the series\\' better programs. Part of that stems from its somewhat icky ending. The show exhibits a tone that feels more appropriate to a less biting and cynical series. It starts well with Homer\\'s obsession with\\xa0Reading Digest. After that, the show seems more erratic, and it remains pretty average overall.\"[32]\\nResponse from the timber industry[edit]\\nAccording to\\xa0The Plain Dealer\\'s Rodney Ferguson, the\\xa0timber industry\\xa0was insulted by the scene in which a timber industry lobbyist offers a bribe to the corrupt congressman so that he can demolish Springfield Forest. The Oregon Lands Coalition, a pro-timber group in\\xa0Salem, Oregon, \"bombarded\" the producers of the show with phone calls and mail protesting the episode.[33]\\xa0The coalition said it portrayed loggers unfairly and is \"allowing itself to be used by environmental extremists\".[2]\\xa0In an open letter to\\xa0The Simpsons\\xa0executive producer\\xa0James L. Brooks, the coalition wrote: \"Rather than approach this issue with genuine concern for Mother Earth, you took an easy shot at hard-working people whose only crime is [having been] born in a timber town.\"[2]\\xa0Karen Clark, a payroll clerk for a timber company in\\xa0Stayton, Oregon, said: \"The Simpsons\\xa0portrayed us as greedy, bribery-type people. It didn\\'t portray us as the everyday people—mothers, fathers, good members of society—that we are.\"[33]\\xa0Luke Popovich, vice president of the American Forest Council, wrote a letter to the show\\'s producer to protest \"the fuzzy-headed characterizations that pass for political correctness, the thinking in Hollywood where people are not very serious about these issues, but interested in pushing the right hot buttons, scoring the right points with audiences\".[33]\\n\\n\\nMatt Groening, creator of\\xa0The Simpsons, responded to the criticism of the episode.\\nThe Simpsons\\xa0creator Matt Groening responded to the criticism in an interview with\\xa0TV Guide, in which he said he did \"research on the ecological damage caused by clear-cutting and over-logging [and] it\\'s really appalling\".[33]\\xa0Jackie Lang, a timber industry activist in Salem who helped lead the protest against the Fox network and Groening, said she was appalled by Groening\\'s response, and \"He will be sorry he ever made it.\"[33]\\xa0Jake Hogan, supervising producer of the show, defended Groening: \"[The episodes] are just little stories, little comedies—stories that make people laugh.\"[33]\\xa0On October 15, 1991, Groening issued another statement to the public, in which he said: \"So now a few lumber companies have joined the nuclear power industry, right-wing preachers and high-ranking Republicans in attacking\\xa0The Simpsons. We must be doing something right. I must point out\\xa0The Simpsons\\xa0is a cartoon show—not\\xa060 Minutes. Later in the show, the same lobbyist proposed drilling for oil in\\xa0Teddy Roosevelt\\'s head at Mount Rushmore. Please don\\'t tell the oil companies about this.\"[34]\\nDavid Reinhard of\\xa0The Oregonian\\xa0commented on the criticism: \"Hollywood sharpsters can always make a group from the great American hinterland look ridiculous when it zeroes in on one show, particularly if that show is a cartoon. And the Oregon Lands Coalition\\'s protest was a bit of an overreaction. But the environmental sloganeering of\\xa0The Simpsons\\xa0as well as Groening\\'s cartoon commentary are symptomatic of a Hollywood and a popular culture that are hostile to the concerns and values of most Americans.\"[34]\\xa0After the episode aired, media researchers Robert Lichter and Linda S. Lichter found in a study of prime-time television that when shows dealt with business themes, 89 percent portrayed businessmen as swindlers or liars.[34]\\nThe same day Groening released his second statement,\\xa0The Simpsons\\xa0publicist Antonia Coffman was invited by Wayne Giesy, sales manager of Hull-Oakes Lumber Co. in\\xa0Bellfountain, Oregon, to visit Oregon and see \"responsible timber management\".[2]\\xa0Giesy said they wanted to show the producers \"how we log, how we manufacture, what goods we produce for everyone and how we replant for future generations. What most timber companies are interested in is a balanced program.\"[2]\\n'"
            ],
            "application/vnd.google.colaboratory.intrinsic+json": {
              "type": "string"
            }
          },
          "metadata": {},
          "execution_count": 20
        }
      ]
    },
    {
      "cell_type": "code",
      "source": [
        "def testTokenzination():\n",
        "    index = InvertedIndex() # initilaise the index\n",
        "    corpus = index.read_data('/content/drive/MyDrive/Colab Notebooks/Simpsons2022') # specify the directory path in which files are located\n",
        "    text = (corpus[0]).string\n",
        "    start_time = time.perf_counter()\n",
        "    tokenized = index.process_document(text)\n",
        "    print(\"Time taken\", time.perf_counter()-start_time)\n",
        "    counter = Counter(tokenized).most_common(10)\n",
        "    x = [x for x, _ in counter]\n",
        "    print(x)\n",
        "    y = [y for _, y in counter]\n",
        "    plt.title(\"Most frequent terms\")\n",
        "    plt.bar(x,y)\n",
        "testTokenzination()"
      ],
      "metadata": {
        "colab": {
          "base_uri": "https://localhost:8080/",
          "height": 368
        },
        "id": "ZJGAK55tDxZB",
        "outputId": "3e64d814-96cf-4931-f1b6-74adee77ccb1"
      },
      "execution_count": 21,
      "outputs": [
        {
          "output_type": "stream",
          "name": "stdout",
          "text": [
            "/content/drive/MyDrive/Colab Notebooks/Simpsons2022/simpsons_characters - row.csv will be skipped\n",
            "/content/drive/MyDrive/Colab Notebooks/Simpsons2022/simpsons_locations row.csv will be skipped\n",
            "118\n",
            "Time taken 0.07196086399926571\n",
            "[\"'s\", 'episod', 'lisa', 'simpson', 'washington', 'show', 'said', 'goe', 'american', 'famili']\n"
          ]
        },
        {
          "output_type": "display_data",
          "data": {
            "text/plain": [
              "<Figure size 432x288 with 1 Axes>"
            ],
            "image/png": "[encoded data removed]"
          },
          "metadata": {
            "needs_background": "light"
          }
        }
      ]
    },
    {
      "cell_type": "code",
      "source": [
        "def testTokenzination():\n",
        "    index = InvertedIndex() # initilaise the index\n",
        "    corpus = index.read_data('/content/drive/MyDrive/Colab Notebooks/Simpsons2022') # specify the directory path in which files are located\n",
        "    text = (corpus[0]).string\n",
        "    start_time = time.perf_counter()\n",
        "    tokenized = index.process_document(text)\n",
        "    print(\"Time taken\", time.perf_counter()-start_time)\n",
        "    return tokenized\n",
        "testTokenzination()[:60]"
      ],
      "metadata": {
        "id": "rkZoP1P6BxZ4",
        "colab": {
          "base_uri": "https://localhost:8080/"
        },
        "outputId": "58774ef8-3267-42db-a3af-c932b10c83b3"
      },
      "execution_count": 22,
      "outputs": [
        {
          "output_type": "stream",
          "name": "stdout",
          "text": [
            "/content/drive/MyDrive/Colab Notebooks/Simpsons2022/simpsons_characters - row.csv will be skipped\n",
            "/content/drive/MyDrive/Colab Notebooks/Simpsons2022/simpsons_locations row.csv will be skipped\n",
            "118\n",
            "Time taken 0.06074893799996062\n"
          ]
        },
        {
          "output_type": "execute_result",
          "data": {
            "text/plain": [
              "['mr.',\n",
              " 'lisa',\n",
              " 'goe',\n",
              " 'washington',\n",
              " 'second',\n",
              " 'episod',\n",
              " 'third',\n",
              " 'season',\n",
              " 'american',\n",
              " 'anim',\n",
              " 'televis',\n",
              " 'seri',\n",
              " 'simpson',\n",
              " 'origin',\n",
              " 'air',\n",
              " 'fox',\n",
              " 'network',\n",
              " 'unit',\n",
              " 'state',\n",
              " 'septemb',\n",
              " '26',\n",
              " '1991',\n",
              " 'episod',\n",
              " 'lisa',\n",
              " 'win',\n",
              " 'patriot',\n",
              " 'essay',\n",
              " 'contest',\n",
              " 'unit',\n",
              " 'state',\n",
              " 'famili',\n",
              " 'attend',\n",
              " 'contest',\n",
              " 'final',\n",
              " 'washington',\n",
              " 'd.c.',\n",
              " 'dismay',\n",
              " 'watch',\n",
              " 'congressman',\n",
              " 'accept',\n",
              " 'bribe',\n",
              " 'lisa',\n",
              " 'lose',\n",
              " 'contest',\n",
              " 'pen',\n",
              " 'scath',\n",
              " 'screed',\n",
              " 'condemn',\n",
              " 'govern',\n",
              " 'system',\n",
              " 'corrupt',\n",
              " 'congressman',\n",
              " 'jail',\n",
              " 'remov',\n",
              " 'offic',\n",
              " 'restor',\n",
              " 'faith',\n",
              " 'government.th',\n",
              " 'episod',\n",
              " 'written']"
            ]
          },
          "metadata": {},
          "execution_count": 22
        }
      ]
    },
    {
      "cell_type": "code",
      "execution_count": 23,
      "metadata": {
        "id": "3n4tuVF-zqE9",
        "colab": {
          "base_uri": "https://localhost:8080/"
        },
        "outputId": "8e86585b-aa17-4532-9cda-9c3bd39efdff"
      },
      "outputs": [
        {
          "output_type": "stream",
          "name": "stdout",
          "text": [
            "/content/drive/MyDrive/Colab Notebooks/Simpsons2022/simpsons_characters - row.csv will be skipped\n",
            "/content/drive/MyDrive/Colab Notebooks/Simpsons2022/simpsons_locations row.csv will be skipped\n",
            "118\n",
            "First 10 of sorted_token_list: ['18th: 3.22.txt, '42: 7.2.txt, '42: 7.25.txt, '60s-era: 7.9.txt, '60s-era: 7.9.txt, '68: 4.22.txt, '78: 3.10.txt, '80: 5.2.txt, '88: 5.3.txt, '88: 5.3.txt]\n",
            "It took: 6.9912 seconds to index the whole corpus.\n",
            "It has 12247 entries in total.\n"
          ]
        }
      ],
      "source": [
        "def main():\n",
        "    \"main call function\"\n",
        "    index = InvertedIndex() # initilaise the index\n",
        "    corpus = index.read_data('/content/drive/MyDrive/Colab Notebooks/Simpsons2022') # specify the directory path in which files are located\n",
        "    index.index_corpus(corpus) # index documents/corpus\n",
        "    return index\n",
        "index = main()"
      ]
    },
    {
      "cell_type": "code",
      "source": [
        "index.dump(\"/content/drive/MyDrive/Colab Notebooks/26957722.txt\")"
      ],
      "metadata": {
        "id": "G94h70akKT-Q",
        "colab": {
          "base_uri": "https://localhost:8080/"
        },
        "outputId": "6be431f4-152e-46da-bb0c-7496c91516ad"
      },
      "execution_count": 24,
      "outputs": [
        {
          "output_type": "stream",
          "name": "stdout",
          "text": [
            "1123 total occurances: ['17 in 3.1.txt: [39, 201, 231, 281, 304, 308, 322, 336, 483, 493, 758, 761, 989, 1011, 1116, 1662, 1696]', '4 in 3.10.txt: [865, 1037, 1170, 1254]', '4 in 3.11.txt: [337, 530, 629, 657]', '12 in 3.12.txt: [35, 42, 108, 139, 146, 184, 189, 398, 401, 420, 475, 575]', '27 in 3.13.txt: [1, 21, 45, 56, 90, 126, 130, 140, 214, 227, 233, 245, 251, 274, 287, 302, 549, 627, 650, 710, 746, 821, 825, 861, 878, 1045, 1056]', '2 in 3.14.txt: [292, 312]', '9 in 3.15.txt: [39, 69, 221, 246, 335, 471, 496, 509, 653]', '25 in 3.16.txt: [0, 21, 34, 69, 101, 160, 173, 215, 236, 252, 265, 276, 332, 412, 424, 432, 540, 561, 624, 646, 735, 833, 890, 910, 972]', '1 in 3.17.txt: [910]', '20 in 3.18.txt: [42, 75, 151, 172, 181, 212, 216, 229, 302, 311, 353, 393, 537, 564, 595, 614, 856, 882, 893, 909]', '9 in 3.19.txt: [66, 158, 183, 270, 288, 299, 705, 722, 1216]', '3 in 3.2.txt: [205, 462, 719]', '2 in 3.20.txt: [183, 1595]', '17 in 3.21.txt: [43, 50, 56, 60, 115, 156, 159, 213, 248, 276, 293, 304, 396, 489, 569, 717, 744]', '4 in 3.22.txt: [21, 169, 249, 258]', '23 in 3.23.txt: [0, 25, 44, 53, 104, 143, 150, 175, 184, 197, 208, 233, 238, 241, 253, 389, 407, 428, 429, 438, 446, 496, 622]', '2 in 3.24.txt: [202, 282]', '10 in 3.3.txt: [58, 233, 256, 286, 294, 527, 748, 752, 782, 839]', '30 in 3.4.txt: [0, 21, 35, 43, 113, 140, 159, 173, 198, 209, 215, 230, 242, 248, 305, 326, 513, 516, 524, 541, 559, 588, 601, 619, 639, 677, 721, 785, 808, 863]', '16 in 3.5.txt: [51, 283, 296, 306, 322, 327, 333, 382, 424, 741, 766, 781, 797, 809, 811, 818]', '13 in 3.6.txt: [38, 151, 162, 178, 271, 307, 327, 348, 374, 537, 689, 810, 847]', '21 in 3.7.txt: [33, 83, 234, 249, 267, 314, 339, 344, 360, 367, 376, 386, 782, 801, 962, 969, 977, 1011, 1012, 1167, 1193]', '1 in 3.8.txt: [246]', '20 in 3.9.txt: [25, 30, 39, 131, 139, 154, 178, 186, 194, 203, 214, 232, 247, 294, 302, 373, 393, 406, 575, 635]', '12 in 4.1.txt: [61, 74, 81, 90, 99, 167, 199, 212, 217, 227, 330, 578]', '18 in 4.10.txt: [141, 244, 250, 260, 266, 388, 400, 442, 450, 461, 1017, 1030, 1043, 1053, 1084, 1095, 1112, 1188]', '3 in 4.11.txt: [267, 419, 476]', '1 in 4.12.txt: [287]', '9 in 4.13.txt: [38, 60, 148, 184, 194, 209, 238, 437, 470]', '16 in 4.14.txt: [26, 100, 111, 122, 172, 285, 320, 491, 499, 513, 524, 540, 562, 575, 673, 675]', '6 in 4.15.txt: [268, 624, 703, 813, 874, 925]', '9 in 4.16.txt: [34, 75, 100, 110, 141, 335, 353, 453, 470]', '16 in 4.18.txt: [30, 33, 124, 129, 196, 210, 233, 392, 543, 597, 599, 610, 614, 625, 644, 726]', '11 in 4.19.txt: [20, 66, 114, 123, 133, 188, 190, 350, 504, 532, 684]', '3 in 4.2.txt: [142, 962, 1531]', '7 in 4.20.txt: [37, 109, 121, 151, 154, 270, 299]', '3 in 4.21.txt: [260, 448, 868]', '7 in 4.22.txt: [43, 134, 257, 265, 284, 319, 1346]', '11 in 4.5.txt: [28, 38, 100, 123, 144, 354, 375, 387, 443, 592, 733]', '18 in 4.6.txt: [23, 40, 70, 82, 96, 113, 116, 140, 164, 172, 175, 182, 205, 212, 220, 228, 247, 624]', '18 in 4.7.txt: [44, 148, 158, 164, 182, 236, 246, 250, 259, 366, 375, 450, 552, 563, 596, 605, 645, 658]', '6 in 4.8.txt: [25, 73, 94, 162, 178, 223]', '1 in 4.9.txt: [713]', '4 in 5.1.txt: [61, 160, 956, 1275]', '2 in 5.10.txt: [49, 194]', '4 in 5.11.txt: [151, 445, 622, 770]', '31 in 5.12.txt: [0, 22, 41, 108, 136, 146, 155, 164, 170, 184, 204, 209, 219, 255, 267, 281, 319, 337, 417, 453, 506, 590, 606, 615, 633, 646, 719, 731, 748, 766, 794]', '1 in 5.13.txt: [438]', '1 in 5.14.txt: [816]', '4 in 5.15.txt: [576, 672, 690, 719]', '2 in 5.16.txt: [468, 873]', '17 in 5.17.txt: [0, 22, 44, 152, 161, 176, 195, 215, 262, 317, 336, 488, 497, 562, 632, 882, 926]', '20 in 5.18.txt: [32, 40, 51, 142, 151, 179, 183, 190, 207, 212, 225, 232, 251, 274, 283, 301, 339, 347, 364, 598]', '18 in 5.19.txt: [35, 127, 136, 190, 216, 272, 281, 294, 298, 346, 364, 375, 386, 421, 574, 639, 754, 780]', '3 in 5.2.txt: [276, 399, 703]', '24 in 5.20.txt: [31, 38, 147, 181, 195, 199, 234, 265, 275, 288, 352, 354, 373, 399, 408, 453, 498, 502, 513, 550, 634, 797, 846, 855]', '8 in 5.21.txt: [172, 192, 209, 235, 635, 660, 763, 805]', '5 in 5.22.txt: [216, 223, 231, 329, 354]', '4 in 5.3.txt: [259, 313, 832, 1352]', '1 in 5.4.txt: [273]', '29 in 5.5.txt: [39, 121, 138, 342, 362, 388, 403, 411, 439, 449, 468, 476, 540, 567, 589, 603, 613, 620, 745, 926, 980, 1025, 1080, 1094, 1242, 1250, 1360, 1392, 1500]', '1 in 5.6.txt: [158]', '16 in 5.7.txt: [0, 38, 45, 55, 156, 190, 219, 249, 294, 298, 310, 321, 327, 377, 405, 852]', '13 in 5.8.txt: [22, 34, 140, 182, 198, 250, 266, 396, 467, 498, 692, 816, 837]', '9 in 5.9.txt: [50, 230, 240, 256, 268, 298, 307, 606, 1247]', '22 in 6.1.txt: [0, 21, 100, 109, 135, 148, 157, 185, 213, 225, 290, 317, 349, 353, 373, 406, 411, 571, 666, 692, 740, 861]', '5 in 6.10.txt: [228, 267, 270, 410, 420]', '1 in 6.12.txt: [226]', '1 in 6.13.txt: [277]', '7 in 6.14.txt: [0, 22, 49, 79, 96, 571, 583]', '30 in 6.16.txt: [0, 22, 29, 49, 92, 115, 127, 137, 156, 172, 175, 196, 204, 217, 225, 236, 256, 263, 273, 299, 303, 328, 453, 548, 579, 625, 695, 758, 785, 1040]', '10 in 6.17.txt: [34, 68, 290, 306, 319, 330, 339, 419, 481, 737]', '3 in 6.18.txt: [546, 562, 700]', '5 in 6.19.txt: [126, 377, 416, 427, 454]', '3 in 6.2.txt: [393, 416, 754]', '5 in 6.20.txt: [202, 225, 267, 278, 520]', '10 in 6.21.txt: [21, 134, 175, 249, 263, 296, 587, 663, 683, 688]', '16 in 6.22.txt: [21, 34, 200, 211, 224, 241, 317, 324, 332, 367, 384, 397, 703, 865, 874, 1096]', '2 in 6.23.txt: [245, 641]', '8 in 6.24.txt: [95, 145, 157, 194, 236, 296, 368, 386]', '4 in 6.25.txt: [259, 313, 832, 1352]', '4 in 6.3.txt: [363, 370, 447, 510]', '7 in 6.4.txt: [64, 94, 101, 121, 146, 478, 598]', '8 in 6.5.txt: [38, 142, 165, 205, 221, 252, 288, 316]', '9 in 6.6.txt: [173, 212, 290, 384, 507, 523, 532, 553, 597]', '41 in 6.7.txt: [0, 26, 33, 54, 74, 123, 135, 147, 157, 163, 176, 185, 207, 213, 223, 231, 268, 272, 286, 300, 316, 393, 410, 435, 514, 541, 616, 630, 655, 659, 680, 727, 740, 761, 777, 806, 835, 889, 900, 904, 928]', '12 in 6.8.txt: [28, 109, 119, 161, 175, 182, 192, 310, 405, 439, 541, 660]', '2 in 6.9.txt: [60, 387]', '4 in 7.1.txt: [259, 313, 832, 1352]', '3 in 7.10.txt: [784, 788, 815]', '23 in 7.11.txt: [24, 33, 106, 119, 140, 151, 169, 181, 193, 203, 212, 228, 241, 252, 265, 278, 464, 483, 569, 583, 597, 656, 715]', '4 in 7.12.txt: [42, 218, 240, 599]', '14 in 7.13.txt: [47, 124, 125, 144, 174, 189, 219, 236, 400, 413, 801, 828, 846, 990]', '18 in 7.15.txt: [0, 21, 39, 106, 114, 127, 140, 148, 197, 202, 222, 253, 540, 568, 601, 625, 675, 688]', '23 in 7.18.txt: [56, 65, 106, 183, 189, 204, 228, 258, 278, 291, 302, 334, 363, 412, 431, 497, 585, 607, 618, 733, 1082, 1235, 1268]', '11 in 7.2.txt: [39, 41, 140, 153, 224, 235, 253, 265, 270, 300, 730]', '20 in 7.20.txt: [0, 21, 42, 157, 170, 192, 261, 284, 295, 299, 318, 328, 341, 386, 433, 575, 665, 742, 756, 777]', '1 in 7.21.txt: [155]', '13 in 7.22.txt: [88, 91, 165, 217, 271, 281, 323, 339, 362, 392, 401, 411, 749]', '2 in 7.24.txt: [121, 193]', '11 in 7.25.txt: [39, 41, 140, 153, 224, 235, 253, 265, 270, 300, 730]', '8 in 7.3.txt: [107, 146, 159, 207, 395, 454, 534, 573]', '42 in 7.4.txt: [0, 22, 46, 137, 174, 182, 183, 202, 208, 243, 252, 267, 276, 287, 292, 303, 358, 552, 608, 639, 690, 713, 760, 791, 802, 820, 823, 835, 874, 904, 915, 927, 940, 946, 1029, 1068, 1092, 1160, 1223, 1238, 1249, 1259]', '2 in 7.5.txt: [177, 253]', '15 in 7.6.txt: [413, 444, 453, 461, 470, 487, 546, 607, 615, 621, 961, 966, 972, 986, 1220]', '3 in 7.7.txt: [151, 586, 885]', '1 in 7.8.txt: [152]', '6 in 7.9.txt: [37, 222, 294, 305, 320, 335]']\n",
            "335 total occurances: ['7 in 3.1.txt: [3, 12, 816, 839, 1393, 1636, 1792]', '7 in 3.10.txt: [12, 69, 151, 513, 643, 1161, 1360]', '2 in 3.11.txt: [21, 182]', '4 in 3.12.txt: [101, 116, 702, 709]', '2 in 3.13.txt: [139, 350]', '2 in 3.15.txt: [566, 644]', '3 in 3.16.txt: [11, 71, 439]', '5 in 3.17.txt: [119, 420, 510, 964, 1150]', '3 in 3.18.txt: [266, 296, 529]', '2 in 3.19.txt: [861, 895]', '5 in 3.2.txt: [65, 347, 400, 627, 1209]', '6 in 3.20.txt: [422, 663, 702, 787, 1510, 1569]', '2 in 3.21.txt: [444, 454]', '6 in 3.22.txt: [11, 67, 83, 336, 349, 375]', '2 in 3.3.txt: [343, 388]', '6 in 3.4.txt: [56, 141, 365, 491, 813, 846]', '9 in 3.5.txt: [87, 362, 391, 416, 439, 454, 462, 516, 597]', '2 in 3.6.txt: [60, 491]', '7 in 3.7.txt: [12, 44, 152, 263, 526, 1160, 1216]', '5 in 3.8.txt: [85, 136, 442, 538, 659]', '1 in 3.9.txt: [251]', '5 in 4.1.txt: [2, 296, 402, 410, 590]', '19 in 4.10.txt: [2, 13, 31, 39, 47, 108, 132, 258, 299, 303, 322, 465, 668, 835, 923, 938, 981, 1088, 1149]', '6 in 4.12.txt: [99, 380, 396, 635, 775, 1098]', '3 in 4.14.txt: [11, 533, 782]', '2 in 4.15.txt: [352, 370]', '4 in 4.16.txt: [39, 279, 325, 351]', '2 in 4.17.txt: [553, 906]', '5 in 4.18.txt: [69, 74, 320, 437, 441]', '2 in 4.19.txt: [163, 500]', '2 in 4.2.txt: [12, 436]', '3 in 4.20.txt: [81, 384, 487]', '3 in 4.21.txt: [280, 291, 404]', '3 in 4.22.txt: [13, 648, 654]', '5 in 4.3.txt: [382, 389, 397, 418, 753]', '2 in 4.4.txt: [12, 230]', '3 in 4.6.txt: [280, 332, 381]', '2 in 4.8.txt: [76, 354]', '1 in 4.9.txt: [927]', '5 in 5.1.txt: [4, 226, 283, 430, 891]', '3 in 5.10.txt: [388, 536, 551]', '6 in 5.12.txt: [55, 228, 369, 509, 570, 803]', '5 in 5.13.txt: [250, 353, 427, 449, 901]', '4 in 5.15.txt: [12, 180, 457, 462]', '1 in 5.17.txt: [80]', '2 in 5.18.txt: [317, 379]', '4 in 5.19.txt: [488, 508, 570, 853]', '2 in 5.2.txt: [715, 786]', '1 in 5.21.txt: [532]', '2 in 5.22.txt: [145, 150]', '4 in 5.3.txt: [1026, 1429, 1765, 2182]', '4 in 5.4.txt: [10, 53, 445, 496]', '6 in 5.5.txt: [234, 642, 811, 819, 963, 1150]', '1 in 5.7.txt: [79]', '1 in 5.8.txt: [781]', '3 in 5.9.txt: [239, 242, 887]', '3 in 6.1.txt: [2, 194, 714]', '1 in 6.10.txt: [13]', '1 in 6.11.txt: [11]', '1 in 6.12.txt: [414]', '3 in 6.13.txt: [45, 304, 351]', '2 in 6.14.txt: [299, 369]', '2 in 6.15.txt: [356, 485]', '1 in 6.16.txt: [874]', '1 in 6.17.txt: [356]', '4 in 6.18.txt: [11, 127, 453, 923]', '2 in 6.19.txt: [422, 724]', '3 in 6.2.txt: [66, 402, 481]', '2 in 6.20.txt: [414, 434]', '6 in 6.22.txt: [87, 121, 494, 575, 651, 700]', '1 in 6.23.txt: [182]', '1 in 6.24.txt: [541]', '4 in 6.25.txt: [1026, 1429, 1765, 2182]', '2 in 6.3.txt: [314, 694]', '1 in 6.4.txt: [12]', '3 in 6.5.txt: [98, 455, 579]', '9 in 6.6.txt: [98, 401, 501, 710, 779, 789, 885, 989, 1311]', '2 in 6.7.txt: [387, 516]', '3 in 6.8.txt: [11, 260, 301]', '1 in 6.9.txt: [514]', '4 in 7.1.txt: [1026, 1429, 1765, 2182]', '1 in 7.10.txt: [403]', '3 in 7.11.txt: [365, 371, 387]', '1 in 7.12.txt: [382]', '2 in 7.13.txt: [653, 670]', '4 in 7.14.txt: [56, 257, 274, 339]', '1 in 7.15.txt: [444]', '3 in 7.16.txt: [71, 625, 985]', '1 in 7.17.txt: [389]', '6 in 7.18.txt: [644, 902, 953, 961, 976, 1195]', '2 in 7.19.txt: [378, 756]', '3 in 7.20.txt: [277, 472, 631]', '3 in 7.21.txt: [551, 561, 734]', '1 in 7.23.txt: [515]', '3 in 7.3.txt: [54, 225, 521]', '3 in 7.4.txt: [12, 439, 532]', '4 in 7.5.txt: [47, 390, 403, 481]', '9 in 7.6.txt: [17, 109, 148, 402, 671, 716, 827, 1044, 1091]', '2 in 7.7.txt: [333, 372]', '3 in 7.8.txt: [11, 37, 45]', '3 in 7.9.txt: [72, 400, 445]']\n",
            "16 total occurances: ['3 in 3.16.txt: [583, 604, 1054]', '1 in 3.18.txt: [700]', '1 in 3.24.txt: [767]', '2 in 3.7.txt: [828, 1108]', '1 in 3.9.txt: [699]', '1 in 5.13.txt: [1135]', '1 in 7.18.txt: [162]', '1 in 7.2.txt: [164]', '1 in 7.21.txt: [1408]', '1 in 7.25.txt: [164]', '1 in 7.5.txt: [1351]', '2 in 7.6.txt: [139, 933]']\n",
            "11 total occurances: ['1 in 3.16.txt: [464]', '1 in 3.21.txt: [657]', '2 in 4.18.txt: [263, 309]', '1 in 4.4.txt: [446]', '4 in 7.10.txt: [187, 355, 613, 725]', '2 in 7.3.txt: [331, 338]']\n",
            "146 total occurances: ['3 in 3.1.txt: [1157, 1349, 1617]', '2 in 3.10.txt: [170, 1338]', '13 in 3.13.txt: [34, 171, 184, 190, 211, 248, 297, 392, 569, 608, 629, 963, 993]', '1 in 3.14.txt: [865]', '2 in 3.15.txt: [93, 370]', '3 in 3.16.txt: [229, 838, 885]', '2 in 3.17.txt: [702, 1359]', '2 in 3.18.txt: [838, 925]', '3 in 3.2.txt: [1284, 1339, 1620]', '2 in 3.21.txt: [619, 857]', '1 in 3.22.txt: [503]', '1 in 3.23.txt: [734]', '1 in 3.7.txt: [1018]', '1 in 4.1.txt: [589]', '1 in 4.10.txt: [594]', '3 in 4.12.txt: [413, 572, 1074]', '3 in 4.13.txt: [123, 266, 579]', '2 in 4.15.txt: [107, 984]', '1 in 4.17.txt: [466]', '1 in 4.18.txt: [152]', '2 in 4.2.txt: [86, 129]', '3 in 4.21.txt: [717, 805, 812]', '2 in 4.3.txt: [401, 408]', '1 in 4.4.txt: [81]', '2 in 4.9.txt: [49, 183]', '1 in 5.1.txt: [353]', '1 in 5.10.txt: [417]', '2 in 5.13.txt: [761, 907]', '1 in 5.14.txt: [549]', '1 in 5.15.txt: [817]', '1 in 5.16.txt: [714]', '1 in 5.17.txt: [325]', '3 in 5.19.txt: [140, 173, 263]', '2 in 5.2.txt: [104, 240]', '2 in 5.20.txt: [475, 825]', '1 in 5.21.txt: [769]', '1 in 5.22.txt: [798]', '3 in 5.3.txt: [281, 485, 1501]', '2 in 5.4.txt: [545, 554]', '2 in 5.5.txt: [84, 1260]', '2 in 5.8.txt: [80, 391]', '2 in 5.9.txt: [575, 744]', '1 in 6.1.txt: [366]', '1 in 6.10.txt: [81]', '1 in 6.11.txt: [685]', '1 in 6.13.txt: [735]', '2 in 6.15.txt: [605, 618]', '2 in 6.16.txt: [415, 893]', '4 in 6.18.txt: [163, 458, 598, 1138]', '1 in 6.19.txt: [671]', '1 in 6.21.txt: [514]', '2 in 6.22.txt: [101, 537]', '1 in 6.23.txt: [459]', '3 in 6.25.txt: [281, 485, 1501]', '2 in 6.4.txt: [92, 341]', '5 in 6.5.txt: [90, 499, 646, 856, 912]', '3 in 6.6.txt: [648, 1304, 1427]', '1 in 6.9.txt: [317]', '3 in 7.1.txt: [281, 485, 1501]', '2 in 7.10.txt: [587, 1298]', '2 in 7.11.txt: [320, 586]', '2 in 7.13.txt: [1027, 1042]', '2 in 7.14.txt: [305, 327]', '4 in 7.19.txt: [557, 634, 942, 959]', '1 in 7.20.txt: [782]', '2 in 7.21.txt: [521, 1259]', '1 in 7.24.txt: [569]', '2 in 7.4.txt: [88, 1001]', '1 in 7.5.txt: [37]', '2 in 7.6.txt: [488, 524]', '3 in 7.7.txt: [852, 869, 951]', '1 in 7.8.txt: [301]', '1 in 7.9.txt: [794]']\n",
            "96 total occurances: ['1 in 3.1.txt: [1511]', '2 in 3.10.txt: [1202, 1273]', '4 in 3.16.txt: [969, 993, 1037, 1045]', '5 in 3.17.txt: [1103, 1126, 1154, 1241, 1273]', '1 in 3.23.txt: [873]', '1 in 3.5.txt: [838]', '2 in 3.6.txt: [772, 799]', '2 in 3.7.txt: [1223, 1262]', '2 in 3.8.txt: [322, 989]', '1 in 4.1.txt: [660]', '3 in 4.12.txt: [667, 676, 791]', '4 in 4.15.txt: [126, 836, 845, 860]', '1 in 4.16.txt: [549]', '3 in 4.17.txt: [759, 777, 899]', '2 in 4.2.txt: [1154, 1164]', '3 in 4.22.txt: [977, 1102, 1124]', '1 in 4.3.txt: [762]', '1 in 4.6.txt: [316]', '1 in 4.8.txt: [426]', '1 in 4.9.txt: [774]', '2 in 5.1.txt: [1366, 1473]', '3 in 5.13.txt: [556, 1030, 1105]', '1 in 5.15.txt: [936]', '1 in 5.18.txt: [404]', '1 in 5.22.txt: [897]', '1 in 5.3.txt: [2002]', '1 in 5.4.txt: [679]', '3 in 5.9.txt: [1122, 1142, 1316]', '1 in 6.14.txt: [575]', '1 in 6.16.txt: [763]', '4 in 6.19.txt: [618, 637, 656, 726]', '3 in 6.2.txt: [105, 529, 693]', '1 in 6.20.txt: [905]', '1 in 6.21.txt: [864]', '1 in 6.23.txt: [430]', '1 in 6.24.txt: [211]', '1 in 6.25.txt: [2002]', '3 in 6.4.txt: [523, 565, 578]', '2 in 6.6.txt: [1186, 1436]', '1 in 6.9.txt: [491]', '1 in 7.1.txt: [2002]', '2 in 7.18.txt: [878, 1063]', '3 in 7.19.txt: [118, 603, 844]', '4 in 7.21.txt: [493, 1042, 1051, 1107]', '2 in 7.24.txt: [553, 591]', '3 in 7.4.txt: [127, 1190, 1242]', '1 in 7.6.txt: [1501]', '6 in 7.7.txt: [483, 493, 739, 746, 807, 1044]']\n",
            "3 total occurances: ['1 in 3.16.txt: [1065]', '1 in 4.12.txt: [684]', '1 in 5.9.txt: [1328]']\n",
            "305 total occurances: ['6 in 3.1.txt: [44, 353, 1331, 1463, 1542, 1607]', '9 in 3.10.txt: [174, 969, 1022, 1141, 1150, 1280, 1312, 1324, 1346]', '2 in 3.11.txt: [918, 936]', '1 in 3.12.txt: [638]', '6 in 3.13.txt: [804, 851, 880, 906, 930, 996]', '1 in 3.14.txt: [995]', '1 in 3.15.txt: [672]', '3 in 3.16.txt: [823, 1063, 1066]', '6 in 3.17.txt: [118, 474, 1190, 1217, 1228, 1249]', '4 in 3.18.txt: [31, 113, 811, 931]', '1 in 3.19.txt: [1146]', '4 in 3.2.txt: [535, 1102, 1162, 1188]', '3 in 3.20.txt: [743, 756, 1423]', '2 in 3.21.txt: [369, 627]', '4 in 3.22.txt: [134, 760, 768, 812]', '2 in 3.23.txt: [27, 840]', '3 in 3.24.txt: [907, 997, 1076]', '2 in 3.3.txt: [590, 809]', '2 in 3.4.txt: [713, 761]', '3 in 3.5.txt: [303, 645, 853]', '4 in 3.7.txt: [204, 1241, 1248, 1281]', '5 in 3.8.txt: [273, 714, 794, 880, 919]', '2 in 3.9.txt: [389, 752]', '2 in 4.10.txt: [881, 958]', '1 in 4.11.txt: [320]', '11 in 4.12.txt: [79, 660, 705, 714, 749, 778, 877, 920, 938, 961, 1035]', '2 in 4.14.txt: [90, 726]', '1 in 4.15.txt: [755]', '5 in 4.17.txt: [76, 756, 848, 883, 949]', '4 in 4.2.txt: [1109, 1121, 1189, 1520]', '2 in 4.20.txt: [598, 654]', '4 in 4.22.txt: [1017, 1046, 1256, 1327]', '3 in 4.3.txt: [110, 824, 840]', '1 in 4.4.txt: [541]', '1 in 4.5.txt: [826]', '1 in 4.6.txt: [658]', '1 in 4.7.txt: [483]', '6 in 4.9.txt: [54, 187, 825, 869, 954, 974]', '3 in 5.1.txt: [924, 1349, 1485]', '1 in 5.10.txt: [815]', '3 in 5.12.txt: [717, 720, 773]', '6 in 5.13.txt: [848, 930, 950, 964, 977, 1017]', '4 in 5.14.txt: [629, 855, 860, 922]', '2 in 5.15.txt: [94, 1028]', '1 in 5.16.txt: [835]', '3 in 5.17.txt: [762, 772, 782]', '1 in 5.18.txt: [633]', '1 in 5.2.txt: [375]', '1 in 5.21.txt: [695]', '2 in 5.22.txt: [532, 613]', '3 in 5.3.txt: [2034, 2056, 2115]', '5 in 5.4.txt: [131, 700, 710, 751, 813]', '7 in 5.5.txt: [1341, 1381, 1416, 1433, 1437, 1504, 1506]', '2 in 5.7.txt: [116, 687]', '1 in 5.8.txt: [886]', '5 in 5.9.txt: [111, 1133, 1307, 1329, 1343]', '1 in 6.11.txt: [720]', '7 in 6.12.txt: [64, 303, 349, 434, 499, 556, 569]', '2 in 6.15.txt: [59, 720]', '1 in 6.16.txt: [918]', '4 in 6.18.txt: [371, 733, 816, 846]', '6 in 6.19.txt: [588, 667, 690, 701, 716, 743]', '1 in 6.2.txt: [685]', '5 in 6.20.txt: [109, 597, 962, 972, 979]', '1 in 6.21.txt: [647]', '1 in 6.22.txt: [339]', '1 in 6.23.txt: [950]', '1 in 6.24.txt: [536]', '3 in 6.25.txt: [2034, 2056, 2115]', '1 in 6.4.txt: [193]', '3 in 6.5.txt: [66, 996, 1009]', '12 in 6.6.txt: [1151, 1225, 1237, 1249, 1266, 1294, 1313, 1330, 1340, 1370, 1401, 1417]', '3 in 6.7.txt: [106, 854, 867]', '3 in 6.8.txt: [152, 178, 587]', '1 in 6.9.txt: [508]', '3 in 7.1.txt: [2034, 2056, 2115]', '2 in 7.11.txt: [652, 680]', '4 in 7.12.txt: [568, 725, 761, 786]', '5 in 7.13.txt: [71, 648, 925, 1053, 1061]', '1 in 7.14.txt: [539]', '2 in 7.15.txt: [319, 596]', '2 in 7.16.txt: [1191, 1203]', '1 in 7.17.txt: [641]', '2 in 7.18.txt: [1109, 1136]', '5 in 7.19.txt: [870, 879, 898, 931, 966]', '4 in 7.2.txt: [748, 761, 807, 822]', '2 in 7.20.txt: [842, 871]', '5 in 7.21.txt: [1021, 1099, 1131, 1152, 1368]', '2 in 7.23.txt: [795, 1022]', '2 in 7.24.txt: [580, 620]', '4 in 7.25.txt: [748, 761, 807, 822]', '4 in 7.3.txt: [273, 277, 504, 529]', '3 in 7.4.txt: [120, 129, 1192]', '5 in 7.5.txt: [1093, 1103, 1114, 1449, 1495]', '3 in 7.6.txt: [1440, 1466, 1482]', '11 in 7.7.txt: [85, 758, 776, 784, 792, 835, 847, 909, 983, 1013, 1031]', '2 in 7.8.txt: [884, 897]', '2 in 7.9.txt: [781, 803]']\n",
            "81 total occurances: ['1 in 3.1.txt: [762]', '1 in 3.11.txt: [929]', '2 in 3.16.txt: [975, 1056]', '1 in 3.17.txt: [1238]', '1 in 3.18.txt: [919]', '1 in 3.19.txt: [413]', '3 in 3.21.txt: [348, 641, 647]', '1 in 3.5.txt: [845]', '1 in 3.7.txt: [1270]', '1 in 3.9.txt: [422]', '1 in 4.1.txt: [397]', '2 in 4.11.txt: [295, 296]', '2 in 4.12.txt: [720, 787]', '1 in 4.15.txt: [857]', '1 in 4.16.txt: [546]', '1 in 4.17.txt: [758]', '3 in 4.2.txt: [640, 1161, 1462]', '3 in 4.21.txt: [370, 376, 395]', '3 in 4.22.txt: [750, 1012, 1265]', '1 in 4.7.txt: [479]', '1 in 4.9.txt: [329]', '3 in 5.1.txt: [1011, 1162, 1169]', '1 in 5.10.txt: [791]', '1 in 5.11.txt: [666]', '6 in 5.13.txt: [636, 920, 966, 972, 987, 1027]', '1 in 5.14.txt: [423]', '1 in 5.2.txt: [676]', '1 in 5.21.txt: [758]', '1 in 5.22.txt: [893]', '1 in 5.3.txt: [978]', '2 in 5.8.txt: [496, 504]', '5 in 6.12.txt: [39, 233, 305, 323, 405]', '1 in 6.2.txt: [170]', '4 in 6.20.txt: [72, 532, 912, 977]', '1 in 6.22.txt: [1077]', '1 in 6.24.txt: [370]', '1 in 6.25.txt: [978]', '2 in 6.4.txt: [561, 575]', '2 in 6.6.txt: [591, 912]', '1 in 7.1.txt: [978]', '3 in 7.10.txt: [322, 917, 1231]', '1 in 7.13.txt: [658]', '1 in 7.14.txt: [417]', '1 in 7.19.txt: [404]', '1 in 7.21.txt: [1104]', '1 in 7.23.txt: [448]', '2 in 7.6.txt: [1048, 1134]', '1 in 7.7.txt: [1041]', '2 in 7.8.txt: [542, 575]']\n",
            "40 total occurances: ['3 in 3.1.txt: [642, 1337, 1425]', '1 in 3.10.txt: [1241]', '2 in 3.13.txt: [835, 921]', '1 in 3.15.txt: [407]', '1 in 3.16.txt: [870]', '1 in 3.20.txt: [1398]', '1 in 3.24.txt: [970]', '2 in 3.3.txt: [643, 745]', '1 in 3.7.txt: [1296]', '1 in 4.11.txt: [325]', '1 in 4.15.txt: [700]', '2 in 4.19.txt: [171, 214]', '2 in 5.1.txt: [150, 1397]', '1 in 5.10.txt: [520]', '1 in 5.11.txt: [706]', '2 in 5.12.txt: [67, 329]', '1 in 5.13.txt: [584]', '1 in 5.14.txt: [884]', '1 in 5.7.txt: [550]', '1 in 6.10.txt: [621]', '1 in 6.14.txt: [240]', '1 in 6.16.txt: [374]', '1 in 6.22.txt: [1249]', '3 in 6.6.txt: [656, 677, 1203]', '1 in 7.10.txt: [388]', '1 in 7.14.txt: [319]', '1 in 7.17.txt: [458]', '1 in 7.18.txt: [534]', '1 in 7.4.txt: [224]', '2 in 7.5.txt: [1235, 1249]']\n",
            "2 total occurances: ['2 in 6.16.txt: [1016, 1024]']\n",
            "Even after spell correction from bart simpson into bart simpson was not found\n",
            "Even after spell correction from gordi howe into gordi howe was not found\n",
            "24 total occurances: ['1 in 3.1.txt: [600]', '1 in 3.11.txt: [736]', '1 in 3.14.txt: [458]', '1 in 3.16.txt: [500]', '1 in 3.17.txt: [1336]', '1 in 3.19.txt: [285]', '1 in 3.7.txt: [908]', '1 in 5.1.txt: [746]', '1 in 5.16.txt: [770]', '1 in 5.19.txt: [846]', '2 in 5.8.txt: [454, 542]', '1 in 6.11.txt: [681]', '1 in 6.2.txt: [503]', '3 in 6.3.txt: [33, 472, 484]', '1 in 6.4.txt: [500]', '1 in 7.18.txt: [689]', '1 in 7.2.txt: [568]', '1 in 7.21.txt: [1240]', '1 in 7.22.txt: [625]', '1 in 7.25.txt: [568]', '1 in 7.4.txt: [504]']\n",
            "Even after spell correction from bart lover into bart lover was not found\n",
            "6 total occurances: ['1 in 3.11.txt: [188]', '1 in 3.16.txt: [390]', '1 in 4.15.txt: [601]', '1 in 5.1.txt: [1136]', '1 in 5.6.txt: [349]', '1 in 7.4.txt: [413]']\n",
            "6 total occurances: ['5 in 4.5.txt: [348, 696, 707, 807, 823]', '1 in 7.6.txt: [1143]']\n",
            "12 total occurances: ['1 in 3.1.txt: [1371]', '1 in 3.12.txt: [780]', '1 in 3.14.txt: [803]', '2 in 3.16.txt: [775, 896]', '1 in 3.18.txt: [515]', '2 in 3.6.txt: [142, 734]', '1 in 3.8.txt: [727]', '2 in 4.9.txt: [64, 986]', '1 in 5.13.txt: [570]']\n",
            "Even after spell correction from simpsonovi into simpsonovi was not found\n"
          ]
        }
      ]
    },
    {
      "cell_type": "code",
      "source": [
        "index.dump(\"/content/drive/MyDrive/Colab Notebooks/typos.txt\")"
      ],
      "metadata": {
        "colab": {
          "base_uri": "https://localhost:8080/"
        },
        "id": "Tr-co1cqcvq3",
        "outputId": "8e6594d8-2cb2-47bc-e65a-14cd66f93a1c"
      },
      "execution_count": 25,
      "outputs": [
        {
          "output_type": "stream",
          "name": "stdout",
          "text": [
            "2 total occurances: ['1 in 3.4.txt: [162]', '1 in 5.20.txt: [392]']\n",
            "1304 total occurances: ['26 in 3.1.txt: [11, 158, 276, 381, 659, 817, 906, 921, 954, 962, 979, 1000, 1003, 1103, 1107, 1182, 1308, 1324, 1366, 1398, 1417, 1505, 1513, 1536, 1552, 1711]', '15 in 3.10.txt: [11, 175, 636, 961, 970, 1061, 1114, 1142, 1204, 1238, 1275, 1298, 1304, 1314, 1325]', '14 in 3.11.txt: [20, 139, 228, 489, 577, 602, 615, 801, 802, 808, 842, 868, 912, 955]', '7 in 3.12.txt: [10, 57, 104, 447, 817, 841, 936]', '12 in 3.13.txt: [10, 228, 420, 770, 776, 797, 853, 882, 892, 898, 908, 946]', '4 in 3.14.txt: [10, 52, 811, 852]', '5 in 3.15.txt: [10, 443, 568, 614, 637]', '9 in 3.16.txt: [10, 804, 825, 836, 867, 943, 997, 1047, 1067]', '15 in 3.17.txt: [10, 940, 967, 1024, 1041, 1105, 1111, 1128, 1156, 1175, 1203, 1229, 1232, 1243, 1345]', '10 in 3.18.txt: [10, 251, 498, 645, 669, 702, 801, 810, 836, 863]', '13 in 3.19.txt: [10, 128, 142, 175, 218, 306, 346, 350, 390, 664, 735, 928, 1090]', '28 in 3.2.txt: [12, 191, 307, 338, 403, 419, 435, 538, 613, 757, 795, 829, 849, 1080, 1103, 1107, 1153, 1211, 1222, 1303, 1400, 1434, 1484, 1488, 1561, 1567, 1619, 1661]', '22 in 3.20.txt: [10, 62, 173, 179, 719, 746, 767, 776, 827, 832, 901, 995, 1360, 1370, 1397, 1425, 1482, 1618, 1666, 1671, 1733, 1748]', '12 in 3.21.txt: [15, 95, 199, 226, 244, 450, 566, 582, 704, 771, 790, 866]', '7 in 3.22.txt: [10, 105, 397, 618, 652, 784, 829]', '3 in 3.23.txt: [14, 675, 687]', '7 in 3.24.txt: [13, 274, 299, 671, 800, 868, 1000]', '8 in 3.3.txt: [10, 121, 450, 454, 498, 592, 625, 662]', '5 in 3.4.txt: [10, 517, 528, 715, 741]', '5 in 3.5.txt: [10, 720, 840, 857, 936]', '9 in 3.6.txt: [12, 26, 149, 664, 743, 750, 774, 786, 825]', '5 in 3.7.txt: [11, 269, 639, 943, 1150]', '14 in 3.8.txt: [11, 83, 278, 299, 368, 440, 498, 631, 715, 757, 769, 862, 996, 1016]', '6 in 3.9.txt: [10, 319, 361, 766, 774, 959]', '4 in 4.1.txt: [10, 579, 629, 647]', '19 in 4.10.txt: [12, 23, 66, 119, 173, 311, 517, 520, 796, 819, 851, 863, 911, 936, 1037, 1169, 1176, 1192, 1201]', '6 in 4.11.txt: [12, 38, 127, 256, 371, 548]', '20 in 4.12.txt: [11, 81, 669, 688, 693, 759, 770, 779, 782, 793, 805, 844, 884, 981, 1017, 1020, 1026, 1037, 1124, 1142]', '4 in 4.13.txt: [11, 76, 566, 590]', '9 in 4.14.txt: [10, 302, 383, 651, 688, 728, 754, 759, 787]', '9 in 4.15.txt: [10, 128, 357, 361, 480, 760, 789, 838, 862]', '3 in 4.16.txt: [9, 514, 551]', '17 in 4.17.txt: [11, 25, 135, 253, 375, 383, 462, 473, 478, 807, 809, 844, 854, 903, 931, 956, 999]', '10 in 4.18.txt: [2, 13, 52, 68, 316, 319, 534, 563, 574, 771]', '15 in 4.19.txt: [9, 34, 57, 363, 370, 611, 620, 636, 651, 657, 675, 719, 745, 811, 860]', '20 in 4.2.txt: [11, 60, 80, 540, 564, 676, 707, 727, 743, 1027, 1034, 1056, 1166, 1181, 1274, 1277, 1449, 1481, 1487, 1532]', '2 in 4.20.txt: [10, 685]', '14 in 4.21.txt: [11, 98, 107, 134, 166, 419, 440, 463, 468, 588, 631, 765, 828, 860]', '15 in 4.22.txt: [12, 612, 966, 981, 1018, 1028, 1040, 1088, 1092, 1127, 1179, 1236, 1317, 1321, 1353]', '16 in 4.3.txt: [10, 234, 420, 438, 450, 557, 562, 663, 672, 730, 764, 804, 810, 816, 826, 842]', '3 in 4.4.txt: [11, 324, 528]', '8 in 4.5.txt: [11, 92, 404, 438, 508, 728, 796, 848]', '7 in 4.6.txt: [11, 455, 505, 559, 580, 615, 662]', '5 in 4.7.txt: [11, 32, 446, 534, 597]', '8 in 4.8.txt: [11, 56, 176, 191, 200, 413, 428, 443]', '13 in 4.9.txt: [10, 499, 532, 630, 776, 843, 904, 960, 966, 976, 1011, 1036, 1039]', '14 in 5.1.txt: [12, 28, 56, 62, 233, 341, 473, 686, 870, 876, 1460, 1475, 1487, 1497]', '7 in 5.10.txt: [18, 447, 469, 485, 533, 561, 834]', '8 in 5.11.txt: [10, 89, 139, 371, 436, 450, 455, 655]', '9 in 5.12.txt: [11, 85, 296, 332, 387, 428, 502, 593, 703]', '11 in 5.13.txt: [10, 222, 249, 359, 602, 608, 840, 889, 1019, 1032, 1131]', '7 in 5.14.txt: [12, 392, 845, 886, 914, 924, 959]', '18 in 5.15.txt: [11, 24, 68, 85, 113, 409, 577, 607, 662, 847, 862, 870, 928, 938, 943, 993, 1029, 1032]', '12 in 5.16.txt: [11, 61, 170, 178, 255, 293, 347, 476, 738, 757, 792, 796]', '9 in 5.17.txt: [11, 34, 223, 290, 413, 508, 529, 658, 824]', '8 in 5.18.txt: [10, 270, 281, 300, 419, 510, 541, 557]', '8 in 5.19.txt: [14, 66, 122, 558, 564, 599, 806, 918]', '5 in 5.2.txt: [11, 54, 304, 643, 718]', '4 in 5.20.txt: [11, 480, 772, 944]', '7 in 5.21.txt: [13, 25, 116, 309, 368, 735, 794]', '6 in 5.22.txt: [12, 589, 661, 755, 864, 899]', '25 in 5.3.txt: [9, 312, 360, 534, 542, 552, 586, 684, 829, 833, 963, 1018, 1027, 1084, 1280, 1893, 1967, 2004, 2023, 2035, 2043, 2046, 2058, 2072, 2148]', '13 in 5.4.txt: [9, 39, 527, 640, 681, 687, 752, 755, 759, 769, 799, 805, 815]', '25 in 5.5.txt: [11, 35, 40, 122, 250, 253, 291, 471, 661, 702, 815, 885, 943, 957, 981, 1026, 1059, 1081, 1095, 1295, 1328, 1361, 1388, 1393, 1501]', '5 in 5.6.txt: [10, 333, 454, 550, 583]', '14 in 5.7.txt: [12, 100, 117, 187, 286, 397, 419, 456, 471, 595, 688, 699, 727, 778]', '6 in 5.8.txt: [11, 402, 630, 724, 800, 808]', '10 in 5.9.txt: [11, 114, 430, 453, 1124, 1134, 1158, 1167, 1211, 1310]', '6 in 6.1.txt: [10, 119, 465, 516, 798, 843]', '11 in 6.10.txt: [12, 64, 147, 178, 233, 524, 547, 569, 666, 682, 691]', '9 in 6.11.txt: [10, 79, 159, 437, 506, 625, 767, 790, 799]', '5 in 6.12.txt: [10, 80, 222, 329, 447]', '10 in 6.13.txt: [11, 47, 314, 325, 440, 475, 578, 641, 699, 732]', '6 in 6.14.txt: [11, 23, 316, 449, 526, 579]', '10 in 6.15.txt: [10, 66, 71, 295, 307, 313, 636, 706, 712, 722]', '18 in 6.16.txt: [11, 229, 320, 326, 365, 457, 460, 462, 620, 659, 700, 783, 817, 839, 851, 914, 936, 948]', '14 in 6.17.txt: [12, 59, 105, 128, 156, 170, 361, 494, 504, 564, 643, 669, 680, 696]', '20 in 6.18.txt: [10, 51, 62, 80, 98, 344, 398, 422, 438, 445, 563, 750, 838, 895, 920, 1000, 1029, 1096, 1153, 1229]', '14 in 6.19.txt: [11, 59, 75, 307, 604, 619, 646, 691, 698, 702, 717, 733, 744, 758]', '7 in 6.2.txt: [11, 33, 448, 686, 695, 727, 751]', '15 in 6.20.txt: [12, 136, 165, 297, 341, 402, 416, 417, 465, 482, 606, 820, 964, 988, 1021]', '11 in 6.21.txt: [10, 22, 57, 576, 637, 653, 706, 796, 868, 900, 932]', '11 in 6.22.txt: [10, 116, 523, 554, 562, 900, 924, 940, 945, 1004, 1072]', '11 in 6.23.txt: [10, 92, 104, 228, 309, 642, 650, 786, 876, 899, 914]', '5 in 6.24.txt: [11, 281, 484, 506, 557]', '25 in 6.25.txt: [9, 312, 360, 534, 542, 552, 586, 684, 829, 833, 963, 1018, 1027, 1084, 1280, 1893, 1967, 2004, 2023, 2035, 2043, 2046, 2058, 2072, 2148]', '10 in 6.3.txt: [1, 12, 31, 51, 180, 183, 320, 488, 706, 730]', '12 in 6.4.txt: [11, 25, 128, 142, 161, 174, 187, 351, 567, 580, 583, 631]', '9 in 6.5.txt: [11, 55, 143, 201, 310, 791, 826, 969, 1050]', '20 in 6.6.txt: [11, 52, 187, 351, 405, 576, 756, 815, 854, 886, 1172, 1188, 1213, 1260, 1273, 1295, 1298, 1386, 1438, 1450]', '10 in 6.7.txt: [11, 359, 374, 436, 503, 562, 583, 592, 723, 924]', '4 in 6.8.txt: [10, 229, 441, 531]', '9 in 6.9.txt: [10, 145, 179, 228, 424, 486, 493, 509, 529]', '25 in 7.1.txt: [9, 312, 360, 534, 542, 552, 586, 684, 829, 833, 963, 1018, 1027, 1084, 1280, 1893, 1967, 2004, 2023, 2035, 2043, 2046, 2058, 2072, 2148]', '23 in 7.10.txt: [0, 12, 30, 33, 37, 57, 135, 179, 188, 217, 223, 231, 236, 240, 278, 339, 351, 406, 420, 891, 1204, 1219, 1244]', '8 in 7.11.txt: [10, 350, 374, 477, 488, 554, 683, 705]', '6 in 7.12.txt: [10, 337, 411, 472, 488, 832]', '23 in 7.13.txt: [11, 40, 115, 214, 290, 309, 321, 341, 376, 379, 396, 447, 464, 473, 563, 583, 727, 742, 929, 958, 964, 1009, 1024]', '7 in 7.14.txt: [12, 106, 296, 357, 474, 559, 580]', '5 in 7.15.txt: [10, 97, 299, 618, 667]', '9 in 7.16.txt: [10, 621, 638, 737, 1154, 1214, 1258, 1274, 1292]', '4 in 7.17.txt: [10, 287, 364, 663]', '12 in 7.18.txt: [11, 58, 246, 426, 436, 518, 536, 557, 1112, 1213, 1246, 1254]', '10 in 7.19.txt: [11, 120, 407, 488, 846, 901, 979, 992, 995, 1019]', '14 in 7.2.txt: [13, 24, 65, 146, 282, 331, 371, 419, 651, 789, 792, 798, 809, 823]', '5 in 7.20.txt: [10, 444, 532, 560, 711]', '20 in 7.21.txt: [12, 100, 585, 976, 1013, 1023, 1044, 1053, 1079, 1109, 1115, 1124, 1167, 1202, 1219, 1234, 1260, 1343, 1434, 1531]', '9 in 7.22.txt: [2, 17, 30, 83, 214, 527, 702, 814, 823]', '6 in 7.23.txt: [11, 413, 571, 645, 829, 856]', '9 in 7.24.txt: [10, 47, 321, 450, 517, 555, 593, 654, 684]', '14 in 7.25.txt: [13, 24, 65, 146, 282, 331, 371, 419, 651, 789, 792, 798, 809, 823]', '11 in 7.3.txt: [11, 22, 144, 183, 217, 235, 241, 312, 563, 612, 617]', '19 in 7.4.txt: [11, 108, 123, 203, 288, 379, 393, 625, 681, 743, 798, 938, 947, 1098, 1113, 1136, 1149, 1186, 1210]', '21 in 7.5.txt: [10, 54, 154, 410, 583, 693, 708, 722, 765, 771, 807, 1042, 1065, 1154, 1167, 1299, 1323, 1410, 1452, 1465, 1485]', '10 in 7.6.txt: [11, 152, 248, 509, 544, 831, 944, 1388, 1505, 1562]', '12 in 7.7.txt: [10, 54, 170, 337, 745, 794, 810, 974, 1017, 1023, 1033, 1046]', '15 in 7.8.txt: [1, 10, 253, 311, 392, 431, 458, 539, 565, 660, 676, 755, 786, 870, 898]', '6 in 7.9.txt: [13, 74, 193, 358, 447, 748]']\n",
            "9 total occurances: ['1 in 4.3.txt: [341]', '2 in 5.3.txt: [368, 447]', '2 in 6.25.txt: [368, 447]', '2 in 7.1.txt: [368, 447]', '2 in 7.22.txt: [0, 809]']\n",
            "610 total occurances: ['2 in 3.1.txt: [920, 1163]', '1 in 3.10.txt: [1028]', '35 in 3.12.txt: [1, 21, 39, 53, 84, 136, 198, 199, 217, 238, 252, 269, 299, 305, 320, 337, 343, 371, 375, 394, 410, 425, 437, 455, 471, 529, 542, 563, 572, 614, 646, 748, 769, 869, 895]', '1 in 3.13.txt: [264]', '8 in 3.14.txt: [99, 103, 288, 325, 393, 412, 418, 708]', '21 in 3.15.txt: [31, 77, 82, 161, 202, 229, 274, 293, 296, 311, 343, 356, 366, 433, 534, 561, 649, 668, 698, 730, 755]', '4 in 3.16.txt: [235, 301, 340, 386]', '1 in 3.19.txt: [189]', '1 in 3.2.txt: [445]', '13 in 3.20.txt: [22, 45, 190, 205, 211, 219, 298, 368, 408, 409, 573, 1271, 1532]', '3 in 3.21.txt: [223, 302, 556]', '4 in 3.22.txt: [31, 161, 231, 244]', '3 in 3.23.txt: [282, 298, 481]', '3 in 3.24.txt: [279, 682, 710]', '3 in 3.5.txt: [310, 335, 734]', '4 in 3.7.txt: [137, 252, 511, 903]', '2 in 3.8.txt: [218, 232]', '5 in 3.9.txt: [289, 292, 452, 476, 483]', '4 in 4.1.txt: [144, 322, 430, 476]', '8 in 4.10.txt: [33, 127, 140, 150, 262, 344, 447, 662]', '3 in 4.11.txt: [64, 109, 361]', '15 in 4.12.txt: [0, 33, 69, 192, 233, 273, 303, 350, 403, 618, 652, 827, 911, 1045, 1152]', '7 in 4.13.txt: [66, 78, 172, 227, 394, 405, 577]', '1 in 4.14.txt: [211]', '1 in 4.15.txt: [184]', '6 in 4.16.txt: [27, 88, 194, 204, 250, 418]', '1 in 4.17.txt: [144]', '4 in 4.18.txt: [211, 235, 518, 716]', '2 in 4.19.txt: [77, 202]', '29 in 4.2.txt: [2, 22, 44, 148, 185, 192, 203, 220, 225, 258, 277, 287, 295, 304, 353, 366, 390, 406, 422, 428, 448, 458, 569, 1013, 1068, 1231, 1378, 1385, 1498]', '3 in 4.20.txt: [46, 162, 200]', '20 in 4.21.txt: [0, 22, 48, 56, 70, 118, 170, 189, 219, 242, 253, 273, 420, 459, 500, 509, 524, 730, 772, 872]', '6 in 4.22.txt: [679, 1214, 1226, 1229, 1334, 1339]', '7 in 4.3.txt: [45, 65, 114, 134, 143, 150, 676]', '2 in 4.4.txt: [148, 479]', '10 in 4.5.txt: [80, 194, 240, 263, 270, 284, 292, 328, 345, 658]', '6 in 4.6.txt: [32, 69, 76, 196, 203, 561]', '15 in 4.7.txt: [0, 22, 38, 62, 80, 88, 100, 106, 131, 144, 284, 294, 305, 313, 506]', '2 in 4.8.txt: [89, 109]', '3 in 4.9.txt: [85, 297, 1003]', '4 in 5.1.txt: [250, 266, 327, 361]', '8 in 5.10.txt: [45, 149, 180, 280, 301, 687, 802, 846]', '2 in 5.11.txt: [147, 443]', '3 in 5.12.txt: [260, 345, 596]', '1 in 5.13.txt: [863]', '1 in 5.15.txt: [245]', '4 in 5.16.txt: [384, 409, 417, 465]', '6 in 5.17.txt: [281, 383, 495, 671, 701, 899]', '3 in 5.18.txt: [38, 201, 210]', '1 in 5.19.txt: [637]', '2 in 5.2.txt: [311, 390]', '1 in 5.20.txt: [428]', '8 in 5.21.txt: [28, 127, 168, 482, 483, 487, 699, 753]', '16 in 5.22.txt: [51, 125, 165, 203, 220, 243, 249, 410, 433, 481, 498, 539, 815, 850, 881, 921]', '6 in 5.3.txt: [230, 258, 416, 736, 1212, 1349]', '5 in 5.5.txt: [216, 260, 275, 617, 664]', '18 in 5.6.txt: [0, 20, 80, 85, 118, 138, 152, 170, 228, 251, 267, 274, 382, 474, 507, 521, 557, 619]', '6 in 5.7.txt: [23, 193, 209, 234, 255, 271]', '10 in 5.9.txt: [48, 202, 360, 368, 441, 603, 819, 948, 1091, 1232]', '1 in 6.1.txt: [244]', '7 in 6.10.txt: [24, 113, 128, 151, 333, 371, 607]', '14 in 6.11.txt: [27, 170, 185, 206, 236, 240, 261, 291, 322, 513, 531, 576, 641, 707]', '1 in 6.12.txt: [216]', '6 in 6.13.txt: [147, 154, 171, 181, 196, 486]', '2 in 6.16.txt: [211, 297]', '8 in 6.17.txt: [137, 225, 245, 270, 527, 599, 611, 705]', '7 in 6.18.txt: [192, 202, 238, 267, 317, 350, 725]', '3 in 6.19.txt: [123, 196, 372]', '2 in 6.2.txt: [315, 334]', '2 in 6.20.txt: [171, 1016]', '3 in 6.21.txt: [179, 192, 247]', '2 in 6.22.txt: [207, 668]', '35 in 6.23.txt: [21, 95, 111, 145, 159, 164, 183, 206, 230, 237, 260, 285, 294, 328, 349, 395, 420, 424, 454, 508, 524, 537, 566, 587, 668, 722, 742, 759, 765, 811, 818, 843, 849, 903, 941]', '6 in 6.25.txt: [230, 258, 416, 736, 1212, 1349]', '14 in 6.3.txt: [23, 131, 150, 162, 342, 385, 423, 440, 471, 483, 507, 516, 583, 716]', '5 in 6.4.txt: [57, 119, 196, 416, 496]', '6 in 6.6.txt: [176, 241, 253, 279, 564, 630]', '4 in 6.7.txt: [225, 373, 575, 802]', '3 in 6.8.txt: [207, 450, 651]', '5 in 6.9.txt: [52, 68, 97, 106, 196]', '6 in 7.1.txt: [230, 258, 416, 736, 1212, 1349]', '7 in 7.10.txt: [495, 510, 622, 738, 757, 771, 781]', '17 in 7.11.txt: [0, 21, 91, 127, 172, 187, 196, 205, 225, 250, 263, 288, 444, 509, 567, 598, 713]', '3 in 7.12.txt: [430, 461, 522]', '1 in 7.13.txt: [320]', '18 in 7.14.txt: [23, 32, 117, 122, 131, 139, 154, 194, 215, 228, 242, 371, 378, 478, 492, 501, 517, 579]', '1 in 7.15.txt: [105]', '1 in 7.16.txt: [637]', '2 in 7.17.txt: [167, 472]', '2 in 7.18.txt: [249, 794]', '3 in 7.19.txt: [215, 221, 666]', '4 in 7.2.txt: [151, 182, 264, 746]', '5 in 7.20.txt: [150, 331, 336, 360, 727]', '3 in 7.21.txt: [191, 310, 547]', '1 in 7.22.txt: [714]', '1 in 7.24.txt: [368]', '4 in 7.25.txt: [151, 182, 264, 746]', '8 in 7.3.txt: [32, 124, 172, 192, 422, 512, 532, 542]', '1 in 7.5.txt: [164]', '6 in 7.6.txt: [305, 416, 580, 625, 712, 776]', '4 in 7.7.txt: [144, 172, 461, 992]', '2 in 7.8.txt: [85, 164]']\n",
            "1797 total occurances: ['14 in 3.1.txt: [22, 219, 240, 257, 263, 273, 298, 452, 460, 470, 595, 1121, 1230, 1638]', '21 in 3.10.txt: [22, 27, 36, 51, 224, 227, 238, 259, 274, 319, 328, 366, 370, 378, 414, 422, 836, 847, 979, 1019, 1191]', '26 in 3.11.txt: [45, 126, 160, 190, 243, 283, 295, 306, 323, 325, 398, 411, 512, 582, 596, 612, 624, 626, 679, 690, 701, 730, 745, 877, 902, 916]', '31 in 3.12.txt: [33, 182, 193, 208, 218, 226, 242, 245, 298, 310, 327, 346, 349, 366, 382, 404, 407, 416, 454, 470, 476, 564, 591, 601, 637, 669, 684, 716, 875, 887, 925]', '6 in 3.13.txt: [164, 263, 278, 456, 543, 576]', '23 in 3.14.txt: [21, 100, 119, 127, 135, 145, 165, 175, 189, 200, 219, 229, 244, 262, 277, 415, 446, 463, 633, 706, 882, 903, 936]', '21 in 3.15.txt: [0, 46, 52, 70, 113, 193, 228, 240, 275, 279, 292, 306, 325, 336, 476, 494, 510, 545, 564, 663, 737]', '16 in 3.16.txt: [46, 49, 78, 230, 296, 350, 374, 377, 383, 394, 448, 465, 478, 897, 925, 951]', '20 in 3.17.txt: [0, 29, 93, 156, 279, 386, 403, 417, 429, 434, 686, 791, 810, 916, 950, 1146, 1281, 1301, 1344, 1360]', '8 in 3.19.txt: [156, 179, 494, 588, 711, 864, 1101, 1160]', '3 in 3.2.txt: [206, 828, 1340]', '60 in 3.20.txt: [1, 21, 28, 39, 49, 127, 153, 163, 189, 195, 216, 240, 255, 269, 278, 290, 310, 324, 335, 346, 356, 372, 397, 404, 411, 416, 453, 475, 496, 508, 542, 547, 572, 608, 700, 705, 975, 1006, 1020, 1072, 1129, 1166, 1175, 1189, 1227, 1270, 1283, 1323, 1337, 1462, 1507, 1516, 1586, 1630, 1649, 1664, 1700, 1707, 1724, 1746]', '3 in 3.21.txt: [174, 221, 750]', '12 in 3.22.txt: [30, 160, 243, 255, 274, 292, 489, 506, 531, 540, 552, 670]', '13 in 3.23.txt: [67, 273, 288, 300, 321, 417, 421, 450, 728, 782, 799, 850, 887]', '23 in 3.24.txt: [39, 52, 62, 116, 154, 163, 182, 206, 219, 226, 231, 268, 290, 374, 410, 634, 657, 705, 761, 778, 876, 946, 1067]', '13 in 3.3.txt: [21, 45, 152, 158, 183, 190, 204, 491, 688, 766, 769, 817, 825]', '3 in 3.4.txt: [237, 327, 768]', '28 in 3.5.txt: [0, 21, 36, 96, 123, 145, 165, 176, 181, 193, 214, 225, 231, 244, 247, 259, 267, 279, 466, 474, 580, 653, 703, 755, 794, 944, 947, 970]', '1 in 3.6.txt: [640]', '28 in 3.7.txt: [34, 63, 86, 99, 232, 239, 296, 334, 353, 371, 378, 389, 414, 429, 436, 444, 452, 638, 816, 841, 868, 947, 1009, 1048, 1062, 1083, 1096, 1292]', '26 in 3.8.txt: [22, 46, 54, 128, 145, 156, 176, 182, 214, 227, 250, 258, 266, 424, 484, 506, 517, 526, 572, 598, 666, 716, 822, 830, 941, 954]', '27 in 3.9.txt: [21, 35, 48, 51, 114, 128, 151, 183, 197, 206, 223, 230, 335, 348, 447, 481, 490, 523, 556, 568, 574, 631, 842, 857, 868, 888, 921]', '6 in 4.1.txt: [59, 79, 143, 148, 232, 321]', '11 in 4.10.txt: [139, 153, 235, 273, 278, 383, 408, 439, 449, 1064, 1074]', '24 in 4.11.txt: [0, 23, 34, 95, 104, 118, 129, 194, 204, 253, 258, 269, 322, 338, 354, 373, 391, 414, 432, 445, 455, 463, 480, 508]', '9 in 4.12.txt: [186, 286, 306, 317, 523, 594, 615, 629, 984]', '8 in 4.13.txt: [59, 146, 222, 243, 332, 404, 436, 578]', '20 in 4.14.txt: [21, 35, 136, 139, 156, 169, 175, 426, 449, 493, 503, 519, 538, 559, 564, 659, 698, 730, 749, 784]', '3 in 4.15.txt: [290, 294, 541]', '12 in 4.16.txt: [23, 144, 157, 181, 196, 201, 238, 338, 417, 432, 445, 525]', '24 in 4.17.txt: [24, 146, 169, 190, 201, 207, 211, 219, 229, 257, 265, 281, 289, 355, 360, 364, 371, 544, 622, 708, 806, 808, 958, 986]', '33 in 4.18.txt: [25, 35, 40, 49, 58, 120, 137, 150, 164, 182, 191, 206, 215, 220, 237, 242, 254, 394, 454, 457, 464, 489, 521, 554, 606, 646, 652, 665, 695, 714, 728, 753, 847]', '9 in 4.19.txt: [41, 74, 201, 211, 222, 234, 241, 557, 569]', '20 in 4.2.txt: [36, 141, 207, 279, 283, 292, 297, 303, 330, 348, 356, 372, 379, 408, 439, 461, 714, 961, 1003, 1492]', '2 in 4.20.txt: [664, 667]', '3 in 4.21.txt: [42, 446, 574]', '4 in 4.22.txt: [63, 133, 464, 1170]', '32 in 4.3.txt: [0, 21, 70, 103, 146, 154, 168, 173, 176, 195, 204, 218, 249, 255, 265, 271, 285, 306, 363, 376, 386, 405, 415, 579, 593, 623, 673, 680, 722, 755, 798, 836]', '10 in 4.4.txt: [22, 103, 142, 150, 286, 298, 305, 312, 342, 397]', '29 in 4.5.txt: [26, 34, 82, 119, 138, 154, 167, 179, 213, 218, 257, 280, 290, 304, 307, 316, 323, 344, 412, 418, 516, 567, 579, 625, 634, 649, 673, 681, 858]', '19 in 4.6.txt: [27, 34, 49, 59, 75, 108, 121, 127, 151, 162, 180, 190, 200, 215, 216, 233, 245, 256, 466]', '5 in 4.7.txt: [67, 78, 125, 130, 333]', '11 in 4.8.txt: [38, 62, 87, 96, 112, 138, 141, 260, 338, 348, 403]', '30 in 4.9.txt: [21, 39, 70, 87, 96, 109, 127, 130, 139, 168, 184, 211, 212, 222, 237, 251, 262, 290, 308, 384, 465, 479, 506, 516, 571, 649, 863, 929, 989, 1102]', '38 in 5.1.txt: [0, 27, 68, 73, 127, 163, 167, 183, 206, 238, 260, 273, 312, 322, 344, 368, 417, 435, 440, 478, 515, 799, 828, 842, 965, 978, 1073, 1091, 1130, 1172, 1193, 1215, 1236, 1404, 1416, 1441, 1467, 1503]', '14 in 5.10.txt: [41, 160, 176, 268, 276, 299, 308, 324, 434, 661, 689, 738, 794, 862]', '22 in 5.11.txt: [0, 33, 39, 53, 79, 170, 186, 219, 236, 254, 275, 416, 523, 531, 549, 573, 708, 717, 743, 747, 753, 778]', '4 in 5.12.txt: [335, 412, 652, 764]', '29 in 5.13.txt: [0, 21, 46, 128, 136, 151, 171, 183, 224, 244, 251, 266, 278, 291, 429, 437, 598, 680, 686, 699, 792, 858, 880, 993, 1025, 1077, 1175, 1183, 1187]', '3 in 5.14.txt: [687, 856, 962]', '43 in 5.15.txt: [2, 23, 112, 125, 132, 140, 157, 179, 182, 196, 205, 234, 274, 305, 324, 342, 355, 364, 374, 377, 405, 428, 432, 516, 525, 630, 639, 666, 677, 687, 705, 713, 718, 758, 761, 783, 815, 836, 921, 953, 991, 996, 1043]', '28 in 5.16.txt: [0, 25, 37, 126, 131, 146, 151, 190, 225, 238, 250, 258, 274, 284, 325, 338, 452, 501, 516, 534, 608, 630, 668, 791, 795, 842, 859, 885]', '21 in 5.17.txt: [38, 55, 59, 239, 255, 263, 280, 301, 314, 332, 354, 365, 391, 587, 621, 681, 695, 704, 841, 881, 896]', '6 in 5.18.txt: [156, 161, 175, 177, 329, 463]', '1 in 5.19.txt: [305]', '34 in 5.2.txt: [0, 22, 33, 41, 51, 160, 189, 197, 228, 258, 270, 294, 313, 332, 342, 351, 367, 377, 393, 403, 415, 420, 432, 483, 518, 527, 539, 576, 597, 683, 693, 742, 754, 794]', '17 in 5.20.txt: [295, 304, 321, 336, 340, 419, 461, 464, 653, 670, 705, 721, 731, 864, 906, 914, 921]', '5 in 5.21.txt: [137, 180, 207, 461, 801]', '33 in 5.22.txt: [23, 54, 122, 133, 162, 187, 196, 208, 214, 225, 236, 245, 256, 264, 276, 314, 321, 326, 338, 343, 362, 370, 378, 409, 422, 434, 477, 723, 787, 809, 849, 878, 907]', '31 in 5.3.txt: [72, 223, 248, 349, 359, 369, 379, 394, 541, 545, 559, 570, 581, 585, 606, 614, 631, 643, 654, 667, 669, 709, 1014, 1115, 1307, 1353, 1366, 1374, 1396, 1643, 1966]', '10 in 5.4.txt: [193, 286, 310, 330, 347, 371, 373, 649, 737, 824]', '27 in 5.5.txt: [34, 116, 151, 158, 180, 185, 213, 227, 248, 265, 272, 300, 304, 310, 494, 616, 636, 651, 814, 870, 1104, 1124, 1162, 1179, 1349, 1387, 1440]', '17 in 5.6.txt: [29, 87, 106, 115, 153, 167, 176, 194, 226, 261, 289, 377, 403, 412, 425, 442, 575]', '9 in 5.7.txt: [185, 197, 207, 237, 252, 272, 387, 643, 833]', '18 in 5.8.txt: [33, 118, 172, 183, 195, 204, 224, 243, 253, 296, 303, 550, 558, 639, 693, 775, 832, 845]', '50 in 5.9.txt: [2, 30, 41, 136, 145, 186, 191, 198, 341, 348, 357, 369, 375, 395, 435, 448, 466, 467, 479, 480, 486, 497, 551, 581, 585, 715, 731, 739, 778, 784, 806, 814, 886, 899, 926, 939, 956, 976, 986, 996, 1019, 1028, 1039, 1063, 1090, 1157, 1170, 1195, 1229, 1381]', '3 in 6.1.txt: [112, 243, 251]', '22 in 6.10.txt: [23, 34, 42, 112, 122, 150, 175, 189, 196, 207, 263, 277, 294, 302, 332, 342, 348, 529, 567, 579, 606, 615]', '10 in 6.11.txt: [114, 138, 188, 227, 294, 407, 522, 556, 565, 780]', '15 in 6.12.txt: [0, 21, 102, 135, 141, 168, 189, 225, 235, 279, 368, 380, 519, 533, 590]', '24 in 6.13.txt: [22, 101, 109, 135, 146, 173, 193, 206, 219, 226, 244, 254, 268, 287, 368, 381, 424, 432, 488, 534, 610, 677, 707, 752]', '2 in 6.14.txt: [143, 155]', '15 in 6.15.txt: [21, 75, 124, 147, 162, 168, 174, 185, 193, 312, 334, 525, 546, 642, 689]', '2 in 6.16.txt: [274, 696]', '33 in 6.17.txt: [0, 23, 78, 99, 116, 132, 139, 206, 217, 242, 258, 274, 281, 349, 503, 510, 530, 537, 551, 567, 584, 597, 609, 622, 627, 645, 652, 659, 667, 703, 723, 735, 774]', '4 in 6.18.txt: [234, 308, 561, 776]', '7 in 6.19.txt: [152, 173, 240, 291, 329, 354, 382]', '8 in 6.2.txt: [47, 289, 300, 337, 353, 361, 381, 523]', '1 in 6.20.txt: [170]', '5 in 6.21.txt: [715, 732, 748, 804, 879]', '2 in 6.22.txt: [206, 859]', '16 in 6.23.txt: [144, 152, 199, 217, 236, 242, 565, 567, 591, 607, 624, 676, 683, 704, 789, 952]', '4 in 6.24.txt: [173, 297, 319, 450]', '31 in 6.25.txt: [72, 223, 248, 349, 359, 369, 379, 394, 541, 545, 559, 570, 581, 585, 606, 614, 631, 643, 654, 667, 669, 709, 1014, 1115, 1307, 1353, 1366, 1374, 1396, 1643, 1966]', '15 in 6.3.txt: [118, 124, 145, 161, 330, 340, 355, 404, 408, 412, 433, 435, 495, 506, 717]', '7 in 6.4.txt: [93, 109, 122, 147, 166, 415, 534]', '2 in 6.5.txt: [477, 790]', '29 in 6.6.txt: [61, 69, 174, 219, 229, 235, 243, 247, 258, 272, 283, 303, 320, 361, 390, 432, 449, 761, 772, 781, 934, 948, 1014, 1040, 1064, 1071, 1366, 1464, 1484]', '4 in 6.7.txt: [512, 744, 801, 892]', '4 in 6.8.txt: [155, 210, 638, 650]', '24 in 6.9.txt: [0, 21, 34, 66, 87, 100, 112, 121, 134, 148, 154, 165, 184, 198, 224, 233, 242, 244, 269, 356, 389, 395, 454, 498]', '31 in 7.1.txt: [72, 223, 248, 349, 359, 369, 379, 394, 541, 545, 559, 570, 581, 585, 606, 614, 631, 643, 654, 667, 669, 709, 1014, 1115, 1307, 1353, 1366, 1374, 1396, 1643, 1966]', '9 in 7.10.txt: [621, 729, 743, 770, 802, 812, 820, 935, 1006]', '3 in 7.11.txt: [126, 188, 619]', '20 in 7.12.txt: [1, 21, 115, 147, 154, 202, 214, 314, 367, 462, 509, 520, 544, 588, 633, 678, 690, 737, 789, 840]', '17 in 7.13.txt: [41, 153, 157, 175, 184, 188, 218, 229, 257, 271, 278, 399, 553, 567, 650, 845, 991]', '7 in 7.14.txt: [173, 188, 221, 410, 420, 484, 558]', '3 in 7.15.txt: [334, 599, 670]', '12 in 7.16.txt: [41, 193, 207, 322, 397, 783, 889, 1097, 1262, 1264, 1281, 1284]', '16 in 7.17.txt: [0, 25, 154, 163, 188, 199, 218, 233, 251, 325, 442, 464, 533, 574, 586, 634]', '3 in 7.18.txt: [282, 499, 503]', '3 in 7.19.txt: [205, 212, 792]', '4 in 7.2.txt: [197, 287, 536, 677]', '10 in 7.20.txt: [44, 168, 252, 289, 301, 325, 354, 498, 723, 793]', '2 in 7.21.txt: [659, 1214]', '14 in 7.23.txt: [35, 108, 140, 166, 209, 275, 306, 329, 339, 798, 805, 846, 985, 994]', '22 in 7.24.txt: [21, 89, 104, 119, 126, 142, 157, 198, 206, 212, 227, 298, 305, 367, 423, 427, 433, 449, 455, 465, 494, 571]', '4 in 7.25.txt: [197, 287, 536, 677]', '8 in 7.3.txt: [31, 125, 171, 173, 191, 208, 511, 540]', '2 in 7.4.txt: [1205, 1226]', '20 in 7.5.txt: [178, 218, 228, 232, 252, 267, 283, 293, 368, 374, 487, 499, 528, 599, 781, 793, 812, 1056, 1338, 1444]', '23 in 7.6.txt: [68, 144, 222, 308, 363, 539, 555, 571, 589, 602, 614, 637, 749, 823, 902, 985, 996, 1152, 1248, 1283, 1306, 1346, 1403]', '41 in 7.7.txt: [1, 21, 115, 126, 156, 177, 221, 244, 262, 288, 304, 314, 326, 384, 391, 397, 410, 413, 426, 430, 447, 454, 470, 491, 511, 541, 590, 637, 671, 685, 706, 755, 786, 813, 842, 850, 864, 912, 945, 985, 995]', '24 in 7.8.txt: [25, 49, 79, 91, 101, 110, 121, 129, 165, 227, 240, 256, 289, 295, 306, 317, 327, 335, 350, 398, 618, 627, 641, 846]']\n",
            "1797 total occurances: ['14 in 3.1.txt: [22, 219, 240, 257, 263, 273, 298, 452, 460, 470, 595, 1121, 1230, 1638]', '21 in 3.10.txt: [22, 27, 36, 51, 224, 227, 238, 259, 274, 319, 328, 366, 370, 378, 414, 422, 836, 847, 979, 1019, 1191]', '26 in 3.11.txt: [45, 126, 160, 190, 243, 283, 295, 306, 323, 325, 398, 411, 512, 582, 596, 612, 624, 626, 679, 690, 701, 730, 745, 877, 902, 916]', '31 in 3.12.txt: [33, 182, 193, 208, 218, 226, 242, 245, 298, 310, 327, 346, 349, 366, 382, 404, 407, 416, 454, 470, 476, 564, 591, 601, 637, 669, 684, 716, 875, 887, 925]', '6 in 3.13.txt: [164, 263, 278, 456, 543, 576]', '23 in 3.14.txt: [21, 100, 119, 127, 135, 145, 165, 175, 189, 200, 219, 229, 244, 262, 277, 415, 446, 463, 633, 706, 882, 903, 936]', '21 in 3.15.txt: [0, 46, 52, 70, 113, 193, 228, 240, 275, 279, 292, 306, 325, 336, 476, 494, 510, 545, 564, 663, 737]', '16 in 3.16.txt: [46, 49, 78, 230, 296, 350, 374, 377, 383, 394, 448, 465, 478, 897, 925, 951]', '20 in 3.17.txt: [0, 29, 93, 156, 279, 386, 403, 417, 429, 434, 686, 791, 810, 916, 950, 1146, 1281, 1301, 1344, 1360]', '8 in 3.19.txt: [156, 179, 494, 588, 711, 864, 1101, 1160]', '3 in 3.2.txt: [206, 828, 1340]', '60 in 3.20.txt: [1, 21, 28, 39, 49, 127, 153, 163, 189, 195, 216, 240, 255, 269, 278, 290, 310, 324, 335, 346, 356, 372, 397, 404, 411, 416, 453, 475, 496, 508, 542, 547, 572, 608, 700, 705, 975, 1006, 1020, 1072, 1129, 1166, 1175, 1189, 1227, 1270, 1283, 1323, 1337, 1462, 1507, 1516, 1586, 1630, 1649, 1664, 1700, 1707, 1724, 1746]', '3 in 3.21.txt: [174, 221, 750]', '12 in 3.22.txt: [30, 160, 243, 255, 274, 292, 489, 506, 531, 540, 552, 670]', '13 in 3.23.txt: [67, 273, 288, 300, 321, 417, 421, 450, 728, 782, 799, 850, 887]', '23 in 3.24.txt: [39, 52, 62, 116, 154, 163, 182, 206, 219, 226, 231, 268, 290, 374, 410, 634, 657, 705, 761, 778, 876, 946, 1067]', '13 in 3.3.txt: [21, 45, 152, 158, 183, 190, 204, 491, 688, 766, 769, 817, 825]', '3 in 3.4.txt: [237, 327, 768]', '28 in 3.5.txt: [0, 21, 36, 96, 123, 145, 165, 176, 181, 193, 214, 225, 231, 244, 247, 259, 267, 279, 466, 474, 580, 653, 703, 755, 794, 944, 947, 970]', '1 in 3.6.txt: [640]', '28 in 3.7.txt: [34, 63, 86, 99, 232, 239, 296, 334, 353, 371, 378, 389, 414, 429, 436, 444, 452, 638, 816, 841, 868, 947, 1009, 1048, 1062, 1083, 1096, 1292]', '26 in 3.8.txt: [22, 46, 54, 128, 145, 156, 176, 182, 214, 227, 250, 258, 266, 424, 484, 506, 517, 526, 572, 598, 666, 716, 822, 830, 941, 954]', '27 in 3.9.txt: [21, 35, 48, 51, 114, 128, 151, 183, 197, 206, 223, 230, 335, 348, 447, 481, 490, 523, 556, 568, 574, 631, 842, 857, 868, 888, 921]', '6 in 4.1.txt: [59, 79, 143, 148, 232, 321]', '11 in 4.10.txt: [139, 153, 235, 273, 278, 383, 408, 439, 449, 1064, 1074]', '24 in 4.11.txt: [0, 23, 34, 95, 104, 118, 129, 194, 204, 253, 258, 269, 322, 338, 354, 373, 391, 414, 432, 445, 455, 463, 480, 508]', '9 in 4.12.txt: [186, 286, 306, 317, 523, 594, 615, 629, 984]', '8 in 4.13.txt: [59, 146, 222, 243, 332, 404, 436, 578]', '20 in 4.14.txt: [21, 35, 136, 139, 156, 169, 175, 426, 449, 493, 503, 519, 538, 559, 564, 659, 698, 730, 749, 784]', '3 in 4.15.txt: [290, 294, 541]', '12 in 4.16.txt: [23, 144, 157, 181, 196, 201, 238, 338, 417, 432, 445, 525]', '24 in 4.17.txt: [24, 146, 169, 190, 201, 207, 211, 219, 229, 257, 265, 281, 289, 355, 360, 364, 371, 544, 622, 708, 806, 808, 958, 986]', '33 in 4.18.txt: [25, 35, 40, 49, 58, 120, 137, 150, 164, 182, 191, 206, 215, 220, 237, 242, 254, 394, 454, 457, 464, 489, 521, 554, 606, 646, 652, 665, 695, 714, 728, 753, 847]', '9 in 4.19.txt: [41, 74, 201, 211, 222, 234, 241, 557, 569]', '20 in 4.2.txt: [36, 141, 207, 279, 283, 292, 297, 303, 330, 348, 356, 372, 379, 408, 439, 461, 714, 961, 1003, 1492]', '2 in 4.20.txt: [664, 667]', '3 in 4.21.txt: [42, 446, 574]', '4 in 4.22.txt: [63, 133, 464, 1170]', '32 in 4.3.txt: [0, 21, 70, 103, 146, 154, 168, 173, 176, 195, 204, 218, 249, 255, 265, 271, 285, 306, 363, 376, 386, 405, 415, 579, 593, 623, 673, 680, 722, 755, 798, 836]', '10 in 4.4.txt: [22, 103, 142, 150, 286, 298, 305, 312, 342, 397]', '29 in 4.5.txt: [26, 34, 82, 119, 138, 154, 167, 179, 213, 218, 257, 280, 290, 304, 307, 316, 323, 344, 412, 418, 516, 567, 579, 625, 634, 649, 673, 681, 858]', '19 in 4.6.txt: [27, 34, 49, 59, 75, 108, 121, 127, 151, 162, 180, 190, 200, 215, 216, 233, 245, 256, 466]', '5 in 4.7.txt: [67, 78, 125, 130, 333]', '11 in 4.8.txt: [38, 62, 87, 96, 112, 138, 141, 260, 338, 348, 403]', '30 in 4.9.txt: [21, 39, 70, 87, 96, 109, 127, 130, 139, 168, 184, 211, 212, 222, 237, 251, 262, 290, 308, 384, 465, 479, 506, 516, 571, 649, 863, 929, 989, 1102]', '38 in 5.1.txt: [0, 27, 68, 73, 127, 163, 167, 183, 206, 238, 260, 273, 312, 322, 344, 368, 417, 435, 440, 478, 515, 799, 828, 842, 965, 978, 1073, 1091, 1130, 1172, 1193, 1215, 1236, 1404, 1416, 1441, 1467, 1503]', '14 in 5.10.txt: [41, 160, 176, 268, 276, 299, 308, 324, 434, 661, 689, 738, 794, 862]', '22 in 5.11.txt: [0, 33, 39, 53, 79, 170, 186, 219, 236, 254, 275, 416, 523, 531, 549, 573, 708, 717, 743, 747, 753, 778]', '4 in 5.12.txt: [335, 412, 652, 764]', '29 in 5.13.txt: [0, 21, 46, 128, 136, 151, 171, 183, 224, 244, 251, 266, 278, 291, 429, 437, 598, 680, 686, 699, 792, 858, 880, 993, 1025, 1077, 1175, 1183, 1187]', '3 in 5.14.txt: [687, 856, 962]', '43 in 5.15.txt: [2, 23, 112, 125, 132, 140, 157, 179, 182, 196, 205, 234, 274, 305, 324, 342, 355, 364, 374, 377, 405, 428, 432, 516, 525, 630, 639, 666, 677, 687, 705, 713, 718, 758, 761, 783, 815, 836, 921, 953, 991, 996, 1043]', '28 in 5.16.txt: [0, 25, 37, 126, 131, 146, 151, 190, 225, 238, 250, 258, 274, 284, 325, 338, 452, 501, 516, 534, 608, 630, 668, 791, 795, 842, 859, 885]', '21 in 5.17.txt: [38, 55, 59, 239, 255, 263, 280, 301, 314, 332, 354, 365, 391, 587, 621, 681, 695, 704, 841, 881, 896]', '6 in 5.18.txt: [156, 161, 175, 177, 329, 463]', '1 in 5.19.txt: [305]', '34 in 5.2.txt: [0, 22, 33, 41, 51, 160, 189, 197, 228, 258, 270, 294, 313, 332, 342, 351, 367, 377, 393, 403, 415, 420, 432, 483, 518, 527, 539, 576, 597, 683, 693, 742, 754, 794]', '17 in 5.20.txt: [295, 304, 321, 336, 340, 419, 461, 464, 653, 670, 705, 721, 731, 864, 906, 914, 921]', '5 in 5.21.txt: [137, 180, 207, 461, 801]', '33 in 5.22.txt: [23, 54, 122, 133, 162, 187, 196, 208, 214, 225, 236, 245, 256, 264, 276, 314, 321, 326, 338, 343, 362, 370, 378, 409, 422, 434, 477, 723, 787, 809, 849, 878, 907]', '31 in 5.3.txt: [72, 223, 248, 349, 359, 369, 379, 394, 541, 545, 559, 570, 581, 585, 606, 614, 631, 643, 654, 667, 669, 709, 1014, 1115, 1307, 1353, 1366, 1374, 1396, 1643, 1966]', '10 in 5.4.txt: [193, 286, 310, 330, 347, 371, 373, 649, 737, 824]', '27 in 5.5.txt: [34, 116, 151, 158, 180, 185, 213, 227, 248, 265, 272, 300, 304, 310, 494, 616, 636, 651, 814, 870, 1104, 1124, 1162, 1179, 1349, 1387, 1440]', '17 in 5.6.txt: [29, 87, 106, 115, 153, 167, 176, 194, 226, 261, 289, 377, 403, 412, 425, 442, 575]', '9 in 5.7.txt: [185, 197, 207, 237, 252, 272, 387, 643, 833]', '18 in 5.8.txt: [33, 118, 172, 183, 195, 204, 224, 243, 253, 296, 303, 550, 558, 639, 693, 775, 832, 845]', '50 in 5.9.txt: [2, 30, 41, 136, 145, 186, 191, 198, 341, 348, 357, 369, 375, 395, 435, 448, 466, 467, 479, 480, 486, 497, 551, 581, 585, 715, 731, 739, 778, 784, 806, 814, 886, 899, 926, 939, 956, 976, 986, 996, 1019, 1028, 1039, 1063, 1090, 1157, 1170, 1195, 1229, 1381]', '3 in 6.1.txt: [112, 243, 251]', '22 in 6.10.txt: [23, 34, 42, 112, 122, 150, 175, 189, 196, 207, 263, 277, 294, 302, 332, 342, 348, 529, 567, 579, 606, 615]', '10 in 6.11.txt: [114, 138, 188, 227, 294, 407, 522, 556, 565, 780]', '15 in 6.12.txt: [0, 21, 102, 135, 141, 168, 189, 225, 235, 279, 368, 380, 519, 533, 590]', '24 in 6.13.txt: [22, 101, 109, 135, 146, 173, 193, 206, 219, 226, 244, 254, 268, 287, 368, 381, 424, 432, 488, 534, 610, 677, 707, 752]', '2 in 6.14.txt: [143, 155]', '15 in 6.15.txt: [21, 75, 124, 147, 162, 168, 174, 185, 193, 312, 334, 525, 546, 642, 689]', '2 in 6.16.txt: [274, 696]', '33 in 6.17.txt: [0, 23, 78, 99, 116, 132, 139, 206, 217, 242, 258, 274, 281, 349, 503, 510, 530, 537, 551, 567, 584, 597, 609, 622, 627, 645, 652, 659, 667, 703, 723, 735, 774]', '4 in 6.18.txt: [234, 308, 561, 776]', '7 in 6.19.txt: [152, 173, 240, 291, 329, 354, 382]', '8 in 6.2.txt: [47, 289, 300, 337, 353, 361, 381, 523]', '1 in 6.20.txt: [170]', '5 in 6.21.txt: [715, 732, 748, 804, 879]', '2 in 6.22.txt: [206, 859]', '16 in 6.23.txt: [144, 152, 199, 217, 236, 242, 565, 567, 591, 607, 624, 676, 683, 704, 789, 952]', '4 in 6.24.txt: [173, 297, 319, 450]', '31 in 6.25.txt: [72, 223, 248, 349, 359, 369, 379, 394, 541, 545, 559, 570, 581, 585, 606, 614, 631, 643, 654, 667, 669, 709, 1014, 1115, 1307, 1353, 1366, 1374, 1396, 1643, 1966]', '15 in 6.3.txt: [118, 124, 145, 161, 330, 340, 355, 404, 408, 412, 433, 435, 495, 506, 717]', '7 in 6.4.txt: [93, 109, 122, 147, 166, 415, 534]', '2 in 6.5.txt: [477, 790]', '29 in 6.6.txt: [61, 69, 174, 219, 229, 235, 243, 247, 258, 272, 283, 303, 320, 361, 390, 432, 449, 761, 772, 781, 934, 948, 1014, 1040, 1064, 1071, 1366, 1464, 1484]', '4 in 6.7.txt: [512, 744, 801, 892]', '4 in 6.8.txt: [155, 210, 638, 650]', '24 in 6.9.txt: [0, 21, 34, 66, 87, 100, 112, 121, 134, 148, 154, 165, 184, 198, 224, 233, 242, 244, 269, 356, 389, 395, 454, 498]', '31 in 7.1.txt: [72, 223, 248, 349, 359, 369, 379, 394, 541, 545, 559, 570, 581, 585, 606, 614, 631, 643, 654, 667, 669, 709, 1014, 1115, 1307, 1353, 1366, 1374, 1396, 1643, 1966]', '9 in 7.10.txt: [621, 729, 743, 770, 802, 812, 820, 935, 1006]', '3 in 7.11.txt: [126, 188, 619]', '20 in 7.12.txt: [1, 21, 115, 147, 154, 202, 214, 314, 367, 462, 509, 520, 544, 588, 633, 678, 690, 737, 789, 840]', '17 in 7.13.txt: [41, 153, 157, 175, 184, 188, 218, 229, 257, 271, 278, 399, 553, 567, 650, 845, 991]', '7 in 7.14.txt: [173, 188, 221, 410, 420, 484, 558]', '3 in 7.15.txt: [334, 599, 670]', '12 in 7.16.txt: [41, 193, 207, 322, 397, 783, 889, 1097, 1262, 1264, 1281, 1284]', '16 in 7.17.txt: [0, 25, 154, 163, 188, 199, 218, 233, 251, 325, 442, 464, 533, 574, 586, 634]', '3 in 7.18.txt: [282, 499, 503]', '3 in 7.19.txt: [205, 212, 792]', '4 in 7.2.txt: [197, 287, 536, 677]', '10 in 7.20.txt: [44, 168, 252, 289, 301, 325, 354, 498, 723, 793]', '2 in 7.21.txt: [659, 1214]', '14 in 7.23.txt: [35, 108, 140, 166, 209, 275, 306, 329, 339, 798, 805, 846, 985, 994]', '22 in 7.24.txt: [21, 89, 104, 119, 126, 142, 157, 198, 206, 212, 227, 298, 305, 367, 423, 427, 433, 449, 455, 465, 494, 571]', '4 in 7.25.txt: [197, 287, 536, 677]', '8 in 7.3.txt: [31, 125, 171, 173, 191, 208, 511, 540]', '2 in 7.4.txt: [1205, 1226]', '20 in 7.5.txt: [178, 218, 228, 232, 252, 267, 283, 293, 368, 374, 487, 499, 528, 599, 781, 793, 812, 1056, 1338, 1444]', '23 in 7.6.txt: [68, 144, 222, 308, 363, 539, 555, 571, 589, 602, 614, 637, 749, 823, 902, 985, 996, 1152, 1248, 1283, 1306, 1346, 1403]', '41 in 7.7.txt: [1, 21, 115, 126, 156, 177, 221, 244, 262, 288, 304, 314, 326, 384, 391, 397, 410, 413, 426, 430, 447, 454, 470, 491, 511, 541, 590, 637, 671, 685, 706, 755, 786, 813, 842, 850, 864, 912, 945, 985, 995]', '24 in 7.8.txt: [25, 49, 79, 91, 101, 110, 121, 129, 165, 227, 240, 256, 289, 295, 306, 317, 327, 335, 350, 398, 618, 627, 641, 846]']\n",
            "1797 total occurances: ['14 in 3.1.txt: [22, 219, 240, 257, 263, 273, 298, 452, 460, 470, 595, 1121, 1230, 1638]', '21 in 3.10.txt: [22, 27, 36, 51, 224, 227, 238, 259, 274, 319, 328, 366, 370, 378, 414, 422, 836, 847, 979, 1019, 1191]', '26 in 3.11.txt: [45, 126, 160, 190, 243, 283, 295, 306, 323, 325, 398, 411, 512, 582, 596, 612, 624, 626, 679, 690, 701, 730, 745, 877, 902, 916]', '31 in 3.12.txt: [33, 182, 193, 208, 218, 226, 242, 245, 298, 310, 327, 346, 349, 366, 382, 404, 407, 416, 454, 470, 476, 564, 591, 601, 637, 669, 684, 716, 875, 887, 925]', '6 in 3.13.txt: [164, 263, 278, 456, 543, 576]', '23 in 3.14.txt: [21, 100, 119, 127, 135, 145, 165, 175, 189, 200, 219, 229, 244, 262, 277, 415, 446, 463, 633, 706, 882, 903, 936]', '21 in 3.15.txt: [0, 46, 52, 70, 113, 193, 228, 240, 275, 279, 292, 306, 325, 336, 476, 494, 510, 545, 564, 663, 737]', '16 in 3.16.txt: [46, 49, 78, 230, 296, 350, 374, 377, 383, 394, 448, 465, 478, 897, 925, 951]', '20 in 3.17.txt: [0, 29, 93, 156, 279, 386, 403, 417, 429, 434, 686, 791, 810, 916, 950, 1146, 1281, 1301, 1344, 1360]', '8 in 3.19.txt: [156, 179, 494, 588, 711, 864, 1101, 1160]', '3 in 3.2.txt: [206, 828, 1340]', '60 in 3.20.txt: [1, 21, 28, 39, 49, 127, 153, 163, 189, 195, 216, 240, 255, 269, 278, 290, 310, 324, 335, 346, 356, 372, 397, 404, 411, 416, 453, 475, 496, 508, 542, 547, 572, 608, 700, 705, 975, 1006, 1020, 1072, 1129, 1166, 1175, 1189, 1227, 1270, 1283, 1323, 1337, 1462, 1507, 1516, 1586, 1630, 1649, 1664, 1700, 1707, 1724, 1746]', '3 in 3.21.txt: [174, 221, 750]', '12 in 3.22.txt: [30, 160, 243, 255, 274, 292, 489, 506, 531, 540, 552, 670]', '13 in 3.23.txt: [67, 273, 288, 300, 321, 417, 421, 450, 728, 782, 799, 850, 887]', '23 in 3.24.txt: [39, 52, 62, 116, 154, 163, 182, 206, 219, 226, 231, 268, 290, 374, 410, 634, 657, 705, 761, 778, 876, 946, 1067]', '13 in 3.3.txt: [21, 45, 152, 158, 183, 190, 204, 491, 688, 766, 769, 817, 825]', '3 in 3.4.txt: [237, 327, 768]', '28 in 3.5.txt: [0, 21, 36, 96, 123, 145, 165, 176, 181, 193, 214, 225, 231, 244, 247, 259, 267, 279, 466, 474, 580, 653, 703, 755, 794, 944, 947, 970]', '1 in 3.6.txt: [640]', '28 in 3.7.txt: [34, 63, 86, 99, 232, 239, 296, 334, 353, 371, 378, 389, 414, 429, 436, 444, 452, 638, 816, 841, 868, 947, 1009, 1048, 1062, 1083, 1096, 1292]', '26 in 3.8.txt: [22, 46, 54, 128, 145, 156, 176, 182, 214, 227, 250, 258, 266, 424, 484, 506, 517, 526, 572, 598, 666, 716, 822, 830, 941, 954]', '27 in 3.9.txt: [21, 35, 48, 51, 114, 128, 151, 183, 197, 206, 223, 230, 335, 348, 447, 481, 490, 523, 556, 568, 574, 631, 842, 857, 868, 888, 921]', '6 in 4.1.txt: [59, 79, 143, 148, 232, 321]', '11 in 4.10.txt: [139, 153, 235, 273, 278, 383, 408, 439, 449, 1064, 1074]', '24 in 4.11.txt: [0, 23, 34, 95, 104, 118, 129, 194, 204, 253, 258, 269, 322, 338, 354, 373, 391, 414, 432, 445, 455, 463, 480, 508]', '9 in 4.12.txt: [186, 286, 306, 317, 523, 594, 615, 629, 984]', '8 in 4.13.txt: [59, 146, 222, 243, 332, 404, 436, 578]', '20 in 4.14.txt: [21, 35, 136, 139, 156, 169, 175, 426, 449, 493, 503, 519, 538, 559, 564, 659, 698, 730, 749, 784]', '3 in 4.15.txt: [290, 294, 541]', '12 in 4.16.txt: [23, 144, 157, 181, 196, 201, 238, 338, 417, 432, 445, 525]', '24 in 4.17.txt: [24, 146, 169, 190, 201, 207, 211, 219, 229, 257, 265, 281, 289, 355, 360, 364, 371, 544, 622, 708, 806, 808, 958, 986]', '33 in 4.18.txt: [25, 35, 40, 49, 58, 120, 137, 150, 164, 182, 191, 206, 215, 220, 237, 242, 254, 394, 454, 457, 464, 489, 521, 554, 606, 646, 652, 665, 695, 714, 728, 753, 847]', '9 in 4.19.txt: [41, 74, 201, 211, 222, 234, 241, 557, 569]', '20 in 4.2.txt: [36, 141, 207, 279, 283, 292, 297, 303, 330, 348, 356, 372, 379, 408, 439, 461, 714, 961, 1003, 1492]', '2 in 4.20.txt: [664, 667]', '3 in 4.21.txt: [42, 446, 574]', '4 in 4.22.txt: [63, 133, 464, 1170]', '32 in 4.3.txt: [0, 21, 70, 103, 146, 154, 168, 173, 176, 195, 204, 218, 249, 255, 265, 271, 285, 306, 363, 376, 386, 405, 415, 579, 593, 623, 673, 680, 722, 755, 798, 836]', '10 in 4.4.txt: [22, 103, 142, 150, 286, 298, 305, 312, 342, 397]', '29 in 4.5.txt: [26, 34, 82, 119, 138, 154, 167, 179, 213, 218, 257, 280, 290, 304, 307, 316, 323, 344, 412, 418, 516, 567, 579, 625, 634, 649, 673, 681, 858]', '19 in 4.6.txt: [27, 34, 49, 59, 75, 108, 121, 127, 151, 162, 180, 190, 200, 215, 216, 233, 245, 256, 466]', '5 in 4.7.txt: [67, 78, 125, 130, 333]', '11 in 4.8.txt: [38, 62, 87, 96, 112, 138, 141, 260, 338, 348, 403]', '30 in 4.9.txt: [21, 39, 70, 87, 96, 109, 127, 130, 139, 168, 184, 211, 212, 222, 237, 251, 262, 290, 308, 384, 465, 479, 506, 516, 571, 649, 863, 929, 989, 1102]', '38 in 5.1.txt: [0, 27, 68, 73, 127, 163, 167, 183, 206, 238, 260, 273, 312, 322, 344, 368, 417, 435, 440, 478, 515, 799, 828, 842, 965, 978, 1073, 1091, 1130, 1172, 1193, 1215, 1236, 1404, 1416, 1441, 1467, 1503]', '14 in 5.10.txt: [41, 160, 176, 268, 276, 299, 308, 324, 434, 661, 689, 738, 794, 862]', '22 in 5.11.txt: [0, 33, 39, 53, 79, 170, 186, 219, 236, 254, 275, 416, 523, 531, 549, 573, 708, 717, 743, 747, 753, 778]', '4 in 5.12.txt: [335, 412, 652, 764]', '29 in 5.13.txt: [0, 21, 46, 128, 136, 151, 171, 183, 224, 244, 251, 266, 278, 291, 429, 437, 598, 680, 686, 699, 792, 858, 880, 993, 1025, 1077, 1175, 1183, 1187]', '3 in 5.14.txt: [687, 856, 962]', '43 in 5.15.txt: [2, 23, 112, 125, 132, 140, 157, 179, 182, 196, 205, 234, 274, 305, 324, 342, 355, 364, 374, 377, 405, 428, 432, 516, 525, 630, 639, 666, 677, 687, 705, 713, 718, 758, 761, 783, 815, 836, 921, 953, 991, 996, 1043]', '28 in 5.16.txt: [0, 25, 37, 126, 131, 146, 151, 190, 225, 238, 250, 258, 274, 284, 325, 338, 452, 501, 516, 534, 608, 630, 668, 791, 795, 842, 859, 885]', '21 in 5.17.txt: [38, 55, 59, 239, 255, 263, 280, 301, 314, 332, 354, 365, 391, 587, 621, 681, 695, 704, 841, 881, 896]', '6 in 5.18.txt: [156, 161, 175, 177, 329, 463]', '1 in 5.19.txt: [305]', '34 in 5.2.txt: [0, 22, 33, 41, 51, 160, 189, 197, 228, 258, 270, 294, 313, 332, 342, 351, 367, 377, 393, 403, 415, 420, 432, 483, 518, 527, 539, 576, 597, 683, 693, 742, 754, 794]', '17 in 5.20.txt: [295, 304, 321, 336, 340, 419, 461, 464, 653, 670, 705, 721, 731, 864, 906, 914, 921]', '5 in 5.21.txt: [137, 180, 207, 461, 801]', '33 in 5.22.txt: [23, 54, 122, 133, 162, 187, 196, 208, 214, 225, 236, 245, 256, 264, 276, 314, 321, 326, 338, 343, 362, 370, 378, 409, 422, 434, 477, 723, 787, 809, 849, 878, 907]', '31 in 5.3.txt: [72, 223, 248, 349, 359, 369, 379, 394, 541, 545, 559, 570, 581, 585, 606, 614, 631, 643, 654, 667, 669, 709, 1014, 1115, 1307, 1353, 1366, 1374, 1396, 1643, 1966]', '10 in 5.4.txt: [193, 286, 310, 330, 347, 371, 373, 649, 737, 824]', '27 in 5.5.txt: [34, 116, 151, 158, 180, 185, 213, 227, 248, 265, 272, 300, 304, 310, 494, 616, 636, 651, 814, 870, 1104, 1124, 1162, 1179, 1349, 1387, 1440]', '17 in 5.6.txt: [29, 87, 106, 115, 153, 167, 176, 194, 226, 261, 289, 377, 403, 412, 425, 442, 575]', '9 in 5.7.txt: [185, 197, 207, 237, 252, 272, 387, 643, 833]', '18 in 5.8.txt: [33, 118, 172, 183, 195, 204, 224, 243, 253, 296, 303, 550, 558, 639, 693, 775, 832, 845]', '50 in 5.9.txt: [2, 30, 41, 136, 145, 186, 191, 198, 341, 348, 357, 369, 375, 395, 435, 448, 466, 467, 479, 480, 486, 497, 551, 581, 585, 715, 731, 739, 778, 784, 806, 814, 886, 899, 926, 939, 956, 976, 986, 996, 1019, 1028, 1039, 1063, 1090, 1157, 1170, 1195, 1229, 1381]', '3 in 6.1.txt: [112, 243, 251]', '22 in 6.10.txt: [23, 34, 42, 112, 122, 150, 175, 189, 196, 207, 263, 277, 294, 302, 332, 342, 348, 529, 567, 579, 606, 615]', '10 in 6.11.txt: [114, 138, 188, 227, 294, 407, 522, 556, 565, 780]', '15 in 6.12.txt: [0, 21, 102, 135, 141, 168, 189, 225, 235, 279, 368, 380, 519, 533, 590]', '24 in 6.13.txt: [22, 101, 109, 135, 146, 173, 193, 206, 219, 226, 244, 254, 268, 287, 368, 381, 424, 432, 488, 534, 610, 677, 707, 752]', '2 in 6.14.txt: [143, 155]', '15 in 6.15.txt: [21, 75, 124, 147, 162, 168, 174, 185, 193, 312, 334, 525, 546, 642, 689]', '2 in 6.16.txt: [274, 696]', '33 in 6.17.txt: [0, 23, 78, 99, 116, 132, 139, 206, 217, 242, 258, 274, 281, 349, 503, 510, 530, 537, 551, 567, 584, 597, 609, 622, 627, 645, 652, 659, 667, 703, 723, 735, 774]', '4 in 6.18.txt: [234, 308, 561, 776]', '7 in 6.19.txt: [152, 173, 240, 291, 329, 354, 382]', '8 in 6.2.txt: [47, 289, 300, 337, 353, 361, 381, 523]', '1 in 6.20.txt: [170]', '5 in 6.21.txt: [715, 732, 748, 804, 879]', '2 in 6.22.txt: [206, 859]', '16 in 6.23.txt: [144, 152, 199, 217, 236, 242, 565, 567, 591, 607, 624, 676, 683, 704, 789, 952]', '4 in 6.24.txt: [173, 297, 319, 450]', '31 in 6.25.txt: [72, 223, 248, 349, 359, 369, 379, 394, 541, 545, 559, 570, 581, 585, 606, 614, 631, 643, 654, 667, 669, 709, 1014, 1115, 1307, 1353, 1366, 1374, 1396, 1643, 1966]', '15 in 6.3.txt: [118, 124, 145, 161, 330, 340, 355, 404, 408, 412, 433, 435, 495, 506, 717]', '7 in 6.4.txt: [93, 109, 122, 147, 166, 415, 534]', '2 in 6.5.txt: [477, 790]', '29 in 6.6.txt: [61, 69, 174, 219, 229, 235, 243, 247, 258, 272, 283, 303, 320, 361, 390, 432, 449, 761, 772, 781, 934, 948, 1014, 1040, 1064, 1071, 1366, 1464, 1484]', '4 in 6.7.txt: [512, 744, 801, 892]', '4 in 6.8.txt: [155, 210, 638, 650]', '24 in 6.9.txt: [0, 21, 34, 66, 87, 100, 112, 121, 134, 148, 154, 165, 184, 198, 224, 233, 242, 244, 269, 356, 389, 395, 454, 498]', '31 in 7.1.txt: [72, 223, 248, 349, 359, 369, 379, 394, 541, 545, 559, 570, 581, 585, 606, 614, 631, 643, 654, 667, 669, 709, 1014, 1115, 1307, 1353, 1366, 1374, 1396, 1643, 1966]', '9 in 7.10.txt: [621, 729, 743, 770, 802, 812, 820, 935, 1006]', '3 in 7.11.txt: [126, 188, 619]', '20 in 7.12.txt: [1, 21, 115, 147, 154, 202, 214, 314, 367, 462, 509, 520, 544, 588, 633, 678, 690, 737, 789, 840]', '17 in 7.13.txt: [41, 153, 157, 175, 184, 188, 218, 229, 257, 271, 278, 399, 553, 567, 650, 845, 991]', '7 in 7.14.txt: [173, 188, 221, 410, 420, 484, 558]', '3 in 7.15.txt: [334, 599, 670]', '12 in 7.16.txt: [41, 193, 207, 322, 397, 783, 889, 1097, 1262, 1264, 1281, 1284]', '16 in 7.17.txt: [0, 25, 154, 163, 188, 199, 218, 233, 251, 325, 442, 464, 533, 574, 586, 634]', '3 in 7.18.txt: [282, 499, 503]', '3 in 7.19.txt: [205, 212, 792]', '4 in 7.2.txt: [197, 287, 536, 677]', '10 in 7.20.txt: [44, 168, 252, 289, 301, 325, 354, 498, 723, 793]', '2 in 7.21.txt: [659, 1214]', '14 in 7.23.txt: [35, 108, 140, 166, 209, 275, 306, 329, 339, 798, 805, 846, 985, 994]', '22 in 7.24.txt: [21, 89, 104, 119, 126, 142, 157, 198, 206, 212, 227, 298, 305, 367, 423, 427, 433, 449, 455, 465, 494, 571]', '4 in 7.25.txt: [197, 287, 536, 677]', '8 in 7.3.txt: [31, 125, 171, 173, 191, 208, 511, 540]', '2 in 7.4.txt: [1205, 1226]', '20 in 7.5.txt: [178, 218, 228, 232, 252, 267, 283, 293, 368, 374, 487, 499, 528, 599, 781, 793, 812, 1056, 1338, 1444]', '23 in 7.6.txt: [68, 144, 222, 308, 363, 539, 555, 571, 589, 602, 614, 637, 749, 823, 902, 985, 996, 1152, 1248, 1283, 1306, 1346, 1403]', '41 in 7.7.txt: [1, 21, 115, 126, 156, 177, 221, 244, 262, 288, 304, 314, 326, 384, 391, 397, 410, 413, 426, 430, 447, 454, 470, 491, 511, 541, 590, 637, 671, 685, 706, 755, 786, 813, 842, 850, 864, 912, 945, 985, 995]', '24 in 7.8.txt: [25, 49, 79, 91, 101, 110, 121, 129, 165, 227, 240, 256, 289, 295, 306, 317, 327, 335, 350, 398, 618, 627, 641, 846]']\n"
          ]
        }
      ]
    },
    {
      "cell_type": "code",
      "source": [
        "index.proximity_search('award', 'winning', 100)"
      ],
      "metadata": {
        "id": "wld3Ax7Kk5K9",
        "colab": {
          "base_uri": "https://localhost:8080/"
        },
        "outputId": "be5df90f-7647-4046-b052-860781c68336"
      },
      "execution_count": 26,
      "outputs": [
        {
          "output_type": "stream",
          "name": "stdout",
          "text": [
            "Doc_ids containing the term1: KeysView(84 total occurances: ['1 in 3.1.txt: [1258]', '1 in 3.12.txt: [778]', '2 in 3.13.txt: [108, 735]', '3 in 3.14.txt: [720, 764, 801]', '3 in 3.21.txt: [367, 368, 626]', '7 in 3.24.txt: [40, 162, 166, 186, 575, 633, 638]', '5 in 3.6.txt: [139, 702, 731, 745, 754]', '2 in 3.7.txt: [213, 1360]', '1 in 3.8.txt: [725]', '8 in 4.19.txt: [154, 168, 187, 194, 215, 236, 655, 699]', '1 in 4.2.txt: [1237]', '3 in 4.20.txt: [97, 595, 597]', '1 in 4.22.txt: [605]', '3 in 4.9.txt: [62, 984, 1007]', '4 in 5.1.txt: [298, 333, 797, 1270]', '1 in 5.13.txt: [815]', '2 in 5.15.txt: [118, 136]', '5 in 5.17.txt: [26, 761, 767, 781, 788]', '1 in 5.3.txt: [2132]', '1 in 5.9.txt: [338]', '2 in 6.12.txt: [86, 581]', '1 in 6.16.txt: [791]', '1 in 6.18.txt: [364]', '2 in 6.19.txt: [51, 596]', '1 in 6.2.txt: [171]', '1 in 6.22.txt: [980]', '1 in 6.25.txt: [2132]', '1 in 6.6.txt: [1505]', '1 in 7.1.txt: [2132]', '3 in 7.12.txt: [543, 552, 567]', '1 in 7.18.txt: [86]', '8 in 7.5.txt: [126, 129, 131, 1092, 1098, 1113, 1122, 1123]', '5 in 7.6.txt: [190, 204, 1515, 1527, 1546]', '1 in 7.8.txt: [808]'])\n",
            "Doc_ids containing the term2: KeysView(81 total occurances: ['2 in 3.13.txt: [766, 784]', '8 in 3.14.txt: [27, 143, 155, 239, 245, 259, 272, 705]', '8 in 3.17.txt: [30, 41, 153, 197, 278, 424, 427, 956]', '6 in 3.19.txt: [140, 548, 557, 574, 598, 1104]', '3 in 3.2.txt: [24, 240, 282]', '3 in 3.21.txt: [365, 382, 623]', '1 in 3.4.txt: [146]', '2 in 3.6.txt: [744, 753]', '1 in 3.8.txt: [41]', '3 in 3.9.txt: [165, 238, 625]', '4 in 4.10.txt: [199, 204, 216, 730]', '1 in 4.16.txt: [142]', '2 in 4.19.txt: [212, 238]', '2 in 4.2.txt: [23, 1249]', '1 in 4.3.txt: [93]', '3 in 4.4.txt: [104, 211, 410]', '1 in 4.9.txt: [1019]', '1 in 5.1.txt: [296]', '2 in 5.10.txt: [189, 319]', '1 in 5.15.txt: [115]', '3 in 5.16.txt: [116, 123, 141]', '3 in 5.17.txt: [23, 136, 502]', '1 in 5.22.txt: [265]', '1 in 5.8.txt: [882]', '1 in 5.9.txt: [339]', '1 in 6.18.txt: [1271]', '2 in 6.19.txt: [60, 605]', '2 in 6.2.txt: [145, 220]', '1 in 6.22.txt: [989]', '2 in 6.5.txt: [30, 195]', '1 in 6.8.txt: [646]', '2 in 7.12.txt: [193, 524]', '1 in 7.19.txt: [170]', '1 in 7.2.txt: [234]', '1 in 7.25.txt: [234]', '1 in 7.5.txt: [1293]', '1 in 7.6.txt: [1545]', '1 in 7.8.txt: [829]'])\n",
            "- term1_position 108\n",
            "-- term2_position 766\n",
            "- term1_position 735\n",
            "-- term2_position 766\n",
            "Appended! abs(766 - 735)= 31\n",
            "-- term2_position 784\n",
            "Appended! abs(784 - 735)= 49\n",
            "- term1_position 720\n",
            "-- term2_position 27\n",
            "-- term2_position 143\n",
            "-- term2_position 155\n",
            "-- term2_position 239\n",
            "-- term2_position 245\n",
            "-- term2_position 259\n",
            "-- term2_position 272\n",
            "-- term2_position 705\n",
            "Appended! abs(705 - 720)= 15\n",
            "- term1_position 764\n",
            "-- term2_position 27\n",
            "-- term2_position 143\n",
            "-- term2_position 155\n",
            "-- term2_position 239\n",
            "-- term2_position 245\n",
            "-- term2_position 259\n",
            "-- term2_position 272\n",
            "-- term2_position 705\n",
            "Appended! abs(705 - 764)= 59\n",
            "- term1_position 801\n",
            "-- term2_position 27\n",
            "-- term2_position 143\n",
            "-- term2_position 155\n",
            "-- term2_position 239\n",
            "-- term2_position 245\n",
            "-- term2_position 259\n",
            "-- term2_position 272\n",
            "-- term2_position 705\n",
            "Appended! abs(705 - 801)= 96\n",
            "- term1_position 367\n",
            "-- term2_position 365\n",
            "Appended! abs(365 - 367)= 2\n",
            "-- term2_position 382\n",
            "Appended! abs(382 - 367)= 15\n",
            "-- term2_position 623\n",
            "- term1_position 368\n",
            "-- term2_position 365\n",
            "Appended! abs(365 - 368)= 3\n",
            "-- term2_position 382\n",
            "Appended! abs(382 - 368)= 14\n",
            "-- term2_position 623\n",
            "- term1_position 626\n",
            "-- term2_position 365\n",
            "-- term2_position 382\n",
            "-- term2_position 623\n",
            "Appended! abs(623 - 626)= 3\n",
            "- term1_position 139\n",
            "-- term2_position 744\n",
            "- term1_position 702\n",
            "-- term2_position 744\n",
            "Appended! abs(744 - 702)= 42\n",
            "-- term2_position 753\n",
            "Appended! abs(753 - 702)= 51\n",
            "- term1_position 731\n",
            "-- term2_position 744\n",
            "Appended! abs(744 - 731)= 13\n",
            "-- term2_position 753\n",
            "Appended! abs(753 - 731)= 22\n",
            "- term1_position 745\n",
            "-- term2_position 744\n",
            "Appended! abs(744 - 745)= 1\n",
            "-- term2_position 753\n",
            "Appended! abs(753 - 745)= 8\n",
            "- term1_position 754\n",
            "-- term2_position 744\n",
            "Appended! abs(744 - 754)= 10\n",
            "-- term2_position 753\n",
            "Appended! abs(753 - 754)= 1\n",
            "- term1_position 725\n",
            "-- term2_position 41\n",
            "- term1_position 154\n",
            "-- term2_position 212\n",
            "Appended! abs(212 - 154)= 58\n",
            "-- term2_position 238\n",
            "Appended! abs(238 - 154)= 84\n",
            "- term1_position 168\n",
            "-- term2_position 212\n",
            "Appended! abs(212 - 168)= 44\n",
            "-- term2_position 238\n",
            "Appended! abs(238 - 168)= 70\n",
            "- term1_position 187\n",
            "-- term2_position 212\n",
            "Appended! abs(212 - 187)= 25\n",
            "-- term2_position 238\n",
            "Appended! abs(238 - 187)= 51\n",
            "- term1_position 194\n",
            "-- term2_position 212\n",
            "Appended! abs(212 - 194)= 18\n",
            "-- term2_position 238\n",
            "Appended! abs(238 - 194)= 44\n",
            "- term1_position 215\n",
            "-- term2_position 212\n",
            "Appended! abs(212 - 215)= 3\n",
            "-- term2_position 238\n",
            "Appended! abs(238 - 215)= 23\n",
            "- term1_position 236\n",
            "-- term2_position 212\n",
            "Appended! abs(212 - 236)= 24\n",
            "-- term2_position 238\n",
            "Appended! abs(238 - 236)= 2\n",
            "- term1_position 655\n",
            "-- term2_position 212\n",
            "-- term2_position 238\n",
            "- term1_position 699\n",
            "-- term2_position 212\n",
            "-- term2_position 238\n",
            "- term1_position 1237\n",
            "-- term2_position 23\n",
            "-- term2_position 1249\n",
            "Appended! abs(1249 - 1237)= 12\n",
            "- term1_position 62\n",
            "-- term2_position 1019\n",
            "- term1_position 984\n",
            "-- term2_position 1019\n",
            "Appended! abs(1019 - 984)= 35\n",
            "- term1_position 1007\n",
            "-- term2_position 1019\n",
            "Appended! abs(1019 - 1007)= 12\n",
            "- term1_position 298\n",
            "-- term2_position 296\n",
            "Appended! abs(296 - 298)= 2\n",
            "- term1_position 333\n",
            "-- term2_position 296\n",
            "Appended! abs(296 - 333)= 37\n",
            "- term1_position 797\n",
            "-- term2_position 296\n",
            "- term1_position 1270\n",
            "-- term2_position 296\n",
            "- term1_position 118\n",
            "-- term2_position 115\n",
            "Appended! abs(115 - 118)= 3\n",
            "- term1_position 136\n",
            "-- term2_position 115\n",
            "Appended! abs(115 - 136)= 21\n",
            "- term1_position 26\n",
            "-- term2_position 23\n",
            "Appended! abs(23 - 26)= 3\n",
            "-- term2_position 136\n",
            "- term1_position 761\n",
            "-- term2_position 23\n",
            "-- term2_position 136\n",
            "-- term2_position 502\n",
            "- term1_position 767\n",
            "-- term2_position 23\n",
            "-- term2_position 136\n",
            "-- term2_position 502\n",
            "- term1_position 781\n",
            "-- term2_position 23\n",
            "-- term2_position 136\n",
            "-- term2_position 502\n",
            "- term1_position 788\n",
            "-- term2_position 23\n",
            "-- term2_position 136\n",
            "-- term2_position 502\n",
            "- term1_position 338\n",
            "-- term2_position 339\n",
            "Appended! abs(339 - 338)= 1\n",
            "- term1_position 364\n",
            "-- term2_position 1271\n",
            "- term1_position 51\n",
            "-- term2_position 60\n",
            "Appended! abs(60 - 51)= 9\n",
            "-- term2_position 605\n",
            "- term1_position 596\n",
            "-- term2_position 60\n",
            "-- term2_position 605\n",
            "Appended! abs(605 - 596)= 9\n",
            "- term1_position 171\n",
            "-- term2_position 145\n",
            "Appended! abs(145 - 171)= 26\n",
            "-- term2_position 220\n",
            "Appended! abs(220 - 171)= 49\n",
            "- term1_position 980\n",
            "-- term2_position 989\n",
            "Appended! abs(989 - 980)= 9\n",
            "- term1_position 543\n",
            "-- term2_position 193\n",
            "-- term2_position 524\n",
            "Appended! abs(524 - 543)= 19\n",
            "- term1_position 552\n",
            "-- term2_position 193\n",
            "-- term2_position 524\n",
            "Appended! abs(524 - 552)= 28\n",
            "- term1_position 567\n",
            "-- term2_position 193\n",
            "-- term2_position 524\n",
            "Appended! abs(524 - 567)= 43\n",
            "- term1_position 126\n",
            "-- term2_position 1293\n",
            "- term1_position 129\n",
            "-- term2_position 1293\n",
            "- term1_position 131\n",
            "-- term2_position 1293\n",
            "- term1_position 1092\n",
            "-- term2_position 1293\n",
            "- term1_position 1098\n",
            "-- term2_position 1293\n",
            "- term1_position 1113\n",
            "-- term2_position 1293\n",
            "- term1_position 1122\n",
            "-- term2_position 1293\n",
            "- term1_position 1123\n",
            "-- term2_position 1293\n",
            "- term1_position 190\n",
            "-- term2_position 1545\n",
            "- term1_position 204\n",
            "-- term2_position 1545\n",
            "- term1_position 1515\n",
            "-- term2_position 1545\n",
            "Appended! abs(1545 - 1515)= 30\n",
            "- term1_position 1527\n",
            "-- term2_position 1545\n",
            "Appended! abs(1545 - 1527)= 18\n",
            "- term1_position 1546\n",
            "-- term2_position 1545\n",
            "Appended! abs(1545 - 1546)= 1\n",
            "- term1_position 808\n",
            "-- term2_position 829\n",
            "Appended! abs(829 - 808)= 21\n"
          ]
        },
        {
          "output_type": "execute_result",
          "data": {
            "text/plain": [
              "{'3.13.txt': [(735, 766), (735, 784)],\n",
              " '3.14.txt': [(720, 705), (764, 705), (801, 705)],\n",
              " '3.21.txt': [(367, 365), (367, 382), (368, 365), (368, 382), (626, 623)],\n",
              " '3.6.txt': [(702, 744),\n",
              "  (702, 753),\n",
              "  (731, 744),\n",
              "  (731, 753),\n",
              "  (745, 744),\n",
              "  (745, 753),\n",
              "  (754, 744),\n",
              "  (754, 753)],\n",
              " '3.8.txt': [],\n",
              " '4.19.txt': [(154, 212),\n",
              "  (154, 238),\n",
              "  (168, 212),\n",
              "  (168, 238),\n",
              "  (187, 212),\n",
              "  (187, 238),\n",
              "  (194, 212),\n",
              "  (194, 238),\n",
              "  (215, 212),\n",
              "  (215, 238),\n",
              "  (236, 212),\n",
              "  (236, 238)],\n",
              " '4.2.txt': [(1237, 1249)],\n",
              " '4.9.txt': [(984, 1019), (1007, 1019)],\n",
              " '5.1.txt': [(298, 296), (333, 296)],\n",
              " '5.15.txt': [(118, 115), (136, 115)],\n",
              " '5.17.txt': [(26, 23)],\n",
              " '5.9.txt': [(338, 339)],\n",
              " '6.18.txt': [],\n",
              " '6.19.txt': [(51, 60), (596, 605)],\n",
              " '6.2.txt': [(171, 145), (171, 220)],\n",
              " '6.22.txt': [(980, 989)],\n",
              " '7.12.txt': [(543, 524), (552, 524), (567, 524)],\n",
              " '7.5.txt': [],\n",
              " '7.6.txt': [(1515, 1545), (1527, 1545), (1546, 1545)],\n",
              " '7.8.txt': [(808, 829)]}"
            ]
          },
          "metadata": {},
          "execution_count": 26
        }
      ]
    }
  ],
  "metadata": {
    "kernelspec": {
      "display_name": "Python 3",
      "language": "python",
      "name": "python3"
    },
    "language_info": {
      "codemirror_mode": {
        "name": "ipython",
        "version": 3
      },
      "file_extension": ".py",
      "mimetype": "text/x-python",
      "name": "python",
      "nbconvert_exporter": "python",
      "pygments_lexer": "ipython3",
      "version": "3.8.5"
    },
    "colab": {
      "provenance": [],
      "collapsed_sections": [],
      "toc_visible": true,
      "include_colab_link": true
    }
  },
  "nbformat": 4,
  "nbformat_minor": 0
}