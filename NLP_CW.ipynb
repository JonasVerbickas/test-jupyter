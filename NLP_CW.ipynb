{
  "cells": [
    {
      "cell_type": "markdown",
      "metadata": {
        "id": "view-in-github",
        "colab_type": "text"
      },
      "source": [
        "<a href=\"https://colab.research.google.com/github/JonasVerbickas/test-jupyter/blob/main/NLP_CW.ipynb\" target=\"_parent\"><img src=\"https://colab.research.google.com/assets/colab-badge.svg\" alt=\"Open In Colab\"/></a>"
      ]
    },
    {
      "cell_type": "code",
      "source": [
        "import os\n",
        "import time\n",
        "import nltk\n",
        "import string\n",
        "import re\n",
        "import unicodedata"
      ],
      "metadata": {
        "id": "BTTGCTeE65K-"
      },
      "execution_count": 26,
      "outputs": []
    },
    {
      "cell_type": "code",
      "source": [
        "from google.colab import drive\n",
        "drive.mount('/content/drive')"
      ],
      "metadata": {
        "colab": {
          "base_uri": "https://localhost:8080/"
        },
        "id": "A59xTdZA0OzU",
        "outputId": "ba1de10c-b470-43ca-ce9b-0b317348d651"
      },
      "execution_count": 27,
      "outputs": [
        {
          "output_type": "stream",
          "name": "stdout",
          "text": [
            "Drive already mounted at /content/drive; to attempt to forcibly remount, call drive.mount(\"/content/drive\", force_remount=True).\n"
          ]
        }
      ]
    },
    {
      "cell_type": "code",
      "source": [
        "porter = nltk.PorterStemmer()"
      ],
      "metadata": {
        "id": "9Kh-pY5D8H1e"
      },
      "execution_count": 28,
      "outputs": []
    },
    {
      "cell_type": "code",
      "source": [
        "nltk.download('stopwords')\n",
        "nltk.corpus.stopwords.words('english')"
      ],
      "metadata": {
        "colab": {
          "base_uri": "https://localhost:8080/"
        },
        "id": "fXosFc5y2vyH",
        "outputId": "4fc8308e-9bda-4900-fbc8-6fe1a7eb6739"
      },
      "execution_count": 29,
      "outputs": [
        {
          "output_type": "stream",
          "name": "stderr",
          "text": [
            "[nltk_data] Downloading package stopwords to /root/nltk_data...\n",
            "[nltk_data]   Package stopwords is already up-to-date!\n"
          ]
        },
        {
          "output_type": "execute_result",
          "data": {
            "text/plain": [
              "['i',\n",
              " 'me',\n",
              " 'my',\n",
              " 'myself',\n",
              " 'we',\n",
              " 'our',\n",
              " 'ours',\n",
              " 'ourselves',\n",
              " 'you',\n",
              " \"you're\",\n",
              " \"you've\",\n",
              " \"you'll\",\n",
              " \"you'd\",\n",
              " 'your',\n",
              " 'yours',\n",
              " 'yourself',\n",
              " 'yourselves',\n",
              " 'he',\n",
              " 'him',\n",
              " 'his',\n",
              " 'himself',\n",
              " 'she',\n",
              " \"she's\",\n",
              " 'her',\n",
              " 'hers',\n",
              " 'herself',\n",
              " 'it',\n",
              " \"it's\",\n",
              " 'its',\n",
              " 'itself',\n",
              " 'they',\n",
              " 'them',\n",
              " 'their',\n",
              " 'theirs',\n",
              " 'themselves',\n",
              " 'what',\n",
              " 'which',\n",
              " 'who',\n",
              " 'whom',\n",
              " 'this',\n",
              " 'that',\n",
              " \"that'll\",\n",
              " 'these',\n",
              " 'those',\n",
              " 'am',\n",
              " 'is',\n",
              " 'are',\n",
              " 'was',\n",
              " 'were',\n",
              " 'be',\n",
              " 'been',\n",
              " 'being',\n",
              " 'have',\n",
              " 'has',\n",
              " 'had',\n",
              " 'having',\n",
              " 'do',\n",
              " 'does',\n",
              " 'did',\n",
              " 'doing',\n",
              " 'a',\n",
              " 'an',\n",
              " 'the',\n",
              " 'and',\n",
              " 'but',\n",
              " 'if',\n",
              " 'or',\n",
              " 'because',\n",
              " 'as',\n",
              " 'until',\n",
              " 'while',\n",
              " 'of',\n",
              " 'at',\n",
              " 'by',\n",
              " 'for',\n",
              " 'with',\n",
              " 'about',\n",
              " 'against',\n",
              " 'between',\n",
              " 'into',\n",
              " 'through',\n",
              " 'during',\n",
              " 'before',\n",
              " 'after',\n",
              " 'above',\n",
              " 'below',\n",
              " 'to',\n",
              " 'from',\n",
              " 'up',\n",
              " 'down',\n",
              " 'in',\n",
              " 'out',\n",
              " 'on',\n",
              " 'off',\n",
              " 'over',\n",
              " 'under',\n",
              " 'again',\n",
              " 'further',\n",
              " 'then',\n",
              " 'once',\n",
              " 'here',\n",
              " 'there',\n",
              " 'when',\n",
              " 'where',\n",
              " 'why',\n",
              " 'how',\n",
              " 'all',\n",
              " 'any',\n",
              " 'both',\n",
              " 'each',\n",
              " 'few',\n",
              " 'more',\n",
              " 'most',\n",
              " 'other',\n",
              " 'some',\n",
              " 'such',\n",
              " 'no',\n",
              " 'nor',\n",
              " 'not',\n",
              " 'only',\n",
              " 'own',\n",
              " 'same',\n",
              " 'so',\n",
              " 'than',\n",
              " 'too',\n",
              " 'very',\n",
              " 's',\n",
              " 't',\n",
              " 'can',\n",
              " 'will',\n",
              " 'just',\n",
              " 'don',\n",
              " \"don't\",\n",
              " 'should',\n",
              " \"should've\",\n",
              " 'now',\n",
              " 'd',\n",
              " 'll',\n",
              " 'm',\n",
              " 'o',\n",
              " 're',\n",
              " 've',\n",
              " 'y',\n",
              " 'ain',\n",
              " 'aren',\n",
              " \"aren't\",\n",
              " 'couldn',\n",
              " \"couldn't\",\n",
              " 'didn',\n",
              " \"didn't\",\n",
              " 'doesn',\n",
              " \"doesn't\",\n",
              " 'hadn',\n",
              " \"hadn't\",\n",
              " 'hasn',\n",
              " \"hasn't\",\n",
              " 'haven',\n",
              " \"haven't\",\n",
              " 'isn',\n",
              " \"isn't\",\n",
              " 'ma',\n",
              " 'mightn',\n",
              " \"mightn't\",\n",
              " 'mustn',\n",
              " \"mustn't\",\n",
              " 'needn',\n",
              " \"needn't\",\n",
              " 'shan',\n",
              " \"shan't\",\n",
              " 'shouldn',\n",
              " \"shouldn't\",\n",
              " 'wasn',\n",
              " \"wasn't\",\n",
              " 'weren',\n",
              " \"weren't\",\n",
              " 'won',\n",
              " \"won't\",\n",
              " 'wouldn',\n",
              " \"wouldn't\"]"
            ]
          },
          "metadata": {},
          "execution_count": 29
        }
      ]
    },
    {
      "cell_type": "code",
      "source": [
        "class StringWithDocId:\n",
        "  def __init__(self, string, doc_id):\n",
        "    self.string = string\n",
        "    self.doc_id = doc_id\n",
        "  \n",
        "  def __lt__(token_with_doc_A, token_with_doc_B):\n",
        "    if token_with_doc_A.string == token_with_doc_B.string:\n",
        "      return token_with_doc_A.doc_id < token_with_doc_B.doc_id\n",
        "    else:\n",
        "      return token_with_doc_A.string < token_with_doc_B.string\n",
        "    \n",
        "  def __str__(self):\n",
        "    return f\"{self.string}: {self.doc_id}\"\n",
        "\n",
        "  def __repr__(self):\n",
        "    return f\"{self.string}: {self.doc_id}\""
      ],
      "metadata": {
        "id": "P_X_2vKt8lbK"
      },
      "execution_count": 30,
      "outputs": []
    },
    {
      "cell_type": "code",
      "source": [
        "class StringWithPosition(StringWithDocId):\n",
        "  def __init__(self, string, doc_id, position):\n",
        "    super().__init__(string, doc_id)\n",
        "    self.position = position\n",
        "  "
      ],
      "metadata": {
        "id": "XSBSe0-PxlCV"
      },
      "execution_count": 31,
      "outputs": []
    },
    {
      "cell_type": "code",
      "source": [
        "def wikipediaPreprocessing(text):\n",
        "    text = unicodedata.normalize('NFKC', text)\n",
        "    text = re.sub(r'\\[.*?\\]+', '', text) # index documents/corpus\n",
        "    text = text.replace('\\n', ' ')\n",
        "    text = text.replace('\\t', ' ')\n",
        "    text = text.translate(str.maketrans('', '', string.punctuation))\n",
        "    text = re.sub(r'Contents\\s+1\\s+Plot.+Plot', '', text) \n",
        "    text = re.sub(r'From Wikipedia, the free encyclopedia.+List of episodes', '', text)\n",
        "    return text"
      ],
      "metadata": {
        "id": "gpJRsN2bk5Iw"
      },
      "execution_count": 32,
      "outputs": []
    },
    {
      "cell_type": "code",
      "execution_count": 39,
      "metadata": {
        "id": "4WtSmBsrzqE7",
        "colab": {
          "base_uri": "https://localhost:8080/"
        },
        "outputId": "a5535239-9f57-427d-f03d-075e3f1e576c"
      },
      "outputs": [
        {
          "output_type": "stream",
          "name": "stdout",
          "text": [
            "as list 179\n",
            "as set 171\n"
          ]
        }
      ],
      "source": [
        "STOP_WORDS = [porter.stem(w) for w in nltk.corpus.stopwords.words('english')]#\"the\", \"is\", \"am\", \"are\", \"will\", \"was\", \"were\", \"to\", 'be', 'or', 'not'] \n",
        "print(\"as list\", len(STOP_WORDS))\n",
        "STOP_WORDS = set(STOP_WORDS)\n",
        "print(\"as set\", len(STOP_WORDS))\n",
        "\n",
        "class InvertedIndex:\n",
        "    \"\"\"\n",
        "    Construct Inverted Index\n",
        "    \"\"\"\n",
        "    def __init__(self):\n",
        "        self.inverted_index = {}\n",
        "\n",
        "    def __getitem__(self, key):\n",
        "        return self.inverted_index[key]\n",
        "      \n",
        "    def keys(self):\n",
        "      return self.inverted_index.keys()\n",
        "        \n",
        "    def read_data(self, path: str) -> list:\n",
        "        \"\"\"\n",
        "        Read files from a directory and then append the data of each file into a list.\n",
        "        \"\"\"\n",
        "        output = []\n",
        "        for file in os.listdir(path):\n",
        "          with open(os.path.join(path, file), 'r') as f:\n",
        "            if file[-3:] != 'txt':\n",
        "              print(file, \"will be skipped\")\n",
        "            else:\n",
        "              output.append(StringWithDocId(f.read(), file))\n",
        "        print(len(output))\n",
        "        return output\n",
        "\n",
        "    def process_document(self, document: str) -> list:\n",
        "        \"\"\"\n",
        "        pre-process a document and return a list of its terms\n",
        "        str->list\"\"\"\n",
        "        # 1. Wikipedia hyperlinks should be removed\n",
        "        # 4. Use multi-word character/location names from .csv files\n",
        "        text = wikipediaPreprocessing(document)\n",
        "        tokenized  = nltk.tokenize.wordpunct_tokenize(text)\n",
        "        output = []\n",
        "        for token in tokenized:\n",
        "          # 2. porter stemmer makes everything lowercase as well\n",
        "          stemmed = porter.stem(token)\n",
        "          # 3. ignore stop-words\n",
        "          if stemmed not in STOP_WORDS: \n",
        "            output.append(stemmed)\n",
        "        return output\n",
        "    \n",
        "    def index_corpus(self, documents: list) -> None:\n",
        "        \"\"\"\n",
        "        index given documents\n",
        "        list->None\"\"\"\n",
        "        starting_time = time.perf_counter()\n",
        "        token_list = []\n",
        "        # 1. Generate token sequence\n",
        "        for doc in documents:\n",
        "          curr_doc_id = doc.doc_id\n",
        "          processed_string = self.process_document(doc.string)\n",
        "          for i, token in enumerate(processed_string):\n",
        "            token_with_doc_id_and_pos = StringWithPosition(token, curr_doc_id, i)\n",
        "            token_list.append(token_with_doc_id_and_pos)\n",
        "        # 2. Sort\n",
        "        sorted_token_list = sorted(token_list)\n",
        "        print(\"First 10 of sorted_token_list:\", sorted_token_list[:10])\n",
        "        # 3. Convert into dictionary of postings\n",
        "        for token in sorted_token_list:\n",
        "          if token.string in self.inverted_index:\n",
        "            self.inverted_index[token.string].append((token.doc_id, token.position))\n",
        "          else:\n",
        "            self.inverted_index[token.string] = [(token.doc_id, token.position)]\n",
        "        # Print out some details about the dataset\n",
        "        total_time_taken = round(time.perf_counter() - starting_time, 4)\n",
        "        print(f\"It took: {total_time_taken} seconds to index the whole corpus.\")\n",
        "        print(f\"It has {len(self.inverted_index)} entries in total.\")\n",
        "      \n",
        "    def dump(self, examples: list) -> None:\n",
        "        \"\"\"\n",
        "        provide a dump function to show index entries for a given set of terms        \n",
        "        \"\"\"\n",
        "        for e in examples:\n",
        "          processed_e = \" \".join(self.process_document(e))\n",
        "          try:\n",
        "            print(f'Match for {e}:', self.inverted_index[processed_e])\n",
        "          except KeyError:\n",
        "            print(e, \"was not found\")\n",
        "\n",
        "     \n",
        "    def proximity_search(self, term1: str, term2: str, window_size: int = 3) -> dict:\n",
        "        \"\"\"\n",
        "        1) check whether given two terms appear within a window\n",
        "        2) calculate the number of their co-existance in a document\n",
        "        3) add the document id and the number of matches into a dict\n",
        "        return the dict\"\"\"\n",
        "        documents_containing_both_terms = []\n",
        "        term1_i = 0\n",
        "        term2_i = 0\n",
        "        while term1_i < len(self[term1]) and term2_i < len(self[term2]):\n",
        "          if self[term1][term1_i] == self[term2][term2_i]:\n",
        "            documents_containing_both_terms.append(self[term1][term1_i])\n",
        "            term1_i += 1\n",
        "            term2_i += 1\n",
        "          else:\n",
        "            if self[term1][term1_i] < self[term2][term2_i]:\n",
        "              term1_i += 1\n",
        "            else:\n",
        "              term2_i += 1\n",
        "        return documents_containing_both_terms\n",
        "    \n",
        "    "
      ]
    },
    {
      "cell_type": "code",
      "source": [
        "def testReadData():\n",
        "  index = InvertedIndex()\n",
        "  corpus = index.read_data('/content/drive/MyDrive/Colab Notebooks/Simpsons2022')\n",
        "  return (corpus[1]).string\n",
        "testReadData()"
      ],
      "metadata": {
        "colab": {
          "base_uri": "https://localhost:8080/",
          "height": 244
        },
        "id": "nSvu_GKR_03l",
        "outputId": "51a78e9a-4f0b-4084-f625-a5279ad665b5"
      },
      "execution_count": 34,
      "outputs": [
        {
          "output_type": "stream",
          "name": "stdout",
          "text": [
            "simpsons_characters - row.csv will be skipped\n",
            "simpsons_locations row.csv will be skipped\n",
            "118\n"
          ]
        },
        {
          "output_type": "execute_result",
          "data": {
            "text/plain": [
              "'Mr. Lisa Goes to Washington\\nFrom Wikipedia, the free encyclopedia\\n\\n\\n\\nJump to navigation\\nJump to search\\n\"Mr. Lisa Goes to Washington\"\\nThe Simpsons\\xa0episode\\nEpisode\\xa0no.\\nSeason\\xa03\\nEpisode 2\\nDirected by\\nWes Archer\\nWritten by\\nGeorge Meyer\\nProduction code\\n8F01\\nOriginal air date\\nSeptember 26, 1991[1]\\n\\nEpisode features\\nChalkboard gag\\n\"Spitwads are not free speech\"\\nCouch gag\\nThe family sits down and Homer pulls\\xa0Santa\\'s Little Helper\\xa0from under him.\\nCommentary\\nMatt Groening\\nAl Jean\\nMike Reiss\\nJulie Kavner\\nWes Archer\\nDavid Silverman\\nEpisode chronology\\n←\\xa0Previous\\n\"Stark Raving Dad\"\\nNext\\xa0→\\n\"When Flanders Failed\"\\nThe Simpsons\\xa0(season 3)\\nList of episodes\\n\"Mr. Lisa Goes to Washington\" is the second episode of the\\xa0third season\\xa0of the American animated television series\\xa0The Simpsons. It originally aired on the\\xa0Fox network\\xa0in the United States on September 26, 1991. In the episode,\\xa0Lisa\\xa0wins a patriotic essay contest about the\\xa0United States. She and her family attend the contest finals in\\xa0Washington, D.C., where she is dismayed after watching a\\xa0congressman\\xa0accept a bribe. Lisa loses the contest when she pens a scathing screed condemning the\\xa0government system, but the corrupt congressman is jailed and removed from office, restoring her faith in government.\\nThe episode was written by\\xa0George Meyer\\xa0and directed by\\xa0Wes Archer. It was the first episode for which\\xa0Al Jean\\xa0and\\xa0Mike Reiss\\xa0served as\\xa0show runners. It features multiple references to the 1939 film\\xa0Mr. Smith Goes to Washington, including the scene in which Lisa appeals to Lincoln\\'s statue at the\\xa0Lincoln Memorial\\xa0for advice. Other Washington landmarks referenced in the episode include the\\xa0White House, the\\xa0Watergate Hotel, the\\xa0Jefferson Memorial, the\\xa0Washington Monument, the\\xa0National Air and Space Museum\\xa0and the\\xa0Kennedy Center for the Performing Arts.\\nThe episode acquired a\\xa0Nielsen rating\\xa0of 12.9, and was the third highest-rated show on Fox the week it aired. It received mostly positive reviews from television critics, who praised the episode for its satire on American politics. The\\xa0timber industry\\xa0criticized the scene in which Lisa witnesses a timber industry lobbyist offering a bribe to the congressman to allow loggers to raze the Springfield Forest. The scene was described as \"an easy shot at hard-working people whose only crime is to have been born in a timber town\".[2]\\nContents\\n\\t\\t1\\n\\t\\tPlot\\n\\t\\t2\\n\\t\\tProduction\\n\\t\\t3\\n\\t\\tCultural references\\n\\t\\t4\\n\\t\\tThemes and analysis\\n\\t\\t5\\n\\t\\tReception\\n\\t\\t5.1\\n\\t\\tBroadcast and re-releases\\n\\t\\t5.2\\n\\t\\tCritical reviews\\n\\t\\t5.3\\n\\t\\tResponse from the timber industry\\n\\t\\t6\\n\\t\\tReferences\\n\\t\\t7\\n\\t\\tExternal links\\nPlot[edit]\\nHomer\\xa0sees an ad for a children\\'s essay contest in the\\xa0Reading Digest\\xa0magazine.\\xa0Lisa\\xa0submits an essay on the contest\\'s topic — \"what makes America great\" — after visiting Springfield Forest and seeing a\\xa0bald eagle\\xa0land nearby. The Simpsons travel to Washington, D.C. after Lisa\\'s essay, \"The Roots of Democracy\", earns her a spot in the national finals there.\\nWhile\\xa0Bart\\xa0and Homer enjoy the all-expenses-paid perks of their trip, Lisa visits famous monuments for inspiration. At a shrine to a\\xa0feminist\\xa0icon, she sees a corrupt\\xa0congressman, Bob Arnold, taking a bribe from a timber industry\\xa0lobbyist\\xa0to allow loggers to\\xa0clearcut\\xa0Springfield Forest. Heartbroken and disillusioned by government corruption, Lisa destroys her winning essay. She pens a scathing indictment, \"Cesspool on the\\xa0Potomac\", which condemns government greed and corruption and names the politician involved in the bribery.\\nLisa\\'s essay elicits a hostile reaction from the judges and audience members. When word of her speech quickly spreads through the\\xa0capital, Congressman Arnold is arrested, removed from office and sent to prison, where he becomes a\\xa0born-again\\xa0Christian. Lisa\\'s essay fails to win the contest, but her faith in government is restored and the contest winner commends her courage and honesty.\\nProduction[edit]\\n\\n\\nMike Reiss\\xa0(left) and\\xa0Al Jean\\xa0(right) took over as\\xa0show runners\\xa0for the third season.\\nThe episode was written by\\xa0George Meyer. It is one of\\xa0The Simpsons\\xa0creator\\xa0Matt Groening\\'s favorite episodes of the earlier seasons because he thought it took the show to another level.[3]\\xa0Meyer said he has a \"deep suspicion of social institutions and tradition in general,\" which affected the way he wrote the episode.[4]\\xa0Al Jean\\xa0and\\xa0Mike Reiss, who had written for\\xa0The Simpsons\\xa0since the start of the show, took over as\\xa0show runners\\xa0for the third season. Their first episode as show runners was \"Mr. Lisa Goes to Washington\" and they felt a lot of pressure about running the show. Jean and Reiss were so pressured that they did six to seven rewrites of the script to make it funnier.[5]\\xa0Jean said \"one reason for doing all these rewrites is because I kept thinking \\'It\\'s not good enough. It\\'s not good enough\\',\"[5]\\xa0and Reiss added that \"we were definitely scared. We had never run anything before, and they dumped us on this.\"[6]\\nWes Archer\\xa0directed \"Mr. Lisa Goes to Washington\", which was one of the first episodes to feature the Simpson family traveling to a real-life location.[7]\\xa0Because much of the episode takes place outside of Springfield, new background and character designs had to be animated. The Simpson family visits several real-life landmarks in Washington, which the animators were able to draw with the help of photographs from the animation studio\\'s library.\\xa0The Simpsons\\xa0director\\xa0David Silverman\\xa0grew up in the Washington area so he was able to help out with the designs.[8]\\xa0Marge\\'s voice actor,\\xa0Julie Kavner, said she loved the charm of the family \"just being on a trip and experiencing the hotel room they\\'re staying at, and the integrity of Bart\\'s character. You know, you just want to kill him for doing all those tricks and pranks.\"[9]\\xa0Jean believes this is one of the secrets of the show\\'s success, the fact that it is about a family and the writers can use experiences from their own or their family\\'s life as an inspiration in their writing. He thought \"Mr. Lisa Goes to Washington\" was a perfectly constructed episode in that sense.[5]\\nCultural references[edit]\\n\\n\\nLisa seeks advice from the\\xa0Abraham Lincoln statue\\xa0at the\\xa0Lincoln Memorial.\\nThe title and plot of the episode are parodies of the 1939 film\\xa0Mr. Smith Goes to Washington,[10]\\xa0in which the character Jefferson Smith comes to Washington with patriotic enthusiasm, but is instead shocked to see evidence of corruption in the government.[11][12]\\xa0The Tampa Tribune\\'s Curtis Ross called this reference one of the best film references in\\xa0The Simpsons\\'\\xa0history.[13]\\xa0Lisa\\'s visit to the\\xa0Lincoln Memorial\\xa0is a direct reference to\\xa0Mr. Smith Goes to Washington, in which Smith appeals to\\xa0Lincoln\\'s statue\\xa0for inspiration like Lisa did in the episode.[14]\\xa0In his book\\xa0Abraham Lincoln in the Post-Heroic Era, Barry Schwartz writes that the scene with Lisa at the crowded monument shows how \"thoroughly Lincoln\\'s moral and emotional significance has waned\".[15]\\xa0Mark Reinhart writes in the book\\xa0Abraham Lincoln on Screen\\xa0that the scene sums up \"with brilliant wit\" the American society\\'s \"annoying and ultimately useless tendency to ask [themselves] \\'What would Lincoln have done?\\' whenever [they] face a political or social dilemma\".[16]\\xa0Mr. Smith Goes to Washington\\xa0was once again referenced on\\xa0The Simpsons\\xa0in the\\xa0season fourteen\\xa0episode \"Mr. Spritz Goes to Washington\".[11]\\n\\n\\nThe family visit the\\xa0White House, where they meet then\\xa0First Lady\\xa0Barbara Bush.\\nIn addition to the Lincoln Memorial, other Washington, D.C. landmarks visited include the\\xa0Jefferson Memorial,[16][17]\\xa0the\\xa0Watergate Hotel\\xa0(where the family stays),[18]\\xa0the\\xa0Kennedy Center for the Performing Arts,[2]\\xa0the\\xa0White House,[19]\\xa0the\\xa0National Air and Space Museum, and the\\xa0Washington Monument.[5]\\xa0When the family visits the White House, they encounter then-First Lady\\xa0Barbara Bush\\xa0in the bathtub of one of the many bathrooms.[19]\\xa0Another American landmark mentioned in the episode is\\xa0Mount Rushmore.[1]\\xa0In addition, Lisa proposes that the family attend the memorial of the fictional Winifred Beecher Howe, an early crusader for women\\'s rights who later appeared on the unpopular 75-cent coins, according to Lisa. This is a reference to the\\xa0Susan B. Anthony dollar, which was minted for only three years and never became popular.[20]\\nThe episode makes references to several real-life persons. The piano-playing satirist who annoys Bart is a reference to\\xa0Mark Russell.[5]\\xa0Bob Arnold, the corrupt congressman, tells Lisa that there are quite a few women senators, but Lisa asserts that there are only two. (At the time, there were indeed only two,\\xa0Nancy Landon Kassebaum\\xa0of Kansas and\\xa0Barbara Mikulski\\xa0of Maryland.)[1]\\xa0Then-President\\xa0George H. W. Bush\\xa0is featured briefly in the episode. Shortly after it aired, Bush disparaged\\xa0The Simpsons\\xa0in a speech during his re-election campaign on January 27, 1992. At that point, family values were the cornerstone of Bush\\'s campaign platform, so he gave the following speech at the\\xa0National Religious Broadcasters\\' convention in Washington: \"We are going to keep on trying to strengthen the American family, to make American families a lot more like\\xa0the Waltons\\xa0and a lot less like the Simpsons.\"[21]\\xa0As a result, Bush appeared in future episodes in a more negative light.[21]\\nThemes and analysis[edit]\\n\\n\\nLisa\\'s role in the episode has been compared to\\xa0Henry David Thoreau.\\n\"Mr. Lisa Goes to Washington\" has been labeled as a satire on American politics. Michael Bitzer, in an edited book by Joseph Foy and Stanley Schultz entitled\\xa0Homer Simpson Goes to Washington, said this episode \"espouses the virtues, vices, and varieties of American political culture, public opinion, and ultimately the\\xa0American Dream\".[22]\\xa0Bitzer also wrote that\\xa0The Simpsons, through \"skillful\" use of satire, demonstrates with this episode \"insights into the underlying political culture and public opinion of the United States\\' governing system (and, more broadly, society at large)\".[22]\\xa0In his book\\xa0Gilligan Unbound: Pop Culture in the Age of Globalization, Paul Arthur Cantor said he was amazed by how far the episode was \"willing to take its corrosive satire of national politics\".[23]\\xa0He said it \"attacks the federal government at its foundation, the patriotic myths upon which its legitimacy lies. It makes fun of the very process by which patriotism is inculcated in the nation\\'s youth, the hokey contests that lead children to outdo each other in progovernment effusions.\"[23]\\xa0When the corrupt congressman is arrested, Lisa proclaims \"The system works!\" Benedict Anderson wrote in the book\\xa0The Spectre of Comparisons\\xa0that series creator Matt Groening \"assumes that his tickled audience is confident that the system barely works [...] So why does he need to show a patriot at all, especially one who is a deluded little female block-head? Probably because he, too, wishes to be seen as giving America another chance. Mr. Lisa guarantees his good intentions.\"[10]\\nGünter Beck, a lecturer for the\\xa0German Academic Exchange Service\\xa0(DAAD) at the Haifa Center for German and European Studies at the\\xa0University of Haifa\\xa0in Israel, compared Lisa\\'s role in the episode to the nineteenth-century American poet and philosopher\\xa0Henry David Thoreau. He writes that Lisa stands up against the public\\'s indifference towards the political system that Thoreau criticized, and comments that the emphasis should be \"on the brave moral decision to stand up for principles and against the broad public. By this courageous act, \\'to do what is right\\', an individual could save the well-being of the whole community. And indeed, Lisa\\'s bravery is the impulse for the state\\'s representatives to carry out their democratic obligations, so she can gladly notice \\'The system works!\\' — her trust in democracy and its institutions is restored. Thoreau on the other hand, had no lasting trust in the system but only in the people themselves and in the individual\\'s capacity to realize development and democracy.\"[24]\\nReception[edit]\\nBroadcast and re-releases[edit]\\n\"Mr. Lisa Goes to Washington\" originally aired on the Fox network in the United States on September 26, 1991.[1]\\xa0The episode finished 36th in the ratings for the week of September 23–29, 1991, with a\\xa0Nielsen rating\\xa0of 12.9, equivalent to approximately 11.9 million viewing households.\\xa0The Simpsons\\xa0was the third highest-rated show on Fox that week, following\\xa0Married... with Children\\xa0and\\xa0In Living Color.[25]\\xa0\"Mr. Lisa Goes to Washington\" and the episode \"When Flanders Failed\" were released on videocassette in 1999, entitled\\xa0The Best of the Simpsons.[26]\\xa0The episode was later included on the\\xa0Simpsons\\xa0season three DVD set that was released on August 26, 2003. Wes Archer, David Silverman, Matt Groening, Al Jean, Mike Reiss, and Julie Kavner participated in the DVD\\'s\\xa0audio commentary\\xa0of the episode.[27]\\nCritical reviews[edit]\\nSince airing, the episode has received mostly positive reviews from television critics. The authors of the book\\xa0I Can\\'t Believe It\\'s a Bigger and Better Updated Unofficial Simpsons Guide, Warren Martyn and Adrian Wood, praised the episode for being one of the best Lisa-centric episodes, and called Lisa\\'s talk with\\xa0Thomas Jefferson\\xa0and her nightmare vision of politicians as pigs \"especially worthy of note\".[28]\\xa0Nate Meyers of Digitally Obsessed gave the episode a 4.5 rating and said it is one of the best episodes featuring Lisa, \"complete with poignant observations about politics\".[29]\\xa0He particularly enjoyed the appearance of Barbara Bush at the White House.[29]\\nThe\\xa0Austin American-Statesman\\'s Steven Stein said this was the first episode of\\xa0The Simpsons\\xa0he saw. Even though he did not understand half the pop culture references, by the end of the episode he was a \"Simpsons\\xa0convert\".[18]\\xa0He thought there was \"something exotic about an issue as serious as political corruption being dealt with in a cartoon and being interrupted by jokes about beer and, yes, doughnuts\".[18]\\xa0The episode was praised for its political satire. Bill Gibron of DVD Verdict called the episode a \"biting political satire in the guise of a children\\'s oratory contest [which] signifies that this season of the series will be all over the map, both emotionally and logically\".[30]\\xa0Gibron added: \"Everything, from the\\xa0Reader\\'s Digest\\xa0rants to the formulaic speeches of the youths, has a resounding ring of truth. And once the story moves to Washington D.C, our nation\\'s capital is in for a royal reaming as well.\"[30]\\nBryce Wilson of Cinema Blend said the episode solidified the series\\' politically satirical voice as it \"bitch slapped the Bush administration\" that\\xa0would later badmouth\\xa0The Simpsons.[31]\\xa0DVD Movie Guide\\'s Colin Jacobson, however, gave the episode a more negative review, stating that it \"has its moments but never seems like one of the series\\' better programs. Part of that stems from its somewhat icky ending. The show exhibits a tone that feels more appropriate to a less biting and cynical series. It starts well with Homer\\'s obsession with\\xa0Reading Digest. After that, the show seems more erratic, and it remains pretty average overall.\"[32]\\nResponse from the timber industry[edit]\\nAccording to\\xa0The Plain Dealer\\'s Rodney Ferguson, the\\xa0timber industry\\xa0was insulted by the scene in which a timber industry lobbyist offers a bribe to the corrupt congressman so that he can demolish Springfield Forest. The Oregon Lands Coalition, a pro-timber group in\\xa0Salem, Oregon, \"bombarded\" the producers of the show with phone calls and mail protesting the episode.[33]\\xa0The coalition said it portrayed loggers unfairly and is \"allowing itself to be used by environmental extremists\".[2]\\xa0In an open letter to\\xa0The Simpsons\\xa0executive producer\\xa0James L. Brooks, the coalition wrote: \"Rather than approach this issue with genuine concern for Mother Earth, you took an easy shot at hard-working people whose only crime is [having been] born in a timber town.\"[2]\\xa0Karen Clark, a payroll clerk for a timber company in\\xa0Stayton, Oregon, said: \"The Simpsons\\xa0portrayed us as greedy, bribery-type people. It didn\\'t portray us as the everyday people—mothers, fathers, good members of society—that we are.\"[33]\\xa0Luke Popovich, vice president of the American Forest Council, wrote a letter to the show\\'s producer to protest \"the fuzzy-headed characterizations that pass for political correctness, the thinking in Hollywood where people are not very serious about these issues, but interested in pushing the right hot buttons, scoring the right points with audiences\".[33]\\n\\n\\nMatt Groening, creator of\\xa0The Simpsons, responded to the criticism of the episode.\\nThe Simpsons\\xa0creator Matt Groening responded to the criticism in an interview with\\xa0TV Guide, in which he said he did \"research on the ecological damage caused by clear-cutting and over-logging [and] it\\'s really appalling\".[33]\\xa0Jackie Lang, a timber industry activist in Salem who helped lead the protest against the Fox network and Groening, said she was appalled by Groening\\'s response, and \"He will be sorry he ever made it.\"[33]\\xa0Jake Hogan, supervising producer of the show, defended Groening: \"[The episodes] are just little stories, little comedies—stories that make people laugh.\"[33]\\xa0On October 15, 1991, Groening issued another statement to the public, in which he said: \"So now a few lumber companies have joined the nuclear power industry, right-wing preachers and high-ranking Republicans in attacking\\xa0The Simpsons. We must be doing something right. I must point out\\xa0The Simpsons\\xa0is a cartoon show—not\\xa060 Minutes. Later in the show, the same lobbyist proposed drilling for oil in\\xa0Teddy Roosevelt\\'s head at Mount Rushmore. Please don\\'t tell the oil companies about this.\"[34]\\nDavid Reinhard of\\xa0The Oregonian\\xa0commented on the criticism: \"Hollywood sharpsters can always make a group from the great American hinterland look ridiculous when it zeroes in on one show, particularly if that show is a cartoon. And the Oregon Lands Coalition\\'s protest was a bit of an overreaction. But the environmental sloganeering of\\xa0The Simpsons\\xa0as well as Groening\\'s cartoon commentary are symptomatic of a Hollywood and a popular culture that are hostile to the concerns and values of most Americans.\"[34]\\xa0After the episode aired, media researchers Robert Lichter and Linda S. Lichter found in a study of prime-time television that when shows dealt with business themes, 89 percent portrayed businessmen as swindlers or liars.[34]\\nThe same day Groening released his second statement,\\xa0The Simpsons\\xa0publicist Antonia Coffman was invited by Wayne Giesy, sales manager of Hull-Oakes Lumber Co. in\\xa0Bellfountain, Oregon, to visit Oregon and see \"responsible timber management\".[2]\\xa0Giesy said they wanted to show the producers \"how we log, how we manufacture, what goods we produce for everyone and how we replant for future generations. What most timber companies are interested in is a balanced program.\"[2]\\n'"
            ],
            "application/vnd.google.colaboratory.intrinsic+json": {
              "type": "string"
            }
          },
          "metadata": {},
          "execution_count": 34
        }
      ]
    },
    {
      "cell_type": "code",
      "source": [
        "def testTokenzination():\n",
        "    index = InvertedIndex() # initilaise the index\n",
        "    corpus = index.read_data('/content/drive/MyDrive/Colab Notebooks/Simpsons2022') # specify the directory path in which files are located\n",
        "    text = (corpus[1]).string\n",
        "    text = wikipediaPreprocessing(text)\n",
        "    tokenized = split_into_words = nltk.tokenize.wordpunct_tokenize(text)\n",
        "    return tokenized\n",
        "    \n",
        "testTokenzination()[:20]"
      ],
      "metadata": {
        "colab": {
          "base_uri": "https://localhost:8080/"
        },
        "id": "ZJGAK55tDxZB",
        "outputId": "5bde445b-edfe-49e8-8218-c9bd4788ebc6"
      },
      "execution_count": 35,
      "outputs": [
        {
          "output_type": "stream",
          "name": "stdout",
          "text": [
            "simpsons_characters - row.csv will be skipped\n",
            "simpsons_locations row.csv will be skipped\n",
            "118\n"
          ]
        },
        {
          "output_type": "execute_result",
          "data": {
            "text/plain": [
              "['Mr',\n",
              " 'Lisa',\n",
              " 'Goes',\n",
              " 'to',\n",
              " 'Washington',\n",
              " 'From',\n",
              " 'Wikipedia',\n",
              " 'the',\n",
              " 'free',\n",
              " 'encyclopedia',\n",
              " 'Jump',\n",
              " 'to',\n",
              " 'navigation',\n",
              " 'Jump',\n",
              " 'to',\n",
              " 'search',\n",
              " 'Mr',\n",
              " 'Lisa',\n",
              " 'Goes',\n",
              " 'to']"
            ]
          },
          "metadata": {},
          "execution_count": 35
        }
      ]
    },
    {
      "cell_type": "code",
      "source": [
        "def testStemming():\n",
        "    index = InvertedIndex() # initilaise the index\n",
        "    corpus = index.read_data('/content/drive/MyDrive/Colab Notebooks/Simpsons2022') # specify the directory path in which files are located\n",
        "    text = (corpus[1]).string\n",
        "    text = wikipediaPreprocessing(text)\n",
        "    tokenized = split_into_words = nltk.tokenize.wordpunct_tokenize(text)\n",
        "    output = []\n",
        "    for token in tokenized:\n",
        "      output.append(porter.stem(token))\n",
        "    return output\n",
        "    \n",
        "testStemming()[:20]"
      ],
      "metadata": {
        "colab": {
          "base_uri": "https://localhost:8080/"
        },
        "id": "_4Mdql5Ghha6",
        "outputId": "70319dd3-d54e-4f2b-c1d9-24090cc8086a"
      },
      "execution_count": 36,
      "outputs": [
        {
          "output_type": "stream",
          "name": "stdout",
          "text": [
            "simpsons_characters - row.csv will be skipped\n",
            "simpsons_locations row.csv will be skipped\n",
            "118\n"
          ]
        },
        {
          "output_type": "execute_result",
          "data": {
            "text/plain": [
              "['mr',\n",
              " 'lisa',\n",
              " 'goe',\n",
              " 'to',\n",
              " 'washington',\n",
              " 'from',\n",
              " 'wikipedia',\n",
              " 'the',\n",
              " 'free',\n",
              " 'encyclopedia',\n",
              " 'jump',\n",
              " 'to',\n",
              " 'navig',\n",
              " 'jump',\n",
              " 'to',\n",
              " 'search',\n",
              " 'mr',\n",
              " 'lisa',\n",
              " 'goe',\n",
              " 'to']"
            ]
          },
          "metadata": {},
          "execution_count": 36
        }
      ]
    },
    {
      "cell_type": "code",
      "execution_count": 37,
      "metadata": {
        "colab": {
          "base_uri": "https://localhost:8080/"
        },
        "id": "3n4tuVF-zqE9",
        "outputId": "192fa970-89f0-4a57-d4ce-7cd73b574819"
      },
      "outputs": [
        {
          "output_type": "stream",
          "name": "stdout",
          "text": [
            "simpsons_characters - row.csv will be skipped\n",
            "simpsons_locations row.csv will be skipped\n",
            "118\n",
            "First 10 of sorted_token_list: [1: 3.1.txt, 1: 3.1.txt, 1: 3.10.txt, 1: 3.17.txt, 1: 3.18.txt, 1: 3.3.txt, 1: 3.5.txt, 1: 4.1.txt, 1: 4.14.txt, 1: 4.18.txt]\n",
            "It took: 6.0889 seconds to index the whole corpus.\n",
            "It has 10436 entries in total.\n"
          ]
        }
      ],
      "source": [
        "def main():\n",
        "    \"main call function\"\n",
        "    index = InvertedIndex() # initilaise the index\n",
        "    corpus = index.read_data('/content/drive/MyDrive/Colab Notebooks/Simpsons2022') # specify the directory path in which files are located\n",
        "    index.index_corpus(corpus) # index documents/corpus\n",
        "    return index\n",
        "    \n",
        "index = main()"
      ]
    },
    {
      "cell_type": "code",
      "source": [
        "dump_list = [\"Bart\",\n",
        "  \"first\",\n",
        "  \"image\",\n",
        "  \"montage\",\n",
        "  \"well\",\n",
        "  \"top\",\n",
        "  \"arguably\",\n",
        "  \"best\",\n",
        "  \"number\",\n",
        "  \"humor\",\n",
        "  \"dollarydoos\",\n",
        "  \"Bart Simpson\",\n",
        "  \"Gordie Howe\",\n",
        "  \"recalled\",\n",
        "  \"Bart the Lover\"]\n",
        "index.dump(dump_list)"
      ],
      "metadata": {
        "id": "G94h70akKT-Q",
        "colab": {
          "base_uri": "https://localhost:8080/"
        },
        "outputId": "272131ca-5ed3-40aa-8787-09d939c4204c"
      },
      "execution_count": 38,
      "outputs": [
        {
          "output_type": "stream",
          "name": "stdout",
          "text": [
            "Match for Bart: [('3.1.txt', 147), ('3.1.txt', 292), ('3.1.txt', 323), ('3.1.txt', 373), ('3.1.txt', 395), ('3.1.txt', 400), ('3.1.txt', 413), ('3.1.txt', 427), ('3.1.txt', 575), ('3.1.txt', 585), ('3.1.txt', 846), ('3.1.txt', 849), ('3.1.txt', 1075), ('3.1.txt', 1096), ('3.1.txt', 1203), ('3.1.txt', 1737), ('3.1.txt', 1770), ('3.10.txt', 928), ('3.10.txt', 1092), ('3.10.txt', 1217), ('3.10.txt', 1295), ('3.11.txt', 422), ('3.11.txt', 613), ('3.11.txt', 707), ('3.11.txt', 735), ('3.12.txt', 105), ('3.12.txt', 145), ('3.12.txt', 151), ('3.12.txt', 214), ('3.12.txt', 240), ('3.12.txt', 247), ('3.12.txt', 276), ('3.12.txt', 281), ('3.12.txt', 486), ('3.12.txt', 489), ('3.12.txt', 507), ('3.12.txt', 562), ('3.12.txt', 662), ('3.13.txt', 1), ('3.13.txt', 10), ('3.13.txt', 77), ('3.13.txt', 97), ('3.13.txt', 121), ('3.13.txt', 132), ('3.13.txt', 165), ('3.13.txt', 203), ('3.13.txt', 206), ('3.13.txt', 216), ('3.13.txt', 241), ('3.13.txt', 288), ('3.13.txt', 300), ('3.13.txt', 306), ('3.13.txt', 318), ('3.13.txt', 324), ('3.13.txt', 348), ('3.13.txt', 361), ('3.13.txt', 377), ('3.13.txt', 614), ('3.13.txt', 691), ('3.13.txt', 713), ('3.13.txt', 772), ('3.13.txt', 809), ('3.13.txt', 883), ('3.13.txt', 887), ('3.13.txt', 919), ('3.13.txt', 936), ('3.13.txt', 1099), ('3.13.txt', 1110), ('3.14.txt', 80), ('3.14.txt', 381), ('3.14.txt', 401), ('3.15.txt', 72), ('3.15.txt', 117), ('3.15.txt', 145), ('3.15.txt', 284), ('3.15.txt', 309), ('3.15.txt', 397), ('3.15.txt', 529), ('3.15.txt', 554), ('3.15.txt', 567), ('3.15.txt', 709), ('3.16.txt', 0), ('3.16.txt', 8), ('3.16.txt', 71), ('3.16.txt', 92), ('3.16.txt', 104), ('3.16.txt', 139), ('3.16.txt', 170), ('3.16.txt', 221), ('3.16.txt', 234), ('3.16.txt', 246), ('3.16.txt', 275), ('3.16.txt', 294), ('3.16.txt', 310), ('3.16.txt', 323), ('3.16.txt', 334), ('3.16.txt', 343), ('3.16.txt', 391), ('3.16.txt', 470), ('3.16.txt', 482), ('3.16.txt', 490), ('3.16.txt', 595), ('3.16.txt', 615), ('3.16.txt', 672), ('3.16.txt', 693), ('3.16.txt', 782), ('3.16.txt', 883), ('3.16.txt', 939), ('3.16.txt', 956), ('3.16.txt', 1015), ('3.17.txt', 105), ('3.17.txt', 1017), ('3.18.txt', 36), ('3.18.txt', 50), ('3.18.txt', 122), ('3.18.txt', 155), ('3.18.txt', 222), ('3.18.txt', 242), ('3.18.txt', 250), ('3.18.txt', 281), ('3.18.txt', 285), ('3.18.txt', 298), ('3.18.txt', 371), ('3.18.txt', 380), ('3.18.txt', 420), ('3.18.txt', 461), ('3.18.txt', 603), ('3.18.txt', 630), ('3.18.txt', 659), ('3.18.txt', 678), ('3.18.txt', 814), ('3.18.txt', 848), ('3.18.txt', 922), ('3.18.txt', 947), ('3.18.txt', 958), ('3.18.txt', 972), ('3.19.txt', 149), ('3.19.txt', 239), ('3.19.txt', 264), ('3.19.txt', 347), ('3.19.txt', 364), ('3.19.txt', 374), ('3.19.txt', 756), ('3.19.txt', 771), ('3.19.txt', 1241), ('3.2.txt', 281), ('3.2.txt', 532), ('3.2.txt', 779), ('3.20.txt', 286), ('3.20.txt', 949), ('3.20.txt', 1660), ('3.21.txt', 146), ('3.21.txt', 153), ('3.21.txt', 159), ('3.21.txt', 162), ('3.21.txt', 216), ('3.21.txt', 257), ('3.21.txt', 260), ('3.21.txt', 313), ('3.21.txt', 348), ('3.21.txt', 375), ('3.21.txt', 392), ('3.21.txt', 403), ('3.21.txt', 495), ('3.21.txt', 585), ('3.21.txt', 665), ('3.21.txt', 807), ('3.21.txt', 834), ('3.22.txt', 88), ('3.22.txt', 118), ('3.22.txt', 234), ('3.22.txt', 251), ('3.22.txt', 266), ('3.22.txt', 344), ('3.22.txt', 354), ('3.23.txt', 0), ('3.23.txt', 11), ('3.23.txt', 17), ('3.23.txt', 107), ('3.23.txt', 131), ('3.23.txt', 149), ('3.23.txt', 157), ('3.23.txt', 207), ('3.23.txt', 246), ('3.23.txt', 253), ('3.23.txt', 278), ('3.23.txt', 286), ('3.23.txt', 299), ('3.23.txt', 311), ('3.23.txt', 334), ('3.23.txt', 339), ('3.23.txt', 342), ('3.23.txt', 353), ('3.23.txt', 485), ('3.23.txt', 502), ('3.23.txt', 523), ('3.23.txt', 524), ('3.23.txt', 533), ('3.23.txt', 541), ('3.23.txt', 588), ('3.23.txt', 713), ('3.23.txt', 800), ('3.24.txt', 74), ('3.24.txt', 286), ('3.24.txt', 362), ('3.3.txt', 76), ('3.3.txt', 138), ('3.3.txt', 314), ('3.3.txt', 336), ('3.3.txt', 365), ('3.3.txt', 373), ('3.3.txt', 604), ('3.3.txt', 825), ('3.3.txt', 829), ('3.3.txt', 857), ('3.3.txt', 912), ('3.4.txt', 0), ('3.4.txt', 9), ('3.4.txt', 56), ('3.4.txt', 101), ('3.4.txt', 122), ('3.4.txt', 136), ('3.4.txt', 144), ('3.4.txt', 216), ('3.4.txt', 241), ('3.4.txt', 259), ('3.4.txt', 273), ('3.4.txt', 298), ('3.4.txt', 308), ('3.4.txt', 314), ('3.4.txt', 328), ('3.4.txt', 340), ('3.4.txt', 346), ('3.4.txt', 391), ('3.4.txt', 402), ('3.4.txt', 422), ('3.4.txt', 604), ('3.4.txt', 607), ('3.4.txt', 615), ('3.4.txt', 632), ('3.4.txt', 650), ('3.4.txt', 676), ('3.4.txt', 687), ('3.4.txt', 705), ('3.4.txt', 724), ('3.4.txt', 762), ('3.4.txt', 809), ('3.4.txt', 868), ('3.4.txt', 888), ('3.4.txt', 942), ('3.5.txt', 52), ('3.5.txt', 82), ('3.5.txt', 146), ('3.5.txt', 377), ('3.5.txt', 390), ('3.5.txt', 400), ('3.5.txt', 416), ('3.5.txt', 421), ('3.5.txt', 427), ('3.5.txt', 474), ('3.5.txt', 517), ('3.5.txt', 829), ('3.5.txt', 852), ('3.5.txt', 867), ('3.5.txt', 883), ('3.5.txt', 893), ('3.5.txt', 895), ('3.5.txt', 901), ('3.6.txt', 60), ('3.6.txt', 135), ('3.6.txt', 246), ('3.6.txt', 257), ('3.6.txt', 272), ('3.6.txt', 365), ('3.6.txt', 399), ('3.6.txt', 421), ('3.6.txt', 442), ('3.6.txt', 467), ('3.6.txt', 627), ('3.6.txt', 776), ('3.6.txt', 896), ('3.6.txt', 932), ('3.7.txt', 110), ('3.7.txt', 156), ('3.7.txt', 304), ('3.7.txt', 317), ('3.7.txt', 334), ('3.7.txt', 380), ('3.7.txt', 404), ('3.7.txt', 409), ('3.7.txt', 425), ('3.7.txt', 432), ('3.7.txt', 441), ('3.7.txt', 450), ('3.7.txt', 837), ('3.7.txt', 855), ('3.7.txt', 1006), ('3.7.txt', 1013), ('3.7.txt', 1020), ('3.7.txt', 1051), ('3.7.txt', 1052), ('3.7.txt', 1199), ('3.7.txt', 1221), ('3.8.txt', 45), ('3.8.txt', 336), ('3.9.txt', 108), ('3.9.txt', 113), ('3.9.txt', 122), ('3.9.txt', 139), ('3.9.txt', 214), ('3.9.txt', 222), ('3.9.txt', 237), ('3.9.txt', 261), ('3.9.txt', 269), ('3.9.txt', 275), ('3.9.txt', 284), ('3.9.txt', 296), ('3.9.txt', 313), ('3.9.txt', 328), ('3.9.txt', 375), ('3.9.txt', 383), ('3.9.txt', 451), ('3.9.txt', 467), ('3.9.txt', 479), ('3.9.txt', 643), ('3.9.txt', 700), ('3.9.txt', 874), ('4.1.txt', 125), ('4.1.txt', 139), ('4.1.txt', 150), ('4.1.txt', 156), ('4.1.txt', 165), ('4.1.txt', 173), ('4.1.txt', 238), ('4.1.txt', 269), ('4.1.txt', 281), ('4.1.txt', 286), ('4.1.txt', 295), ('4.1.txt', 398), ('4.1.txt', 639), ('4.10.txt', 19), ('4.10.txt', 21), ('4.10.txt', 221), ('4.10.txt', 310), ('4.10.txt', 324), ('4.10.txt', 330), ('4.10.txt', 340), ('4.10.txt', 346), ('4.10.txt', 349), ('4.10.txt', 467), ('4.10.txt', 479), ('4.10.txt', 519), ('4.10.txt', 527), ('4.10.txt', 538), ('4.10.txt', 1080), ('4.10.txt', 1093), ('4.10.txt', 1107), ('4.10.txt', 1117), ('4.10.txt', 1145), ('4.10.txt', 1156), ('4.10.txt', 1173), ('4.10.txt', 1246), ('4.11.txt', 351), ('4.11.txt', 501), ('4.11.txt', 555), ('4.12.txt', 380), ('4.13.txt', 122), ('4.13.txt', 143), ('4.13.txt', 231), ('4.13.txt', 267), ('4.13.txt', 277), ('4.13.txt', 292), ('4.13.txt', 322), ('4.13.txt', 522), ('4.13.txt', 555), ('4.14.txt', 113), ('4.14.txt', 188), ('4.14.txt', 199), ('4.14.txt', 210), ('4.14.txt', 260), ('4.14.txt', 371), ('4.14.txt', 405), ('4.14.txt', 572), ('4.14.txt', 580), ('4.14.txt', 594), ('4.14.txt', 605), ('4.14.txt', 621), ('4.14.txt', 642), ('4.14.txt', 655), ('4.14.txt', 744), ('4.14.txt', 752), ('4.14.txt', 754), ('4.15.txt', 343), ('4.15.txt', 688), ('4.15.txt', 768), ('4.15.txt', 870), ('4.15.txt', 931), ('4.15.txt', 981), ('4.16.txt', 121), ('4.16.txt', 161), ('4.16.txt', 184), ('4.16.txt', 194), ('4.16.txt', 224), ('4.16.txt', 342), ('4.16.txt', 414), ('4.16.txt', 434), ('4.16.txt', 531), ('4.16.txt', 548), ('4.18.txt', 106), ('4.18.txt', 109), ('4.18.txt', 195), ('4.18.txt', 200), ('4.18.txt', 266), ('4.18.txt', 280), ('4.18.txt', 302), ('4.18.txt', 457), ('4.18.txt', 520), ('4.18.txt', 614), ('4.18.txt', 675), ('4.18.txt', 677), ('4.18.txt', 682), ('4.18.txt', 687), ('4.18.txt', 692), ('4.18.txt', 704), ('4.18.txt', 727), ('4.18.txt', 804), ('4.19.txt', 100), ('4.19.txt', 145), ('4.19.txt', 191), ('4.19.txt', 200), ('4.19.txt', 208), ('4.19.txt', 265), ('4.19.txt', 267), ('4.19.txt', 425), ('4.19.txt', 575), ('4.19.txt', 602), ('4.19.txt', 751), ('4.2.txt', 233), ('4.2.txt', 1042), ('4.2.txt', 1609), ('4.20.txt', 117), ('4.20.txt', 186), ('4.20.txt', 198), ('4.20.txt', 227), ('4.20.txt', 230), ('4.20.txt', 274), ('4.20.txt', 344), ('4.20.txt', 372), ('4.21.txt', 345), ('4.21.txt', 531), ('4.21.txt', 949), ('4.22.txt', 153), ('4.22.txt', 244), ('4.22.txt', 365), ('4.22.txt', 373), ('4.22.txt', 392), ('4.22.txt', 426), ('4.22.txt', 1435), ('4.4.txt', 59), ('4.5.txt', 116), ('4.5.txt', 126), ('4.5.txt', 187), ('4.5.txt', 210), ('4.5.txt', 231), ('4.5.txt', 439), ('4.5.txt', 459), ('4.5.txt', 471), ('4.5.txt', 527), ('4.5.txt', 674), ('4.5.txt', 814), ('4.6.txt', 97), ('4.6.txt', 114), ('4.6.txt', 145), ('4.6.txt', 157), ('4.6.txt', 171), ('4.6.txt', 187), ('4.6.txt', 190), ('4.6.txt', 206), ('4.6.txt', 214), ('4.6.txt', 237), ('4.6.txt', 245), ('4.6.txt', 247), ('4.6.txt', 254), ('4.6.txt', 277), ('4.6.txt', 284), ('4.6.txt', 292), ('4.6.txt', 301), ('4.6.txt', 320), ('4.6.txt', 696), ('4.7.txt', 144), ('4.7.txt', 250), ('4.7.txt', 260), ('4.7.txt', 266), ('4.7.txt', 284), ('4.7.txt', 337), ('4.7.txt', 347), ('4.7.txt', 351), ('4.7.txt', 360), ('4.7.txt', 471), ('4.7.txt', 480), ('4.7.txt', 557), ('4.7.txt', 659), ('4.7.txt', 669), ('4.7.txt', 702), ('4.7.txt', 710), ('4.7.txt', 749), ('4.7.txt', 760), ('4.8.txt', 135), ('4.8.txt', 181), ('4.8.txt', 202), ('4.8.txt', 262), ('4.8.txt', 270), ('4.8.txt', 286), ('4.8.txt', 330), ('4.9.txt', 799), ('5.1.txt', 176), ('5.1.txt', 271), ('5.1.txt', 1037), ('5.1.txt', 1347), ('5.10.txt', 148), ('5.10.txt', 278), ('5.11.txt', 77), ('5.11.txt', 224), ('5.11.txt', 515), ('5.11.txt', 686), ('5.11.txt', 839), ('5.12.txt', 0), ('5.12.txt', 9), ('5.12.txt', 14), ('5.12.txt', 22), ('5.12.txt', 98), ('5.12.txt', 120), ('5.12.txt', 137), ('5.12.txt', 204), ('5.12.txt', 222), ('5.12.txt', 232), ('5.12.txt', 241), ('5.12.txt', 250), ('5.12.txt', 256), ('5.12.txt', 270), ('5.12.txt', 290), ('5.12.txt', 295), ('5.12.txt', 305), ('5.12.txt', 314), ('5.12.txt', 342), ('5.12.txt', 354), ('5.12.txt', 367), ('5.12.txt', 409), ('5.12.txt', 427), ('5.12.txt', 508), ('5.12.txt', 544), ('5.12.txt', 594), ('5.12.txt', 676), ('5.12.txt', 692), ('5.12.txt', 701), ('5.12.txt', 717), ('5.12.txt', 730), ('5.12.txt', 742), ('5.12.txt', 802), ('5.12.txt', 813), ('5.12.txt', 828), ('5.12.txt', 850), ('5.12.txt', 880), ('5.13.txt', 73), ('5.13.txt', 512), ('5.13.txt', 516), ('5.14.txt', 880), ('5.15.txt', 669), ('5.15.txt', 764), ('5.15.txt', 780), ('5.15.txt', 809), ('5.16.txt', 72), ('5.16.txt', 527), ('5.16.txt', 918), ('5.17.txt', 0), ('5.17.txt', 9), ('5.17.txt', 80), ('5.17.txt', 102), ('5.17.txt', 124), ('5.17.txt', 206), ('5.17.txt', 221), ('5.17.txt', 230), ('5.17.txt', 245), ('5.17.txt', 263), ('5.17.txt', 281), ('5.17.txt', 292), ('5.17.txt', 327), ('5.17.txt', 382), ('5.17.txt', 400), ('5.17.txt', 436), ('5.17.txt', 552), ('5.17.txt', 560), ('5.17.txt', 625), ('5.17.txt', 694), ('5.17.txt', 938), ('5.17.txt', 983), ('5.18.txt', 54), ('5.18.txt', 77), ('5.18.txt', 124), ('5.18.txt', 131), ('5.18.txt', 142), ('5.18.txt', 225), ('5.18.txt', 234), ('5.18.txt', 268), ('5.18.txt', 272), ('5.18.txt', 279), ('5.18.txt', 296), ('5.18.txt', 301), ('5.18.txt', 314), ('5.18.txt', 321), ('5.18.txt', 340), ('5.18.txt', 361), ('5.18.txt', 370), ('5.18.txt', 388), ('5.18.txt', 426), ('5.18.txt', 433), ('5.18.txt', 449), ('5.18.txt', 679), ('5.19.txt', 136), ('5.19.txt', 216), ('5.19.txt', 224), ('5.19.txt', 276), ('5.19.txt', 302), ('5.19.txt', 355), ('5.19.txt', 363), ('5.19.txt', 375), ('5.19.txt', 379), ('5.19.txt', 426), ('5.19.txt', 443), ('5.19.txt', 454), ('5.19.txt', 464), ('5.19.txt', 500), ('5.19.txt', 556), ('5.19.txt', 648), ('5.19.txt', 711), ('5.19.txt', 825), ('5.19.txt', 851), ('5.2.txt', 345), ('5.2.txt', 464), ('5.2.txt', 767), ('5.20.txt', 124), ('5.20.txt', 131), ('5.20.txt', 218), ('5.20.txt', 231), ('5.20.txt', 264), ('5.20.txt', 278), ('5.20.txt', 282), ('5.20.txt', 316), ('5.20.txt', 350), ('5.20.txt', 359), ('5.20.txt', 371), ('5.20.txt', 435), ('5.20.txt', 437), ('5.20.txt', 456), ('5.20.txt', 482), ('5.20.txt', 492), ('5.20.txt', 537), ('5.20.txt', 582), ('5.20.txt', 586), ('5.20.txt', 597), ('5.20.txt', 634), ('5.20.txt', 659), ('5.20.txt', 716), ('5.20.txt', 880), ('5.20.txt', 931), ('5.20.txt', 941), ('5.21.txt', 253), ('5.21.txt', 271), ('5.21.txt', 288), ('5.21.txt', 313), ('5.21.txt', 705), ('5.21.txt', 729), ('5.21.txt', 840), ('5.21.txt', 878), ('5.22.txt', 79), ('5.22.txt', 291), ('5.22.txt', 297), ('5.22.txt', 305), ('5.22.txt', 405), ('5.22.txt', 430), ('5.3.txt', 401), ('5.3.txt', 454), ('5.3.txt', 970), ('5.3.txt', 1487), ('5.4.txt', 335), ('5.5.txt', 56), ('5.5.txt', 164), ('5.5.txt', 238), ('5.5.txt', 444), ('5.5.txt', 464), ('5.5.txt', 490), ('5.5.txt', 505), ('5.5.txt', 513), ('5.5.txt', 541), ('5.5.txt', 551), ('5.5.txt', 569), ('5.5.txt', 572), ('5.5.txt', 577), ('5.5.txt', 640), ('5.5.txt', 667), ('5.5.txt', 689), ('5.5.txt', 703), ('5.5.txt', 712), ('5.5.txt', 719), ('5.5.txt', 844), ('5.5.txt', 1023), ('5.5.txt', 1077), ('5.5.txt', 1119), ('5.5.txt', 1174), ('5.5.txt', 1186), ('5.5.txt', 1329), ('5.5.txt', 1336), ('5.5.txt', 1442), ('5.5.txt', 1474), ('5.5.txt', 1577), ('5.6.txt', 75), ('5.6.txt', 227), ('5.7.txt', 0), ('5.7.txt', 9), ('5.7.txt', 88), ('5.7.txt', 126), ('5.7.txt', 132), ('5.7.txt', 141), ('5.7.txt', 157), ('5.7.txt', 240), ('5.7.txt', 263), ('5.7.txt', 291), ('5.7.txt', 320), ('5.7.txt', 364), ('5.7.txt', 367), ('5.7.txt', 379), ('5.7.txt', 389), ('5.7.txt', 395), ('5.7.txt', 444), ('5.7.txt', 471), ('5.7.txt', 905), ('5.8.txt', 81), ('5.8.txt', 116), ('5.8.txt', 128), ('5.8.txt', 198), ('5.8.txt', 224), ('5.8.txt', 236), ('5.8.txt', 267), ('5.8.txt', 283), ('5.8.txt', 335), ('5.8.txt', 351), ('5.8.txt', 482), ('5.8.txt', 549), ('5.8.txt', 580), ('5.8.txt', 770), ('5.8.txt', 892), ('5.8.txt', 912), ('5.9.txt', 55), ('5.9.txt', 147), ('5.9.txt', 316), ('5.9.txt', 326), ('5.9.txt', 341), ('5.9.txt', 353), ('5.9.txt', 382), ('5.9.txt', 391), ('5.9.txt', 689), ('5.9.txt', 1314), ('6.1.txt', 0), ('6.1.txt', 8), ('6.1.txt', 80), ('6.1.txt', 101), ('6.1.txt', 140), ('6.1.txt', 170), ('6.1.txt', 179), ('6.1.txt', 205), ('6.1.txt', 218), ('6.1.txt', 227), ('6.1.txt', 255), ('6.1.txt', 282), ('6.1.txt', 294), ('6.1.txt', 359), ('6.1.txt', 385), ('6.1.txt', 417), ('6.1.txt', 420), ('6.1.txt', 440), ('6.1.txt', 471), ('6.1.txt', 476), ('6.1.txt', 635), ('6.1.txt', 727), ('6.1.txt', 751), ('6.1.txt', 797), ('6.1.txt', 916), ('6.10.txt', 52), ('6.10.txt', 303), ('6.10.txt', 343), ('6.10.txt', 346), ('6.10.txt', 484), ('6.10.txt', 493), ('6.12.txt', 302), ('6.13.txt', 70), ('6.13.txt', 337), ('6.14.txt', 0), ('6.14.txt', 8), ('6.14.txt', 74), ('6.14.txt', 95), ('6.14.txt', 121), ('6.14.txt', 138), ('6.14.txt', 153), ('6.14.txt', 633), ('6.14.txt', 644), ('6.15.txt', 80), ('6.15.txt', 84), ('6.16.txt', 0), ('6.16.txt', 9), ('6.16.txt', 84), ('6.16.txt', 106), ('6.16.txt', 113), ('6.16.txt', 132), ('6.16.txt', 145), ('6.16.txt', 163), ('6.16.txt', 186), ('6.16.txt', 198), ('6.16.txt', 208), ('6.16.txt', 226), ('6.16.txt', 242), ('6.16.txt', 245), ('6.16.txt', 265), ('6.16.txt', 273), ('6.16.txt', 288), ('6.16.txt', 296), ('6.16.txt', 307), ('6.16.txt', 327), ('6.16.txt', 334), ('6.16.txt', 346), ('6.16.txt', 372), ('6.16.txt', 376), ('6.16.txt', 401), ('6.16.txt', 522), ('6.16.txt', 617), ('6.16.txt', 648), ('6.16.txt', 693), ('6.16.txt', 761), ('6.16.txt', 826), ('6.16.txt', 852), ('6.16.txt', 1101), ('6.17.txt', 74), ('6.17.txt', 120), ('6.17.txt', 154), ('6.17.txt', 357), ('6.17.txt', 373), ('6.17.txt', 386), ('6.17.txt', 397), ('6.17.txt', 406), ('6.17.txt', 441), ('6.17.txt', 487), ('6.17.txt', 547), ('6.17.txt', 806), ('6.18.txt', 633), ('6.18.txt', 641), ('6.18.txt', 650), ('6.18.txt', 658), ('6.18.txt', 787), ('6.19.txt', 196), ('6.19.txt', 451), ('6.19.txt', 489), ('6.19.txt', 500), ('6.19.txt', 526), ('6.2.txt', 72), ('6.2.txt', 282), ('6.2.txt', 452), ('6.2.txt', 476), ('6.2.txt', 802), ('6.20.txt', 268), ('6.20.txt', 291), ('6.20.txt', 314), ('6.20.txt', 334), ('6.20.txt', 346), ('6.20.txt', 587), ('6.21.txt', 109), ('6.22.txt', 121), ('6.22.txt', 133), ('6.22.txt', 275), ('6.22.txt', 289), ('6.22.txt', 300), ('6.22.txt', 313), ('6.22.txt', 329), ('6.22.txt', 351), ('6.22.txt', 405), ('6.22.txt', 412), ('6.22.txt', 419), ('6.22.txt', 454), ('6.22.txt', 469), ('6.22.txt', 482), ('6.22.txt', 779), ('6.22.txt', 940), ('6.22.txt', 949), ('6.22.txt', 1166), ('6.23.txt', 313), ('6.23.txt', 702), ('6.24.txt', 162), ('6.24.txt', 211), ('6.24.txt', 223), ('6.24.txt', 259), ('6.24.txt', 301), ('6.24.txt', 362), ('6.24.txt', 431), ('6.24.txt', 448), ('6.24.txt', 575), ('6.25.txt', 401), ('6.25.txt', 454), ('6.25.txt', 970), ('6.25.txt', 1487), ('6.3.txt', 455), ('6.3.txt', 461), ('6.3.txt', 539), ('6.3.txt', 602), ('6.4.txt', 118), ('6.4.txt', 134), ('6.4.txt', 163), ('6.4.txt', 169), ('6.4.txt', 188), ('6.4.txt', 214), ('6.4.txt', 539), ('6.4.txt', 659), ('6.5.txt', 132), ('6.5.txt', 221), ('6.5.txt', 243), ('6.5.txt', 282), ('6.5.txt', 298), ('6.5.txt', 328), ('6.5.txt', 364), ('6.5.txt', 392), ('6.6.txt', 88), ('6.6.txt', 252), ('6.6.txt', 289), ('6.6.txt', 369), ('6.6.txt', 462), ('6.6.txt', 587), ('6.6.txt', 604), ('6.6.txt', 613), ('6.6.txt', 634), ('6.6.txt', 639), ('6.6.txt', 677), ('6.7.txt', 0), ('6.7.txt', 8), ('6.7.txt', 90), ('6.7.txt', 115), ('6.7.txt', 121), ('6.7.txt', 141), ('6.7.txt', 161), ('6.7.txt', 199), ('6.7.txt', 210), ('6.7.txt', 222), ('6.7.txt', 232), ('6.7.txt', 238), ('6.7.txt', 250), ('6.7.txt', 259), ('6.7.txt', 281), ('6.7.txt', 286), ('6.7.txt', 297), ('6.7.txt', 305), ('6.7.txt', 341), ('6.7.txt', 346), ('6.7.txt', 360), ('6.7.txt', 374), ('6.7.txt', 389), ('6.7.txt', 466), ('6.7.txt', 483), ('6.7.txt', 509), ('6.7.txt', 586), ('6.7.txt', 611), ('6.7.txt', 687), ('6.7.txt', 701), ('6.7.txt', 725), ('6.7.txt', 728), ('6.7.txt', 749), ('6.7.txt', 795), ('6.7.txt', 807), ('6.7.txt', 828), ('6.7.txt', 845), ('6.7.txt', 873), ('6.7.txt', 901), ('6.7.txt', 952), ('6.7.txt', 962), ('6.7.txt', 966), ('6.7.txt', 990), ('6.8.txt', 64), ('6.8.txt', 103), ('6.8.txt', 174), ('6.8.txt', 184), ('6.8.txt', 226), ('6.8.txt', 240), ('6.8.txt', 247), ('6.8.txt', 257), ('6.8.txt', 376), ('6.8.txt', 473), ('6.8.txt', 509), ('6.8.txt', 610), ('6.8.txt', 724), ('6.9.txt', 139), ('6.9.txt', 467), ('7.1.txt', 401), ('7.1.txt', 454), ('7.1.txt', 970), ('7.1.txt', 1487), ('7.10.txt', 898), ('7.10.txt', 902), ('7.10.txt', 929), ('7.11.txt', 117), ('7.11.txt', 126), ('7.11.txt', 173), ('7.11.txt', 193), ('7.11.txt', 206), ('7.11.txt', 227), ('7.11.txt', 238), ('7.11.txt', 255), ('7.11.txt', 266), ('7.11.txt', 278), ('7.11.txt', 288), ('7.11.txt', 297), ('7.11.txt', 312), ('7.11.txt', 322), ('7.11.txt', 333), ('7.11.txt', 346), ('7.11.txt', 358), ('7.11.txt', 545), ('7.11.txt', 564), ('7.11.txt', 649), ('7.11.txt', 663), ('7.11.txt', 678), ('7.11.txt', 741), ('7.11.txt', 801), ('7.12.txt', 124), ('7.12.txt', 296), ('7.12.txt', 317), ('7.12.txt', 667), ('7.12.txt', 673), ('7.13.txt', 38), ('7.13.txt', 128), ('7.13.txt', 186), ('7.13.txt', 187), ('7.13.txt', 205), ('7.13.txt', 216), ('7.13.txt', 233), ('7.13.txt', 247), ('7.13.txt', 277), ('7.13.txt', 294), ('7.13.txt', 459), ('7.13.txt', 470), ('7.13.txt', 853), ('7.13.txt', 881), ('7.13.txt', 899), ('7.13.txt', 1037), ('7.14.txt', 74), ('7.15.txt', 0), ('7.15.txt', 11), ('7.15.txt', 91), ('7.15.txt', 112), ('7.15.txt', 130), ('7.15.txt', 188), ('7.15.txt', 196), ('7.15.txt', 208), ('7.15.txt', 220), ('7.15.txt', 228), ('7.15.txt', 275), ('7.15.txt', 279), ('7.15.txt', 298), ('7.15.txt', 331), ('7.15.txt', 615), ('7.15.txt', 645), ('7.15.txt', 677), ('7.15.txt', 698), ('7.15.txt', 747), ('7.15.txt', 760), ('7.16.txt', 69), ('7.18.txt', 25), ('7.18.txt', 169), ('7.18.txt', 178), ('7.18.txt', 217), ('7.18.txt', 289), ('7.18.txt', 296), ('7.18.txt', 311), ('7.18.txt', 335), ('7.18.txt', 350), ('7.18.txt', 366), ('7.18.txt', 386), ('7.18.txt', 399), ('7.18.txt', 409), ('7.18.txt', 441), ('7.18.txt', 469), ('7.18.txt', 518), ('7.18.txt', 536), ('7.18.txt', 602), ('7.18.txt', 686), ('7.18.txt', 707), ('7.18.txt', 717), ('7.18.txt', 830), ('7.18.txt', 1175), ('7.18.txt', 1328), ('7.18.txt', 1360), ('7.19.txt', 76), ('7.2.txt', 120), ('7.2.txt', 122), ('7.2.txt', 211), ('7.2.txt', 223), ('7.2.txt', 295), ('7.2.txt', 306), ('7.2.txt', 323), ('7.2.txt', 335), ('7.2.txt', 340), ('7.2.txt', 368), ('7.2.txt', 787), ('7.20.txt', 0), ('7.20.txt', 25), ('7.20.txt', 90), ('7.20.txt', 111), ('7.20.txt', 131), ('7.20.txt', 239), ('7.20.txt', 252), ('7.20.txt', 274), ('7.20.txt', 325), ('7.20.txt', 345), ('7.20.txt', 368), ('7.20.txt', 379), ('7.20.txt', 382), ('7.20.txt', 401), ('7.20.txt', 411), ('7.20.txt', 424), ('7.20.txt', 469), ('7.20.txt', 514), ('7.20.txt', 652), ('7.20.txt', 655), ('7.20.txt', 744), ('7.20.txt', 818), ('7.20.txt', 832), ('7.20.txt', 853), ('7.20.txt', 958), ('7.21.txt', 123), ('7.21.txt', 280), ('7.21.txt', 287), ('7.21.txt', 310), ('7.21.txt', 502), ('7.22.txt', 173), ('7.22.txt', 175), ('7.22.txt', 240), ('7.22.txt', 291), ('7.22.txt', 344), ('7.22.txt', 352), ('7.22.txt', 381), ('7.22.txt', 392), ('7.22.txt', 408), ('7.22.txt', 431), ('7.22.txt', 461), ('7.22.txt', 470), ('7.22.txt', 482), ('7.22.txt', 822), ('7.23.txt', 72), ('7.24.txt', 192), ('7.24.txt', 264), ('7.25.txt', 120), ('7.25.txt', 122), ('7.25.txt', 211), ('7.25.txt', 223), ('7.25.txt', 295), ('7.25.txt', 306), ('7.25.txt', 323), ('7.25.txt', 335), ('7.25.txt', 340), ('7.25.txt', 368), ('7.25.txt', 787), ('7.3.txt', 52), ('7.3.txt', 87), ('7.3.txt', 193), ('7.3.txt', 232), ('7.3.txt', 246), ('7.3.txt', 294), ('7.3.txt', 483), ('7.3.txt', 541), ('7.3.txt', 623), ('7.3.txt', 660), ('7.4.txt', 0), ('7.4.txt', 9), ('7.4.txt', 14), ('7.4.txt', 83), ('7.4.txt', 105), ('7.4.txt', 129), ('7.4.txt', 215), ('7.4.txt', 242), ('7.4.txt', 250), ('7.4.txt', 251), ('7.4.txt', 270), ('7.4.txt', 275), ('7.4.txt', 281), ('7.4.txt', 311), ('7.4.txt', 320), ('7.4.txt', 334), ('7.4.txt', 343), ('7.4.txt', 354), ('7.4.txt', 358), ('7.4.txt', 369), ('7.4.txt', 422), ('7.4.txt', 609), ('7.4.txt', 664), ('7.4.txt', 695), ('7.4.txt', 746), ('7.4.txt', 770), ('7.4.txt', 814), ('7.4.txt', 843), ('7.4.txt', 854), ('7.4.txt', 871), ('7.4.txt', 874), ('7.4.txt', 886), ('7.4.txt', 924), ('7.4.txt', 951), ('7.4.txt', 962), ('7.4.txt', 973), ('7.4.txt', 986), ('7.4.txt', 991), ('7.4.txt', 1077), ('7.4.txt', 1118), ('7.4.txt', 1140), ('7.4.txt', 1204), ('7.4.txt', 1266), ('7.4.txt', 1274), ('7.4.txt', 1280), ('7.4.txt', 1290), ('7.4.txt', 1299), ('7.5.txt', 71), ('7.5.txt', 245), ('7.5.txt', 319), ('7.6.txt', 458), ('7.6.txt', 496), ('7.6.txt', 527), ('7.6.txt', 536), ('7.6.txt', 544), ('7.6.txt', 553), ('7.6.txt', 570), ('7.6.txt', 629), ('7.6.txt', 688), ('7.6.txt', 696), ('7.6.txt', 702), ('7.6.txt', 1041), ('7.6.txt', 1046), ('7.6.txt', 1051), ('7.6.txt', 1065), ('7.6.txt', 1301), ('7.7.txt', 233), ('7.7.txt', 665), ('7.7.txt', 953), ('7.8.txt', 249), ('7.9.txt', 131), ('7.9.txt', 307), ('7.9.txt', 376), ('7.9.txt', 387), ('7.9.txt', 401), ('7.9.txt', 416)]\n",
            "Match for first: [('3.1.txt', 111), ('3.1.txt', 120), ('3.1.txt', 903), ('3.1.txt', 925), ('3.1.txt', 1473), ('3.1.txt', 1712), ('3.1.txt', 1862), ('3.10.txt', 102), ('3.10.txt', 156), ('3.10.txt', 237), ('3.10.txt', 581), ('3.10.txt', 710), ('3.10.txt', 1208), ('3.10.txt', 1399), ('3.11.txt', 120), ('3.11.txt', 271), ('3.12.txt', 207), ('3.12.txt', 219), ('3.12.txt', 784), ('3.12.txt', 789), ('3.13.txt', 215), ('3.13.txt', 425), ('3.15.txt', 625), ('3.15.txt', 701), ('3.16.txt', 82), ('3.16.txt', 141), ('3.16.txt', 496), ('3.17.txt', 234), ('3.17.txt', 531), ('3.17.txt', 622), ('3.17.txt', 1073), ('3.17.txt', 1257), ('3.18.txt', 336), ('3.18.txt', 365), ('3.18.txt', 595), ('3.19.txt', 55), ('3.19.txt', 903), ('3.19.txt', 938), ('3.2.txt', 144), ('3.2.txt', 423), ('3.2.txt', 472), ('3.2.txt', 689), ('3.2.txt', 1260), ('3.20.txt', 523), ('3.20.txt', 757), ('3.20.txt', 794), ('3.20.txt', 878), ('3.20.txt', 1576), ('3.20.txt', 1634), ('3.21.txt', 540), ('3.21.txt', 550), ('3.22.txt', 108), ('3.22.txt', 162), ('3.22.txt', 178), ('3.22.txt', 430), ('3.22.txt', 442), ('3.22.txt', 468), ('3.3.txt', 423), ('3.3.txt', 468), ('3.4.txt', 157), ('3.4.txt', 242), ('3.4.txt', 461), ('3.4.txt', 582), ('3.4.txt', 892), ('3.4.txt', 925), ('3.5.txt', 181), ('3.5.txt', 455), ('3.5.txt', 483), ('3.5.txt', 509), ('3.5.txt', 532), ('3.5.txt', 548), ('3.5.txt', 556), ('3.5.txt', 607), ('3.5.txt', 686), ('3.6.txt', 156), ('3.6.txt', 581), ('3.7.txt', 89), ('3.7.txt', 121), ('3.7.txt', 222), ('3.7.txt', 330), ('3.7.txt', 587), ('3.7.txt', 1192), ('3.7.txt', 1242), ('3.8.txt', 54), ('3.8.txt', 176), ('3.8.txt', 227), ('3.8.txt', 531), ('3.8.txt', 624), ('3.8.txt', 745), ('3.9.txt', 332), ('4.1.txt', 80), ('4.1.txt', 365), ('4.1.txt', 469), ('4.1.txt', 477), ('4.1.txt', 650), ('4.10.txt', 1), ('4.10.txt', 11), ('4.10.txt', 17), ('4.10.txt', 89), ('4.10.txt', 100), ('4.10.txt', 118), ('4.10.txt', 125), ('4.10.txt', 132), ('4.10.txt', 189), ('4.10.txt', 212), ('4.10.txt', 338), ('4.10.txt', 379), ('4.10.txt', 382), ('4.10.txt', 401), ('4.10.txt', 542), ('4.10.txt', 741), ('4.10.txt', 904), ('4.10.txt', 989), ('4.10.txt', 1003), ('4.10.txt', 1044), ('4.10.txt', 1149), ('4.10.txt', 1208), ('4.11.txt', 71), ('4.12.txt', 204), ('4.12.txt', 476), ('4.12.txt', 492), ('4.12.txt', 730), ('4.12.txt', 867), ('4.12.txt', 1174), ('4.14.txt', 98), ('4.14.txt', 614), ('4.14.txt', 855), ('4.15.txt', 425), ('4.15.txt', 443), ('4.16.txt', 126), ('4.16.txt', 361), ('4.16.txt', 404), ('4.16.txt', 432), ('4.17.txt', 636), ('4.17.txt', 983), ('4.18.txt', 142), ('4.18.txt', 147), ('4.18.txt', 387), ('4.18.txt', 503), ('4.18.txt', 507), ('4.19.txt', 240), ('4.19.txt', 571), ('4.2.txt', 105), ('4.2.txt', 527), ('4.20.txt', 160), ('4.20.txt', 455), ('4.20.txt', 556), ('4.21.txt', 367), ('4.21.txt', 378), ('4.21.txt', 487), ('4.22.txt', 125), ('4.22.txt', 750), ('4.22.txt', 756), ('4.3.txt', 477), ('4.3.txt', 484), ('4.3.txt', 492), ('4.3.txt', 513), ('4.3.txt', 842), ('4.4.txt', 56), ('4.4.txt', 110), ('4.4.txt', 321), ('4.6.txt', 354), ('4.6.txt', 406), ('4.6.txt', 454), ('4.8.txt', 184), ('4.8.txt', 459), ('4.9.txt', 91), ('4.9.txt', 1005), ('5.1.txt', 120), ('5.1.txt', 333), ('5.1.txt', 389), ('5.1.txt', 530), ('5.1.txt', 974), ('5.10.txt', 473), ('5.10.txt', 619), ('5.10.txt', 634), ('5.12.txt', 151), ('5.12.txt', 315), ('5.12.txt', 460), ('5.12.txt', 597), ('5.12.txt', 655), ('5.12.txt', 889), ('5.13.txt', 325), ('5.13.txt', 428), ('5.13.txt', 502), ('5.13.txt', 522), ('5.13.txt', 964), ('5.15.txt', 125), ('5.15.txt', 279), ('5.15.txt', 553), ('5.15.txt', 558), ('5.17.txt', 160), ('5.18.txt', 404), ('5.18.txt', 466), ('5.19.txt', 567), ('5.19.txt', 586), ('5.19.txt', 644), ('5.19.txt', 922), ('5.2.txt', 778), ('5.2.txt', 849), ('5.21.txt', 602), ('5.22.txt', 219), ('5.22.txt', 224), ('5.3.txt', 1165), ('5.3.txt', 1564), ('5.3.txt', 1895), ('5.3.txt', 2303), ('5.4.txt', 85), ('5.4.txt', 126), ('5.4.txt', 511), ('5.4.txt', 562), ('5.5.txt', 333), ('5.5.txt', 741), ('5.5.txt', 909), ('5.5.txt', 917), ('5.5.txt', 1061), ('5.5.txt', 1238), ('5.7.txt', 166), ('5.8.txt', 857), ('5.9.txt', 325), ('5.9.txt', 327), ('5.9.txt', 963), ('6.1.txt', 82), ('6.1.txt', 264), ('6.1.txt', 771), ('6.10.txt', 101), ('6.11.txt', 114), ('6.12.txt', 491), ('6.13.txt', 119), ('6.13.txt', 363), ('6.13.txt', 409), ('6.14.txt', 356), ('6.14.txt', 429), ('6.15.txt', 432), ('6.15.txt', 559), ('6.16.txt', 938), ('6.17.txt', 425), ('6.18.txt', 113), ('6.18.txt', 230), ('6.18.txt', 541), ('6.18.txt', 1002), ('6.19.txt', 495), ('6.19.txt', 785), ('6.2.txt', 148), ('6.2.txt', 461), ('6.2.txt', 540), ('6.20.txt', 482), ('6.20.txt', 502), ('6.21.txt', 45), ('6.22.txt', 188), ('6.22.txt', 221), ('6.22.txt', 578), ('6.22.txt', 657), ('6.22.txt', 730), ('6.22.txt', 776), ('6.23.txt', 251), ('6.24.txt', 36), ('6.24.txt', 608), ('6.25.txt', 1165), ('6.25.txt', 1564), ('6.25.txt', 1895), ('6.25.txt', 2303), ('6.3.txt', 407), ('6.3.txt', 787), ('6.4.txt', 93), ('6.5.txt', 189), ('6.5.txt', 530), ('6.5.txt', 649), ('6.6.txt', 193), ('6.6.txt', 479), ('6.6.txt', 581), ('6.6.txt', 790), ('6.6.txt', 857), ('6.6.txt', 867), ('6.6.txt', 964), ('6.6.txt', 1068), ('6.6.txt', 1387), ('6.7.txt', 460), ('6.7.txt', 587), ('6.8.txt', 86), ('6.8.txt', 326), ('6.8.txt', 367), ('6.9.txt', 593), ('7.1.txt', 1165), ('7.1.txt', 1564), ('7.1.txt', 1895), ('7.1.txt', 2303), ('7.10.txt', 80), ('7.10.txt', 520), ('7.11.txt', 447), ('7.11.txt', 453), ('7.11.txt', 469), ('7.12.txt', 458), ('7.13.txt', 703), ('7.13.txt', 719), ('7.14.txt', 137), ('7.14.txt', 329), ('7.14.txt', 345), ('7.14.txt', 409), ('7.15.txt', 521), ('7.16.txt', 147), ('7.16.txt', 672), ('7.16.txt', 1023), ('7.17.txt', 451), ('7.18.txt', 745), ('7.18.txt', 999), ('7.18.txt', 1050), ('7.18.txt', 1058), ('7.18.txt', 1073), ('7.18.txt', 1288), ('7.19.txt', 445), ('7.19.txt', 820), ('7.20.txt', 361), ('7.20.txt', 553), ('7.20.txt', 709), ('7.21.txt', 676), ('7.21.txt', 685), ('7.21.txt', 857), ('7.23.txt', 621), ('7.3.txt', 149), ('7.3.txt', 313), ('7.3.txt', 610), ('7.4.txt', 95), ('7.4.txt', 501), ('7.4.txt', 590), ('7.5.txt', 132), ('7.5.txt', 453), ('7.5.txt', 465), ('7.5.txt', 540), ('7.6.txt', 122), ('7.6.txt', 213), ('7.6.txt', 252), ('7.6.txt', 485), ('7.6.txt', 754), ('7.6.txt', 797), ('7.6.txt', 907), ('7.6.txt', 1126), ('7.6.txt', 1172), ('7.7.txt', 414), ('7.7.txt', 453), ('7.8.txt', 117), ('7.8.txt', 143), ('7.8.txt', 151), ('7.9.txt', 165), ('7.9.txt', 482), ('7.9.txt', 525)]\n",
            "Match for image: [('3.16.txt', 191), ('3.16.txt', 636), ('3.16.txt', 654), ('3.16.txt', 1094), ('3.18.txt', 764), ('3.24.txt', 843), ('3.7.txt', 881), ('3.7.txt', 1141), ('3.9.txt', 766), ('4.15.txt', 18), ('5.12.txt', 20), ('5.13.txt', 1197), ('5.4.txt', 13), ('7.18.txt', 15), ('7.18.txt', 267), ('7.2.txt', 234), ('7.21.txt', 1521), ('7.25.txt', 234), ('7.5.txt', 1396), ('7.6.txt', 243), ('7.6.txt', 1013)]\n",
            "Match for montage: [('3.16.txt', 521), ('3.21.txt', 747), ('4.18.txt', 333), ('4.18.txt', 377), ('4.18.txt', 708), ('4.4.txt', 539), ('6.3.txt', 484), ('6.3.txt', 492), ('6.3.txt', 592), ('7.10.txt', 68), ('7.10.txt', 306), ('7.10.txt', 472), ('7.10.txt', 729), ('7.10.txt', 842), ('7.10.txt', 932), ('7.10.txt', 941), ('7.10.txt', 951), ('7.10.txt', 977), ('7.3.txt', 419), ('7.3.txt', 426)]\n",
            "Match for well: [('3.1.txt', 1242), ('3.1.txt', 1431), ('3.1.txt', 1693), ('3.10.txt', 256), ('3.10.txt', 1377), ('3.13.txt', 110), ('3.13.txt', 246), ('3.13.txt', 259), ('3.13.txt', 265), ('3.13.txt', 285), ('3.13.txt', 321), ('3.13.txt', 371), ('3.13.txt', 462), ('3.13.txt', 550), ('3.13.txt', 635), ('3.13.txt', 673), ('3.13.txt', 693), ('3.13.txt', 1018), ('3.13.txt', 1047), ('3.14.txt', 951), ('3.15.txt', 167), ('3.15.txt', 430), ('3.16.txt', 288), ('3.16.txt', 888), ('3.16.txt', 934), ('3.17.txt', 812), ('3.17.txt', 1460), ('3.18.txt', 904), ('3.18.txt', 986), ('3.2.txt', 1332), ('3.2.txt', 1386), ('3.2.txt', 1667), ('3.21.txt', 712), ('3.21.txt', 943), ('3.22.txt', 596), ('3.23.txt', 824), ('3.7.txt', 1057), ('4.1.txt', 649), ('4.10.txt', 669), ('4.12.txt', 509), ('4.12.txt', 667), ('4.12.txt', 1151), ('4.13.txt', 206), ('4.13.txt', 352), ('4.13.txt', 661), ('4.15.txt', 188), ('4.15.txt', 1040), ('4.17.txt', 553), ('4.18.txt', 223), ('4.2.txt', 177), ('4.2.txt', 220), ('4.21.txt', 799), ('4.21.txt', 890), ('4.21.txt', 896), ('4.3.txt', 496), ('4.3.txt', 503), ('4.4.txt', 178), ('4.9.txt', 147), ('4.9.txt', 279), ('5.1.txt', 457), ('5.10.txt', 502), ('5.13.txt', 827), ('5.13.txt', 970), ('5.14.txt', 616), ('5.15.txt', 910), ('5.16.txt', 762), ('5.16.txt', 768), ('5.17.txt', 390), ('5.19.txt', 227), ('5.19.txt', 260), ('5.19.txt', 346), ('5.19.txt', 697), ('5.2.txt', 180), ('5.2.txt', 306), ('5.20.txt', 559), ('5.20.txt', 907), ('5.21.txt', 845), ('5.22.txt', 859), ('5.3.txt', 423), ('5.3.txt', 625), ('5.3.txt', 1636), ('5.4.txt', 612), ('5.4.txt', 621), ('5.5.txt', 206), ('5.5.txt', 1345), ('5.8.txt', 174), ('5.8.txt', 477), ('5.9.txt', 659), ('5.9.txt', 825), ('6.1.txt', 433), ('6.10.txt', 169), ('6.11.txt', 770), ('6.13.txt', 780), ('6.15.txt', 678), ('6.15.txt', 691), ('6.16.txt', 486), ('6.16.txt', 957), ('6.16.txt', 1041), ('6.16.txt', 1045), ('6.18.txt', 265), ('6.18.txt', 546), ('6.18.txt', 689), ('6.18.txt', 1209), ('6.19.txt', 733), ('6.20.txt', 677), ('6.22.txt', 202), ('6.22.txt', 619), ('6.23.txt', 526), ('6.25.txt', 423), ('6.25.txt', 625), ('6.25.txt', 1636), ('6.4.txt', 161), ('6.4.txt', 409), ('6.5.txt', 182), ('6.5.txt', 575), ('6.5.txt', 713), ('6.5.txt', 918), ('6.5.txt', 971), ('6.6.txt', 729), ('6.6.txt', 1381), ('6.6.txt', 1500), ('6.9.txt', 395), ('7.1.txt', 423), ('7.1.txt', 625), ('7.1.txt', 1636), ('7.10.txt', 704), ('7.10.txt', 1414), ('7.11.txt', 403), ('7.11.txt', 666), ('7.13.txt', 1073), ('7.13.txt', 1090), ('7.14.txt', 376), ('7.14.txt', 398), ('7.19.txt', 621), ('7.19.txt', 696), ('7.19.txt', 1002), ('7.19.txt', 1017), ('7.20.txt', 858), ('7.21.txt', 646), ('7.21.txt', 1371), ('7.24.txt', 640), ('7.4.txt', 168), ('7.4.txt', 1050), ('7.5.txt', 121), ('7.6.txt', 571), ('7.6.txt', 606), ('7.7.txt', 921), ('7.7.txt', 937), ('7.7.txt', 1015), ('7.8.txt', 395), ('7.9.txt', 685), ('7.9.txt', 869)]\n",
            "Match for top: [('3.1.txt', 1588), ('3.10.txt', 1245), ('3.10.txt', 1313), ('3.16.txt', 1012), ('3.16.txt', 1035), ('3.16.txt', 1079), ('3.16.txt', 1087), ('3.17.txt', 1212), ('3.17.txt', 1234), ('3.17.txt', 1260), ('3.17.txt', 1346), ('3.17.txt', 1378), ('3.23.txt', 959), ('3.4.txt', 73), ('3.5.txt', 920), ('3.6.txt', 861), ('3.6.txt', 886), ('3.7.txt', 1249), ('3.7.txt', 1286), ('3.8.txt', 414), ('3.8.txt', 1053), ('4.1.txt', 723), ('4.12.txt', 761), ('4.12.txt', 770), ('4.12.txt', 883), ('4.15.txt', 208), ('4.15.txt', 893), ('4.15.txt', 902), ('4.15.txt', 917), ('4.16.txt', 626), ('4.17.txt', 842), ('4.17.txt', 859), ('4.17.txt', 976), ('4.2.txt', 1233), ('4.2.txt', 1243), ('4.22.txt', 1074), ('4.22.txt', 1196), ('4.22.txt', 1217), ('4.3.txt', 850), ('4.6.txt', 390), ('4.8.txt', 533), ('4.9.txt', 860), ('5.1.txt', 1439), ('5.1.txt', 1544), ('5.13.txt', 625), ('5.13.txt', 1090), ('5.13.txt', 1167), ('5.15.txt', 1030), ('5.18.txt', 490), ('5.22.txt', 954), ('5.3.txt', 2124), ('5.4.txt', 742), ('5.9.txt', 1193), ('5.9.txt', 1213), ('5.9.txt', 1379), ('6.1.txt', 47), ('6.14.txt', 636), ('6.15.txt', 66), ('6.16.txt', 830), ('6.19.txt', 686), ('6.19.txt', 702), ('6.19.txt', 719), ('6.19.txt', 787), ('6.2.txt', 177), ('6.2.txt', 585), ('6.2.txt', 746), ('6.20.txt', 959), ('6.21.txt', 196), ('6.23.txt', 496), ('6.24.txt', 276), ('6.25.txt', 2124), ('6.4.txt', 584), ('6.4.txt', 626), ('6.4.txt', 639), ('6.6.txt', 1263), ('6.6.txt', 1508), ('6.9.txt', 571), ('7.1.txt', 2124), ('7.18.txt', 281), ('7.18.txt', 975), ('7.18.txt', 1156), ('7.19.txt', 197), ('7.19.txt', 667), ('7.19.txt', 910), ('7.21.txt', 618), ('7.21.txt', 1156), ('7.21.txt', 1166), ('7.21.txt', 1218), ('7.24.txt', 623), ('7.24.txt', 661), ('7.4.txt', 205), ('7.4.txt', 1235), ('7.4.txt', 1284), ('7.6.txt', 1579), ('7.7.txt', 563), ('7.7.txt', 573), ('7.7.txt', 812), ('7.7.txt', 819), ('7.7.txt', 878), ('7.7.txt', 1104)]\n",
            "Match for arguably: [('3.16.txt', 1105), ('4.12.txt', 778), ('5.9.txt', 1391)]\n",
            "Match for best: [('3.1.txt', 152), ('3.1.txt', 444), ('3.1.txt', 1412), ('3.1.txt', 1540), ('3.1.txt', 1619), ('3.1.txt', 1680), ('3.10.txt', 260), ('3.10.txt', 1030), ('3.10.txt', 1078), ('3.10.txt', 1189), ('3.10.txt', 1197), ('3.10.txt', 1320), ('3.10.txt', 1352), ('3.10.txt', 1364), ('3.10.txt', 1385), ('3.11.txt', 993), ('3.11.txt', 1010), ('3.12.txt', 724), ('3.13.txt', 867), ('3.13.txt', 910), ('3.13.txt', 938), ('3.13.txt', 962), ('3.13.txt', 986), ('3.13.txt', 1050), ('3.14.txt', 1075), ('3.15.txt', 725), ('3.16.txt', 872), ('3.16.txt', 1103), ('3.16.txt', 1106), ('3.17.txt', 233), ('3.17.txt', 586), ('3.17.txt', 1296), ('3.17.txt', 1323), ('3.17.txt', 1333), ('3.17.txt', 1355), ('3.18.txt', 111), ('3.18.txt', 185), ('3.18.txt', 876), ('3.18.txt', 990), ('3.19.txt', 1177), ('3.2.txt', 603), ('3.2.txt', 1157), ('3.2.txt', 1215), ('3.2.txt', 1240), ('3.20.txt', 833), ('3.20.txt', 846), ('3.20.txt', 1493), ('3.21.txt', 468), ('3.21.txt', 720), ('3.22.txt', 229), ('3.22.txt', 850), ('3.22.txt', 860), ('3.22.txt', 904), ('3.23.txt', 132), ('3.23.txt', 924), ('3.24.txt', 982), ('3.24.txt', 1070), ('3.24.txt', 1146), ('3.3.txt', 669), ('3.3.txt', 884), ('3.4.txt', 801), ('3.4.txt', 845), ('3.5.txt', 397), ('3.5.txt', 734), ('3.5.txt', 934), ('3.7.txt', 274), ('3.7.txt', 1266), ('3.7.txt', 1273), ('3.7.txt', 1305), ('3.8.txt', 363), ('3.8.txt', 801), ('3.8.txt', 876), ('3.8.txt', 954), ('3.8.txt', 990), ('3.9.txt', 463), ('3.9.txt', 818), ('4.10.txt', 949), ('4.10.txt', 1022), ('4.11.txt', 402), ('4.12.txt', 185), ('4.12.txt', 754), ('4.12.txt', 799), ('4.12.txt', 808), ('4.12.txt', 842), ('4.12.txt', 870), ('4.12.txt', 961), ('4.12.txt', 1001), ('4.12.txt', 1017), ('4.12.txt', 1040), ('4.12.txt', 1111), ('4.14.txt', 177), ('4.14.txt', 802), ('4.15.txt', 815), ('4.17.txt', 163), ('4.17.txt', 839), ('4.17.txt', 928), ('4.17.txt', 962), ('4.17.txt', 1025), ('4.2.txt', 1191), ('4.2.txt', 1200), ('4.2.txt', 1268), ('4.2.txt', 1598), ('4.20.txt', 669), ('4.20.txt', 724), ('4.22.txt', 1112), ('4.22.txt', 1139), ('4.22.txt', 1348), ('4.22.txt', 1416), ('4.3.txt', 205), ('4.3.txt', 908), ('4.3.txt', 924), ('4.4.txt', 633), ('4.5.txt', 904), ('4.6.txt', 725), ('4.7.txt', 588), ('4.9.txt', 152), ('4.9.txt', 283), ('4.9.txt', 910), ('4.9.txt', 949), ('4.9.txt', 1029), ('4.9.txt', 1048), ('5.1.txt', 1005), ('5.1.txt', 1421), ('5.1.txt', 1556), ('5.10.txt', 898), ('5.12.txt', 800), ('5.12.txt', 803), ('5.12.txt', 858), ('5.13.txt', 916), ('5.13.txt', 993), ('5.13.txt', 1012), ('5.13.txt', 1026), ('5.13.txt', 1038), ('5.13.txt', 1077), ('5.14.txt', 692), ('5.14.txt', 919), ('5.14.txt', 924), ('5.14.txt', 982), ('5.15.txt', 207), ('5.15.txt', 1118), ('5.16.txt', 881), ('5.17.txt', 40), ('5.17.txt', 824), ('5.17.txt', 834), ('5.17.txt', 844), ('5.18.txt', 715), ('5.2.txt', 442), ('5.21.txt', 768), ('5.22.txt', 600), ('5.22.txt', 677), ('5.3.txt', 2156), ('5.3.txt', 2178), ('5.3.txt', 2233), ('5.4.txt', 204), ('5.4.txt', 762), ('5.4.txt', 771), ('5.4.txt', 810), ('5.4.txt', 870), ('5.5.txt', 1424), ('5.5.txt', 1463), ('5.5.txt', 1497), ('5.5.txt', 1513), ('5.5.txt', 1517), ('5.5.txt', 1580), ('5.5.txt', 1582), ('5.7.txt', 203), ('5.7.txt', 750), ('5.8.txt', 960), ('5.9.txt', 207), ('5.9.txt', 1204), ('5.9.txt', 1371), ('5.9.txt', 1392), ('5.9.txt', 1405), ('6.11.txt', 808), ('6.12.txt', 152), ('6.12.txt', 382), ('6.12.txt', 429), ('6.12.txt', 512), ('6.12.txt', 573), ('6.12.txt', 629), ('6.12.txt', 640), ('6.15.txt', 149), ('6.15.txt', 790), ('6.16.txt', 980), ('6.18.txt', 458), ('6.18.txt', 817), ('6.18.txt', 894), ('6.18.txt', 924), ('6.19.txt', 656), ('6.19.txt', 729), ('6.19.txt', 751), ('6.19.txt', 762), ('6.19.txt', 777), ('6.19.txt', 804), ('6.2.txt', 738), ('6.20.txt', 195), ('6.20.txt', 662), ('6.20.txt', 1015), ('6.20.txt', 1025), ('6.20.txt', 1032), ('6.22.txt', 427), ('6.23.txt', 999), ('6.24.txt', 603), ('6.25.txt', 2156), ('6.25.txt', 2178), ('6.25.txt', 2233), ('6.4.txt', 260), ('6.5.txt', 158), ('6.5.txt', 1055), ('6.5.txt', 1068), ('6.6.txt', 1229), ('6.6.txt', 1302), ('6.6.txt', 1314), ('6.6.txt', 1326), ('6.6.txt', 1343), ('6.6.txt', 1371), ('6.6.txt', 1389), ('6.6.txt', 1405), ('6.6.txt', 1415), ('6.6.txt', 1445), ('6.6.txt', 1473), ('6.6.txt', 1490), ('6.7.txt', 193), ('6.7.txt', 918), ('6.7.txt', 930), ('6.8.txt', 216), ('6.8.txt', 243), ('6.8.txt', 654), ('6.9.txt', 588), ('7.1.txt', 2156), ('7.1.txt', 2178), ('7.1.txt', 2233), ('7.11.txt', 737), ('7.11.txt', 765), ('7.12.txt', 640), ('7.12.txt', 800), ('7.12.txt', 833), ('7.12.txt', 858), ('7.13.txt', 152), ('7.13.txt', 699), ('7.13.txt', 975), ('7.13.txt', 1101), ('7.13.txt', 1109), ('7.14.txt', 607), ('7.15.txt', 397), ('7.15.txt', 672), ('7.16.txt', 1223), ('7.16.txt', 1234), ('7.17.txt', 706), ('7.18.txt', 1201), ('7.18.txt', 1228), ('7.19.txt', 934), ('7.19.txt', 943), ('7.19.txt', 959), ('7.19.txt', 991), ('7.19.txt', 1024), ('7.2.txt', 802), ('7.2.txt', 815), ('7.2.txt', 861), ('7.2.txt', 876), ('7.20.txt', 915), ('7.20.txt', 944), ('7.21.txt', 1136), ('7.21.txt', 1202), ('7.21.txt', 1210), ('7.21.txt', 1243), ('7.21.txt', 1263), ('7.21.txt', 1480), ('7.23.txt', 894), ('7.23.txt', 1115), ('7.24.txt', 650), ('7.24.txt', 690), ('7.25.txt', 802), ('7.25.txt', 815), ('7.25.txt', 861), ('7.25.txt', 876), ('7.3.txt', 361), ('7.3.txt', 365), ('7.3.txt', 593), ('7.3.txt', 618), ('7.4.txt', 198), ('7.4.txt', 207), ('7.4.txt', 1237), ('7.5.txt', 1146), ('7.5.txt', 1156), ('7.5.txt', 1167), ('7.5.txt', 1486), ('7.5.txt', 1531), ('7.6.txt', 1520), ('7.6.txt', 1546), ('7.6.txt', 1562), ('7.7.txt', 177), ('7.7.txt', 830), ('7.7.txt', 848), ('7.7.txt', 856), ('7.7.txt', 863), ('7.7.txt', 905), ('7.7.txt', 916), ('7.7.txt', 977), ('7.7.txt', 1045), ('7.7.txt', 1073), ('7.7.txt', 1091), ('7.8.txt', 972), ('7.8.txt', 984), ('7.9.txt', 857), ('7.9.txt', 878)]\n",
            "Match for number: [('3.1.txt', 850), ('3.1.txt', 1868), ('3.11.txt', 1003), ('3.16.txt', 1018), ('3.16.txt', 1096), ('3.17.txt', 1343), ('3.18.txt', 980), ('3.19.txt', 483), ('3.21.txt', 447), ('3.21.txt', 732), ('3.21.txt', 737), ('3.5.txt', 927), ('3.7.txt', 1294), ('3.9.txt', 496), ('4.1.txt', 464), ('4.11.txt', 378), ('4.11.txt', 379), ('4.12.txt', 814), ('4.12.txt', 879), ('4.15.txt', 914), ('4.16.txt', 623), ('4.17.txt', 841), ('4.2.txt', 725), ('4.2.txt', 1240), ('4.2.txt', 1540), ('4.21.txt', 454), ('4.21.txt', 460), ('4.21.txt', 478), ('4.22.txt', 853), ('4.22.txt', 1108), ('4.22.txt', 1357), ('4.7.txt', 585), ('4.9.txt', 425), ('5.1.txt', 1089), ('5.1.txt', 1236), ('5.1.txt', 1242), ('5.10.txt', 874), ('5.11.txt', 730), ('5.13.txt', 702), ('5.13.txt', 983), ('5.13.txt', 1028), ('5.13.txt', 1033), ('5.13.txt', 1049), ('5.13.txt', 1087), ('5.14.txt', 493), ('5.2.txt', 741), ('5.21.txt', 833), ('5.22.txt', 951), ('5.3.txt', 1117), ('5.8.txt', 578), ('5.8.txt', 586), ('6.12.txt', 42), ('6.12.txt', 127), ('6.12.txt', 311), ('6.12.txt', 384), ('6.12.txt', 401), ('6.12.txt', 482), ('6.12.txt', 620), ('6.2.txt', 241), ('6.20.txt', 158), ('6.20.txt', 599), ('6.20.txt', 966), ('6.20.txt', 1030), ('6.22.txt', 1147), ('6.24.txt', 433), ('6.25.txt', 1117), ('6.4.txt', 623), ('6.4.txt', 636), ('6.6.txt', 672), ('6.6.txt', 991), ('7.1.txt', 1117), ('7.10.txt', 439), ('7.10.txt', 1042), ('7.10.txt', 1349), ('7.13.txt', 708), ('7.14.txt', 485), ('7.19.txt', 471), ('7.21.txt', 1215), ('7.23.txt', 556), ('7.6.txt', 1130), ('7.6.txt', 1215), ('7.7.txt', 1101), ('7.8.txt', 632), ('7.8.txt', 665)]\n",
            "Match for humor: [('3.1.txt', 732), ('3.1.txt', 1418), ('3.1.txt', 1505), ('3.10.txt', 1282), ('3.13.txt', 895), ('3.13.txt', 977), ('3.15.txt', 467), ('3.16.txt', 919), ('3.20.txt', 1468), ('3.24.txt', 1043), ('3.3.txt', 722), ('3.3.txt', 822), ('3.5.txt', 1008), ('3.7.txt', 1319), ('4.11.txt', 406), ('4.15.txt', 765), ('4.19.txt', 248), ('4.19.txt', 291), ('5.1.txt', 262), ('5.1.txt', 1469), ('5.10.txt', 604), ('5.11.txt', 772), ('5.12.txt', 163), ('5.12.txt', 419), ('5.13.txt', 653), ('5.14.txt', 947), ('5.7.txt', 614), ('6.10.txt', 693), ('6.14.txt', 298), ('6.14.txt', 381), ('6.16.txt', 445), ('6.20.txt', 50), ('6.22.txt', 1315), ('6.6.txt', 736), ('6.6.txt', 757), ('6.6.txt', 1280), ('7.10.txt', 506), ('7.14.txt', 390), ('7.17.txt', 519), ('7.18.txt', 636), ('7.4.txt', 292), ('7.5.txt', 1286), ('7.5.txt', 1299)]\n",
            "Match for dollarydoos: [('6.16.txt', 1076), ('6.16.txt', 1084)]\n",
            "Bart Simpson was not found\n",
            "Match for Gordie Howe: [('3.16.txt', 176), ('3.16.txt', 281), ('3.16.txt', 468), ('3.16.txt', 621), ('3.16.txt', 1078), ('3.16.txt', 1093)]\n",
            "Match for recalled: [('3.1.txt', 691), ('3.11.txt', 813), ('3.14.txt', 551), ('3.16.txt', 556), ('3.17.txt', 1438), ('3.19.txt', 361), ('3.7.txt', 957), ('5.1.txt', 836), ('5.16.txt', 815), ('5.19.txt', 916), ('5.8.txt', 536), ('5.8.txt', 624), ('6.11.txt', 766), ('6.2.txt', 562), ('6.3.txt', 138), ('6.3.txt', 563), ('6.3.txt', 573), ('6.4.txt', 560), ('7.18.txt', 787), ('7.2.txt', 629), ('7.21.txt', 1352), ('7.22.txt', 700), ('7.25.txt', 629), ('7.4.txt', 563)]\n",
            "Bart the Lover was not found\n"
          ]
        }
      ]
    },
    {
      "cell_type": "code",
      "source": [],
      "metadata": {
        "id": "jMHP-HpA_PX1"
      },
      "execution_count": 38,
      "outputs": []
    }
  ],
  "metadata": {
    "kernelspec": {
      "display_name": "Python 3",
      "language": "python",
      "name": "python3"
    },
    "language_info": {
      "codemirror_mode": {
        "name": "ipython",
        "version": 3
      },
      "file_extension": ".py",
      "mimetype": "text/x-python",
      "name": "python",
      "nbconvert_exporter": "python",
      "pygments_lexer": "ipython3",
      "version": "3.8.5"
    },
    "colab": {
      "provenance": [],
      "collapsed_sections": [],
      "include_colab_link": true
    }
  },
  "nbformat": 4,
  "nbformat_minor": 0
}